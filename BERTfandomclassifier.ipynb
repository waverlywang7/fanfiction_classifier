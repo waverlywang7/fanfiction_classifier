{
  "nbformat": 4,
  "nbformat_minor": 0,
  "metadata": {
    "colab": {
      "name": "BERTfandomclassifier.ipynb",
      "provenance": [],
      "collapsed_sections": []
    },
    "kernelspec": {
      "name": "python3",
      "display_name": "Python 3"
    },
    "language_info": {
      "name": "python"
    },
    "accelerator": "GPU"
  },
  "cells": [
    {
      "cell_type": "markdown",
      "source": [
        "This code was mostly using this guide as reference\n",
        "https://gist.github.com/analyticsindiamagazine/97f53c3a6ee5f63efea92e4159792f92#file-predicting_news_category_with_bert_in_tensorflow-ipynb"
      ],
      "metadata": {
        "id": "Z7R_s_mB4Sb3"
      }
    },
    {
      "cell_type": "code",
      "source": [
        "%tensorflow_version 1.0.1\n"
      ],
      "metadata": {
        "colab": {
          "base_uri": "https://localhost:8080/"
        },
        "id": "fN8yF9kPi5TG",
        "outputId": "3d38e68a-5ded-4149-8ec9-573ab074a321"
      },
      "execution_count": null,
      "outputs": [
        {
          "output_type": "stream",
          "name": "stdout",
          "text": [
            "`%tensorflow_version` only switches the major version: 1.x or 2.x.\n",
            "You set: `1.0.1`. This will be interpreted as: `1.x`.\n",
            "\n",
            "\n",
            "TensorFlow 1.x selected.\n"
          ]
        }
      ]
    },
    {
      "cell_type": "code",
      "source": [
        "!pip install bert-tensorflow==1.0.1\n"
      ],
      "metadata": {
        "colab": {
          "base_uri": "https://localhost:8080/"
        },
        "id": "SDy8ccYX5-ea",
        "outputId": "23a2b312-2353-4a39-a2d2-fff6a4255489"
      },
      "execution_count": null,
      "outputs": [
        {
          "output_type": "stream",
          "name": "stdout",
          "text": [
            "Requirement already satisfied: bert-tensorflow==1.0.1 in /usr/local/lib/python3.7/dist-packages (1.0.1)\n",
            "Requirement already satisfied: six in /usr/local/lib/python3.7/dist-packages (from bert-tensorflow==1.0.1) (1.15.0)\n"
          ]
        }
      ]
    },
    {
      "cell_type": "code",
      "source": [
        ""
      ],
      "metadata": {
        "id": "8NNuzkcW68EL"
      },
      "execution_count": null,
      "outputs": []
    },
    {
      "cell_type": "code",
      "source": [
        "import tensorflow as tf\n",
        "print(tf.__version__)\n",
        "\n"
      ],
      "metadata": {
        "colab": {
          "base_uri": "https://localhost:8080/"
        },
        "id": "PmA-riSrjGvt",
        "outputId": "3e8b235b-b18a-4eaf-9cd8-23d9c96a8122"
      },
      "execution_count": null,
      "outputs": [
        {
          "output_type": "stream",
          "name": "stdout",
          "text": [
            "1.15.2\n"
          ]
        }
      ]
    },
    {
      "cell_type": "code",
      "execution_count": null,
      "metadata": {
        "id": "809uKgP1Qi8r",
        "colab": {
          "base_uri": "https://localhost:8080/"
        },
        "outputId": "3c44c96a-2325-4844-ab46-c1fb49c9fb7e"
      },
      "outputs": [
        {
          "output_type": "stream",
          "name": "stdout",
          "text": [
            "tensorflow version :  1.15.2\n",
            "tensorflow_hub version :  0.12.0\n"
          ]
        }
      ],
      "source": [
        "import pandas as pd\n",
        "import tensorflow_hub as hub\n",
        "from datetime import datetime\n",
        "from sklearn.model_selection import train_test_split\n",
        "import os\n",
        "\n",
        "print(\"tensorflow version : \", tf.__version__)\n",
        "print(\"tensorflow_hub version : \", hub.__version__)"
      ]
    },
    {
      "cell_type": "code",
      "source": [
        ""
      ],
      "metadata": {
        "id": "PnX8BGJTfEHO"
      },
      "execution_count": null,
      "outputs": []
    },
    {
      "cell_type": "code",
      "source": [
        ""
      ],
      "metadata": {
        "id": "x8deLGREfb-1"
      },
      "execution_count": null,
      "outputs": []
    },
    {
      "cell_type": "code",
      "source": [
        ""
      ],
      "metadata": {
        "id": "v4Ed6wONgfPz"
      },
      "execution_count": null,
      "outputs": []
    },
    {
      "cell_type": "code",
      "source": [
        ""
      ],
      "metadata": {
        "id": "_GZH01UWhpnj"
      },
      "execution_count": null,
      "outputs": []
    },
    {
      "cell_type": "code",
      "source": [
        "#Importing BERT modules\n",
        "import bert\n",
        "from bert import run_classifier\n",
        "from bert import optimization\n",
        "from bert import tokenization\n"
      ],
      "metadata": {
        "id": "v1pdtgHBfHNo",
        "colab": {
          "base_uri": "https://localhost:8080/"
        },
        "outputId": "8e64a484-6014-433f-ac4c-31cc66fa9e05"
      },
      "execution_count": null,
      "outputs": [
        {
          "output_type": "stream",
          "name": "stdout",
          "text": [
            "WARNING:tensorflow:From /usr/local/lib/python3.7/dist-packages/bert/optimization.py:87: The name tf.train.Optimizer is deprecated. Please use tf.compat.v1.train.Optimizer instead.\n",
            "\n"
          ]
        }
      ]
    },
    {
      "cell_type": "code",
      "source": [
        "from google.colab import drive\n",
        "drive.mount(\"/GD\")"
      ],
      "metadata": {
        "colab": {
          "base_uri": "https://localhost:8080/"
        },
        "id": "THDJlGUjtPdm",
        "outputId": "7e95094a-8a7e-44cf-b9b6-921a966e4509"
      },
      "execution_count": null,
      "outputs": [
        {
          "output_type": "stream",
          "name": "stdout",
          "text": [
            "Drive already mounted at /GD; to attempt to forcibly remount, call drive.mount(\"/GD\", force_remount=True).\n"
          ]
        }
      ]
    },
    {
      "cell_type": "code",
      "source": [
        "# Set the output directory for saving model file\n",
        "OUTPUT_DIR = '/GD/My Drive/Colab Notebooks/BERT/bert_fandom_category'\n",
        "\n",
        "#@markdown Whether or not to clear/delete the directory and create a new one\n",
        "DO_DELETE = False #@param {type:\"boolean\"}\n",
        "\n",
        "if DO_DELETE:\n",
        "  try:\n",
        "    tf.gfile.DeleteRecursively(OUTPUT_DIR)\n",
        "  except:\n",
        "    pass\n",
        "\n",
        "tf.gfile.MakeDirs(OUTPUT_DIR)\n",
        "print('***** Model output directory: {} *****'.format(OUTPUT_DIR))"
      ],
      "metadata": {
        "colab": {
          "base_uri": "https://localhost:8080/"
        },
        "id": "Bkj6IjDOnmng",
        "outputId": "4923efa2-de74-43cb-a4cf-32097850e30d"
      },
      "execution_count": null,
      "outputs": [
        {
          "output_type": "stream",
          "name": "stdout",
          "text": [
            "***** Model output directory: /GD/My Drive/Colab Notebooks/BERT/bert_fandom_category *****\n"
          ]
        }
      ]
    },
    {
      "cell_type": "markdown",
      "source": [
        "Loading The Data"
      ],
      "metadata": {
        "id": "67Bwz4r6nu2u"
      }
    },
    {
      "cell_type": "markdown",
      "source": [
        "We will now load the data from a Google Drive directory and will also split the training set in to training and validation sets."
      ],
      "metadata": {
        "id": "iOif25ymn1_v"
      }
    },
    {
      "cell_type": "code",
      "source": [
        "import pandas as pd"
      ],
      "metadata": {
        "id": "w6waz5IMd90M"
      },
      "execution_count": null,
      "outputs": []
    },
    {
      "cell_type": "code",
      "source": [
        "# from google.colab import files\n",
        "# uploaded = files.upload()"
      ],
      "metadata": {
        "id": "TTPnZX0dqp4U"
      },
      "execution_count": null,
      "outputs": []
    },
    {
      "cell_type": "code",
      "source": [
        "df3=pd.read_csv('/GD/My Drive/Colab Notebooks/Fanfiction/rating.csv')"
      ],
      "metadata": {
        "id": "MYHGJa1UeTj9"
      },
      "execution_count": null,
      "outputs": []
    },
    {
      "cell_type": "code",
      "source": [
        "df2=pd.read_csv('/GD/My Drive/Colab Notebooks/Fanfiction/fanficbodies.csv')"
      ],
      "metadata": {
        "id": "0dnuP93Vew-u"
      },
      "execution_count": null,
      "outputs": []
    },
    {
      "cell_type": "code",
      "source": [
        "import io\n",
        "# df2 = pd.read_csv(io.BytesIO(uploaded['fanficbodies.csv']))\n",
        "# Dataset is now stored in a Pandas Dataframe"
      ],
      "metadata": {
        "id": "5VgTjREOvpax"
      },
      "execution_count": null,
      "outputs": []
    },
    {
      "cell_type": "code",
      "source": [
        "# df3 = pd.read_csv(io.BytesIO(uploaded['rating.csv']))"
      ],
      "metadata": {
        "id": "G4UetBY9vsHv"
      },
      "execution_count": null,
      "outputs": []
    },
    {
      "cell_type": "code",
      "source": [
        "# let's read in our flower data...\n",
        "# \n",
        "# for read_csv, use header=0 when row 0 is a header row\n",
        "# \n",
        "train = df2\n",
        "test = df3\n",
        "\n",
        "from sklearn.model_selection import train_test_split\n",
        "\n",
        "train, val =  train_test_split(train, test_size = 0.2, random_state = 100)"
      ],
      "metadata": {
        "id": "UUymPWGBnzR6"
      },
      "execution_count": null,
      "outputs": []
    },
    {
      "cell_type": "markdown",
      "source": [
        "TODO: I want to scrape more fanfics to make a file with only the 4 fandoms the training data is trained on. df3 has like way more than 4 fandoms... "
      ],
      "metadata": {
        "id": "7j-jxaquHxk4"
      }
    },
    {
      "cell_type": "code",
      "source": [
        "#Training set sample\n",
        "train.head(5)"
      ],
      "metadata": {
        "colab": {
          "base_uri": "https://localhost:8080/",
          "height": 733
        },
        "id": "JOTUnGWEx4NR",
        "outputId": "82398137-4070-4c29-c6f4-32a85e7c7c91"
      },
      "execution_count": null,
      "outputs": [
        {
          "output_type": "execute_result",
          "data": {
            "text/plain": [
              "      work_id                                        title  \\\n",
              "278  37723363                           Inverno dei fiori.   \n",
              "6    36187171                        Que chantent les mots   \n",
              "149    552777                                      No Fare   \n",
              "307  38110009                                Unforgettable   \n",
              "103    187762  and stand there at the edge of my affection   \n",
              "\n",
              "                                 author                 rating       category  \\\n",
              "278  ['pollyna (rainingashonFlorence)']      General Audiences            M/M   \n",
              "6                    ['Maeglin_Surion']                 Mature  Gen, M/M, F/M   \n",
              "149                 ['PrettyArbitrary']  Teen And Up Audiences            Gen   \n",
              "307            ['Savetheflyingmonkeys']  Teen And Up Audiences            F/M   \n",
              "103                      ['coloredink']      General Audiences            M/M   \n",
              "\n",
              "                                                fandom  \\\n",
              "278                          James Bond (Craig Movies)   \n",
              "6    Original Work, Arsene Lupin - Maurice Leblanc,...   \n",
              "149   Sherlock (TV), Sherlock Holmes & Related Fandoms   \n",
              "307                       Harry Potter - J. K. Rowling   \n",
              "103                                      Sherlock (TV)   \n",
              "\n",
              "                                          relationship  \\\n",
              "278                                       James Bond/Q   \n",
              "6    Isidore Beautrelet & Arsene Lupin, Isidore Bea...   \n",
              "149                                                NaN   \n",
              "307                      Hermione Granger/Fred Weasley   \n",
              "103                        Sherlock Holmes/John Watson   \n",
              "\n",
              "                                             character  \\\n",
              "278  Q (James Bond), James Bond, Q's Family (James ...   \n",
              "6         Jim Gordon, Loki (Marvel), Francis Abernathy   \n",
              "149                     John Watson, Cabbie (Sherlock)   \n",
              "307  Hermione Granger, Fred Weasley, Original Femal...   \n",
              "103                       Sherlock Holmes, John Watson   \n",
              "\n",
              "                                       additional tags  language  ...  \\\n",
              "278  Q-centric (James Bond), Thomas is Q's name, Q'...   English  ...   \n",
              "6    Discord: Les defis galactiques, Drabble, Drabb...  Francais  ...   \n",
              "149     Episode: s01e01 A Study in Pink, AU, BAMF!John   English  ...   \n",
              "307  Fluff, Tooth-Rotting Fluff, Songfic, Song Lyri...   English  ...   \n",
              "103  John takes a while to catch on, Sherlock is lo...   English  ...   \n",
              "\n",
              "    status date words chapters  comments    kudos  bookmarks    hits  \\\n",
              "278  2022-03-14  2187      1/1       2.0     54.0        1.0     590   \n",
              "6    2022-04-01  5100    51/78     341.0     15.0        1.0     689   \n",
              "149  2012-11-02  1996      1/1     320.0   8247.0     2060.0   67286   \n",
              "307  2022-04-02   750      1/1       NaN      6.0        NaN      84   \n",
              "103  2011-04-20  2683      1/1     847.0  20013.0     3216.0  208276   \n",
              "\n",
              "                                             all_kudos  all_bookmarks  \\\n",
              "278  ['TheUltimateOutlaw', 'The58thAcademic', 'Gala...             []   \n",
              "6    ['badwolfkaily', 'Felicia_Vardya', 'Aishi_66',...             []   \n",
              "149  ['its_vrai', 'ItsAlwaysTheQuietOnes', 'Cecicol...             []   \n",
              "307                                     ['Presley161']             []   \n",
              "103  ['concrete', 'fallenxyz', 'ItsAHelmet', 'campi...             []   \n",
              "\n",
              "                                                  body  \n",
              "278  \\n\\n\"Tu insegnami come si fa ad imparare la fe...  \n",
              "6    Original Work * Parfois, il n'est nul besoin d...  \n",
              "149  For a moment, in Piccadilly, John thinks he he...  \n",
              "307  \"Now that we've talked in depth about the expa...  \n",
              "103  \"John.\"\\n\\n\"Mmm?\"  John paused in his shaving ...  \n",
              "\n",
              "[5 rows x 22 columns]"
            ],
            "text/html": [
              "\n",
              "  <div id=\"df-e06671eb-98d4-42c4-bbe2-9b8486705eee\">\n",
              "    <div class=\"colab-df-container\">\n",
              "      <div>\n",
              "<style scoped>\n",
              "    .dataframe tbody tr th:only-of-type {\n",
              "        vertical-align: middle;\n",
              "    }\n",
              "\n",
              "    .dataframe tbody tr th {\n",
              "        vertical-align: top;\n",
              "    }\n",
              "\n",
              "    .dataframe thead th {\n",
              "        text-align: right;\n",
              "    }\n",
              "</style>\n",
              "<table border=\"1\" class=\"dataframe\">\n",
              "  <thead>\n",
              "    <tr style=\"text-align: right;\">\n",
              "      <th></th>\n",
              "      <th>work_id</th>\n",
              "      <th>title</th>\n",
              "      <th>author</th>\n",
              "      <th>rating</th>\n",
              "      <th>category</th>\n",
              "      <th>fandom</th>\n",
              "      <th>relationship</th>\n",
              "      <th>character</th>\n",
              "      <th>additional tags</th>\n",
              "      <th>language</th>\n",
              "      <th>...</th>\n",
              "      <th>status date</th>\n",
              "      <th>words</th>\n",
              "      <th>chapters</th>\n",
              "      <th>comments</th>\n",
              "      <th>kudos</th>\n",
              "      <th>bookmarks</th>\n",
              "      <th>hits</th>\n",
              "      <th>all_kudos</th>\n",
              "      <th>all_bookmarks</th>\n",
              "      <th>body</th>\n",
              "    </tr>\n",
              "  </thead>\n",
              "  <tbody>\n",
              "    <tr>\n",
              "      <th>278</th>\n",
              "      <td>37723363</td>\n",
              "      <td>Inverno dei fiori.</td>\n",
              "      <td>['pollyna (rainingashonFlorence)']</td>\n",
              "      <td>General Audiences</td>\n",
              "      <td>M/M</td>\n",
              "      <td>James Bond (Craig Movies)</td>\n",
              "      <td>James Bond/Q</td>\n",
              "      <td>Q (James Bond), James Bond, Q's Family (James ...</td>\n",
              "      <td>Q-centric (James Bond), Thomas is Q's name, Q'...</td>\n",
              "      <td>English</td>\n",
              "      <td>...</td>\n",
              "      <td>2022-03-14</td>\n",
              "      <td>2187</td>\n",
              "      <td>1/1</td>\n",
              "      <td>2.0</td>\n",
              "      <td>54.0</td>\n",
              "      <td>1.0</td>\n",
              "      <td>590</td>\n",
              "      <td>['TheUltimateOutlaw', 'The58thAcademic', 'Gala...</td>\n",
              "      <td>[]</td>\n",
              "      <td>\\n\\n\"Tu insegnami come si fa ad imparare la fe...</td>\n",
              "    </tr>\n",
              "    <tr>\n",
              "      <th>6</th>\n",
              "      <td>36187171</td>\n",
              "      <td>Que chantent les mots</td>\n",
              "      <td>['Maeglin_Surion']</td>\n",
              "      <td>Mature</td>\n",
              "      <td>Gen, M/M, F/M</td>\n",
              "      <td>Original Work, Arsene Lupin - Maurice Leblanc,...</td>\n",
              "      <td>Isidore Beautrelet &amp; Arsene Lupin, Isidore Bea...</td>\n",
              "      <td>Jim Gordon, Loki (Marvel), Francis Abernathy</td>\n",
              "      <td>Discord: Les defis galactiques, Drabble, Drabb...</td>\n",
              "      <td>Francais</td>\n",
              "      <td>...</td>\n",
              "      <td>2022-04-01</td>\n",
              "      <td>5100</td>\n",
              "      <td>51/78</td>\n",
              "      <td>341.0</td>\n",
              "      <td>15.0</td>\n",
              "      <td>1.0</td>\n",
              "      <td>689</td>\n",
              "      <td>['badwolfkaily', 'Felicia_Vardya', 'Aishi_66',...</td>\n",
              "      <td>[]</td>\n",
              "      <td>Original Work * Parfois, il n'est nul besoin d...</td>\n",
              "    </tr>\n",
              "    <tr>\n",
              "      <th>149</th>\n",
              "      <td>552777</td>\n",
              "      <td>No Fare</td>\n",
              "      <td>['PrettyArbitrary']</td>\n",
              "      <td>Teen And Up Audiences</td>\n",
              "      <td>Gen</td>\n",
              "      <td>Sherlock (TV), Sherlock Holmes &amp; Related Fandoms</td>\n",
              "      <td>NaN</td>\n",
              "      <td>John Watson, Cabbie (Sherlock)</td>\n",
              "      <td>Episode: s01e01 A Study in Pink, AU, BAMF!John</td>\n",
              "      <td>English</td>\n",
              "      <td>...</td>\n",
              "      <td>2012-11-02</td>\n",
              "      <td>1996</td>\n",
              "      <td>1/1</td>\n",
              "      <td>320.0</td>\n",
              "      <td>8247.0</td>\n",
              "      <td>2060.0</td>\n",
              "      <td>67286</td>\n",
              "      <td>['its_vrai', 'ItsAlwaysTheQuietOnes', 'Cecicol...</td>\n",
              "      <td>[]</td>\n",
              "      <td>For a moment, in Piccadilly, John thinks he he...</td>\n",
              "    </tr>\n",
              "    <tr>\n",
              "      <th>307</th>\n",
              "      <td>38110009</td>\n",
              "      <td>Unforgettable</td>\n",
              "      <td>['Savetheflyingmonkeys']</td>\n",
              "      <td>Teen And Up Audiences</td>\n",
              "      <td>F/M</td>\n",
              "      <td>Harry Potter - J. K. Rowling</td>\n",
              "      <td>Hermione Granger/Fred Weasley</td>\n",
              "      <td>Hermione Granger, Fred Weasley, Original Femal...</td>\n",
              "      <td>Fluff, Tooth-Rotting Fluff, Songfic, Song Lyri...</td>\n",
              "      <td>English</td>\n",
              "      <td>...</td>\n",
              "      <td>2022-04-02</td>\n",
              "      <td>750</td>\n",
              "      <td>1/1</td>\n",
              "      <td>NaN</td>\n",
              "      <td>6.0</td>\n",
              "      <td>NaN</td>\n",
              "      <td>84</td>\n",
              "      <td>['Presley161']</td>\n",
              "      <td>[]</td>\n",
              "      <td>\"Now that we've talked in depth about the expa...</td>\n",
              "    </tr>\n",
              "    <tr>\n",
              "      <th>103</th>\n",
              "      <td>187762</td>\n",
              "      <td>and stand there at the edge of my affection</td>\n",
              "      <td>['coloredink']</td>\n",
              "      <td>General Audiences</td>\n",
              "      <td>M/M</td>\n",
              "      <td>Sherlock (TV)</td>\n",
              "      <td>Sherlock Holmes/John Watson</td>\n",
              "      <td>Sherlock Holmes, John Watson</td>\n",
              "      <td>John takes a while to catch on, Sherlock is lo...</td>\n",
              "      <td>English</td>\n",
              "      <td>...</td>\n",
              "      <td>2011-04-20</td>\n",
              "      <td>2683</td>\n",
              "      <td>1/1</td>\n",
              "      <td>847.0</td>\n",
              "      <td>20013.0</td>\n",
              "      <td>3216.0</td>\n",
              "      <td>208276</td>\n",
              "      <td>['concrete', 'fallenxyz', 'ItsAHelmet', 'campi...</td>\n",
              "      <td>[]</td>\n",
              "      <td>\"John.\"\\n\\n\"Mmm?\"  John paused in his shaving ...</td>\n",
              "    </tr>\n",
              "  </tbody>\n",
              "</table>\n",
              "<p>5 rows × 22 columns</p>\n",
              "</div>\n",
              "      <button class=\"colab-df-convert\" onclick=\"convertToInteractive('df-e06671eb-98d4-42c4-bbe2-9b8486705eee')\"\n",
              "              title=\"Convert this dataframe to an interactive table.\"\n",
              "              style=\"display:none;\">\n",
              "        \n",
              "  <svg xmlns=\"http://www.w3.org/2000/svg\" height=\"24px\"viewBox=\"0 0 24 24\"\n",
              "       width=\"24px\">\n",
              "    <path d=\"M0 0h24v24H0V0z\" fill=\"none\"/>\n",
              "    <path d=\"M18.56 5.44l.94 2.06.94-2.06 2.06-.94-2.06-.94-.94-2.06-.94 2.06-2.06.94zm-11 1L8.5 8.5l.94-2.06 2.06-.94-2.06-.94L8.5 2.5l-.94 2.06-2.06.94zm10 10l.94 2.06.94-2.06 2.06-.94-2.06-.94-.94-2.06-.94 2.06-2.06.94z\"/><path d=\"M17.41 7.96l-1.37-1.37c-.4-.4-.92-.59-1.43-.59-.52 0-1.04.2-1.43.59L10.3 9.45l-7.72 7.72c-.78.78-.78 2.05 0 2.83L4 21.41c.39.39.9.59 1.41.59.51 0 1.02-.2 1.41-.59l7.78-7.78 2.81-2.81c.8-.78.8-2.07 0-2.86zM5.41 20L4 18.59l7.72-7.72 1.47 1.35L5.41 20z\"/>\n",
              "  </svg>\n",
              "      </button>\n",
              "      \n",
              "  <style>\n",
              "    .colab-df-container {\n",
              "      display:flex;\n",
              "      flex-wrap:wrap;\n",
              "      gap: 12px;\n",
              "    }\n",
              "\n",
              "    .colab-df-convert {\n",
              "      background-color: #E8F0FE;\n",
              "      border: none;\n",
              "      border-radius: 50%;\n",
              "      cursor: pointer;\n",
              "      display: none;\n",
              "      fill: #1967D2;\n",
              "      height: 32px;\n",
              "      padding: 0 0 0 0;\n",
              "      width: 32px;\n",
              "    }\n",
              "\n",
              "    .colab-df-convert:hover {\n",
              "      background-color: #E2EBFA;\n",
              "      box-shadow: 0px 1px 2px rgba(60, 64, 67, 0.3), 0px 1px 3px 1px rgba(60, 64, 67, 0.15);\n",
              "      fill: #174EA6;\n",
              "    }\n",
              "\n",
              "    [theme=dark] .colab-df-convert {\n",
              "      background-color: #3B4455;\n",
              "      fill: #D2E3FC;\n",
              "    }\n",
              "\n",
              "    [theme=dark] .colab-df-convert:hover {\n",
              "      background-color: #434B5C;\n",
              "      box-shadow: 0px 1px 3px 1px rgba(0, 0, 0, 0.15);\n",
              "      filter: drop-shadow(0px 1px 2px rgba(0, 0, 0, 0.3));\n",
              "      fill: #FFFFFF;\n",
              "    }\n",
              "  </style>\n",
              "\n",
              "      <script>\n",
              "        const buttonEl =\n",
              "          document.querySelector('#df-e06671eb-98d4-42c4-bbe2-9b8486705eee button.colab-df-convert');\n",
              "        buttonEl.style.display =\n",
              "          google.colab.kernel.accessAllowed ? 'block' : 'none';\n",
              "\n",
              "        async function convertToInteractive(key) {\n",
              "          const element = document.querySelector('#df-e06671eb-98d4-42c4-bbe2-9b8486705eee');\n",
              "          const dataTable =\n",
              "            await google.colab.kernel.invokeFunction('convertToInteractive',\n",
              "                                                     [key], {});\n",
              "          if (!dataTable) return;\n",
              "\n",
              "          const docLinkHtml = 'Like what you see? Visit the ' +\n",
              "            '<a target=\"_blank\" href=https://colab.research.google.com/notebooks/data_table.ipynb>data table notebook</a>'\n",
              "            + ' to learn more about interactive tables.';\n",
              "          element.innerHTML = '';\n",
              "          dataTable['output_type'] = 'display_data';\n",
              "          await google.colab.output.renderOutput(dataTable, element);\n",
              "          const docLink = document.createElement('div');\n",
              "          docLink.innerHTML = docLinkHtml;\n",
              "          element.appendChild(docLink);\n",
              "        }\n",
              "      </script>\n",
              "    </div>\n",
              "  </div>\n",
              "  "
            ]
          },
          "metadata": {},
          "execution_count": 16
        }
      ]
    },
    {
      "cell_type": "code",
      "source": [
        "#Test set sample\n",
        "test.head()"
      ],
      "metadata": {
        "colab": {
          "base_uri": "https://localhost:8080/",
          "height": 629
        },
        "id": "M2VR79I3x_Ew",
        "outputId": "e787cc83-b659-433a-fe7a-f188e9ec1f3a"
      },
      "execution_count": null,
      "outputs": [
        {
          "output_type": "execute_result",
          "data": {
            "text/plain": [
              "    work_id                                              title  \\\n",
              "0  36043723                         Let's Talk About Dinosaurs   \n",
              "1  37775314                                        Resurrected   \n",
              "2  35885656  Silent Night ~ Christmas Eve with Severus Snap...   \n",
              "3  38222218                                         Flower Day   \n",
              "4  38222215                                          Proximity   \n",
              "\n",
              "                 author             rating category  \\\n",
              "0        ['hihellotya']             Mature      M/M   \n",
              "1  ['BlueClanMarkings']           Explicit      F/M   \n",
              "2        ['Prince_Sev']             Mature      F/M   \n",
              "3   ['ceeloveswriting']  General Audiences      F/M   \n",
              "4              ['Pire']  General Audiences      F/M   \n",
              "\n",
              "                                              fandom  \\\n",
              "0  aekhephuue`nkhrabephuue`n | Bad Buddy: the Ser...   \n",
              "1                                Mass Effect Trilogy   \n",
              "2                       Harry Potter - J. K. Rowling   \n",
              "3  Zhou Shu Hui Zhan  | Jujutsu Kaisen (Manga), Z...   \n",
              "4  Pu nohiroakademia | Boku no Hero Academia | My...   \n",
              "\n",
              "                                        relationship  \\\n",
              "0  Ohm Pawat Chittsawangdee/Nanon Korapat Kirdpan...   \n",
              "1                     Female Shepard/Garrus Vakarian   \n",
              "2  Severus Snape/Reader, Severus Snape/You, Sever...   \n",
              "3  Fushiguro Megumi/Original Female Character(s),...   \n",
              "4  Amajiki Tamaki/Hadou Nejire, Amajiki Tamaki & ...   \n",
              "\n",
              "                                           character  \\\n",
              "0  Ohm Pawat Chittsawangdee, Nanon Korapat Kirdpa...   \n",
              "1  Garrus Vakarian, Tali'Zorah nar Rayya, Miranda...   \n",
              "2                                      Severus Snape   \n",
              "3                                   Fushiguro Megumi   \n",
              "4                       Hadou Nejire, Amajiki Tamaki   \n",
              "\n",
              "                                     additional tags language  ...  \\\n",
              "0  doctor and archaeologists, Romance, I'm Bad At...  English  ...   \n",
              "1  Infiltrator (Mass Effect), Normandy-SR2, Mass ...  English  ...   \n",
              "2  Christmas, Christmas Fluff, Holidays, One Shot...  English  ...   \n",
              "3  Alternate Universe, Reincarnation, Soulmates, ...  English  ...   \n",
              "4  Tamajire, Tamaneji, Nejitama - Freeform, Slow ...  English  ...   \n",
              "\n",
              "  status date   words chapters  comments kudos  bookmarks  hits  \\\n",
              "0  2022-04-07   22412     10/?      25.0  74.0        7.0  1931   \n",
              "1  2022-04-07  127885     15/?      19.0  42.0        4.0   951   \n",
              "2  2022-04-07   13306      8/?      32.0  58.0       10.0  1031   \n",
              "3  2022-04-07    1231      1/1       NaN   NaN        NaN     0   \n",
              "4  2022-04-07    1125      1/1       NaN   NaN        NaN     0   \n",
              "\n",
              "                                           all_kudos  all_bookmarks  \\\n",
              "0  ['Purple_passiflora', 'tazparrow', 'coffeecup7...             []   \n",
              "1  ['Consumeroffanfics', 'lgiu', 'marantonia', 'D...             []   \n",
              "2  ['sunsilverstar18', 'melyllvlol', 'Loyallonewo...             []   \n",
              "3                                                 []             []   \n",
              "4                                                 []             []   \n",
              "\n",
              "                                                body  \n",
              "0  Notes:\\n\\n \\n\\nNyasasaurus Pirringtoni is beli...  \n",
              "1  I opened my eyes and stared at a white ceiling...  \n",
              "2   \\n\\n\\nChristmas. Your favourite time of year....  \n",
              "3  It comes in a split second where their eyes me...  \n",
              "4  He stopped suddenly as he passed the living ro...  \n",
              "\n",
              "[5 rows x 22 columns]"
            ],
            "text/html": [
              "\n",
              "  <div id=\"df-d5254317-7170-40f1-b5eb-0d13d4a44267\">\n",
              "    <div class=\"colab-df-container\">\n",
              "      <div>\n",
              "<style scoped>\n",
              "    .dataframe tbody tr th:only-of-type {\n",
              "        vertical-align: middle;\n",
              "    }\n",
              "\n",
              "    .dataframe tbody tr th {\n",
              "        vertical-align: top;\n",
              "    }\n",
              "\n",
              "    .dataframe thead th {\n",
              "        text-align: right;\n",
              "    }\n",
              "</style>\n",
              "<table border=\"1\" class=\"dataframe\">\n",
              "  <thead>\n",
              "    <tr style=\"text-align: right;\">\n",
              "      <th></th>\n",
              "      <th>work_id</th>\n",
              "      <th>title</th>\n",
              "      <th>author</th>\n",
              "      <th>rating</th>\n",
              "      <th>category</th>\n",
              "      <th>fandom</th>\n",
              "      <th>relationship</th>\n",
              "      <th>character</th>\n",
              "      <th>additional tags</th>\n",
              "      <th>language</th>\n",
              "      <th>...</th>\n",
              "      <th>status date</th>\n",
              "      <th>words</th>\n",
              "      <th>chapters</th>\n",
              "      <th>comments</th>\n",
              "      <th>kudos</th>\n",
              "      <th>bookmarks</th>\n",
              "      <th>hits</th>\n",
              "      <th>all_kudos</th>\n",
              "      <th>all_bookmarks</th>\n",
              "      <th>body</th>\n",
              "    </tr>\n",
              "  </thead>\n",
              "  <tbody>\n",
              "    <tr>\n",
              "      <th>0</th>\n",
              "      <td>36043723</td>\n",
              "      <td>Let's Talk About Dinosaurs</td>\n",
              "      <td>['hihellotya']</td>\n",
              "      <td>Mature</td>\n",
              "      <td>M/M</td>\n",
              "      <td>aekhephuue`nkhrabephuue`n | Bad Buddy: the Ser...</td>\n",
              "      <td>Ohm Pawat Chittsawangdee/Nanon Korapat Kirdpan...</td>\n",
              "      <td>Ohm Pawat Chittsawangdee, Nanon Korapat Kirdpa...</td>\n",
              "      <td>doctor and archaeologists, Romance, I'm Bad At...</td>\n",
              "      <td>English</td>\n",
              "      <td>...</td>\n",
              "      <td>2022-04-07</td>\n",
              "      <td>22412</td>\n",
              "      <td>10/?</td>\n",
              "      <td>25.0</td>\n",
              "      <td>74.0</td>\n",
              "      <td>7.0</td>\n",
              "      <td>1931</td>\n",
              "      <td>['Purple_passiflora', 'tazparrow', 'coffeecup7...</td>\n",
              "      <td>[]</td>\n",
              "      <td>Notes:\\n\\n \\n\\nNyasasaurus Pirringtoni is beli...</td>\n",
              "    </tr>\n",
              "    <tr>\n",
              "      <th>1</th>\n",
              "      <td>37775314</td>\n",
              "      <td>Resurrected</td>\n",
              "      <td>['BlueClanMarkings']</td>\n",
              "      <td>Explicit</td>\n",
              "      <td>F/M</td>\n",
              "      <td>Mass Effect Trilogy</td>\n",
              "      <td>Female Shepard/Garrus Vakarian</td>\n",
              "      <td>Garrus Vakarian, Tali'Zorah nar Rayya, Miranda...</td>\n",
              "      <td>Infiltrator (Mass Effect), Normandy-SR2, Mass ...</td>\n",
              "      <td>English</td>\n",
              "      <td>...</td>\n",
              "      <td>2022-04-07</td>\n",
              "      <td>127885</td>\n",
              "      <td>15/?</td>\n",
              "      <td>19.0</td>\n",
              "      <td>42.0</td>\n",
              "      <td>4.0</td>\n",
              "      <td>951</td>\n",
              "      <td>['Consumeroffanfics', 'lgiu', 'marantonia', 'D...</td>\n",
              "      <td>[]</td>\n",
              "      <td>I opened my eyes and stared at a white ceiling...</td>\n",
              "    </tr>\n",
              "    <tr>\n",
              "      <th>2</th>\n",
              "      <td>35885656</td>\n",
              "      <td>Silent Night ~ Christmas Eve with Severus Snap...</td>\n",
              "      <td>['Prince_Sev']</td>\n",
              "      <td>Mature</td>\n",
              "      <td>F/M</td>\n",
              "      <td>Harry Potter - J. K. Rowling</td>\n",
              "      <td>Severus Snape/Reader, Severus Snape/You, Sever...</td>\n",
              "      <td>Severus Snape</td>\n",
              "      <td>Christmas, Christmas Fluff, Holidays, One Shot...</td>\n",
              "      <td>English</td>\n",
              "      <td>...</td>\n",
              "      <td>2022-04-07</td>\n",
              "      <td>13306</td>\n",
              "      <td>8/?</td>\n",
              "      <td>32.0</td>\n",
              "      <td>58.0</td>\n",
              "      <td>10.0</td>\n",
              "      <td>1031</td>\n",
              "      <td>['sunsilverstar18', 'melyllvlol', 'Loyallonewo...</td>\n",
              "      <td>[]</td>\n",
              "      <td>\\n\\n\\nChristmas. Your favourite time of year....</td>\n",
              "    </tr>\n",
              "    <tr>\n",
              "      <th>3</th>\n",
              "      <td>38222218</td>\n",
              "      <td>Flower Day</td>\n",
              "      <td>['ceeloveswriting']</td>\n",
              "      <td>General Audiences</td>\n",
              "      <td>F/M</td>\n",
              "      <td>Zhou Shu Hui Zhan  | Jujutsu Kaisen (Manga), Z...</td>\n",
              "      <td>Fushiguro Megumi/Original Female Character(s),...</td>\n",
              "      <td>Fushiguro Megumi</td>\n",
              "      <td>Alternate Universe, Reincarnation, Soulmates, ...</td>\n",
              "      <td>English</td>\n",
              "      <td>...</td>\n",
              "      <td>2022-04-07</td>\n",
              "      <td>1231</td>\n",
              "      <td>1/1</td>\n",
              "      <td>NaN</td>\n",
              "      <td>NaN</td>\n",
              "      <td>NaN</td>\n",
              "      <td>0</td>\n",
              "      <td>[]</td>\n",
              "      <td>[]</td>\n",
              "      <td>It comes in a split second where their eyes me...</td>\n",
              "    </tr>\n",
              "    <tr>\n",
              "      <th>4</th>\n",
              "      <td>38222215</td>\n",
              "      <td>Proximity</td>\n",
              "      <td>['Pire']</td>\n",
              "      <td>General Audiences</td>\n",
              "      <td>F/M</td>\n",
              "      <td>Pu nohiroakademia | Boku no Hero Academia | My...</td>\n",
              "      <td>Amajiki Tamaki/Hadou Nejire, Amajiki Tamaki &amp; ...</td>\n",
              "      <td>Hadou Nejire, Amajiki Tamaki</td>\n",
              "      <td>Tamajire, Tamaneji, Nejitama - Freeform, Slow ...</td>\n",
              "      <td>English</td>\n",
              "      <td>...</td>\n",
              "      <td>2022-04-07</td>\n",
              "      <td>1125</td>\n",
              "      <td>1/1</td>\n",
              "      <td>NaN</td>\n",
              "      <td>NaN</td>\n",
              "      <td>NaN</td>\n",
              "      <td>0</td>\n",
              "      <td>[]</td>\n",
              "      <td>[]</td>\n",
              "      <td>He stopped suddenly as he passed the living ro...</td>\n",
              "    </tr>\n",
              "  </tbody>\n",
              "</table>\n",
              "<p>5 rows × 22 columns</p>\n",
              "</div>\n",
              "      <button class=\"colab-df-convert\" onclick=\"convertToInteractive('df-d5254317-7170-40f1-b5eb-0d13d4a44267')\"\n",
              "              title=\"Convert this dataframe to an interactive table.\"\n",
              "              style=\"display:none;\">\n",
              "        \n",
              "  <svg xmlns=\"http://www.w3.org/2000/svg\" height=\"24px\"viewBox=\"0 0 24 24\"\n",
              "       width=\"24px\">\n",
              "    <path d=\"M0 0h24v24H0V0z\" fill=\"none\"/>\n",
              "    <path d=\"M18.56 5.44l.94 2.06.94-2.06 2.06-.94-2.06-.94-.94-2.06-.94 2.06-2.06.94zm-11 1L8.5 8.5l.94-2.06 2.06-.94-2.06-.94L8.5 2.5l-.94 2.06-2.06.94zm10 10l.94 2.06.94-2.06 2.06-.94-2.06-.94-.94-2.06-.94 2.06-2.06.94z\"/><path d=\"M17.41 7.96l-1.37-1.37c-.4-.4-.92-.59-1.43-.59-.52 0-1.04.2-1.43.59L10.3 9.45l-7.72 7.72c-.78.78-.78 2.05 0 2.83L4 21.41c.39.39.9.59 1.41.59.51 0 1.02-.2 1.41-.59l7.78-7.78 2.81-2.81c.8-.78.8-2.07 0-2.86zM5.41 20L4 18.59l7.72-7.72 1.47 1.35L5.41 20z\"/>\n",
              "  </svg>\n",
              "      </button>\n",
              "      \n",
              "  <style>\n",
              "    .colab-df-container {\n",
              "      display:flex;\n",
              "      flex-wrap:wrap;\n",
              "      gap: 12px;\n",
              "    }\n",
              "\n",
              "    .colab-df-convert {\n",
              "      background-color: #E8F0FE;\n",
              "      border: none;\n",
              "      border-radius: 50%;\n",
              "      cursor: pointer;\n",
              "      display: none;\n",
              "      fill: #1967D2;\n",
              "      height: 32px;\n",
              "      padding: 0 0 0 0;\n",
              "      width: 32px;\n",
              "    }\n",
              "\n",
              "    .colab-df-convert:hover {\n",
              "      background-color: #E2EBFA;\n",
              "      box-shadow: 0px 1px 2px rgba(60, 64, 67, 0.3), 0px 1px 3px 1px rgba(60, 64, 67, 0.15);\n",
              "      fill: #174EA6;\n",
              "    }\n",
              "\n",
              "    [theme=dark] .colab-df-convert {\n",
              "      background-color: #3B4455;\n",
              "      fill: #D2E3FC;\n",
              "    }\n",
              "\n",
              "    [theme=dark] .colab-df-convert:hover {\n",
              "      background-color: #434B5C;\n",
              "      box-shadow: 0px 1px 3px 1px rgba(0, 0, 0, 0.15);\n",
              "      filter: drop-shadow(0px 1px 2px rgba(0, 0, 0, 0.3));\n",
              "      fill: #FFFFFF;\n",
              "    }\n",
              "  </style>\n",
              "\n",
              "      <script>\n",
              "        const buttonEl =\n",
              "          document.querySelector('#df-d5254317-7170-40f1-b5eb-0d13d4a44267 button.colab-df-convert');\n",
              "        buttonEl.style.display =\n",
              "          google.colab.kernel.accessAllowed ? 'block' : 'none';\n",
              "\n",
              "        async function convertToInteractive(key) {\n",
              "          const element = document.querySelector('#df-d5254317-7170-40f1-b5eb-0d13d4a44267');\n",
              "          const dataTable =\n",
              "            await google.colab.kernel.invokeFunction('convertToInteractive',\n",
              "                                                     [key], {});\n",
              "          if (!dataTable) return;\n",
              "\n",
              "          const docLinkHtml = 'Like what you see? Visit the ' +\n",
              "            '<a target=\"_blank\" href=https://colab.research.google.com/notebooks/data_table.ipynb>data table notebook</a>'\n",
              "            + ' to learn more about interactive tables.';\n",
              "          element.innerHTML = '';\n",
              "          dataTable['output_type'] = 'display_data';\n",
              "          await google.colab.output.renderOutput(dataTable, element);\n",
              "          const docLink = document.createElement('div');\n",
              "          docLink.innerHTML = docLinkHtml;\n",
              "          element.appendChild(docLink);\n",
              "        }\n",
              "      </script>\n",
              "    </div>\n",
              "  </div>\n",
              "  "
            ]
          },
          "metadata": {},
          "execution_count": 17
        }
      ]
    },
    {
      "cell_type": "markdown",
      "source": [
        "actually maybe I'll drop the non english stuff at the end..."
      ],
      "metadata": {
        "id": "jfXj96HAnvWN"
      }
    },
    {
      "cell_type": "code",
      "source": [
        "# \\r and \\n\n",
        "df2['Body_Parsed_1'] = df2['body'].str.replace(\"\\r\", \" \")\n",
        "df2['Body_Parsed_1'] = df2['Body_Parsed_1'].str.replace(\"\\n\", \" \")\n",
        "df2['Body_Parsed_1'] = df2['Body_Parsed_1'].str.replace(\"    \", \" \")\n",
        "df2['Body_Parsed_1'] = df2['Body_Parsed_1'].str.replace(\"\\t\", \" \")"
      ],
      "metadata": {
        "id": "wQJbJ1usnvCN"
      },
      "execution_count": null,
      "outputs": []
    },
    {
      "cell_type": "markdown",
      "source": [
        "I need to clean this up a little before I start doing stuff...\n"
      ],
      "metadata": {
        "id": "ppq0bThWyAno"
      }
    },
    {
      "cell_type": "code",
      "source": [
        "## rows with multiple fandoms eliminate? \n",
        "sc = 0\n",
        "mc = 0\n",
        "list_drop = []\n",
        "for i in range(len(df2)):\n",
        "    fandom_list = df2['fandom'][i]\n",
        "    fandom_list = fandom_list.split(\",\")\n",
        "#     print(fandom_list)\n",
        "    if len(fandom_list) == 1:\n",
        "        if fandom_list[0] == 'Six of Crows Series - Leigh Bardugo':\n",
        "            sc+=1\n",
        "        elif fandom_list[0] == 'Sherlock (TV)' :\n",
        "            sc+=1\n",
        "        elif fandom_list[0] == 'James Bond (Craig Movies)' :\n",
        "            sc+=1\n",
        "        elif fandom_list[0] == 'Harry Potter - J. K. Rowling':\n",
        "            sc+=1\n",
        "        else:\n",
        "            list_drop += [i]\n",
        "    else:\n",
        "        #drop the ones that are multifandom \n",
        "        list_drop += [i]\n",
        "        mc+=1\n",
        "print(list_drop)\n",
        "\n",
        "print(f'{sc} that are only one fandom')\n",
        "print(f'{mc} that are multifandom')    \n",
        "    "
      ],
      "metadata": {
        "colab": {
          "base_uri": "https://localhost:8080/"
        },
        "id": "IX1FYFPzmDWZ",
        "outputId": "a3e41d9c-b158-4967-fe85-6867c002233a"
      },
      "execution_count": null,
      "outputs": [
        {
          "output_type": "stream",
          "name": "stdout",
          "text": [
            "[2, 3, 6, 7, 9, 10, 12, 13, 14, 16, 19, 22, 23, 24, 25, 26, 27, 28, 31, 32, 40, 44, 45, 46, 49, 50, 51, 53, 56, 57, 60, 61, 62, 63, 68, 73, 75, 76, 77, 86, 89, 90, 91, 92, 95, 96, 98, 99, 100, 104, 107, 109, 116, 118, 122, 124, 126, 127, 129, 132, 135, 137, 138, 140, 142, 143, 144, 148, 149, 150, 155, 157, 161, 167, 168, 170, 172, 173, 174, 181, 182, 183, 184, 194, 195, 201, 202, 212, 213, 217, 218, 219, 220, 224, 225, 226, 227, 228, 231, 233, 234, 235, 239, 240, 242, 250, 251, 254, 256, 265, 268, 270, 271, 273, 277, 279, 280, 281, 282, 283, 289, 291, 294, 300, 304, 311, 318, 323, 332, 334, 335, 338, 349, 352, 354, 356, 363, 370, 377, 383]\n",
            "246 that are only one fandom\n",
            "138 that are multifandom\n"
          ]
        }
      ]
    },
    {
      "cell_type": "code",
      "source": [
        "##put only english stuff in the thing\n",
        "list1 = []\n",
        "for i in range(0, len(df2)):\n",
        "    if df2['language'][i] != \"English\":\n",
        "        if i not in list_drop:\n",
        "            list1+=[i]\n",
        "print(list1)\n",
        "for value in list1:\n",
        "    list_drop += [value]\n",
        "    \n",
        "print(list_drop)"
      ],
      "metadata": {
        "colab": {
          "base_uri": "https://localhost:8080/"
        },
        "id": "m3-Gcr7enqKA",
        "outputId": "4ae7b901-57c8-4820-a4d7-57ff241cda03"
      },
      "execution_count": null,
      "outputs": [
        {
          "output_type": "stream",
          "name": "stdout",
          "text": [
            "[198, 205, 210, 215, 221, 229, 237, 238, 241, 243, 244, 245, 246, 247, 248, 253, 257, 262, 266, 274, 284, 351, 368, 374, 378, 382]\n",
            "[2, 3, 6, 7, 9, 10, 12, 13, 14, 16, 19, 22, 23, 24, 25, 26, 27, 28, 31, 32, 40, 44, 45, 46, 49, 50, 51, 53, 56, 57, 60, 61, 62, 63, 68, 73, 75, 76, 77, 86, 89, 90, 91, 92, 95, 96, 98, 99, 100, 104, 107, 109, 116, 118, 122, 124, 126, 127, 129, 132, 135, 137, 138, 140, 142, 143, 144, 148, 149, 150, 155, 157, 161, 167, 168, 170, 172, 173, 174, 181, 182, 183, 184, 194, 195, 201, 202, 212, 213, 217, 218, 219, 220, 224, 225, 226, 227, 228, 231, 233, 234, 235, 239, 240, 242, 250, 251, 254, 256, 265, 268, 270, 271, 273, 277, 279, 280, 281, 282, 283, 289, 291, 294, 300, 304, 311, 318, 323, 332, 334, 335, 338, 349, 352, 354, 356, 363, 370, 377, 383, 198, 205, 210, 215, 221, 229, 237, 238, 241, 243, 244, 245, 246, 247, 248, 253, 257, 262, 266, 274, 284, 351, 368, 374, 378, 382]\n"
          ]
        }
      ]
    },
    {
      "cell_type": "code",
      "source": [
        "ROW = 0\n",
        "COLUMN = 1\n",
        "\n",
        "df2_clean = df2.drop(list_drop, axis=ROW)\n",
        "df2_clean"
      ],
      "metadata": {
        "colab": {
          "base_uri": "https://localhost:8080/",
          "height": 1000
        },
        "id": "QULcHMBNovD7",
        "outputId": "dea0e5fb-4c40-4e9c-e4b3-07ed95560149"
      },
      "execution_count": null,
      "outputs": [
        {
          "output_type": "execute_result",
          "data": {
            "text/plain": [
              "      work_id                                              title  \\\n",
              "0    38068225                                 A Hundred Theories   \n",
              "1    38010298  i'll tell you all about it (when i see you again)   \n",
              "4    38066179            save me from myself (don't let me down)   \n",
              "5    37607470          You fell from the tree again, didn't you?   \n",
              "8    37590898                                      You knew them   \n",
              "..        ...                                                ...   \n",
              "379  38106952                               The doe and the stag   \n",
              "380  38096989                            Payback is a real bitch   \n",
              "381  38106892                                 All Mine (and His)   \n",
              "384  31236521                     In the Shadows (Wizarding War)   \n",
              "385  29400924  when your gay wizarding crush thinks she is st...   \n",
              "\n",
              "                       author                 rating    category  \\\n",
              "0        ['genuineformality']      General Audiences         Gen   \n",
              "1         ['people_watching']              Not Rated         NaN   \n",
              "4    ['xxartistintrainingxx']  Teen And Up Audiences         M/M   \n",
              "5            ['AlphaZeroAce']  Teen And Up Audiences         NaN   \n",
              "8            ['AlphaZeroAce']      General Audiences         NaN   \n",
              "..                        ...                    ...         ...   \n",
              "379            ['marlo_zart']  Teen And Up Audiences         F/M   \n",
              "380      ['x_manga_Bleach_x']               Explicit         M/M   \n",
              "381       ['maraudersaffair']               Explicit         F/M   \n",
              "384              ['CL_Avery']                 Mature  F/M, Multi   \n",
              "385      ['galatea_and_acis']  Teen And Up Audiences         F/F   \n",
              "\n",
              "                                  fandom  \\\n",
              "0    Six of Crows Series - Leigh Bardugo   \n",
              "1    Six of Crows Series - Leigh Bardugo   \n",
              "4    Six of Crows Series - Leigh Bardugo   \n",
              "5    Six of Crows Series - Leigh Bardugo   \n",
              "8    Six of Crows Series - Leigh Bardugo   \n",
              "..                                   ...   \n",
              "379         Harry Potter - J. K. Rowling   \n",
              "380         Harry Potter - J. K. Rowling   \n",
              "381         Harry Potter - J. K. Rowling   \n",
              "384         Harry Potter - J. K. Rowling   \n",
              "385         Harry Potter - J. K. Rowling   \n",
              "\n",
              "                                          relationship  \\\n",
              "0                               Kaz Brekker/Inej Ghafa   \n",
              "1    Matthias Helvar/Nina Zenik, Kaz Brekker/Inej G...   \n",
              "4                           Jesper Fahey/Wylan Van Eck   \n",
              "5    Kaz Brekker & Jesper Fahey, Kaz Brekker & Jord...   \n",
              "8    Kaz Brekker & Jesper Fahey, Kaz Brekker & Jord...   \n",
              "..                                                 ...   \n",
              "379                     James Potter/Lily Evans Potter   \n",
              "380  Draco Malfoy/Lucius Malfoy, Harry Potter & Fre...   \n",
              "381  Hermione Granger/Draco Malfoy, Hermione Grange...   \n",
              "384  Sirius Black/Original Female Character(s), Jam...   \n",
              "385  Daphne Greengrass/Harry Potter, Sirius Black/R...   \n",
              "\n",
              "                                             character  \\\n",
              "0                              Kaz Brekker, Inej Ghafa   \n",
              "1    Matthias Helvar, Wylan Van Eck, Inej Ghafa, Ni...   \n",
              "4                          Wylan Van Eck, Jesper Fahey   \n",
              "5           Kaz Brekker, Jordie Rietveld, Jesper Fahey   \n",
              "8    Kaz Brekker, Kaz Brekker's Father, Kaz Brekker...   \n",
              "..                                                 ...   \n",
              "379  James Potter, Lily Evans Potter, Minerva McGon...   \n",
              "380  Harry Potter, Fred Weasley, George Weasley, Lu...   \n",
              "381    Hermione Granger, Draco Malfoy, Charlie Weasley   \n",
              "384  Original Characters, Sirius Black, James Potte...   \n",
              "385  Daphne Greengrass, Harry Potter, Albus Dumbled...   \n",
              "\n",
              "                                       additional tags language  ...   words  \\\n",
              "0    Pre-Canon, Developing Friendships, Kaz Brekker...  English  ...    2091   \n",
              "1    Post-Book 2: Crooked Kingdom, Spoilers for Cro...  English  ...    2656   \n",
              "4    Nightmares, Hurt/Comfort, Angst, Wylan Van Eck...  English  ...    2174   \n",
              "5    Past, Kaz Brekker & Jesper Fahey Friendship, Y...  English  ...    2989   \n",
              "8    Character Death, Jordie Rietveld Lives, Big Br...  English  ...    5391   \n",
              "..                                                 ...      ...  ...     ...   \n",
              "379             Hurt/Comfort, Fluff, Marriage Proposal  English  ...    1600   \n",
              "380  Revenge, Public Humiliation, Insane Harry Pott...  English  ...    2335   \n",
              "381  Threesome - F/M/M, Polyamory, Getting Together...  English  ...    5019   \n",
              "384  Wizarding Wars (Harry Potter), Order of the Ph...  English  ...  134525   \n",
              "385  Female Harry Potter, gay haphne, Good Albus Du...  English  ...   36807   \n",
              "\n",
              "    chapters comments  kudos bookmarks   hits  \\\n",
              "0        1/1     32.0   82.0       4.0    387   \n",
              "1        3/6      4.0   17.0       1.0    258   \n",
              "4        1/1      4.0   36.0       4.0    397   \n",
              "5        4/?      NaN   18.0       2.0    477   \n",
              "8        5/?      3.0   63.0       6.0   1029   \n",
              "..       ...      ...    ...       ...    ...   \n",
              "379      1/?      NaN    3.0       NaN     49   \n",
              "380      1/1      1.0   36.0       7.0    512   \n",
              "381      1/1      2.0   73.0       9.0   1916   \n",
              "384     24/?     36.0   50.0      15.0   1941   \n",
              "385     10/?    113.0  408.0     128.0  13870   \n",
              "\n",
              "                                             all_kudos  all_bookmarks  \\\n",
              "0    ['majeda', 'crackbaby13', 'Starryskyondragonsb...             []   \n",
              "1    ['carry_on_simon', 'Elevatornotworthy_1', 'Oli...             []   \n",
              "4    ['ThatOddNerd', 'bee_slut', 'Reader2005', 'Boo...             []   \n",
              "5    ['Adore_reading', 'bookworm_krisi1', 'StarRose...             []   \n",
              "8    ['FangirlFreak08', 'Catduck', 'dontloseyourhea...             []   \n",
              "..                                                 ...            ...   \n",
              "379                                                 []             []   \n",
              "380  ['Junebug_27', 'FuzzPuzzBuzz', 'shiggyonthebea...             []   \n",
              "381  ['Cookiemom14', 'JamesLethe', 'Trichardson', '...             []   \n",
              "384  ['LaInternettuale', 'Darie1_6', 'Lady_Murphyy'...             []   \n",
              "385  ['nichtDerandere', 'kathngll', 'dieforslushie'...             []   \n",
              "\n",
              "                                                  body  \\\n",
              "0    \\n\\nKaz hated a puzzle he couldn't solve, and ...   \n",
              "1    Matthias can barely hear himself think with th...   \n",
              "4    Wylan gasped and thrashed as he struggled to s...   \n",
              "5    \\n\\nKaz was sitting under the tree in the back...   \n",
              "8    \\n\\nWhy did I come here. Kaz thought as Colm w...   \n",
              "..                                                 ...   \n",
              "379  James finds Lily after a distressing letter fr...   \n",
              "380  Harry huffed when he saw the headlines of the ...   \n",
              "381  Hermione wanted a baby. She wanted to be a mot...   \n",
              "384  \\n\\n\\n\\n\\n\\nClaudia opened her eyes and glance...   \n",
              "385  \\n          (See the end of the chapter for  n...   \n",
              "\n",
              "                                         Body_Parsed_1  \n",
              "0      Kaz hated a puzzle he couldn't solve, and he...  \n",
              "1    Matthias can barely hear himself think with th...  \n",
              "4    Wylan gasped and thrashed as he struggled to s...  \n",
              "5      Kaz was sitting under the tree in the backya...  \n",
              "8      Why did I come here. Kaz thought as Colm wen...  \n",
              "..                                                 ...  \n",
              "379  James finds Lily after a distressing letter fr...  \n",
              "380  Harry huffed when he saw the headlines of the ...  \n",
              "381  Hermione wanted a baby. She wanted to be a mot...  \n",
              "384     Claudia opened her eyes and glanced at the ...  \n",
              "385       (See the end of the chapter for  notes.) ...  \n",
              "\n",
              "[220 rows x 23 columns]"
            ],
            "text/html": [
              "\n",
              "  <div id=\"df-6fd21a19-735a-4d3d-b929-1106c5167a7f\">\n",
              "    <div class=\"colab-df-container\">\n",
              "      <div>\n",
              "<style scoped>\n",
              "    .dataframe tbody tr th:only-of-type {\n",
              "        vertical-align: middle;\n",
              "    }\n",
              "\n",
              "    .dataframe tbody tr th {\n",
              "        vertical-align: top;\n",
              "    }\n",
              "\n",
              "    .dataframe thead th {\n",
              "        text-align: right;\n",
              "    }\n",
              "</style>\n",
              "<table border=\"1\" class=\"dataframe\">\n",
              "  <thead>\n",
              "    <tr style=\"text-align: right;\">\n",
              "      <th></th>\n",
              "      <th>work_id</th>\n",
              "      <th>title</th>\n",
              "      <th>author</th>\n",
              "      <th>rating</th>\n",
              "      <th>category</th>\n",
              "      <th>fandom</th>\n",
              "      <th>relationship</th>\n",
              "      <th>character</th>\n",
              "      <th>additional tags</th>\n",
              "      <th>language</th>\n",
              "      <th>...</th>\n",
              "      <th>words</th>\n",
              "      <th>chapters</th>\n",
              "      <th>comments</th>\n",
              "      <th>kudos</th>\n",
              "      <th>bookmarks</th>\n",
              "      <th>hits</th>\n",
              "      <th>all_kudos</th>\n",
              "      <th>all_bookmarks</th>\n",
              "      <th>body</th>\n",
              "      <th>Body_Parsed_1</th>\n",
              "    </tr>\n",
              "  </thead>\n",
              "  <tbody>\n",
              "    <tr>\n",
              "      <th>0</th>\n",
              "      <td>38068225</td>\n",
              "      <td>A Hundred Theories</td>\n",
              "      <td>['genuineformality']</td>\n",
              "      <td>General Audiences</td>\n",
              "      <td>Gen</td>\n",
              "      <td>Six of Crows Series - Leigh Bardugo</td>\n",
              "      <td>Kaz Brekker/Inej Ghafa</td>\n",
              "      <td>Kaz Brekker, Inej Ghafa</td>\n",
              "      <td>Pre-Canon, Developing Friendships, Kaz Brekker...</td>\n",
              "      <td>English</td>\n",
              "      <td>...</td>\n",
              "      <td>2091</td>\n",
              "      <td>1/1</td>\n",
              "      <td>32.0</td>\n",
              "      <td>82.0</td>\n",
              "      <td>4.0</td>\n",
              "      <td>387</td>\n",
              "      <td>['majeda', 'crackbaby13', 'Starryskyondragonsb...</td>\n",
              "      <td>[]</td>\n",
              "      <td>\\n\\nKaz hated a puzzle he couldn't solve, and ...</td>\n",
              "      <td>Kaz hated a puzzle he couldn't solve, and he...</td>\n",
              "    </tr>\n",
              "    <tr>\n",
              "      <th>1</th>\n",
              "      <td>38010298</td>\n",
              "      <td>i'll tell you all about it (when i see you again)</td>\n",
              "      <td>['people_watching']</td>\n",
              "      <td>Not Rated</td>\n",
              "      <td>NaN</td>\n",
              "      <td>Six of Crows Series - Leigh Bardugo</td>\n",
              "      <td>Matthias Helvar/Nina Zenik, Kaz Brekker/Inej G...</td>\n",
              "      <td>Matthias Helvar, Wylan Van Eck, Inej Ghafa, Ni...</td>\n",
              "      <td>Post-Book 2: Crooked Kingdom, Spoilers for Cro...</td>\n",
              "      <td>English</td>\n",
              "      <td>...</td>\n",
              "      <td>2656</td>\n",
              "      <td>3/6</td>\n",
              "      <td>4.0</td>\n",
              "      <td>17.0</td>\n",
              "      <td>1.0</td>\n",
              "      <td>258</td>\n",
              "      <td>['carry_on_simon', 'Elevatornotworthy_1', 'Oli...</td>\n",
              "      <td>[]</td>\n",
              "      <td>Matthias can barely hear himself think with th...</td>\n",
              "      <td>Matthias can barely hear himself think with th...</td>\n",
              "    </tr>\n",
              "    <tr>\n",
              "      <th>4</th>\n",
              "      <td>38066179</td>\n",
              "      <td>save me from myself (don't let me down)</td>\n",
              "      <td>['xxartistintrainingxx']</td>\n",
              "      <td>Teen And Up Audiences</td>\n",
              "      <td>M/M</td>\n",
              "      <td>Six of Crows Series - Leigh Bardugo</td>\n",
              "      <td>Jesper Fahey/Wylan Van Eck</td>\n",
              "      <td>Wylan Van Eck, Jesper Fahey</td>\n",
              "      <td>Nightmares, Hurt/Comfort, Angst, Wylan Van Eck...</td>\n",
              "      <td>English</td>\n",
              "      <td>...</td>\n",
              "      <td>2174</td>\n",
              "      <td>1/1</td>\n",
              "      <td>4.0</td>\n",
              "      <td>36.0</td>\n",
              "      <td>4.0</td>\n",
              "      <td>397</td>\n",
              "      <td>['ThatOddNerd', 'bee_slut', 'Reader2005', 'Boo...</td>\n",
              "      <td>[]</td>\n",
              "      <td>Wylan gasped and thrashed as he struggled to s...</td>\n",
              "      <td>Wylan gasped and thrashed as he struggled to s...</td>\n",
              "    </tr>\n",
              "    <tr>\n",
              "      <th>5</th>\n",
              "      <td>37607470</td>\n",
              "      <td>You fell from the tree again, didn't you?</td>\n",
              "      <td>['AlphaZeroAce']</td>\n",
              "      <td>Teen And Up Audiences</td>\n",
              "      <td>NaN</td>\n",
              "      <td>Six of Crows Series - Leigh Bardugo</td>\n",
              "      <td>Kaz Brekker &amp; Jesper Fahey, Kaz Brekker &amp; Jord...</td>\n",
              "      <td>Kaz Brekker, Jordie Rietveld, Jesper Fahey</td>\n",
              "      <td>Past, Kaz Brekker &amp; Jesper Fahey Friendship, Y...</td>\n",
              "      <td>English</td>\n",
              "      <td>...</td>\n",
              "      <td>2989</td>\n",
              "      <td>4/?</td>\n",
              "      <td>NaN</td>\n",
              "      <td>18.0</td>\n",
              "      <td>2.0</td>\n",
              "      <td>477</td>\n",
              "      <td>['Adore_reading', 'bookworm_krisi1', 'StarRose...</td>\n",
              "      <td>[]</td>\n",
              "      <td>\\n\\nKaz was sitting under the tree in the back...</td>\n",
              "      <td>Kaz was sitting under the tree in the backya...</td>\n",
              "    </tr>\n",
              "    <tr>\n",
              "      <th>8</th>\n",
              "      <td>37590898</td>\n",
              "      <td>You knew them</td>\n",
              "      <td>['AlphaZeroAce']</td>\n",
              "      <td>General Audiences</td>\n",
              "      <td>NaN</td>\n",
              "      <td>Six of Crows Series - Leigh Bardugo</td>\n",
              "      <td>Kaz Brekker &amp; Jesper Fahey, Kaz Brekker &amp; Jord...</td>\n",
              "      <td>Kaz Brekker, Kaz Brekker's Father, Kaz Brekker...</td>\n",
              "      <td>Character Death, Jordie Rietveld Lives, Big Br...</td>\n",
              "      <td>English</td>\n",
              "      <td>...</td>\n",
              "      <td>5391</td>\n",
              "      <td>5/?</td>\n",
              "      <td>3.0</td>\n",
              "      <td>63.0</td>\n",
              "      <td>6.0</td>\n",
              "      <td>1029</td>\n",
              "      <td>['FangirlFreak08', 'Catduck', 'dontloseyourhea...</td>\n",
              "      <td>[]</td>\n",
              "      <td>\\n\\nWhy did I come here. Kaz thought as Colm w...</td>\n",
              "      <td>Why did I come here. Kaz thought as Colm wen...</td>\n",
              "    </tr>\n",
              "    <tr>\n",
              "      <th>...</th>\n",
              "      <td>...</td>\n",
              "      <td>...</td>\n",
              "      <td>...</td>\n",
              "      <td>...</td>\n",
              "      <td>...</td>\n",
              "      <td>...</td>\n",
              "      <td>...</td>\n",
              "      <td>...</td>\n",
              "      <td>...</td>\n",
              "      <td>...</td>\n",
              "      <td>...</td>\n",
              "      <td>...</td>\n",
              "      <td>...</td>\n",
              "      <td>...</td>\n",
              "      <td>...</td>\n",
              "      <td>...</td>\n",
              "      <td>...</td>\n",
              "      <td>...</td>\n",
              "      <td>...</td>\n",
              "      <td>...</td>\n",
              "      <td>...</td>\n",
              "    </tr>\n",
              "    <tr>\n",
              "      <th>379</th>\n",
              "      <td>38106952</td>\n",
              "      <td>The doe and the stag</td>\n",
              "      <td>['marlo_zart']</td>\n",
              "      <td>Teen And Up Audiences</td>\n",
              "      <td>F/M</td>\n",
              "      <td>Harry Potter - J. K. Rowling</td>\n",
              "      <td>James Potter/Lily Evans Potter</td>\n",
              "      <td>James Potter, Lily Evans Potter, Minerva McGon...</td>\n",
              "      <td>Hurt/Comfort, Fluff, Marriage Proposal</td>\n",
              "      <td>English</td>\n",
              "      <td>...</td>\n",
              "      <td>1600</td>\n",
              "      <td>1/?</td>\n",
              "      <td>NaN</td>\n",
              "      <td>3.0</td>\n",
              "      <td>NaN</td>\n",
              "      <td>49</td>\n",
              "      <td>[]</td>\n",
              "      <td>[]</td>\n",
              "      <td>James finds Lily after a distressing letter fr...</td>\n",
              "      <td>James finds Lily after a distressing letter fr...</td>\n",
              "    </tr>\n",
              "    <tr>\n",
              "      <th>380</th>\n",
              "      <td>38096989</td>\n",
              "      <td>Payback is a real bitch</td>\n",
              "      <td>['x_manga_Bleach_x']</td>\n",
              "      <td>Explicit</td>\n",
              "      <td>M/M</td>\n",
              "      <td>Harry Potter - J. K. Rowling</td>\n",
              "      <td>Draco Malfoy/Lucius Malfoy, Harry Potter &amp; Fre...</td>\n",
              "      <td>Harry Potter, Fred Weasley, George Weasley, Lu...</td>\n",
              "      <td>Revenge, Public Humiliation, Insane Harry Pott...</td>\n",
              "      <td>English</td>\n",
              "      <td>...</td>\n",
              "      <td>2335</td>\n",
              "      <td>1/1</td>\n",
              "      <td>1.0</td>\n",
              "      <td>36.0</td>\n",
              "      <td>7.0</td>\n",
              "      <td>512</td>\n",
              "      <td>['Junebug_27', 'FuzzPuzzBuzz', 'shiggyonthebea...</td>\n",
              "      <td>[]</td>\n",
              "      <td>Harry huffed when he saw the headlines of the ...</td>\n",
              "      <td>Harry huffed when he saw the headlines of the ...</td>\n",
              "    </tr>\n",
              "    <tr>\n",
              "      <th>381</th>\n",
              "      <td>38106892</td>\n",
              "      <td>All Mine (and His)</td>\n",
              "      <td>['maraudersaffair']</td>\n",
              "      <td>Explicit</td>\n",
              "      <td>F/M</td>\n",
              "      <td>Harry Potter - J. K. Rowling</td>\n",
              "      <td>Hermione Granger/Draco Malfoy, Hermione Grange...</td>\n",
              "      <td>Hermione Granger, Draco Malfoy, Charlie Weasley</td>\n",
              "      <td>Threesome - F/M/M, Polyamory, Getting Together...</td>\n",
              "      <td>English</td>\n",
              "      <td>...</td>\n",
              "      <td>5019</td>\n",
              "      <td>1/1</td>\n",
              "      <td>2.0</td>\n",
              "      <td>73.0</td>\n",
              "      <td>9.0</td>\n",
              "      <td>1916</td>\n",
              "      <td>['Cookiemom14', 'JamesLethe', 'Trichardson', '...</td>\n",
              "      <td>[]</td>\n",
              "      <td>Hermione wanted a baby. She wanted to be a mot...</td>\n",
              "      <td>Hermione wanted a baby. She wanted to be a mot...</td>\n",
              "    </tr>\n",
              "    <tr>\n",
              "      <th>384</th>\n",
              "      <td>31236521</td>\n",
              "      <td>In the Shadows (Wizarding War)</td>\n",
              "      <td>['CL_Avery']</td>\n",
              "      <td>Mature</td>\n",
              "      <td>F/M, Multi</td>\n",
              "      <td>Harry Potter - J. K. Rowling</td>\n",
              "      <td>Sirius Black/Original Female Character(s), Jam...</td>\n",
              "      <td>Original Characters, Sirius Black, James Potte...</td>\n",
              "      <td>Wizarding Wars (Harry Potter), Order of the Ph...</td>\n",
              "      <td>English</td>\n",
              "      <td>...</td>\n",
              "      <td>134525</td>\n",
              "      <td>24/?</td>\n",
              "      <td>36.0</td>\n",
              "      <td>50.0</td>\n",
              "      <td>15.0</td>\n",
              "      <td>1941</td>\n",
              "      <td>['LaInternettuale', 'Darie1_6', 'Lady_Murphyy'...</td>\n",
              "      <td>[]</td>\n",
              "      <td>\\n\\n\\n\\n\\n\\nClaudia opened her eyes and glance...</td>\n",
              "      <td>Claudia opened her eyes and glanced at the ...</td>\n",
              "    </tr>\n",
              "    <tr>\n",
              "      <th>385</th>\n",
              "      <td>29400924</td>\n",
              "      <td>when your gay wizarding crush thinks she is st...</td>\n",
              "      <td>['galatea_and_acis']</td>\n",
              "      <td>Teen And Up Audiences</td>\n",
              "      <td>F/F</td>\n",
              "      <td>Harry Potter - J. K. Rowling</td>\n",
              "      <td>Daphne Greengrass/Harry Potter, Sirius Black/R...</td>\n",
              "      <td>Daphne Greengrass, Harry Potter, Albus Dumbled...</td>\n",
              "      <td>Female Harry Potter, gay haphne, Good Albus Du...</td>\n",
              "      <td>English</td>\n",
              "      <td>...</td>\n",
              "      <td>36807</td>\n",
              "      <td>10/?</td>\n",
              "      <td>113.0</td>\n",
              "      <td>408.0</td>\n",
              "      <td>128.0</td>\n",
              "      <td>13870</td>\n",
              "      <td>['nichtDerandere', 'kathngll', 'dieforslushie'...</td>\n",
              "      <td>[]</td>\n",
              "      <td>\\n          (See the end of the chapter for  n...</td>\n",
              "      <td>(See the end of the chapter for  notes.) ...</td>\n",
              "    </tr>\n",
              "  </tbody>\n",
              "</table>\n",
              "<p>220 rows × 23 columns</p>\n",
              "</div>\n",
              "      <button class=\"colab-df-convert\" onclick=\"convertToInteractive('df-6fd21a19-735a-4d3d-b929-1106c5167a7f')\"\n",
              "              title=\"Convert this dataframe to an interactive table.\"\n",
              "              style=\"display:none;\">\n",
              "        \n",
              "  <svg xmlns=\"http://www.w3.org/2000/svg\" height=\"24px\"viewBox=\"0 0 24 24\"\n",
              "       width=\"24px\">\n",
              "    <path d=\"M0 0h24v24H0V0z\" fill=\"none\"/>\n",
              "    <path d=\"M18.56 5.44l.94 2.06.94-2.06 2.06-.94-2.06-.94-.94-2.06-.94 2.06-2.06.94zm-11 1L8.5 8.5l.94-2.06 2.06-.94-2.06-.94L8.5 2.5l-.94 2.06-2.06.94zm10 10l.94 2.06.94-2.06 2.06-.94-2.06-.94-.94-2.06-.94 2.06-2.06.94z\"/><path d=\"M17.41 7.96l-1.37-1.37c-.4-.4-.92-.59-1.43-.59-.52 0-1.04.2-1.43.59L10.3 9.45l-7.72 7.72c-.78.78-.78 2.05 0 2.83L4 21.41c.39.39.9.59 1.41.59.51 0 1.02-.2 1.41-.59l7.78-7.78 2.81-2.81c.8-.78.8-2.07 0-2.86zM5.41 20L4 18.59l7.72-7.72 1.47 1.35L5.41 20z\"/>\n",
              "  </svg>\n",
              "      </button>\n",
              "      \n",
              "  <style>\n",
              "    .colab-df-container {\n",
              "      display:flex;\n",
              "      flex-wrap:wrap;\n",
              "      gap: 12px;\n",
              "    }\n",
              "\n",
              "    .colab-df-convert {\n",
              "      background-color: #E8F0FE;\n",
              "      border: none;\n",
              "      border-radius: 50%;\n",
              "      cursor: pointer;\n",
              "      display: none;\n",
              "      fill: #1967D2;\n",
              "      height: 32px;\n",
              "      padding: 0 0 0 0;\n",
              "      width: 32px;\n",
              "    }\n",
              "\n",
              "    .colab-df-convert:hover {\n",
              "      background-color: #E2EBFA;\n",
              "      box-shadow: 0px 1px 2px rgba(60, 64, 67, 0.3), 0px 1px 3px 1px rgba(60, 64, 67, 0.15);\n",
              "      fill: #174EA6;\n",
              "    }\n",
              "\n",
              "    [theme=dark] .colab-df-convert {\n",
              "      background-color: #3B4455;\n",
              "      fill: #D2E3FC;\n",
              "    }\n",
              "\n",
              "    [theme=dark] .colab-df-convert:hover {\n",
              "      background-color: #434B5C;\n",
              "      box-shadow: 0px 1px 3px 1px rgba(0, 0, 0, 0.15);\n",
              "      filter: drop-shadow(0px 1px 2px rgba(0, 0, 0, 0.3));\n",
              "      fill: #FFFFFF;\n",
              "    }\n",
              "  </style>\n",
              "\n",
              "      <script>\n",
              "        const buttonEl =\n",
              "          document.querySelector('#df-6fd21a19-735a-4d3d-b929-1106c5167a7f button.colab-df-convert');\n",
              "        buttonEl.style.display =\n",
              "          google.colab.kernel.accessAllowed ? 'block' : 'none';\n",
              "\n",
              "        async function convertToInteractive(key) {\n",
              "          const element = document.querySelector('#df-6fd21a19-735a-4d3d-b929-1106c5167a7f');\n",
              "          const dataTable =\n",
              "            await google.colab.kernel.invokeFunction('convertToInteractive',\n",
              "                                                     [key], {});\n",
              "          if (!dataTable) return;\n",
              "\n",
              "          const docLinkHtml = 'Like what you see? Visit the ' +\n",
              "            '<a target=\"_blank\" href=https://colab.research.google.com/notebooks/data_table.ipynb>data table notebook</a>'\n",
              "            + ' to learn more about interactive tables.';\n",
              "          element.innerHTML = '';\n",
              "          dataTable['output_type'] = 'display_data';\n",
              "          await google.colab.output.renderOutput(dataTable, element);\n",
              "          const docLink = document.createElement('div');\n",
              "          docLink.innerHTML = docLinkHtml;\n",
              "          element.appendChild(docLink);\n",
              "        }\n",
              "      </script>\n",
              "    </div>\n",
              "  </div>\n",
              "  "
            ]
          },
          "metadata": {},
          "execution_count": 21
        }
      ]
    },
    {
      "cell_type": "code",
      "source": [
        "# ##lets drop also the ... not rated\n",
        "# list2 = []\n",
        "# for i in range(0, len(df2)):\n",
        "#     if df2['rating'][i] == \"Not Rated\":\n",
        "#         if i not in list_drop:\n",
        "#             list2+=[i]\n",
        "# print(list2)\n",
        "# we don't want to do this..."
      ],
      "metadata": {
        "id": "3AIIJuKLo-Ie"
      },
      "execution_count": null,
      "outputs": []
    },
    {
      "cell_type": "code",
      "source": [
        "df2_clean1 = df2_clean\n"
      ],
      "metadata": {
        "id": "ZOVMXhzTpse6"
      },
      "execution_count": null,
      "outputs": []
    },
    {
      "cell_type": "code",
      "source": [
        ""
      ],
      "metadata": {
        "id": "KWCT5W2TqoJm"
      },
      "execution_count": null,
      "outputs": []
    },
    {
      "cell_type": "code",
      "source": [
        "#Features in the dataset\n",
        "train.columns"
      ],
      "metadata": {
        "colab": {
          "base_uri": "https://localhost:8080/"
        },
        "id": "afao1G70qsKD",
        "outputId": "c9295ab3-868e-4368-9b6d-fc5b72b338cf"
      },
      "execution_count": null,
      "outputs": [
        {
          "output_type": "execute_result",
          "data": {
            "text/plain": [
              "Index(['work_id', 'title', 'author', 'rating', 'category', 'fandom',\n",
              "       'relationship', 'character', 'additional tags', 'language', 'published',\n",
              "       'status', 'status date', 'words', 'chapters', 'comments', 'kudos',\n",
              "       'bookmarks', 'hits', 'all_kudos', 'all_bookmarks', 'body'],\n",
              "      dtype='object')"
            ]
          },
          "metadata": {},
          "execution_count": 24
        }
      ]
    },
    {
      "cell_type": "code",
      "source": [
        "fandom_codes = {\n",
        "    'Six of Crows Series - Leigh Bardugo': 0,\n",
        "    'Sherlock (TV)': 1,\n",
        "    'James Bond (Craig Movies)': 2,\n",
        "    'Harry Potter - J. K. Rowling': 3,\n",
        "}"
      ],
      "metadata": {
        "id": "2Ucp1fM4r6Sr"
      },
      "execution_count": null,
      "outputs": []
    },
    {
      "cell_type": "code",
      "source": [
        "list_columns = [\"title\", \"rating\", \"fandom\", \"character\", \"additional tags\", \"body\", \"Body_Parsed_1\"]\n",
        "df2_clean1 = df2_clean1[list_columns]\n"
      ],
      "metadata": {
        "id": "JmUNZbLlsHpV"
      },
      "execution_count": null,
      "outputs": []
    },
    {
      "cell_type": "code",
      "source": [
        "# Category mapping\n",
        "df2_clean1['Fandom_Code'] = df2_clean1['fandom']\n",
        "df2_clean1 = df2_clean1.replace({'Fandom_Code':fandom_codes})\n",
        "df2_clean1"
      ],
      "metadata": {
        "colab": {
          "base_uri": "https://localhost:8080/",
          "height": 1000
        },
        "id": "3FWdhUSzr_nG",
        "outputId": "a36352f3-da61-4ae2-9ea3-b4688efb8cb5"
      },
      "execution_count": null,
      "outputs": [
        {
          "output_type": "stream",
          "name": "stderr",
          "text": [
            "/usr/local/lib/python3.7/dist-packages/ipykernel_launcher.py:2: SettingWithCopyWarning: \n",
            "A value is trying to be set on a copy of a slice from a DataFrame.\n",
            "Try using .loc[row_indexer,col_indexer] = value instead\n",
            "\n",
            "See the caveats in the documentation: https://pandas.pydata.org/pandas-docs/stable/user_guide/indexing.html#returning-a-view-versus-a-copy\n",
            "  \n"
          ]
        },
        {
          "output_type": "execute_result",
          "data": {
            "text/plain": [
              "                                                 title                 rating  \\\n",
              "0                                   A Hundred Theories      General Audiences   \n",
              "1    i'll tell you all about it (when i see you again)              Not Rated   \n",
              "4              save me from myself (don't let me down)  Teen And Up Audiences   \n",
              "5            You fell from the tree again, didn't you?  Teen And Up Audiences   \n",
              "8                                        You knew them      General Audiences   \n",
              "..                                                 ...                    ...   \n",
              "379                               The doe and the stag  Teen And Up Audiences   \n",
              "380                            Payback is a real bitch               Explicit   \n",
              "381                                 All Mine (and His)               Explicit   \n",
              "384                     In the Shadows (Wizarding War)                 Mature   \n",
              "385  when your gay wizarding crush thinks she is st...  Teen And Up Audiences   \n",
              "\n",
              "                                  fandom  \\\n",
              "0    Six of Crows Series - Leigh Bardugo   \n",
              "1    Six of Crows Series - Leigh Bardugo   \n",
              "4    Six of Crows Series - Leigh Bardugo   \n",
              "5    Six of Crows Series - Leigh Bardugo   \n",
              "8    Six of Crows Series - Leigh Bardugo   \n",
              "..                                   ...   \n",
              "379         Harry Potter - J. K. Rowling   \n",
              "380         Harry Potter - J. K. Rowling   \n",
              "381         Harry Potter - J. K. Rowling   \n",
              "384         Harry Potter - J. K. Rowling   \n",
              "385         Harry Potter - J. K. Rowling   \n",
              "\n",
              "                                             character  \\\n",
              "0                              Kaz Brekker, Inej Ghafa   \n",
              "1    Matthias Helvar, Wylan Van Eck, Inej Ghafa, Ni...   \n",
              "4                          Wylan Van Eck, Jesper Fahey   \n",
              "5           Kaz Brekker, Jordie Rietveld, Jesper Fahey   \n",
              "8    Kaz Brekker, Kaz Brekker's Father, Kaz Brekker...   \n",
              "..                                                 ...   \n",
              "379  James Potter, Lily Evans Potter, Minerva McGon...   \n",
              "380  Harry Potter, Fred Weasley, George Weasley, Lu...   \n",
              "381    Hermione Granger, Draco Malfoy, Charlie Weasley   \n",
              "384  Original Characters, Sirius Black, James Potte...   \n",
              "385  Daphne Greengrass, Harry Potter, Albus Dumbled...   \n",
              "\n",
              "                                       additional tags  \\\n",
              "0    Pre-Canon, Developing Friendships, Kaz Brekker...   \n",
              "1    Post-Book 2: Crooked Kingdom, Spoilers for Cro...   \n",
              "4    Nightmares, Hurt/Comfort, Angst, Wylan Van Eck...   \n",
              "5    Past, Kaz Brekker & Jesper Fahey Friendship, Y...   \n",
              "8    Character Death, Jordie Rietveld Lives, Big Br...   \n",
              "..                                                 ...   \n",
              "379             Hurt/Comfort, Fluff, Marriage Proposal   \n",
              "380  Revenge, Public Humiliation, Insane Harry Pott...   \n",
              "381  Threesome - F/M/M, Polyamory, Getting Together...   \n",
              "384  Wizarding Wars (Harry Potter), Order of the Ph...   \n",
              "385  Female Harry Potter, gay haphne, Good Albus Du...   \n",
              "\n",
              "                                                  body  \\\n",
              "0    \\n\\nKaz hated a puzzle he couldn't solve, and ...   \n",
              "1    Matthias can barely hear himself think with th...   \n",
              "4    Wylan gasped and thrashed as he struggled to s...   \n",
              "5    \\n\\nKaz was sitting under the tree in the back...   \n",
              "8    \\n\\nWhy did I come here. Kaz thought as Colm w...   \n",
              "..                                                 ...   \n",
              "379  James finds Lily after a distressing letter fr...   \n",
              "380  Harry huffed when he saw the headlines of the ...   \n",
              "381  Hermione wanted a baby. She wanted to be a mot...   \n",
              "384  \\n\\n\\n\\n\\n\\nClaudia opened her eyes and glance...   \n",
              "385  \\n          (See the end of the chapter for  n...   \n",
              "\n",
              "                                         Body_Parsed_1  Fandom_Code  \n",
              "0      Kaz hated a puzzle he couldn't solve, and he...            0  \n",
              "1    Matthias can barely hear himself think with th...            0  \n",
              "4    Wylan gasped and thrashed as he struggled to s...            0  \n",
              "5      Kaz was sitting under the tree in the backya...            0  \n",
              "8      Why did I come here. Kaz thought as Colm wen...            0  \n",
              "..                                                 ...          ...  \n",
              "379  James finds Lily after a distressing letter fr...            3  \n",
              "380  Harry huffed when he saw the headlines of the ...            3  \n",
              "381  Hermione wanted a baby. She wanted to be a mot...            3  \n",
              "384     Claudia opened her eyes and glanced at the ...            3  \n",
              "385       (See the end of the chapter for  notes.) ...            3  \n",
              "\n",
              "[220 rows x 8 columns]"
            ],
            "text/html": [
              "\n",
              "  <div id=\"df-85809c43-8705-4f44-9a96-fcc6637686de\">\n",
              "    <div class=\"colab-df-container\">\n",
              "      <div>\n",
              "<style scoped>\n",
              "    .dataframe tbody tr th:only-of-type {\n",
              "        vertical-align: middle;\n",
              "    }\n",
              "\n",
              "    .dataframe tbody tr th {\n",
              "        vertical-align: top;\n",
              "    }\n",
              "\n",
              "    .dataframe thead th {\n",
              "        text-align: right;\n",
              "    }\n",
              "</style>\n",
              "<table border=\"1\" class=\"dataframe\">\n",
              "  <thead>\n",
              "    <tr style=\"text-align: right;\">\n",
              "      <th></th>\n",
              "      <th>title</th>\n",
              "      <th>rating</th>\n",
              "      <th>fandom</th>\n",
              "      <th>character</th>\n",
              "      <th>additional tags</th>\n",
              "      <th>body</th>\n",
              "      <th>Body_Parsed_1</th>\n",
              "      <th>Fandom_Code</th>\n",
              "    </tr>\n",
              "  </thead>\n",
              "  <tbody>\n",
              "    <tr>\n",
              "      <th>0</th>\n",
              "      <td>A Hundred Theories</td>\n",
              "      <td>General Audiences</td>\n",
              "      <td>Six of Crows Series - Leigh Bardugo</td>\n",
              "      <td>Kaz Brekker, Inej Ghafa</td>\n",
              "      <td>Pre-Canon, Developing Friendships, Kaz Brekker...</td>\n",
              "      <td>\\n\\nKaz hated a puzzle he couldn't solve, and ...</td>\n",
              "      <td>Kaz hated a puzzle he couldn't solve, and he...</td>\n",
              "      <td>0</td>\n",
              "    </tr>\n",
              "    <tr>\n",
              "      <th>1</th>\n",
              "      <td>i'll tell you all about it (when i see you again)</td>\n",
              "      <td>Not Rated</td>\n",
              "      <td>Six of Crows Series - Leigh Bardugo</td>\n",
              "      <td>Matthias Helvar, Wylan Van Eck, Inej Ghafa, Ni...</td>\n",
              "      <td>Post-Book 2: Crooked Kingdom, Spoilers for Cro...</td>\n",
              "      <td>Matthias can barely hear himself think with th...</td>\n",
              "      <td>Matthias can barely hear himself think with th...</td>\n",
              "      <td>0</td>\n",
              "    </tr>\n",
              "    <tr>\n",
              "      <th>4</th>\n",
              "      <td>save me from myself (don't let me down)</td>\n",
              "      <td>Teen And Up Audiences</td>\n",
              "      <td>Six of Crows Series - Leigh Bardugo</td>\n",
              "      <td>Wylan Van Eck, Jesper Fahey</td>\n",
              "      <td>Nightmares, Hurt/Comfort, Angst, Wylan Van Eck...</td>\n",
              "      <td>Wylan gasped and thrashed as he struggled to s...</td>\n",
              "      <td>Wylan gasped and thrashed as he struggled to s...</td>\n",
              "      <td>0</td>\n",
              "    </tr>\n",
              "    <tr>\n",
              "      <th>5</th>\n",
              "      <td>You fell from the tree again, didn't you?</td>\n",
              "      <td>Teen And Up Audiences</td>\n",
              "      <td>Six of Crows Series - Leigh Bardugo</td>\n",
              "      <td>Kaz Brekker, Jordie Rietveld, Jesper Fahey</td>\n",
              "      <td>Past, Kaz Brekker &amp; Jesper Fahey Friendship, Y...</td>\n",
              "      <td>\\n\\nKaz was sitting under the tree in the back...</td>\n",
              "      <td>Kaz was sitting under the tree in the backya...</td>\n",
              "      <td>0</td>\n",
              "    </tr>\n",
              "    <tr>\n",
              "      <th>8</th>\n",
              "      <td>You knew them</td>\n",
              "      <td>General Audiences</td>\n",
              "      <td>Six of Crows Series - Leigh Bardugo</td>\n",
              "      <td>Kaz Brekker, Kaz Brekker's Father, Kaz Brekker...</td>\n",
              "      <td>Character Death, Jordie Rietveld Lives, Big Br...</td>\n",
              "      <td>\\n\\nWhy did I come here. Kaz thought as Colm w...</td>\n",
              "      <td>Why did I come here. Kaz thought as Colm wen...</td>\n",
              "      <td>0</td>\n",
              "    </tr>\n",
              "    <tr>\n",
              "      <th>...</th>\n",
              "      <td>...</td>\n",
              "      <td>...</td>\n",
              "      <td>...</td>\n",
              "      <td>...</td>\n",
              "      <td>...</td>\n",
              "      <td>...</td>\n",
              "      <td>...</td>\n",
              "      <td>...</td>\n",
              "    </tr>\n",
              "    <tr>\n",
              "      <th>379</th>\n",
              "      <td>The doe and the stag</td>\n",
              "      <td>Teen And Up Audiences</td>\n",
              "      <td>Harry Potter - J. K. Rowling</td>\n",
              "      <td>James Potter, Lily Evans Potter, Minerva McGon...</td>\n",
              "      <td>Hurt/Comfort, Fluff, Marriage Proposal</td>\n",
              "      <td>James finds Lily after a distressing letter fr...</td>\n",
              "      <td>James finds Lily after a distressing letter fr...</td>\n",
              "      <td>3</td>\n",
              "    </tr>\n",
              "    <tr>\n",
              "      <th>380</th>\n",
              "      <td>Payback is a real bitch</td>\n",
              "      <td>Explicit</td>\n",
              "      <td>Harry Potter - J. K. Rowling</td>\n",
              "      <td>Harry Potter, Fred Weasley, George Weasley, Lu...</td>\n",
              "      <td>Revenge, Public Humiliation, Insane Harry Pott...</td>\n",
              "      <td>Harry huffed when he saw the headlines of the ...</td>\n",
              "      <td>Harry huffed when he saw the headlines of the ...</td>\n",
              "      <td>3</td>\n",
              "    </tr>\n",
              "    <tr>\n",
              "      <th>381</th>\n",
              "      <td>All Mine (and His)</td>\n",
              "      <td>Explicit</td>\n",
              "      <td>Harry Potter - J. K. Rowling</td>\n",
              "      <td>Hermione Granger, Draco Malfoy, Charlie Weasley</td>\n",
              "      <td>Threesome - F/M/M, Polyamory, Getting Together...</td>\n",
              "      <td>Hermione wanted a baby. She wanted to be a mot...</td>\n",
              "      <td>Hermione wanted a baby. She wanted to be a mot...</td>\n",
              "      <td>3</td>\n",
              "    </tr>\n",
              "    <tr>\n",
              "      <th>384</th>\n",
              "      <td>In the Shadows (Wizarding War)</td>\n",
              "      <td>Mature</td>\n",
              "      <td>Harry Potter - J. K. Rowling</td>\n",
              "      <td>Original Characters, Sirius Black, James Potte...</td>\n",
              "      <td>Wizarding Wars (Harry Potter), Order of the Ph...</td>\n",
              "      <td>\\n\\n\\n\\n\\n\\nClaudia opened her eyes and glance...</td>\n",
              "      <td>Claudia opened her eyes and glanced at the ...</td>\n",
              "      <td>3</td>\n",
              "    </tr>\n",
              "    <tr>\n",
              "      <th>385</th>\n",
              "      <td>when your gay wizarding crush thinks she is st...</td>\n",
              "      <td>Teen And Up Audiences</td>\n",
              "      <td>Harry Potter - J. K. Rowling</td>\n",
              "      <td>Daphne Greengrass, Harry Potter, Albus Dumbled...</td>\n",
              "      <td>Female Harry Potter, gay haphne, Good Albus Du...</td>\n",
              "      <td>\\n          (See the end of the chapter for  n...</td>\n",
              "      <td>(See the end of the chapter for  notes.) ...</td>\n",
              "      <td>3</td>\n",
              "    </tr>\n",
              "  </tbody>\n",
              "</table>\n",
              "<p>220 rows × 8 columns</p>\n",
              "</div>\n",
              "      <button class=\"colab-df-convert\" onclick=\"convertToInteractive('df-85809c43-8705-4f44-9a96-fcc6637686de')\"\n",
              "              title=\"Convert this dataframe to an interactive table.\"\n",
              "              style=\"display:none;\">\n",
              "        \n",
              "  <svg xmlns=\"http://www.w3.org/2000/svg\" height=\"24px\"viewBox=\"0 0 24 24\"\n",
              "       width=\"24px\">\n",
              "    <path d=\"M0 0h24v24H0V0z\" fill=\"none\"/>\n",
              "    <path d=\"M18.56 5.44l.94 2.06.94-2.06 2.06-.94-2.06-.94-.94-2.06-.94 2.06-2.06.94zm-11 1L8.5 8.5l.94-2.06 2.06-.94-2.06-.94L8.5 2.5l-.94 2.06-2.06.94zm10 10l.94 2.06.94-2.06 2.06-.94-2.06-.94-.94-2.06-.94 2.06-2.06.94z\"/><path d=\"M17.41 7.96l-1.37-1.37c-.4-.4-.92-.59-1.43-.59-.52 0-1.04.2-1.43.59L10.3 9.45l-7.72 7.72c-.78.78-.78 2.05 0 2.83L4 21.41c.39.39.9.59 1.41.59.51 0 1.02-.2 1.41-.59l7.78-7.78 2.81-2.81c.8-.78.8-2.07 0-2.86zM5.41 20L4 18.59l7.72-7.72 1.47 1.35L5.41 20z\"/>\n",
              "  </svg>\n",
              "      </button>\n",
              "      \n",
              "  <style>\n",
              "    .colab-df-container {\n",
              "      display:flex;\n",
              "      flex-wrap:wrap;\n",
              "      gap: 12px;\n",
              "    }\n",
              "\n",
              "    .colab-df-convert {\n",
              "      background-color: #E8F0FE;\n",
              "      border: none;\n",
              "      border-radius: 50%;\n",
              "      cursor: pointer;\n",
              "      display: none;\n",
              "      fill: #1967D2;\n",
              "      height: 32px;\n",
              "      padding: 0 0 0 0;\n",
              "      width: 32px;\n",
              "    }\n",
              "\n",
              "    .colab-df-convert:hover {\n",
              "      background-color: #E2EBFA;\n",
              "      box-shadow: 0px 1px 2px rgba(60, 64, 67, 0.3), 0px 1px 3px 1px rgba(60, 64, 67, 0.15);\n",
              "      fill: #174EA6;\n",
              "    }\n",
              "\n",
              "    [theme=dark] .colab-df-convert {\n",
              "      background-color: #3B4455;\n",
              "      fill: #D2E3FC;\n",
              "    }\n",
              "\n",
              "    [theme=dark] .colab-df-convert:hover {\n",
              "      background-color: #434B5C;\n",
              "      box-shadow: 0px 1px 3px 1px rgba(0, 0, 0, 0.15);\n",
              "      filter: drop-shadow(0px 1px 2px rgba(0, 0, 0, 0.3));\n",
              "      fill: #FFFFFF;\n",
              "    }\n",
              "  </style>\n",
              "\n",
              "      <script>\n",
              "        const buttonEl =\n",
              "          document.querySelector('#df-85809c43-8705-4f44-9a96-fcc6637686de button.colab-df-convert');\n",
              "        buttonEl.style.display =\n",
              "          google.colab.kernel.accessAllowed ? 'block' : 'none';\n",
              "\n",
              "        async function convertToInteractive(key) {\n",
              "          const element = document.querySelector('#df-85809c43-8705-4f44-9a96-fcc6637686de');\n",
              "          const dataTable =\n",
              "            await google.colab.kernel.invokeFunction('convertToInteractive',\n",
              "                                                     [key], {});\n",
              "          if (!dataTable) return;\n",
              "\n",
              "          const docLinkHtml = 'Like what you see? Visit the ' +\n",
              "            '<a target=\"_blank\" href=https://colab.research.google.com/notebooks/data_table.ipynb>data table notebook</a>'\n",
              "            + ' to learn more about interactive tables.';\n",
              "          element.innerHTML = '';\n",
              "          dataTable['output_type'] = 'display_data';\n",
              "          await google.colab.output.renderOutput(dataTable, element);\n",
              "          const docLink = document.createElement('div');\n",
              "          docLink.innerHTML = docLinkHtml;\n",
              "          element.appendChild(docLink);\n",
              "        }\n",
              "      </script>\n",
              "    </div>\n",
              "  </div>\n",
              "  "
            ]
          },
          "metadata": {},
          "execution_count": 27
        }
      ]
    },
    {
      "cell_type": "code",
      "source": [
        "train = df2_clean1\n",
        "train"
      ],
      "metadata": {
        "colab": {
          "base_uri": "https://localhost:8080/",
          "height": 1000
        },
        "id": "UC6vb-Haua0o",
        "outputId": "54c88d5c-4d2f-4309-926a-8ffb204bb6bd"
      },
      "execution_count": null,
      "outputs": [
        {
          "output_type": "execute_result",
          "data": {
            "text/plain": [
              "                                                 title                 rating  \\\n",
              "0                                   A Hundred Theories      General Audiences   \n",
              "1    i'll tell you all about it (when i see you again)              Not Rated   \n",
              "4              save me from myself (don't let me down)  Teen And Up Audiences   \n",
              "5            You fell from the tree again, didn't you?  Teen And Up Audiences   \n",
              "8                                        You knew them      General Audiences   \n",
              "..                                                 ...                    ...   \n",
              "379                               The doe and the stag  Teen And Up Audiences   \n",
              "380                            Payback is a real bitch               Explicit   \n",
              "381                                 All Mine (and His)               Explicit   \n",
              "384                     In the Shadows (Wizarding War)                 Mature   \n",
              "385  when your gay wizarding crush thinks she is st...  Teen And Up Audiences   \n",
              "\n",
              "                                  fandom  \\\n",
              "0    Six of Crows Series - Leigh Bardugo   \n",
              "1    Six of Crows Series - Leigh Bardugo   \n",
              "4    Six of Crows Series - Leigh Bardugo   \n",
              "5    Six of Crows Series - Leigh Bardugo   \n",
              "8    Six of Crows Series - Leigh Bardugo   \n",
              "..                                   ...   \n",
              "379         Harry Potter - J. K. Rowling   \n",
              "380         Harry Potter - J. K. Rowling   \n",
              "381         Harry Potter - J. K. Rowling   \n",
              "384         Harry Potter - J. K. Rowling   \n",
              "385         Harry Potter - J. K. Rowling   \n",
              "\n",
              "                                             character  \\\n",
              "0                              Kaz Brekker, Inej Ghafa   \n",
              "1    Matthias Helvar, Wylan Van Eck, Inej Ghafa, Ni...   \n",
              "4                          Wylan Van Eck, Jesper Fahey   \n",
              "5           Kaz Brekker, Jordie Rietveld, Jesper Fahey   \n",
              "8    Kaz Brekker, Kaz Brekker's Father, Kaz Brekker...   \n",
              "..                                                 ...   \n",
              "379  James Potter, Lily Evans Potter, Minerva McGon...   \n",
              "380  Harry Potter, Fred Weasley, George Weasley, Lu...   \n",
              "381    Hermione Granger, Draco Malfoy, Charlie Weasley   \n",
              "384  Original Characters, Sirius Black, James Potte...   \n",
              "385  Daphne Greengrass, Harry Potter, Albus Dumbled...   \n",
              "\n",
              "                                       additional tags  \\\n",
              "0    Pre-Canon, Developing Friendships, Kaz Brekker...   \n",
              "1    Post-Book 2: Crooked Kingdom, Spoilers for Cro...   \n",
              "4    Nightmares, Hurt/Comfort, Angst, Wylan Van Eck...   \n",
              "5    Past, Kaz Brekker & Jesper Fahey Friendship, Y...   \n",
              "8    Character Death, Jordie Rietveld Lives, Big Br...   \n",
              "..                                                 ...   \n",
              "379             Hurt/Comfort, Fluff, Marriage Proposal   \n",
              "380  Revenge, Public Humiliation, Insane Harry Pott...   \n",
              "381  Threesome - F/M/M, Polyamory, Getting Together...   \n",
              "384  Wizarding Wars (Harry Potter), Order of the Ph...   \n",
              "385  Female Harry Potter, gay haphne, Good Albus Du...   \n",
              "\n",
              "                                                  body  \\\n",
              "0    \\n\\nKaz hated a puzzle he couldn't solve, and ...   \n",
              "1    Matthias can barely hear himself think with th...   \n",
              "4    Wylan gasped and thrashed as he struggled to s...   \n",
              "5    \\n\\nKaz was sitting under the tree in the back...   \n",
              "8    \\n\\nWhy did I come here. Kaz thought as Colm w...   \n",
              "..                                                 ...   \n",
              "379  James finds Lily after a distressing letter fr...   \n",
              "380  Harry huffed when he saw the headlines of the ...   \n",
              "381  Hermione wanted a baby. She wanted to be a mot...   \n",
              "384  \\n\\n\\n\\n\\n\\nClaudia opened her eyes and glance...   \n",
              "385  \\n          (See the end of the chapter for  n...   \n",
              "\n",
              "                                         Body_Parsed_1  Fandom_Code  \n",
              "0      Kaz hated a puzzle he couldn't solve, and he...            0  \n",
              "1    Matthias can barely hear himself think with th...            0  \n",
              "4    Wylan gasped and thrashed as he struggled to s...            0  \n",
              "5      Kaz was sitting under the tree in the backya...            0  \n",
              "8      Why did I come here. Kaz thought as Colm wen...            0  \n",
              "..                                                 ...          ...  \n",
              "379  James finds Lily after a distressing letter fr...            3  \n",
              "380  Harry huffed when he saw the headlines of the ...            3  \n",
              "381  Hermione wanted a baby. She wanted to be a mot...            3  \n",
              "384     Claudia opened her eyes and glanced at the ...            3  \n",
              "385       (See the end of the chapter for  notes.) ...            3  \n",
              "\n",
              "[220 rows x 8 columns]"
            ],
            "text/html": [
              "\n",
              "  <div id=\"df-f90d399f-4102-431e-b3e0-933a8afbcb55\">\n",
              "    <div class=\"colab-df-container\">\n",
              "      <div>\n",
              "<style scoped>\n",
              "    .dataframe tbody tr th:only-of-type {\n",
              "        vertical-align: middle;\n",
              "    }\n",
              "\n",
              "    .dataframe tbody tr th {\n",
              "        vertical-align: top;\n",
              "    }\n",
              "\n",
              "    .dataframe thead th {\n",
              "        text-align: right;\n",
              "    }\n",
              "</style>\n",
              "<table border=\"1\" class=\"dataframe\">\n",
              "  <thead>\n",
              "    <tr style=\"text-align: right;\">\n",
              "      <th></th>\n",
              "      <th>title</th>\n",
              "      <th>rating</th>\n",
              "      <th>fandom</th>\n",
              "      <th>character</th>\n",
              "      <th>additional tags</th>\n",
              "      <th>body</th>\n",
              "      <th>Body_Parsed_1</th>\n",
              "      <th>Fandom_Code</th>\n",
              "    </tr>\n",
              "  </thead>\n",
              "  <tbody>\n",
              "    <tr>\n",
              "      <th>0</th>\n",
              "      <td>A Hundred Theories</td>\n",
              "      <td>General Audiences</td>\n",
              "      <td>Six of Crows Series - Leigh Bardugo</td>\n",
              "      <td>Kaz Brekker, Inej Ghafa</td>\n",
              "      <td>Pre-Canon, Developing Friendships, Kaz Brekker...</td>\n",
              "      <td>\\n\\nKaz hated a puzzle he couldn't solve, and ...</td>\n",
              "      <td>Kaz hated a puzzle he couldn't solve, and he...</td>\n",
              "      <td>0</td>\n",
              "    </tr>\n",
              "    <tr>\n",
              "      <th>1</th>\n",
              "      <td>i'll tell you all about it (when i see you again)</td>\n",
              "      <td>Not Rated</td>\n",
              "      <td>Six of Crows Series - Leigh Bardugo</td>\n",
              "      <td>Matthias Helvar, Wylan Van Eck, Inej Ghafa, Ni...</td>\n",
              "      <td>Post-Book 2: Crooked Kingdom, Spoilers for Cro...</td>\n",
              "      <td>Matthias can barely hear himself think with th...</td>\n",
              "      <td>Matthias can barely hear himself think with th...</td>\n",
              "      <td>0</td>\n",
              "    </tr>\n",
              "    <tr>\n",
              "      <th>4</th>\n",
              "      <td>save me from myself (don't let me down)</td>\n",
              "      <td>Teen And Up Audiences</td>\n",
              "      <td>Six of Crows Series - Leigh Bardugo</td>\n",
              "      <td>Wylan Van Eck, Jesper Fahey</td>\n",
              "      <td>Nightmares, Hurt/Comfort, Angst, Wylan Van Eck...</td>\n",
              "      <td>Wylan gasped and thrashed as he struggled to s...</td>\n",
              "      <td>Wylan gasped and thrashed as he struggled to s...</td>\n",
              "      <td>0</td>\n",
              "    </tr>\n",
              "    <tr>\n",
              "      <th>5</th>\n",
              "      <td>You fell from the tree again, didn't you?</td>\n",
              "      <td>Teen And Up Audiences</td>\n",
              "      <td>Six of Crows Series - Leigh Bardugo</td>\n",
              "      <td>Kaz Brekker, Jordie Rietveld, Jesper Fahey</td>\n",
              "      <td>Past, Kaz Brekker &amp; Jesper Fahey Friendship, Y...</td>\n",
              "      <td>\\n\\nKaz was sitting under the tree in the back...</td>\n",
              "      <td>Kaz was sitting under the tree in the backya...</td>\n",
              "      <td>0</td>\n",
              "    </tr>\n",
              "    <tr>\n",
              "      <th>8</th>\n",
              "      <td>You knew them</td>\n",
              "      <td>General Audiences</td>\n",
              "      <td>Six of Crows Series - Leigh Bardugo</td>\n",
              "      <td>Kaz Brekker, Kaz Brekker's Father, Kaz Brekker...</td>\n",
              "      <td>Character Death, Jordie Rietveld Lives, Big Br...</td>\n",
              "      <td>\\n\\nWhy did I come here. Kaz thought as Colm w...</td>\n",
              "      <td>Why did I come here. Kaz thought as Colm wen...</td>\n",
              "      <td>0</td>\n",
              "    </tr>\n",
              "    <tr>\n",
              "      <th>...</th>\n",
              "      <td>...</td>\n",
              "      <td>...</td>\n",
              "      <td>...</td>\n",
              "      <td>...</td>\n",
              "      <td>...</td>\n",
              "      <td>...</td>\n",
              "      <td>...</td>\n",
              "      <td>...</td>\n",
              "    </tr>\n",
              "    <tr>\n",
              "      <th>379</th>\n",
              "      <td>The doe and the stag</td>\n",
              "      <td>Teen And Up Audiences</td>\n",
              "      <td>Harry Potter - J. K. Rowling</td>\n",
              "      <td>James Potter, Lily Evans Potter, Minerva McGon...</td>\n",
              "      <td>Hurt/Comfort, Fluff, Marriage Proposal</td>\n",
              "      <td>James finds Lily after a distressing letter fr...</td>\n",
              "      <td>James finds Lily after a distressing letter fr...</td>\n",
              "      <td>3</td>\n",
              "    </tr>\n",
              "    <tr>\n",
              "      <th>380</th>\n",
              "      <td>Payback is a real bitch</td>\n",
              "      <td>Explicit</td>\n",
              "      <td>Harry Potter - J. K. Rowling</td>\n",
              "      <td>Harry Potter, Fred Weasley, George Weasley, Lu...</td>\n",
              "      <td>Revenge, Public Humiliation, Insane Harry Pott...</td>\n",
              "      <td>Harry huffed when he saw the headlines of the ...</td>\n",
              "      <td>Harry huffed when he saw the headlines of the ...</td>\n",
              "      <td>3</td>\n",
              "    </tr>\n",
              "    <tr>\n",
              "      <th>381</th>\n",
              "      <td>All Mine (and His)</td>\n",
              "      <td>Explicit</td>\n",
              "      <td>Harry Potter - J. K. Rowling</td>\n",
              "      <td>Hermione Granger, Draco Malfoy, Charlie Weasley</td>\n",
              "      <td>Threesome - F/M/M, Polyamory, Getting Together...</td>\n",
              "      <td>Hermione wanted a baby. She wanted to be a mot...</td>\n",
              "      <td>Hermione wanted a baby. She wanted to be a mot...</td>\n",
              "      <td>3</td>\n",
              "    </tr>\n",
              "    <tr>\n",
              "      <th>384</th>\n",
              "      <td>In the Shadows (Wizarding War)</td>\n",
              "      <td>Mature</td>\n",
              "      <td>Harry Potter - J. K. Rowling</td>\n",
              "      <td>Original Characters, Sirius Black, James Potte...</td>\n",
              "      <td>Wizarding Wars (Harry Potter), Order of the Ph...</td>\n",
              "      <td>\\n\\n\\n\\n\\n\\nClaudia opened her eyes and glance...</td>\n",
              "      <td>Claudia opened her eyes and glanced at the ...</td>\n",
              "      <td>3</td>\n",
              "    </tr>\n",
              "    <tr>\n",
              "      <th>385</th>\n",
              "      <td>when your gay wizarding crush thinks she is st...</td>\n",
              "      <td>Teen And Up Audiences</td>\n",
              "      <td>Harry Potter - J. K. Rowling</td>\n",
              "      <td>Daphne Greengrass, Harry Potter, Albus Dumbled...</td>\n",
              "      <td>Female Harry Potter, gay haphne, Good Albus Du...</td>\n",
              "      <td>\\n          (See the end of the chapter for  n...</td>\n",
              "      <td>(See the end of the chapter for  notes.) ...</td>\n",
              "      <td>3</td>\n",
              "    </tr>\n",
              "  </tbody>\n",
              "</table>\n",
              "<p>220 rows × 8 columns</p>\n",
              "</div>\n",
              "      <button class=\"colab-df-convert\" onclick=\"convertToInteractive('df-f90d399f-4102-431e-b3e0-933a8afbcb55')\"\n",
              "              title=\"Convert this dataframe to an interactive table.\"\n",
              "              style=\"display:none;\">\n",
              "        \n",
              "  <svg xmlns=\"http://www.w3.org/2000/svg\" height=\"24px\"viewBox=\"0 0 24 24\"\n",
              "       width=\"24px\">\n",
              "    <path d=\"M0 0h24v24H0V0z\" fill=\"none\"/>\n",
              "    <path d=\"M18.56 5.44l.94 2.06.94-2.06 2.06-.94-2.06-.94-.94-2.06-.94 2.06-2.06.94zm-11 1L8.5 8.5l.94-2.06 2.06-.94-2.06-.94L8.5 2.5l-.94 2.06-2.06.94zm10 10l.94 2.06.94-2.06 2.06-.94-2.06-.94-.94-2.06-.94 2.06-2.06.94z\"/><path d=\"M17.41 7.96l-1.37-1.37c-.4-.4-.92-.59-1.43-.59-.52 0-1.04.2-1.43.59L10.3 9.45l-7.72 7.72c-.78.78-.78 2.05 0 2.83L4 21.41c.39.39.9.59 1.41.59.51 0 1.02-.2 1.41-.59l7.78-7.78 2.81-2.81c.8-.78.8-2.07 0-2.86zM5.41 20L4 18.59l7.72-7.72 1.47 1.35L5.41 20z\"/>\n",
              "  </svg>\n",
              "      </button>\n",
              "      \n",
              "  <style>\n",
              "    .colab-df-container {\n",
              "      display:flex;\n",
              "      flex-wrap:wrap;\n",
              "      gap: 12px;\n",
              "    }\n",
              "\n",
              "    .colab-df-convert {\n",
              "      background-color: #E8F0FE;\n",
              "      border: none;\n",
              "      border-radius: 50%;\n",
              "      cursor: pointer;\n",
              "      display: none;\n",
              "      fill: #1967D2;\n",
              "      height: 32px;\n",
              "      padding: 0 0 0 0;\n",
              "      width: 32px;\n",
              "    }\n",
              "\n",
              "    .colab-df-convert:hover {\n",
              "      background-color: #E2EBFA;\n",
              "      box-shadow: 0px 1px 2px rgba(60, 64, 67, 0.3), 0px 1px 3px 1px rgba(60, 64, 67, 0.15);\n",
              "      fill: #174EA6;\n",
              "    }\n",
              "\n",
              "    [theme=dark] .colab-df-convert {\n",
              "      background-color: #3B4455;\n",
              "      fill: #D2E3FC;\n",
              "    }\n",
              "\n",
              "    [theme=dark] .colab-df-convert:hover {\n",
              "      background-color: #434B5C;\n",
              "      box-shadow: 0px 1px 3px 1px rgba(0, 0, 0, 0.15);\n",
              "      filter: drop-shadow(0px 1px 2px rgba(0, 0, 0, 0.3));\n",
              "      fill: #FFFFFF;\n",
              "    }\n",
              "  </style>\n",
              "\n",
              "      <script>\n",
              "        const buttonEl =\n",
              "          document.querySelector('#df-f90d399f-4102-431e-b3e0-933a8afbcb55 button.colab-df-convert');\n",
              "        buttonEl.style.display =\n",
              "          google.colab.kernel.accessAllowed ? 'block' : 'none';\n",
              "\n",
              "        async function convertToInteractive(key) {\n",
              "          const element = document.querySelector('#df-f90d399f-4102-431e-b3e0-933a8afbcb55');\n",
              "          const dataTable =\n",
              "            await google.colab.kernel.invokeFunction('convertToInteractive',\n",
              "                                                     [key], {});\n",
              "          if (!dataTable) return;\n",
              "\n",
              "          const docLinkHtml = 'Like what you see? Visit the ' +\n",
              "            '<a target=\"_blank\" href=https://colab.research.google.com/notebooks/data_table.ipynb>data table notebook</a>'\n",
              "            + ' to learn more about interactive tables.';\n",
              "          element.innerHTML = '';\n",
              "          dataTable['output_type'] = 'display_data';\n",
              "          await google.colab.output.renderOutput(dataTable, element);\n",
              "          const docLink = document.createElement('div');\n",
              "          docLink.innerHTML = docLinkHtml;\n",
              "          element.appendChild(docLink);\n",
              "        }\n",
              "      </script>\n",
              "    </div>\n",
              "  </div>\n",
              "  "
            ]
          },
          "metadata": {},
          "execution_count": 28
        }
      ]
    },
    {
      "cell_type": "code",
      "source": [
        "from sklearn.model_selection import train_test_split\n",
        "\n",
        "train, val =  train_test_split(train, test_size = 0.2, random_state = 100)"
      ],
      "metadata": {
        "id": "WY0dP6iEmcYQ"
      },
      "execution_count": null,
      "outputs": []
    },
    {
      "cell_type": "code",
      "source": [
        "train.columns"
      ],
      "metadata": {
        "colab": {
          "base_uri": "https://localhost:8080/"
        },
        "id": "93N6yUGcu0oV",
        "outputId": "e7f24064-6b2b-4447-8039-ca225925ae25"
      },
      "execution_count": null,
      "outputs": [
        {
          "output_type": "execute_result",
          "data": {
            "text/plain": [
              "Index(['title', 'rating', 'fandom', 'character', 'additional tags', 'body',\n",
              "       'Body_Parsed_1', 'Fandom_Code'],\n",
              "      dtype='object')"
            ]
          },
          "metadata": {},
          "execution_count": 30
        }
      ]
    },
    {
      "cell_type": "code",
      "source": [
        "#unique classes\n",
        "train['Fandom_Code'].unique()"
      ],
      "metadata": {
        "colab": {
          "base_uri": "https://localhost:8080/"
        },
        "id": "Hav7YJAnu2WE",
        "outputId": "9542ebe4-ac84-493b-d26f-18dc149cd3d4"
      },
      "execution_count": null,
      "outputs": [
        {
          "output_type": "execute_result",
          "data": {
            "text/plain": [
              "array([3, 2, 0, 1])"
            ]
          },
          "metadata": {},
          "execution_count": 31
        }
      ]
    },
    {
      "cell_type": "code",
      "source": [
        "df_tidy = train"
      ],
      "metadata": {
        "id": "WEVOt3ixv-nl"
      },
      "execution_count": null,
      "outputs": []
    },
    {
      "cell_type": "code",
      "source": [
        "filename = \"fanficbodies.csv\""
      ],
      "metadata": {
        "id": "9D6_EM0vv4ix"
      },
      "execution_count": null,
      "outputs": []
    },
    {
      "cell_type": "code",
      "source": [
        "#\n",
        "# That's it!  Then, and write it out to iris_cleaned.csv\n",
        "\n",
        "# We'll construct the new filename:\n",
        "\n",
        "old_basename = filename[:-4]                      # remove the \".csv\"\n",
        "cleaned_filename = old_basename + \"_cleaned.csv\"  # name-creating\n",
        "print(f\"cleaned_filename is {cleaned_filename}\")\n",
        "\n",
        "# Now, save\n",
        "df_tidy.to_csv(cleaned_filename, index_label=False)  # no \"index\" column..."
      ],
      "metadata": {
        "colab": {
          "base_uri": "https://localhost:8080/"
        },
        "id": "4FYOOAHDvoaM",
        "outputId": "822759e4-2ab9-467c-9cfb-33b2d152d73f"
      },
      "execution_count": null,
      "outputs": [
        {
          "output_type": "stream",
          "name": "stdout",
          "text": [
            "cleaned_filename is fanficbodies_cleaned.csv\n"
          ]
        }
      ]
    },
    {
      "cell_type": "code",
      "source": [
        "df_tidy_reread = pd.read_csv(cleaned_filename)   # encoding=\"utf-8\" et al.\n",
        "print(f\"{filename} : file read into a pandas dataframe.\")\n",
        "df_tidy_reread"
      ],
      "metadata": {
        "colab": {
          "base_uri": "https://localhost:8080/",
          "height": 1000
        },
        "id": "kfh7FMZPwLVD",
        "outputId": "3a7e49e3-6aba-4f21-dc73-9b8c960feb87"
      },
      "execution_count": null,
      "outputs": [
        {
          "output_type": "stream",
          "name": "stdout",
          "text": [
            "fanficbodies.csv : file read into a pandas dataframe.\n"
          ]
        },
        {
          "output_type": "execute_result",
          "data": {
            "text/plain": [
              "                                                 title                 rating  \\\n",
              "316                                         Black Stag                 Mature   \n",
              "296                                     Devil's Helmet              Not Rated   \n",
              "319                                           Sunspots               Explicit   \n",
              "359                                  In Somnis Veritas      General Audiences   \n",
              "272                                            Orpheus               Explicit   \n",
              "..                                                 ...                    ...   \n",
              "159  To Sleep, Perchance to Smother Your Flatmate w...      General Audiences   \n",
              "186                                       Evening Ride               Explicit   \n",
              "121                             Saving Sherlock Holmes                 Mature   \n",
              "48                                         We All Fall              Not Rated   \n",
              "18                                  The Harbour Waters  Teen And Up Audiences   \n",
              "\n",
              "                                  fandom  \\\n",
              "316         Harry Potter - J. K. Rowling   \n",
              "296         Harry Potter - J. K. Rowling   \n",
              "319         Harry Potter - J. K. Rowling   \n",
              "359         Harry Potter - J. K. Rowling   \n",
              "272            James Bond (Craig Movies)   \n",
              "..                                   ...   \n",
              "159                        Sherlock (TV)   \n",
              "186                        Sherlock (TV)   \n",
              "121                        Sherlock (TV)   \n",
              "48   Six of Crows Series - Leigh Bardugo   \n",
              "18   Six of Crows Series - Leigh Bardugo   \n",
              "\n",
              "                                             character  \\\n",
              "316  Regulus Black, James Potter, Sirius Black, Rem...   \n",
              "296                            Tom Riddle, You, Reader   \n",
              "319  Harry Potter, Horcruxes - Character, Tom Riddl...   \n",
              "359  Harry Potter, Severus Snape, Hermione Granger,...   \n",
              "272  Q (James Bond), Raoul Silva | Tiago Rodriguez,...   \n",
              "..                                                 ...   \n",
              "159                       Sherlock Holmes, John Watson   \n",
              "186                       Sherlock Holmes, John Watson   \n",
              "121  Sherlock Holmes, Mycroft Holmes, Mrs. Hudson, ...   \n",
              "48   Kaz Brekker, Inej Ghafa, Nina Zenik, Jesper Fa...   \n",
              "18   Kaz Brekker, Jordie Rietveld, The Crows (Six o...   \n",
              "\n",
              "                                       additional tags  \\\n",
              "316  Jegulus, wolfstar, Canonical Character Death, ...   \n",
              "296                                                NaN   \n",
              "319  Alternate Universe - Canon Divergence, Horcrux...   \n",
              "359                                 Severitus, Sevitus   \n",
              "272  Aftermath of Torture, Past Child Abuse, BAMF Q...   \n",
              "..                                                 ...   \n",
              "159  Johnlock if you want it to be, but works fine ...   \n",
              "186  Groping, Frottage, Humiliation kink, Humiliati...   \n",
              "121                         Teenlock, AU, Schoolboy AU   \n",
              "48   Angst, Hurt/Comfort, Alternate Universe, Dark ...   \n",
              "18   Jordie Rietveld Lives, and it's not pretty mot...   \n",
              "\n",
              "                                                  body  \\\n",
              "316  The lamp leaked a watery orange light over Reg...   \n",
              "296   \\n\\n \\n\\nSlow.\\n\\nEverything was more beautif...   \n",
              "319   \\n\\n \\n\\nHarry watched the Riddles, and the R...   \n",
              "359   \\n\\n                                         ...   \n",
              "272  Recommended Listening: Keep On Loving You // C...   \n",
              "..                                                 ...   \n",
              "159  \"You're not sleeping with me.\"\\n\"Why not? It's...   \n",
              "186  John Watson sighs as he pushes his way into th...   \n",
              "121  Part I\\n\\nChapter One\\n\\n\\nOctober 1987\\n\\n\\nT...   \n",
              "48   It's December 31st and the winter holidays are...   \n",
              "18   \\n\\nKATYA\\n\\n\\n\\n \\n\\n\\nKatya shrunk under the...   \n",
              "\n",
              "                                         Body_Parsed_1  Fandom_Code  \n",
              "316  The lamp leaked a watery orange light over Reg...            3  \n",
              "296     Slow.  Everything was more beautiful when p...            3  \n",
              "319     Harry watched the Riddles, and the Riddles ...            3  \n",
              "359                          \"Let the feast begin!\"...            3  \n",
              "272  Recommended Listening: Keep On Loving You // C...            2  \n",
              "..                                                 ...          ...  \n",
              "159  \"You're not sleeping with me.\" \"Why not? It's ...            1  \n",
              "186  John Watson sighs as he pushes his way into th...            1  \n",
              "121  Part I  Chapter One   October 1987   The thing...            1  \n",
              "48   It's December 31st and the winter holidays are...            0  \n",
              "18     KATYA  Katya shrunk under the unreadable gaz...            0  \n",
              "\n",
              "[176 rows x 8 columns]"
            ],
            "text/html": [
              "\n",
              "  <div id=\"df-7facb68d-d292-4ecc-8f13-1eed87155f1a\">\n",
              "    <div class=\"colab-df-container\">\n",
              "      <div>\n",
              "<style scoped>\n",
              "    .dataframe tbody tr th:only-of-type {\n",
              "        vertical-align: middle;\n",
              "    }\n",
              "\n",
              "    .dataframe tbody tr th {\n",
              "        vertical-align: top;\n",
              "    }\n",
              "\n",
              "    .dataframe thead th {\n",
              "        text-align: right;\n",
              "    }\n",
              "</style>\n",
              "<table border=\"1\" class=\"dataframe\">\n",
              "  <thead>\n",
              "    <tr style=\"text-align: right;\">\n",
              "      <th></th>\n",
              "      <th>title</th>\n",
              "      <th>rating</th>\n",
              "      <th>fandom</th>\n",
              "      <th>character</th>\n",
              "      <th>additional tags</th>\n",
              "      <th>body</th>\n",
              "      <th>Body_Parsed_1</th>\n",
              "      <th>Fandom_Code</th>\n",
              "    </tr>\n",
              "  </thead>\n",
              "  <tbody>\n",
              "    <tr>\n",
              "      <th>316</th>\n",
              "      <td>Black Stag</td>\n",
              "      <td>Mature</td>\n",
              "      <td>Harry Potter - J. K. Rowling</td>\n",
              "      <td>Regulus Black, James Potter, Sirius Black, Rem...</td>\n",
              "      <td>Jegulus, wolfstar, Canonical Character Death, ...</td>\n",
              "      <td>The lamp leaked a watery orange light over Reg...</td>\n",
              "      <td>The lamp leaked a watery orange light over Reg...</td>\n",
              "      <td>3</td>\n",
              "    </tr>\n",
              "    <tr>\n",
              "      <th>296</th>\n",
              "      <td>Devil's Helmet</td>\n",
              "      <td>Not Rated</td>\n",
              "      <td>Harry Potter - J. K. Rowling</td>\n",
              "      <td>Tom Riddle, You, Reader</td>\n",
              "      <td>NaN</td>\n",
              "      <td>\\n\\n \\n\\nSlow.\\n\\nEverything was more beautif...</td>\n",
              "      <td>Slow.  Everything was more beautiful when p...</td>\n",
              "      <td>3</td>\n",
              "    </tr>\n",
              "    <tr>\n",
              "      <th>319</th>\n",
              "      <td>Sunspots</td>\n",
              "      <td>Explicit</td>\n",
              "      <td>Harry Potter - J. K. Rowling</td>\n",
              "      <td>Harry Potter, Horcruxes - Character, Tom Riddl...</td>\n",
              "      <td>Alternate Universe - Canon Divergence, Horcrux...</td>\n",
              "      <td>\\n\\n \\n\\nHarry watched the Riddles, and the R...</td>\n",
              "      <td>Harry watched the Riddles, and the Riddles ...</td>\n",
              "      <td>3</td>\n",
              "    </tr>\n",
              "    <tr>\n",
              "      <th>359</th>\n",
              "      <td>In Somnis Veritas</td>\n",
              "      <td>General Audiences</td>\n",
              "      <td>Harry Potter - J. K. Rowling</td>\n",
              "      <td>Harry Potter, Severus Snape, Hermione Granger,...</td>\n",
              "      <td>Severitus, Sevitus</td>\n",
              "      <td>\\n\\n                                         ...</td>\n",
              "      <td>\"Let the feast begin!\"...</td>\n",
              "      <td>3</td>\n",
              "    </tr>\n",
              "    <tr>\n",
              "      <th>272</th>\n",
              "      <td>Orpheus</td>\n",
              "      <td>Explicit</td>\n",
              "      <td>James Bond (Craig Movies)</td>\n",
              "      <td>Q (James Bond), Raoul Silva | Tiago Rodriguez,...</td>\n",
              "      <td>Aftermath of Torture, Past Child Abuse, BAMF Q...</td>\n",
              "      <td>Recommended Listening: Keep On Loving You // C...</td>\n",
              "      <td>Recommended Listening: Keep On Loving You // C...</td>\n",
              "      <td>2</td>\n",
              "    </tr>\n",
              "    <tr>\n",
              "      <th>...</th>\n",
              "      <td>...</td>\n",
              "      <td>...</td>\n",
              "      <td>...</td>\n",
              "      <td>...</td>\n",
              "      <td>...</td>\n",
              "      <td>...</td>\n",
              "      <td>...</td>\n",
              "      <td>...</td>\n",
              "    </tr>\n",
              "    <tr>\n",
              "      <th>159</th>\n",
              "      <td>To Sleep, Perchance to Smother Your Flatmate w...</td>\n",
              "      <td>General Audiences</td>\n",
              "      <td>Sherlock (TV)</td>\n",
              "      <td>Sherlock Holmes, John Watson</td>\n",
              "      <td>Johnlock if you want it to be, but works fine ...</td>\n",
              "      <td>\"You're not sleeping with me.\"\\n\"Why not? It's...</td>\n",
              "      <td>\"You're not sleeping with me.\" \"Why not? It's ...</td>\n",
              "      <td>1</td>\n",
              "    </tr>\n",
              "    <tr>\n",
              "      <th>186</th>\n",
              "      <td>Evening Ride</td>\n",
              "      <td>Explicit</td>\n",
              "      <td>Sherlock (TV)</td>\n",
              "      <td>Sherlock Holmes, John Watson</td>\n",
              "      <td>Groping, Frottage, Humiliation kink, Humiliati...</td>\n",
              "      <td>John Watson sighs as he pushes his way into th...</td>\n",
              "      <td>John Watson sighs as he pushes his way into th...</td>\n",
              "      <td>1</td>\n",
              "    </tr>\n",
              "    <tr>\n",
              "      <th>121</th>\n",
              "      <td>Saving Sherlock Holmes</td>\n",
              "      <td>Mature</td>\n",
              "      <td>Sherlock (TV)</td>\n",
              "      <td>Sherlock Holmes, Mycroft Holmes, Mrs. Hudson, ...</td>\n",
              "      <td>Teenlock, AU, Schoolboy AU</td>\n",
              "      <td>Part I\\n\\nChapter One\\n\\n\\nOctober 1987\\n\\n\\nT...</td>\n",
              "      <td>Part I  Chapter One   October 1987   The thing...</td>\n",
              "      <td>1</td>\n",
              "    </tr>\n",
              "    <tr>\n",
              "      <th>48</th>\n",
              "      <td>We All Fall</td>\n",
              "      <td>Not Rated</td>\n",
              "      <td>Six of Crows Series - Leigh Bardugo</td>\n",
              "      <td>Kaz Brekker, Inej Ghafa, Nina Zenik, Jesper Fa...</td>\n",
              "      <td>Angst, Hurt/Comfort, Alternate Universe, Dark ...</td>\n",
              "      <td>It's December 31st and the winter holidays are...</td>\n",
              "      <td>It's December 31st and the winter holidays are...</td>\n",
              "      <td>0</td>\n",
              "    </tr>\n",
              "    <tr>\n",
              "      <th>18</th>\n",
              "      <td>The Harbour Waters</td>\n",
              "      <td>Teen And Up Audiences</td>\n",
              "      <td>Six of Crows Series - Leigh Bardugo</td>\n",
              "      <td>Kaz Brekker, Jordie Rietveld, The Crows (Six o...</td>\n",
              "      <td>Jordie Rietveld Lives, and it's not pretty mot...</td>\n",
              "      <td>\\n\\nKATYA\\n\\n\\n\\n \\n\\n\\nKatya shrunk under the...</td>\n",
              "      <td>KATYA  Katya shrunk under the unreadable gaz...</td>\n",
              "      <td>0</td>\n",
              "    </tr>\n",
              "  </tbody>\n",
              "</table>\n",
              "<p>176 rows × 8 columns</p>\n",
              "</div>\n",
              "      <button class=\"colab-df-convert\" onclick=\"convertToInteractive('df-7facb68d-d292-4ecc-8f13-1eed87155f1a')\"\n",
              "              title=\"Convert this dataframe to an interactive table.\"\n",
              "              style=\"display:none;\">\n",
              "        \n",
              "  <svg xmlns=\"http://www.w3.org/2000/svg\" height=\"24px\"viewBox=\"0 0 24 24\"\n",
              "       width=\"24px\">\n",
              "    <path d=\"M0 0h24v24H0V0z\" fill=\"none\"/>\n",
              "    <path d=\"M18.56 5.44l.94 2.06.94-2.06 2.06-.94-2.06-.94-.94-2.06-.94 2.06-2.06.94zm-11 1L8.5 8.5l.94-2.06 2.06-.94-2.06-.94L8.5 2.5l-.94 2.06-2.06.94zm10 10l.94 2.06.94-2.06 2.06-.94-2.06-.94-.94-2.06-.94 2.06-2.06.94z\"/><path d=\"M17.41 7.96l-1.37-1.37c-.4-.4-.92-.59-1.43-.59-.52 0-1.04.2-1.43.59L10.3 9.45l-7.72 7.72c-.78.78-.78 2.05 0 2.83L4 21.41c.39.39.9.59 1.41.59.51 0 1.02-.2 1.41-.59l7.78-7.78 2.81-2.81c.8-.78.8-2.07 0-2.86zM5.41 20L4 18.59l7.72-7.72 1.47 1.35L5.41 20z\"/>\n",
              "  </svg>\n",
              "      </button>\n",
              "      \n",
              "  <style>\n",
              "    .colab-df-container {\n",
              "      display:flex;\n",
              "      flex-wrap:wrap;\n",
              "      gap: 12px;\n",
              "    }\n",
              "\n",
              "    .colab-df-convert {\n",
              "      background-color: #E8F0FE;\n",
              "      border: none;\n",
              "      border-radius: 50%;\n",
              "      cursor: pointer;\n",
              "      display: none;\n",
              "      fill: #1967D2;\n",
              "      height: 32px;\n",
              "      padding: 0 0 0 0;\n",
              "      width: 32px;\n",
              "    }\n",
              "\n",
              "    .colab-df-convert:hover {\n",
              "      background-color: #E2EBFA;\n",
              "      box-shadow: 0px 1px 2px rgba(60, 64, 67, 0.3), 0px 1px 3px 1px rgba(60, 64, 67, 0.15);\n",
              "      fill: #174EA6;\n",
              "    }\n",
              "\n",
              "    [theme=dark] .colab-df-convert {\n",
              "      background-color: #3B4455;\n",
              "      fill: #D2E3FC;\n",
              "    }\n",
              "\n",
              "    [theme=dark] .colab-df-convert:hover {\n",
              "      background-color: #434B5C;\n",
              "      box-shadow: 0px 1px 3px 1px rgba(0, 0, 0, 0.15);\n",
              "      filter: drop-shadow(0px 1px 2px rgba(0, 0, 0, 0.3));\n",
              "      fill: #FFFFFF;\n",
              "    }\n",
              "  </style>\n",
              "\n",
              "      <script>\n",
              "        const buttonEl =\n",
              "          document.querySelector('#df-7facb68d-d292-4ecc-8f13-1eed87155f1a button.colab-df-convert');\n",
              "        buttonEl.style.display =\n",
              "          google.colab.kernel.accessAllowed ? 'block' : 'none';\n",
              "\n",
              "        async function convertToInteractive(key) {\n",
              "          const element = document.querySelector('#df-7facb68d-d292-4ecc-8f13-1eed87155f1a');\n",
              "          const dataTable =\n",
              "            await google.colab.kernel.invokeFunction('convertToInteractive',\n",
              "                                                     [key], {});\n",
              "          if (!dataTable) return;\n",
              "\n",
              "          const docLinkHtml = 'Like what you see? Visit the ' +\n",
              "            '<a target=\"_blank\" href=https://colab.research.google.com/notebooks/data_table.ipynb>data table notebook</a>'\n",
              "            + ' to learn more about interactive tables.';\n",
              "          element.innerHTML = '';\n",
              "          dataTable['output_type'] = 'display_data';\n",
              "          await google.colab.output.renderOutput(dataTable, element);\n",
              "          const docLink = document.createElement('div');\n",
              "          docLink.innerHTML = docLinkHtml;\n",
              "          element.appendChild(docLink);\n",
              "        }\n",
              "      </script>\n",
              "    </div>\n",
              "  </div>\n",
              "  "
            ]
          },
          "metadata": {},
          "execution_count": 35
        }
      ]
    },
    {
      "cell_type": "markdown",
      "source": [
        "Note: I need to make a test set for fandom because ratings.csv has multifandoms ... besides Sherlock, Six of Crows, James Bond and Harry Potter... but I'll do that later"
      ],
      "metadata": {
        "id": "vsZ-O4gttAqJ"
      }
    },
    {
      "cell_type": "code",
      "source": [
        "#Distribution of classes\n",
        "train['Fandom_Code'].value_counts().plot(kind = 'bar')"
      ],
      "metadata": {
        "colab": {
          "base_uri": "https://localhost:8080/",
          "height": 279
        },
        "id": "V4UvmZHqtNeO",
        "outputId": "9e8d2194-f3a0-4350-f26d-876825177852"
      },
      "execution_count": null,
      "outputs": [
        {
          "output_type": "execute_result",
          "data": {
            "text/plain": [
              "<matplotlib.axes._subplots.AxesSubplot at 0x7f0554914b90>"
            ]
          },
          "metadata": {},
          "execution_count": 36
        },
        {
          "output_type": "display_data",
          "data": {
            "text/plain": [
              "<Figure size 432x288 with 1 Axes>"
            ],
            "image/png": "[encoded data removed]"
          },
          "metadata": {
            "needs_background": "light"
          }
        }
      ]
    },
    {
      "cell_type": "code",
      "source": [
        "DATA_COLUMN = 'Body_Parsed_1'\n",
        "LABEL_COLUMN = 'Fandom_Code'\n",
        "# The list containing all the classes (train['SECTION'].unique())\n",
        "label_list = [0, 1, 2, 3]"
      ],
      "metadata": {
        "id": "W8IQRRaLgXxP"
      },
      "execution_count": null,
      "outputs": []
    },
    {
      "cell_type": "code",
      "source": [
        "print(\"Training Set Shape :\", train.shape)\n",
        "print(\"Validation Set Shape :\", val.shape)\n",
        "print(\"Test Set Shape :\", test.shape)"
      ],
      "metadata": {
        "id": "EufZPMYimNdD",
        "colab": {
          "base_uri": "https://localhost:8080/"
        },
        "outputId": "43961ee7-c84c-4e8a-8095-44672eedd5f4"
      },
      "execution_count": null,
      "outputs": [
        {
          "output_type": "stream",
          "name": "stdout",
          "text": [
            "Training Set Shape : (176, 8)\n",
            "Validation Set Shape : (44, 8)\n",
            "Test Set Shape : (505, 22)\n"
          ]
        }
      ]
    },
    {
      "cell_type": "markdown",
      "source": [
        "Data Preprocessing\n",
        "BERT model accept only a specific type of input and the datasets are usually structured to have have the following four features:\n",
        "\n",
        "guid : A unique id that represents an observation.\n",
        "text_a : The text we need to classify into given categories\n",
        "text_b: It is used when we're training a model to understand the relationship between sentences and it does not apply for classification problems.\n",
        "label: It consists of the labels or classes or categories that a given text belongs to.\n",
        "In our dataset we have text_a and label. The following code block will create objects for each of the above mentioned features for all the records in our dataset using the InputExample class provided in the BERT library."
      ],
      "metadata": {
        "id": "pZap6gWbgvur"
      }
    },
    {
      "cell_type": "code",
      "source": [
        "train_InputExamples = train.apply(lambda x: bert.run_classifier.InputExample(guid=None,\n",
        "                                                                   text_a = x[DATA_COLUMN], \n",
        "                                                                   text_b = None, \n",
        "                                                                   label = x[LABEL_COLUMN]), axis = 1)\n",
        "\n",
        "val_InputExamples = val.apply(lambda x: bert.run_classifier.InputExample(guid=None, \n",
        "                                                                   text_a = x[DATA_COLUMN], \n",
        "                                                                   text_b = None, \n",
        "                                                                   label = x[LABEL_COLUMN]), axis = 1)"
      ],
      "metadata": {
        "id": "0T3smH8Ogwn9"
      },
      "execution_count": null,
      "outputs": []
    },
    {
      "cell_type": "code",
      "source": [
        "train_InputExamples"
      ],
      "metadata": {
        "colab": {
          "base_uri": "https://localhost:8080/"
        },
        "id": "E4CFxk6i2-I2",
        "outputId": "aa7be09d-e542-4b25-bbfb-3f1bf6412f1c"
      },
      "execution_count": null,
      "outputs": [
        {
          "output_type": "execute_result",
          "data": {
            "text/plain": [
              "316    <bert.run_classifier.InputExample object at 0x...\n",
              "296    <bert.run_classifier.InputExample object at 0x...\n",
              "319    <bert.run_classifier.InputExample object at 0x...\n",
              "359    <bert.run_classifier.InputExample object at 0x...\n",
              "272    <bert.run_classifier.InputExample object at 0x...\n",
              "                             ...                        \n",
              "159    <bert.run_classifier.InputExample object at 0x...\n",
              "186    <bert.run_classifier.InputExample object at 0x...\n",
              "121    <bert.run_classifier.InputExample object at 0x...\n",
              "48     <bert.run_classifier.InputExample object at 0x...\n",
              "18     <bert.run_classifier.InputExample object at 0x...\n",
              "Length: 176, dtype: object"
            ]
          },
          "metadata": {},
          "execution_count": 40
        }
      ]
    },
    {
      "cell_type": "code",
      "source": [
        "print(\"Row 0 - guid of training set : \", train_InputExamples.iloc[0].guid)\n",
        "print(\"\\n__________\\nRow 0 - text_a of training set : \", train_InputExamples.iloc[0].text_a)\n",
        "print(\"\\n__________\\nRow 0 - text_b of training set : \", train_InputExamples.iloc[0].text_b)\n",
        "print(\"\\n__________\\nRow 0 - label of training set : \", train_InputExamples.iloc[0].label)"
      ],
      "metadata": {
        "colab": {
          "base_uri": "https://localhost:8080/"
        },
        "id": "6EpdPsak3KFK",
        "outputId": "77eced05-3323-4196-c862-a9731f3d0e5c"
      },
      "execution_count": null,
      "outputs": [
        {
          "output_type": "stream",
          "name": "stdout",
          "text": [
            "Row 0 - guid of training set :  None\n",
            "\n",
            "__________\n",
            "Row 0 - text_a of training set :  The lamp leaked a watery orange light over Regulus. It hadn't turned incredibly late yet, however, the sky had begun to bruise earlier and earlier as the wind had started to chill. Regulus enjoyed coming here, when the room was deathly silent, bar the sound of his own feet and shaken breath; it had helped the world feel less bleak and removed the feeling that everything around him was painstakingly empty. His lungs had begun to shrink so much they were near-shattering, filled an abundance of pressurised breath. Pandora had told him that should he overwork himself too much he'd end up not being able to perform at all. Regulus had decided he'd rather not perform as a result of an injury than suffer being given a mediocre part at best. He was destined for an actual role in the performance of Romeo and Juliet, he'd thought, and he wouldn't put up for less than Romeo- Barty had also then chimed in to say that was wishful thinking and he was more suited for Juliet.   Though Regulus had never wanted to admit this, for it was far too soap-operatic for his liking, he found the whole premise of Romeo and Juliet rather intriguing. Two young lovers thwarted by others' hate, a tragedy he found beautiful. He also thought that he would never sacrifice his life for another and that the whole ending was very stupid and could've easily been stopped had Juliet not sat gaping.   Regulus moved like a swan, gliding elegantly across the floor of the studio, watching his posture intently in the mirror, his stage-smiled stiffened around the edges as his feet didn't move the way his brain had wanted them to. He rested his hands against the barre, looking up at himself in the mirror through his eyelashes He knew tomorrow his whole body would ache deeper than the muscle and bone, but right now it was numb, he couldn't feel a single pinprick against his skin and once he'd reached this point he willed to keep moving, make the most of his precious time of stillness.   He tapped his heels together, feet fighting, and straightened his knees. The person in the mirror hadn't looked like him, a vision of a little boat rocking widely on the waves popped up in his head. It slowly calmed to a placid still, but when you had looked underneath the seaweed had tangled into a rotten mess, it caused him to falter for a moment and he completely dropped again. He was thinking of kicking the wall when the door swung open, interrupting his self-destructive train of thought. A boy walked in, a bucket filled with water and a dirt-soaked sponge in their respective hands, Regulus thought the sponge was doing more harm than good to whatever he was cleaning.   \"You look a bit sick,\" James said, dunking the sponge into the bucket. The water sloshed over the top, water fell down to the floor, \"Have you ever watched The Friendly Ghost?\" James looked at the boy, much like his friend, his nose was aquiline, as if he was snatched out from a book about Ancient Greeks. The hollow cheekbones of the Black Brothers always seemed to accentuate the hollowness of their eyes, highlighting the colours.  Much like Sirius' his eyes were blue, though a lighter shade. The brothers eyes were like ice, but held a fire in them. One glance of the blue eyes told of a lifetime of struggle, one that no matter how many times James had asked he'd never get the full story as it wasn't able to be put into words.   Regulus turned back to the mirror, sucking in his stomach, and turned back around, \"Thank you.\" His teacher had once told him, that was his aim. That had he turned such a sickly pale colour, had his ribcage stuck out, as with his hip bone- he'd make the perfect dancer. He does owe much of his obsession with this one passing statement to his self-inflicted goal of perfection, however, there's always the subtle suggestions from her to achieve this as well as the constant reminder he doesn't quite meet this ideal yet and the one phrase had been an everlasting trail of thought in his brain.   James had simply furrowed his dark brow in confusion, thinking he'd've been rather insane to accept that as a compliment with zero sarcasm laced in his voice.   \"Righty...can you get out so we can clean in here?\"   \"Get out? It's my studio, you're not supposed to be in here actually--\"  \"No, it's not, it's the schools.\" The door slammed when the other boy had walked in, carrying a mop and duster, \"Now get out.\"   Regulus folded his arms over. Sirius' skin had also looked extraordinarily cloud-like, though Regulus had attributed that to being next to James' whose was a morphing serenity of brown. He also looked comparatively smaller. James was wearing a baggy hoodie which was over his uniform- Regulus hadn't doubted that was against the rules- which had made the already tall boy look even larger, not helping Sirius' stature. \"I'm literally booked in here, go and check the sheet on the door, you'll see my name in big bold letters--\"  \"I literally do not care.\" Sirius mocked, James grinned and placed the bucket down, demonstrating the fact they had no intention of leaving him be, \"It's not our fault someone ratted us out to Gonagall. Go and rehearse for Juliet somewhere else.\"  Regulus couldn't help but feel some sort of warmth in Sirius actually remembering thats' the play they were doing, he assumed when he'd come and told him he simply ignored his excitement, \"Where else am I supposed to rehearse? I can't exactly go and dance in the dorms.\"  \"Why not? I'm sure Barty would love a show from you.\" James had taken the sponge and began to lap circles around Regulus' feet, his eyes mocking as he looked up at him, lashes tapping against his glasses as he blinked. He had actually, on occasion, chosen to dance in their dorm, at times when the studio had been fully booked and he hadn't wanted to change out of his pyjamas and make the exhausting journey around the expansive school only to have to wander back at the early hours in the morning and risk being scolded by a loitering teacher, or worse, a student who deemed themselves teacher. He had been practising the grand adage, when his centre of gravity decided to give way and he toppled over, hitting his head on the corner of his bed side table.   \"Why can't you just clean another place and then come back here a bit later?\"   \"Are you even dancing? When we walked in here you were just stood staring at yourself in the mirror like a narcissist, \" Sirius remarked, head tilted to the side, \"And you call me the self-absorbed one. You look like mum when she's examining her necklaces.\"  Regulus felt a small pang in his chest, he went to open his mouth to argue, say that, 'Yes, Sirius, for your information, I was about to dance the most magnificent scene ever and you'll be dumbed into silence', but he was left opening and closing his mouth like a fish. He had loved to dance, sensuality bursting through in the most vibrant picture, importing every emotion inside of him into the dance, but as of recently the passion was dulling and he found himself evermore growing tired to the point of an intense emotion of surrender. Even when he was on stage, or in class, even when he received the highest praise from his mother or teacher, or even on the rare occasion his father, it still lingered.   \"If you have a problem with us doing community service and cleaning the wonderful school, you can take that up with our marvelous headmaster.\" Sirius recited, \"Besides don't they always give the big roles to the Sixth or Seventh years?\"  Regulus kept quiet, he knew he was yearning for something almost unachievable but the Sixth and Seventh years are religiously the sole centre midfielders and James managed to get given the position last year. If the football team had decided to change their legacy he could only hope his teacher would have the same belief in him.   Once they had realised neither of the boys would leave, Sirius and James thought their way of asserting dominance would be to act as if Regulus was simply invisible.   James set out on submerging the sponge over and over into the water, essentially drowning the poor thing, as Sirius followed him around with a mop, occasionally hitting him on the head with it, each time he did James' hair would flop and he'd chuck the sponge at his face. The third time he had done this, Sirius had managed to duck, sending the sponge, with flames of fire, Regulus' way. Unfortunately, Regulus hadn't quite nailed the incredibly rapid reflexes Sirius had practiced over the years and he was far too slow to dodge it. It whacked him in the face and he stood back, slowly, momentarily stunned by the sudden impact, and the freezing water.   \"Shit, sorry-\" James stood up, grabbing the sponge off the floor, \"Look what you've done you twat!\" James lobbed the sponge at Sirius again who was letting out a cacophony of laughter. He turned back to face Regulus whose jaw was beginning to clench a dangerous amount, vein throbbing in his throat already.   \"Don't say sorry, maybe now he'll leave instead of standing there drenched in water.\"   Regulus scoffed and wiped a cow-licked strand of hair off his face, \"No it's fine! I'll get out of your way, like I always do.\" He snatched his bag off the floor and James looked between the two of them, the ghost of a faint smile already drawing on his face.  \"Melodramatic much.\" Sirius muttered to himself, flipping his own soaked hair back from his face. The door slammed on his way out and James stared back at the older Black brother, finally allowing himself to join in with Sirius' giggles.  The cleaning had begun to drain both the boys, James' arms had ached. He actually quite enjoyed cleaning and often helped his mother clean around the house. It had always calmed him, feeling the furniture glide over the palm of his hands and the soft sound of the broom as his mother swept. The one thing that he despised about being at this school was the longing he had for his parents. He can still feel joy without them, still smiles, and makes jokes that nobody finds funny bar his small group of friends, yet there is always a hum beneath the song that continually misses them.   There was a small light upon the floor that danced over the ageless boards of wood. The wood was a forest brown with soulful patches of paler wood dampened by the suns light or the stomping of feet. Each time he turned he'd be faced with a mirror, he hadn't a clue how people like Regulus stood in here, followed around by their own taunting image. The mirrors were framed with bronze frames, black-freckles splattered over them.   As they cleaned and cleaned it had gotten to the point that James' veins had thrummed with the desperate urge to be doing something else, his mind wandering around the room finding different objects to zoom in on and surrender his thoughts to for a moment before he'd be distracted by Sirius' huffs of exasperation.   \"I'm genuinely really pissed off at Remus, right now, James.\" Sirius sulked, jumping up and down to try and reach the corner of the ceiling, his shoulders bouncing humorously with each pounce.   \"Yes, so you've said.\" James had always felt torn between the two whenever Sirius would start these rants. Peter, Sirius, and Remus were his bestfriends. He met Peter in primary school, and the other two four years ago- in the first year.  His mother and father had been desperate for him to form these friendships, they'd said you'd get nowhere without friends, that friendship is what forms joy, it is the seed and source for happiness and it's how our entire World is created. This is what James thought as his three friends of, often: His World. Friendship transcends words, its foundation is trust, built upon that support, dependency, and fun. With his friends, James felt each and every one was checked and that would never be replaced, \"Multiple times.\"  \"No, but like I actually am this time.\" He sighed, flopping to the floor after his defeat of not being able to tackle the corner.  \"You can't be mad at him just because he's better at lying than you are.\"   \"Yes, I can and I will. How come he got out of this with his lies and we're stuck here cleaning the bloody ballet studio?\"  \"Did you expect McGonagall to believe the toilets were flooded by Snivellus' shit?\"   \"Perfectly plausible it was. Maybe on another day, perhaps when they're serving something spicy.\" Sirius argued, \"But, you're mad too right? I'm not just being dramatic?\"  \"I'm not mad,\" James shrugged, \"I'm actually impressed he managed to get out of it.\"  Sirius let out an, ironically, dramatic sigh before collapsing further into the floor as if it would swallow his whole, \"I'm totally being dramatic.\" What he wasn't going to tell Sirius is that he was always dramatic, he'd even (unknowingly) received the nickname 'Attention Whore', not only from James, Remus and Pete but it had additionally spread to the girls group, \"Should I apologise to him?\"   \"Yes!\" James shouted, happy that for once he hadn't needed to bring up the simple solution of apologising. As Sirius' reward James decided to snatch up the duster and wipe away the fine particles of dust, there was a rather large sum of it. In fact, the whole room seemed to have slept in a blanket of the silken dust. After picking up as much as he could, he took the duster and weaved it into Sirius hair until the boy sneezed over and over, wiping a trail of snot from under his nose.   \"Careful, with the wet hair and snotty grotty nose you're looking far too similar to our dear friend Severus.\" James shouted as he skipped out the room, prepared to trek onto their next area they'd been tasked to dust, wipe, mop and clean (and then repeat because apparently their 'cleaning' wasn't up to par to the school's so they'd ought to do double the amount).\n",
            "\n",
            "__________\n",
            "Row 0 - text_b of training set :  None\n",
            "\n",
            "__________\n",
            "Row 0 - label of training set :  3\n"
          ]
        }
      ]
    },
    {
      "cell_type": "markdown",
      "source": [
        "We will now get down to business with the pretrained BERT. In this example we will use the bert_uncased_L-12_H-768_A-12/1 model. To check all available versions click here.\n",
        "\n",
        "We will be using the vocab.txt file in the model to map the words in the dataset to indexes. Also the loaded BERT model is trained on uncased/lowercase data and hence the data we feed to train the model should also be of lowercase."
      ],
      "metadata": {
        "id": "QxNscyOq4QVj"
      }
    },
    {
      "cell_type": "code",
      "source": [
        "# This is a path to an uncased (all lowercase) version of BERT\n",
        "BERT_MODEL_HUB = \"https://tfhub.dev/google/bert_uncased_L-12_H-768_A-12/1\"\n",
        "\n",
        "def create_tokenizer_from_hub_module():\n",
        "  \"\"\"Get the vocab file and casing info from the Hub module.\"\"\"\n",
        "  with tf.Graph().as_default():\n",
        "    bert_module = hub.Module(BERT_MODEL_HUB)\n",
        "    tokenization_info = bert_module(signature=\"tokenization_info\", as_dict=True)\n",
        "    with tf.Session() as sess:\n",
        "      vocab_file, do_lower_case = sess.run([tokenization_info[\"vocab_file\"],\n",
        "                                            tokenization_info[\"do_lower_case\"]])\n",
        "      \n",
        "  return bert.tokenization.FullTokenizer(\n",
        "      vocab_file=vocab_file, do_lower_case=do_lower_case)\n",
        "\n",
        "tokenizer = create_tokenizer_from_hub_module()"
      ],
      "metadata": {
        "colab": {
          "base_uri": "https://localhost:8080/"
        },
        "id": "tw2VpzC84kvW",
        "outputId": "560f6fb4-a842-47ce-87cd-950644ca6a55"
      },
      "execution_count": null,
      "outputs": [
        {
          "output_type": "stream",
          "name": "stdout",
          "text": [
            "INFO:tensorflow:Saver not created because there are no variables in the graph to restore\n"
          ]
        },
        {
          "output_type": "stream",
          "name": "stderr",
          "text": [
            "INFO:tensorflow:Saver not created because there are no variables in the graph to restore\n"
          ]
        },
        {
          "output_type": "stream",
          "name": "stdout",
          "text": [
            "WARNING:tensorflow:From /usr/local/lib/python3.7/dist-packages/bert/tokenization.py:125: The name tf.gfile.GFile is deprecated. Please use tf.io.gfile.GFile instead.\n",
            "\n"
          ]
        },
        {
          "output_type": "stream",
          "name": "stderr",
          "text": [
            "WARNING:tensorflow:From /usr/local/lib/python3.7/dist-packages/bert/tokenization.py:125: The name tf.gfile.GFile is deprecated. Please use tf.io.gfile.GFile instead.\n",
            "\n"
          ]
        }
      ]
    },
    {
      "cell_type": "code",
      "source": [
        "#Here is what the tokenised sample of the first training set observation looks like\n",
        "print(tokenizer.tokenize(train_InputExamples.iloc[0].text_a))"
      ],
      "metadata": {
        "colab": {
          "base_uri": "https://localhost:8080/"
        },
        "id": "tkF_xzdl4qoT",
        "outputId": "ccddf929-db4b-45c1-ca9e-6ac2562c7ed6"
      },
      "execution_count": null,
      "outputs": [
        {
          "output_type": "stream",
          "name": "stdout",
          "text": [
            "['the', 'lamp', 'leaked', 'a', 'watery', 'orange', 'light', 'over', 'reg', '##ulus', '.', 'it', 'hadn', \"'\", 't', 'turned', 'incredibly', 'late', 'yet', ',', 'however', ',', 'the', 'sky', 'had', 'begun', 'to', 'bruise', 'earlier', 'and', 'earlier', 'as', 'the', 'wind', 'had', 'started', 'to', 'chill', '.', 'reg', '##ulus', 'enjoyed', 'coming', 'here', ',', 'when', 'the', 'room', 'was', 'death', '##ly', 'silent', ',', 'bar', 'the', 'sound', 'of', 'his', 'own', 'feet', 'and', 'shaken', 'breath', ';', 'it', 'had', 'helped', 'the', 'world', 'feel', 'less', 'bleak', 'and', 'removed', 'the', 'feeling', 'that', 'everything', 'around', 'him', 'was', 'pains', '##taking', '##ly', 'empty', '.', 'his', 'lungs', 'had', 'begun', 'to', 'shrink', 'so', 'much', 'they', 'were', 'near', '-', 'shattering', ',', 'filled', 'an', 'abundance', 'of', 'press', '##uri', '##sed', 'breath', '.', 'pandora', 'had', 'told', 'him', 'that', 'should', 'he', 'over', '##work', 'himself', 'too', 'much', 'he', \"'\", 'd', 'end', 'up', 'not', 'being', 'able', 'to', 'perform', 'at', 'all', '.', 'reg', '##ulus', 'had', 'decided', 'he', \"'\", 'd', 'rather', 'not', 'perform', 'as', 'a', 'result', 'of', 'an', 'injury', 'than', 'suffer', 'being', 'given', 'a', 'med', '##io', '##cre', 'part', 'at', 'best', '.', 'he', 'was', 'destined', 'for', 'an', 'actual', 'role', 'in', 'the', 'performance', 'of', 'romeo', 'and', 'juliet', ',', 'he', \"'\", 'd', 'thought', ',', 'and', 'he', 'wouldn', \"'\", 't', 'put', 'up', 'for', 'less', 'than', 'romeo', '-', 'bart', '##y', 'had', 'also', 'then', 'chimed', 'in', 'to', 'say', 'that', 'was', 'wish', '##ful', 'thinking', 'and', 'he', 'was', 'more', 'suited', 'for', 'juliet', '.', 'though', 'reg', '##ulus', 'had', 'never', 'wanted', 'to', 'admit', 'this', ',', 'for', 'it', 'was', 'far', 'too', 'soap', '-', 'operatic', 'for', 'his', 'liking', ',', 'he', 'found', 'the', 'whole', 'premise', 'of', 'romeo', 'and', 'juliet', 'rather', 'intriguing', '.', 'two', 'young', 'lovers', 'thwarted', 'by', 'others', \"'\", 'hate', ',', 'a', 'tragedy', 'he', 'found', 'beautiful', '.', 'he', 'also', 'thought', 'that', 'he', 'would', 'never', 'sacrifice', 'his', 'life', 'for', 'another', 'and', 'that', 'the', 'whole', 'ending', 'was', 'very', 'stupid', 'and', 'could', \"'\", 've', 'easily', 'been', 'stopped', 'had', 'juliet', 'not', 'sat', 'gaping', '.', 'reg', '##ulus', 'moved', 'like', 'a', 'swan', ',', 'gliding', 'elegant', '##ly', 'across', 'the', 'floor', 'of', 'the', 'studio', ',', 'watching', 'his', 'posture', 'intently', 'in', 'the', 'mirror', ',', 'his', 'stage', '-', 'smiled', 'stiffened', 'around', 'the', 'edges', 'as', 'his', 'feet', 'didn', \"'\", 't', 'move', 'the', 'way', 'his', 'brain', 'had', 'wanted', 'them', 'to', '.', 'he', 'rested', 'his', 'hands', 'against', 'the', 'barre', ',', 'looking', 'up', 'at', 'himself', 'in', 'the', 'mirror', 'through', 'his', 'eyelashes', 'he', 'knew', 'tomorrow', 'his', 'whole', 'body', 'would', 'ache', 'deeper', 'than', 'the', 'muscle', 'and', 'bone', ',', 'but', 'right', 'now', 'it', 'was', 'numb', ',', 'he', 'couldn', \"'\", 't', 'feel', 'a', 'single', 'pin', '##pr', '##ick', 'against', 'his', 'skin', 'and', 'once', 'he', \"'\", 'd', 'reached', 'this', 'point', 'he', 'willed', 'to', 'keep', 'moving', ',', 'make', 'the', 'most', 'of', 'his', 'precious', 'time', 'of', 'stillness', '.', 'he', 'tapped', 'his', 'heels', 'together', ',', 'feet', 'fighting', ',', 'and', 'straightened', 'his', 'knees', '.', 'the', 'person', 'in', 'the', 'mirror', 'hadn', \"'\", 't', 'looked', 'like', 'him', ',', 'a', 'vision', 'of', 'a', 'little', 'boat', 'rocking', 'widely', 'on', 'the', 'waves', 'popped', 'up', 'in', 'his', 'head', '.', 'it', 'slowly', 'calmed', 'to', 'a', 'pl', '##ac', '##id', 'still', ',', 'but', 'when', 'you', 'had', 'looked', 'underneath', 'the', 'sea', '##weed', 'had', 'tangled', 'into', 'a', 'rotten', 'mess', ',', 'it', 'caused', 'him', 'to', 'fa', '##lter', 'for', 'a', 'moment', 'and', 'he', 'completely', 'dropped', 'again', '.', 'he', 'was', 'thinking', 'of', 'kicking', 'the', 'wall', 'when', 'the', 'door', 'swung', 'open', ',', 'interrupting', 'his', 'self', '-', 'destructive', 'train', 'of', 'thought', '.', 'a', 'boy', 'walked', 'in', ',', 'a', 'bucket', 'filled', 'with', 'water', 'and', 'a', 'dirt', '-', 'soaked', 'sponge', 'in', 'their', 'respective', 'hands', ',', 'reg', '##ulus', 'thought', 'the', 'sponge', 'was', 'doing', 'more', 'harm', 'than', 'good', 'to', 'whatever', 'he', 'was', 'cleaning', '.', '\"', 'you', 'look', 'a', 'bit', 'sick', ',', '\"', 'james', 'said', ',', 'dun', '##king', 'the', 'sponge', 'into', 'the', 'bucket', '.', 'the', 'water', 'sl', '##osh', '##ed', 'over', 'the', 'top', ',', 'water', 'fell', 'down', 'to', 'the', 'floor', ',', '\"', 'have', 'you', 'ever', 'watched', 'the', 'friendly', 'ghost', '?', '\"', 'james', 'looked', 'at', 'the', 'boy', ',', 'much', 'like', 'his', 'friend', ',', 'his', 'nose', 'was', 'a', '##quil', '##ine', ',', 'as', 'if', 'he', 'was', 'snatched', 'out', 'from', 'a', 'book', 'about', 'ancient', 'greeks', '.', 'the', 'hollow', 'cheekbones', 'of', 'the', 'black', 'brothers', 'always', 'seemed', 'to', 'accent', '##uate', 'the', 'hollow', '##ness', 'of', 'their', 'eyes', ',', 'highlighting', 'the', 'colours', '.', 'much', 'like', 'sirius', \"'\", 'his', 'eyes', 'were', 'blue', ',', 'though', 'a', 'lighter', 'shade', '.', 'the', 'brothers', 'eyes', 'were', 'like', 'ice', ',', 'but', 'held', 'a', 'fire', 'in', 'them', '.', 'one', 'glance', 'of', 'the', 'blue', 'eyes', 'told', 'of', 'a', 'lifetime', 'of', 'struggle', ',', 'one', 'that', 'no', 'matter', 'how', 'many', 'times', 'james', 'had', 'asked', 'he', \"'\", 'd', 'never', 'get', 'the', 'full', 'story', 'as', 'it', 'wasn', \"'\", 't', 'able', 'to', 'be', 'put', 'into', 'words', '.', 'reg', '##ulus', 'turned', 'back', 'to', 'the', 'mirror', ',', 'sucking', 'in', 'his', 'stomach', ',', 'and', 'turned', 'back', 'around', ',', '\"', 'thank', 'you', '.', '\"', 'his', 'teacher', 'had', 'once', 'told', 'him', ',', 'that', 'was', 'his', 'aim', '.', 'that', 'had', 'he', 'turned', 'such', 'a', 'sick', '##ly', 'pale', 'colour', ',', 'had', 'his', 'rib', '##ca', '##ge', 'stuck', 'out', ',', 'as', 'with', 'his', 'hip', 'bone', '-', 'he', \"'\", 'd', 'make', 'the', 'perfect', 'dancer', '.', 'he', 'does', 'owe', 'much', 'of', 'his', 'obsession', 'with', 'this', 'one', 'passing', 'statement', 'to', 'his', 'self', '-', 'inflicted', 'goal', 'of', 'perfection', ',', 'however', ',', 'there', \"'\", 's', 'always', 'the', 'subtle', 'suggestions', 'from', 'her', 'to', 'achieve', 'this', 'as', 'well', 'as', 'the', 'constant', 'reminder', 'he', 'doesn', \"'\", 't', 'quite', 'meet', 'this', 'ideal', 'yet', 'and', 'the', 'one', 'phrase', 'had', 'been', 'an', 'ever', '##las', '##ting', 'trail', 'of', 'thought', 'in', 'his', 'brain', '.', 'james', 'had', 'simply', 'furrowed', 'his', 'dark', 'brow', 'in', 'confusion', ',', 'thinking', 'he', \"'\", 'd', \"'\", 've', 'been', 'rather', 'insane', 'to', 'accept', 'that', 'as', 'a', 'compliment', 'with', 'zero', 'sarcasm', 'laced', 'in', 'his', 'voice', '.', '\"', 'right', '##y', '.', '.', '.', 'can', 'you', 'get', 'out', 'so', 'we', 'can', 'clean', 'in', 'here', '?', '\"', '\"', 'get', 'out', '?', 'it', \"'\", 's', 'my', 'studio', ',', 'you', \"'\", 're', 'not', 'supposed', 'to', 'be', 'in', 'here', 'actually', '-', '-', '\"', '\"', 'no', ',', 'it', \"'\", 's', 'not', ',', 'it', \"'\", 's', 'the', 'schools', '.', '\"', 'the', 'door', 'slammed', 'when', 'the', 'other', 'boy', 'had', 'walked', 'in', ',', 'carrying', 'a', 'mo', '##p', 'and', 'dust', '##er', ',', '\"', 'now', 'get', 'out', '.', '\"', 'reg', '##ulus', 'folded', 'his', 'arms', 'over', '.', 'sirius', \"'\", 'skin', 'had', 'also', 'looked', 'extra', '##ord', '##ina', '##rily', 'cloud', '-', 'like', ',', 'though', 'reg', '##ulus', 'had', 'attributed', 'that', 'to', 'being', 'next', 'to', 'james', \"'\", 'whose', 'was', 'a', 'mor', '##phi', '##ng', 'ser', '##enity', 'of', 'brown', '.', 'he', 'also', 'looked', 'comparatively', 'smaller', '.', 'james', 'was', 'wearing', 'a', 'bag', '##gy', 'hood', '##ie', 'which', 'was', 'over', 'his', 'uniform', '-', 'reg', '##ulus', 'hadn', \"'\", 't', 'doubted', 'that', 'was', 'against', 'the', 'rules', '-', 'which', 'had', 'made', 'the', 'already', 'tall', 'boy', 'look', 'even', 'larger', ',', 'not', 'helping', 'sirius', \"'\", 'stature', '.', '\"', 'i', \"'\", 'm', 'literally', 'booked', 'in', 'here', ',', 'go', 'and', 'check', 'the', 'sheet', 'on', 'the', 'door', ',', 'you', \"'\", 'll', 'see', 'my', 'name', 'in', 'big', 'bold', 'letters', '-', '-', '\"', '\"', 'i', 'literally', 'do', 'not', 'care', '.', '\"', 'sirius', 'mocked', ',', 'james', 'grinned', 'and', 'placed', 'the', 'bucket', 'down', ',', 'demonstrating', 'the', 'fact', 'they', 'had', 'no', 'intention', 'of', 'leaving', 'him', 'be', ',', '\"', 'it', \"'\", 's', 'not', 'our', 'fault', 'someone', 'rat', '##ted', 'us', 'out', 'to', 'go', '##na', '##gall', '.', 'go', 'and', 're', '##hear', '##se', 'for', 'juliet', 'somewhere', 'else', '.', '\"', 'reg', '##ulus', 'couldn', \"'\", 't', 'help', 'but', 'feel', 'some', 'sort', 'of', 'warmth', 'in', 'sirius', 'actually', 'remembering', 'that', '##s', \"'\", 'the', 'play', 'they', 'were', 'doing', ',', 'he', 'assumed', 'when', 'he', \"'\", 'd', 'come', 'and', 'told', 'him', 'he', 'simply', 'ignored', 'his', 'excitement', ',', '\"', 'where', 'else', 'am', 'i', 'supposed', 'to', 're', '##hear', '##se', '?', 'i', 'can', \"'\", 't', 'exactly', 'go', 'and', 'dance', 'in', 'the', 'dorm', '##s', '.', '\"', '\"', 'why', 'not', '?', 'i', \"'\", 'm', 'sure', 'bart', '##y', 'would', 'love', 'a', 'show', 'from', 'you', '.', '\"', 'james', 'had', 'taken', 'the', 'sponge', 'and', 'began', 'to', 'lap', 'circles', 'around', 'reg', '##ulus', \"'\", 'feet', ',', 'his', 'eyes', 'mocking', 'as', 'he', 'looked', 'up', 'at', 'him', ',', 'lashes', 'tapping', 'against', 'his', 'glasses', 'as', 'he', 'blinked', '.', 'he', 'had', 'actually', ',', 'on', 'occasion', ',', 'chosen', 'to', 'dance', 'in', 'their', 'dorm', ',', 'at', 'times', 'when', 'the', 'studio', 'had', 'been', 'fully', 'booked', 'and', 'he', 'hadn', \"'\", 't', 'wanted', 'to', 'change', 'out', 'of', 'his', 'p', '##y', '##ja', '##mas', 'and', 'make', 'the', 'exhaust', '##ing', 'journey', 'around', 'the', 'expansive', 'school', 'only', 'to', 'have', 'to', 'wander', 'back', 'at', 'the', 'early', 'hours', 'in', 'the', 'morning', 'and', 'risk', 'being', 'sc', '##old', '##ed', 'by', 'a', 'lo', '##iter', '##ing', 'teacher', ',', 'or', 'worse', ',', 'a', 'student', 'who', 'deemed', 'themselves', 'teacher', '.', 'he', 'had', 'been', 'pr', '##act', '##ising', 'the', 'grand', 'ada', '##ge', ',', 'when', 'his', 'centre', 'of', 'gravity', 'decided', 'to', 'give', 'way', 'and', 'he', 'toppled', 'over', ',', 'hitting', 'his', 'head', 'on', 'the', 'corner', 'of', 'his', 'bed', 'side', 'table', '.', '\"', 'why', 'can', \"'\", 't', 'you', 'just', 'clean', 'another', 'place', 'and', 'then', 'come', 'back', 'here', 'a', 'bit', 'later', '?', '\"', '\"', 'are', 'you', 'even', 'dancing', '?', 'when', 'we', 'walked', 'in', 'here', 'you', 'were', 'just', 'stood', 'staring', 'at', 'yourself', 'in', 'the', 'mirror', 'like', 'a', 'na', '##rc', '##iss', '##ist', ',', '\"', 'sirius', 'remarked', ',', 'head', 'tilted', 'to', 'the', 'side', ',', '\"', 'and', 'you', 'call', 'me', 'the', 'self', '-', 'absorbed', 'one', '.', 'you', 'look', 'like', 'mum', 'when', 'she', \"'\", 's', 'examining', 'her', 'necklace', '##s', '.', '\"', 'reg', '##ulus', 'felt', 'a', 'small', 'pang', 'in', 'his', 'chest', ',', 'he', 'went', 'to', 'open', 'his', 'mouth', 'to', 'argue', ',', 'say', 'that', ',', \"'\", 'yes', ',', 'sirius', ',', 'for', 'your', 'information', ',', 'i', 'was', 'about', 'to', 'dance', 'the', 'most', 'magnificent', 'scene', 'ever', 'and', 'you', \"'\", 'll', 'be', 'dumb', '##ed', 'into', 'silence', \"'\", ',', 'but', 'he', 'was', 'left', 'opening', 'and', 'closing', 'his', 'mouth', 'like', 'a', 'fish', '.', 'he', 'had', 'loved', 'to', 'dance', ',', 'sensual', '##ity', 'bursting', 'through', 'in', 'the', 'most', 'vibrant', 'picture', ',', 'import', '##ing', 'every', 'emotion', 'inside', 'of', 'him', 'into', 'the', 'dance', ',', 'but', 'as', 'of', 'recently', 'the', 'passion', 'was', 'dull', '##ing', 'and', 'he', 'found', 'himself', 'ever', '##more', 'growing', 'tired', 'to', 'the', 'point', 'of', 'an', 'intense', 'emotion', 'of', 'surrender', '.', 'even', 'when', 'he', 'was', 'on', 'stage', ',', 'or', 'in', 'class', ',', 'even', 'when', 'he', 'received', 'the', 'highest', 'praise', 'from', 'his', 'mother', 'or', 'teacher', ',', 'or', 'even', 'on', 'the', 'rare', 'occasion', 'his', 'father', ',', 'it', 'still', 'lingered', '.', '\"', 'if', 'you', 'have', 'a', 'problem', 'with', 'us', 'doing', 'community', 'service', 'and', 'cleaning', 'the', 'wonderful', 'school', ',', 'you', 'can', 'take', 'that', 'up', 'with', 'our', 'marvelous', 'headmaster', '.', '\"', 'sirius', 'recited', ',', '\"', 'besides', 'don', \"'\", 't', 'they', 'always', 'give', 'the', 'big', 'roles', 'to', 'the', 'sixth', 'or', 'seventh', 'years', '?', '\"', 'reg', '##ulus', 'kept', 'quiet', ',', 'he', 'knew', 'he', 'was', 'yearning', 'for', 'something', 'almost', 'una', '##chi', '##eva', '##ble', 'but', 'the', 'sixth', 'and', 'seventh', 'years', 'are', 'religious', '##ly', 'the', 'sole', 'centre', 'midfielder', '##s', 'and', 'james', 'managed', 'to', 'get', 'given', 'the', 'position', 'last', 'year', '.', 'if', 'the', 'football', 'team', 'had', 'decided', 'to', 'change', 'their', 'legacy', 'he', 'could', 'only', 'hope', 'his', 'teacher', 'would', 'have', 'the', 'same', 'belief', 'in', 'him', '.', 'once', 'they', 'had', 'realised', 'neither', 'of', 'the', 'boys', 'would', 'leave', ',', 'sirius', 'and', 'james', 'thought', 'their', 'way', 'of', 'asserting', 'dominance', 'would', 'be', 'to', 'act', 'as', 'if', 'reg', '##ulus', 'was', 'simply', 'invisible', '.', 'james', 'set', 'out', 'on', 'sub', '##mer', '##ging', 'the', 'sponge', 'over', 'and', 'over', 'into', 'the', 'water', ',', 'essentially', 'drowning', 'the', 'poor', 'thing', ',', 'as', 'sirius', 'followed', 'him', 'around', 'with', 'a', 'mo', '##p', ',', 'occasionally', 'hitting', 'him', 'on', 'the', 'head', 'with', 'it', ',', 'each', 'time', 'he', 'did', 'james', \"'\", 'hair', 'would', 'flop', 'and', 'he', \"'\", 'd', 'chuck', 'the', 'sponge', 'at', 'his', 'face', '.', 'the', 'third', 'time', 'he', 'had', 'done', 'this', ',', 'sirius', 'had', 'managed', 'to', 'duck', ',', 'sending', 'the', 'sponge', ',', 'with', 'flames', 'of', 'fire', ',', 'reg', '##ulus', \"'\", 'way', '.', 'unfortunately', ',', 'reg', '##ulus', 'hadn', \"'\", 't', 'quite', 'nailed', 'the', 'incredibly', 'rapid', 'reflex', '##es', 'sirius', 'had', 'practiced', 'over', 'the', 'years', 'and', 'he', 'was', 'far', 'too', 'slow', 'to', 'dodge', 'it', '.', 'it', 'w', '##ha', '##cked', 'him', 'in', 'the', 'face', 'and', 'he', 'stood', 'back', ',', 'slowly', ',', 'momentarily', 'stunned', 'by', 'the', 'sudden', 'impact', ',', 'and', 'the', 'freezing', 'water', '.', '\"', 'shit', ',', 'sorry', '-', '\"', 'james', 'stood', 'up', ',', 'grabbing', 'the', 'sponge', 'off', 'the', 'floor', ',', '\"', 'look', 'what', 'you', \"'\", 've', 'done', 'you', 't', '##wat', '!', '\"', 'james', 'lo', '##bbed', 'the', 'sponge', 'at', 'sirius', 'again', 'who', 'was', 'letting', 'out', 'a', 'ca', '##co', '##phon', '##y', 'of', 'laughter', '.', 'he', 'turned', 'back', 'to', 'face', 'reg', '##ulus', 'whose', 'jaw', 'was', 'beginning', 'to', 'clench', 'a', 'dangerous', 'amount', ',', 'vein', 'throbbing', 'in', 'his', 'throat', 'already', '.', '\"', 'don', \"'\", 't', 'say', 'sorry', ',', 'maybe', 'now', 'he', \"'\", 'll', 'leave', 'instead', 'of', 'standing', 'there', 'drenched', 'in', 'water', '.', '\"', 'reg', '##ulus', 'scoffed', 'and', 'wiped', 'a', 'cow', '-', 'licked', 'strand', 'of', 'hair', 'off', 'his', 'face', ',', '\"', 'no', 'it', \"'\", 's', 'fine', '!', 'i', \"'\", 'll', 'get', 'out', 'of', 'your', 'way', ',', 'like', 'i', 'always', 'do', '.', '\"', 'he', 'snatched', 'his', 'bag', 'off', 'the', 'floor', 'and', 'james', 'looked', 'between', 'the', 'two', 'of', 'them', ',', 'the', 'ghost', 'of', 'a', 'faint', 'smile', 'already', 'drawing', 'on', 'his', 'face', '.', '\"', 'mel', '##od', '##rama', '##tic', 'much', '.', '\"', 'sirius', 'muttered', 'to', 'himself', ',', 'flipping', 'his', 'own', 'soaked', 'hair', 'back', 'from', 'his', 'face', '.', 'the', 'door', 'slammed', 'on', 'his', 'way', 'out', 'and', 'james', 'stared', 'back', 'at', 'the', 'older', 'black', 'brother', ',', 'finally', 'allowing', 'himself', 'to', 'join', 'in', 'with', 'sirius', \"'\", 'giggles', '.', 'the', 'cleaning', 'had', 'begun', 'to', 'drain', 'both', 'the', 'boys', ',', 'james', \"'\", 'arms', 'had', 'ached', '.', 'he', 'actually', 'quite', 'enjoyed', 'cleaning', 'and', 'often', 'helped', 'his', 'mother', 'clean', 'around', 'the', 'house', '.', 'it', 'had', 'always', 'calmed', 'him', ',', 'feeling', 'the', 'furniture', 'glide', 'over', 'the', 'palm', 'of', 'his', 'hands', 'and', 'the', 'soft', 'sound', 'of', 'the', 'broom', 'as', 'his', 'mother', 'swept', '.', 'the', 'one', 'thing', 'that', 'he', 'despised', 'about', 'being', 'at', 'this', 'school', 'was', 'the', 'longing', 'he', 'had', 'for', 'his', 'parents', '.', 'he', 'can', 'still', 'feel', 'joy', 'without', 'them', ',', 'still', 'smiles', ',', 'and', 'makes', 'jokes', 'that', 'nobody', 'finds', 'funny', 'bar', 'his', 'small', 'group', 'of', 'friends', ',', 'yet', 'there', 'is', 'always', 'a', 'hum', 'beneath', 'the', 'song', 'that', 'continually', 'misses', 'them', '.', 'there', 'was', 'a', 'small', 'light', 'upon', 'the', 'floor', 'that', 'danced', 'over', 'the', 'age', '##less', 'boards', 'of', 'wood', '.', 'the', 'wood', 'was', 'a', 'forest', 'brown', 'with', 'soul', '##ful', 'patches', 'of', 'paler', 'wood', 'damp', '##ened', 'by', 'the', 'suns', 'light', 'or', 'the', 'st', '##omp', '##ing', 'of', 'feet', '.', 'each', 'time', 'he', 'turned', 'he', \"'\", 'd', 'be', 'faced', 'with', 'a', 'mirror', ',', 'he', 'hadn', \"'\", 't', 'a', 'clue', 'how', 'people', 'like', 'reg', '##ulus', 'stood', 'in', 'here', ',', 'followed', 'around', 'by', 'their', 'own', 'taunting', 'image', '.', 'the', 'mirrors', 'were', 'framed', 'with', 'bronze', 'frames', ',', 'black', '-', 'fr', '##eck', '##les', 'sp', '##lat', '##tered', 'over', 'them', '.', 'as', 'they', 'cleaned', 'and', 'cleaned', 'it', 'had', 'gotten', 'to', 'the', 'point', 'that', 'james', \"'\", 'veins', 'had', 'thru', '##mme', '##d', 'with', 'the', 'desperate', 'urge', 'to', 'be', 'doing', 'something', 'else', ',', 'his', 'mind', 'wandering', 'around', 'the', 'room', 'finding', 'different', 'objects', 'to', 'zoom', 'in', 'on', 'and', 'surrender', 'his', 'thoughts', 'to', 'for', 'a', 'moment', 'before', 'he', \"'\", 'd', 'be', 'distracted', 'by', 'sirius', \"'\", 'huff', '##s', 'of', 'ex', '##as', '##peration', '.', '\"', 'i', \"'\", 'm', 'genuinely', 'really', 'pissed', 'off', 'at', 're', '##mus', ',', 'right', 'now', ',', 'james', '.', '\"', 'sirius', 'sul', '##ked', ',', 'jumping', 'up', 'and', 'down', 'to', 'try', 'and', 'reach', 'the', 'corner', 'of', 'the', 'ceiling', ',', 'his', 'shoulders', 'bouncing', 'humorous', '##ly', 'with', 'each', 'po', '##unce', '.', '\"', 'yes', ',', 'so', 'you', \"'\", 've', 'said', '.', '\"', 'james', 'had', 'always', 'felt', 'torn', 'between', 'the', 'two', 'whenever', 'sirius', 'would', 'start', 'these', 'ran', '##ts', '.', 'peter', ',', 'sirius', ',', 'and', 're', '##mus', 'were', 'his', 'best', '##fr', '##ien', '##ds', '.', 'he', 'met', 'peter', 'in', 'primary', 'school', ',', 'and', 'the', 'other', 'two', 'four', 'years', 'ago', '-', 'in', 'the', 'first', 'year', '.', 'his', 'mother', 'and', 'father', 'had', 'been', 'desperate', 'for', 'him', 'to', 'form', 'these', 'friendships', ',', 'they', \"'\", 'd', 'said', 'you', \"'\", 'd', 'get', 'nowhere', 'without', 'friends', ',', 'that', 'friendship', 'is', 'what', 'forms', 'joy', ',', 'it', 'is', 'the', 'seed', 'and', 'source', 'for', 'happiness', 'and', 'it', \"'\", 's', 'how', 'our', 'entire', 'world', 'is', 'created', '.', 'this', 'is', 'what', 'james', 'thought', 'as', 'his', 'three', 'friends', 'of', ',', 'often', ':', 'his', 'world', '.', 'friendship', 'trans', '##cend', '##s', 'words', ',', 'its', 'foundation', 'is', 'trust', ',', 'built', 'upon', 'that', 'support', ',', 'dependency', ',', 'and', 'fun', '.', 'with', 'his', 'friends', ',', 'james', 'felt', 'each', 'and', 'every', 'one', 'was', 'checked', 'and', 'that', 'would', 'never', 'be', 'replaced', ',', '\"', 'multiple', 'times', '.', '\"', '\"', 'no', ',', 'but', 'like', 'i', 'actually', 'am', 'this', 'time', '.', '\"', 'he', 'sighed', ',', 'flop', '##ping', 'to', 'the', 'floor', 'after', 'his', 'defeat', 'of', 'not', 'being', 'able', 'to', 'tackle', 'the', 'corner', '.', '\"', 'you', 'can', \"'\", 't', 'be', 'mad', 'at', 'him', 'just', 'because', 'he', \"'\", 's', 'better', 'at', 'lying', 'than', 'you', 'are', '.', '\"', '\"', 'yes', ',', 'i', 'can', 'and', 'i', 'will', '.', 'how', 'come', 'he', 'got', 'out', 'of', 'this', 'with', 'his', 'lies', 'and', 'we', \"'\", 're', 'stuck', 'here', 'cleaning', 'the', 'bloody', 'ballet', 'studio', '?', '\"', '\"', 'did', 'you', 'expect', 'mc', '##gon', '##aga', '##ll', 'to', 'believe', 'the', 'toilets', 'were', 'flooded', 'by', 's', '##ni', '##vel', '##lus', \"'\", 'shit', '?', '\"', '\"', 'perfectly', 'plausible', 'it', 'was', '.', 'maybe', 'on', 'another', 'day', ',', 'perhaps', 'when', 'they', \"'\", 're', 'serving', 'something', 'spicy', '.', '\"', 'sirius', 'argued', ',', '\"', 'but', ',', 'you', \"'\", 're', 'mad', 'too', 'right', '?', 'i', \"'\", 'm', 'not', 'just', 'being', 'dramatic', '?', '\"', '\"', 'i', \"'\", 'm', 'not', 'mad', ',', '\"', 'james', 'shrugged', ',', '\"', 'i', \"'\", 'm', 'actually', 'impressed', 'he', 'managed', 'to', 'get', 'out', 'of', 'it', '.', '\"', 'sirius', 'let', 'out', 'an', ',', 'ironically', ',', 'dramatic', 'sigh', 'before', 'collapsing', 'further', 'into', 'the', 'floor', 'as', 'if', 'it', 'would', 'swallow', 'his', 'whole', ',', '\"', 'i', \"'\", 'm', 'totally', 'being', 'dramatic', '.', '\"', 'what', 'he', 'wasn', \"'\", 't', 'going', 'to', 'tell', 'sirius', 'is', 'that', 'he', 'was', 'always', 'dramatic', ',', 'he', \"'\", 'd', 'even', '(', 'un', '##k', '##now', '##ingly', ')', 'received', 'the', 'nickname', \"'\", 'attention', 'whore', \"'\", ',', 'not', 'only', 'from', 'james', ',', 're', '##mus', 'and', 'pete', 'but', 'it', 'had', 'additionally', 'spread', 'to', 'the', 'girls', 'group', ',', '\"', 'should', 'i', 'ap', '##olo', '##gis', '##e', 'to', 'him', '?', '\"', '\"', 'yes', '!', '\"', 'james', 'shouted', ',', 'happy', 'that', 'for', 'once', 'he', 'hadn', \"'\", 't', 'needed', 'to', 'bring', 'up', 'the', 'simple', 'solution', 'of', 'ap', '##olo', '##gis', '##ing', '.', 'as', 'sirius', \"'\", 'reward', 'james', 'decided', 'to', 'snatch', 'up', 'the', 'dust', '##er', 'and', 'wipe', 'away', 'the', 'fine', 'particles', 'of', 'dust', ',', 'there', 'was', 'a', 'rather', 'large', 'sum', 'of', 'it', '.', 'in', 'fact', ',', 'the', 'whole', 'room', 'seemed', 'to', 'have', 'slept', 'in', 'a', 'blanket', 'of', 'the', 'silk', '##en', 'dust', '.', 'after', 'picking', 'up', 'as', 'much', 'as', 'he', 'could', ',', 'he', 'took', 'the', 'dust', '##er', 'and', 'weave', '##d', 'it', 'into', 'sirius', 'hair', 'until', 'the', 'boy', 's', '##nee', '##zed', 'over', 'and', 'over', ',', 'wiping', 'a', 'trail', 'of', 's', '##not', 'from', 'under', 'his', 'nose', '.', '\"', 'careful', ',', 'with', 'the', 'wet', 'hair', 'and', 's', '##not', '##ty', 'gr', '##ott', '##y', 'nose', 'you', \"'\", 're', 'looking', 'far', 'too', 'similar', 'to', 'our', 'dear', 'friend', 'se', '##ver', '##us', '.', '\"', 'james', 'shouted', 'as', 'he', 'skipped', 'out', 'the', 'room', ',', 'prepared', 'to', 'trek', 'onto', 'their', 'next', 'area', 'they', \"'\", 'd', 'been', 'tasked', 'to', 'dust', ',', 'wipe', ',', 'mo', '##p', 'and', 'clean', '(', 'and', 'then', 'repeat', 'because', 'apparently', 'their', \"'\", 'cleaning', \"'\", 'wasn', \"'\", 't', 'up', 'to', 'par', 'to', 'the', 'school', \"'\", 's', 'so', 'they', \"'\", 'd', 'ought', 'to', 'do', 'double', 'the', 'amount', ')', '.']\n"
          ]
        }
      ]
    },
    {
      "cell_type": "markdown",
      "source": [
        "We will now format out text in to input features which the BERT model expects. We will also set a sequence length which will be the length of the input features."
      ],
      "metadata": {
        "id": "RFvKerXW99jj"
      }
    },
    {
      "cell_type": "markdown",
      "source": [
        "Okay so this is where you set the length"
      ],
      "metadata": {
        "id": "VJM_sayA-D9E"
      }
    },
    {
      "cell_type": "code",
      "source": [
        "MAX_SEQ_LENGTH = 512\n",
        "#Convert our train and validation features to InputFeatures that BERT understands.\n",
        "train_features = bert.run_classifier.convert_examples_to_features(train_InputExamples, label_list, MAX_SEQ_LENGTH, tokenizer)\n",
        "  \n",
        "val_features = bert.run_classifier.convert_examples_to_features(val_InputExamples, label_list, MAX_SEQ_LENGTH, tokenizer)"
      ],
      "metadata": {
        "colab": {
          "base_uri": "https://localhost:8080/"
        },
        "id": "QNuhMfPH98Cp",
        "outputId": "edff5448-8047-4e08-fe25-4028e7aae2a6"
      },
      "execution_count": null,
      "outputs": [
        {
          "output_type": "stream",
          "name": "stdout",
          "text": [
            "WARNING:tensorflow:From /usr/local/lib/python3.7/dist-packages/bert/run_classifier.py:774: The name tf.logging.info is deprecated. Please use tf.compat.v1.logging.info instead.\n",
            "\n"
          ]
        },
        {
          "output_type": "stream",
          "name": "stderr",
          "text": [
            "WARNING:tensorflow:From /usr/local/lib/python3.7/dist-packages/bert/run_classifier.py:774: The name tf.logging.info is deprecated. Please use tf.compat.v1.logging.info instead.\n",
            "\n"
          ]
        },
        {
          "output_type": "stream",
          "name": "stdout",
          "text": [
            "INFO:tensorflow:Writing example 0 of 176\n"
          ]
        },
        {
          "output_type": "stream",
          "name": "stderr",
          "text": [
            "INFO:tensorflow:Writing example 0 of 176\n"
          ]
        },
        {
          "output_type": "stream",
          "name": "stdout",
          "text": [
            "INFO:tensorflow:*** Example ***\n"
          ]
        },
        {
          "output_type": "stream",
          "name": "stderr",
          "text": [
            "INFO:tensorflow:*** Example ***\n"
          ]
        },
        {
          "output_type": "stream",
          "name": "stdout",
          "text": [
            "INFO:tensorflow:guid: None\n"
          ]
        },
        {
          "output_type": "stream",
          "name": "stderr",
          "text": [
            "INFO:tensorflow:guid: None\n"
          ]
        },
        {
          "output_type": "stream",
          "name": "stdout",
          "text": [
            "INFO:tensorflow:tokens: [CLS] the lamp leaked a watery orange light over reg ##ulus . it hadn ' t turned incredibly late yet , however , the sky had begun to bruise earlier and earlier as the wind had started to chill . reg ##ulus enjoyed coming here , when the room was death ##ly silent , bar the sound of his own feet and shaken breath ; it had helped the world feel less bleak and removed the feeling that everything around him was pains ##taking ##ly empty . his lungs had begun to shrink so much they were near - shattering , filled an abundance of press ##uri ##sed breath . pandora had told him that should he over ##work himself too much he ' d end up not being able to perform at all . reg ##ulus had decided he ' d rather not perform as a result of an injury than suffer being given a med ##io ##cre part at best . he was destined for an actual role in the performance of romeo and juliet , he ' d thought , and he wouldn ' t put up for less than romeo - bart ##y had also then chimed in to say that was wish ##ful thinking and he was more suited for juliet . though reg ##ulus had never wanted to admit this , for it was far too soap - operatic for his liking , he found the whole premise of romeo and juliet rather intriguing . two young lovers thwarted by others ' hate , a tragedy he found beautiful . he also thought that he would never sacrifice his life for another and that the whole ending was very stupid and could ' ve easily been stopped had juliet not sat gaping . reg ##ulus moved like a swan , gliding elegant ##ly across the floor of the studio , watching his posture intently in the mirror , his stage - smiled stiffened around the edges as his feet didn ' t move the way his brain had wanted them to . he rested his hands against the barre , looking up at himself in the mirror through his eyelashes he knew tomorrow his whole body would ache deeper than the muscle and bone , but right now it was numb , he couldn ' t feel a single pin ##pr ##ick against his skin and once he ' d reached this point he willed to keep moving , make the most of his precious time of stillness . he tapped his heels together , feet fighting , and straightened his knees . the person in the mirror hadn ' t looked like him , a vision of a little boat rocking widely on the waves popped up in his head . it slowly calmed to a pl ##ac ##id still , but when you had looked underneath the sea ##weed had tangled into a rotten mess , it caused him to fa ##lter for a moment and he completely dropped again . he was [SEP]\n"
          ]
        },
        {
          "output_type": "stream",
          "name": "stderr",
          "text": [
            "INFO:tensorflow:tokens: [CLS] the lamp leaked a watery orange light over reg ##ulus . it hadn ' t turned incredibly late yet , however , the sky had begun to bruise earlier and earlier as the wind had started to chill . reg ##ulus enjoyed coming here , when the room was death ##ly silent , bar the sound of his own feet and shaken breath ; it had helped the world feel less bleak and removed the feeling that everything around him was pains ##taking ##ly empty . his lungs had begun to shrink so much they were near - shattering , filled an abundance of press ##uri ##sed breath . pandora had told him that should he over ##work himself too much he ' d end up not being able to perform at all . reg ##ulus had decided he ' d rather not perform as a result of an injury than suffer being given a med ##io ##cre part at best . he was destined for an actual role in the performance of romeo and juliet , he ' d thought , and he wouldn ' t put up for less than romeo - bart ##y had also then chimed in to say that was wish ##ful thinking and he was more suited for juliet . though reg ##ulus had never wanted to admit this , for it was far too soap - operatic for his liking , he found the whole premise of romeo and juliet rather intriguing . two young lovers thwarted by others ' hate , a tragedy he found beautiful . he also thought that he would never sacrifice his life for another and that the whole ending was very stupid and could ' ve easily been stopped had juliet not sat gaping . reg ##ulus moved like a swan , gliding elegant ##ly across the floor of the studio , watching his posture intently in the mirror , his stage - smiled stiffened around the edges as his feet didn ' t move the way his brain had wanted them to . he rested his hands against the barre , looking up at himself in the mirror through his eyelashes he knew tomorrow his whole body would ache deeper than the muscle and bone , but right now it was numb , he couldn ' t feel a single pin ##pr ##ick against his skin and once he ' d reached this point he willed to keep moving , make the most of his precious time of stillness . he tapped his heels together , feet fighting , and straightened his knees . the person in the mirror hadn ' t looked like him , a vision of a little boat rocking widely on the waves popped up in his head . it slowly calmed to a pl ##ac ##id still , but when you had looked underneath the sea ##weed had tangled into a rotten mess , it caused him to fa ##lter for a moment and he completely dropped again . he was [SEP]\n"
          ]
        },
        {
          "output_type": "stream",
          "name": "stdout",
          "text": [
            "INFO:tensorflow:input_ids: 101 1996 10437 15748 1037 28259 4589 2422 2058 19723 11627 1012 2009 2910 1005 1056 2357 11757 2397 2664 1010 2174 1010 1996 3712 2018 5625 2000 24851 3041 1998 3041 2004 1996 3612 2018 2318 2000 10720 1012 19723 11627 5632 2746 2182 1010 2043 1996 2282 2001 2331 2135 4333 1010 3347 1996 2614 1997 2010 2219 2519 1998 16697 3052 1025 2009 2018 3271 1996 2088 2514 2625 21657 1998 3718 1996 3110 2008 2673 2105 2032 2001 20398 17904 2135 4064 1012 2010 8948 2018 5625 2000 22802 2061 2172 2027 2020 2379 1011 21797 1010 3561 2019 14531 1997 2811 9496 6924 3052 1012 19066 2018 2409 2032 2008 2323 2002 2058 6198 2370 2205 2172 2002 1005 1040 2203 2039 2025 2108 2583 2000 4685 2012 2035 1012 19723 11627 2018 2787 2002 1005 1040 2738 2025 4685 2004 1037 2765 1997 2019 4544 2084 9015 2108 2445 1037 19960 3695 16748 2112 2012 2190 1012 2002 2001 16036 2005 2019 5025 2535 1999 1996 2836 1997 12390 1998 13707 1010 2002 1005 1040 2245 1010 1998 2002 2876 1005 1056 2404 2039 2005 2625 2084 12390 1011 12075 2100 2018 2036 2059 27460 1999 2000 2360 2008 2001 4299 3993 3241 1998 2002 2001 2062 10897 2005 13707 1012 2295 19723 11627 2018 2196 2359 2000 6449 2023 1010 2005 2009 2001 2521 2205 7815 1011 22534 2005 2010 16663 1010 2002 2179 1996 2878 18458 1997 12390 1998 13707 2738 23824 1012 2048 2402 10205 28409 2011 2500 1005 5223 1010 1037 10576 2002 2179 3376 1012 2002 2036 2245 2008 2002 2052 2196 8688 2010 2166 2005 2178 1998 2008 1996 2878 4566 2001 2200 5236 1998 2071 1005 2310 4089 2042 3030 2018 13707 2025 2938 21226 1012 19723 11627 2333 2066 1037 10677 1010 20292 11552 2135 2408 1996 2723 1997 1996 2996 1010 3666 2010 16819 16170 1999 1996 5259 1010 2010 2754 1011 3281 16090 2105 1996 7926 2004 2010 2519 2134 1005 1056 2693 1996 2126 2010 4167 2018 2359 2068 2000 1012 2002 8614 2010 2398 2114 1996 23189 1010 2559 2039 2012 2370 1999 1996 5259 2083 2010 25150 2002 2354 4826 2010 2878 2303 2052 12336 6748 2084 1996 6740 1998 5923 1010 2021 2157 2085 2009 2001 15903 1010 2002 2481 1005 1056 2514 1037 2309 9231 18098 6799 2114 2010 3096 1998 2320 2002 1005 1040 2584 2023 2391 2002 22705 2000 2562 3048 1010 2191 1996 2087 1997 2010 9062 2051 1997 29435 1012 2002 10410 2010 8265 2362 1010 2519 3554 1010 1998 11168 2010 5042 1012 1996 2711 1999 1996 5259 2910 1005 1056 2246 2066 2032 1010 1037 4432 1997 1037 2210 4049 14934 4235 2006 1996 5975 10538 2039 1999 2010 2132 1012 2009 3254 20869 2000 1037 20228 6305 3593 2145 1010 2021 2043 2017 2018 2246 7650 1996 2712 18041 2018 14170 2046 1037 11083 6752 1010 2009 3303 2032 2000 6904 21928 2005 1037 2617 1998 2002 3294 3333 2153 1012 2002 2001 102\n"
          ]
        },
        {
          "output_type": "stream",
          "name": "stderr",
          "text": [
            "INFO:tensorflow:input_ids: 101 1996 10437 15748 1037 28259 4589 2422 2058 19723 11627 1012 2009 2910 1005 1056 2357 11757 2397 2664 1010 2174 1010 1996 3712 2018 5625 2000 24851 3041 1998 3041 2004 1996 3612 2018 2318 2000 10720 1012 19723 11627 5632 2746 2182 1010 2043 1996 2282 2001 2331 2135 4333 1010 3347 1996 2614 1997 2010 2219 2519 1998 16697 3052 1025 2009 2018 3271 1996 2088 2514 2625 21657 1998 3718 1996 3110 2008 2673 2105 2032 2001 20398 17904 2135 4064 1012 2010 8948 2018 5625 2000 22802 2061 2172 2027 2020 2379 1011 21797 1010 3561 2019 14531 1997 2811 9496 6924 3052 1012 19066 2018 2409 2032 2008 2323 2002 2058 6198 2370 2205 2172 2002 1005 1040 2203 2039 2025 2108 2583 2000 4685 2012 2035 1012 19723 11627 2018 2787 2002 1005 1040 2738 2025 4685 2004 1037 2765 1997 2019 4544 2084 9015 2108 2445 1037 19960 3695 16748 2112 2012 2190 1012 2002 2001 16036 2005 2019 5025 2535 1999 1996 2836 1997 12390 1998 13707 1010 2002 1005 1040 2245 1010 1998 2002 2876 1005 1056 2404 2039 2005 2625 2084 12390 1011 12075 2100 2018 2036 2059 27460 1999 2000 2360 2008 2001 4299 3993 3241 1998 2002 2001 2062 10897 2005 13707 1012 2295 19723 11627 2018 2196 2359 2000 6449 2023 1010 2005 2009 2001 2521 2205 7815 1011 22534 2005 2010 16663 1010 2002 2179 1996 2878 18458 1997 12390 1998 13707 2738 23824 1012 2048 2402 10205 28409 2011 2500 1005 5223 1010 1037 10576 2002 2179 3376 1012 2002 2036 2245 2008 2002 2052 2196 8688 2010 2166 2005 2178 1998 2008 1996 2878 4566 2001 2200 5236 1998 2071 1005 2310 4089 2042 3030 2018 13707 2025 2938 21226 1012 19723 11627 2333 2066 1037 10677 1010 20292 11552 2135 2408 1996 2723 1997 1996 2996 1010 3666 2010 16819 16170 1999 1996 5259 1010 2010 2754 1011 3281 16090 2105 1996 7926 2004 2010 2519 2134 1005 1056 2693 1996 2126 2010 4167 2018 2359 2068 2000 1012 2002 8614 2010 2398 2114 1996 23189 1010 2559 2039 2012 2370 1999 1996 5259 2083 2010 25150 2002 2354 4826 2010 2878 2303 2052 12336 6748 2084 1996 6740 1998 5923 1010 2021 2157 2085 2009 2001 15903 1010 2002 2481 1005 1056 2514 1037 2309 9231 18098 6799 2114 2010 3096 1998 2320 2002 1005 1040 2584 2023 2391 2002 22705 2000 2562 3048 1010 2191 1996 2087 1997 2010 9062 2051 1997 29435 1012 2002 10410 2010 8265 2362 1010 2519 3554 1010 1998 11168 2010 5042 1012 1996 2711 1999 1996 5259 2910 1005 1056 2246 2066 2032 1010 1037 4432 1997 1037 2210 4049 14934 4235 2006 1996 5975 10538 2039 1999 2010 2132 1012 2009 3254 20869 2000 1037 20228 6305 3593 2145 1010 2021 2043 2017 2018 2246 7650 1996 2712 18041 2018 14170 2046 1037 11083 6752 1010 2009 3303 2032 2000 6904 21928 2005 1037 2617 1998 2002 3294 3333 2153 1012 2002 2001 102\n"
          ]
        },
        {
          "output_type": "stream",
          "name": "stdout",
          "text": [
            "INFO:tensorflow:input_mask: 1 1 1 1 1 1 1 1 1 1 1 1 1 1 1 1 1 1 1 1 1 1 1 1 1 1 1 1 1 1 1 1 1 1 1 1 1 1 1 1 1 1 1 1 1 1 1 1 1 1 1 1 1 1 1 1 1 1 1 1 1 1 1 1 1 1 1 1 1 1 1 1 1 1 1 1 1 1 1 1 1 1 1 1 1 1 1 1 1 1 1 1 1 1 1 1 1 1 1 1 1 1 1 1 1 1 1 1 1 1 1 1 1 1 1 1 1 1 1 1 1 1 1 1 1 1 1 1 1 1 1 1 1 1 1 1 1 1 1 1 1 1 1 1 1 1 1 1 1 1 1 1 1 1 1 1 1 1 1 1 1 1 1 1 1 1 1 1 1 1 1 1 1 1 1 1 1 1 1 1 1 1 1 1 1 1 1 1 1 1 1 1 1 1 1 1 1 1 1 1 1 1 1 1 1 1 1 1 1 1 1 1 1 1 1 1 1 1 1 1 1 1 1 1 1 1 1 1 1 1 1 1 1 1 1 1 1 1 1 1 1 1 1 1 1 1 1 1 1 1 1 1 1 1 1 1 1 1 1 1 1 1 1 1 1 1 1 1 1 1 1 1 1 1 1 1 1 1 1 1 1 1 1 1 1 1 1 1 1 1 1 1 1 1 1 1 1 1 1 1 1 1 1 1 1 1 1 1 1 1 1 1 1 1 1 1 1 1 1 1 1 1 1 1 1 1 1 1 1 1 1 1 1 1 1 1 1 1 1 1 1 1 1 1 1 1 1 1 1 1 1 1 1 1 1 1 1 1 1 1 1 1 1 1 1 1 1 1 1 1 1 1 1 1 1 1 1 1 1 1 1 1 1 1 1 1 1 1 1 1 1 1 1 1 1 1 1 1 1 1 1 1 1 1 1 1 1 1 1 1 1 1 1 1 1 1 1 1 1 1 1 1 1 1 1 1 1 1 1 1 1 1 1 1 1 1 1 1 1 1 1 1 1 1 1 1 1 1 1 1 1 1 1 1 1 1 1 1 1 1 1 1 1 1 1 1 1 1 1 1 1 1 1 1 1 1 1 1 1 1 1 1 1 1 1 1 1 1 1 1 1 1 1 1 1 1 1 1 1 1 1 1 1 1 1 1 1 1 1 1 1 1\n"
          ]
        },
        {
          "output_type": "stream",
          "name": "stderr",
          "text": [
            "INFO:tensorflow:input_mask: 1 1 1 1 1 1 1 1 1 1 1 1 1 1 1 1 1 1 1 1 1 1 1 1 1 1 1 1 1 1 1 1 1 1 1 1 1 1 1 1 1 1 1 1 1 1 1 1 1 1 1 1 1 1 1 1 1 1 1 1 1 1 1 1 1 1 1 1 1 1 1 1 1 1 1 1 1 1 1 1 1 1 1 1 1 1 1 1 1 1 1 1 1 1 1 1 1 1 1 1 1 1 1 1 1 1 1 1 1 1 1 1 1 1 1 1 1 1 1 1 1 1 1 1 1 1 1 1 1 1 1 1 1 1 1 1 1 1 1 1 1 1 1 1 1 1 1 1 1 1 1 1 1 1 1 1 1 1 1 1 1 1 1 1 1 1 1 1 1 1 1 1 1 1 1 1 1 1 1 1 1 1 1 1 1 1 1 1 1 1 1 1 1 1 1 1 1 1 1 1 1 1 1 1 1 1 1 1 1 1 1 1 1 1 1 1 1 1 1 1 1 1 1 1 1 1 1 1 1 1 1 1 1 1 1 1 1 1 1 1 1 1 1 1 1 1 1 1 1 1 1 1 1 1 1 1 1 1 1 1 1 1 1 1 1 1 1 1 1 1 1 1 1 1 1 1 1 1 1 1 1 1 1 1 1 1 1 1 1 1 1 1 1 1 1 1 1 1 1 1 1 1 1 1 1 1 1 1 1 1 1 1 1 1 1 1 1 1 1 1 1 1 1 1 1 1 1 1 1 1 1 1 1 1 1 1 1 1 1 1 1 1 1 1 1 1 1 1 1 1 1 1 1 1 1 1 1 1 1 1 1 1 1 1 1 1 1 1 1 1 1 1 1 1 1 1 1 1 1 1 1 1 1 1 1 1 1 1 1 1 1 1 1 1 1 1 1 1 1 1 1 1 1 1 1 1 1 1 1 1 1 1 1 1 1 1 1 1 1 1 1 1 1 1 1 1 1 1 1 1 1 1 1 1 1 1 1 1 1 1 1 1 1 1 1 1 1 1 1 1 1 1 1 1 1 1 1 1 1 1 1 1 1 1 1 1 1 1 1 1 1 1 1 1 1 1 1 1 1 1 1 1 1 1 1 1 1 1 1 1 1 1 1 1 1 1 1 1 1 1 1 1 1 1 1 1 1 1 1 1 1 1\n"
          ]
        },
        {
          "output_type": "stream",
          "name": "stdout",
          "text": [
            "INFO:tensorflow:segment_ids: 0 0 0 0 0 0 0 0 0 0 0 0 0 0 0 0 0 0 0 0 0 0 0 0 0 0 0 0 0 0 0 0 0 0 0 0 0 0 0 0 0 0 0 0 0 0 0 0 0 0 0 0 0 0 0 0 0 0 0 0 0 0 0 0 0 0 0 0 0 0 0 0 0 0 0 0 0 0 0 0 0 0 0 0 0 0 0 0 0 0 0 0 0 0 0 0 0 0 0 0 0 0 0 0 0 0 0 0 0 0 0 0 0 0 0 0 0 0 0 0 0 0 0 0 0 0 0 0 0 0 0 0 0 0 0 0 0 0 0 0 0 0 0 0 0 0 0 0 0 0 0 0 0 0 0 0 0 0 0 0 0 0 0 0 0 0 0 0 0 0 0 0 0 0 0 0 0 0 0 0 0 0 0 0 0 0 0 0 0 0 0 0 0 0 0 0 0 0 0 0 0 0 0 0 0 0 0 0 0 0 0 0 0 0 0 0 0 0 0 0 0 0 0 0 0 0 0 0 0 0 0 0 0 0 0 0 0 0 0 0 0 0 0 0 0 0 0 0 0 0 0 0 0 0 0 0 0 0 0 0 0 0 0 0 0 0 0 0 0 0 0 0 0 0 0 0 0 0 0 0 0 0 0 0 0 0 0 0 0 0 0 0 0 0 0 0 0 0 0 0 0 0 0 0 0 0 0 0 0 0 0 0 0 0 0 0 0 0 0 0 0 0 0 0 0 0 0 0 0 0 0 0 0 0 0 0 0 0 0 0 0 0 0 0 0 0 0 0 0 0 0 0 0 0 0 0 0 0 0 0 0 0 0 0 0 0 0 0 0 0 0 0 0 0 0 0 0 0 0 0 0 0 0 0 0 0 0 0 0 0 0 0 0 0 0 0 0 0 0 0 0 0 0 0 0 0 0 0 0 0 0 0 0 0 0 0 0 0 0 0 0 0 0 0 0 0 0 0 0 0 0 0 0 0 0 0 0 0 0 0 0 0 0 0 0 0 0 0 0 0 0 0 0 0 0 0 0 0 0 0 0 0 0 0 0 0 0 0 0 0 0 0 0 0 0 0 0 0 0 0 0 0 0 0 0 0 0 0 0 0 0 0 0 0 0 0 0 0 0 0 0 0 0 0 0 0 0 0 0 0 0 0\n"
          ]
        },
        {
          "output_type": "stream",
          "name": "stderr",
          "text": [
            "INFO:tensorflow:segment_ids: 0 0 0 0 0 0 0 0 0 0 0 0 0 0 0 0 0 0 0 0 0 0 0 0 0 0 0 0 0 0 0 0 0 0 0 0 0 0 0 0 0 0 0 0 0 0 0 0 0 0 0 0 0 0 0 0 0 0 0 0 0 0 0 0 0 0 0 0 0 0 0 0 0 0 0 0 0 0 0 0 0 0 0 0 0 0 0 0 0 0 0 0 0 0 0 0 0 0 0 0 0 0 0 0 0 0 0 0 0 0 0 0 0 0 0 0 0 0 0 0 0 0 0 0 0 0 0 0 0 0 0 0 0 0 0 0 0 0 0 0 0 0 0 0 0 0 0 0 0 0 0 0 0 0 0 0 0 0 0 0 0 0 0 0 0 0 0 0 0 0 0 0 0 0 0 0 0 0 0 0 0 0 0 0 0 0 0 0 0 0 0 0 0 0 0 0 0 0 0 0 0 0 0 0 0 0 0 0 0 0 0 0 0 0 0 0 0 0 0 0 0 0 0 0 0 0 0 0 0 0 0 0 0 0 0 0 0 0 0 0 0 0 0 0 0 0 0 0 0 0 0 0 0 0 0 0 0 0 0 0 0 0 0 0 0 0 0 0 0 0 0 0 0 0 0 0 0 0 0 0 0 0 0 0 0 0 0 0 0 0 0 0 0 0 0 0 0 0 0 0 0 0 0 0 0 0 0 0 0 0 0 0 0 0 0 0 0 0 0 0 0 0 0 0 0 0 0 0 0 0 0 0 0 0 0 0 0 0 0 0 0 0 0 0 0 0 0 0 0 0 0 0 0 0 0 0 0 0 0 0 0 0 0 0 0 0 0 0 0 0 0 0 0 0 0 0 0 0 0 0 0 0 0 0 0 0 0 0 0 0 0 0 0 0 0 0 0 0 0 0 0 0 0 0 0 0 0 0 0 0 0 0 0 0 0 0 0 0 0 0 0 0 0 0 0 0 0 0 0 0 0 0 0 0 0 0 0 0 0 0 0 0 0 0 0 0 0 0 0 0 0 0 0 0 0 0 0 0 0 0 0 0 0 0 0 0 0 0 0 0 0 0 0 0 0 0 0 0 0 0 0 0 0 0 0 0 0 0 0 0 0 0 0 0 0 0 0 0 0 0 0 0 0 0 0 0 0 0 0 0 0 0\n"
          ]
        },
        {
          "output_type": "stream",
          "name": "stdout",
          "text": [
            "INFO:tensorflow:label: 3 (id = 3)\n"
          ]
        },
        {
          "output_type": "stream",
          "name": "stderr",
          "text": [
            "INFO:tensorflow:label: 3 (id = 3)\n"
          ]
        },
        {
          "output_type": "stream",
          "name": "stdout",
          "text": [
            "INFO:tensorflow:*** Example ***\n"
          ]
        },
        {
          "output_type": "stream",
          "name": "stderr",
          "text": [
            "INFO:tensorflow:*** Example ***\n"
          ]
        },
        {
          "output_type": "stream",
          "name": "stdout",
          "text": [
            "INFO:tensorflow:guid: None\n"
          ]
        },
        {
          "output_type": "stream",
          "name": "stderr",
          "text": [
            "INFO:tensorflow:guid: None\n"
          ]
        },
        {
          "output_type": "stream",
          "name": "stdout",
          "text": [
            "INFO:tensorflow:tokens: [CLS] slow . everything was more beautiful when presented at the pace of se ##dation . although , you were more or less an exception . fast , slow , or moderate in ga ##it . appearing at once hurried and anxious for time , yet also confident and afford ##ing of its luxury . slow was the poison once consumed or injected . rapid when administered by humans . relaxed by serpent ##s . \" blue rocket \" was a common alias . its colour symbolic of calm , melancholy , steady . the \" rocket \" being descriptive of opposite ##s attracting , quick and method ##ical , yet premature as the death of its poisonous moniker . slow is the descent . syrup ##y , sick ##ly sweet down the throat . descending further to sa ##vo ##ury madness . slow is how he enjoys time . fused into the perennial seed of all things se ##mp ##iter ##nal . so too does he have you , pulse preserved in the memory of touch . whorls impressed by the en ##tic ##ing spice of resistance throbbing a dull rhythm beneath the flesh . your quivering skin dances to the uncommon sense . he ' s me ##sm ##eri ##sed by each swallow . almost pet ##rified by the vision of you , muscles and limbs con ##vu ##ls ##ing in symphony . a ballet of bones , flesh and teeth . and oh , the beauty of teeth . bared as pulled rub ##ies against ivory . expression , a con ##tort ##ion ##ist act . no pleasure to blur the pain co ##urs ##ing through your veins , inverted colours tracing the smooth , blank canvas of your complexion , un ##mar ##red , un ##sca ##rred , inexperienced to the fore ##play of magic . limb , teeth and sweat across the floor was the picture you painted . sat beside him in potion ##s , you were too trusting . too un ##quest ##ion ##ing of the ingredients . when he was made privy to slug ##horn assign ##ing you as his partner , an orphaned mug ##gle ##born who happened to be academic ##ally exceptional , he made it his duty to make the experience of working with tom riddle miserable . while not being pure ##blood ##ed himself , at least he could still lay claim to some magical parent ##age . although , if he had been anything of further inferior ##ity , he supposed mug ##gle ##born would be the lesser evil compared to being a sq ##ui ##b . he would never admit how unfair it was . to call it unfair would be to confess envy . to admit that someone was better than him . the te ##mer ##ity you possessed by daring to be the way you are . pathetic , was the best his vocabulary could con ##jure in response to one who was clearly com ##pen ##sat ##ing for such so ##rdi ##d lineage . [SEP]\n"
          ]
        },
        {
          "output_type": "stream",
          "name": "stderr",
          "text": [
            "INFO:tensorflow:tokens: [CLS] slow . everything was more beautiful when presented at the pace of se ##dation . although , you were more or less an exception . fast , slow , or moderate in ga ##it . appearing at once hurried and anxious for time , yet also confident and afford ##ing of its luxury . slow was the poison once consumed or injected . rapid when administered by humans . relaxed by serpent ##s . \" blue rocket \" was a common alias . its colour symbolic of calm , melancholy , steady . the \" rocket \" being descriptive of opposite ##s attracting , quick and method ##ical , yet premature as the death of its poisonous moniker . slow is the descent . syrup ##y , sick ##ly sweet down the throat . descending further to sa ##vo ##ury madness . slow is how he enjoys time . fused into the perennial seed of all things se ##mp ##iter ##nal . so too does he have you , pulse preserved in the memory of touch . whorls impressed by the en ##tic ##ing spice of resistance throbbing a dull rhythm beneath the flesh . your quivering skin dances to the uncommon sense . he ' s me ##sm ##eri ##sed by each swallow . almost pet ##rified by the vision of you , muscles and limbs con ##vu ##ls ##ing in symphony . a ballet of bones , flesh and teeth . and oh , the beauty of teeth . bared as pulled rub ##ies against ivory . expression , a con ##tort ##ion ##ist act . no pleasure to blur the pain co ##urs ##ing through your veins , inverted colours tracing the smooth , blank canvas of your complexion , un ##mar ##red , un ##sca ##rred , inexperienced to the fore ##play of magic . limb , teeth and sweat across the floor was the picture you painted . sat beside him in potion ##s , you were too trusting . too un ##quest ##ion ##ing of the ingredients . when he was made privy to slug ##horn assign ##ing you as his partner , an orphaned mug ##gle ##born who happened to be academic ##ally exceptional , he made it his duty to make the experience of working with tom riddle miserable . while not being pure ##blood ##ed himself , at least he could still lay claim to some magical parent ##age . although , if he had been anything of further inferior ##ity , he supposed mug ##gle ##born would be the lesser evil compared to being a sq ##ui ##b . he would never admit how unfair it was . to call it unfair would be to confess envy . to admit that someone was better than him . the te ##mer ##ity you possessed by daring to be the way you are . pathetic , was the best his vocabulary could con ##jure in response to one who was clearly com ##pen ##sat ##ing for such so ##rdi ##d lineage . [SEP]\n"
          ]
        },
        {
          "output_type": "stream",
          "name": "stdout",
          "text": [
            "INFO:tensorflow:input_ids: 101 4030 1012 2673 2001 2062 3376 2043 3591 2012 1996 6393 1997 7367 20207 1012 2348 1010 2017 2020 2062 2030 2625 2019 6453 1012 3435 1010 4030 1010 2030 8777 1999 11721 4183 1012 6037 2012 2320 9520 1998 11480 2005 2051 1010 2664 2036 9657 1998 8984 2075 1997 2049 9542 1012 4030 2001 1996 9947 2320 10202 2030 19737 1012 5915 2043 8564 2011 4286 1012 8363 2011 16517 2015 1012 1000 2630 7596 1000 2001 1037 2691 14593 1012 2049 6120 12613 1997 5475 1010 22247 1010 6706 1012 1996 1000 7596 1000 2108 22726 1997 4500 2015 15411 1010 4248 1998 4118 7476 1010 2664 21371 2004 1996 2331 1997 2049 22641 21937 1012 4030 2003 1996 6934 1012 23353 2100 1010 5305 2135 4086 2091 1996 3759 1012 15127 2582 2000 7842 6767 13098 12013 1012 4030 2003 2129 2002 15646 2051 1012 19660 2046 1996 14638 6534 1997 2035 2477 7367 8737 21646 12032 1012 2061 2205 2515 2002 2031 2017 1010 8187 6560 1999 1996 3638 1997 3543 1012 25637 7622 2011 1996 4372 4588 2075 17688 1997 5012 17061 1037 10634 6348 4218 1996 5771 1012 2115 26012 3096 11278 2000 1996 13191 3168 1012 2002 1005 1055 2033 6491 11124 6924 2011 2169 10577 1012 2471 9004 22618 2011 1996 4432 1997 2017 1010 6650 1998 10726 9530 19722 4877 2075 1999 6189 1012 1037 7250 1997 5944 1010 5771 1998 4091 1012 1998 2821 1010 1996 5053 1997 4091 1012 23485 2004 2766 14548 3111 2114 11554 1012 3670 1010 1037 9530 25485 3258 2923 2552 1012 2053 5165 2000 14819 1996 3255 2522 9236 2075 2083 2115 9607 1010 20037 8604 16907 1996 5744 1010 8744 10683 1997 2115 28838 1010 4895 7849 5596 1010 4895 15782 20529 1010 26252 2000 1996 18921 13068 1997 3894 1012 15291 1010 4091 1998 7518 2408 1996 2723 2001 1996 3861 2017 4993 1012 2938 3875 2032 1999 26722 2015 1010 2017 2020 2205 19836 1012 2205 4895 15500 3258 2075 1997 1996 12760 1012 2043 2002 2001 2081 14452 2000 23667 9769 23911 2075 2017 2004 2010 4256 1010 2019 27093 14757 9354 10280 2040 3047 2000 2022 3834 3973 11813 1010 2002 2081 2009 2010 4611 2000 2191 1996 3325 1997 2551 2007 3419 21834 13736 1012 2096 2025 2108 5760 26682 2098 2370 1010 2012 2560 2002 2071 2145 3913 4366 2000 2070 8687 6687 4270 1012 2348 1010 2065 2002 2018 2042 2505 1997 2582 14092 3012 1010 2002 4011 14757 9354 10280 2052 2022 1996 8276 4763 4102 2000 2108 1037 5490 10179 2497 1012 2002 2052 2196 6449 2129 15571 2009 2001 1012 2000 2655 2009 15571 2052 2022 2000 18766 21103 1012 2000 6449 2008 2619 2001 2488 2084 2032 1012 1996 8915 5017 3012 2017 8679 2011 15236 2000 2022 1996 2126 2017 2024 1012 17203 1010 2001 1996 2190 2010 16188 2071 9530 25243 1999 3433 2000 2028 2040 2001 4415 4012 11837 16846 2075 2005 2107 2061 17080 2094 13321 1012 102\n"
          ]
        },
        {
          "output_type": "stream",
          "name": "stderr",
          "text": [
            "INFO:tensorflow:input_ids: 101 4030 1012 2673 2001 2062 3376 2043 3591 2012 1996 6393 1997 7367 20207 1012 2348 1010 2017 2020 2062 2030 2625 2019 6453 1012 3435 1010 4030 1010 2030 8777 1999 11721 4183 1012 6037 2012 2320 9520 1998 11480 2005 2051 1010 2664 2036 9657 1998 8984 2075 1997 2049 9542 1012 4030 2001 1996 9947 2320 10202 2030 19737 1012 5915 2043 8564 2011 4286 1012 8363 2011 16517 2015 1012 1000 2630 7596 1000 2001 1037 2691 14593 1012 2049 6120 12613 1997 5475 1010 22247 1010 6706 1012 1996 1000 7596 1000 2108 22726 1997 4500 2015 15411 1010 4248 1998 4118 7476 1010 2664 21371 2004 1996 2331 1997 2049 22641 21937 1012 4030 2003 1996 6934 1012 23353 2100 1010 5305 2135 4086 2091 1996 3759 1012 15127 2582 2000 7842 6767 13098 12013 1012 4030 2003 2129 2002 15646 2051 1012 19660 2046 1996 14638 6534 1997 2035 2477 7367 8737 21646 12032 1012 2061 2205 2515 2002 2031 2017 1010 8187 6560 1999 1996 3638 1997 3543 1012 25637 7622 2011 1996 4372 4588 2075 17688 1997 5012 17061 1037 10634 6348 4218 1996 5771 1012 2115 26012 3096 11278 2000 1996 13191 3168 1012 2002 1005 1055 2033 6491 11124 6924 2011 2169 10577 1012 2471 9004 22618 2011 1996 4432 1997 2017 1010 6650 1998 10726 9530 19722 4877 2075 1999 6189 1012 1037 7250 1997 5944 1010 5771 1998 4091 1012 1998 2821 1010 1996 5053 1997 4091 1012 23485 2004 2766 14548 3111 2114 11554 1012 3670 1010 1037 9530 25485 3258 2923 2552 1012 2053 5165 2000 14819 1996 3255 2522 9236 2075 2083 2115 9607 1010 20037 8604 16907 1996 5744 1010 8744 10683 1997 2115 28838 1010 4895 7849 5596 1010 4895 15782 20529 1010 26252 2000 1996 18921 13068 1997 3894 1012 15291 1010 4091 1998 7518 2408 1996 2723 2001 1996 3861 2017 4993 1012 2938 3875 2032 1999 26722 2015 1010 2017 2020 2205 19836 1012 2205 4895 15500 3258 2075 1997 1996 12760 1012 2043 2002 2001 2081 14452 2000 23667 9769 23911 2075 2017 2004 2010 4256 1010 2019 27093 14757 9354 10280 2040 3047 2000 2022 3834 3973 11813 1010 2002 2081 2009 2010 4611 2000 2191 1996 3325 1997 2551 2007 3419 21834 13736 1012 2096 2025 2108 5760 26682 2098 2370 1010 2012 2560 2002 2071 2145 3913 4366 2000 2070 8687 6687 4270 1012 2348 1010 2065 2002 2018 2042 2505 1997 2582 14092 3012 1010 2002 4011 14757 9354 10280 2052 2022 1996 8276 4763 4102 2000 2108 1037 5490 10179 2497 1012 2002 2052 2196 6449 2129 15571 2009 2001 1012 2000 2655 2009 15571 2052 2022 2000 18766 21103 1012 2000 6449 2008 2619 2001 2488 2084 2032 1012 1996 8915 5017 3012 2017 8679 2011 15236 2000 2022 1996 2126 2017 2024 1012 17203 1010 2001 1996 2190 2010 16188 2071 9530 25243 1999 3433 2000 2028 2040 2001 4415 4012 11837 16846 2075 2005 2107 2061 17080 2094 13321 1012 102\n"
          ]
        },
        {
          "output_type": "stream",
          "name": "stdout",
          "text": [
            "INFO:tensorflow:input_mask: 1 1 1 1 1 1 1 1 1 1 1 1 1 1 1 1 1 1 1 1 1 1 1 1 1 1 1 1 1 1 1 1 1 1 1 1 1 1 1 1 1 1 1 1 1 1 1 1 1 1 1 1 1 1 1 1 1 1 1 1 1 1 1 1 1 1 1 1 1 1 1 1 1 1 1 1 1 1 1 1 1 1 1 1 1 1 1 1 1 1 1 1 1 1 1 1 1 1 1 1 1 1 1 1 1 1 1 1 1 1 1 1 1 1 1 1 1 1 1 1 1 1 1 1 1 1 1 1 1 1 1 1 1 1 1 1 1 1 1 1 1 1 1 1 1 1 1 1 1 1 1 1 1 1 1 1 1 1 1 1 1 1 1 1 1 1 1 1 1 1 1 1 1 1 1 1 1 1 1 1 1 1 1 1 1 1 1 1 1 1 1 1 1 1 1 1 1 1 1 1 1 1 1 1 1 1 1 1 1 1 1 1 1 1 1 1 1 1 1 1 1 1 1 1 1 1 1 1 1 1 1 1 1 1 1 1 1 1 1 1 1 1 1 1 1 1 1 1 1 1 1 1 1 1 1 1 1 1 1 1 1 1 1 1 1 1 1 1 1 1 1 1 1 1 1 1 1 1 1 1 1 1 1 1 1 1 1 1 1 1 1 1 1 1 1 1 1 1 1 1 1 1 1 1 1 1 1 1 1 1 1 1 1 1 1 1 1 1 1 1 1 1 1 1 1 1 1 1 1 1 1 1 1 1 1 1 1 1 1 1 1 1 1 1 1 1 1 1 1 1 1 1 1 1 1 1 1 1 1 1 1 1 1 1 1 1 1 1 1 1 1 1 1 1 1 1 1 1 1 1 1 1 1 1 1 1 1 1 1 1 1 1 1 1 1 1 1 1 1 1 1 1 1 1 1 1 1 1 1 1 1 1 1 1 1 1 1 1 1 1 1 1 1 1 1 1 1 1 1 1 1 1 1 1 1 1 1 1 1 1 1 1 1 1 1 1 1 1 1 1 1 1 1 1 1 1 1 1 1 1 1 1 1 1 1 1 1 1 1 1 1 1 1 1 1 1 1 1 1 1 1 1 1 1 1 1 1 1 1 1 1 1 1 1 1 1 1 1 1 1 1 1 1 1 1 1 1 1 1 1 1 1\n"
          ]
        },
        {
          "output_type": "stream",
          "name": "stderr",
          "text": [
            "INFO:tensorflow:input_mask: 1 1 1 1 1 1 1 1 1 1 1 1 1 1 1 1 1 1 1 1 1 1 1 1 1 1 1 1 1 1 1 1 1 1 1 1 1 1 1 1 1 1 1 1 1 1 1 1 1 1 1 1 1 1 1 1 1 1 1 1 1 1 1 1 1 1 1 1 1 1 1 1 1 1 1 1 1 1 1 1 1 1 1 1 1 1 1 1 1 1 1 1 1 1 1 1 1 1 1 1 1 1 1 1 1 1 1 1 1 1 1 1 1 1 1 1 1 1 1 1 1 1 1 1 1 1 1 1 1 1 1 1 1 1 1 1 1 1 1 1 1 1 1 1 1 1 1 1 1 1 1 1 1 1 1 1 1 1 1 1 1 1 1 1 1 1 1 1 1 1 1 1 1 1 1 1 1 1 1 1 1 1 1 1 1 1 1 1 1 1 1 1 1 1 1 1 1 1 1 1 1 1 1 1 1 1 1 1 1 1 1 1 1 1 1 1 1 1 1 1 1 1 1 1 1 1 1 1 1 1 1 1 1 1 1 1 1 1 1 1 1 1 1 1 1 1 1 1 1 1 1 1 1 1 1 1 1 1 1 1 1 1 1 1 1 1 1 1 1 1 1 1 1 1 1 1 1 1 1 1 1 1 1 1 1 1 1 1 1 1 1 1 1 1 1 1 1 1 1 1 1 1 1 1 1 1 1 1 1 1 1 1 1 1 1 1 1 1 1 1 1 1 1 1 1 1 1 1 1 1 1 1 1 1 1 1 1 1 1 1 1 1 1 1 1 1 1 1 1 1 1 1 1 1 1 1 1 1 1 1 1 1 1 1 1 1 1 1 1 1 1 1 1 1 1 1 1 1 1 1 1 1 1 1 1 1 1 1 1 1 1 1 1 1 1 1 1 1 1 1 1 1 1 1 1 1 1 1 1 1 1 1 1 1 1 1 1 1 1 1 1 1 1 1 1 1 1 1 1 1 1 1 1 1 1 1 1 1 1 1 1 1 1 1 1 1 1 1 1 1 1 1 1 1 1 1 1 1 1 1 1 1 1 1 1 1 1 1 1 1 1 1 1 1 1 1 1 1 1 1 1 1 1 1 1 1 1 1 1 1 1 1 1 1 1 1 1 1 1 1 1 1 1 1 1 1 1 1 1 1 1 1\n"
          ]
        },
        {
          "output_type": "stream",
          "name": "stdout",
          "text": [
            "INFO:tensorflow:segment_ids: 0 0 0 0 0 0 0 0 0 0 0 0 0 0 0 0 0 0 0 0 0 0 0 0 0 0 0 0 0 0 0 0 0 0 0 0 0 0 0 0 0 0 0 0 0 0 0 0 0 0 0 0 0 0 0 0 0 0 0 0 0 0 0 0 0 0 0 0 0 0 0 0 0 0 0 0 0 0 0 0 0 0 0 0 0 0 0 0 0 0 0 0 0 0 0 0 0 0 0 0 0 0 0 0 0 0 0 0 0 0 0 0 0 0 0 0 0 0 0 0 0 0 0 0 0 0 0 0 0 0 0 0 0 0 0 0 0 0 0 0 0 0 0 0 0 0 0 0 0 0 0 0 0 0 0 0 0 0 0 0 0 0 0 0 0 0 0 0 0 0 0 0 0 0 0 0 0 0 0 0 0 0 0 0 0 0 0 0 0 0 0 0 0 0 0 0 0 0 0 0 0 0 0 0 0 0 0 0 0 0 0 0 0 0 0 0 0 0 0 0 0 0 0 0 0 0 0 0 0 0 0 0 0 0 0 0 0 0 0 0 0 0 0 0 0 0 0 0 0 0 0 0 0 0 0 0 0 0 0 0 0 0 0 0 0 0 0 0 0 0 0 0 0 0 0 0 0 0 0 0 0 0 0 0 0 0 0 0 0 0 0 0 0 0 0 0 0 0 0 0 0 0 0 0 0 0 0 0 0 0 0 0 0 0 0 0 0 0 0 0 0 0 0 0 0 0 0 0 0 0 0 0 0 0 0 0 0 0 0 0 0 0 0 0 0 0 0 0 0 0 0 0 0 0 0 0 0 0 0 0 0 0 0 0 0 0 0 0 0 0 0 0 0 0 0 0 0 0 0 0 0 0 0 0 0 0 0 0 0 0 0 0 0 0 0 0 0 0 0 0 0 0 0 0 0 0 0 0 0 0 0 0 0 0 0 0 0 0 0 0 0 0 0 0 0 0 0 0 0 0 0 0 0 0 0 0 0 0 0 0 0 0 0 0 0 0 0 0 0 0 0 0 0 0 0 0 0 0 0 0 0 0 0 0 0 0 0 0 0 0 0 0 0 0 0 0 0 0 0 0 0 0 0 0 0 0 0 0 0 0 0 0 0 0 0 0 0 0 0 0 0 0 0 0 0 0 0 0 0 0 0 0\n"
          ]
        },
        {
          "output_type": "stream",
          "name": "stderr",
          "text": [
            "INFO:tensorflow:segment_ids: 0 0 0 0 0 0 0 0 0 0 0 0 0 0 0 0 0 0 0 0 0 0 0 0 0 0 0 0 0 0 0 0 0 0 0 0 0 0 0 0 0 0 0 0 0 0 0 0 0 0 0 0 0 0 0 0 0 0 0 0 0 0 0 0 0 0 0 0 0 0 0 0 0 0 0 0 0 0 0 0 0 0 0 0 0 0 0 0 0 0 0 0 0 0 0 0 0 0 0 0 0 0 0 0 0 0 0 0 0 0 0 0 0 0 0 0 0 0 0 0 0 0 0 0 0 0 0 0 0 0 0 0 0 0 0 0 0 0 0 0 0 0 0 0 0 0 0 0 0 0 0 0 0 0 0 0 0 0 0 0 0 0 0 0 0 0 0 0 0 0 0 0 0 0 0 0 0 0 0 0 0 0 0 0 0 0 0 0 0 0 0 0 0 0 0 0 0 0 0 0 0 0 0 0 0 0 0 0 0 0 0 0 0 0 0 0 0 0 0 0 0 0 0 0 0 0 0 0 0 0 0 0 0 0 0 0 0 0 0 0 0 0 0 0 0 0 0 0 0 0 0 0 0 0 0 0 0 0 0 0 0 0 0 0 0 0 0 0 0 0 0 0 0 0 0 0 0 0 0 0 0 0 0 0 0 0 0 0 0 0 0 0 0 0 0 0 0 0 0 0 0 0 0 0 0 0 0 0 0 0 0 0 0 0 0 0 0 0 0 0 0 0 0 0 0 0 0 0 0 0 0 0 0 0 0 0 0 0 0 0 0 0 0 0 0 0 0 0 0 0 0 0 0 0 0 0 0 0 0 0 0 0 0 0 0 0 0 0 0 0 0 0 0 0 0 0 0 0 0 0 0 0 0 0 0 0 0 0 0 0 0 0 0 0 0 0 0 0 0 0 0 0 0 0 0 0 0 0 0 0 0 0 0 0 0 0 0 0 0 0 0 0 0 0 0 0 0 0 0 0 0 0 0 0 0 0 0 0 0 0 0 0 0 0 0 0 0 0 0 0 0 0 0 0 0 0 0 0 0 0 0 0 0 0 0 0 0 0 0 0 0 0 0 0 0 0 0 0 0 0 0 0 0 0 0 0 0 0 0 0 0 0 0 0 0 0 0 0 0 0 0 0 0 0 0 0 0 0 0 0 0 0\n"
          ]
        },
        {
          "output_type": "stream",
          "name": "stdout",
          "text": [
            "INFO:tensorflow:label: 3 (id = 3)\n"
          ]
        },
        {
          "output_type": "stream",
          "name": "stderr",
          "text": [
            "INFO:tensorflow:label: 3 (id = 3)\n"
          ]
        },
        {
          "output_type": "stream",
          "name": "stdout",
          "text": [
            "INFO:tensorflow:*** Example ***\n"
          ]
        },
        {
          "output_type": "stream",
          "name": "stderr",
          "text": [
            "INFO:tensorflow:*** Example ***\n"
          ]
        },
        {
          "output_type": "stream",
          "name": "stdout",
          "text": [
            "INFO:tensorflow:guid: None\n"
          ]
        },
        {
          "output_type": "stream",
          "name": "stderr",
          "text": [
            "INFO:tensorflow:guid: None\n"
          ]
        },
        {
          "output_type": "stream",
          "name": "stdout",
          "text": [
            "INFO:tensorflow:tokens: [CLS] harry watched the riddle ##s , and the riddle ##s didn ' t see him . they never did , not even when he shouted or waved his hands in their faces . but he had given up on trying that years ago . it was because harry was a mug ##gle . that ' s what the riddle ##s would call him , anyway . he didn ' t have any magic , so that meant they couldn ' t see him . it didn ' t matter that they were invading his dreams for as long as he could remember . some weird flu ##ke that he was certain he ' d never understand brought him to the same silent , endless library night after night , every time he fell asleep . and because he was just a useless , magic - lacking mug ##gle , he wasn ' t strong enough to make himself known in their private world . after so many years of observation , harry was fairly certain that the riddle ##s ' library existed in an entirely different universe ; a place where some people were lucky enough to be born as magician ##s , where they could de ##dicate their lives to seeking out knowledge and power . it seemed kind of terrible , honestly . terrible but wonderful . he ##xes and curses were commonplace things , and people could even cut off pieces of their soul , to tuck them away someplace safe and stay alive forever . in harry ' s opinion , that was too high of a price to pay , but the five men he watched every night had done just that . they were pieces of the dark lord vol ##de ##mo ##rt ' s soul , who was out there in their weird , magical world , reigning as its supreme leader . or something . harry didn ' t know for certain , because the riddle ##s didn ' t know either . they had no way of contact ##ing vol ##de ##mo ##rt now that they were separate from him . harry had no idea why he had to bid ##e his time in their library whenever he fell asleep . he couldn ' t leave and have a regular dream like a normal person , he couldn ' t talk to them , he couldn ' t even read any of the books . to his eyes , those were all filled with blank pages . all he could do was listen and take what information he could gather back to the waking world , where he wrote everything down . but the riddle ##s weren ' t particularly talk ##ative , so he picked up most of his information when they occasionally fell into violent arguments . then he could try to track the flying spells and figure out what was what , and what they were all supposed to do . it was a massive pain , really [SEP]\n"
          ]
        },
        {
          "output_type": "stream",
          "name": "stderr",
          "text": [
            "INFO:tensorflow:tokens: [CLS] harry watched the riddle ##s , and the riddle ##s didn ' t see him . they never did , not even when he shouted or waved his hands in their faces . but he had given up on trying that years ago . it was because harry was a mug ##gle . that ' s what the riddle ##s would call him , anyway . he didn ' t have any magic , so that meant they couldn ' t see him . it didn ' t matter that they were invading his dreams for as long as he could remember . some weird flu ##ke that he was certain he ' d never understand brought him to the same silent , endless library night after night , every time he fell asleep . and because he was just a useless , magic - lacking mug ##gle , he wasn ' t strong enough to make himself known in their private world . after so many years of observation , harry was fairly certain that the riddle ##s ' library existed in an entirely different universe ; a place where some people were lucky enough to be born as magician ##s , where they could de ##dicate their lives to seeking out knowledge and power . it seemed kind of terrible , honestly . terrible but wonderful . he ##xes and curses were commonplace things , and people could even cut off pieces of their soul , to tuck them away someplace safe and stay alive forever . in harry ' s opinion , that was too high of a price to pay , but the five men he watched every night had done just that . they were pieces of the dark lord vol ##de ##mo ##rt ' s soul , who was out there in their weird , magical world , reigning as its supreme leader . or something . harry didn ' t know for certain , because the riddle ##s didn ' t know either . they had no way of contact ##ing vol ##de ##mo ##rt now that they were separate from him . harry had no idea why he had to bid ##e his time in their library whenever he fell asleep . he couldn ' t leave and have a regular dream like a normal person , he couldn ' t talk to them , he couldn ' t even read any of the books . to his eyes , those were all filled with blank pages . all he could do was listen and take what information he could gather back to the waking world , where he wrote everything down . but the riddle ##s weren ' t particularly talk ##ative , so he picked up most of his information when they occasionally fell into violent arguments . then he could try to track the flying spells and figure out what was what , and what they were all supposed to do . it was a massive pain , really [SEP]\n"
          ]
        },
        {
          "output_type": "stream",
          "name": "stdout",
          "text": [
            "INFO:tensorflow:input_ids: 101 4302 3427 1996 21834 2015 1010 1998 1996 21834 2015 2134 1005 1056 2156 2032 1012 2027 2196 2106 1010 2025 2130 2043 2002 6626 2030 7147 2010 2398 1999 2037 5344 1012 2021 2002 2018 2445 2039 2006 2667 2008 2086 3283 1012 2009 2001 2138 4302 2001 1037 14757 9354 1012 2008 1005 1055 2054 1996 21834 2015 2052 2655 2032 1010 4312 1012 2002 2134 1005 1056 2031 2151 3894 1010 2061 2008 3214 2027 2481 1005 1056 2156 2032 1012 2009 2134 1005 1056 3043 2008 2027 2020 17657 2010 5544 2005 2004 2146 2004 2002 2071 3342 1012 2070 6881 19857 3489 2008 2002 2001 3056 2002 1005 1040 2196 3305 2716 2032 2000 1996 2168 4333 1010 10866 3075 2305 2044 2305 1010 2296 2051 2002 3062 6680 1012 1998 2138 2002 2001 2074 1037 11809 1010 3894 1011 11158 14757 9354 1010 2002 2347 1005 1056 2844 2438 2000 2191 2370 2124 1999 2037 2797 2088 1012 2044 2061 2116 2086 1997 8089 1010 4302 2001 7199 3056 2008 1996 21834 2015 1005 3075 5839 1999 2019 4498 2367 5304 1025 1037 2173 2073 2070 2111 2020 5341 2438 2000 2022 2141 2004 16669 2015 1010 2073 2027 2071 2139 16467 2037 3268 2000 6224 2041 3716 1998 2373 1012 2009 2790 2785 1997 6659 1010 9826 1012 6659 2021 6919 1012 2002 20156 1998 23897 2020 27550 2477 1010 1998 2111 2071 2130 3013 2125 4109 1997 2037 3969 1010 2000 18029 2068 2185 24956 3647 1998 2994 4142 5091 1012 1999 4302 1005 1055 5448 1010 2008 2001 2205 2152 1997 1037 3976 2000 3477 1010 2021 1996 2274 2273 2002 3427 2296 2305 2018 2589 2074 2008 1012 2027 2020 4109 1997 1996 2601 2935 5285 3207 5302 5339 1005 1055 3969 1010 2040 2001 2041 2045 1999 2037 6881 1010 8687 2088 1010 16323 2004 2049 4259 3003 1012 2030 2242 1012 4302 2134 1005 1056 2113 2005 3056 1010 2138 1996 21834 2015 2134 1005 1056 2113 2593 1012 2027 2018 2053 2126 1997 3967 2075 5285 3207 5302 5339 2085 2008 2027 2020 3584 2013 2032 1012 4302 2018 2053 2801 2339 2002 2018 2000 7226 2063 2010 2051 1999 2037 3075 7188 2002 3062 6680 1012 2002 2481 1005 1056 2681 1998 2031 1037 3180 3959 2066 1037 3671 2711 1010 2002 2481 1005 1056 2831 2000 2068 1010 2002 2481 1005 1056 2130 3191 2151 1997 1996 2808 1012 2000 2010 2159 1010 2216 2020 2035 3561 2007 8744 5530 1012 2035 2002 2071 2079 2001 4952 1998 2202 2054 2592 2002 2071 8587 2067 2000 1996 12447 2088 1010 2073 2002 2626 2673 2091 1012 2021 1996 21834 2015 4694 1005 1056 3391 2831 8082 1010 2061 2002 3856 2039 2087 1997 2010 2592 2043 2027 5681 3062 2046 6355 9918 1012 2059 2002 2071 3046 2000 2650 1996 3909 11750 1998 3275 2041 2054 2001 2054 1010 1998 2054 2027 2020 2035 4011 2000 2079 1012 2009 2001 1037 5294 3255 1010 2428 102\n"
          ]
        },
        {
          "output_type": "stream",
          "name": "stderr",
          "text": [
            "INFO:tensorflow:input_ids: 101 4302 3427 1996 21834 2015 1010 1998 1996 21834 2015 2134 1005 1056 2156 2032 1012 2027 2196 2106 1010 2025 2130 2043 2002 6626 2030 7147 2010 2398 1999 2037 5344 1012 2021 2002 2018 2445 2039 2006 2667 2008 2086 3283 1012 2009 2001 2138 4302 2001 1037 14757 9354 1012 2008 1005 1055 2054 1996 21834 2015 2052 2655 2032 1010 4312 1012 2002 2134 1005 1056 2031 2151 3894 1010 2061 2008 3214 2027 2481 1005 1056 2156 2032 1012 2009 2134 1005 1056 3043 2008 2027 2020 17657 2010 5544 2005 2004 2146 2004 2002 2071 3342 1012 2070 6881 19857 3489 2008 2002 2001 3056 2002 1005 1040 2196 3305 2716 2032 2000 1996 2168 4333 1010 10866 3075 2305 2044 2305 1010 2296 2051 2002 3062 6680 1012 1998 2138 2002 2001 2074 1037 11809 1010 3894 1011 11158 14757 9354 1010 2002 2347 1005 1056 2844 2438 2000 2191 2370 2124 1999 2037 2797 2088 1012 2044 2061 2116 2086 1997 8089 1010 4302 2001 7199 3056 2008 1996 21834 2015 1005 3075 5839 1999 2019 4498 2367 5304 1025 1037 2173 2073 2070 2111 2020 5341 2438 2000 2022 2141 2004 16669 2015 1010 2073 2027 2071 2139 16467 2037 3268 2000 6224 2041 3716 1998 2373 1012 2009 2790 2785 1997 6659 1010 9826 1012 6659 2021 6919 1012 2002 20156 1998 23897 2020 27550 2477 1010 1998 2111 2071 2130 3013 2125 4109 1997 2037 3969 1010 2000 18029 2068 2185 24956 3647 1998 2994 4142 5091 1012 1999 4302 1005 1055 5448 1010 2008 2001 2205 2152 1997 1037 3976 2000 3477 1010 2021 1996 2274 2273 2002 3427 2296 2305 2018 2589 2074 2008 1012 2027 2020 4109 1997 1996 2601 2935 5285 3207 5302 5339 1005 1055 3969 1010 2040 2001 2041 2045 1999 2037 6881 1010 8687 2088 1010 16323 2004 2049 4259 3003 1012 2030 2242 1012 4302 2134 1005 1056 2113 2005 3056 1010 2138 1996 21834 2015 2134 1005 1056 2113 2593 1012 2027 2018 2053 2126 1997 3967 2075 5285 3207 5302 5339 2085 2008 2027 2020 3584 2013 2032 1012 4302 2018 2053 2801 2339 2002 2018 2000 7226 2063 2010 2051 1999 2037 3075 7188 2002 3062 6680 1012 2002 2481 1005 1056 2681 1998 2031 1037 3180 3959 2066 1037 3671 2711 1010 2002 2481 1005 1056 2831 2000 2068 1010 2002 2481 1005 1056 2130 3191 2151 1997 1996 2808 1012 2000 2010 2159 1010 2216 2020 2035 3561 2007 8744 5530 1012 2035 2002 2071 2079 2001 4952 1998 2202 2054 2592 2002 2071 8587 2067 2000 1996 12447 2088 1010 2073 2002 2626 2673 2091 1012 2021 1996 21834 2015 4694 1005 1056 3391 2831 8082 1010 2061 2002 3856 2039 2087 1997 2010 2592 2043 2027 5681 3062 2046 6355 9918 1012 2059 2002 2071 3046 2000 2650 1996 3909 11750 1998 3275 2041 2054 2001 2054 1010 1998 2054 2027 2020 2035 4011 2000 2079 1012 2009 2001 1037 5294 3255 1010 2428 102\n"
          ]
        },
        {
          "output_type": "stream",
          "name": "stdout",
          "text": [
            "INFO:tensorflow:input_mask: 1 1 1 1 1 1 1 1 1 1 1 1 1 1 1 1 1 1 1 1 1 1 1 1 1 1 1 1 1 1 1 1 1 1 1 1 1 1 1 1 1 1 1 1 1 1 1 1 1 1 1 1 1 1 1 1 1 1 1 1 1 1 1 1 1 1 1 1 1 1 1 1 1 1 1 1 1 1 1 1 1 1 1 1 1 1 1 1 1 1 1 1 1 1 1 1 1 1 1 1 1 1 1 1 1 1 1 1 1 1 1 1 1 1 1 1 1 1 1 1 1 1 1 1 1 1 1 1 1 1 1 1 1 1 1 1 1 1 1 1 1 1 1 1 1 1 1 1 1 1 1 1 1 1 1 1 1 1 1 1 1 1 1 1 1 1 1 1 1 1 1 1 1 1 1 1 1 1 1 1 1 1 1 1 1 1 1 1 1 1 1 1 1 1 1 1 1 1 1 1 1 1 1 1 1 1 1 1 1 1 1 1 1 1 1 1 1 1 1 1 1 1 1 1 1 1 1 1 1 1 1 1 1 1 1 1 1 1 1 1 1 1 1 1 1 1 1 1 1 1 1 1 1 1 1 1 1 1 1 1 1 1 1 1 1 1 1 1 1 1 1 1 1 1 1 1 1 1 1 1 1 1 1 1 1 1 1 1 1 1 1 1 1 1 1 1 1 1 1 1 1 1 1 1 1 1 1 1 1 1 1 1 1 1 1 1 1 1 1 1 1 1 1 1 1 1 1 1 1 1 1 1 1 1 1 1 1 1 1 1 1 1 1 1 1 1 1 1 1 1 1 1 1 1 1 1 1 1 1 1 1 1 1 1 1 1 1 1 1 1 1 1 1 1 1 1 1 1 1 1 1 1 1 1 1 1 1 1 1 1 1 1 1 1 1 1 1 1 1 1 1 1 1 1 1 1 1 1 1 1 1 1 1 1 1 1 1 1 1 1 1 1 1 1 1 1 1 1 1 1 1 1 1 1 1 1 1 1 1 1 1 1 1 1 1 1 1 1 1 1 1 1 1 1 1 1 1 1 1 1 1 1 1 1 1 1 1 1 1 1 1 1 1 1 1 1 1 1 1 1 1 1 1 1 1 1 1 1 1 1 1 1 1 1 1 1 1 1 1 1 1 1 1 1 1 1 1 1 1 1 1 1\n"
          ]
        },
        {
          "output_type": "stream",
          "name": "stderr",
          "text": [
            "INFO:tensorflow:input_mask: 1 1 1 1 1 1 1 1 1 1 1 1 1 1 1 1 1 1 1 1 1 1 1 1 1 1 1 1 1 1 1 1 1 1 1 1 1 1 1 1 1 1 1 1 1 1 1 1 1 1 1 1 1 1 1 1 1 1 1 1 1 1 1 1 1 1 1 1 1 1 1 1 1 1 1 1 1 1 1 1 1 1 1 1 1 1 1 1 1 1 1 1 1 1 1 1 1 1 1 1 1 1 1 1 1 1 1 1 1 1 1 1 1 1 1 1 1 1 1 1 1 1 1 1 1 1 1 1 1 1 1 1 1 1 1 1 1 1 1 1 1 1 1 1 1 1 1 1 1 1 1 1 1 1 1 1 1 1 1 1 1 1 1 1 1 1 1 1 1 1 1 1 1 1 1 1 1 1 1 1 1 1 1 1 1 1 1 1 1 1 1 1 1 1 1 1 1 1 1 1 1 1 1 1 1 1 1 1 1 1 1 1 1 1 1 1 1 1 1 1 1 1 1 1 1 1 1 1 1 1 1 1 1 1 1 1 1 1 1 1 1 1 1 1 1 1 1 1 1 1 1 1 1 1 1 1 1 1 1 1 1 1 1 1 1 1 1 1 1 1 1 1 1 1 1 1 1 1 1 1 1 1 1 1 1 1 1 1 1 1 1 1 1 1 1 1 1 1 1 1 1 1 1 1 1 1 1 1 1 1 1 1 1 1 1 1 1 1 1 1 1 1 1 1 1 1 1 1 1 1 1 1 1 1 1 1 1 1 1 1 1 1 1 1 1 1 1 1 1 1 1 1 1 1 1 1 1 1 1 1 1 1 1 1 1 1 1 1 1 1 1 1 1 1 1 1 1 1 1 1 1 1 1 1 1 1 1 1 1 1 1 1 1 1 1 1 1 1 1 1 1 1 1 1 1 1 1 1 1 1 1 1 1 1 1 1 1 1 1 1 1 1 1 1 1 1 1 1 1 1 1 1 1 1 1 1 1 1 1 1 1 1 1 1 1 1 1 1 1 1 1 1 1 1 1 1 1 1 1 1 1 1 1 1 1 1 1 1 1 1 1 1 1 1 1 1 1 1 1 1 1 1 1 1 1 1 1 1 1 1 1 1 1 1 1 1 1 1 1 1 1 1 1 1 1 1 1 1 1 1 1 1\n"
          ]
        },
        {
          "output_type": "stream",
          "name": "stdout",
          "text": [
            "INFO:tensorflow:segment_ids: 0 0 0 0 0 0 0 0 0 0 0 0 0 0 0 0 0 0 0 0 0 0 0 0 0 0 0 0 0 0 0 0 0 0 0 0 0 0 0 0 0 0 0 0 0 0 0 0 0 0 0 0 0 0 0 0 0 0 0 0 0 0 0 0 0 0 0 0 0 0 0 0 0 0 0 0 0 0 0 0 0 0 0 0 0 0 0 0 0 0 0 0 0 0 0 0 0 0 0 0 0 0 0 0 0 0 0 0 0 0 0 0 0 0 0 0 0 0 0 0 0 0 0 0 0 0 0 0 0 0 0 0 0 0 0 0 0 0 0 0 0 0 0 0 0 0 0 0 0 0 0 0 0 0 0 0 0 0 0 0 0 0 0 0 0 0 0 0 0 0 0 0 0 0 0 0 0 0 0 0 0 0 0 0 0 0 0 0 0 0 0 0 0 0 0 0 0 0 0 0 0 0 0 0 0 0 0 0 0 0 0 0 0 0 0 0 0 0 0 0 0 0 0 0 0 0 0 0 0 0 0 0 0 0 0 0 0 0 0 0 0 0 0 0 0 0 0 0 0 0 0 0 0 0 0 0 0 0 0 0 0 0 0 0 0 0 0 0 0 0 0 0 0 0 0 0 0 0 0 0 0 0 0 0 0 0 0 0 0 0 0 0 0 0 0 0 0 0 0 0 0 0 0 0 0 0 0 0 0 0 0 0 0 0 0 0 0 0 0 0 0 0 0 0 0 0 0 0 0 0 0 0 0 0 0 0 0 0 0 0 0 0 0 0 0 0 0 0 0 0 0 0 0 0 0 0 0 0 0 0 0 0 0 0 0 0 0 0 0 0 0 0 0 0 0 0 0 0 0 0 0 0 0 0 0 0 0 0 0 0 0 0 0 0 0 0 0 0 0 0 0 0 0 0 0 0 0 0 0 0 0 0 0 0 0 0 0 0 0 0 0 0 0 0 0 0 0 0 0 0 0 0 0 0 0 0 0 0 0 0 0 0 0 0 0 0 0 0 0 0 0 0 0 0 0 0 0 0 0 0 0 0 0 0 0 0 0 0 0 0 0 0 0 0 0 0 0 0 0 0 0 0 0 0 0 0 0 0 0 0 0 0 0 0 0 0 0 0 0 0 0 0 0 0 0 0 0 0 0 0 0 0\n"
          ]
        },
        {
          "output_type": "stream",
          "name": "stderr",
          "text": [
            "INFO:tensorflow:segment_ids: 0 0 0 0 0 0 0 0 0 0 0 0 0 0 0 0 0 0 0 0 0 0 0 0 0 0 0 0 0 0 0 0 0 0 0 0 0 0 0 0 0 0 0 0 0 0 0 0 0 0 0 0 0 0 0 0 0 0 0 0 0 0 0 0 0 0 0 0 0 0 0 0 0 0 0 0 0 0 0 0 0 0 0 0 0 0 0 0 0 0 0 0 0 0 0 0 0 0 0 0 0 0 0 0 0 0 0 0 0 0 0 0 0 0 0 0 0 0 0 0 0 0 0 0 0 0 0 0 0 0 0 0 0 0 0 0 0 0 0 0 0 0 0 0 0 0 0 0 0 0 0 0 0 0 0 0 0 0 0 0 0 0 0 0 0 0 0 0 0 0 0 0 0 0 0 0 0 0 0 0 0 0 0 0 0 0 0 0 0 0 0 0 0 0 0 0 0 0 0 0 0 0 0 0 0 0 0 0 0 0 0 0 0 0 0 0 0 0 0 0 0 0 0 0 0 0 0 0 0 0 0 0 0 0 0 0 0 0 0 0 0 0 0 0 0 0 0 0 0 0 0 0 0 0 0 0 0 0 0 0 0 0 0 0 0 0 0 0 0 0 0 0 0 0 0 0 0 0 0 0 0 0 0 0 0 0 0 0 0 0 0 0 0 0 0 0 0 0 0 0 0 0 0 0 0 0 0 0 0 0 0 0 0 0 0 0 0 0 0 0 0 0 0 0 0 0 0 0 0 0 0 0 0 0 0 0 0 0 0 0 0 0 0 0 0 0 0 0 0 0 0 0 0 0 0 0 0 0 0 0 0 0 0 0 0 0 0 0 0 0 0 0 0 0 0 0 0 0 0 0 0 0 0 0 0 0 0 0 0 0 0 0 0 0 0 0 0 0 0 0 0 0 0 0 0 0 0 0 0 0 0 0 0 0 0 0 0 0 0 0 0 0 0 0 0 0 0 0 0 0 0 0 0 0 0 0 0 0 0 0 0 0 0 0 0 0 0 0 0 0 0 0 0 0 0 0 0 0 0 0 0 0 0 0 0 0 0 0 0 0 0 0 0 0 0 0 0 0 0 0 0 0 0 0 0 0 0 0 0 0 0 0 0 0 0 0 0 0 0 0 0 0 0 0 0 0 0 0 0 0 0 0\n"
          ]
        },
        {
          "output_type": "stream",
          "name": "stdout",
          "text": [
            "INFO:tensorflow:label: 3 (id = 3)\n"
          ]
        },
        {
          "output_type": "stream",
          "name": "stderr",
          "text": [
            "INFO:tensorflow:label: 3 (id = 3)\n"
          ]
        },
        {
          "output_type": "stream",
          "name": "stdout",
          "text": [
            "INFO:tensorflow:*** Example ***\n"
          ]
        },
        {
          "output_type": "stream",
          "name": "stderr",
          "text": [
            "INFO:tensorflow:*** Example ***\n"
          ]
        },
        {
          "output_type": "stream",
          "name": "stdout",
          "text": [
            "INFO:tensorflow:guid: None\n"
          ]
        },
        {
          "output_type": "stream",
          "name": "stderr",
          "text": [
            "INFO:tensorflow:guid: None\n"
          ]
        },
        {
          "output_type": "stream",
          "name": "stdout",
          "text": [
            "INFO:tensorflow:tokens: [CLS] \" let the feast begin ! \" eleven year old harry potter could barely believe his eyes as an array of food appeared on the table in front of him . but as the other children around him began tucking into their meals , the dark - haired boy turned his attention to the teacher ' s table at the front of the great hall . \" say percy ? \" he began , turning to ron ' s older brother on his left . \" who ' s that teacher talking to professor qui ##rrell ? \" \" oh , that ' s professor snap ##e - head of sly ##ther ##in house , \" percy told him . \" what ' s he teach ? \" \" potion ##s . but everyone knows it ' s the dark arts he fan ##cies . he ' s been after qui ##rrell ' s job for years , \" percy said , glancing over at harry again as the younger boy watched the potion ##s master curiously . \" why d ' you ask ? \" \" no reason , \" harry said . he was pleased when the ghost of a man appeared straight through the platt ##er of chicken legs in front of them , causing a commotion and divert ##ing percy ' s interest elsewhere . because there was a reason he had asked , and it wasn ' t something he was entirely comfortable talking to the other students about . harry stole another glance in the direction of the stern - looking professor . he had seen this man before - several times , in fact - in his dreams . as far back as harry could remember , he had dreamed of a dark figure coming to his aid . it often happened when he was most unhappy - when he ' d had a particularly bad time of it with dudley , on the anniversary of his parent ' s death , when he was sick . . . the examples were countless , but each occasion had one thing in common - harry would fall asleep and dream of that same dark figure . and the dreams had always seemed so real . the figure - a tall man , dressed in black - always seemed to appear at the door of his cupboard . a warm hand would dry harry ' s tears , or administer some form of medicine to help him feel better . sometimes , it would stroke back his hair in a soothing motion that sent the boy into a dream within a dream . the man never spoke , and always sm ##elt of the same , pleasant scent - a mixture of sand ##al ##wood and herbs . harry had never seen the man ' s face but somehow , when he looked across at the potion ##s master sitting at the teacher ' s table , he knew . this was the man from [SEP]\n"
          ]
        },
        {
          "output_type": "stream",
          "name": "stderr",
          "text": [
            "INFO:tensorflow:tokens: [CLS] \" let the feast begin ! \" eleven year old harry potter could barely believe his eyes as an array of food appeared on the table in front of him . but as the other children around him began tucking into their meals , the dark - haired boy turned his attention to the teacher ' s table at the front of the great hall . \" say percy ? \" he began , turning to ron ' s older brother on his left . \" who ' s that teacher talking to professor qui ##rrell ? \" \" oh , that ' s professor snap ##e - head of sly ##ther ##in house , \" percy told him . \" what ' s he teach ? \" \" potion ##s . but everyone knows it ' s the dark arts he fan ##cies . he ' s been after qui ##rrell ' s job for years , \" percy said , glancing over at harry again as the younger boy watched the potion ##s master curiously . \" why d ' you ask ? \" \" no reason , \" harry said . he was pleased when the ghost of a man appeared straight through the platt ##er of chicken legs in front of them , causing a commotion and divert ##ing percy ' s interest elsewhere . because there was a reason he had asked , and it wasn ' t something he was entirely comfortable talking to the other students about . harry stole another glance in the direction of the stern - looking professor . he had seen this man before - several times , in fact - in his dreams . as far back as harry could remember , he had dreamed of a dark figure coming to his aid . it often happened when he was most unhappy - when he ' d had a particularly bad time of it with dudley , on the anniversary of his parent ' s death , when he was sick . . . the examples were countless , but each occasion had one thing in common - harry would fall asleep and dream of that same dark figure . and the dreams had always seemed so real . the figure - a tall man , dressed in black - always seemed to appear at the door of his cupboard . a warm hand would dry harry ' s tears , or administer some form of medicine to help him feel better . sometimes , it would stroke back his hair in a soothing motion that sent the boy into a dream within a dream . the man never spoke , and always sm ##elt of the same , pleasant scent - a mixture of sand ##al ##wood and herbs . harry had never seen the man ' s face but somehow , when he looked across at the potion ##s master sitting at the teacher ' s table , he knew . this was the man from [SEP]\n"
          ]
        },
        {
          "output_type": "stream",
          "name": "stdout",
          "text": [
            "INFO:tensorflow:input_ids: 101 1000 2292 1996 9831 4088 999 1000 5408 2095 2214 4302 10693 2071 4510 2903 2010 2159 2004 2019 9140 1997 2833 2596 2006 1996 2795 1999 2392 1997 2032 1012 2021 2004 1996 2060 2336 2105 2032 2211 25056 2046 2037 12278 1010 1996 2601 1011 10681 2879 2357 2010 3086 2000 1996 3836 1005 1055 2795 2012 1996 2392 1997 1996 2307 2534 1012 1000 2360 11312 1029 1000 2002 2211 1010 3810 2000 6902 1005 1055 3080 2567 2006 2010 2187 1012 1000 2040 1005 1055 2008 3836 3331 2000 2934 21864 14069 1029 1000 1000 2821 1010 2008 1005 1055 2934 10245 2063 1011 2132 1997 18230 12399 2378 2160 1010 1000 11312 2409 2032 1012 1000 2054 1005 1055 2002 6570 1029 1000 1000 26722 2015 1012 2021 3071 4282 2009 1005 1055 1996 2601 2840 2002 5470 9243 1012 2002 1005 1055 2042 2044 21864 14069 1005 1055 3105 2005 2086 1010 1000 11312 2056 1010 10167 2058 2012 4302 2153 2004 1996 3920 2879 3427 1996 26722 2015 3040 16484 1012 1000 2339 1040 1005 2017 3198 1029 1000 1000 2053 3114 1010 1000 4302 2056 1012 2002 2001 7537 2043 1996 5745 1997 1037 2158 2596 3442 2083 1996 28005 2121 1997 7975 3456 1999 2392 1997 2068 1010 4786 1037 23960 1998 27345 2075 11312 1005 1055 3037 6974 1012 2138 2045 2001 1037 3114 2002 2018 2356 1010 1998 2009 2347 1005 1056 2242 2002 2001 4498 6625 3331 2000 1996 2060 2493 2055 1012 4302 10312 2178 6054 1999 1996 3257 1997 1996 8665 1011 2559 2934 1012 2002 2018 2464 2023 2158 2077 1011 2195 2335 1010 1999 2755 1011 1999 2010 5544 1012 2004 2521 2067 2004 4302 2071 3342 1010 2002 2018 13830 1997 1037 2601 3275 2746 2000 2010 4681 1012 2009 2411 3047 2043 2002 2001 2087 12511 1011 2043 2002 1005 1040 2018 1037 3391 2919 2051 1997 2009 2007 12648 1010 2006 1996 5315 1997 2010 6687 1005 1055 2331 1010 2043 2002 2001 5305 1012 1012 1012 1996 4973 2020 14518 1010 2021 2169 6686 2018 2028 2518 1999 2691 1011 4302 2052 2991 6680 1998 3959 1997 2008 2168 2601 3275 1012 1998 1996 5544 2018 2467 2790 2061 2613 1012 1996 3275 1011 1037 4206 2158 1010 5102 1999 2304 1011 2467 2790 2000 3711 2012 1996 2341 1997 2010 25337 1012 1037 4010 2192 2052 4318 4302 1005 1055 4000 1010 2030 21497 2070 2433 1997 4200 2000 2393 2032 2514 2488 1012 2823 1010 2009 2052 6909 2067 2010 2606 1999 1037 16684 4367 2008 2741 1996 2879 2046 1037 3959 2306 1037 3959 1012 1996 2158 2196 3764 1010 1998 2467 15488 20042 1997 1996 2168 1010 8242 6518 1011 1037 8150 1997 5472 2389 3702 1998 17561 1012 4302 2018 2196 2464 1996 2158 1005 1055 2227 2021 5064 1010 2043 2002 2246 2408 2012 1996 26722 2015 3040 3564 2012 1996 3836 1005 1055 2795 1010 2002 2354 1012 2023 2001 1996 2158 2013 102\n"
          ]
        },
        {
          "output_type": "stream",
          "name": "stderr",
          "text": [
            "INFO:tensorflow:input_ids: 101 1000 2292 1996 9831 4088 999 1000 5408 2095 2214 4302 10693 2071 4510 2903 2010 2159 2004 2019 9140 1997 2833 2596 2006 1996 2795 1999 2392 1997 2032 1012 2021 2004 1996 2060 2336 2105 2032 2211 25056 2046 2037 12278 1010 1996 2601 1011 10681 2879 2357 2010 3086 2000 1996 3836 1005 1055 2795 2012 1996 2392 1997 1996 2307 2534 1012 1000 2360 11312 1029 1000 2002 2211 1010 3810 2000 6902 1005 1055 3080 2567 2006 2010 2187 1012 1000 2040 1005 1055 2008 3836 3331 2000 2934 21864 14069 1029 1000 1000 2821 1010 2008 1005 1055 2934 10245 2063 1011 2132 1997 18230 12399 2378 2160 1010 1000 11312 2409 2032 1012 1000 2054 1005 1055 2002 6570 1029 1000 1000 26722 2015 1012 2021 3071 4282 2009 1005 1055 1996 2601 2840 2002 5470 9243 1012 2002 1005 1055 2042 2044 21864 14069 1005 1055 3105 2005 2086 1010 1000 11312 2056 1010 10167 2058 2012 4302 2153 2004 1996 3920 2879 3427 1996 26722 2015 3040 16484 1012 1000 2339 1040 1005 2017 3198 1029 1000 1000 2053 3114 1010 1000 4302 2056 1012 2002 2001 7537 2043 1996 5745 1997 1037 2158 2596 3442 2083 1996 28005 2121 1997 7975 3456 1999 2392 1997 2068 1010 4786 1037 23960 1998 27345 2075 11312 1005 1055 3037 6974 1012 2138 2045 2001 1037 3114 2002 2018 2356 1010 1998 2009 2347 1005 1056 2242 2002 2001 4498 6625 3331 2000 1996 2060 2493 2055 1012 4302 10312 2178 6054 1999 1996 3257 1997 1996 8665 1011 2559 2934 1012 2002 2018 2464 2023 2158 2077 1011 2195 2335 1010 1999 2755 1011 1999 2010 5544 1012 2004 2521 2067 2004 4302 2071 3342 1010 2002 2018 13830 1997 1037 2601 3275 2746 2000 2010 4681 1012 2009 2411 3047 2043 2002 2001 2087 12511 1011 2043 2002 1005 1040 2018 1037 3391 2919 2051 1997 2009 2007 12648 1010 2006 1996 5315 1997 2010 6687 1005 1055 2331 1010 2043 2002 2001 5305 1012 1012 1012 1996 4973 2020 14518 1010 2021 2169 6686 2018 2028 2518 1999 2691 1011 4302 2052 2991 6680 1998 3959 1997 2008 2168 2601 3275 1012 1998 1996 5544 2018 2467 2790 2061 2613 1012 1996 3275 1011 1037 4206 2158 1010 5102 1999 2304 1011 2467 2790 2000 3711 2012 1996 2341 1997 2010 25337 1012 1037 4010 2192 2052 4318 4302 1005 1055 4000 1010 2030 21497 2070 2433 1997 4200 2000 2393 2032 2514 2488 1012 2823 1010 2009 2052 6909 2067 2010 2606 1999 1037 16684 4367 2008 2741 1996 2879 2046 1037 3959 2306 1037 3959 1012 1996 2158 2196 3764 1010 1998 2467 15488 20042 1997 1996 2168 1010 8242 6518 1011 1037 8150 1997 5472 2389 3702 1998 17561 1012 4302 2018 2196 2464 1996 2158 1005 1055 2227 2021 5064 1010 2043 2002 2246 2408 2012 1996 26722 2015 3040 3564 2012 1996 3836 1005 1055 2795 1010 2002 2354 1012 2023 2001 1996 2158 2013 102\n"
          ]
        },
        {
          "output_type": "stream",
          "name": "stdout",
          "text": [
            "INFO:tensorflow:input_mask: 1 1 1 1 1 1 1 1 1 1 1 1 1 1 1 1 1 1 1 1 1 1 1 1 1 1 1 1 1 1 1 1 1 1 1 1 1 1 1 1 1 1 1 1 1 1 1 1 1 1 1 1 1 1 1 1 1 1 1 1 1 1 1 1 1 1 1 1 1 1 1 1 1 1 1 1 1 1 1 1 1 1 1 1 1 1 1 1 1 1 1 1 1 1 1 1 1 1 1 1 1 1 1 1 1 1 1 1 1 1 1 1 1 1 1 1 1 1 1 1 1 1 1 1 1 1 1 1 1 1 1 1 1 1 1 1 1 1 1 1 1 1 1 1 1 1 1 1 1 1 1 1 1 1 1 1 1 1 1 1 1 1 1 1 1 1 1 1 1 1 1 1 1 1 1 1 1 1 1 1 1 1 1 1 1 1 1 1 1 1 1 1 1 1 1 1 1 1 1 1 1 1 1 1 1 1 1 1 1 1 1 1 1 1 1 1 1 1 1 1 1 1 1 1 1 1 1 1 1 1 1 1 1 1 1 1 1 1 1 1 1 1 1 1 1 1 1 1 1 1 1 1 1 1 1 1 1 1 1 1 1 1 1 1 1 1 1 1 1 1 1 1 1 1 1 1 1 1 1 1 1 1 1 1 1 1 1 1 1 1 1 1 1 1 1 1 1 1 1 1 1 1 1 1 1 1 1 1 1 1 1 1 1 1 1 1 1 1 1 1 1 1 1 1 1 1 1 1 1 1 1 1 1 1 1 1 1 1 1 1 1 1 1 1 1 1 1 1 1 1 1 1 1 1 1 1 1 1 1 1 1 1 1 1 1 1 1 1 1 1 1 1 1 1 1 1 1 1 1 1 1 1 1 1 1 1 1 1 1 1 1 1 1 1 1 1 1 1 1 1 1 1 1 1 1 1 1 1 1 1 1 1 1 1 1 1 1 1 1 1 1 1 1 1 1 1 1 1 1 1 1 1 1 1 1 1 1 1 1 1 1 1 1 1 1 1 1 1 1 1 1 1 1 1 1 1 1 1 1 1 1 1 1 1 1 1 1 1 1 1 1 1 1 1 1 1 1 1 1 1 1 1 1 1 1 1 1 1 1 1 1 1 1 1 1 1 1 1 1 1 1 1 1 1 1 1 1 1 1 1 1 1\n"
          ]
        },
        {
          "output_type": "stream",
          "name": "stderr",
          "text": [
            "INFO:tensorflow:input_mask: 1 1 1 1 1 1 1 1 1 1 1 1 1 1 1 1 1 1 1 1 1 1 1 1 1 1 1 1 1 1 1 1 1 1 1 1 1 1 1 1 1 1 1 1 1 1 1 1 1 1 1 1 1 1 1 1 1 1 1 1 1 1 1 1 1 1 1 1 1 1 1 1 1 1 1 1 1 1 1 1 1 1 1 1 1 1 1 1 1 1 1 1 1 1 1 1 1 1 1 1 1 1 1 1 1 1 1 1 1 1 1 1 1 1 1 1 1 1 1 1 1 1 1 1 1 1 1 1 1 1 1 1 1 1 1 1 1 1 1 1 1 1 1 1 1 1 1 1 1 1 1 1 1 1 1 1 1 1 1 1 1 1 1 1 1 1 1 1 1 1 1 1 1 1 1 1 1 1 1 1 1 1 1 1 1 1 1 1 1 1 1 1 1 1 1 1 1 1 1 1 1 1 1 1 1 1 1 1 1 1 1 1 1 1 1 1 1 1 1 1 1 1 1 1 1 1 1 1 1 1 1 1 1 1 1 1 1 1 1 1 1 1 1 1 1 1 1 1 1 1 1 1 1 1 1 1 1 1 1 1 1 1 1 1 1 1 1 1 1 1 1 1 1 1 1 1 1 1 1 1 1 1 1 1 1 1 1 1 1 1 1 1 1 1 1 1 1 1 1 1 1 1 1 1 1 1 1 1 1 1 1 1 1 1 1 1 1 1 1 1 1 1 1 1 1 1 1 1 1 1 1 1 1 1 1 1 1 1 1 1 1 1 1 1 1 1 1 1 1 1 1 1 1 1 1 1 1 1 1 1 1 1 1 1 1 1 1 1 1 1 1 1 1 1 1 1 1 1 1 1 1 1 1 1 1 1 1 1 1 1 1 1 1 1 1 1 1 1 1 1 1 1 1 1 1 1 1 1 1 1 1 1 1 1 1 1 1 1 1 1 1 1 1 1 1 1 1 1 1 1 1 1 1 1 1 1 1 1 1 1 1 1 1 1 1 1 1 1 1 1 1 1 1 1 1 1 1 1 1 1 1 1 1 1 1 1 1 1 1 1 1 1 1 1 1 1 1 1 1 1 1 1 1 1 1 1 1 1 1 1 1 1 1 1 1 1 1 1 1 1 1 1 1 1 1 1 1 1 1 1 1 1\n"
          ]
        },
        {
          "output_type": "stream",
          "name": "stdout",
          "text": [
            "INFO:tensorflow:segment_ids: 0 0 0 0 0 0 0 0 0 0 0 0 0 0 0 0 0 0 0 0 0 0 0 0 0 0 0 0 0 0 0 0 0 0 0 0 0 0 0 0 0 0 0 0 0 0 0 0 0 0 0 0 0 0 0 0 0 0 0 0 0 0 0 0 0 0 0 0 0 0 0 0 0 0 0 0 0 0 0 0 0 0 0 0 0 0 0 0 0 0 0 0 0 0 0 0 0 0 0 0 0 0 0 0 0 0 0 0 0 0 0 0 0 0 0 0 0 0 0 0 0 0 0 0 0 0 0 0 0 0 0 0 0 0 0 0 0 0 0 0 0 0 0 0 0 0 0 0 0 0 0 0 0 0 0 0 0 0 0 0 0 0 0 0 0 0 0 0 0 0 0 0 0 0 0 0 0 0 0 0 0 0 0 0 0 0 0 0 0 0 0 0 0 0 0 0 0 0 0 0 0 0 0 0 0 0 0 0 0 0 0 0 0 0 0 0 0 0 0 0 0 0 0 0 0 0 0 0 0 0 0 0 0 0 0 0 0 0 0 0 0 0 0 0 0 0 0 0 0 0 0 0 0 0 0 0 0 0 0 0 0 0 0 0 0 0 0 0 0 0 0 0 0 0 0 0 0 0 0 0 0 0 0 0 0 0 0 0 0 0 0 0 0 0 0 0 0 0 0 0 0 0 0 0 0 0 0 0 0 0 0 0 0 0 0 0 0 0 0 0 0 0 0 0 0 0 0 0 0 0 0 0 0 0 0 0 0 0 0 0 0 0 0 0 0 0 0 0 0 0 0 0 0 0 0 0 0 0 0 0 0 0 0 0 0 0 0 0 0 0 0 0 0 0 0 0 0 0 0 0 0 0 0 0 0 0 0 0 0 0 0 0 0 0 0 0 0 0 0 0 0 0 0 0 0 0 0 0 0 0 0 0 0 0 0 0 0 0 0 0 0 0 0 0 0 0 0 0 0 0 0 0 0 0 0 0 0 0 0 0 0 0 0 0 0 0 0 0 0 0 0 0 0 0 0 0 0 0 0 0 0 0 0 0 0 0 0 0 0 0 0 0 0 0 0 0 0 0 0 0 0 0 0 0 0 0 0 0 0 0 0 0 0 0 0 0 0 0 0 0 0 0 0 0 0 0 0 0 0 0 0 0\n"
          ]
        },
        {
          "output_type": "stream",
          "name": "stderr",
          "text": [
            "INFO:tensorflow:segment_ids: 0 0 0 0 0 0 0 0 0 0 0 0 0 0 0 0 0 0 0 0 0 0 0 0 0 0 0 0 0 0 0 0 0 0 0 0 0 0 0 0 0 0 0 0 0 0 0 0 0 0 0 0 0 0 0 0 0 0 0 0 0 0 0 0 0 0 0 0 0 0 0 0 0 0 0 0 0 0 0 0 0 0 0 0 0 0 0 0 0 0 0 0 0 0 0 0 0 0 0 0 0 0 0 0 0 0 0 0 0 0 0 0 0 0 0 0 0 0 0 0 0 0 0 0 0 0 0 0 0 0 0 0 0 0 0 0 0 0 0 0 0 0 0 0 0 0 0 0 0 0 0 0 0 0 0 0 0 0 0 0 0 0 0 0 0 0 0 0 0 0 0 0 0 0 0 0 0 0 0 0 0 0 0 0 0 0 0 0 0 0 0 0 0 0 0 0 0 0 0 0 0 0 0 0 0 0 0 0 0 0 0 0 0 0 0 0 0 0 0 0 0 0 0 0 0 0 0 0 0 0 0 0 0 0 0 0 0 0 0 0 0 0 0 0 0 0 0 0 0 0 0 0 0 0 0 0 0 0 0 0 0 0 0 0 0 0 0 0 0 0 0 0 0 0 0 0 0 0 0 0 0 0 0 0 0 0 0 0 0 0 0 0 0 0 0 0 0 0 0 0 0 0 0 0 0 0 0 0 0 0 0 0 0 0 0 0 0 0 0 0 0 0 0 0 0 0 0 0 0 0 0 0 0 0 0 0 0 0 0 0 0 0 0 0 0 0 0 0 0 0 0 0 0 0 0 0 0 0 0 0 0 0 0 0 0 0 0 0 0 0 0 0 0 0 0 0 0 0 0 0 0 0 0 0 0 0 0 0 0 0 0 0 0 0 0 0 0 0 0 0 0 0 0 0 0 0 0 0 0 0 0 0 0 0 0 0 0 0 0 0 0 0 0 0 0 0 0 0 0 0 0 0 0 0 0 0 0 0 0 0 0 0 0 0 0 0 0 0 0 0 0 0 0 0 0 0 0 0 0 0 0 0 0 0 0 0 0 0 0 0 0 0 0 0 0 0 0 0 0 0 0 0 0 0 0 0 0 0 0 0 0 0 0 0 0 0 0 0 0 0 0 0 0 0 0 0 0 0 0 0 0 0\n"
          ]
        },
        {
          "output_type": "stream",
          "name": "stdout",
          "text": [
            "INFO:tensorflow:label: 3 (id = 3)\n"
          ]
        },
        {
          "output_type": "stream",
          "name": "stderr",
          "text": [
            "INFO:tensorflow:label: 3 (id = 3)\n"
          ]
        },
        {
          "output_type": "stream",
          "name": "stdout",
          "text": [
            "INFO:tensorflow:*** Example ***\n"
          ]
        },
        {
          "output_type": "stream",
          "name": "stderr",
          "text": [
            "INFO:tensorflow:*** Example ***\n"
          ]
        },
        {
          "output_type": "stream",
          "name": "stdout",
          "text": [
            "INFO:tensorflow:guid: None\n"
          ]
        },
        {
          "output_type": "stream",
          "name": "stderr",
          "text": [
            "INFO:tensorflow:guid: None\n"
          ]
        },
        {
          "output_type": "stream",
          "name": "stdout",
          "text": [
            "INFO:tensorflow:tokens: [CLS] recommended listening : keep on loving you / / cigarettes after sex ( cover ) https : / / you ##tu . be / pd ##j ##pp ##g ##8 ##e ##4 ##n ##4 full play ##list : https : / / youtube . com / play ##list ? list = pl ##5 ##q ##g ##va ##v ##z ##q ##3 ##nl - z ##y - n ##v ##46 ##d ##j ##let ##pu ##ku ##o ##q ##m ##f ( see the end of the chapter for notes . ) \" there is nothing unnatural about it . it is intellectual , and it repeatedly exists between an elder and a younger man , when the elder man has intellect , and the younger man has all the joy , hope , and glamour of life before him . \" - oscar wilde , at his criminal trial . he woke up to the soft glow of the morning light , shining down on silva ' s face like a radiant blessing . it painted the room in gentle shades of gold , and brought out the soft edges in the man ' s face - a face that was so often hard and jade ##d . when silva was asleep , his features softened , and q was always en ##amo ##red by it . he slept without his pro ##st ##hetic in , just like people with dent ##ures , and he thought it made him look awful at night . he wasn ' t wrong , and most people would be horrified at the sunken - in appearance of his face . but q thought that he was beautiful , and more radiant because he was damaged . he was fascinated by the way that poison had ravaged the man ( q he ##sti ##tated to say cy ##ani ##de , because it didn ' t make sense , and he didn ' t have an answer that did ) , and the fact that he had lived . there was a sort of beauty in the horror , a byron ##ic kind of majesty there . a single eye flicked open then , la ##zily , and raoul smirked a little when he saw the younger man watching him so intently . \" what is it ? \" he asked , with a sleep - softened voice , as his lips turned upwards and his smirk widened . \" you ' ll think it ' s silly . \" q retorted , and closed his eyes to keep from seeing the other man ' s reaction . \" it is silly . \" he heard the cl ##ack of teeth at the bedside table , and knew raoul was putting in his pro ##st ##hetic , a sure sign that he was now fully awake . he sighed , because now that he ' d said it , silva would want to talk about it , and he had no desire to do so , but it was one [SEP]\n"
          ]
        },
        {
          "output_type": "stream",
          "name": "stderr",
          "text": [
            "INFO:tensorflow:tokens: [CLS] recommended listening : keep on loving you / / cigarettes after sex ( cover ) https : / / you ##tu . be / pd ##j ##pp ##g ##8 ##e ##4 ##n ##4 full play ##list : https : / / youtube . com / play ##list ? list = pl ##5 ##q ##g ##va ##v ##z ##q ##3 ##nl - z ##y - n ##v ##46 ##d ##j ##let ##pu ##ku ##o ##q ##m ##f ( see the end of the chapter for notes . ) \" there is nothing unnatural about it . it is intellectual , and it repeatedly exists between an elder and a younger man , when the elder man has intellect , and the younger man has all the joy , hope , and glamour of life before him . \" - oscar wilde , at his criminal trial . he woke up to the soft glow of the morning light , shining down on silva ' s face like a radiant blessing . it painted the room in gentle shades of gold , and brought out the soft edges in the man ' s face - a face that was so often hard and jade ##d . when silva was asleep , his features softened , and q was always en ##amo ##red by it . he slept without his pro ##st ##hetic in , just like people with dent ##ures , and he thought it made him look awful at night . he wasn ' t wrong , and most people would be horrified at the sunken - in appearance of his face . but q thought that he was beautiful , and more radiant because he was damaged . he was fascinated by the way that poison had ravaged the man ( q he ##sti ##tated to say cy ##ani ##de , because it didn ' t make sense , and he didn ' t have an answer that did ) , and the fact that he had lived . there was a sort of beauty in the horror , a byron ##ic kind of majesty there . a single eye flicked open then , la ##zily , and raoul smirked a little when he saw the younger man watching him so intently . \" what is it ? \" he asked , with a sleep - softened voice , as his lips turned upwards and his smirk widened . \" you ' ll think it ' s silly . \" q retorted , and closed his eyes to keep from seeing the other man ' s reaction . \" it is silly . \" he heard the cl ##ack of teeth at the bedside table , and knew raoul was putting in his pro ##st ##hetic , a sure sign that he was now fully awake . he sighed , because now that he ' d said it , silva would want to talk about it , and he had no desire to do so , but it was one [SEP]\n"
          ]
        },
        {
          "output_type": "stream",
          "name": "stdout",
          "text": [
            "INFO:tensorflow:input_ids: 101 6749 5962 1024 2562 2006 8295 2017 1013 1013 15001 2044 3348 1006 3104 1007 16770 1024 1013 1013 2017 8525 1012 2022 1013 22851 3501 9397 2290 2620 2063 2549 2078 2549 2440 2377 9863 1024 16770 1024 1013 1013 7858 1012 4012 1013 2377 9863 1029 2862 1027 20228 2629 4160 2290 3567 2615 2480 4160 2509 20554 1011 1062 2100 1011 1050 2615 21472 2094 3501 7485 14289 5283 2080 4160 2213 2546 1006 2156 1996 2203 1997 1996 3127 2005 3964 1012 1007 1000 2045 2003 2498 21242 2055 2009 1012 2009 2003 7789 1010 1998 2009 8385 6526 2090 2019 6422 1998 1037 3920 2158 1010 2043 1996 6422 2158 2038 24823 1010 1998 1996 3920 2158 2038 2035 1996 6569 1010 3246 1010 1998 22439 1997 2166 2077 2032 1012 1000 1011 7436 18575 1010 2012 2010 4735 3979 1012 2002 8271 2039 2000 1996 3730 8652 1997 1996 2851 2422 1010 9716 2091 2006 11183 1005 1055 2227 2066 1037 23751 13301 1012 2009 4993 1996 2282 1999 7132 13178 1997 2751 1010 1998 2716 2041 1996 3730 7926 1999 1996 2158 1005 1055 2227 1011 1037 2227 2008 2001 2061 2411 2524 1998 12323 2094 1012 2043 11183 2001 6680 1010 2010 2838 16573 1010 1998 1053 2001 2467 4372 22591 5596 2011 2009 1012 2002 7771 2302 2010 4013 3367 20086 1999 1010 2074 2066 2111 2007 21418 14900 1010 1998 2002 2245 2009 2081 2032 2298 9643 2012 2305 1012 2002 2347 1005 1056 3308 1010 1998 2087 2111 2052 2022 14603 2012 1996 23470 1011 1999 3311 1997 2010 2227 1012 2021 1053 2245 2008 2002 2001 3376 1010 1998 2062 23751 2138 2002 2001 5591 1012 2002 2001 15677 2011 1996 2126 2008 9947 2018 25537 1996 2158 1006 1053 2002 16643 16238 2000 2360 22330 7088 3207 1010 2138 2009 2134 1005 1056 2191 3168 1010 1998 2002 2134 1005 1056 2031 2019 3437 2008 2106 1007 1010 1998 1996 2755 2008 2002 2018 2973 1012 2045 2001 1037 4066 1997 5053 1999 1996 5469 1010 1037 12234 2594 2785 1997 9995 2045 1012 1037 2309 3239 12777 2330 2059 1010 2474 28431 1010 1998 22063 18775 1037 2210 2043 2002 2387 1996 3920 2158 3666 2032 2061 16170 1012 1000 2054 2003 2009 1029 1000 2002 2356 1010 2007 1037 3637 1011 16573 2376 1010 2004 2010 2970 2357 14873 1998 2010 15081 8723 1012 1000 2017 1005 2222 2228 2009 1005 1055 10021 1012 1000 1053 24056 1010 1998 2701 2010 2159 2000 2562 2013 3773 1996 2060 2158 1005 1055 4668 1012 1000 2009 2003 10021 1012 1000 2002 2657 1996 18856 8684 1997 4091 2012 1996 19475 2795 1010 1998 2354 22063 2001 5128 1999 2010 4013 3367 20086 1010 1037 2469 3696 2008 2002 2001 2085 3929 8300 1012 2002 5489 1010 2138 2085 2008 2002 1005 1040 2056 2009 1010 11183 2052 2215 2000 2831 2055 2009 1010 1998 2002 2018 2053 4792 2000 2079 2061 1010 2021 2009 2001 2028 102\n"
          ]
        },
        {
          "output_type": "stream",
          "name": "stderr",
          "text": [
            "INFO:tensorflow:input_ids: 101 6749 5962 1024 2562 2006 8295 2017 1013 1013 15001 2044 3348 1006 3104 1007 16770 1024 1013 1013 2017 8525 1012 2022 1013 22851 3501 9397 2290 2620 2063 2549 2078 2549 2440 2377 9863 1024 16770 1024 1013 1013 7858 1012 4012 1013 2377 9863 1029 2862 1027 20228 2629 4160 2290 3567 2615 2480 4160 2509 20554 1011 1062 2100 1011 1050 2615 21472 2094 3501 7485 14289 5283 2080 4160 2213 2546 1006 2156 1996 2203 1997 1996 3127 2005 3964 1012 1007 1000 2045 2003 2498 21242 2055 2009 1012 2009 2003 7789 1010 1998 2009 8385 6526 2090 2019 6422 1998 1037 3920 2158 1010 2043 1996 6422 2158 2038 24823 1010 1998 1996 3920 2158 2038 2035 1996 6569 1010 3246 1010 1998 22439 1997 2166 2077 2032 1012 1000 1011 7436 18575 1010 2012 2010 4735 3979 1012 2002 8271 2039 2000 1996 3730 8652 1997 1996 2851 2422 1010 9716 2091 2006 11183 1005 1055 2227 2066 1037 23751 13301 1012 2009 4993 1996 2282 1999 7132 13178 1997 2751 1010 1998 2716 2041 1996 3730 7926 1999 1996 2158 1005 1055 2227 1011 1037 2227 2008 2001 2061 2411 2524 1998 12323 2094 1012 2043 11183 2001 6680 1010 2010 2838 16573 1010 1998 1053 2001 2467 4372 22591 5596 2011 2009 1012 2002 7771 2302 2010 4013 3367 20086 1999 1010 2074 2066 2111 2007 21418 14900 1010 1998 2002 2245 2009 2081 2032 2298 9643 2012 2305 1012 2002 2347 1005 1056 3308 1010 1998 2087 2111 2052 2022 14603 2012 1996 23470 1011 1999 3311 1997 2010 2227 1012 2021 1053 2245 2008 2002 2001 3376 1010 1998 2062 23751 2138 2002 2001 5591 1012 2002 2001 15677 2011 1996 2126 2008 9947 2018 25537 1996 2158 1006 1053 2002 16643 16238 2000 2360 22330 7088 3207 1010 2138 2009 2134 1005 1056 2191 3168 1010 1998 2002 2134 1005 1056 2031 2019 3437 2008 2106 1007 1010 1998 1996 2755 2008 2002 2018 2973 1012 2045 2001 1037 4066 1997 5053 1999 1996 5469 1010 1037 12234 2594 2785 1997 9995 2045 1012 1037 2309 3239 12777 2330 2059 1010 2474 28431 1010 1998 22063 18775 1037 2210 2043 2002 2387 1996 3920 2158 3666 2032 2061 16170 1012 1000 2054 2003 2009 1029 1000 2002 2356 1010 2007 1037 3637 1011 16573 2376 1010 2004 2010 2970 2357 14873 1998 2010 15081 8723 1012 1000 2017 1005 2222 2228 2009 1005 1055 10021 1012 1000 1053 24056 1010 1998 2701 2010 2159 2000 2562 2013 3773 1996 2060 2158 1005 1055 4668 1012 1000 2009 2003 10021 1012 1000 2002 2657 1996 18856 8684 1997 4091 2012 1996 19475 2795 1010 1998 2354 22063 2001 5128 1999 2010 4013 3367 20086 1010 1037 2469 3696 2008 2002 2001 2085 3929 8300 1012 2002 5489 1010 2138 2085 2008 2002 1005 1040 2056 2009 1010 11183 2052 2215 2000 2831 2055 2009 1010 1998 2002 2018 2053 4792 2000 2079 2061 1010 2021 2009 2001 2028 102\n"
          ]
        },
        {
          "output_type": "stream",
          "name": "stdout",
          "text": [
            "INFO:tensorflow:input_mask: 1 1 1 1 1 1 1 1 1 1 1 1 1 1 1 1 1 1 1 1 1 1 1 1 1 1 1 1 1 1 1 1 1 1 1 1 1 1 1 1 1 1 1 1 1 1 1 1 1 1 1 1 1 1 1 1 1 1 1 1 1 1 1 1 1 1 1 1 1 1 1 1 1 1 1 1 1 1 1 1 1 1 1 1 1 1 1 1 1 1 1 1 1 1 1 1 1 1 1 1 1 1 1 1 1 1 1 1 1 1 1 1 1 1 1 1 1 1 1 1 1 1 1 1 1 1 1 1 1 1 1 1 1 1 1 1 1 1 1 1 1 1 1 1 1 1 1 1 1 1 1 1 1 1 1 1 1 1 1 1 1 1 1 1 1 1 1 1 1 1 1 1 1 1 1 1 1 1 1 1 1 1 1 1 1 1 1 1 1 1 1 1 1 1 1 1 1 1 1 1 1 1 1 1 1 1 1 1 1 1 1 1 1 1 1 1 1 1 1 1 1 1 1 1 1 1 1 1 1 1 1 1 1 1 1 1 1 1 1 1 1 1 1 1 1 1 1 1 1 1 1 1 1 1 1 1 1 1 1 1 1 1 1 1 1 1 1 1 1 1 1 1 1 1 1 1 1 1 1 1 1 1 1 1 1 1 1 1 1 1 1 1 1 1 1 1 1 1 1 1 1 1 1 1 1 1 1 1 1 1 1 1 1 1 1 1 1 1 1 1 1 1 1 1 1 1 1 1 1 1 1 1 1 1 1 1 1 1 1 1 1 1 1 1 1 1 1 1 1 1 1 1 1 1 1 1 1 1 1 1 1 1 1 1 1 1 1 1 1 1 1 1 1 1 1 1 1 1 1 1 1 1 1 1 1 1 1 1 1 1 1 1 1 1 1 1 1 1 1 1 1 1 1 1 1 1 1 1 1 1 1 1 1 1 1 1 1 1 1 1 1 1 1 1 1 1 1 1 1 1 1 1 1 1 1 1 1 1 1 1 1 1 1 1 1 1 1 1 1 1 1 1 1 1 1 1 1 1 1 1 1 1 1 1 1 1 1 1 1 1 1 1 1 1 1 1 1 1 1 1 1 1 1 1 1 1 1 1 1 1 1 1 1 1 1 1 1 1 1 1 1 1 1 1 1 1 1 1 1 1 1 1\n"
          ]
        },
        {
          "output_type": "stream",
          "name": "stderr",
          "text": [
            "INFO:tensorflow:input_mask: 1 1 1 1 1 1 1 1 1 1 1 1 1 1 1 1 1 1 1 1 1 1 1 1 1 1 1 1 1 1 1 1 1 1 1 1 1 1 1 1 1 1 1 1 1 1 1 1 1 1 1 1 1 1 1 1 1 1 1 1 1 1 1 1 1 1 1 1 1 1 1 1 1 1 1 1 1 1 1 1 1 1 1 1 1 1 1 1 1 1 1 1 1 1 1 1 1 1 1 1 1 1 1 1 1 1 1 1 1 1 1 1 1 1 1 1 1 1 1 1 1 1 1 1 1 1 1 1 1 1 1 1 1 1 1 1 1 1 1 1 1 1 1 1 1 1 1 1 1 1 1 1 1 1 1 1 1 1 1 1 1 1 1 1 1 1 1 1 1 1 1 1 1 1 1 1 1 1 1 1 1 1 1 1 1 1 1 1 1 1 1 1 1 1 1 1 1 1 1 1 1 1 1 1 1 1 1 1 1 1 1 1 1 1 1 1 1 1 1 1 1 1 1 1 1 1 1 1 1 1 1 1 1 1 1 1 1 1 1 1 1 1 1 1 1 1 1 1 1 1 1 1 1 1 1 1 1 1 1 1 1 1 1 1 1 1 1 1 1 1 1 1 1 1 1 1 1 1 1 1 1 1 1 1 1 1 1 1 1 1 1 1 1 1 1 1 1 1 1 1 1 1 1 1 1 1 1 1 1 1 1 1 1 1 1 1 1 1 1 1 1 1 1 1 1 1 1 1 1 1 1 1 1 1 1 1 1 1 1 1 1 1 1 1 1 1 1 1 1 1 1 1 1 1 1 1 1 1 1 1 1 1 1 1 1 1 1 1 1 1 1 1 1 1 1 1 1 1 1 1 1 1 1 1 1 1 1 1 1 1 1 1 1 1 1 1 1 1 1 1 1 1 1 1 1 1 1 1 1 1 1 1 1 1 1 1 1 1 1 1 1 1 1 1 1 1 1 1 1 1 1 1 1 1 1 1 1 1 1 1 1 1 1 1 1 1 1 1 1 1 1 1 1 1 1 1 1 1 1 1 1 1 1 1 1 1 1 1 1 1 1 1 1 1 1 1 1 1 1 1 1 1 1 1 1 1 1 1 1 1 1 1 1 1 1 1 1 1 1 1 1 1 1 1 1 1 1 1 1 1 1 1\n"
          ]
        },
        {
          "output_type": "stream",
          "name": "stdout",
          "text": [
            "INFO:tensorflow:segment_ids: 0 0 0 0 0 0 0 0 0 0 0 0 0 0 0 0 0 0 0 0 0 0 0 0 0 0 0 0 0 0 0 0 0 0 0 0 0 0 0 0 0 0 0 0 0 0 0 0 0 0 0 0 0 0 0 0 0 0 0 0 0 0 0 0 0 0 0 0 0 0 0 0 0 0 0 0 0 0 0 0 0 0 0 0 0 0 0 0 0 0 0 0 0 0 0 0 0 0 0 0 0 0 0 0 0 0 0 0 0 0 0 0 0 0 0 0 0 0 0 0 0 0 0 0 0 0 0 0 0 0 0 0 0 0 0 0 0 0 0 0 0 0 0 0 0 0 0 0 0 0 0 0 0 0 0 0 0 0 0 0 0 0 0 0 0 0 0 0 0 0 0 0 0 0 0 0 0 0 0 0 0 0 0 0 0 0 0 0 0 0 0 0 0 0 0 0 0 0 0 0 0 0 0 0 0 0 0 0 0 0 0 0 0 0 0 0 0 0 0 0 0 0 0 0 0 0 0 0 0 0 0 0 0 0 0 0 0 0 0 0 0 0 0 0 0 0 0 0 0 0 0 0 0 0 0 0 0 0 0 0 0 0 0 0 0 0 0 0 0 0 0 0 0 0 0 0 0 0 0 0 0 0 0 0 0 0 0 0 0 0 0 0 0 0 0 0 0 0 0 0 0 0 0 0 0 0 0 0 0 0 0 0 0 0 0 0 0 0 0 0 0 0 0 0 0 0 0 0 0 0 0 0 0 0 0 0 0 0 0 0 0 0 0 0 0 0 0 0 0 0 0 0 0 0 0 0 0 0 0 0 0 0 0 0 0 0 0 0 0 0 0 0 0 0 0 0 0 0 0 0 0 0 0 0 0 0 0 0 0 0 0 0 0 0 0 0 0 0 0 0 0 0 0 0 0 0 0 0 0 0 0 0 0 0 0 0 0 0 0 0 0 0 0 0 0 0 0 0 0 0 0 0 0 0 0 0 0 0 0 0 0 0 0 0 0 0 0 0 0 0 0 0 0 0 0 0 0 0 0 0 0 0 0 0 0 0 0 0 0 0 0 0 0 0 0 0 0 0 0 0 0 0 0 0 0 0 0 0 0 0 0 0 0 0 0 0 0 0 0 0 0 0 0 0 0 0 0 0 0 0 0 0\n"
          ]
        },
        {
          "output_type": "stream",
          "name": "stderr",
          "text": [
            "INFO:tensorflow:segment_ids: 0 0 0 0 0 0 0 0 0 0 0 0 0 0 0 0 0 0 0 0 0 0 0 0 0 0 0 0 0 0 0 0 0 0 0 0 0 0 0 0 0 0 0 0 0 0 0 0 0 0 0 0 0 0 0 0 0 0 0 0 0 0 0 0 0 0 0 0 0 0 0 0 0 0 0 0 0 0 0 0 0 0 0 0 0 0 0 0 0 0 0 0 0 0 0 0 0 0 0 0 0 0 0 0 0 0 0 0 0 0 0 0 0 0 0 0 0 0 0 0 0 0 0 0 0 0 0 0 0 0 0 0 0 0 0 0 0 0 0 0 0 0 0 0 0 0 0 0 0 0 0 0 0 0 0 0 0 0 0 0 0 0 0 0 0 0 0 0 0 0 0 0 0 0 0 0 0 0 0 0 0 0 0 0 0 0 0 0 0 0 0 0 0 0 0 0 0 0 0 0 0 0 0 0 0 0 0 0 0 0 0 0 0 0 0 0 0 0 0 0 0 0 0 0 0 0 0 0 0 0 0 0 0 0 0 0 0 0 0 0 0 0 0 0 0 0 0 0 0 0 0 0 0 0 0 0 0 0 0 0 0 0 0 0 0 0 0 0 0 0 0 0 0 0 0 0 0 0 0 0 0 0 0 0 0 0 0 0 0 0 0 0 0 0 0 0 0 0 0 0 0 0 0 0 0 0 0 0 0 0 0 0 0 0 0 0 0 0 0 0 0 0 0 0 0 0 0 0 0 0 0 0 0 0 0 0 0 0 0 0 0 0 0 0 0 0 0 0 0 0 0 0 0 0 0 0 0 0 0 0 0 0 0 0 0 0 0 0 0 0 0 0 0 0 0 0 0 0 0 0 0 0 0 0 0 0 0 0 0 0 0 0 0 0 0 0 0 0 0 0 0 0 0 0 0 0 0 0 0 0 0 0 0 0 0 0 0 0 0 0 0 0 0 0 0 0 0 0 0 0 0 0 0 0 0 0 0 0 0 0 0 0 0 0 0 0 0 0 0 0 0 0 0 0 0 0 0 0 0 0 0 0 0 0 0 0 0 0 0 0 0 0 0 0 0 0 0 0 0 0 0 0 0 0 0 0 0 0 0 0 0 0 0 0 0 0 0 0 0 0 0 0 0 0 0 0 0 0 0 0 0 0\n"
          ]
        },
        {
          "output_type": "stream",
          "name": "stdout",
          "text": [
            "INFO:tensorflow:label: 2 (id = 2)\n"
          ]
        },
        {
          "output_type": "stream",
          "name": "stderr",
          "text": [
            "INFO:tensorflow:label: 2 (id = 2)\n"
          ]
        },
        {
          "output_type": "stream",
          "name": "stdout",
          "text": [
            "INFO:tensorflow:Writing example 0 of 44\n"
          ]
        },
        {
          "output_type": "stream",
          "name": "stderr",
          "text": [
            "INFO:tensorflow:Writing example 0 of 44\n"
          ]
        },
        {
          "output_type": "stream",
          "name": "stdout",
          "text": [
            "INFO:tensorflow:*** Example ***\n"
          ]
        },
        {
          "output_type": "stream",
          "name": "stderr",
          "text": [
            "INFO:tensorflow:*** Example ***\n"
          ]
        },
        {
          "output_type": "stream",
          "name": "stdout",
          "text": [
            "INFO:tensorflow:guid: None\n"
          ]
        },
        {
          "output_type": "stream",
          "name": "stderr",
          "text": [
            "INFO:tensorflow:guid: None\n"
          ]
        },
        {
          "output_type": "stream",
          "name": "stdout",
          "text": [
            "INFO:tensorflow:tokens: [CLS] day 1 john moves back in on a saturday . when sherlock emerges from his bedroom in the early afternoon , dressed in his p ##y ##ja ##mas and his blue dressing gown , john is sitting in his chair , staring blankly into the empty space in front of him . sherlock notices the slight impression the wedding ring has left on his finger . \" good morning , \" john says without looking at him . \" it ' s half past three , \" sherlock answers , running a hand through his own sleep - to ##us ##led curls . \" yes . \" john ' s vacant stare turns into a sad smile . \" but i know you , don ' t i ? \" \" hm . \" sherlock wander ##s over to the kitchen table , puts on his safety gloves and bus ##ies himself with adding a drop of sulfur ##ic acid ( 38 per cent ) to each pet ##ri dish with lac ##tate producing bacteria . no need to ask any questions . it has taken him precisely two seconds to figure out what happened . \" mrs . hudson let me in . i took my suitcase upstairs . is this - \" john clears his throat . \" is this alright ? \" \" yes . \" the ' of course it ' s alright , you complete im ##be ##ci ##le ' remains entirely sub ##text ##ual . it ' s more than alright and the question is un ##be ##ara ##bly stupid , but then , john is an idiot . naturally . no point in being upset about the fact . sherlock finishes his experiment in silence , carefully taking notes in his lab journal . john still doesn ' t move , which starts to worry sherlock a bit . he blink ##s at john ' s motionless form and makes a decision . \" lest ##rade texted me , around three hours ago . murder suicide , apparently , but some painting has gone missing and no one can quite explain why . boring . \" sherlock wander ##s over to the door , grabbing his bel ##sta ##ff on the way . \" come with me ? \" john raises his head in slow motion . their eyes meet for the first time . the corners of john ' s mouth twitch slightly . \" thank god , \" he murmurs , and gets up to follow sherlock into another round of ridiculous , life - end ##anger ##ing , glorious insanity . day 3 the game is back on . or , as a matter of fact , this specific round has just been won . they have found a painting and caught a murderer . considering the footprints in the flower ##bed ##s it was obvious that the suspect had only one arm , anyway . when they return to baker street , their cat ##ech ##ola ##mine level is [SEP]\n"
          ]
        },
        {
          "output_type": "stream",
          "name": "stderr",
          "text": [
            "INFO:tensorflow:tokens: [CLS] day 1 john moves back in on a saturday . when sherlock emerges from his bedroom in the early afternoon , dressed in his p ##y ##ja ##mas and his blue dressing gown , john is sitting in his chair , staring blankly into the empty space in front of him . sherlock notices the slight impression the wedding ring has left on his finger . \" good morning , \" john says without looking at him . \" it ' s half past three , \" sherlock answers , running a hand through his own sleep - to ##us ##led curls . \" yes . \" john ' s vacant stare turns into a sad smile . \" but i know you , don ' t i ? \" \" hm . \" sherlock wander ##s over to the kitchen table , puts on his safety gloves and bus ##ies himself with adding a drop of sulfur ##ic acid ( 38 per cent ) to each pet ##ri dish with lac ##tate producing bacteria . no need to ask any questions . it has taken him precisely two seconds to figure out what happened . \" mrs . hudson let me in . i took my suitcase upstairs . is this - \" john clears his throat . \" is this alright ? \" \" yes . \" the ' of course it ' s alright , you complete im ##be ##ci ##le ' remains entirely sub ##text ##ual . it ' s more than alright and the question is un ##be ##ara ##bly stupid , but then , john is an idiot . naturally . no point in being upset about the fact . sherlock finishes his experiment in silence , carefully taking notes in his lab journal . john still doesn ' t move , which starts to worry sherlock a bit . he blink ##s at john ' s motionless form and makes a decision . \" lest ##rade texted me , around three hours ago . murder suicide , apparently , but some painting has gone missing and no one can quite explain why . boring . \" sherlock wander ##s over to the door , grabbing his bel ##sta ##ff on the way . \" come with me ? \" john raises his head in slow motion . their eyes meet for the first time . the corners of john ' s mouth twitch slightly . \" thank god , \" he murmurs , and gets up to follow sherlock into another round of ridiculous , life - end ##anger ##ing , glorious insanity . day 3 the game is back on . or , as a matter of fact , this specific round has just been won . they have found a painting and caught a murderer . considering the footprints in the flower ##bed ##s it was obvious that the suspect had only one arm , anyway . when they return to baker street , their cat ##ech ##ola ##mine level is [SEP]\n"
          ]
        },
        {
          "output_type": "stream",
          "name": "stdout",
          "text": [
            "INFO:tensorflow:input_ids: 101 2154 1015 2198 5829 2067 1999 2006 1037 5095 1012 2043 20052 19391 2013 2010 5010 1999 1996 2220 5027 1010 5102 1999 2010 1052 2100 3900 9335 1998 2010 2630 11225 11739 1010 2198 2003 3564 1999 2010 3242 1010 4582 26344 2046 1996 4064 2686 1999 2392 1997 2032 1012 20052 14444 1996 7263 8605 1996 5030 3614 2038 2187 2006 2010 4344 1012 1000 2204 2851 1010 1000 2198 2758 2302 2559 2012 2032 1012 1000 2009 1005 1055 2431 2627 2093 1010 1000 20052 6998 1010 2770 1037 2192 2083 2010 2219 3637 1011 2000 2271 3709 14484 1012 1000 2748 1012 1000 2198 1005 1055 10030 6237 4332 2046 1037 6517 2868 1012 1000 2021 1045 2113 2017 1010 2123 1005 1056 1045 1029 1000 1000 20287 1012 1000 20052 17677 2015 2058 2000 1996 3829 2795 1010 8509 2006 2010 3808 11875 1998 3902 3111 2370 2007 5815 1037 4530 1997 17864 2594 5648 1006 4229 2566 9358 1007 2000 2169 9004 3089 9841 2007 18749 12259 5155 10327 1012 2053 2342 2000 3198 2151 3980 1012 2009 2038 2579 2032 10785 2048 3823 2000 3275 2041 2054 3047 1012 1000 3680 1012 6842 2292 2033 1999 1012 1045 2165 2026 15940 8721 1012 2003 2023 1011 1000 2198 28837 2010 3759 1012 1000 2003 2023 10303 1029 1000 1000 2748 1012 1000 1996 1005 1997 2607 2009 1005 1055 10303 1010 2017 3143 10047 4783 6895 2571 1005 3464 4498 4942 18209 8787 1012 2009 1005 1055 2062 2084 10303 1998 1996 3160 2003 4895 4783 5400 6321 5236 1010 2021 2059 1010 2198 2003 2019 10041 1012 8100 1012 2053 2391 1999 2108 6314 2055 1996 2755 1012 20052 12321 2010 7551 1999 4223 1010 5362 2635 3964 1999 2010 6845 3485 1012 2198 2145 2987 1005 1056 2693 1010 2029 4627 2000 4737 20052 1037 2978 1012 2002 12373 2015 2012 2198 1005 1055 19917 2433 1998 3084 1037 3247 1012 1000 26693 13662 24637 2033 1010 2105 2093 2847 3283 1012 4028 5920 1010 4593 1010 2021 2070 4169 2038 2908 4394 1998 2053 2028 2064 3243 4863 2339 1012 11771 1012 1000 20052 17677 2015 2058 2000 1996 2341 1010 9775 2010 19337 9153 4246 2006 1996 2126 1012 1000 2272 2007 2033 1029 1000 2198 13275 2010 2132 1999 4030 4367 1012 2037 2159 3113 2005 1996 2034 2051 1012 1996 8413 1997 2198 1005 1055 2677 19435 3621 1012 1000 4067 2643 1010 1000 2002 22888 1010 1998 4152 2039 2000 3582 20052 2046 2178 2461 1997 9951 1010 2166 1011 2203 25121 2075 1010 14013 19272 1012 2154 1017 1996 2208 2003 2067 2006 1012 2030 1010 2004 1037 3043 1997 2755 1010 2023 3563 2461 2038 2074 2042 2180 1012 2027 2031 2179 1037 4169 1998 3236 1037 13422 1012 6195 1996 24629 1999 1996 6546 8270 2015 2009 2001 5793 2008 1996 8343 2018 2069 2028 2849 1010 4312 1012 2043 2027 2709 2000 6243 2395 1010 2037 4937 15937 6030 11233 2504 2003 102\n"
          ]
        },
        {
          "output_type": "stream",
          "name": "stderr",
          "text": [
            "INFO:tensorflow:input_ids: 101 2154 1015 2198 5829 2067 1999 2006 1037 5095 1012 2043 20052 19391 2013 2010 5010 1999 1996 2220 5027 1010 5102 1999 2010 1052 2100 3900 9335 1998 2010 2630 11225 11739 1010 2198 2003 3564 1999 2010 3242 1010 4582 26344 2046 1996 4064 2686 1999 2392 1997 2032 1012 20052 14444 1996 7263 8605 1996 5030 3614 2038 2187 2006 2010 4344 1012 1000 2204 2851 1010 1000 2198 2758 2302 2559 2012 2032 1012 1000 2009 1005 1055 2431 2627 2093 1010 1000 20052 6998 1010 2770 1037 2192 2083 2010 2219 3637 1011 2000 2271 3709 14484 1012 1000 2748 1012 1000 2198 1005 1055 10030 6237 4332 2046 1037 6517 2868 1012 1000 2021 1045 2113 2017 1010 2123 1005 1056 1045 1029 1000 1000 20287 1012 1000 20052 17677 2015 2058 2000 1996 3829 2795 1010 8509 2006 2010 3808 11875 1998 3902 3111 2370 2007 5815 1037 4530 1997 17864 2594 5648 1006 4229 2566 9358 1007 2000 2169 9004 3089 9841 2007 18749 12259 5155 10327 1012 2053 2342 2000 3198 2151 3980 1012 2009 2038 2579 2032 10785 2048 3823 2000 3275 2041 2054 3047 1012 1000 3680 1012 6842 2292 2033 1999 1012 1045 2165 2026 15940 8721 1012 2003 2023 1011 1000 2198 28837 2010 3759 1012 1000 2003 2023 10303 1029 1000 1000 2748 1012 1000 1996 1005 1997 2607 2009 1005 1055 10303 1010 2017 3143 10047 4783 6895 2571 1005 3464 4498 4942 18209 8787 1012 2009 1005 1055 2062 2084 10303 1998 1996 3160 2003 4895 4783 5400 6321 5236 1010 2021 2059 1010 2198 2003 2019 10041 1012 8100 1012 2053 2391 1999 2108 6314 2055 1996 2755 1012 20052 12321 2010 7551 1999 4223 1010 5362 2635 3964 1999 2010 6845 3485 1012 2198 2145 2987 1005 1056 2693 1010 2029 4627 2000 4737 20052 1037 2978 1012 2002 12373 2015 2012 2198 1005 1055 19917 2433 1998 3084 1037 3247 1012 1000 26693 13662 24637 2033 1010 2105 2093 2847 3283 1012 4028 5920 1010 4593 1010 2021 2070 4169 2038 2908 4394 1998 2053 2028 2064 3243 4863 2339 1012 11771 1012 1000 20052 17677 2015 2058 2000 1996 2341 1010 9775 2010 19337 9153 4246 2006 1996 2126 1012 1000 2272 2007 2033 1029 1000 2198 13275 2010 2132 1999 4030 4367 1012 2037 2159 3113 2005 1996 2034 2051 1012 1996 8413 1997 2198 1005 1055 2677 19435 3621 1012 1000 4067 2643 1010 1000 2002 22888 1010 1998 4152 2039 2000 3582 20052 2046 2178 2461 1997 9951 1010 2166 1011 2203 25121 2075 1010 14013 19272 1012 2154 1017 1996 2208 2003 2067 2006 1012 2030 1010 2004 1037 3043 1997 2755 1010 2023 3563 2461 2038 2074 2042 2180 1012 2027 2031 2179 1037 4169 1998 3236 1037 13422 1012 6195 1996 24629 1999 1996 6546 8270 2015 2009 2001 5793 2008 1996 8343 2018 2069 2028 2849 1010 4312 1012 2043 2027 2709 2000 6243 2395 1010 2037 4937 15937 6030 11233 2504 2003 102\n"
          ]
        },
        {
          "output_type": "stream",
          "name": "stdout",
          "text": [
            "INFO:tensorflow:input_mask: 1 1 1 1 1 1 1 1 1 1 1 1 1 1 1 1 1 1 1 1 1 1 1 1 1 1 1 1 1 1 1 1 1 1 1 1 1 1 1 1 1 1 1 1 1 1 1 1 1 1 1 1 1 1 1 1 1 1 1 1 1 1 1 1 1 1 1 1 1 1 1 1 1 1 1 1 1 1 1 1 1 1 1 1 1 1 1 1 1 1 1 1 1 1 1 1 1 1 1 1 1 1 1 1 1 1 1 1 1 1 1 1 1 1 1 1 1 1 1 1 1 1 1 1 1 1 1 1 1 1 1 1 1 1 1 1 1 1 1 1 1 1 1 1 1 1 1 1 1 1 1 1 1 1 1 1 1 1 1 1 1 1 1 1 1 1 1 1 1 1 1 1 1 1 1 1 1 1 1 1 1 1 1 1 1 1 1 1 1 1 1 1 1 1 1 1 1 1 1 1 1 1 1 1 1 1 1 1 1 1 1 1 1 1 1 1 1 1 1 1 1 1 1 1 1 1 1 1 1 1 1 1 1 1 1 1 1 1 1 1 1 1 1 1 1 1 1 1 1 1 1 1 1 1 1 1 1 1 1 1 1 1 1 1 1 1 1 1 1 1 1 1 1 1 1 1 1 1 1 1 1 1 1 1 1 1 1 1 1 1 1 1 1 1 1 1 1 1 1 1 1 1 1 1 1 1 1 1 1 1 1 1 1 1 1 1 1 1 1 1 1 1 1 1 1 1 1 1 1 1 1 1 1 1 1 1 1 1 1 1 1 1 1 1 1 1 1 1 1 1 1 1 1 1 1 1 1 1 1 1 1 1 1 1 1 1 1 1 1 1 1 1 1 1 1 1 1 1 1 1 1 1 1 1 1 1 1 1 1 1 1 1 1 1 1 1 1 1 1 1 1 1 1 1 1 1 1 1 1 1 1 1 1 1 1 1 1 1 1 1 1 1 1 1 1 1 1 1 1 1 1 1 1 1 1 1 1 1 1 1 1 1 1 1 1 1 1 1 1 1 1 1 1 1 1 1 1 1 1 1 1 1 1 1 1 1 1 1 1 1 1 1 1 1 1 1 1 1 1 1 1 1 1 1 1 1 1 1 1 1 1 1 1 1 1 1 1 1 1 1 1 1 1 1 1 1 1 1 1 1 1 1\n"
          ]
        },
        {
          "output_type": "stream",
          "name": "stderr",
          "text": [
            "INFO:tensorflow:input_mask: 1 1 1 1 1 1 1 1 1 1 1 1 1 1 1 1 1 1 1 1 1 1 1 1 1 1 1 1 1 1 1 1 1 1 1 1 1 1 1 1 1 1 1 1 1 1 1 1 1 1 1 1 1 1 1 1 1 1 1 1 1 1 1 1 1 1 1 1 1 1 1 1 1 1 1 1 1 1 1 1 1 1 1 1 1 1 1 1 1 1 1 1 1 1 1 1 1 1 1 1 1 1 1 1 1 1 1 1 1 1 1 1 1 1 1 1 1 1 1 1 1 1 1 1 1 1 1 1 1 1 1 1 1 1 1 1 1 1 1 1 1 1 1 1 1 1 1 1 1 1 1 1 1 1 1 1 1 1 1 1 1 1 1 1 1 1 1 1 1 1 1 1 1 1 1 1 1 1 1 1 1 1 1 1 1 1 1 1 1 1 1 1 1 1 1 1 1 1 1 1 1 1 1 1 1 1 1 1 1 1 1 1 1 1 1 1 1 1 1 1 1 1 1 1 1 1 1 1 1 1 1 1 1 1 1 1 1 1 1 1 1 1 1 1 1 1 1 1 1 1 1 1 1 1 1 1 1 1 1 1 1 1 1 1 1 1 1 1 1 1 1 1 1 1 1 1 1 1 1 1 1 1 1 1 1 1 1 1 1 1 1 1 1 1 1 1 1 1 1 1 1 1 1 1 1 1 1 1 1 1 1 1 1 1 1 1 1 1 1 1 1 1 1 1 1 1 1 1 1 1 1 1 1 1 1 1 1 1 1 1 1 1 1 1 1 1 1 1 1 1 1 1 1 1 1 1 1 1 1 1 1 1 1 1 1 1 1 1 1 1 1 1 1 1 1 1 1 1 1 1 1 1 1 1 1 1 1 1 1 1 1 1 1 1 1 1 1 1 1 1 1 1 1 1 1 1 1 1 1 1 1 1 1 1 1 1 1 1 1 1 1 1 1 1 1 1 1 1 1 1 1 1 1 1 1 1 1 1 1 1 1 1 1 1 1 1 1 1 1 1 1 1 1 1 1 1 1 1 1 1 1 1 1 1 1 1 1 1 1 1 1 1 1 1 1 1 1 1 1 1 1 1 1 1 1 1 1 1 1 1 1 1 1 1 1 1 1 1 1 1 1 1 1 1 1 1 1 1 1 1 1 1\n"
          ]
        },
        {
          "output_type": "stream",
          "name": "stdout",
          "text": [
            "INFO:tensorflow:segment_ids: 0 0 0 0 0 0 0 0 0 0 0 0 0 0 0 0 0 0 0 0 0 0 0 0 0 0 0 0 0 0 0 0 0 0 0 0 0 0 0 0 0 0 0 0 0 0 0 0 0 0 0 0 0 0 0 0 0 0 0 0 0 0 0 0 0 0 0 0 0 0 0 0 0 0 0 0 0 0 0 0 0 0 0 0 0 0 0 0 0 0 0 0 0 0 0 0 0 0 0 0 0 0 0 0 0 0 0 0 0 0 0 0 0 0 0 0 0 0 0 0 0 0 0 0 0 0 0 0 0 0 0 0 0 0 0 0 0 0 0 0 0 0 0 0 0 0 0 0 0 0 0 0 0 0 0 0 0 0 0 0 0 0 0 0 0 0 0 0 0 0 0 0 0 0 0 0 0 0 0 0 0 0 0 0 0 0 0 0 0 0 0 0 0 0 0 0 0 0 0 0 0 0 0 0 0 0 0 0 0 0 0 0 0 0 0 0 0 0 0 0 0 0 0 0 0 0 0 0 0 0 0 0 0 0 0 0 0 0 0 0 0 0 0 0 0 0 0 0 0 0 0 0 0 0 0 0 0 0 0 0 0 0 0 0 0 0 0 0 0 0 0 0 0 0 0 0 0 0 0 0 0 0 0 0 0 0 0 0 0 0 0 0 0 0 0 0 0 0 0 0 0 0 0 0 0 0 0 0 0 0 0 0 0 0 0 0 0 0 0 0 0 0 0 0 0 0 0 0 0 0 0 0 0 0 0 0 0 0 0 0 0 0 0 0 0 0 0 0 0 0 0 0 0 0 0 0 0 0 0 0 0 0 0 0 0 0 0 0 0 0 0 0 0 0 0 0 0 0 0 0 0 0 0 0 0 0 0 0 0 0 0 0 0 0 0 0 0 0 0 0 0 0 0 0 0 0 0 0 0 0 0 0 0 0 0 0 0 0 0 0 0 0 0 0 0 0 0 0 0 0 0 0 0 0 0 0 0 0 0 0 0 0 0 0 0 0 0 0 0 0 0 0 0 0 0 0 0 0 0 0 0 0 0 0 0 0 0 0 0 0 0 0 0 0 0 0 0 0 0 0 0 0 0 0 0 0 0 0 0 0 0 0 0 0 0 0 0 0 0 0 0 0 0 0 0 0 0 0 0 0 0 0\n"
          ]
        },
        {
          "output_type": "stream",
          "name": "stderr",
          "text": [
            "INFO:tensorflow:segment_ids: 0 0 0 0 0 0 0 0 0 0 0 0 0 0 0 0 0 0 0 0 0 0 0 0 0 0 0 0 0 0 0 0 0 0 0 0 0 0 0 0 0 0 0 0 0 0 0 0 0 0 0 0 0 0 0 0 0 0 0 0 0 0 0 0 0 0 0 0 0 0 0 0 0 0 0 0 0 0 0 0 0 0 0 0 0 0 0 0 0 0 0 0 0 0 0 0 0 0 0 0 0 0 0 0 0 0 0 0 0 0 0 0 0 0 0 0 0 0 0 0 0 0 0 0 0 0 0 0 0 0 0 0 0 0 0 0 0 0 0 0 0 0 0 0 0 0 0 0 0 0 0 0 0 0 0 0 0 0 0 0 0 0 0 0 0 0 0 0 0 0 0 0 0 0 0 0 0 0 0 0 0 0 0 0 0 0 0 0 0 0 0 0 0 0 0 0 0 0 0 0 0 0 0 0 0 0 0 0 0 0 0 0 0 0 0 0 0 0 0 0 0 0 0 0 0 0 0 0 0 0 0 0 0 0 0 0 0 0 0 0 0 0 0 0 0 0 0 0 0 0 0 0 0 0 0 0 0 0 0 0 0 0 0 0 0 0 0 0 0 0 0 0 0 0 0 0 0 0 0 0 0 0 0 0 0 0 0 0 0 0 0 0 0 0 0 0 0 0 0 0 0 0 0 0 0 0 0 0 0 0 0 0 0 0 0 0 0 0 0 0 0 0 0 0 0 0 0 0 0 0 0 0 0 0 0 0 0 0 0 0 0 0 0 0 0 0 0 0 0 0 0 0 0 0 0 0 0 0 0 0 0 0 0 0 0 0 0 0 0 0 0 0 0 0 0 0 0 0 0 0 0 0 0 0 0 0 0 0 0 0 0 0 0 0 0 0 0 0 0 0 0 0 0 0 0 0 0 0 0 0 0 0 0 0 0 0 0 0 0 0 0 0 0 0 0 0 0 0 0 0 0 0 0 0 0 0 0 0 0 0 0 0 0 0 0 0 0 0 0 0 0 0 0 0 0 0 0 0 0 0 0 0 0 0 0 0 0 0 0 0 0 0 0 0 0 0 0 0 0 0 0 0 0 0 0 0 0 0 0 0 0 0 0 0 0 0 0 0 0 0 0 0 0 0 0 0 0 0 0 0 0 0\n"
          ]
        },
        {
          "output_type": "stream",
          "name": "stdout",
          "text": [
            "INFO:tensorflow:label: 1 (id = 1)\n"
          ]
        },
        {
          "output_type": "stream",
          "name": "stderr",
          "text": [
            "INFO:tensorflow:label: 1 (id = 1)\n"
          ]
        },
        {
          "output_type": "stream",
          "name": "stdout",
          "text": [
            "INFO:tensorflow:*** Example ***\n"
          ]
        },
        {
          "output_type": "stream",
          "name": "stderr",
          "text": [
            "INFO:tensorflow:*** Example ***\n"
          ]
        },
        {
          "output_type": "stream",
          "name": "stdout",
          "text": [
            "INFO:tensorflow:guid: None\n"
          ]
        },
        {
          "output_type": "stream",
          "name": "stderr",
          "text": [
            "INFO:tensorflow:guid: None\n"
          ]
        },
        {
          "output_type": "stream",
          "name": "stdout",
          "text": [
            "INFO:tensorflow:tokens: [CLS] \" . . . i ' m an omega , ma ' am \" . \" i ' m well aware \" . \" . . . an omega has never held a position of power in any government \" . she sighed . \" q , you ' re a damn good worker and frightening ##ly intelligent . booth ##roy ##d vo ##uche ##d for you , r currently vo ##uche ##s for you , and my chief of staff does the same . . . so , if you ' ll forgive my french , i don ' t give a single fuck about your dynamic . it ' s about time things changed around here , so why not start it with you ? \" he looked up . she stared back un ##fl ##in ##ching ##ly , mouth set in a grim line but eyes determined . raising the pen , he placed it on the necessary signature box . it took an embarrassing ##ly long time to remember his own name . l ' en ##nem ##i eco ##ute water fell from the sky . or , at least , that ' s what it felt like , as q suddenly sp ##lu ##ttered back to consciousness , heart racing and skin numb ##ing under the torre ##nt of ice - cold water that crashed over him . \" wake ##y , wake ##y , little omega . there ' s someone here who ' d like to see you \" . he muttered a few choice words under his breath and tried to shake the worst of the wet ##ness from his hair . his capt ##or grinned , tossing the now - empty bucket to the side of the room where it landed with a loud cl ##atter . the sound sent a piercing pain through his already throbbing head , and q threw in a few more mental curses for good measure . a quick glance around the room revealed him to be in the same bloody position that he ' d been before one of these thugs had gotten a little too trigger happy with their fists . concrete walls , concrete floor , concrete ceilings . a single metal chair in the center of the room , which he was currently tied to , wrists and ankles , with dec ##eptive ##ly strong zip - ties . one door , bolted from the outside , with thug - number - one currently standing guard . there was a single light ##bu ##lb overhead , flickering ominous ##ly and casting a pale yellow glow over the otherwise empty room . q would have laughed at the entire cl ##iche of it all if he hadn ' t been so glad to not have to deal with bright led lights right now , given his current headache . especially since they ' d taken his glasses , like , two whole minutes into this entire cluster ##fu ##ck of a disaster . [SEP]\n"
          ]
        },
        {
          "output_type": "stream",
          "name": "stderr",
          "text": [
            "INFO:tensorflow:tokens: [CLS] \" . . . i ' m an omega , ma ' am \" . \" i ' m well aware \" . \" . . . an omega has never held a position of power in any government \" . she sighed . \" q , you ' re a damn good worker and frightening ##ly intelligent . booth ##roy ##d vo ##uche ##d for you , r currently vo ##uche ##s for you , and my chief of staff does the same . . . so , if you ' ll forgive my french , i don ' t give a single fuck about your dynamic . it ' s about time things changed around here , so why not start it with you ? \" he looked up . she stared back un ##fl ##in ##ching ##ly , mouth set in a grim line but eyes determined . raising the pen , he placed it on the necessary signature box . it took an embarrassing ##ly long time to remember his own name . l ' en ##nem ##i eco ##ute water fell from the sky . or , at least , that ' s what it felt like , as q suddenly sp ##lu ##ttered back to consciousness , heart racing and skin numb ##ing under the torre ##nt of ice - cold water that crashed over him . \" wake ##y , wake ##y , little omega . there ' s someone here who ' d like to see you \" . he muttered a few choice words under his breath and tried to shake the worst of the wet ##ness from his hair . his capt ##or grinned , tossing the now - empty bucket to the side of the room where it landed with a loud cl ##atter . the sound sent a piercing pain through his already throbbing head , and q threw in a few more mental curses for good measure . a quick glance around the room revealed him to be in the same bloody position that he ' d been before one of these thugs had gotten a little too trigger happy with their fists . concrete walls , concrete floor , concrete ceilings . a single metal chair in the center of the room , which he was currently tied to , wrists and ankles , with dec ##eptive ##ly strong zip - ties . one door , bolted from the outside , with thug - number - one currently standing guard . there was a single light ##bu ##lb overhead , flickering ominous ##ly and casting a pale yellow glow over the otherwise empty room . q would have laughed at the entire cl ##iche of it all if he hadn ' t been so glad to not have to deal with bright led lights right now , given his current headache . especially since they ' d taken his glasses , like , two whole minutes into this entire cluster ##fu ##ck of a disaster . [SEP]\n"
          ]
        },
        {
          "output_type": "stream",
          "name": "stdout",
          "text": [
            "INFO:tensorflow:input_ids: 101 1000 1012 1012 1012 1045 1005 1049 2019 14827 1010 5003 1005 2572 1000 1012 1000 1045 1005 1049 2092 5204 1000 1012 1000 1012 1012 1012 2019 14827 2038 2196 2218 1037 2597 1997 2373 1999 2151 2231 1000 1012 2016 5489 1012 1000 1053 1010 2017 1005 2128 1037 4365 2204 7309 1998 17115 2135 9414 1012 9065 13238 2094 29536 19140 2094 2005 2017 1010 1054 2747 29536 19140 2015 2005 2017 1010 1998 2026 2708 1997 3095 2515 1996 2168 1012 1012 1012 2061 1010 2065 2017 1005 2222 9641 2026 2413 1010 1045 2123 1005 1056 2507 1037 2309 6616 2055 2115 8790 1012 2009 1005 1055 2055 2051 2477 2904 2105 2182 1010 2061 2339 2025 2707 2009 2007 2017 1029 1000 2002 2246 2039 1012 2016 3592 2067 4895 10258 2378 8450 2135 1010 2677 2275 1999 1037 11844 2240 2021 2159 4340 1012 6274 1996 7279 1010 2002 2872 2009 2006 1996 4072 8085 3482 1012 2009 2165 2019 16436 2135 2146 2051 2000 3342 2010 2219 2171 1012 1048 1005 4372 25832 2072 17338 10421 2300 3062 2013 1996 3712 1012 2030 1010 2012 2560 1010 2008 1005 1055 2054 2009 2371 2066 1010 2004 1053 3402 11867 7630 14795 2067 2000 8298 1010 2540 3868 1998 3096 15903 2075 2104 1996 22047 3372 1997 3256 1011 3147 2300 2008 8007 2058 2032 1012 1000 5256 2100 1010 5256 2100 1010 2210 14827 1012 2045 1005 1055 2619 2182 2040 1005 1040 2066 2000 2156 2017 1000 1012 2002 6250 1037 2261 3601 2616 2104 2010 3052 1998 2699 2000 6073 1996 5409 1997 1996 4954 2791 2013 2010 2606 1012 2010 14408 2953 6973 1010 15021 1996 2085 1011 4064 13610 2000 1996 2217 1997 1996 2282 2073 2009 5565 2007 1037 5189 18856 20097 1012 1996 2614 2741 1037 14628 3255 2083 2010 2525 17061 2132 1010 1998 1053 4711 1999 1037 2261 2062 5177 23897 2005 2204 5468 1012 1037 4248 6054 2105 1996 2282 3936 2032 2000 2022 1999 1996 2168 6703 2597 2008 2002 1005 1040 2042 2077 2028 1997 2122 24106 2018 5407 1037 2210 2205 9495 3407 2007 2037 10006 1012 5509 3681 1010 5509 2723 1010 5509 21098 1012 1037 2309 3384 3242 1999 1996 2415 1997 1996 2282 1010 2029 2002 2001 2747 5079 2000 1010 12150 1998 15392 1010 2007 11703 22048 2135 2844 14101 1011 7208 1012 2028 2341 1010 18088 2013 1996 2648 1010 2007 26599 1011 2193 1011 2028 2747 3061 3457 1012 2045 2001 1037 2309 2422 8569 20850 8964 1010 20046 23504 2135 1998 9179 1037 5122 3756 8652 2058 1996 4728 4064 2282 1012 1053 2052 2031 4191 2012 1996 2972 18856 17322 1997 2009 2035 2065 2002 2910 1005 1056 2042 2061 5580 2000 2025 2031 2000 3066 2007 4408 2419 4597 2157 2085 1010 2445 2010 2783 14978 1012 2926 2144 2027 1005 1040 2579 2010 7877 1010 2066 1010 2048 2878 2781 2046 2023 2972 9324 11263 3600 1997 1037 7071 1012 102\n"
          ]
        },
        {
          "output_type": "stream",
          "name": "stderr",
          "text": [
            "INFO:tensorflow:input_ids: 101 1000 1012 1012 1012 1045 1005 1049 2019 14827 1010 5003 1005 2572 1000 1012 1000 1045 1005 1049 2092 5204 1000 1012 1000 1012 1012 1012 2019 14827 2038 2196 2218 1037 2597 1997 2373 1999 2151 2231 1000 1012 2016 5489 1012 1000 1053 1010 2017 1005 2128 1037 4365 2204 7309 1998 17115 2135 9414 1012 9065 13238 2094 29536 19140 2094 2005 2017 1010 1054 2747 29536 19140 2015 2005 2017 1010 1998 2026 2708 1997 3095 2515 1996 2168 1012 1012 1012 2061 1010 2065 2017 1005 2222 9641 2026 2413 1010 1045 2123 1005 1056 2507 1037 2309 6616 2055 2115 8790 1012 2009 1005 1055 2055 2051 2477 2904 2105 2182 1010 2061 2339 2025 2707 2009 2007 2017 1029 1000 2002 2246 2039 1012 2016 3592 2067 4895 10258 2378 8450 2135 1010 2677 2275 1999 1037 11844 2240 2021 2159 4340 1012 6274 1996 7279 1010 2002 2872 2009 2006 1996 4072 8085 3482 1012 2009 2165 2019 16436 2135 2146 2051 2000 3342 2010 2219 2171 1012 1048 1005 4372 25832 2072 17338 10421 2300 3062 2013 1996 3712 1012 2030 1010 2012 2560 1010 2008 1005 1055 2054 2009 2371 2066 1010 2004 1053 3402 11867 7630 14795 2067 2000 8298 1010 2540 3868 1998 3096 15903 2075 2104 1996 22047 3372 1997 3256 1011 3147 2300 2008 8007 2058 2032 1012 1000 5256 2100 1010 5256 2100 1010 2210 14827 1012 2045 1005 1055 2619 2182 2040 1005 1040 2066 2000 2156 2017 1000 1012 2002 6250 1037 2261 3601 2616 2104 2010 3052 1998 2699 2000 6073 1996 5409 1997 1996 4954 2791 2013 2010 2606 1012 2010 14408 2953 6973 1010 15021 1996 2085 1011 4064 13610 2000 1996 2217 1997 1996 2282 2073 2009 5565 2007 1037 5189 18856 20097 1012 1996 2614 2741 1037 14628 3255 2083 2010 2525 17061 2132 1010 1998 1053 4711 1999 1037 2261 2062 5177 23897 2005 2204 5468 1012 1037 4248 6054 2105 1996 2282 3936 2032 2000 2022 1999 1996 2168 6703 2597 2008 2002 1005 1040 2042 2077 2028 1997 2122 24106 2018 5407 1037 2210 2205 9495 3407 2007 2037 10006 1012 5509 3681 1010 5509 2723 1010 5509 21098 1012 1037 2309 3384 3242 1999 1996 2415 1997 1996 2282 1010 2029 2002 2001 2747 5079 2000 1010 12150 1998 15392 1010 2007 11703 22048 2135 2844 14101 1011 7208 1012 2028 2341 1010 18088 2013 1996 2648 1010 2007 26599 1011 2193 1011 2028 2747 3061 3457 1012 2045 2001 1037 2309 2422 8569 20850 8964 1010 20046 23504 2135 1998 9179 1037 5122 3756 8652 2058 1996 4728 4064 2282 1012 1053 2052 2031 4191 2012 1996 2972 18856 17322 1997 2009 2035 2065 2002 2910 1005 1056 2042 2061 5580 2000 2025 2031 2000 3066 2007 4408 2419 4597 2157 2085 1010 2445 2010 2783 14978 1012 2926 2144 2027 1005 1040 2579 2010 7877 1010 2066 1010 2048 2878 2781 2046 2023 2972 9324 11263 3600 1997 1037 7071 1012 102\n"
          ]
        },
        {
          "output_type": "stream",
          "name": "stdout",
          "text": [
            "INFO:tensorflow:input_mask: 1 1 1 1 1 1 1 1 1 1 1 1 1 1 1 1 1 1 1 1 1 1 1 1 1 1 1 1 1 1 1 1 1 1 1 1 1 1 1 1 1 1 1 1 1 1 1 1 1 1 1 1 1 1 1 1 1 1 1 1 1 1 1 1 1 1 1 1 1 1 1 1 1 1 1 1 1 1 1 1 1 1 1 1 1 1 1 1 1 1 1 1 1 1 1 1 1 1 1 1 1 1 1 1 1 1 1 1 1 1 1 1 1 1 1 1 1 1 1 1 1 1 1 1 1 1 1 1 1 1 1 1 1 1 1 1 1 1 1 1 1 1 1 1 1 1 1 1 1 1 1 1 1 1 1 1 1 1 1 1 1 1 1 1 1 1 1 1 1 1 1 1 1 1 1 1 1 1 1 1 1 1 1 1 1 1 1 1 1 1 1 1 1 1 1 1 1 1 1 1 1 1 1 1 1 1 1 1 1 1 1 1 1 1 1 1 1 1 1 1 1 1 1 1 1 1 1 1 1 1 1 1 1 1 1 1 1 1 1 1 1 1 1 1 1 1 1 1 1 1 1 1 1 1 1 1 1 1 1 1 1 1 1 1 1 1 1 1 1 1 1 1 1 1 1 1 1 1 1 1 1 1 1 1 1 1 1 1 1 1 1 1 1 1 1 1 1 1 1 1 1 1 1 1 1 1 1 1 1 1 1 1 1 1 1 1 1 1 1 1 1 1 1 1 1 1 1 1 1 1 1 1 1 1 1 1 1 1 1 1 1 1 1 1 1 1 1 1 1 1 1 1 1 1 1 1 1 1 1 1 1 1 1 1 1 1 1 1 1 1 1 1 1 1 1 1 1 1 1 1 1 1 1 1 1 1 1 1 1 1 1 1 1 1 1 1 1 1 1 1 1 1 1 1 1 1 1 1 1 1 1 1 1 1 1 1 1 1 1 1 1 1 1 1 1 1 1 1 1 1 1 1 1 1 1 1 1 1 1 1 1 1 1 1 1 1 1 1 1 1 1 1 1 1 1 1 1 1 1 1 1 1 1 1 1 1 1 1 1 1 1 1 1 1 1 1 1 1 1 1 1 1 1 1 1 1 1 1 1 1 1 1 1 1 1 1 1 1 1 1 1 1 1 1 1 1 1 1 1 1 1 1\n"
          ]
        },
        {
          "output_type": "stream",
          "name": "stderr",
          "text": [
            "INFO:tensorflow:input_mask: 1 1 1 1 1 1 1 1 1 1 1 1 1 1 1 1 1 1 1 1 1 1 1 1 1 1 1 1 1 1 1 1 1 1 1 1 1 1 1 1 1 1 1 1 1 1 1 1 1 1 1 1 1 1 1 1 1 1 1 1 1 1 1 1 1 1 1 1 1 1 1 1 1 1 1 1 1 1 1 1 1 1 1 1 1 1 1 1 1 1 1 1 1 1 1 1 1 1 1 1 1 1 1 1 1 1 1 1 1 1 1 1 1 1 1 1 1 1 1 1 1 1 1 1 1 1 1 1 1 1 1 1 1 1 1 1 1 1 1 1 1 1 1 1 1 1 1 1 1 1 1 1 1 1 1 1 1 1 1 1 1 1 1 1 1 1 1 1 1 1 1 1 1 1 1 1 1 1 1 1 1 1 1 1 1 1 1 1 1 1 1 1 1 1 1 1 1 1 1 1 1 1 1 1 1 1 1 1 1 1 1 1 1 1 1 1 1 1 1 1 1 1 1 1 1 1 1 1 1 1 1 1 1 1 1 1 1 1 1 1 1 1 1 1 1 1 1 1 1 1 1 1 1 1 1 1 1 1 1 1 1 1 1 1 1 1 1 1 1 1 1 1 1 1 1 1 1 1 1 1 1 1 1 1 1 1 1 1 1 1 1 1 1 1 1 1 1 1 1 1 1 1 1 1 1 1 1 1 1 1 1 1 1 1 1 1 1 1 1 1 1 1 1 1 1 1 1 1 1 1 1 1 1 1 1 1 1 1 1 1 1 1 1 1 1 1 1 1 1 1 1 1 1 1 1 1 1 1 1 1 1 1 1 1 1 1 1 1 1 1 1 1 1 1 1 1 1 1 1 1 1 1 1 1 1 1 1 1 1 1 1 1 1 1 1 1 1 1 1 1 1 1 1 1 1 1 1 1 1 1 1 1 1 1 1 1 1 1 1 1 1 1 1 1 1 1 1 1 1 1 1 1 1 1 1 1 1 1 1 1 1 1 1 1 1 1 1 1 1 1 1 1 1 1 1 1 1 1 1 1 1 1 1 1 1 1 1 1 1 1 1 1 1 1 1 1 1 1 1 1 1 1 1 1 1 1 1 1 1 1 1 1 1 1 1 1 1 1 1 1 1 1 1 1 1 1 1 1 1 1 1 1\n"
          ]
        },
        {
          "output_type": "stream",
          "name": "stdout",
          "text": [
            "INFO:tensorflow:segment_ids: 0 0 0 0 0 0 0 0 0 0 0 0 0 0 0 0 0 0 0 0 0 0 0 0 0 0 0 0 0 0 0 0 0 0 0 0 0 0 0 0 0 0 0 0 0 0 0 0 0 0 0 0 0 0 0 0 0 0 0 0 0 0 0 0 0 0 0 0 0 0 0 0 0 0 0 0 0 0 0 0 0 0 0 0 0 0 0 0 0 0 0 0 0 0 0 0 0 0 0 0 0 0 0 0 0 0 0 0 0 0 0 0 0 0 0 0 0 0 0 0 0 0 0 0 0 0 0 0 0 0 0 0 0 0 0 0 0 0 0 0 0 0 0 0 0 0 0 0 0 0 0 0 0 0 0 0 0 0 0 0 0 0 0 0 0 0 0 0 0 0 0 0 0 0 0 0 0 0 0 0 0 0 0 0 0 0 0 0 0 0 0 0 0 0 0 0 0 0 0 0 0 0 0 0 0 0 0 0 0 0 0 0 0 0 0 0 0 0 0 0 0 0 0 0 0 0 0 0 0 0 0 0 0 0 0 0 0 0 0 0 0 0 0 0 0 0 0 0 0 0 0 0 0 0 0 0 0 0 0 0 0 0 0 0 0 0 0 0 0 0 0 0 0 0 0 0 0 0 0 0 0 0 0 0 0 0 0 0 0 0 0 0 0 0 0 0 0 0 0 0 0 0 0 0 0 0 0 0 0 0 0 0 0 0 0 0 0 0 0 0 0 0 0 0 0 0 0 0 0 0 0 0 0 0 0 0 0 0 0 0 0 0 0 0 0 0 0 0 0 0 0 0 0 0 0 0 0 0 0 0 0 0 0 0 0 0 0 0 0 0 0 0 0 0 0 0 0 0 0 0 0 0 0 0 0 0 0 0 0 0 0 0 0 0 0 0 0 0 0 0 0 0 0 0 0 0 0 0 0 0 0 0 0 0 0 0 0 0 0 0 0 0 0 0 0 0 0 0 0 0 0 0 0 0 0 0 0 0 0 0 0 0 0 0 0 0 0 0 0 0 0 0 0 0 0 0 0 0 0 0 0 0 0 0 0 0 0 0 0 0 0 0 0 0 0 0 0 0 0 0 0 0 0 0 0 0 0 0 0 0 0 0 0 0 0 0 0 0 0 0 0 0 0 0 0 0 0 0 0 0 0 0\n"
          ]
        },
        {
          "output_type": "stream",
          "name": "stderr",
          "text": [
            "INFO:tensorflow:segment_ids: 0 0 0 0 0 0 0 0 0 0 0 0 0 0 0 0 0 0 0 0 0 0 0 0 0 0 0 0 0 0 0 0 0 0 0 0 0 0 0 0 0 0 0 0 0 0 0 0 0 0 0 0 0 0 0 0 0 0 0 0 0 0 0 0 0 0 0 0 0 0 0 0 0 0 0 0 0 0 0 0 0 0 0 0 0 0 0 0 0 0 0 0 0 0 0 0 0 0 0 0 0 0 0 0 0 0 0 0 0 0 0 0 0 0 0 0 0 0 0 0 0 0 0 0 0 0 0 0 0 0 0 0 0 0 0 0 0 0 0 0 0 0 0 0 0 0 0 0 0 0 0 0 0 0 0 0 0 0 0 0 0 0 0 0 0 0 0 0 0 0 0 0 0 0 0 0 0 0 0 0 0 0 0 0 0 0 0 0 0 0 0 0 0 0 0 0 0 0 0 0 0 0 0 0 0 0 0 0 0 0 0 0 0 0 0 0 0 0 0 0 0 0 0 0 0 0 0 0 0 0 0 0 0 0 0 0 0 0 0 0 0 0 0 0 0 0 0 0 0 0 0 0 0 0 0 0 0 0 0 0 0 0 0 0 0 0 0 0 0 0 0 0 0 0 0 0 0 0 0 0 0 0 0 0 0 0 0 0 0 0 0 0 0 0 0 0 0 0 0 0 0 0 0 0 0 0 0 0 0 0 0 0 0 0 0 0 0 0 0 0 0 0 0 0 0 0 0 0 0 0 0 0 0 0 0 0 0 0 0 0 0 0 0 0 0 0 0 0 0 0 0 0 0 0 0 0 0 0 0 0 0 0 0 0 0 0 0 0 0 0 0 0 0 0 0 0 0 0 0 0 0 0 0 0 0 0 0 0 0 0 0 0 0 0 0 0 0 0 0 0 0 0 0 0 0 0 0 0 0 0 0 0 0 0 0 0 0 0 0 0 0 0 0 0 0 0 0 0 0 0 0 0 0 0 0 0 0 0 0 0 0 0 0 0 0 0 0 0 0 0 0 0 0 0 0 0 0 0 0 0 0 0 0 0 0 0 0 0 0 0 0 0 0 0 0 0 0 0 0 0 0 0 0 0 0 0 0 0 0 0 0 0 0 0 0 0 0 0 0 0 0 0 0 0 0 0 0 0 0 0 0 0\n"
          ]
        },
        {
          "output_type": "stream",
          "name": "stdout",
          "text": [
            "INFO:tensorflow:label: 2 (id = 2)\n"
          ]
        },
        {
          "output_type": "stream",
          "name": "stderr",
          "text": [
            "INFO:tensorflow:label: 2 (id = 2)\n"
          ]
        },
        {
          "output_type": "stream",
          "name": "stdout",
          "text": [
            "INFO:tensorflow:*** Example ***\n"
          ]
        },
        {
          "output_type": "stream",
          "name": "stderr",
          "text": [
            "INFO:tensorflow:*** Example ***\n"
          ]
        },
        {
          "output_type": "stream",
          "name": "stdout",
          "text": [
            "INFO:tensorflow:guid: None\n"
          ]
        },
        {
          "output_type": "stream",
          "name": "stderr",
          "text": [
            "INFO:tensorflow:guid: None\n"
          ]
        },
        {
          "output_type": "stream",
          "name": "stdout",
          "text": [
            "INFO:tensorflow:tokens: [CLS] here ' s where it starts . . . with the di ##sman ##tling of the tentacles of nine eyes , the shadows appeared . just out of his line of sight . but they were there . lurking . taunting . silent . and then came the restructuring of all three agencies : mi ##6 , mi ##5 , and g ##ch ##q . none had been left unaffected by the de ##ba ##cle . the shadows followed him . circled around as he worked . trying to distract . to find a way in . shadows no one else saw . slowly , he was slipping away . losing himself . even with all that was being asked of him in taking spec ##tre apart piece by piece , the day to day operation of mi ##6 still flowed . he gave up keeping track of how many hours mi ##6 owed him in compensation for the never - ending , no - going - home pace he kept . and as the darkness of days continued , and the skies all turned to grey , the shadows found their way in and became voices . voices that couldn ' t be tuned out . how ' d they get so goddamn loud ? they lingered and lu ##rked , the shades , watching over his shoulder as he tried to talk 00 ##4 through di ##sman ##tling an explosive device . she was in a major financial institution in the los palo ##s grande ##s district of caracas near the em ##bas ##sies of the united nations , uruguay , ecuador , and the dominican republic . the destruction would be catastrophic if the bomb went off . \" i can ' t get in , 00 ##4 . something ' s blocking me at every turn . it ' s in your hands . \" \" not enough time q ! i won ' t be able to di ##sman ##tle it ! timer is showing two minutes . \" \" then you need to run ! and run now ! i ' ll set off the fire alarms in the building and hope that it gives at least some of them time to escape . \" on the video feed , he watched as 00 ##4 threw open the office door and ran . ran for the nearest staircase as the fire alarms began to shriek throughout the structure . and all q could do was watch . watch and hope at least some of the employees in the building would make their way to safety . if not . . . the flames soared . walls collapsed . shadows crowded . and the voices . . . how ' d they get so goddamn loud ? here ' s where it ends . . . and he wondered . . . can ' t anybody hear me ? can ' t anybody see me ? he had definitely lost his way . consumed by [SEP]\n"
          ]
        },
        {
          "output_type": "stream",
          "name": "stderr",
          "text": [
            "INFO:tensorflow:tokens: [CLS] here ' s where it starts . . . with the di ##sman ##tling of the tentacles of nine eyes , the shadows appeared . just out of his line of sight . but they were there . lurking . taunting . silent . and then came the restructuring of all three agencies : mi ##6 , mi ##5 , and g ##ch ##q . none had been left unaffected by the de ##ba ##cle . the shadows followed him . circled around as he worked . trying to distract . to find a way in . shadows no one else saw . slowly , he was slipping away . losing himself . even with all that was being asked of him in taking spec ##tre apart piece by piece , the day to day operation of mi ##6 still flowed . he gave up keeping track of how many hours mi ##6 owed him in compensation for the never - ending , no - going - home pace he kept . and as the darkness of days continued , and the skies all turned to grey , the shadows found their way in and became voices . voices that couldn ' t be tuned out . how ' d they get so goddamn loud ? they lingered and lu ##rked , the shades , watching over his shoulder as he tried to talk 00 ##4 through di ##sman ##tling an explosive device . she was in a major financial institution in the los palo ##s grande ##s district of caracas near the em ##bas ##sies of the united nations , uruguay , ecuador , and the dominican republic . the destruction would be catastrophic if the bomb went off . \" i can ' t get in , 00 ##4 . something ' s blocking me at every turn . it ' s in your hands . \" \" not enough time q ! i won ' t be able to di ##sman ##tle it ! timer is showing two minutes . \" \" then you need to run ! and run now ! i ' ll set off the fire alarms in the building and hope that it gives at least some of them time to escape . \" on the video feed , he watched as 00 ##4 threw open the office door and ran . ran for the nearest staircase as the fire alarms began to shriek throughout the structure . and all q could do was watch . watch and hope at least some of the employees in the building would make their way to safety . if not . . . the flames soared . walls collapsed . shadows crowded . and the voices . . . how ' d they get so goddamn loud ? here ' s where it ends . . . and he wondered . . . can ' t anybody hear me ? can ' t anybody see me ? he had definitely lost his way . consumed by [SEP]\n"
          ]
        },
        {
          "output_type": "stream",
          "name": "stdout",
          "text": [
            "INFO:tensorflow:input_ids: 101 2182 1005 1055 2073 2009 4627 1012 1012 1012 2007 1996 4487 11512 15073 1997 1996 24719 1997 3157 2159 1010 1996 6281 2596 1012 2074 2041 1997 2010 2240 1997 4356 1012 2021 2027 2020 2045 1012 24261 1012 29442 1012 4333 1012 1998 2059 2234 1996 18322 1997 2035 2093 6736 1024 2771 2575 1010 2771 2629 1010 1998 1043 2818 4160 1012 3904 2018 2042 2187 24720 2011 1996 2139 3676 14321 1012 1996 6281 2628 2032 1012 14867 2105 2004 2002 2499 1012 2667 2000 15886 1012 2000 2424 1037 2126 1999 1012 6281 2053 2028 2842 2387 1012 3254 1010 2002 2001 11426 2185 1012 3974 2370 1012 2130 2007 2035 2008 2001 2108 2356 1997 2032 1999 2635 28699 7913 4237 3538 2011 3538 1010 1996 2154 2000 2154 3169 1997 2771 2575 2145 13230 1012 2002 2435 2039 4363 2650 1997 2129 2116 2847 2771 2575 12232 2032 1999 9430 2005 1996 2196 1011 4566 1010 2053 1011 2183 1011 2188 6393 2002 2921 1012 1998 2004 1996 4768 1997 2420 2506 1010 1998 1996 15717 2035 2357 2000 4462 1010 1996 6281 2179 2037 2126 1999 1998 2150 5755 1012 5755 2008 2481 1005 1056 2022 15757 2041 1012 2129 1005 1040 2027 2131 2061 16477 5189 1029 2027 17645 1998 11320 19849 1010 1996 13178 1010 3666 2058 2010 3244 2004 2002 2699 2000 2831 4002 2549 2083 4487 11512 15073 2019 11355 5080 1012 2016 2001 1999 1037 2350 3361 5145 1999 1996 3050 24326 2015 9026 2015 2212 1997 21675 2379 1996 7861 22083 14625 1997 1996 2142 3741 1010 11724 1010 10378 1010 1998 1996 10104 3072 1012 1996 6215 2052 2022 23546 2065 1996 5968 2253 2125 1012 1000 1045 2064 1005 1056 2131 1999 1010 4002 2549 1012 2242 1005 1055 10851 2033 2012 2296 2735 1012 2009 1005 1055 1999 2115 2398 1012 1000 1000 2025 2438 2051 1053 999 1045 2180 1005 1056 2022 2583 2000 4487 11512 9286 2009 999 25309 2003 4760 2048 2781 1012 1000 1000 2059 2017 2342 2000 2448 999 1998 2448 2085 999 1045 1005 2222 2275 2125 1996 2543 29034 1999 1996 2311 1998 3246 2008 2009 3957 2012 2560 2070 1997 2068 2051 2000 4019 1012 1000 2006 1996 2678 5438 1010 2002 3427 2004 4002 2549 4711 2330 1996 2436 2341 1998 2743 1012 2743 2005 1996 7205 10714 2004 1996 2543 29034 2211 2000 24795 2802 1996 3252 1012 1998 2035 1053 2071 2079 2001 3422 1012 3422 1998 3246 2012 2560 2070 1997 1996 5126 1999 1996 2311 2052 2191 2037 2126 2000 3808 1012 2065 2025 1012 1012 1012 1996 7311 29127 1012 3681 7798 1012 6281 10789 1012 1998 1996 5755 1012 1012 1012 2129 1005 1040 2027 2131 2061 16477 5189 1029 2182 1005 1055 2073 2009 4515 1012 1012 1012 1998 2002 4999 1012 1012 1012 2064 1005 1056 10334 2963 2033 1029 2064 1005 1056 10334 2156 2033 1029 2002 2018 5791 2439 2010 2126 1012 10202 2011 102\n"
          ]
        },
        {
          "output_type": "stream",
          "name": "stderr",
          "text": [
            "INFO:tensorflow:input_ids: 101 2182 1005 1055 2073 2009 4627 1012 1012 1012 2007 1996 4487 11512 15073 1997 1996 24719 1997 3157 2159 1010 1996 6281 2596 1012 2074 2041 1997 2010 2240 1997 4356 1012 2021 2027 2020 2045 1012 24261 1012 29442 1012 4333 1012 1998 2059 2234 1996 18322 1997 2035 2093 6736 1024 2771 2575 1010 2771 2629 1010 1998 1043 2818 4160 1012 3904 2018 2042 2187 24720 2011 1996 2139 3676 14321 1012 1996 6281 2628 2032 1012 14867 2105 2004 2002 2499 1012 2667 2000 15886 1012 2000 2424 1037 2126 1999 1012 6281 2053 2028 2842 2387 1012 3254 1010 2002 2001 11426 2185 1012 3974 2370 1012 2130 2007 2035 2008 2001 2108 2356 1997 2032 1999 2635 28699 7913 4237 3538 2011 3538 1010 1996 2154 2000 2154 3169 1997 2771 2575 2145 13230 1012 2002 2435 2039 4363 2650 1997 2129 2116 2847 2771 2575 12232 2032 1999 9430 2005 1996 2196 1011 4566 1010 2053 1011 2183 1011 2188 6393 2002 2921 1012 1998 2004 1996 4768 1997 2420 2506 1010 1998 1996 15717 2035 2357 2000 4462 1010 1996 6281 2179 2037 2126 1999 1998 2150 5755 1012 5755 2008 2481 1005 1056 2022 15757 2041 1012 2129 1005 1040 2027 2131 2061 16477 5189 1029 2027 17645 1998 11320 19849 1010 1996 13178 1010 3666 2058 2010 3244 2004 2002 2699 2000 2831 4002 2549 2083 4487 11512 15073 2019 11355 5080 1012 2016 2001 1999 1037 2350 3361 5145 1999 1996 3050 24326 2015 9026 2015 2212 1997 21675 2379 1996 7861 22083 14625 1997 1996 2142 3741 1010 11724 1010 10378 1010 1998 1996 10104 3072 1012 1996 6215 2052 2022 23546 2065 1996 5968 2253 2125 1012 1000 1045 2064 1005 1056 2131 1999 1010 4002 2549 1012 2242 1005 1055 10851 2033 2012 2296 2735 1012 2009 1005 1055 1999 2115 2398 1012 1000 1000 2025 2438 2051 1053 999 1045 2180 1005 1056 2022 2583 2000 4487 11512 9286 2009 999 25309 2003 4760 2048 2781 1012 1000 1000 2059 2017 2342 2000 2448 999 1998 2448 2085 999 1045 1005 2222 2275 2125 1996 2543 29034 1999 1996 2311 1998 3246 2008 2009 3957 2012 2560 2070 1997 2068 2051 2000 4019 1012 1000 2006 1996 2678 5438 1010 2002 3427 2004 4002 2549 4711 2330 1996 2436 2341 1998 2743 1012 2743 2005 1996 7205 10714 2004 1996 2543 29034 2211 2000 24795 2802 1996 3252 1012 1998 2035 1053 2071 2079 2001 3422 1012 3422 1998 3246 2012 2560 2070 1997 1996 5126 1999 1996 2311 2052 2191 2037 2126 2000 3808 1012 2065 2025 1012 1012 1012 1996 7311 29127 1012 3681 7798 1012 6281 10789 1012 1998 1996 5755 1012 1012 1012 2129 1005 1040 2027 2131 2061 16477 5189 1029 2182 1005 1055 2073 2009 4515 1012 1012 1012 1998 2002 4999 1012 1012 1012 2064 1005 1056 10334 2963 2033 1029 2064 1005 1056 10334 2156 2033 1029 2002 2018 5791 2439 2010 2126 1012 10202 2011 102\n"
          ]
        },
        {
          "output_type": "stream",
          "name": "stdout",
          "text": [
            "INFO:tensorflow:input_mask: 1 1 1 1 1 1 1 1 1 1 1 1 1 1 1 1 1 1 1 1 1 1 1 1 1 1 1 1 1 1 1 1 1 1 1 1 1 1 1 1 1 1 1 1 1 1 1 1 1 1 1 1 1 1 1 1 1 1 1 1 1 1 1 1 1 1 1 1 1 1 1 1 1 1 1 1 1 1 1 1 1 1 1 1 1 1 1 1 1 1 1 1 1 1 1 1 1 1 1 1 1 1 1 1 1 1 1 1 1 1 1 1 1 1 1 1 1 1 1 1 1 1 1 1 1 1 1 1 1 1 1 1 1 1 1 1 1 1 1 1 1 1 1 1 1 1 1 1 1 1 1 1 1 1 1 1 1 1 1 1 1 1 1 1 1 1 1 1 1 1 1 1 1 1 1 1 1 1 1 1 1 1 1 1 1 1 1 1 1 1 1 1 1 1 1 1 1 1 1 1 1 1 1 1 1 1 1 1 1 1 1 1 1 1 1 1 1 1 1 1 1 1 1 1 1 1 1 1 1 1 1 1 1 1 1 1 1 1 1 1 1 1 1 1 1 1 1 1 1 1 1 1 1 1 1 1 1 1 1 1 1 1 1 1 1 1 1 1 1 1 1 1 1 1 1 1 1 1 1 1 1 1 1 1 1 1 1 1 1 1 1 1 1 1 1 1 1 1 1 1 1 1 1 1 1 1 1 1 1 1 1 1 1 1 1 1 1 1 1 1 1 1 1 1 1 1 1 1 1 1 1 1 1 1 1 1 1 1 1 1 1 1 1 1 1 1 1 1 1 1 1 1 1 1 1 1 1 1 1 1 1 1 1 1 1 1 1 1 1 1 1 1 1 1 1 1 1 1 1 1 1 1 1 1 1 1 1 1 1 1 1 1 1 1 1 1 1 1 1 1 1 1 1 1 1 1 1 1 1 1 1 1 1 1 1 1 1 1 1 1 1 1 1 1 1 1 1 1 1 1 1 1 1 1 1 1 1 1 1 1 1 1 1 1 1 1 1 1 1 1 1 1 1 1 1 1 1 1 1 1 1 1 1 1 1 1 1 1 1 1 1 1 1 1 1 1 1 1 1 1 1 1 1 1 1 1 1 1 1 1 1 1 1 1 1 1 1 1 1 1 1 1 1 1 1 1 1 1 1 1 1 1\n"
          ]
        },
        {
          "output_type": "stream",
          "name": "stderr",
          "text": [
            "INFO:tensorflow:input_mask: 1 1 1 1 1 1 1 1 1 1 1 1 1 1 1 1 1 1 1 1 1 1 1 1 1 1 1 1 1 1 1 1 1 1 1 1 1 1 1 1 1 1 1 1 1 1 1 1 1 1 1 1 1 1 1 1 1 1 1 1 1 1 1 1 1 1 1 1 1 1 1 1 1 1 1 1 1 1 1 1 1 1 1 1 1 1 1 1 1 1 1 1 1 1 1 1 1 1 1 1 1 1 1 1 1 1 1 1 1 1 1 1 1 1 1 1 1 1 1 1 1 1 1 1 1 1 1 1 1 1 1 1 1 1 1 1 1 1 1 1 1 1 1 1 1 1 1 1 1 1 1 1 1 1 1 1 1 1 1 1 1 1 1 1 1 1 1 1 1 1 1 1 1 1 1 1 1 1 1 1 1 1 1 1 1 1 1 1 1 1 1 1 1 1 1 1 1 1 1 1 1 1 1 1 1 1 1 1 1 1 1 1 1 1 1 1 1 1 1 1 1 1 1 1 1 1 1 1 1 1 1 1 1 1 1 1 1 1 1 1 1 1 1 1 1 1 1 1 1 1 1 1 1 1 1 1 1 1 1 1 1 1 1 1 1 1 1 1 1 1 1 1 1 1 1 1 1 1 1 1 1 1 1 1 1 1 1 1 1 1 1 1 1 1 1 1 1 1 1 1 1 1 1 1 1 1 1 1 1 1 1 1 1 1 1 1 1 1 1 1 1 1 1 1 1 1 1 1 1 1 1 1 1 1 1 1 1 1 1 1 1 1 1 1 1 1 1 1 1 1 1 1 1 1 1 1 1 1 1 1 1 1 1 1 1 1 1 1 1 1 1 1 1 1 1 1 1 1 1 1 1 1 1 1 1 1 1 1 1 1 1 1 1 1 1 1 1 1 1 1 1 1 1 1 1 1 1 1 1 1 1 1 1 1 1 1 1 1 1 1 1 1 1 1 1 1 1 1 1 1 1 1 1 1 1 1 1 1 1 1 1 1 1 1 1 1 1 1 1 1 1 1 1 1 1 1 1 1 1 1 1 1 1 1 1 1 1 1 1 1 1 1 1 1 1 1 1 1 1 1 1 1 1 1 1 1 1 1 1 1 1 1 1 1 1 1 1 1 1 1 1 1 1 1 1 1 1 1 1 1 1 1\n"
          ]
        },
        {
          "output_type": "stream",
          "name": "stdout",
          "text": [
            "INFO:tensorflow:segment_ids: 0 0 0 0 0 0 0 0 0 0 0 0 0 0 0 0 0 0 0 0 0 0 0 0 0 0 0 0 0 0 0 0 0 0 0 0 0 0 0 0 0 0 0 0 0 0 0 0 0 0 0 0 0 0 0 0 0 0 0 0 0 0 0 0 0 0 0 0 0 0 0 0 0 0 0 0 0 0 0 0 0 0 0 0 0 0 0 0 0 0 0 0 0 0 0 0 0 0 0 0 0 0 0 0 0 0 0 0 0 0 0 0 0 0 0 0 0 0 0 0 0 0 0 0 0 0 0 0 0 0 0 0 0 0 0 0 0 0 0 0 0 0 0 0 0 0 0 0 0 0 0 0 0 0 0 0 0 0 0 0 0 0 0 0 0 0 0 0 0 0 0 0 0 0 0 0 0 0 0 0 0 0 0 0 0 0 0 0 0 0 0 0 0 0 0 0 0 0 0 0 0 0 0 0 0 0 0 0 0 0 0 0 0 0 0 0 0 0 0 0 0 0 0 0 0 0 0 0 0 0 0 0 0 0 0 0 0 0 0 0 0 0 0 0 0 0 0 0 0 0 0 0 0 0 0 0 0 0 0 0 0 0 0 0 0 0 0 0 0 0 0 0 0 0 0 0 0 0 0 0 0 0 0 0 0 0 0 0 0 0 0 0 0 0 0 0 0 0 0 0 0 0 0 0 0 0 0 0 0 0 0 0 0 0 0 0 0 0 0 0 0 0 0 0 0 0 0 0 0 0 0 0 0 0 0 0 0 0 0 0 0 0 0 0 0 0 0 0 0 0 0 0 0 0 0 0 0 0 0 0 0 0 0 0 0 0 0 0 0 0 0 0 0 0 0 0 0 0 0 0 0 0 0 0 0 0 0 0 0 0 0 0 0 0 0 0 0 0 0 0 0 0 0 0 0 0 0 0 0 0 0 0 0 0 0 0 0 0 0 0 0 0 0 0 0 0 0 0 0 0 0 0 0 0 0 0 0 0 0 0 0 0 0 0 0 0 0 0 0 0 0 0 0 0 0 0 0 0 0 0 0 0 0 0 0 0 0 0 0 0 0 0 0 0 0 0 0 0 0 0 0 0 0 0 0 0 0 0 0 0 0 0 0 0 0 0 0 0 0 0 0 0 0 0 0 0 0 0 0 0 0 0\n"
          ]
        },
        {
          "output_type": "stream",
          "name": "stderr",
          "text": [
            "INFO:tensorflow:segment_ids: 0 0 0 0 0 0 0 0 0 0 0 0 0 0 0 0 0 0 0 0 0 0 0 0 0 0 0 0 0 0 0 0 0 0 0 0 0 0 0 0 0 0 0 0 0 0 0 0 0 0 0 0 0 0 0 0 0 0 0 0 0 0 0 0 0 0 0 0 0 0 0 0 0 0 0 0 0 0 0 0 0 0 0 0 0 0 0 0 0 0 0 0 0 0 0 0 0 0 0 0 0 0 0 0 0 0 0 0 0 0 0 0 0 0 0 0 0 0 0 0 0 0 0 0 0 0 0 0 0 0 0 0 0 0 0 0 0 0 0 0 0 0 0 0 0 0 0 0 0 0 0 0 0 0 0 0 0 0 0 0 0 0 0 0 0 0 0 0 0 0 0 0 0 0 0 0 0 0 0 0 0 0 0 0 0 0 0 0 0 0 0 0 0 0 0 0 0 0 0 0 0 0 0 0 0 0 0 0 0 0 0 0 0 0 0 0 0 0 0 0 0 0 0 0 0 0 0 0 0 0 0 0 0 0 0 0 0 0 0 0 0 0 0 0 0 0 0 0 0 0 0 0 0 0 0 0 0 0 0 0 0 0 0 0 0 0 0 0 0 0 0 0 0 0 0 0 0 0 0 0 0 0 0 0 0 0 0 0 0 0 0 0 0 0 0 0 0 0 0 0 0 0 0 0 0 0 0 0 0 0 0 0 0 0 0 0 0 0 0 0 0 0 0 0 0 0 0 0 0 0 0 0 0 0 0 0 0 0 0 0 0 0 0 0 0 0 0 0 0 0 0 0 0 0 0 0 0 0 0 0 0 0 0 0 0 0 0 0 0 0 0 0 0 0 0 0 0 0 0 0 0 0 0 0 0 0 0 0 0 0 0 0 0 0 0 0 0 0 0 0 0 0 0 0 0 0 0 0 0 0 0 0 0 0 0 0 0 0 0 0 0 0 0 0 0 0 0 0 0 0 0 0 0 0 0 0 0 0 0 0 0 0 0 0 0 0 0 0 0 0 0 0 0 0 0 0 0 0 0 0 0 0 0 0 0 0 0 0 0 0 0 0 0 0 0 0 0 0 0 0 0 0 0 0 0 0 0 0 0 0 0 0 0 0 0 0 0 0 0 0 0 0 0 0 0 0 0 0 0 0 0 0\n"
          ]
        },
        {
          "output_type": "stream",
          "name": "stdout",
          "text": [
            "INFO:tensorflow:label: 2 (id = 2)\n"
          ]
        },
        {
          "output_type": "stream",
          "name": "stderr",
          "text": [
            "INFO:tensorflow:label: 2 (id = 2)\n"
          ]
        },
        {
          "output_type": "stream",
          "name": "stdout",
          "text": [
            "INFO:tensorflow:*** Example ***\n"
          ]
        },
        {
          "output_type": "stream",
          "name": "stderr",
          "text": [
            "INFO:tensorflow:*** Example ***\n"
          ]
        },
        {
          "output_type": "stream",
          "name": "stdout",
          "text": [
            "INFO:tensorflow:guid: None\n"
          ]
        },
        {
          "output_type": "stream",
          "name": "stderr",
          "text": [
            "INFO:tensorflow:guid: None\n"
          ]
        },
        {
          "output_type": "stream",
          "name": "stdout",
          "text": [
            "INFO:tensorflow:tokens: [CLS] jenny deals with many family issues , not all of which have to do with her . jenny ' s po ##v ( see the end of the chapter for more notes . ) when she was younger , jenny never thought she ' d leave great britain , let alone travel to another continent . jenny and jeremy strolled across the street , looking up at the bright lights of tokyo city . their vacation in japan was coming to a close in just a few days . they ' d seen the imperial palace , the tokyo sky ##tree , and the sen ##so - ji temple . they ' d also gone shopping in the gin ##za district . however , they ' d avoided the giant elephant that resided in japan . \" so . . . why doesn ' t anyone ever talk about your mom ? \" jenny asked curiously , \" she ' s vo ##va ' s sister , right ? i don ' t even think there are any pictures of her in the castle . \" \" well , there ' re two reasons . one , my mother wants nothing to do with european vampires . two , uncle vlad and my mom aren ' t actually blood related . grandfather vlad adopted her when uncle vlad was an adult . her mother was japanese . her birth parents died in some sort of accident when she was very young . she ' s never spoken to me about it . anyway ##s , my understanding is that there ' s a bit of resentment . uncle vlad never spent much time around my mother , so she wanted nothing to do with him , \" jeremy explained . \" seems like it ' s kind of her m . o . , to avoid her family , \" jenny said quietly . jeremy shrugged . \" she ' s certainly never sought me out . \" \" so , are all vampire parents this off ? vo ##va ' s got that weird combination of over ##pro ##tec ##tive and completely hands off , amor ##a needs actual mental health counseling , your parents are completely off the map , and i ' m not even sure royal knows what a child is . \" \" vampires don ' t have many children , as a rule , \" jeremy said . \" yeah , i ' ve noticed that . so , not much practice , then ? \" jenny asked . jeremy shook his head . \" more of a cultural thing . vampires are less like humans and more like birds in that regard . you know , pushing them out of the nest and such . vo ##va is actually very involved in riley ' s life , considering . amor ##a sm ##oth ##ered edward when he was a baby , but as soon as he hit pub ##erty she stepped away . [SEP]\n"
          ]
        },
        {
          "output_type": "stream",
          "name": "stderr",
          "text": [
            "INFO:tensorflow:tokens: [CLS] jenny deals with many family issues , not all of which have to do with her . jenny ' s po ##v ( see the end of the chapter for more notes . ) when she was younger , jenny never thought she ' d leave great britain , let alone travel to another continent . jenny and jeremy strolled across the street , looking up at the bright lights of tokyo city . their vacation in japan was coming to a close in just a few days . they ' d seen the imperial palace , the tokyo sky ##tree , and the sen ##so - ji temple . they ' d also gone shopping in the gin ##za district . however , they ' d avoided the giant elephant that resided in japan . \" so . . . why doesn ' t anyone ever talk about your mom ? \" jenny asked curiously , \" she ' s vo ##va ' s sister , right ? i don ' t even think there are any pictures of her in the castle . \" \" well , there ' re two reasons . one , my mother wants nothing to do with european vampires . two , uncle vlad and my mom aren ' t actually blood related . grandfather vlad adopted her when uncle vlad was an adult . her mother was japanese . her birth parents died in some sort of accident when she was very young . she ' s never spoken to me about it . anyway ##s , my understanding is that there ' s a bit of resentment . uncle vlad never spent much time around my mother , so she wanted nothing to do with him , \" jeremy explained . \" seems like it ' s kind of her m . o . , to avoid her family , \" jenny said quietly . jeremy shrugged . \" she ' s certainly never sought me out . \" \" so , are all vampire parents this off ? vo ##va ' s got that weird combination of over ##pro ##tec ##tive and completely hands off , amor ##a needs actual mental health counseling , your parents are completely off the map , and i ' m not even sure royal knows what a child is . \" \" vampires don ' t have many children , as a rule , \" jeremy said . \" yeah , i ' ve noticed that . so , not much practice , then ? \" jenny asked . jeremy shook his head . \" more of a cultural thing . vampires are less like humans and more like birds in that regard . you know , pushing them out of the nest and such . vo ##va is actually very involved in riley ' s life , considering . amor ##a sm ##oth ##ered edward when he was a baby , but as soon as he hit pub ##erty she stepped away . [SEP]\n"
          ]
        },
        {
          "output_type": "stream",
          "name": "stdout",
          "text": [
            "INFO:tensorflow:input_ids: 101 8437 9144 2007 2116 2155 3314 1010 2025 2035 1997 2029 2031 2000 2079 2007 2014 1012 8437 1005 1055 13433 2615 1006 2156 1996 2203 1997 1996 3127 2005 2062 3964 1012 1007 2043 2016 2001 3920 1010 8437 2196 2245 2016 1005 1040 2681 2307 3725 1010 2292 2894 3604 2000 2178 9983 1012 8437 1998 7441 20354 2408 1996 2395 1010 2559 2039 2012 1996 4408 4597 1997 5522 2103 1012 2037 10885 1999 2900 2001 2746 2000 1037 2485 1999 2074 1037 2261 2420 1012 2027 1005 1040 2464 1996 4461 4186 1010 1996 5522 3712 13334 1010 1998 1996 12411 6499 1011 10147 3379 1012 2027 1005 1040 2036 2908 6023 1999 1996 18353 4143 2212 1012 2174 1010 2027 1005 1040 9511 1996 5016 10777 2008 12427 1999 2900 1012 1000 2061 1012 1012 1012 2339 2987 1005 1056 3087 2412 2831 2055 2115 3566 1029 1000 8437 2356 16484 1010 1000 2016 1005 1055 29536 3567 1005 1055 2905 1010 2157 1029 1045 2123 1005 1056 2130 2228 2045 2024 2151 4620 1997 2014 1999 1996 3317 1012 1000 1000 2092 1010 2045 1005 2128 2048 4436 1012 2028 1010 2026 2388 4122 2498 2000 2079 2007 2647 6144 1012 2048 1010 4470 19163 1998 2026 3566 4995 1005 1056 2941 2668 3141 1012 5615 19163 4233 2014 2043 4470 19163 2001 2019 4639 1012 2014 2388 2001 2887 1012 2014 4182 3008 2351 1999 2070 4066 1997 4926 2043 2016 2001 2200 2402 1012 2016 1005 1055 2196 5287 2000 2033 2055 2009 1012 4312 2015 1010 2026 4824 2003 2008 2045 1005 1055 1037 2978 1997 20234 1012 4470 19163 2196 2985 2172 2051 2105 2026 2388 1010 2061 2016 2359 2498 2000 2079 2007 2032 1010 1000 7441 4541 1012 1000 3849 2066 2009 1005 1055 2785 1997 2014 1049 1012 1051 1012 1010 2000 4468 2014 2155 1010 1000 8437 2056 5168 1012 7441 6345 1012 1000 2016 1005 1055 5121 2196 4912 2033 2041 1012 1000 1000 2061 1010 2024 2035 4393 3008 2023 2125 1029 29536 3567 1005 1055 2288 2008 6881 5257 1997 2058 21572 26557 6024 1998 3294 2398 2125 1010 16095 2050 3791 5025 5177 2740 17041 1010 2115 3008 2024 3294 2125 1996 4949 1010 1998 1045 1005 1049 2025 2130 2469 2548 4282 2054 1037 2775 2003 1012 1000 1000 6144 2123 1005 1056 2031 2116 2336 1010 2004 1037 3627 1010 1000 7441 2056 1012 1000 3398 1010 1045 1005 2310 4384 2008 1012 2061 1010 2025 2172 3218 1010 2059 1029 1000 8437 2356 1012 7441 3184 2010 2132 1012 1000 2062 1997 1037 3451 2518 1012 6144 2024 2625 2066 4286 1998 2062 2066 5055 1999 2008 7634 1012 2017 2113 1010 6183 2068 2041 1997 1996 9089 1998 2107 1012 29536 3567 2003 2941 2200 2920 1999 7546 1005 1055 2166 1010 6195 1012 16095 2050 15488 14573 6850 3487 2043 2002 2001 1037 3336 1010 2021 2004 2574 2004 2002 2718 9047 15010 2016 3706 2185 1012 102\n"
          ]
        },
        {
          "output_type": "stream",
          "name": "stderr",
          "text": [
            "INFO:tensorflow:input_ids: 101 8437 9144 2007 2116 2155 3314 1010 2025 2035 1997 2029 2031 2000 2079 2007 2014 1012 8437 1005 1055 13433 2615 1006 2156 1996 2203 1997 1996 3127 2005 2062 3964 1012 1007 2043 2016 2001 3920 1010 8437 2196 2245 2016 1005 1040 2681 2307 3725 1010 2292 2894 3604 2000 2178 9983 1012 8437 1998 7441 20354 2408 1996 2395 1010 2559 2039 2012 1996 4408 4597 1997 5522 2103 1012 2037 10885 1999 2900 2001 2746 2000 1037 2485 1999 2074 1037 2261 2420 1012 2027 1005 1040 2464 1996 4461 4186 1010 1996 5522 3712 13334 1010 1998 1996 12411 6499 1011 10147 3379 1012 2027 1005 1040 2036 2908 6023 1999 1996 18353 4143 2212 1012 2174 1010 2027 1005 1040 9511 1996 5016 10777 2008 12427 1999 2900 1012 1000 2061 1012 1012 1012 2339 2987 1005 1056 3087 2412 2831 2055 2115 3566 1029 1000 8437 2356 16484 1010 1000 2016 1005 1055 29536 3567 1005 1055 2905 1010 2157 1029 1045 2123 1005 1056 2130 2228 2045 2024 2151 4620 1997 2014 1999 1996 3317 1012 1000 1000 2092 1010 2045 1005 2128 2048 4436 1012 2028 1010 2026 2388 4122 2498 2000 2079 2007 2647 6144 1012 2048 1010 4470 19163 1998 2026 3566 4995 1005 1056 2941 2668 3141 1012 5615 19163 4233 2014 2043 4470 19163 2001 2019 4639 1012 2014 2388 2001 2887 1012 2014 4182 3008 2351 1999 2070 4066 1997 4926 2043 2016 2001 2200 2402 1012 2016 1005 1055 2196 5287 2000 2033 2055 2009 1012 4312 2015 1010 2026 4824 2003 2008 2045 1005 1055 1037 2978 1997 20234 1012 4470 19163 2196 2985 2172 2051 2105 2026 2388 1010 2061 2016 2359 2498 2000 2079 2007 2032 1010 1000 7441 4541 1012 1000 3849 2066 2009 1005 1055 2785 1997 2014 1049 1012 1051 1012 1010 2000 4468 2014 2155 1010 1000 8437 2056 5168 1012 7441 6345 1012 1000 2016 1005 1055 5121 2196 4912 2033 2041 1012 1000 1000 2061 1010 2024 2035 4393 3008 2023 2125 1029 29536 3567 1005 1055 2288 2008 6881 5257 1997 2058 21572 26557 6024 1998 3294 2398 2125 1010 16095 2050 3791 5025 5177 2740 17041 1010 2115 3008 2024 3294 2125 1996 4949 1010 1998 1045 1005 1049 2025 2130 2469 2548 4282 2054 1037 2775 2003 1012 1000 1000 6144 2123 1005 1056 2031 2116 2336 1010 2004 1037 3627 1010 1000 7441 2056 1012 1000 3398 1010 1045 1005 2310 4384 2008 1012 2061 1010 2025 2172 3218 1010 2059 1029 1000 8437 2356 1012 7441 3184 2010 2132 1012 1000 2062 1997 1037 3451 2518 1012 6144 2024 2625 2066 4286 1998 2062 2066 5055 1999 2008 7634 1012 2017 2113 1010 6183 2068 2041 1997 1996 9089 1998 2107 1012 29536 3567 2003 2941 2200 2920 1999 7546 1005 1055 2166 1010 6195 1012 16095 2050 15488 14573 6850 3487 2043 2002 2001 1037 3336 1010 2021 2004 2574 2004 2002 2718 9047 15010 2016 3706 2185 1012 102\n"
          ]
        },
        {
          "output_type": "stream",
          "name": "stdout",
          "text": [
            "INFO:tensorflow:input_mask: 1 1 1 1 1 1 1 1 1 1 1 1 1 1 1 1 1 1 1 1 1 1 1 1 1 1 1 1 1 1 1 1 1 1 1 1 1 1 1 1 1 1 1 1 1 1 1 1 1 1 1 1 1 1 1 1 1 1 1 1 1 1 1 1 1 1 1 1 1 1 1 1 1 1 1 1 1 1 1 1 1 1 1 1 1 1 1 1 1 1 1 1 1 1 1 1 1 1 1 1 1 1 1 1 1 1 1 1 1 1 1 1 1 1 1 1 1 1 1 1 1 1 1 1 1 1 1 1 1 1 1 1 1 1 1 1 1 1 1 1 1 1 1 1 1 1 1 1 1 1 1 1 1 1 1 1 1 1 1 1 1 1 1 1 1 1 1 1 1 1 1 1 1 1 1 1 1 1 1 1 1 1 1 1 1 1 1 1 1 1 1 1 1 1 1 1 1 1 1 1 1 1 1 1 1 1 1 1 1 1 1 1 1 1 1 1 1 1 1 1 1 1 1 1 1 1 1 1 1 1 1 1 1 1 1 1 1 1 1 1 1 1 1 1 1 1 1 1 1 1 1 1 1 1 1 1 1 1 1 1 1 1 1 1 1 1 1 1 1 1 1 1 1 1 1 1 1 1 1 1 1 1 1 1 1 1 1 1 1 1 1 1 1 1 1 1 1 1 1 1 1 1 1 1 1 1 1 1 1 1 1 1 1 1 1 1 1 1 1 1 1 1 1 1 1 1 1 1 1 1 1 1 1 1 1 1 1 1 1 1 1 1 1 1 1 1 1 1 1 1 1 1 1 1 1 1 1 1 1 1 1 1 1 1 1 1 1 1 1 1 1 1 1 1 1 1 1 1 1 1 1 1 1 1 1 1 1 1 1 1 1 1 1 1 1 1 1 1 1 1 1 1 1 1 1 1 1 1 1 1 1 1 1 1 1 1 1 1 1 1 1 1 1 1 1 1 1 1 1 1 1 1 1 1 1 1 1 1 1 1 1 1 1 1 1 1 1 1 1 1 1 1 1 1 1 1 1 1 1 1 1 1 1 1 1 1 1 1 1 1 1 1 1 1 1 1 1 1 1 1 1 1 1 1 1 1 1 1 1 1 1 1 1 1 1 1 1 1 1 1 1 1 1 1 1 1 1 1 1 1 1 1\n"
          ]
        },
        {
          "output_type": "stream",
          "name": "stderr",
          "text": [
            "INFO:tensorflow:input_mask: 1 1 1 1 1 1 1 1 1 1 1 1 1 1 1 1 1 1 1 1 1 1 1 1 1 1 1 1 1 1 1 1 1 1 1 1 1 1 1 1 1 1 1 1 1 1 1 1 1 1 1 1 1 1 1 1 1 1 1 1 1 1 1 1 1 1 1 1 1 1 1 1 1 1 1 1 1 1 1 1 1 1 1 1 1 1 1 1 1 1 1 1 1 1 1 1 1 1 1 1 1 1 1 1 1 1 1 1 1 1 1 1 1 1 1 1 1 1 1 1 1 1 1 1 1 1 1 1 1 1 1 1 1 1 1 1 1 1 1 1 1 1 1 1 1 1 1 1 1 1 1 1 1 1 1 1 1 1 1 1 1 1 1 1 1 1 1 1 1 1 1 1 1 1 1 1 1 1 1 1 1 1 1 1 1 1 1 1 1 1 1 1 1 1 1 1 1 1 1 1 1 1 1 1 1 1 1 1 1 1 1 1 1 1 1 1 1 1 1 1 1 1 1 1 1 1 1 1 1 1 1 1 1 1 1 1 1 1 1 1 1 1 1 1 1 1 1 1 1 1 1 1 1 1 1 1 1 1 1 1 1 1 1 1 1 1 1 1 1 1 1 1 1 1 1 1 1 1 1 1 1 1 1 1 1 1 1 1 1 1 1 1 1 1 1 1 1 1 1 1 1 1 1 1 1 1 1 1 1 1 1 1 1 1 1 1 1 1 1 1 1 1 1 1 1 1 1 1 1 1 1 1 1 1 1 1 1 1 1 1 1 1 1 1 1 1 1 1 1 1 1 1 1 1 1 1 1 1 1 1 1 1 1 1 1 1 1 1 1 1 1 1 1 1 1 1 1 1 1 1 1 1 1 1 1 1 1 1 1 1 1 1 1 1 1 1 1 1 1 1 1 1 1 1 1 1 1 1 1 1 1 1 1 1 1 1 1 1 1 1 1 1 1 1 1 1 1 1 1 1 1 1 1 1 1 1 1 1 1 1 1 1 1 1 1 1 1 1 1 1 1 1 1 1 1 1 1 1 1 1 1 1 1 1 1 1 1 1 1 1 1 1 1 1 1 1 1 1 1 1 1 1 1 1 1 1 1 1 1 1 1 1 1 1 1 1 1 1 1 1 1 1 1 1 1 1 1 1 1 1 1 1\n"
          ]
        },
        {
          "output_type": "stream",
          "name": "stdout",
          "text": [
            "INFO:tensorflow:segment_ids: 0 0 0 0 0 0 0 0 0 0 0 0 0 0 0 0 0 0 0 0 0 0 0 0 0 0 0 0 0 0 0 0 0 0 0 0 0 0 0 0 0 0 0 0 0 0 0 0 0 0 0 0 0 0 0 0 0 0 0 0 0 0 0 0 0 0 0 0 0 0 0 0 0 0 0 0 0 0 0 0 0 0 0 0 0 0 0 0 0 0 0 0 0 0 0 0 0 0 0 0 0 0 0 0 0 0 0 0 0 0 0 0 0 0 0 0 0 0 0 0 0 0 0 0 0 0 0 0 0 0 0 0 0 0 0 0 0 0 0 0 0 0 0 0 0 0 0 0 0 0 0 0 0 0 0 0 0 0 0 0 0 0 0 0 0 0 0 0 0 0 0 0 0 0 0 0 0 0 0 0 0 0 0 0 0 0 0 0 0 0 0 0 0 0 0 0 0 0 0 0 0 0 0 0 0 0 0 0 0 0 0 0 0 0 0 0 0 0 0 0 0 0 0 0 0 0 0 0 0 0 0 0 0 0 0 0 0 0 0 0 0 0 0 0 0 0 0 0 0 0 0 0 0 0 0 0 0 0 0 0 0 0 0 0 0 0 0 0 0 0 0 0 0 0 0 0 0 0 0 0 0 0 0 0 0 0 0 0 0 0 0 0 0 0 0 0 0 0 0 0 0 0 0 0 0 0 0 0 0 0 0 0 0 0 0 0 0 0 0 0 0 0 0 0 0 0 0 0 0 0 0 0 0 0 0 0 0 0 0 0 0 0 0 0 0 0 0 0 0 0 0 0 0 0 0 0 0 0 0 0 0 0 0 0 0 0 0 0 0 0 0 0 0 0 0 0 0 0 0 0 0 0 0 0 0 0 0 0 0 0 0 0 0 0 0 0 0 0 0 0 0 0 0 0 0 0 0 0 0 0 0 0 0 0 0 0 0 0 0 0 0 0 0 0 0 0 0 0 0 0 0 0 0 0 0 0 0 0 0 0 0 0 0 0 0 0 0 0 0 0 0 0 0 0 0 0 0 0 0 0 0 0 0 0 0 0 0 0 0 0 0 0 0 0 0 0 0 0 0 0 0 0 0 0 0 0 0 0 0 0 0 0 0 0 0 0 0 0 0 0 0 0 0 0 0 0 0 0 0 0 0 0\n"
          ]
        },
        {
          "output_type": "stream",
          "name": "stderr",
          "text": [
            "INFO:tensorflow:segment_ids: 0 0 0 0 0 0 0 0 0 0 0 0 0 0 0 0 0 0 0 0 0 0 0 0 0 0 0 0 0 0 0 0 0 0 0 0 0 0 0 0 0 0 0 0 0 0 0 0 0 0 0 0 0 0 0 0 0 0 0 0 0 0 0 0 0 0 0 0 0 0 0 0 0 0 0 0 0 0 0 0 0 0 0 0 0 0 0 0 0 0 0 0 0 0 0 0 0 0 0 0 0 0 0 0 0 0 0 0 0 0 0 0 0 0 0 0 0 0 0 0 0 0 0 0 0 0 0 0 0 0 0 0 0 0 0 0 0 0 0 0 0 0 0 0 0 0 0 0 0 0 0 0 0 0 0 0 0 0 0 0 0 0 0 0 0 0 0 0 0 0 0 0 0 0 0 0 0 0 0 0 0 0 0 0 0 0 0 0 0 0 0 0 0 0 0 0 0 0 0 0 0 0 0 0 0 0 0 0 0 0 0 0 0 0 0 0 0 0 0 0 0 0 0 0 0 0 0 0 0 0 0 0 0 0 0 0 0 0 0 0 0 0 0 0 0 0 0 0 0 0 0 0 0 0 0 0 0 0 0 0 0 0 0 0 0 0 0 0 0 0 0 0 0 0 0 0 0 0 0 0 0 0 0 0 0 0 0 0 0 0 0 0 0 0 0 0 0 0 0 0 0 0 0 0 0 0 0 0 0 0 0 0 0 0 0 0 0 0 0 0 0 0 0 0 0 0 0 0 0 0 0 0 0 0 0 0 0 0 0 0 0 0 0 0 0 0 0 0 0 0 0 0 0 0 0 0 0 0 0 0 0 0 0 0 0 0 0 0 0 0 0 0 0 0 0 0 0 0 0 0 0 0 0 0 0 0 0 0 0 0 0 0 0 0 0 0 0 0 0 0 0 0 0 0 0 0 0 0 0 0 0 0 0 0 0 0 0 0 0 0 0 0 0 0 0 0 0 0 0 0 0 0 0 0 0 0 0 0 0 0 0 0 0 0 0 0 0 0 0 0 0 0 0 0 0 0 0 0 0 0 0 0 0 0 0 0 0 0 0 0 0 0 0 0 0 0 0 0 0 0 0 0 0 0 0 0 0 0 0 0 0 0 0 0 0 0 0 0 0 0 0 0 0 0 0 0 0 0 0 0 0 0\n"
          ]
        },
        {
          "output_type": "stream",
          "name": "stdout",
          "text": [
            "INFO:tensorflow:label: 3 (id = 3)\n"
          ]
        },
        {
          "output_type": "stream",
          "name": "stderr",
          "text": [
            "INFO:tensorflow:label: 3 (id = 3)\n"
          ]
        },
        {
          "output_type": "stream",
          "name": "stdout",
          "text": [
            "INFO:tensorflow:*** Example ***\n"
          ]
        },
        {
          "output_type": "stream",
          "name": "stderr",
          "text": [
            "INFO:tensorflow:*** Example ***\n"
          ]
        },
        {
          "output_type": "stream",
          "name": "stdout",
          "text": [
            "INFO:tensorflow:guid: None\n"
          ]
        },
        {
          "output_type": "stream",
          "name": "stderr",
          "text": [
            "INFO:tensorflow:guid: None\n"
          ]
        },
        {
          "output_type": "stream",
          "name": "stdout",
          "text": [
            "INFO:tensorflow:tokens: [CLS] \" i ' m missing something , \" sherlock murmured , a low rumble of frustration into his ear . \" it ' s staring me right in the face , why can ' t i just see it . . . . \" resigned to his fate , john made a non ##com ##mit ##tal noise . he ' d long since given up looking at the web of information sherlock had set up on their wall . \" there ' s a crack in these ali ##bis . there has to be . but where . . . ? \" long , pale fingers toy ##ed with his hands , his wrists . plucked at his sleeves and fiddle ##d with his watch . john turned his hands over , caught him palm against palm . sherlock sighed out , a long , low breath , his chest relaxing only marginal ##ly against john ' s back . his arms around john tightened and john sighed too , if for another reason entirely . it wasn ' t as if he particularly minded that sherlock had turned out to be demons ##tra ##tive . he ' d been fully prepared to accept whatever little came : some s ##no ##gging here , some sex there , and a reasonable amount of lunatic grinning . which had all arrived , in less than reasonable amounts . now when sherlock treated him like furniture , he was a sofa rather than a table , something to sp ##ra ##wl upon and dr ##ape over ( and occasionally sit on , in very nice ways indeed , but that was another story entirely ) . the change had occurred , john had accepted it , and when sherlock had asked , \" you don ' t mind , do you ? \" , john had answered , \" no , of course not . \" in hind ##sight , an obvious mistake . with small secession ##s and gradual border crossings , sherlock had invaded the entirety of john ' s personal space . he had settled , set up base and clearly had no plans whatsoever to withdraw from his appropriated territory . it was afghanistan all over again . john went to sleep with sherlock on him . he woke up with sherlock on him . there were clear signs that there had been some period of time in between when john hadn ' t been a mattress , but john never seemed to be awake for that interim . the scalp massage ##s were pretty nice , he had to admit . his shoulders were well - rubbed , his body seldom cold . and sherlock never left him at crime scenes anymore , always with a hand on john ' s back to steer him out . which was a little embarrassing , but well worth it for the reactions . the point remained that , like some sort of sexual napoleon , sherlock had claimed to [SEP]\n"
          ]
        },
        {
          "output_type": "stream",
          "name": "stderr",
          "text": [
            "INFO:tensorflow:tokens: [CLS] \" i ' m missing something , \" sherlock murmured , a low rumble of frustration into his ear . \" it ' s staring me right in the face , why can ' t i just see it . . . . \" resigned to his fate , john made a non ##com ##mit ##tal noise . he ' d long since given up looking at the web of information sherlock had set up on their wall . \" there ' s a crack in these ali ##bis . there has to be . but where . . . ? \" long , pale fingers toy ##ed with his hands , his wrists . plucked at his sleeves and fiddle ##d with his watch . john turned his hands over , caught him palm against palm . sherlock sighed out , a long , low breath , his chest relaxing only marginal ##ly against john ' s back . his arms around john tightened and john sighed too , if for another reason entirely . it wasn ' t as if he particularly minded that sherlock had turned out to be demons ##tra ##tive . he ' d been fully prepared to accept whatever little came : some s ##no ##gging here , some sex there , and a reasonable amount of lunatic grinning . which had all arrived , in less than reasonable amounts . now when sherlock treated him like furniture , he was a sofa rather than a table , something to sp ##ra ##wl upon and dr ##ape over ( and occasionally sit on , in very nice ways indeed , but that was another story entirely ) . the change had occurred , john had accepted it , and when sherlock had asked , \" you don ' t mind , do you ? \" , john had answered , \" no , of course not . \" in hind ##sight , an obvious mistake . with small secession ##s and gradual border crossings , sherlock had invaded the entirety of john ' s personal space . he had settled , set up base and clearly had no plans whatsoever to withdraw from his appropriated territory . it was afghanistan all over again . john went to sleep with sherlock on him . he woke up with sherlock on him . there were clear signs that there had been some period of time in between when john hadn ' t been a mattress , but john never seemed to be awake for that interim . the scalp massage ##s were pretty nice , he had to admit . his shoulders were well - rubbed , his body seldom cold . and sherlock never left him at crime scenes anymore , always with a hand on john ' s back to steer him out . which was a little embarrassing , but well worth it for the reactions . the point remained that , like some sort of sexual napoleon , sherlock had claimed to [SEP]\n"
          ]
        },
        {
          "output_type": "stream",
          "name": "stdout",
          "text": [
            "INFO:tensorflow:input_ids: 101 1000 1045 1005 1049 4394 2242 1010 1000 20052 7152 1010 1037 2659 15658 1997 9135 2046 2010 4540 1012 1000 2009 1005 1055 4582 2033 2157 1999 1996 2227 1010 2339 2064 1005 1056 1045 2074 2156 2009 1012 1012 1012 1012 1000 5295 2000 2010 6580 1010 2198 2081 1037 2512 9006 22930 9080 5005 1012 2002 1005 1040 2146 2144 2445 2039 2559 2012 1996 4773 1997 2592 20052 2018 2275 2039 2006 2037 2813 1012 1000 2045 1005 1055 1037 8579 1999 2122 4862 18477 1012 2045 2038 2000 2022 1012 2021 2073 1012 1012 1012 1029 1000 2146 1010 5122 3093 9121 2098 2007 2010 2398 1010 2010 12150 1012 20780 2012 2010 15114 1998 15888 2094 2007 2010 3422 1012 2198 2357 2010 2398 2058 1010 3236 2032 5340 2114 5340 1012 20052 5489 2041 1010 1037 2146 1010 2659 3052 1010 2010 3108 19613 2069 14785 2135 2114 2198 1005 1055 2067 1012 2010 2608 2105 2198 8371 1998 2198 5489 2205 1010 2065 2005 2178 3114 4498 1012 2009 2347 1005 1056 2004 2065 2002 3391 13128 2008 20052 2018 2357 2041 2000 2022 7942 6494 6024 1012 2002 1005 1040 2042 3929 4810 2000 5138 3649 2210 2234 1024 2070 1055 3630 12588 2182 1010 2070 3348 2045 1010 1998 1037 9608 3815 1997 26594 11478 1012 2029 2018 2035 3369 1010 1999 2625 2084 9608 8310 1012 2085 2043 20052 5845 2032 2066 7390 1010 2002 2001 1037 10682 2738 2084 1037 2795 1010 2242 2000 11867 2527 13668 2588 1998 2852 24065 2058 1006 1998 5681 4133 2006 1010 1999 2200 3835 3971 5262 1010 2021 2008 2001 2178 2466 4498 1007 1012 1996 2689 2018 4158 1010 2198 2018 3970 2009 1010 1998 2043 20052 2018 2356 1010 1000 2017 2123 1005 1056 2568 1010 2079 2017 1029 1000 1010 2198 2018 4660 1010 1000 2053 1010 1997 2607 2025 1012 1000 1999 17666 25807 1010 2019 5793 6707 1012 2007 2235 22965 2015 1998 16612 3675 20975 1010 20052 2018 10836 1996 15700 1997 2198 1005 1055 3167 2686 1012 2002 2018 3876 1010 2275 2039 2918 1998 4415 2018 2053 3488 18971 2000 10632 2013 2010 29223 3700 1012 2009 2001 7041 2035 2058 2153 1012 2198 2253 2000 3637 2007 20052 2006 2032 1012 2002 8271 2039 2007 20052 2006 2032 1012 2045 2020 3154 5751 2008 2045 2018 2042 2070 2558 1997 2051 1999 2090 2043 2198 2910 1005 1056 2042 1037 13342 1010 2021 2198 2196 2790 2000 2022 8300 2005 2008 9455 1012 1996 21065 21881 2015 2020 3492 3835 1010 2002 2018 2000 6449 1012 2010 4065 2020 2092 1011 7503 1010 2010 2303 15839 3147 1012 1998 20052 2196 2187 2032 2012 4126 5019 4902 1010 2467 2007 1037 2192 2006 2198 1005 1055 2067 2000 20634 2032 2041 1012 2029 2001 1037 2210 16436 1010 2021 2092 4276 2009 2005 1996 9597 1012 1996 2391 2815 2008 1010 2066 2070 4066 1997 4424 8891 1010 20052 2018 3555 2000 102\n"
          ]
        },
        {
          "output_type": "stream",
          "name": "stderr",
          "text": [
            "INFO:tensorflow:input_ids: 101 1000 1045 1005 1049 4394 2242 1010 1000 20052 7152 1010 1037 2659 15658 1997 9135 2046 2010 4540 1012 1000 2009 1005 1055 4582 2033 2157 1999 1996 2227 1010 2339 2064 1005 1056 1045 2074 2156 2009 1012 1012 1012 1012 1000 5295 2000 2010 6580 1010 2198 2081 1037 2512 9006 22930 9080 5005 1012 2002 1005 1040 2146 2144 2445 2039 2559 2012 1996 4773 1997 2592 20052 2018 2275 2039 2006 2037 2813 1012 1000 2045 1005 1055 1037 8579 1999 2122 4862 18477 1012 2045 2038 2000 2022 1012 2021 2073 1012 1012 1012 1029 1000 2146 1010 5122 3093 9121 2098 2007 2010 2398 1010 2010 12150 1012 20780 2012 2010 15114 1998 15888 2094 2007 2010 3422 1012 2198 2357 2010 2398 2058 1010 3236 2032 5340 2114 5340 1012 20052 5489 2041 1010 1037 2146 1010 2659 3052 1010 2010 3108 19613 2069 14785 2135 2114 2198 1005 1055 2067 1012 2010 2608 2105 2198 8371 1998 2198 5489 2205 1010 2065 2005 2178 3114 4498 1012 2009 2347 1005 1056 2004 2065 2002 3391 13128 2008 20052 2018 2357 2041 2000 2022 7942 6494 6024 1012 2002 1005 1040 2042 3929 4810 2000 5138 3649 2210 2234 1024 2070 1055 3630 12588 2182 1010 2070 3348 2045 1010 1998 1037 9608 3815 1997 26594 11478 1012 2029 2018 2035 3369 1010 1999 2625 2084 9608 8310 1012 2085 2043 20052 5845 2032 2066 7390 1010 2002 2001 1037 10682 2738 2084 1037 2795 1010 2242 2000 11867 2527 13668 2588 1998 2852 24065 2058 1006 1998 5681 4133 2006 1010 1999 2200 3835 3971 5262 1010 2021 2008 2001 2178 2466 4498 1007 1012 1996 2689 2018 4158 1010 2198 2018 3970 2009 1010 1998 2043 20052 2018 2356 1010 1000 2017 2123 1005 1056 2568 1010 2079 2017 1029 1000 1010 2198 2018 4660 1010 1000 2053 1010 1997 2607 2025 1012 1000 1999 17666 25807 1010 2019 5793 6707 1012 2007 2235 22965 2015 1998 16612 3675 20975 1010 20052 2018 10836 1996 15700 1997 2198 1005 1055 3167 2686 1012 2002 2018 3876 1010 2275 2039 2918 1998 4415 2018 2053 3488 18971 2000 10632 2013 2010 29223 3700 1012 2009 2001 7041 2035 2058 2153 1012 2198 2253 2000 3637 2007 20052 2006 2032 1012 2002 8271 2039 2007 20052 2006 2032 1012 2045 2020 3154 5751 2008 2045 2018 2042 2070 2558 1997 2051 1999 2090 2043 2198 2910 1005 1056 2042 1037 13342 1010 2021 2198 2196 2790 2000 2022 8300 2005 2008 9455 1012 1996 21065 21881 2015 2020 3492 3835 1010 2002 2018 2000 6449 1012 2010 4065 2020 2092 1011 7503 1010 2010 2303 15839 3147 1012 1998 20052 2196 2187 2032 2012 4126 5019 4902 1010 2467 2007 1037 2192 2006 2198 1005 1055 2067 2000 20634 2032 2041 1012 2029 2001 1037 2210 16436 1010 2021 2092 4276 2009 2005 1996 9597 1012 1996 2391 2815 2008 1010 2066 2070 4066 1997 4424 8891 1010 20052 2018 3555 2000 102\n"
          ]
        },
        {
          "output_type": "stream",
          "name": "stdout",
          "text": [
            "INFO:tensorflow:input_mask: 1 1 1 1 1 1 1 1 1 1 1 1 1 1 1 1 1 1 1 1 1 1 1 1 1 1 1 1 1 1 1 1 1 1 1 1 1 1 1 1 1 1 1 1 1 1 1 1 1 1 1 1 1 1 1 1 1 1 1 1 1 1 1 1 1 1 1 1 1 1 1 1 1 1 1 1 1 1 1 1 1 1 1 1 1 1 1 1 1 1 1 1 1 1 1 1 1 1 1 1 1 1 1 1 1 1 1 1 1 1 1 1 1 1 1 1 1 1 1 1 1 1 1 1 1 1 1 1 1 1 1 1 1 1 1 1 1 1 1 1 1 1 1 1 1 1 1 1 1 1 1 1 1 1 1 1 1 1 1 1 1 1 1 1 1 1 1 1 1 1 1 1 1 1 1 1 1 1 1 1 1 1 1 1 1 1 1 1 1 1 1 1 1 1 1 1 1 1 1 1 1 1 1 1 1 1 1 1 1 1 1 1 1 1 1 1 1 1 1 1 1 1 1 1 1 1 1 1 1 1 1 1 1 1 1 1 1 1 1 1 1 1 1 1 1 1 1 1 1 1 1 1 1 1 1 1 1 1 1 1 1 1 1 1 1 1 1 1 1 1 1 1 1 1 1 1 1 1 1 1 1 1 1 1 1 1 1 1 1 1 1 1 1 1 1 1 1 1 1 1 1 1 1 1 1 1 1 1 1 1 1 1 1 1 1 1 1 1 1 1 1 1 1 1 1 1 1 1 1 1 1 1 1 1 1 1 1 1 1 1 1 1 1 1 1 1 1 1 1 1 1 1 1 1 1 1 1 1 1 1 1 1 1 1 1 1 1 1 1 1 1 1 1 1 1 1 1 1 1 1 1 1 1 1 1 1 1 1 1 1 1 1 1 1 1 1 1 1 1 1 1 1 1 1 1 1 1 1 1 1 1 1 1 1 1 1 1 1 1 1 1 1 1 1 1 1 1 1 1 1 1 1 1 1 1 1 1 1 1 1 1 1 1 1 1 1 1 1 1 1 1 1 1 1 1 1 1 1 1 1 1 1 1 1 1 1 1 1 1 1 1 1 1 1 1 1 1 1 1 1 1 1 1 1 1 1 1 1 1 1 1 1 1 1 1 1 1 1 1 1 1 1 1 1 1 1 1 1 1 1 1 1\n"
          ]
        },
        {
          "output_type": "stream",
          "name": "stderr",
          "text": [
            "INFO:tensorflow:input_mask: 1 1 1 1 1 1 1 1 1 1 1 1 1 1 1 1 1 1 1 1 1 1 1 1 1 1 1 1 1 1 1 1 1 1 1 1 1 1 1 1 1 1 1 1 1 1 1 1 1 1 1 1 1 1 1 1 1 1 1 1 1 1 1 1 1 1 1 1 1 1 1 1 1 1 1 1 1 1 1 1 1 1 1 1 1 1 1 1 1 1 1 1 1 1 1 1 1 1 1 1 1 1 1 1 1 1 1 1 1 1 1 1 1 1 1 1 1 1 1 1 1 1 1 1 1 1 1 1 1 1 1 1 1 1 1 1 1 1 1 1 1 1 1 1 1 1 1 1 1 1 1 1 1 1 1 1 1 1 1 1 1 1 1 1 1 1 1 1 1 1 1 1 1 1 1 1 1 1 1 1 1 1 1 1 1 1 1 1 1 1 1 1 1 1 1 1 1 1 1 1 1 1 1 1 1 1 1 1 1 1 1 1 1 1 1 1 1 1 1 1 1 1 1 1 1 1 1 1 1 1 1 1 1 1 1 1 1 1 1 1 1 1 1 1 1 1 1 1 1 1 1 1 1 1 1 1 1 1 1 1 1 1 1 1 1 1 1 1 1 1 1 1 1 1 1 1 1 1 1 1 1 1 1 1 1 1 1 1 1 1 1 1 1 1 1 1 1 1 1 1 1 1 1 1 1 1 1 1 1 1 1 1 1 1 1 1 1 1 1 1 1 1 1 1 1 1 1 1 1 1 1 1 1 1 1 1 1 1 1 1 1 1 1 1 1 1 1 1 1 1 1 1 1 1 1 1 1 1 1 1 1 1 1 1 1 1 1 1 1 1 1 1 1 1 1 1 1 1 1 1 1 1 1 1 1 1 1 1 1 1 1 1 1 1 1 1 1 1 1 1 1 1 1 1 1 1 1 1 1 1 1 1 1 1 1 1 1 1 1 1 1 1 1 1 1 1 1 1 1 1 1 1 1 1 1 1 1 1 1 1 1 1 1 1 1 1 1 1 1 1 1 1 1 1 1 1 1 1 1 1 1 1 1 1 1 1 1 1 1 1 1 1 1 1 1 1 1 1 1 1 1 1 1 1 1 1 1 1 1 1 1 1 1 1 1 1 1 1 1 1 1 1 1 1 1 1 1 1 1 1 1 1\n"
          ]
        },
        {
          "output_type": "stream",
          "name": "stdout",
          "text": [
            "INFO:tensorflow:segment_ids: 0 0 0 0 0 0 0 0 0 0 0 0 0 0 0 0 0 0 0 0 0 0 0 0 0 0 0 0 0 0 0 0 0 0 0 0 0 0 0 0 0 0 0 0 0 0 0 0 0 0 0 0 0 0 0 0 0 0 0 0 0 0 0 0 0 0 0 0 0 0 0 0 0 0 0 0 0 0 0 0 0 0 0 0 0 0 0 0 0 0 0 0 0 0 0 0 0 0 0 0 0 0 0 0 0 0 0 0 0 0 0 0 0 0 0 0 0 0 0 0 0 0 0 0 0 0 0 0 0 0 0 0 0 0 0 0 0 0 0 0 0 0 0 0 0 0 0 0 0 0 0 0 0 0 0 0 0 0 0 0 0 0 0 0 0 0 0 0 0 0 0 0 0 0 0 0 0 0 0 0 0 0 0 0 0 0 0 0 0 0 0 0 0 0 0 0 0 0 0 0 0 0 0 0 0 0 0 0 0 0 0 0 0 0 0 0 0 0 0 0 0 0 0 0 0 0 0 0 0 0 0 0 0 0 0 0 0 0 0 0 0 0 0 0 0 0 0 0 0 0 0 0 0 0 0 0 0 0 0 0 0 0 0 0 0 0 0 0 0 0 0 0 0 0 0 0 0 0 0 0 0 0 0 0 0 0 0 0 0 0 0 0 0 0 0 0 0 0 0 0 0 0 0 0 0 0 0 0 0 0 0 0 0 0 0 0 0 0 0 0 0 0 0 0 0 0 0 0 0 0 0 0 0 0 0 0 0 0 0 0 0 0 0 0 0 0 0 0 0 0 0 0 0 0 0 0 0 0 0 0 0 0 0 0 0 0 0 0 0 0 0 0 0 0 0 0 0 0 0 0 0 0 0 0 0 0 0 0 0 0 0 0 0 0 0 0 0 0 0 0 0 0 0 0 0 0 0 0 0 0 0 0 0 0 0 0 0 0 0 0 0 0 0 0 0 0 0 0 0 0 0 0 0 0 0 0 0 0 0 0 0 0 0 0 0 0 0 0 0 0 0 0 0 0 0 0 0 0 0 0 0 0 0 0 0 0 0 0 0 0 0 0 0 0 0 0 0 0 0 0 0 0 0 0 0 0 0 0 0 0 0 0 0 0 0 0 0 0 0 0 0 0 0 0 0 0 0 0 0 0 0 0\n"
          ]
        },
        {
          "output_type": "stream",
          "name": "stderr",
          "text": [
            "INFO:tensorflow:segment_ids: 0 0 0 0 0 0 0 0 0 0 0 0 0 0 0 0 0 0 0 0 0 0 0 0 0 0 0 0 0 0 0 0 0 0 0 0 0 0 0 0 0 0 0 0 0 0 0 0 0 0 0 0 0 0 0 0 0 0 0 0 0 0 0 0 0 0 0 0 0 0 0 0 0 0 0 0 0 0 0 0 0 0 0 0 0 0 0 0 0 0 0 0 0 0 0 0 0 0 0 0 0 0 0 0 0 0 0 0 0 0 0 0 0 0 0 0 0 0 0 0 0 0 0 0 0 0 0 0 0 0 0 0 0 0 0 0 0 0 0 0 0 0 0 0 0 0 0 0 0 0 0 0 0 0 0 0 0 0 0 0 0 0 0 0 0 0 0 0 0 0 0 0 0 0 0 0 0 0 0 0 0 0 0 0 0 0 0 0 0 0 0 0 0 0 0 0 0 0 0 0 0 0 0 0 0 0 0 0 0 0 0 0 0 0 0 0 0 0 0 0 0 0 0 0 0 0 0 0 0 0 0 0 0 0 0 0 0 0 0 0 0 0 0 0 0 0 0 0 0 0 0 0 0 0 0 0 0 0 0 0 0 0 0 0 0 0 0 0 0 0 0 0 0 0 0 0 0 0 0 0 0 0 0 0 0 0 0 0 0 0 0 0 0 0 0 0 0 0 0 0 0 0 0 0 0 0 0 0 0 0 0 0 0 0 0 0 0 0 0 0 0 0 0 0 0 0 0 0 0 0 0 0 0 0 0 0 0 0 0 0 0 0 0 0 0 0 0 0 0 0 0 0 0 0 0 0 0 0 0 0 0 0 0 0 0 0 0 0 0 0 0 0 0 0 0 0 0 0 0 0 0 0 0 0 0 0 0 0 0 0 0 0 0 0 0 0 0 0 0 0 0 0 0 0 0 0 0 0 0 0 0 0 0 0 0 0 0 0 0 0 0 0 0 0 0 0 0 0 0 0 0 0 0 0 0 0 0 0 0 0 0 0 0 0 0 0 0 0 0 0 0 0 0 0 0 0 0 0 0 0 0 0 0 0 0 0 0 0 0 0 0 0 0 0 0 0 0 0 0 0 0 0 0 0 0 0 0 0 0 0 0 0 0 0 0 0 0 0 0 0 0 0 0 0 0 0 0 0 0 0 0 0\n"
          ]
        },
        {
          "output_type": "stream",
          "name": "stdout",
          "text": [
            "INFO:tensorflow:label: 1 (id = 1)\n"
          ]
        },
        {
          "output_type": "stream",
          "name": "stderr",
          "text": [
            "INFO:tensorflow:label: 1 (id = 1)\n"
          ]
        }
      ]
    },
    {
      "cell_type": "code",
      "source": [
        "#Example on first observation in the training set\n",
        "print(\"Sentence : \", train_InputExamples.iloc[0].text_a)\n",
        "print(\"-\"*30)\n",
        "print(\"Tokens : \", tokenizer.tokenize(train_InputExamples.iloc[0].text_a))\n",
        "print(\"-\"*30)\n",
        "print(\"Input IDs : \", train_features[0].input_ids)\n",
        "print(\"-\"*30)\n",
        "print(\"Input Masks : \", train_features[0].input_mask)\n",
        "print(\"-\"*30)\n",
        "print(\"Segment IDs : \", train_features[0].segment_ids)"
      ],
      "metadata": {
        "colab": {
          "base_uri": "https://localhost:8080/"
        },
        "id": "HHCPQpGO7j9-",
        "outputId": "c60ff68c-824d-487c-e239-be3bd5dbde4b"
      },
      "execution_count": null,
      "outputs": [
        {
          "output_type": "stream",
          "name": "stdout",
          "text": [
            "Sentence :  The lamp leaked a watery orange light over Regulus. It hadn't turned incredibly late yet, however, the sky had begun to bruise earlier and earlier as the wind had started to chill. Regulus enjoyed coming here, when the room was deathly silent, bar the sound of his own feet and shaken breath; it had helped the world feel less bleak and removed the feeling that everything around him was painstakingly empty. His lungs had begun to shrink so much they were near-shattering, filled an abundance of pressurised breath. Pandora had told him that should he overwork himself too much he'd end up not being able to perform at all. Regulus had decided he'd rather not perform as a result of an injury than suffer being given a mediocre part at best. He was destined for an actual role in the performance of Romeo and Juliet, he'd thought, and he wouldn't put up for less than Romeo- Barty had also then chimed in to say that was wishful thinking and he was more suited for Juliet.   Though Regulus had never wanted to admit this, for it was far too soap-operatic for his liking, he found the whole premise of Romeo and Juliet rather intriguing. Two young lovers thwarted by others' hate, a tragedy he found beautiful. He also thought that he would never sacrifice his life for another and that the whole ending was very stupid and could've easily been stopped had Juliet not sat gaping.   Regulus moved like a swan, gliding elegantly across the floor of the studio, watching his posture intently in the mirror, his stage-smiled stiffened around the edges as his feet didn't move the way his brain had wanted them to. He rested his hands against the barre, looking up at himself in the mirror through his eyelashes He knew tomorrow his whole body would ache deeper than the muscle and bone, but right now it was numb, he couldn't feel a single pinprick against his skin and once he'd reached this point he willed to keep moving, make the most of his precious time of stillness.   He tapped his heels together, feet fighting, and straightened his knees. The person in the mirror hadn't looked like him, a vision of a little boat rocking widely on the waves popped up in his head. It slowly calmed to a placid still, but when you had looked underneath the seaweed had tangled into a rotten mess, it caused him to falter for a moment and he completely dropped again. He was thinking of kicking the wall when the door swung open, interrupting his self-destructive train of thought. A boy walked in, a bucket filled with water and a dirt-soaked sponge in their respective hands, Regulus thought the sponge was doing more harm than good to whatever he was cleaning.   \"You look a bit sick,\" James said, dunking the sponge into the bucket. The water sloshed over the top, water fell down to the floor, \"Have you ever watched The Friendly Ghost?\" James looked at the boy, much like his friend, his nose was aquiline, as if he was snatched out from a book about Ancient Greeks. The hollow cheekbones of the Black Brothers always seemed to accentuate the hollowness of their eyes, highlighting the colours.  Much like Sirius' his eyes were blue, though a lighter shade. The brothers eyes were like ice, but held a fire in them. One glance of the blue eyes told of a lifetime of struggle, one that no matter how many times James had asked he'd never get the full story as it wasn't able to be put into words.   Regulus turned back to the mirror, sucking in his stomach, and turned back around, \"Thank you.\" His teacher had once told him, that was his aim. That had he turned such a sickly pale colour, had his ribcage stuck out, as with his hip bone- he'd make the perfect dancer. He does owe much of his obsession with this one passing statement to his self-inflicted goal of perfection, however, there's always the subtle suggestions from her to achieve this as well as the constant reminder he doesn't quite meet this ideal yet and the one phrase had been an everlasting trail of thought in his brain.   James had simply furrowed his dark brow in confusion, thinking he'd've been rather insane to accept that as a compliment with zero sarcasm laced in his voice.   \"Righty...can you get out so we can clean in here?\"   \"Get out? It's my studio, you're not supposed to be in here actually--\"  \"No, it's not, it's the schools.\" The door slammed when the other boy had walked in, carrying a mop and duster, \"Now get out.\"   Regulus folded his arms over. Sirius' skin had also looked extraordinarily cloud-like, though Regulus had attributed that to being next to James' whose was a morphing serenity of brown. He also looked comparatively smaller. James was wearing a baggy hoodie which was over his uniform- Regulus hadn't doubted that was against the rules- which had made the already tall boy look even larger, not helping Sirius' stature. \"I'm literally booked in here, go and check the sheet on the door, you'll see my name in big bold letters--\"  \"I literally do not care.\" Sirius mocked, James grinned and placed the bucket down, demonstrating the fact they had no intention of leaving him be, \"It's not our fault someone ratted us out to Gonagall. Go and rehearse for Juliet somewhere else.\"  Regulus couldn't help but feel some sort of warmth in Sirius actually remembering thats' the play they were doing, he assumed when he'd come and told him he simply ignored his excitement, \"Where else am I supposed to rehearse? I can't exactly go and dance in the dorms.\"  \"Why not? I'm sure Barty would love a show from you.\" James had taken the sponge and began to lap circles around Regulus' feet, his eyes mocking as he looked up at him, lashes tapping against his glasses as he blinked. He had actually, on occasion, chosen to dance in their dorm, at times when the studio had been fully booked and he hadn't wanted to change out of his pyjamas and make the exhausting journey around the expansive school only to have to wander back at the early hours in the morning and risk being scolded by a loitering teacher, or worse, a student who deemed themselves teacher. He had been practising the grand adage, when his centre of gravity decided to give way and he toppled over, hitting his head on the corner of his bed side table.   \"Why can't you just clean another place and then come back here a bit later?\"   \"Are you even dancing? When we walked in here you were just stood staring at yourself in the mirror like a narcissist, \" Sirius remarked, head tilted to the side, \"And you call me the self-absorbed one. You look like mum when she's examining her necklaces.\"  Regulus felt a small pang in his chest, he went to open his mouth to argue, say that, 'Yes, Sirius, for your information, I was about to dance the most magnificent scene ever and you'll be dumbed into silence', but he was left opening and closing his mouth like a fish. He had loved to dance, sensuality bursting through in the most vibrant picture, importing every emotion inside of him into the dance, but as of recently the passion was dulling and he found himself evermore growing tired to the point of an intense emotion of surrender. Even when he was on stage, or in class, even when he received the highest praise from his mother or teacher, or even on the rare occasion his father, it still lingered.   \"If you have a problem with us doing community service and cleaning the wonderful school, you can take that up with our marvelous headmaster.\" Sirius recited, \"Besides don't they always give the big roles to the Sixth or Seventh years?\"  Regulus kept quiet, he knew he was yearning for something almost unachievable but the Sixth and Seventh years are religiously the sole centre midfielders and James managed to get given the position last year. If the football team had decided to change their legacy he could only hope his teacher would have the same belief in him.   Once they had realised neither of the boys would leave, Sirius and James thought their way of asserting dominance would be to act as if Regulus was simply invisible.   James set out on submerging the sponge over and over into the water, essentially drowning the poor thing, as Sirius followed him around with a mop, occasionally hitting him on the head with it, each time he did James' hair would flop and he'd chuck the sponge at his face. The third time he had done this, Sirius had managed to duck, sending the sponge, with flames of fire, Regulus' way. Unfortunately, Regulus hadn't quite nailed the incredibly rapid reflexes Sirius had practiced over the years and he was far too slow to dodge it. It whacked him in the face and he stood back, slowly, momentarily stunned by the sudden impact, and the freezing water.   \"Shit, sorry-\" James stood up, grabbing the sponge off the floor, \"Look what you've done you twat!\" James lobbed the sponge at Sirius again who was letting out a cacophony of laughter. He turned back to face Regulus whose jaw was beginning to clench a dangerous amount, vein throbbing in his throat already.   \"Don't say sorry, maybe now he'll leave instead of standing there drenched in water.\"   Regulus scoffed and wiped a cow-licked strand of hair off his face, \"No it's fine! I'll get out of your way, like I always do.\" He snatched his bag off the floor and James looked between the two of them, the ghost of a faint smile already drawing on his face.  \"Melodramatic much.\" Sirius muttered to himself, flipping his own soaked hair back from his face. The door slammed on his way out and James stared back at the older Black brother, finally allowing himself to join in with Sirius' giggles.  The cleaning had begun to drain both the boys, James' arms had ached. He actually quite enjoyed cleaning and often helped his mother clean around the house. It had always calmed him, feeling the furniture glide over the palm of his hands and the soft sound of the broom as his mother swept. The one thing that he despised about being at this school was the longing he had for his parents. He can still feel joy without them, still smiles, and makes jokes that nobody finds funny bar his small group of friends, yet there is always a hum beneath the song that continually misses them.   There was a small light upon the floor that danced over the ageless boards of wood. The wood was a forest brown with soulful patches of paler wood dampened by the suns light or the stomping of feet. Each time he turned he'd be faced with a mirror, he hadn't a clue how people like Regulus stood in here, followed around by their own taunting image. The mirrors were framed with bronze frames, black-freckles splattered over them.   As they cleaned and cleaned it had gotten to the point that James' veins had thrummed with the desperate urge to be doing something else, his mind wandering around the room finding different objects to zoom in on and surrender his thoughts to for a moment before he'd be distracted by Sirius' huffs of exasperation.   \"I'm genuinely really pissed off at Remus, right now, James.\" Sirius sulked, jumping up and down to try and reach the corner of the ceiling, his shoulders bouncing humorously with each pounce.   \"Yes, so you've said.\" James had always felt torn between the two whenever Sirius would start these rants. Peter, Sirius, and Remus were his bestfriends. He met Peter in primary school, and the other two four years ago- in the first year.  His mother and father had been desperate for him to form these friendships, they'd said you'd get nowhere without friends, that friendship is what forms joy, it is the seed and source for happiness and it's how our entire World is created. This is what James thought as his three friends of, often: His World. Friendship transcends words, its foundation is trust, built upon that support, dependency, and fun. With his friends, James felt each and every one was checked and that would never be replaced, \"Multiple times.\"  \"No, but like I actually am this time.\" He sighed, flopping to the floor after his defeat of not being able to tackle the corner.  \"You can't be mad at him just because he's better at lying than you are.\"   \"Yes, I can and I will. How come he got out of this with his lies and we're stuck here cleaning the bloody ballet studio?\"  \"Did you expect McGonagall to believe the toilets were flooded by Snivellus' shit?\"   \"Perfectly plausible it was. Maybe on another day, perhaps when they're serving something spicy.\" Sirius argued, \"But, you're mad too right? I'm not just being dramatic?\"  \"I'm not mad,\" James shrugged, \"I'm actually impressed he managed to get out of it.\"  Sirius let out an, ironically, dramatic sigh before collapsing further into the floor as if it would swallow his whole, \"I'm totally being dramatic.\" What he wasn't going to tell Sirius is that he was always dramatic, he'd even (unknowingly) received the nickname 'Attention Whore', not only from James, Remus and Pete but it had additionally spread to the girls group, \"Should I apologise to him?\"   \"Yes!\" James shouted, happy that for once he hadn't needed to bring up the simple solution of apologising. As Sirius' reward James decided to snatch up the duster and wipe away the fine particles of dust, there was a rather large sum of it. In fact, the whole room seemed to have slept in a blanket of the silken dust. After picking up as much as he could, he took the duster and weaved it into Sirius hair until the boy sneezed over and over, wiping a trail of snot from under his nose.   \"Careful, with the wet hair and snotty grotty nose you're looking far too similar to our dear friend Severus.\" James shouted as he skipped out the room, prepared to trek onto their next area they'd been tasked to dust, wipe, mop and clean (and then repeat because apparently their 'cleaning' wasn't up to par to the school's so they'd ought to do double the amount).\n",
            "------------------------------\n",
            "Tokens :  ['the', 'lamp', 'leaked', 'a', 'watery', 'orange', 'light', 'over', 'reg', '##ulus', '.', 'it', 'hadn', \"'\", 't', 'turned', 'incredibly', 'late', 'yet', ',', 'however', ',', 'the', 'sky', 'had', 'begun', 'to', 'bruise', 'earlier', 'and', 'earlier', 'as', 'the', 'wind', 'had', 'started', 'to', 'chill', '.', 'reg', '##ulus', 'enjoyed', 'coming', 'here', ',', 'when', 'the', 'room', 'was', 'death', '##ly', 'silent', ',', 'bar', 'the', 'sound', 'of', 'his', 'own', 'feet', 'and', 'shaken', 'breath', ';', 'it', 'had', 'helped', 'the', 'world', 'feel', 'less', 'bleak', 'and', 'removed', 'the', 'feeling', 'that', 'everything', 'around', 'him', 'was', 'pains', '##taking', '##ly', 'empty', '.', 'his', 'lungs', 'had', 'begun', 'to', 'shrink', 'so', 'much', 'they', 'were', 'near', '-', 'shattering', ',', 'filled', 'an', 'abundance', 'of', 'press', '##uri', '##sed', 'breath', '.', 'pandora', 'had', 'told', 'him', 'that', 'should', 'he', 'over', '##work', 'himself', 'too', 'much', 'he', \"'\", 'd', 'end', 'up', 'not', 'being', 'able', 'to', 'perform', 'at', 'all', '.', 'reg', '##ulus', 'had', 'decided', 'he', \"'\", 'd', 'rather', 'not', 'perform', 'as', 'a', 'result', 'of', 'an', 'injury', 'than', 'suffer', 'being', 'given', 'a', 'med', '##io', '##cre', 'part', 'at', 'best', '.', 'he', 'was', 'destined', 'for', 'an', 'actual', 'role', 'in', 'the', 'performance', 'of', 'romeo', 'and', 'juliet', ',', 'he', \"'\", 'd', 'thought', ',', 'and', 'he', 'wouldn', \"'\", 't', 'put', 'up', 'for', 'less', 'than', 'romeo', '-', 'bart', '##y', 'had', 'also', 'then', 'chimed', 'in', 'to', 'say', 'that', 'was', 'wish', '##ful', 'thinking', 'and', 'he', 'was', 'more', 'suited', 'for', 'juliet', '.', 'though', 'reg', '##ulus', 'had', 'never', 'wanted', 'to', 'admit', 'this', ',', 'for', 'it', 'was', 'far', 'too', 'soap', '-', 'operatic', 'for', 'his', 'liking', ',', 'he', 'found', 'the', 'whole', 'premise', 'of', 'romeo', 'and', 'juliet', 'rather', 'intriguing', '.', 'two', 'young', 'lovers', 'thwarted', 'by', 'others', \"'\", 'hate', ',', 'a', 'tragedy', 'he', 'found', 'beautiful', '.', 'he', 'also', 'thought', 'that', 'he', 'would', 'never', 'sacrifice', 'his', 'life', 'for', 'another', 'and', 'that', 'the', 'whole', 'ending', 'was', 'very', 'stupid', 'and', 'could', \"'\", 've', 'easily', 'been', 'stopped', 'had', 'juliet', 'not', 'sat', 'gaping', '.', 'reg', '##ulus', 'moved', 'like', 'a', 'swan', ',', 'gliding', 'elegant', '##ly', 'across', 'the', 'floor', 'of', 'the', 'studio', ',', 'watching', 'his', 'posture', 'intently', 'in', 'the', 'mirror', ',', 'his', 'stage', '-', 'smiled', 'stiffened', 'around', 'the', 'edges', 'as', 'his', 'feet', 'didn', \"'\", 't', 'move', 'the', 'way', 'his', 'brain', 'had', 'wanted', 'them', 'to', '.', 'he', 'rested', 'his', 'hands', 'against', 'the', 'barre', ',', 'looking', 'up', 'at', 'himself', 'in', 'the', 'mirror', 'through', 'his', 'eyelashes', 'he', 'knew', 'tomorrow', 'his', 'whole', 'body', 'would', 'ache', 'deeper', 'than', 'the', 'muscle', 'and', 'bone', ',', 'but', 'right', 'now', 'it', 'was', 'numb', ',', 'he', 'couldn', \"'\", 't', 'feel', 'a', 'single', 'pin', '##pr', '##ick', 'against', 'his', 'skin', 'and', 'once', 'he', \"'\", 'd', 'reached', 'this', 'point', 'he', 'willed', 'to', 'keep', 'moving', ',', 'make', 'the', 'most', 'of', 'his', 'precious', 'time', 'of', 'stillness', '.', 'he', 'tapped', 'his', 'heels', 'together', ',', 'feet', 'fighting', ',', 'and', 'straightened', 'his', 'knees', '.', 'the', 'person', 'in', 'the', 'mirror', 'hadn', \"'\", 't', 'looked', 'like', 'him', ',', 'a', 'vision', 'of', 'a', 'little', 'boat', 'rocking', 'widely', 'on', 'the', 'waves', 'popped', 'up', 'in', 'his', 'head', '.', 'it', 'slowly', 'calmed', 'to', 'a', 'pl', '##ac', '##id', 'still', ',', 'but', 'when', 'you', 'had', 'looked', 'underneath', 'the', 'sea', '##weed', 'had', 'tangled', 'into', 'a', 'rotten', 'mess', ',', 'it', 'caused', 'him', 'to', 'fa', '##lter', 'for', 'a', 'moment', 'and', 'he', 'completely', 'dropped', 'again', '.', 'he', 'was', 'thinking', 'of', 'kicking', 'the', 'wall', 'when', 'the', 'door', 'swung', 'open', ',', 'interrupting', 'his', 'self', '-', 'destructive', 'train', 'of', 'thought', '.', 'a', 'boy', 'walked', 'in', ',', 'a', 'bucket', 'filled', 'with', 'water', 'and', 'a', 'dirt', '-', 'soaked', 'sponge', 'in', 'their', 'respective', 'hands', ',', 'reg', '##ulus', 'thought', 'the', 'sponge', 'was', 'doing', 'more', 'harm', 'than', 'good', 'to', 'whatever', 'he', 'was', 'cleaning', '.', '\"', 'you', 'look', 'a', 'bit', 'sick', ',', '\"', 'james', 'said', ',', 'dun', '##king', 'the', 'sponge', 'into', 'the', 'bucket', '.', 'the', 'water', 'sl', '##osh', '##ed', 'over', 'the', 'top', ',', 'water', 'fell', 'down', 'to', 'the', 'floor', ',', '\"', 'have', 'you', 'ever', 'watched', 'the', 'friendly', 'ghost', '?', '\"', 'james', 'looked', 'at', 'the', 'boy', ',', 'much', 'like', 'his', 'friend', ',', 'his', 'nose', 'was', 'a', '##quil', '##ine', ',', 'as', 'if', 'he', 'was', 'snatched', 'out', 'from', 'a', 'book', 'about', 'ancient', 'greeks', '.', 'the', 'hollow', 'cheekbones', 'of', 'the', 'black', 'brothers', 'always', 'seemed', 'to', 'accent', '##uate', 'the', 'hollow', '##ness', 'of', 'their', 'eyes', ',', 'highlighting', 'the', 'colours', '.', 'much', 'like', 'sirius', \"'\", 'his', 'eyes', 'were', 'blue', ',', 'though', 'a', 'lighter', 'shade', '.', 'the', 'brothers', 'eyes', 'were', 'like', 'ice', ',', 'but', 'held', 'a', 'fire', 'in', 'them', '.', 'one', 'glance', 'of', 'the', 'blue', 'eyes', 'told', 'of', 'a', 'lifetime', 'of', 'struggle', ',', 'one', 'that', 'no', 'matter', 'how', 'many', 'times', 'james', 'had', 'asked', 'he', \"'\", 'd', 'never', 'get', 'the', 'full', 'story', 'as', 'it', 'wasn', \"'\", 't', 'able', 'to', 'be', 'put', 'into', 'words', '.', 'reg', '##ulus', 'turned', 'back', 'to', 'the', 'mirror', ',', 'sucking', 'in', 'his', 'stomach', ',', 'and', 'turned', 'back', 'around', ',', '\"', 'thank', 'you', '.', '\"', 'his', 'teacher', 'had', 'once', 'told', 'him', ',', 'that', 'was', 'his', 'aim', '.', 'that', 'had', 'he', 'turned', 'such', 'a', 'sick', '##ly', 'pale', 'colour', ',', 'had', 'his', 'rib', '##ca', '##ge', 'stuck', 'out', ',', 'as', 'with', 'his', 'hip', 'bone', '-', 'he', \"'\", 'd', 'make', 'the', 'perfect', 'dancer', '.', 'he', 'does', 'owe', 'much', 'of', 'his', 'obsession', 'with', 'this', 'one', 'passing', 'statement', 'to', 'his', 'self', '-', 'inflicted', 'goal', 'of', 'perfection', ',', 'however', ',', 'there', \"'\", 's', 'always', 'the', 'subtle', 'suggestions', 'from', 'her', 'to', 'achieve', 'this', 'as', 'well', 'as', 'the', 'constant', 'reminder', 'he', 'doesn', \"'\", 't', 'quite', 'meet', 'this', 'ideal', 'yet', 'and', 'the', 'one', 'phrase', 'had', 'been', 'an', 'ever', '##las', '##ting', 'trail', 'of', 'thought', 'in', 'his', 'brain', '.', 'james', 'had', 'simply', 'furrowed', 'his', 'dark', 'brow', 'in', 'confusion', ',', 'thinking', 'he', \"'\", 'd', \"'\", 've', 'been', 'rather', 'insane', 'to', 'accept', 'that', 'as', 'a', 'compliment', 'with', 'zero', 'sarcasm', 'laced', 'in', 'his', 'voice', '.', '\"', 'right', '##y', '.', '.', '.', 'can', 'you', 'get', 'out', 'so', 'we', 'can', 'clean', 'in', 'here', '?', '\"', '\"', 'get', 'out', '?', 'it', \"'\", 's', 'my', 'studio', ',', 'you', \"'\", 're', 'not', 'supposed', 'to', 'be', 'in', 'here', 'actually', '-', '-', '\"', '\"', 'no', ',', 'it', \"'\", 's', 'not', ',', 'it', \"'\", 's', 'the', 'schools', '.', '\"', 'the', 'door', 'slammed', 'when', 'the', 'other', 'boy', 'had', 'walked', 'in', ',', 'carrying', 'a', 'mo', '##p', 'and', 'dust', '##er', ',', '\"', 'now', 'get', 'out', '.', '\"', 'reg', '##ulus', 'folded', 'his', 'arms', 'over', '.', 'sirius', \"'\", 'skin', 'had', 'also', 'looked', 'extra', '##ord', '##ina', '##rily', 'cloud', '-', 'like', ',', 'though', 'reg', '##ulus', 'had', 'attributed', 'that', 'to', 'being', 'next', 'to', 'james', \"'\", 'whose', 'was', 'a', 'mor', '##phi', '##ng', 'ser', '##enity', 'of', 'brown', '.', 'he', 'also', 'looked', 'comparatively', 'smaller', '.', 'james', 'was', 'wearing', 'a', 'bag', '##gy', 'hood', '##ie', 'which', 'was', 'over', 'his', 'uniform', '-', 'reg', '##ulus', 'hadn', \"'\", 't', 'doubted', 'that', 'was', 'against', 'the', 'rules', '-', 'which', 'had', 'made', 'the', 'already', 'tall', 'boy', 'look', 'even', 'larger', ',', 'not', 'helping', 'sirius', \"'\", 'stature', '.', '\"', 'i', \"'\", 'm', 'literally', 'booked', 'in', 'here', ',', 'go', 'and', 'check', 'the', 'sheet', 'on', 'the', 'door', ',', 'you', \"'\", 'll', 'see', 'my', 'name', 'in', 'big', 'bold', 'letters', '-', '-', '\"', '\"', 'i', 'literally', 'do', 'not', 'care', '.', '\"', 'sirius', 'mocked', ',', 'james', 'grinned', 'and', 'placed', 'the', 'bucket', 'down', ',', 'demonstrating', 'the', 'fact', 'they', 'had', 'no', 'intention', 'of', 'leaving', 'him', 'be', ',', '\"', 'it', \"'\", 's', 'not', 'our', 'fault', 'someone', 'rat', '##ted', 'us', 'out', 'to', 'go', '##na', '##gall', '.', 'go', 'and', 're', '##hear', '##se', 'for', 'juliet', 'somewhere', 'else', '.', '\"', 'reg', '##ulus', 'couldn', \"'\", 't', 'help', 'but', 'feel', 'some', 'sort', 'of', 'warmth', 'in', 'sirius', 'actually', 'remembering', 'that', '##s', \"'\", 'the', 'play', 'they', 'were', 'doing', ',', 'he', 'assumed', 'when', 'he', \"'\", 'd', 'come', 'and', 'told', 'him', 'he', 'simply', 'ignored', 'his', 'excitement', ',', '\"', 'where', 'else', 'am', 'i', 'supposed', 'to', 're', '##hear', '##se', '?', 'i', 'can', \"'\", 't', 'exactly', 'go', 'and', 'dance', 'in', 'the', 'dorm', '##s', '.', '\"', '\"', 'why', 'not', '?', 'i', \"'\", 'm', 'sure', 'bart', '##y', 'would', 'love', 'a', 'show', 'from', 'you', '.', '\"', 'james', 'had', 'taken', 'the', 'sponge', 'and', 'began', 'to', 'lap', 'circles', 'around', 'reg', '##ulus', \"'\", 'feet', ',', 'his', 'eyes', 'mocking', 'as', 'he', 'looked', 'up', 'at', 'him', ',', 'lashes', 'tapping', 'against', 'his', 'glasses', 'as', 'he', 'blinked', '.', 'he', 'had', 'actually', ',', 'on', 'occasion', ',', 'chosen', 'to', 'dance', 'in', 'their', 'dorm', ',', 'at', 'times', 'when', 'the', 'studio', 'had', 'been', 'fully', 'booked', 'and', 'he', 'hadn', \"'\", 't', 'wanted', 'to', 'change', 'out', 'of', 'his', 'p', '##y', '##ja', '##mas', 'and', 'make', 'the', 'exhaust', '##ing', 'journey', 'around', 'the', 'expansive', 'school', 'only', 'to', 'have', 'to', 'wander', 'back', 'at', 'the', 'early', 'hours', 'in', 'the', 'morning', 'and', 'risk', 'being', 'sc', '##old', '##ed', 'by', 'a', 'lo', '##iter', '##ing', 'teacher', ',', 'or', 'worse', ',', 'a', 'student', 'who', 'deemed', 'themselves', 'teacher', '.', 'he', 'had', 'been', 'pr', '##act', '##ising', 'the', 'grand', 'ada', '##ge', ',', 'when', 'his', 'centre', 'of', 'gravity', 'decided', 'to', 'give', 'way', 'and', 'he', 'toppled', 'over', ',', 'hitting', 'his', 'head', 'on', 'the', 'corner', 'of', 'his', 'bed', 'side', 'table', '.', '\"', 'why', 'can', \"'\", 't', 'you', 'just', 'clean', 'another', 'place', 'and', 'then', 'come', 'back', 'here', 'a', 'bit', 'later', '?', '\"', '\"', 'are', 'you', 'even', 'dancing', '?', 'when', 'we', 'walked', 'in', 'here', 'you', 'were', 'just', 'stood', 'staring', 'at', 'yourself', 'in', 'the', 'mirror', 'like', 'a', 'na', '##rc', '##iss', '##ist', ',', '\"', 'sirius', 'remarked', ',', 'head', 'tilted', 'to', 'the', 'side', ',', '\"', 'and', 'you', 'call', 'me', 'the', 'self', '-', 'absorbed', 'one', '.', 'you', 'look', 'like', 'mum', 'when', 'she', \"'\", 's', 'examining', 'her', 'necklace', '##s', '.', '\"', 'reg', '##ulus', 'felt', 'a', 'small', 'pang', 'in', 'his', 'chest', ',', 'he', 'went', 'to', 'open', 'his', 'mouth', 'to', 'argue', ',', 'say', 'that', ',', \"'\", 'yes', ',', 'sirius', ',', 'for', 'your', 'information', ',', 'i', 'was', 'about', 'to', 'dance', 'the', 'most', 'magnificent', 'scene', 'ever', 'and', 'you', \"'\", 'll', 'be', 'dumb', '##ed', 'into', 'silence', \"'\", ',', 'but', 'he', 'was', 'left', 'opening', 'and', 'closing', 'his', 'mouth', 'like', 'a', 'fish', '.', 'he', 'had', 'loved', 'to', 'dance', ',', 'sensual', '##ity', 'bursting', 'through', 'in', 'the', 'most', 'vibrant', 'picture', ',', 'import', '##ing', 'every', 'emotion', 'inside', 'of', 'him', 'into', 'the', 'dance', ',', 'but', 'as', 'of', 'recently', 'the', 'passion', 'was', 'dull', '##ing', 'and', 'he', 'found', 'himself', 'ever', '##more', 'growing', 'tired', 'to', 'the', 'point', 'of', 'an', 'intense', 'emotion', 'of', 'surrender', '.', 'even', 'when', 'he', 'was', 'on', 'stage', ',', 'or', 'in', 'class', ',', 'even', 'when', 'he', 'received', 'the', 'highest', 'praise', 'from', 'his', 'mother', 'or', 'teacher', ',', 'or', 'even', 'on', 'the', 'rare', 'occasion', 'his', 'father', ',', 'it', 'still', 'lingered', '.', '\"', 'if', 'you', 'have', 'a', 'problem', 'with', 'us', 'doing', 'community', 'service', 'and', 'cleaning', 'the', 'wonderful', 'school', ',', 'you', 'can', 'take', 'that', 'up', 'with', 'our', 'marvelous', 'headmaster', '.', '\"', 'sirius', 'recited', ',', '\"', 'besides', 'don', \"'\", 't', 'they', 'always', 'give', 'the', 'big', 'roles', 'to', 'the', 'sixth', 'or', 'seventh', 'years', '?', '\"', 'reg', '##ulus', 'kept', 'quiet', ',', 'he', 'knew', 'he', 'was', 'yearning', 'for', 'something', 'almost', 'una', '##chi', '##eva', '##ble', 'but', 'the', 'sixth', 'and', 'seventh', 'years', 'are', 'religious', '##ly', 'the', 'sole', 'centre', 'midfielder', '##s', 'and', 'james', 'managed', 'to', 'get', 'given', 'the', 'position', 'last', 'year', '.', 'if', 'the', 'football', 'team', 'had', 'decided', 'to', 'change', 'their', 'legacy', 'he', 'could', 'only', 'hope', 'his', 'teacher', 'would', 'have', 'the', 'same', 'belief', 'in', 'him', '.', 'once', 'they', 'had', 'realised', 'neither', 'of', 'the', 'boys', 'would', 'leave', ',', 'sirius', 'and', 'james', 'thought', 'their', 'way', 'of', 'asserting', 'dominance', 'would', 'be', 'to', 'act', 'as', 'if', 'reg', '##ulus', 'was', 'simply', 'invisible', '.', 'james', 'set', 'out', 'on', 'sub', '##mer', '##ging', 'the', 'sponge', 'over', 'and', 'over', 'into', 'the', 'water', ',', 'essentially', 'drowning', 'the', 'poor', 'thing', ',', 'as', 'sirius', 'followed', 'him', 'around', 'with', 'a', 'mo', '##p', ',', 'occasionally', 'hitting', 'him', 'on', 'the', 'head', 'with', 'it', ',', 'each', 'time', 'he', 'did', 'james', \"'\", 'hair', 'would', 'flop', 'and', 'he', \"'\", 'd', 'chuck', 'the', 'sponge', 'at', 'his', 'face', '.', 'the', 'third', 'time', 'he', 'had', 'done', 'this', ',', 'sirius', 'had', 'managed', 'to', 'duck', ',', 'sending', 'the', 'sponge', ',', 'with', 'flames', 'of', 'fire', ',', 'reg', '##ulus', \"'\", 'way', '.', 'unfortunately', ',', 'reg', '##ulus', 'hadn', \"'\", 't', 'quite', 'nailed', 'the', 'incredibly', 'rapid', 'reflex', '##es', 'sirius', 'had', 'practiced', 'over', 'the', 'years', 'and', 'he', 'was', 'far', 'too', 'slow', 'to', 'dodge', 'it', '.', 'it', 'w', '##ha', '##cked', 'him', 'in', 'the', 'face', 'and', 'he', 'stood', 'back', ',', 'slowly', ',', 'momentarily', 'stunned', 'by', 'the', 'sudden', 'impact', ',', 'and', 'the', 'freezing', 'water', '.', '\"', 'shit', ',', 'sorry', '-', '\"', 'james', 'stood', 'up', ',', 'grabbing', 'the', 'sponge', 'off', 'the', 'floor', ',', '\"', 'look', 'what', 'you', \"'\", 've', 'done', 'you', 't', '##wat', '!', '\"', 'james', 'lo', '##bbed', 'the', 'sponge', 'at', 'sirius', 'again', 'who', 'was', 'letting', 'out', 'a', 'ca', '##co', '##phon', '##y', 'of', 'laughter', '.', 'he', 'turned', 'back', 'to', 'face', 'reg', '##ulus', 'whose', 'jaw', 'was', 'beginning', 'to', 'clench', 'a', 'dangerous', 'amount', ',', 'vein', 'throbbing', 'in', 'his', 'throat', 'already', '.', '\"', 'don', \"'\", 't', 'say', 'sorry', ',', 'maybe', 'now', 'he', \"'\", 'll', 'leave', 'instead', 'of', 'standing', 'there', 'drenched', 'in', 'water', '.', '\"', 'reg', '##ulus', 'scoffed', 'and', 'wiped', 'a', 'cow', '-', 'licked', 'strand', 'of', 'hair', 'off', 'his', 'face', ',', '\"', 'no', 'it', \"'\", 's', 'fine', '!', 'i', \"'\", 'll', 'get', 'out', 'of', 'your', 'way', ',', 'like', 'i', 'always', 'do', '.', '\"', 'he', 'snatched', 'his', 'bag', 'off', 'the', 'floor', 'and', 'james', 'looked', 'between', 'the', 'two', 'of', 'them', ',', 'the', 'ghost', 'of', 'a', 'faint', 'smile', 'already', 'drawing', 'on', 'his', 'face', '.', '\"', 'mel', '##od', '##rama', '##tic', 'much', '.', '\"', 'sirius', 'muttered', 'to', 'himself', ',', 'flipping', 'his', 'own', 'soaked', 'hair', 'back', 'from', 'his', 'face', '.', 'the', 'door', 'slammed', 'on', 'his', 'way', 'out', 'and', 'james', 'stared', 'back', 'at', 'the', 'older', 'black', 'brother', ',', 'finally', 'allowing', 'himself', 'to', 'join', 'in', 'with', 'sirius', \"'\", 'giggles', '.', 'the', 'cleaning', 'had', 'begun', 'to', 'drain', 'both', 'the', 'boys', ',', 'james', \"'\", 'arms', 'had', 'ached', '.', 'he', 'actually', 'quite', 'enjoyed', 'cleaning', 'and', 'often', 'helped', 'his', 'mother', 'clean', 'around', 'the', 'house', '.', 'it', 'had', 'always', 'calmed', 'him', ',', 'feeling', 'the', 'furniture', 'glide', 'over', 'the', 'palm', 'of', 'his', 'hands', 'and', 'the', 'soft', 'sound', 'of', 'the', 'broom', 'as', 'his', 'mother', 'swept', '.', 'the', 'one', 'thing', 'that', 'he', 'despised', 'about', 'being', 'at', 'this', 'school', 'was', 'the', 'longing', 'he', 'had', 'for', 'his', 'parents', '.', 'he', 'can', 'still', 'feel', 'joy', 'without', 'them', ',', 'still', 'smiles', ',', 'and', 'makes', 'jokes', 'that', 'nobody', 'finds', 'funny', 'bar', 'his', 'small', 'group', 'of', 'friends', ',', 'yet', 'there', 'is', 'always', 'a', 'hum', 'beneath', 'the', 'song', 'that', 'continually', 'misses', 'them', '.', 'there', 'was', 'a', 'small', 'light', 'upon', 'the', 'floor', 'that', 'danced', 'over', 'the', 'age', '##less', 'boards', 'of', 'wood', '.', 'the', 'wood', 'was', 'a', 'forest', 'brown', 'with', 'soul', '##ful', 'patches', 'of', 'paler', 'wood', 'damp', '##ened', 'by', 'the', 'suns', 'light', 'or', 'the', 'st', '##omp', '##ing', 'of', 'feet', '.', 'each', 'time', 'he', 'turned', 'he', \"'\", 'd', 'be', 'faced', 'with', 'a', 'mirror', ',', 'he', 'hadn', \"'\", 't', 'a', 'clue', 'how', 'people', 'like', 'reg', '##ulus', 'stood', 'in', 'here', ',', 'followed', 'around', 'by', 'their', 'own', 'taunting', 'image', '.', 'the', 'mirrors', 'were', 'framed', 'with', 'bronze', 'frames', ',', 'black', '-', 'fr', '##eck', '##les', 'sp', '##lat', '##tered', 'over', 'them', '.', 'as', 'they', 'cleaned', 'and', 'cleaned', 'it', 'had', 'gotten', 'to', 'the', 'point', 'that', 'james', \"'\", 'veins', 'had', 'thru', '##mme', '##d', 'with', 'the', 'desperate', 'urge', 'to', 'be', 'doing', 'something', 'else', ',', 'his', 'mind', 'wandering', 'around', 'the', 'room', 'finding', 'different', 'objects', 'to', 'zoom', 'in', 'on', 'and', 'surrender', 'his', 'thoughts', 'to', 'for', 'a', 'moment', 'before', 'he', \"'\", 'd', 'be', 'distracted', 'by', 'sirius', \"'\", 'huff', '##s', 'of', 'ex', '##as', '##peration', '.', '\"', 'i', \"'\", 'm', 'genuinely', 'really', 'pissed', 'off', 'at', 're', '##mus', ',', 'right', 'now', ',', 'james', '.', '\"', 'sirius', 'sul', '##ked', ',', 'jumping', 'up', 'and', 'down', 'to', 'try', 'and', 'reach', 'the', 'corner', 'of', 'the', 'ceiling', ',', 'his', 'shoulders', 'bouncing', 'humorous', '##ly', 'with', 'each', 'po', '##unce', '.', '\"', 'yes', ',', 'so', 'you', \"'\", 've', 'said', '.', '\"', 'james', 'had', 'always', 'felt', 'torn', 'between', 'the', 'two', 'whenever', 'sirius', 'would', 'start', 'these', 'ran', '##ts', '.', 'peter', ',', 'sirius', ',', 'and', 're', '##mus', 'were', 'his', 'best', '##fr', '##ien', '##ds', '.', 'he', 'met', 'peter', 'in', 'primary', 'school', ',', 'and', 'the', 'other', 'two', 'four', 'years', 'ago', '-', 'in', 'the', 'first', 'year', '.', 'his', 'mother', 'and', 'father', 'had', 'been', 'desperate', 'for', 'him', 'to', 'form', 'these', 'friendships', ',', 'they', \"'\", 'd', 'said', 'you', \"'\", 'd', 'get', 'nowhere', 'without', 'friends', ',', 'that', 'friendship', 'is', 'what', 'forms', 'joy', ',', 'it', 'is', 'the', 'seed', 'and', 'source', 'for', 'happiness', 'and', 'it', \"'\", 's', 'how', 'our', 'entire', 'world', 'is', 'created', '.', 'this', 'is', 'what', 'james', 'thought', 'as', 'his', 'three', 'friends', 'of', ',', 'often', ':', 'his', 'world', '.', 'friendship', 'trans', '##cend', '##s', 'words', ',', 'its', 'foundation', 'is', 'trust', ',', 'built', 'upon', 'that', 'support', ',', 'dependency', ',', 'and', 'fun', '.', 'with', 'his', 'friends', ',', 'james', 'felt', 'each', 'and', 'every', 'one', 'was', 'checked', 'and', 'that', 'would', 'never', 'be', 'replaced', ',', '\"', 'multiple', 'times', '.', '\"', '\"', 'no', ',', 'but', 'like', 'i', 'actually', 'am', 'this', 'time', '.', '\"', 'he', 'sighed', ',', 'flop', '##ping', 'to', 'the', 'floor', 'after', 'his', 'defeat', 'of', 'not', 'being', 'able', 'to', 'tackle', 'the', 'corner', '.', '\"', 'you', 'can', \"'\", 't', 'be', 'mad', 'at', 'him', 'just', 'because', 'he', \"'\", 's', 'better', 'at', 'lying', 'than', 'you', 'are', '.', '\"', '\"', 'yes', ',', 'i', 'can', 'and', 'i', 'will', '.', 'how', 'come', 'he', 'got', 'out', 'of', 'this', 'with', 'his', 'lies', 'and', 'we', \"'\", 're', 'stuck', 'here', 'cleaning', 'the', 'bloody', 'ballet', 'studio', '?', '\"', '\"', 'did', 'you', 'expect', 'mc', '##gon', '##aga', '##ll', 'to', 'believe', 'the', 'toilets', 'were', 'flooded', 'by', 's', '##ni', '##vel', '##lus', \"'\", 'shit', '?', '\"', '\"', 'perfectly', 'plausible', 'it', 'was', '.', 'maybe', 'on', 'another', 'day', ',', 'perhaps', 'when', 'they', \"'\", 're', 'serving', 'something', 'spicy', '.', '\"', 'sirius', 'argued', ',', '\"', 'but', ',', 'you', \"'\", 're', 'mad', 'too', 'right', '?', 'i', \"'\", 'm', 'not', 'just', 'being', 'dramatic', '?', '\"', '\"', 'i', \"'\", 'm', 'not', 'mad', ',', '\"', 'james', 'shrugged', ',', '\"', 'i', \"'\", 'm', 'actually', 'impressed', 'he', 'managed', 'to', 'get', 'out', 'of', 'it', '.', '\"', 'sirius', 'let', 'out', 'an', ',', 'ironically', ',', 'dramatic', 'sigh', 'before', 'collapsing', 'further', 'into', 'the', 'floor', 'as', 'if', 'it', 'would', 'swallow', 'his', 'whole', ',', '\"', 'i', \"'\", 'm', 'totally', 'being', 'dramatic', '.', '\"', 'what', 'he', 'wasn', \"'\", 't', 'going', 'to', 'tell', 'sirius', 'is', 'that', 'he', 'was', 'always', 'dramatic', ',', 'he', \"'\", 'd', 'even', '(', 'un', '##k', '##now', '##ingly', ')', 'received', 'the', 'nickname', \"'\", 'attention', 'whore', \"'\", ',', 'not', 'only', 'from', 'james', ',', 're', '##mus', 'and', 'pete', 'but', 'it', 'had', 'additionally', 'spread', 'to', 'the', 'girls', 'group', ',', '\"', 'should', 'i', 'ap', '##olo', '##gis', '##e', 'to', 'him', '?', '\"', '\"', 'yes', '!', '\"', 'james', 'shouted', ',', 'happy', 'that', 'for', 'once', 'he', 'hadn', \"'\", 't', 'needed', 'to', 'bring', 'up', 'the', 'simple', 'solution', 'of', 'ap', '##olo', '##gis', '##ing', '.', 'as', 'sirius', \"'\", 'reward', 'james', 'decided', 'to', 'snatch', 'up', 'the', 'dust', '##er', 'and', 'wipe', 'away', 'the', 'fine', 'particles', 'of', 'dust', ',', 'there', 'was', 'a', 'rather', 'large', 'sum', 'of', 'it', '.', 'in', 'fact', ',', 'the', 'whole', 'room', 'seemed', 'to', 'have', 'slept', 'in', 'a', 'blanket', 'of', 'the', 'silk', '##en', 'dust', '.', 'after', 'picking', 'up', 'as', 'much', 'as', 'he', 'could', ',', 'he', 'took', 'the', 'dust', '##er', 'and', 'weave', '##d', 'it', 'into', 'sirius', 'hair', 'until', 'the', 'boy', 's', '##nee', '##zed', 'over', 'and', 'over', ',', 'wiping', 'a', 'trail', 'of', 's', '##not', 'from', 'under', 'his', 'nose', '.', '\"', 'careful', ',', 'with', 'the', 'wet', 'hair', 'and', 's', '##not', '##ty', 'gr', '##ott', '##y', 'nose', 'you', \"'\", 're', 'looking', 'far', 'too', 'similar', 'to', 'our', 'dear', 'friend', 'se', '##ver', '##us', '.', '\"', 'james', 'shouted', 'as', 'he', 'skipped', 'out', 'the', 'room', ',', 'prepared', 'to', 'trek', 'onto', 'their', 'next', 'area', 'they', \"'\", 'd', 'been', 'tasked', 'to', 'dust', ',', 'wipe', ',', 'mo', '##p', 'and', 'clean', '(', 'and', 'then', 'repeat', 'because', 'apparently', 'their', \"'\", 'cleaning', \"'\", 'wasn', \"'\", 't', 'up', 'to', 'par', 'to', 'the', 'school', \"'\", 's', 'so', 'they', \"'\", 'd', 'ought', 'to', 'do', 'double', 'the', 'amount', ')', '.']\n",
            "------------------------------\n",
            "Input IDs :  [101, 1996, 10437, 15748, 1037, 28259, 4589, 2422, 2058, 19723, 11627, 1012, 2009, 2910, 1005, 1056, 2357, 11757, 2397, 2664, 1010, 2174, 1010, 1996, 3712, 2018, 5625, 2000, 24851, 3041, 1998, 3041, 2004, 1996, 3612, 2018, 2318, 2000, 10720, 1012, 19723, 11627, 5632, 2746, 2182, 1010, 2043, 1996, 2282, 2001, 2331, 2135, 4333, 1010, 3347, 1996, 2614, 1997, 2010, 2219, 2519, 1998, 16697, 3052, 1025, 2009, 2018, 3271, 1996, 2088, 2514, 2625, 21657, 1998, 3718, 1996, 3110, 2008, 2673, 2105, 2032, 2001, 20398, 17904, 2135, 4064, 1012, 2010, 8948, 2018, 5625, 2000, 22802, 2061, 2172, 2027, 2020, 2379, 1011, 21797, 1010, 3561, 2019, 14531, 1997, 2811, 9496, 6924, 3052, 1012, 19066, 2018, 2409, 2032, 2008, 2323, 2002, 2058, 6198, 2370, 2205, 2172, 2002, 1005, 1040, 2203, 2039, 2025, 2108, 2583, 2000, 4685, 2012, 2035, 1012, 19723, 11627, 2018, 2787, 2002, 1005, 1040, 2738, 2025, 4685, 2004, 1037, 2765, 1997, 2019, 4544, 2084, 9015, 2108, 2445, 1037, 19960, 3695, 16748, 2112, 2012, 2190, 1012, 2002, 2001, 16036, 2005, 2019, 5025, 2535, 1999, 1996, 2836, 1997, 12390, 1998, 13707, 1010, 2002, 1005, 1040, 2245, 1010, 1998, 2002, 2876, 1005, 1056, 2404, 2039, 2005, 2625, 2084, 12390, 1011, 12075, 2100, 2018, 2036, 2059, 27460, 1999, 2000, 2360, 2008, 2001, 4299, 3993, 3241, 1998, 2002, 2001, 2062, 10897, 2005, 13707, 1012, 2295, 19723, 11627, 2018, 2196, 2359, 2000, 6449, 2023, 1010, 2005, 2009, 2001, 2521, 2205, 7815, 1011, 22534, 2005, 2010, 16663, 1010, 2002, 2179, 1996, 2878, 18458, 1997, 12390, 1998, 13707, 2738, 23824, 1012, 2048, 2402, 10205, 28409, 2011, 2500, 1005, 5223, 1010, 1037, 10576, 2002, 2179, 3376, 1012, 2002, 2036, 2245, 2008, 2002, 2052, 2196, 8688, 2010, 2166, 2005, 2178, 1998, 2008, 1996, 2878, 4566, 2001, 2200, 5236, 1998, 2071, 1005, 2310, 4089, 2042, 3030, 2018, 13707, 2025, 2938, 21226, 1012, 19723, 11627, 2333, 2066, 1037, 10677, 1010, 20292, 11552, 2135, 2408, 1996, 2723, 1997, 1996, 2996, 1010, 3666, 2010, 16819, 16170, 1999, 1996, 5259, 1010, 2010, 2754, 1011, 3281, 16090, 2105, 1996, 7926, 2004, 2010, 2519, 2134, 1005, 1056, 2693, 1996, 2126, 2010, 4167, 2018, 2359, 2068, 2000, 1012, 2002, 8614, 2010, 2398, 2114, 1996, 23189, 1010, 2559, 2039, 2012, 2370, 1999, 1996, 5259, 2083, 2010, 25150, 2002, 2354, 4826, 2010, 2878, 2303, 2052, 12336, 6748, 2084, 1996, 6740, 1998, 5923, 1010, 2021, 2157, 2085, 2009, 2001, 15903, 1010, 2002, 2481, 1005, 1056, 2514, 1037, 2309, 9231, 18098, 6799, 2114, 2010, 3096, 1998, 2320, 2002, 1005, 1040, 2584, 2023, 2391, 2002, 22705, 2000, 2562, 3048, 1010, 2191, 1996, 2087, 1997, 2010, 9062, 2051, 1997, 29435, 1012, 2002, 10410, 2010, 8265, 2362, 1010, 2519, 3554, 1010, 1998, 11168, 2010, 5042, 1012, 1996, 2711, 1999, 1996, 5259, 2910, 1005, 1056, 2246, 2066, 2032, 1010, 1037, 4432, 1997, 1037, 2210, 4049, 14934, 4235, 2006, 1996, 5975, 10538, 2039, 1999, 2010, 2132, 1012, 2009, 3254, 20869, 2000, 1037, 20228, 6305, 3593, 2145, 1010, 2021, 2043, 2017, 2018, 2246, 7650, 1996, 2712, 18041, 2018, 14170, 2046, 1037, 11083, 6752, 1010, 2009, 3303, 2032, 2000, 6904, 21928, 2005, 1037, 2617, 1998, 2002, 3294, 3333, 2153, 1012, 2002, 2001, 102]\n",
            "------------------------------\n",
            "Input Masks :  [1, 1, 1, 1, 1, 1, 1, 1, 1, 1, 1, 1, 1, 1, 1, 1, 1, 1, 1, 1, 1, 1, 1, 1, 1, 1, 1, 1, 1, 1, 1, 1, 1, 1, 1, 1, 1, 1, 1, 1, 1, 1, 1, 1, 1, 1, 1, 1, 1, 1, 1, 1, 1, 1, 1, 1, 1, 1, 1, 1, 1, 1, 1, 1, 1, 1, 1, 1, 1, 1, 1, 1, 1, 1, 1, 1, 1, 1, 1, 1, 1, 1, 1, 1, 1, 1, 1, 1, 1, 1, 1, 1, 1, 1, 1, 1, 1, 1, 1, 1, 1, 1, 1, 1, 1, 1, 1, 1, 1, 1, 1, 1, 1, 1, 1, 1, 1, 1, 1, 1, 1, 1, 1, 1, 1, 1, 1, 1, 1, 1, 1, 1, 1, 1, 1, 1, 1, 1, 1, 1, 1, 1, 1, 1, 1, 1, 1, 1, 1, 1, 1, 1, 1, 1, 1, 1, 1, 1, 1, 1, 1, 1, 1, 1, 1, 1, 1, 1, 1, 1, 1, 1, 1, 1, 1, 1, 1, 1, 1, 1, 1, 1, 1, 1, 1, 1, 1, 1, 1, 1, 1, 1, 1, 1, 1, 1, 1, 1, 1, 1, 1, 1, 1, 1, 1, 1, 1, 1, 1, 1, 1, 1, 1, 1, 1, 1, 1, 1, 1, 1, 1, 1, 1, 1, 1, 1, 1, 1, 1, 1, 1, 1, 1, 1, 1, 1, 1, 1, 1, 1, 1, 1, 1, 1, 1, 1, 1, 1, 1, 1, 1, 1, 1, 1, 1, 1, 1, 1, 1, 1, 1, 1, 1, 1, 1, 1, 1, 1, 1, 1, 1, 1, 1, 1, 1, 1, 1, 1, 1, 1, 1, 1, 1, 1, 1, 1, 1, 1, 1, 1, 1, 1, 1, 1, 1, 1, 1, 1, 1, 1, 1, 1, 1, 1, 1, 1, 1, 1, 1, 1, 1, 1, 1, 1, 1, 1, 1, 1, 1, 1, 1, 1, 1, 1, 1, 1, 1, 1, 1, 1, 1, 1, 1, 1, 1, 1, 1, 1, 1, 1, 1, 1, 1, 1, 1, 1, 1, 1, 1, 1, 1, 1, 1, 1, 1, 1, 1, 1, 1, 1, 1, 1, 1, 1, 1, 1, 1, 1, 1, 1, 1, 1, 1, 1, 1, 1, 1, 1, 1, 1, 1, 1, 1, 1, 1, 1, 1, 1, 1, 1, 1, 1, 1, 1, 1, 1, 1, 1, 1, 1, 1, 1, 1, 1, 1, 1, 1, 1, 1, 1, 1, 1, 1, 1, 1, 1, 1, 1, 1, 1, 1, 1, 1, 1, 1, 1, 1, 1, 1, 1, 1, 1, 1, 1, 1, 1, 1, 1, 1, 1, 1, 1, 1, 1, 1, 1, 1, 1, 1, 1, 1, 1, 1, 1, 1, 1, 1, 1, 1, 1, 1, 1, 1, 1, 1, 1, 1, 1, 1, 1, 1, 1, 1, 1, 1, 1, 1, 1, 1, 1, 1, 1, 1, 1, 1, 1, 1, 1, 1, 1, 1, 1, 1, 1, 1, 1, 1, 1, 1, 1, 1, 1, 1, 1, 1, 1, 1, 1, 1, 1, 1, 1]\n",
            "------------------------------\n",
            "Segment IDs :  [0, 0, 0, 0, 0, 0, 0, 0, 0, 0, 0, 0, 0, 0, 0, 0, 0, 0, 0, 0, 0, 0, 0, 0, 0, 0, 0, 0, 0, 0, 0, 0, 0, 0, 0, 0, 0, 0, 0, 0, 0, 0, 0, 0, 0, 0, 0, 0, 0, 0, 0, 0, 0, 0, 0, 0, 0, 0, 0, 0, 0, 0, 0, 0, 0, 0, 0, 0, 0, 0, 0, 0, 0, 0, 0, 0, 0, 0, 0, 0, 0, 0, 0, 0, 0, 0, 0, 0, 0, 0, 0, 0, 0, 0, 0, 0, 0, 0, 0, 0, 0, 0, 0, 0, 0, 0, 0, 0, 0, 0, 0, 0, 0, 0, 0, 0, 0, 0, 0, 0, 0, 0, 0, 0, 0, 0, 0, 0, 0, 0, 0, 0, 0, 0, 0, 0, 0, 0, 0, 0, 0, 0, 0, 0, 0, 0, 0, 0, 0, 0, 0, 0, 0, 0, 0, 0, 0, 0, 0, 0, 0, 0, 0, 0, 0, 0, 0, 0, 0, 0, 0, 0, 0, 0, 0, 0, 0, 0, 0, 0, 0, 0, 0, 0, 0, 0, 0, 0, 0, 0, 0, 0, 0, 0, 0, 0, 0, 0, 0, 0, 0, 0, 0, 0, 0, 0, 0, 0, 0, 0, 0, 0, 0, 0, 0, 0, 0, 0, 0, 0, 0, 0, 0, 0, 0, 0, 0, 0, 0, 0, 0, 0, 0, 0, 0, 0, 0, 0, 0, 0, 0, 0, 0, 0, 0, 0, 0, 0, 0, 0, 0, 0, 0, 0, 0, 0, 0, 0, 0, 0, 0, 0, 0, 0, 0, 0, 0, 0, 0, 0, 0, 0, 0, 0, 0, 0, 0, 0, 0, 0, 0, 0, 0, 0, 0, 0, 0, 0, 0, 0, 0, 0, 0, 0, 0, 0, 0, 0, 0, 0, 0, 0, 0, 0, 0, 0, 0, 0, 0, 0, 0, 0, 0, 0, 0, 0, 0, 0, 0, 0, 0, 0, 0, 0, 0, 0, 0, 0, 0, 0, 0, 0, 0, 0, 0, 0, 0, 0, 0, 0, 0, 0, 0, 0, 0, 0, 0, 0, 0, 0, 0, 0, 0, 0, 0, 0, 0, 0, 0, 0, 0, 0, 0, 0, 0, 0, 0, 0, 0, 0, 0, 0, 0, 0, 0, 0, 0, 0, 0, 0, 0, 0, 0, 0, 0, 0, 0, 0, 0, 0, 0, 0, 0, 0, 0, 0, 0, 0, 0, 0, 0, 0, 0, 0, 0, 0, 0, 0, 0, 0, 0, 0, 0, 0, 0, 0, 0, 0, 0, 0, 0, 0, 0, 0, 0, 0, 0, 0, 0, 0, 0, 0, 0, 0, 0, 0, 0, 0, 0, 0, 0, 0, 0, 0, 0, 0, 0, 0, 0, 0, 0, 0, 0, 0, 0, 0, 0, 0, 0, 0, 0, 0, 0, 0, 0, 0, 0, 0, 0, 0, 0, 0, 0, 0, 0, 0, 0, 0, 0, 0, 0, 0, 0, 0, 0, 0, 0, 0, 0, 0, 0, 0, 0, 0, 0, 0, 0, 0, 0, 0, 0, 0, 0, 0, 0, 0, 0, 0, 0, 0, 0, 0]\n"
          ]
        }
      ]
    },
    {
      "cell_type": "markdown",
      "source": [
        "Creating A Multi-Class Classifier Model"
      ],
      "metadata": {
        "id": "NZPLX3DSAPsR"
      }
    },
    {
      "cell_type": "code",
      "source": [
        "def create_model(is_predicting, input_ids, input_mask, segment_ids, labels,\n",
        "                 num_labels):\n",
        "  \n",
        "  bert_module = hub.Module(\n",
        "      BERT_MODEL_HUB,\n",
        "      trainable=True)\n",
        "  bert_inputs = dict(\n",
        "      input_ids=input_ids,\n",
        "      input_mask=input_mask,\n",
        "      segment_ids=segment_ids)\n",
        "  bert_outputs = bert_module(\n",
        "      inputs=bert_inputs,\n",
        "      signature=\"tokens\",\n",
        "      as_dict=True)\n",
        "\n",
        "  # Use \"pooled_output\" for classification tasks on an entire sentence.\n",
        "  # Use \"sequence_outputs\" for token-level output.\n",
        "  output_layer = bert_outputs[\"pooled_output\"]\n",
        "\n",
        "  hidden_size = output_layer.shape[-1].value\n",
        "\n",
        "  # Create our own layer to tune for politeness data.\n",
        "  output_weights = tf.get_variable(\n",
        "      \"output_weights\", [num_labels, hidden_size],\n",
        "      initializer=tf.truncated_normal_initializer(stddev=0.02))\n",
        "\n",
        "  output_bias = tf.get_variable(\n",
        "      \"output_bias\", [num_labels], initializer=tf.zeros_initializer())\n",
        "\n",
        "  with tf.variable_scope(\"loss\"):\n",
        "\n",
        "    # Dropout helps prevent overfitting\n",
        "    output_layer = tf.nn.dropout(output_layer, keep_prob=0.9)\n",
        "\n",
        "    logits = tf.matmul(output_layer, output_weights, transpose_b=True)\n",
        "    logits = tf.nn.bias_add(logits, output_bias)\n",
        "    log_probs = tf.nn.log_softmax(logits, axis=-1)\n",
        "\n",
        "    # Convert labels into one-hot encoding\n",
        "    one_hot_labels = tf.one_hot(labels, depth=num_labels, dtype=tf.float32)\n",
        "\n",
        "    predicted_labels = tf.squeeze(tf.argmax(log_probs, axis=-1, output_type=tf.int32))\n",
        "    # If we're predicting, we want predicted labels and the probabiltiies.\n",
        "    if is_predicting:\n",
        "      return (predicted_labels, log_probs)\n",
        "\n",
        "    # If we're train/eval, compute loss between predicted and actual label\n",
        "    per_example_loss = -tf.reduce_sum(one_hot_labels * log_probs, axis=-1)\n",
        "    loss = tf.reduce_mean(per_example_loss)\n",
        "    return (loss, predicted_labels, log_probs)"
      ],
      "metadata": {
        "id": "Ck-ZTmvvARVT"
      },
      "execution_count": null,
      "outputs": []
    },
    {
      "cell_type": "code",
      "source": [
        "#A function that adapts our model to work for training, evaluation, and prediction.\n",
        "\n",
        "# model_fn_builder actually creates our model function\n",
        "# using the passed parameters for num_labels, learning_rate, etc.\n",
        "def model_fn_builder(num_labels, learning_rate, num_train_steps,\n",
        "                     num_warmup_steps):\n",
        "  \"\"\"Returns `model_fn` closure for TPUEstimator.\"\"\"\n",
        "  def model_fn(features, labels, mode, params):  # pylint: disable=unused-argument\n",
        "    \"\"\"The `model_fn` for TPUEstimator.\"\"\"\n",
        "\n",
        "    input_ids = features[\"input_ids\"]\n",
        "    input_mask = features[\"input_mask\"]\n",
        "    segment_ids = features[\"segment_ids\"]\n",
        "    label_ids = features[\"label_ids\"]\n",
        "\n",
        "    is_predicting = (mode == tf.estimator.ModeKeys.PREDICT)\n",
        "    \n",
        "    # TRAIN and EVAL\n",
        "    if not is_predicting:\n",
        "\n",
        "      (loss, predicted_labels, log_probs) = create_model(\n",
        "        is_predicting, input_ids, input_mask, segment_ids, label_ids, num_labels)\n",
        "\n",
        "      train_op = bert.optimization.create_optimizer(\n",
        "          loss, learning_rate, num_train_steps, num_warmup_steps, use_tpu=False)\n",
        "\n",
        "      # Calculate evaluation metrics. \n",
        "      def metric_fn(label_ids, predicted_labels):\n",
        "        accuracy = tf.metrics.accuracy(label_ids, predicted_labels)\n",
        "        true_pos = tf.metrics.true_positives(\n",
        "            label_ids,\n",
        "            predicted_labels)\n",
        "        true_neg = tf.metrics.true_negatives(\n",
        "            label_ids,\n",
        "            predicted_labels)   \n",
        "        false_pos = tf.metrics.false_positives(\n",
        "            label_ids,\n",
        "            predicted_labels)  \n",
        "        false_neg = tf.metrics.false_negatives(\n",
        "            label_ids,\n",
        "            predicted_labels)\n",
        "        \n",
        "        return {\n",
        "            \"eval_accuracy\": accuracy,\n",
        "            \"true_positives\": true_pos,\n",
        "            \"true_negatives\": true_neg,\n",
        "            \"false_positives\": false_pos,\n",
        "            \"false_negatives\": false_neg\n",
        "            }\n",
        "\n",
        "      eval_metrics = metric_fn(label_ids, predicted_labels)\n",
        "\n",
        "      if mode == tf.estimator.ModeKeys.TRAIN:\n",
        "        return tf.estimator.EstimatorSpec(mode=mode,\n",
        "          loss=loss,\n",
        "          train_op=train_op)\n",
        "      else:\n",
        "          return tf.estimator.EstimatorSpec(mode=mode,\n",
        "            loss=loss,\n",
        "            eval_metric_ops=eval_metrics)\n",
        "    else:\n",
        "      (predicted_labels, log_probs) = create_model(\n",
        "        is_predicting, input_ids, input_mask, segment_ids, label_ids, num_labels)\n",
        "\n",
        "      predictions = {\n",
        "          'probabilities': log_probs,\n",
        "          'labels': predicted_labels\n",
        "      }\n",
        "      return tf.estimator.EstimatorSpec(mode, predictions=predictions)\n",
        "\n",
        "  # Return the actual model function in the closure\n",
        "  return model_fn"
      ],
      "metadata": {
        "id": "IU4ph7mIAZfJ"
      },
      "execution_count": null,
      "outputs": []
    },
    {
      "cell_type": "code",
      "source": [
        "# Compute train and warmup steps from batch size\n",
        "# These hyperparameters are copied from this colab notebook (https://colab.sandbox.google.com/github/tensorflow/tpu/blob/master/tools/colab/bert_finetuning_with_cloud_tpus.ipynb)\n",
        "BATCH_SIZE = 32\n",
        "LEARNING_RATE = 2e-5\n",
        "NUM_TRAIN_EPOCHS = 3.0\n",
        "# Warmup is a period of time where the learning rate is small and gradually increases--usually helps training.\n",
        "WARMUP_PROPORTION = 0.1\n",
        "# Model configs\n",
        "SAVE_CHECKPOINTS_STEPS = 300\n",
        "SAVE_SUMMARY_STEPS = 100\n",
        "\n",
        "# Compute train and warmup steps from batch size\n",
        "num_train_steps = int(len(train_features) / BATCH_SIZE * NUM_TRAIN_EPOCHS)\n",
        "num_warmup_steps = int(num_train_steps * WARMUP_PROPORTION)\n",
        "\n",
        "# Specify output directory and number of checkpoint steps to save\n",
        "run_config = tf.estimator.RunConfig(\n",
        "    model_dir=OUTPUT_DIR,\n",
        "    save_summary_steps=SAVE_SUMMARY_STEPS,\n",
        "    save_checkpoints_steps=SAVE_CHECKPOINTS_STEPS)\n",
        "\n",
        "# Specify output directory and number of checkpoint steps to save\n",
        "run_config = tf.estimator.RunConfig(\n",
        "    model_dir=OUTPUT_DIR,\n",
        "    save_summary_steps=SAVE_SUMMARY_STEPS,\n",
        "    save_checkpoints_steps=SAVE_CHECKPOINTS_STEPS)"
      ],
      "metadata": {
        "id": "ZGAu_uOgAgNU"
      },
      "execution_count": null,
      "outputs": []
    },
    {
      "cell_type": "code",
      "source": [
        "#Initializing the model and the estimator\n",
        "model_fn = model_fn_builder(\n",
        "  num_labels=len(label_list),\n",
        "  learning_rate=LEARNING_RATE,\n",
        "  num_train_steps=num_train_steps,\n",
        "  num_warmup_steps=num_warmup_steps)\n",
        "\n",
        "estimator = tf.estimator.Estimator(\n",
        "  model_fn=model_fn,\n",
        "  config=run_config,\n",
        "  params={\"batch_size\": BATCH_SIZE})"
      ],
      "metadata": {
        "colab": {
          "base_uri": "https://localhost:8080/"
        },
        "id": "zV091U5bApPC",
        "outputId": "446d9203-a74e-4a45-9d5e-f58e2f13a11a"
      },
      "execution_count": null,
      "outputs": [
        {
          "output_type": "stream",
          "name": "stdout",
          "text": [
            "INFO:tensorflow:Using config: {'_model_dir': '/GD/My Drive/Colab Notebooks/BERT/bert_fandom_category', '_tf_random_seed': None, '_save_summary_steps': 100, '_save_checkpoints_steps': 300, '_save_checkpoints_secs': None, '_session_config': allow_soft_placement: true\n",
            "graph_options {\n",
            "  rewrite_options {\n",
            "    meta_optimizer_iterations: ONE\n",
            "  }\n",
            "}\n",
            ", '_keep_checkpoint_max': 5, '_keep_checkpoint_every_n_hours': 10000, '_log_step_count_steps': 100, '_train_distribute': None, '_device_fn': None, '_protocol': None, '_eval_distribute': None, '_experimental_distribute': None, '_experimental_max_worker_delay_secs': None, '_session_creation_timeout_secs': 7200, '_service': None, '_cluster_spec': <tensorflow.python.training.server_lib.ClusterSpec object at 0x7f04f347b050>, '_task_type': 'worker', '_task_id': 0, '_global_id_in_cluster': 0, '_master': '', '_evaluation_master': '', '_is_chief': True, '_num_ps_replicas': 0, '_num_worker_replicas': 1}\n"
          ]
        },
        {
          "output_type": "stream",
          "name": "stderr",
          "text": [
            "INFO:tensorflow:Using config: {'_model_dir': '/GD/My Drive/Colab Notebooks/BERT/bert_fandom_category', '_tf_random_seed': None, '_save_summary_steps': 100, '_save_checkpoints_steps': 300, '_save_checkpoints_secs': None, '_session_config': allow_soft_placement: true\n",
            "graph_options {\n",
            "  rewrite_options {\n",
            "    meta_optimizer_iterations: ONE\n",
            "  }\n",
            "}\n",
            ", '_keep_checkpoint_max': 5, '_keep_checkpoint_every_n_hours': 10000, '_log_step_count_steps': 100, '_train_distribute': None, '_device_fn': None, '_protocol': None, '_eval_distribute': None, '_experimental_distribute': None, '_experimental_max_worker_delay_secs': None, '_session_creation_timeout_secs': 7200, '_service': None, '_cluster_spec': <tensorflow.python.training.server_lib.ClusterSpec object at 0x7f04f347b050>, '_task_type': 'worker', '_task_id': 0, '_global_id_in_cluster': 0, '_master': '', '_evaluation_master': '', '_is_chief': True, '_num_ps_replicas': 0, '_num_worker_replicas': 1}\n"
          ]
        }
      ]
    },
    {
      "cell_type": "markdown",
      "source": [
        "we will now create an input builder function that takes our training feature set (train_features) and produces a generator. This is a pretty standard design pattern for working with Tensorflow Estimators."
      ],
      "metadata": {
        "id": "-ya4VGpfAuHk"
      }
    },
    {
      "cell_type": "code",
      "source": [
        "# Create an input function for training. drop_remainder = True for using TPUs.\n",
        "train_input_fn = bert.run_classifier.input_fn_builder(\n",
        "    features=train_features,\n",
        "    seq_length=MAX_SEQ_LENGTH,\n",
        "    is_training=True,\n",
        "    drop_remainder=False)\n",
        "\n",
        "# Create an input function for validating. drop_remainder = True for using TPUs.\n",
        "val_input_fn = run_classifier.input_fn_builder(\n",
        "    features=val_features,\n",
        "    seq_length=MAX_SEQ_LENGTH,\n",
        "    is_training=False,\n",
        "    drop_remainder=False)"
      ],
      "metadata": {
        "id": "vvEEZ6_EAqbu"
      },
      "execution_count": null,
      "outputs": []
    },
    {
      "cell_type": "code",
      "source": [
        "#Training the model\n",
        "print(f'Beginning Training!')\n",
        "current_time = datetime.now()\n",
        "estimator.train(input_fn=train_input_fn, max_steps=num_train_steps)\n",
        "print(\"Training took time \", datetime.now() - current_time)"
      ],
      "metadata": {
        "colab": {
          "base_uri": "https://localhost:8080/"
        },
        "id": "PxyZixL9AxKv",
        "outputId": "75c27e29-675d-47fb-e27a-08305154279e"
      },
      "execution_count": null,
      "outputs": [
        {
          "output_type": "stream",
          "name": "stdout",
          "text": [
            "Beginning Training!\n",
            "INFO:tensorflow:Skipping training since max_steps has already saved.\n"
          ]
        },
        {
          "output_type": "stream",
          "name": "stderr",
          "text": [
            "INFO:tensorflow:Skipping training since max_steps has already saved.\n"
          ]
        },
        {
          "output_type": "stream",
          "name": "stdout",
          "text": [
            "Training took time  0:00:00.077096\n"
          ]
        }
      ]
    },
    {
      "cell_type": "code",
      "source": [
        "#Evaluating the model with Validation set\n",
        "estimator.evaluate(input_fn=val_input_fn, steps=None)"
      ],
      "metadata": {
        "colab": {
          "base_uri": "https://localhost:8080/"
        },
        "id": "HC1xMRbJBySc",
        "outputId": "7bf29716-f6b8-4fe6-d163-104779508a30"
      },
      "execution_count": null,
      "outputs": [
        {
          "output_type": "stream",
          "name": "stdout",
          "text": [
            "INFO:tensorflow:Calling model_fn.\n"
          ]
        },
        {
          "output_type": "stream",
          "name": "stderr",
          "text": [
            "INFO:tensorflow:Calling model_fn.\n"
          ]
        },
        {
          "output_type": "stream",
          "name": "stdout",
          "text": [
            "INFO:tensorflow:Saver not created because there are no variables in the graph to restore\n"
          ]
        },
        {
          "output_type": "stream",
          "name": "stderr",
          "text": [
            "INFO:tensorflow:Saver not created because there are no variables in the graph to restore\n"
          ]
        },
        {
          "output_type": "stream",
          "name": "stdout",
          "text": [
            "WARNING:tensorflow:From <ipython-input-46-bdfb628bf45b>:33: calling dropout (from tensorflow.python.ops.nn_ops) with keep_prob is deprecated and will be removed in a future version.\n",
            "Instructions for updating:\n",
            "Please use `rate` instead of `keep_prob`. Rate should be set to `rate = 1 - keep_prob`.\n"
          ]
        },
        {
          "output_type": "stream",
          "name": "stderr",
          "text": [
            "WARNING:tensorflow:From <ipython-input-46-bdfb628bf45b>:33: calling dropout (from tensorflow.python.ops.nn_ops) with keep_prob is deprecated and will be removed in a future version.\n",
            "Instructions for updating:\n",
            "Please use `rate` instead of `keep_prob`. Rate should be set to `rate = 1 - keep_prob`.\n"
          ]
        },
        {
          "output_type": "stream",
          "name": "stdout",
          "text": [
            "WARNING:tensorflow:From /usr/local/lib/python3.7/dist-packages/bert/optimization.py:27: The name tf.train.get_or_create_global_step is deprecated. Please use tf.compat.v1.train.get_or_create_global_step instead.\n",
            "\n"
          ]
        },
        {
          "output_type": "stream",
          "name": "stderr",
          "text": [
            "WARNING:tensorflow:From /usr/local/lib/python3.7/dist-packages/bert/optimization.py:27: The name tf.train.get_or_create_global_step is deprecated. Please use tf.compat.v1.train.get_or_create_global_step instead.\n",
            "\n"
          ]
        },
        {
          "output_type": "stream",
          "name": "stdout",
          "text": [
            "WARNING:tensorflow:From /usr/local/lib/python3.7/dist-packages/bert/optimization.py:32: The name tf.train.polynomial_decay is deprecated. Please use tf.compat.v1.train.polynomial_decay instead.\n",
            "\n"
          ]
        },
        {
          "output_type": "stream",
          "name": "stderr",
          "text": [
            "WARNING:tensorflow:From /usr/local/lib/python3.7/dist-packages/bert/optimization.py:32: The name tf.train.polynomial_decay is deprecated. Please use tf.compat.v1.train.polynomial_decay instead.\n",
            "\n"
          ]
        },
        {
          "output_type": "stream",
          "name": "stdout",
          "text": [
            "WARNING:tensorflow:From /usr/local/lib/python3.7/dist-packages/bert/optimization.py:70: The name tf.trainable_variables is deprecated. Please use tf.compat.v1.trainable_variables instead.\n",
            "\n"
          ]
        },
        {
          "output_type": "stream",
          "name": "stderr",
          "text": [
            "WARNING:tensorflow:From /usr/local/lib/python3.7/dist-packages/bert/optimization.py:70: The name tf.trainable_variables is deprecated. Please use tf.compat.v1.trainable_variables instead.\n",
            "\n"
          ]
        },
        {
          "output_type": "stream",
          "name": "stdout",
          "text": [
            "WARNING:tensorflow:From /tensorflow-1.15.2/python3.7/tensorflow_core/python/ops/math_grad.py:1375: where (from tensorflow.python.ops.array_ops) is deprecated and will be removed in a future version.\n",
            "Instructions for updating:\n",
            "Use tf.where in 2.0, which has the same broadcast rule as np.where\n"
          ]
        },
        {
          "output_type": "stream",
          "name": "stderr",
          "text": [
            "WARNING:tensorflow:From /tensorflow-1.15.2/python3.7/tensorflow_core/python/ops/math_grad.py:1375: where (from tensorflow.python.ops.array_ops) is deprecated and will be removed in a future version.\n",
            "Instructions for updating:\n",
            "Use tf.where in 2.0, which has the same broadcast rule as np.where\n",
            "/tensorflow-1.15.2/python3.7/tensorflow_core/python/framework/indexed_slices.py:424: UserWarning: Converting sparse IndexedSlices to a dense Tensor of unknown shape. This may consume a large amount of memory.\n",
            "  \"Converting sparse IndexedSlices to a dense Tensor of unknown shape. \"\n"
          ]
        },
        {
          "output_type": "stream",
          "name": "stdout",
          "text": [
            "INFO:tensorflow:Done calling model_fn.\n"
          ]
        },
        {
          "output_type": "stream",
          "name": "stderr",
          "text": [
            "INFO:tensorflow:Done calling model_fn.\n"
          ]
        },
        {
          "output_type": "stream",
          "name": "stdout",
          "text": [
            "INFO:tensorflow:Starting evaluation at 2022-04-21T03:22:29Z\n"
          ]
        },
        {
          "output_type": "stream",
          "name": "stderr",
          "text": [
            "INFO:tensorflow:Starting evaluation at 2022-04-21T03:22:29Z\n"
          ]
        },
        {
          "output_type": "stream",
          "name": "stdout",
          "text": [
            "INFO:tensorflow:Graph was finalized.\n"
          ]
        },
        {
          "output_type": "stream",
          "name": "stderr",
          "text": [
            "INFO:tensorflow:Graph was finalized.\n"
          ]
        },
        {
          "output_type": "stream",
          "name": "stdout",
          "text": [
            "INFO:tensorflow:Restoring parameters from /GD/My Drive/Colab Notebooks/BERT/bert_fandom_category/model.ckpt-16\n"
          ]
        },
        {
          "output_type": "stream",
          "name": "stderr",
          "text": [
            "INFO:tensorflow:Restoring parameters from /GD/My Drive/Colab Notebooks/BERT/bert_fandom_category/model.ckpt-16\n"
          ]
        },
        {
          "output_type": "stream",
          "name": "stdout",
          "text": [
            "INFO:tensorflow:Running local_init_op.\n"
          ]
        },
        {
          "output_type": "stream",
          "name": "stderr",
          "text": [
            "INFO:tensorflow:Running local_init_op.\n"
          ]
        },
        {
          "output_type": "stream",
          "name": "stdout",
          "text": [
            "INFO:tensorflow:Done running local_init_op.\n"
          ]
        },
        {
          "output_type": "stream",
          "name": "stderr",
          "text": [
            "INFO:tensorflow:Done running local_init_op.\n"
          ]
        },
        {
          "output_type": "stream",
          "name": "stdout",
          "text": [
            "INFO:tensorflow:Finished evaluation at 2022-04-21-03:22:43\n"
          ]
        },
        {
          "output_type": "stream",
          "name": "stderr",
          "text": [
            "INFO:tensorflow:Finished evaluation at 2022-04-21-03:22:43\n"
          ]
        },
        {
          "output_type": "stream",
          "name": "stdout",
          "text": [
            "INFO:tensorflow:Saving dict for global step 16: eval_accuracy = 0.6818182, false_negatives = 1.0, false_positives = 5.0, global_step = 16, loss = 1.1181014, true_negatives = 3.0, true_positives = 35.0\n"
          ]
        },
        {
          "output_type": "stream",
          "name": "stderr",
          "text": [
            "INFO:tensorflow:Saving dict for global step 16: eval_accuracy = 0.6818182, false_negatives = 1.0, false_positives = 5.0, global_step = 16, loss = 1.1181014, true_negatives = 3.0, true_positives = 35.0\n"
          ]
        },
        {
          "output_type": "stream",
          "name": "stdout",
          "text": [
            "INFO:tensorflow:Saving 'checkpoint_path' summary for global step 16: /GD/My Drive/Colab Notebooks/BERT/bert_fandom_category/model.ckpt-16\n"
          ]
        },
        {
          "output_type": "stream",
          "name": "stderr",
          "text": [
            "INFO:tensorflow:Saving 'checkpoint_path' summary for global step 16: /GD/My Drive/Colab Notebooks/BERT/bert_fandom_category/model.ckpt-16\n"
          ]
        },
        {
          "output_type": "execute_result",
          "data": {
            "text/plain": [
              "{'eval_accuracy': 0.6818182,\n",
              " 'false_negatives': 1.0,\n",
              " 'false_positives': 5.0,\n",
              " 'global_step': 16,\n",
              " 'loss': 1.1181014,\n",
              " 'true_negatives': 3.0,\n",
              " 'true_positives': 35.0}"
            ]
          },
          "metadata": {},
          "execution_count": 52
        }
      ]
    },
    {
      "cell_type": "markdown",
      "source": [
        "We got an evaluation accuracy of 43% with 128 tokens on the validation set by just having trained the model for 3 epochs and a few hundred steps. \n",
        "\n",
        "I think I need to do more tokens. Increase to 250 tokens\n",
        "Okay now it got 49% percent ooop\n",
        "\n",
        "I Increase to 512 which is the max tokens and it go 54%. Hmm maybe having context is not helpful. Or this just not enough ...tokens to classify :(\n",
        "\n",
        "Okay now it's 56% eval accuracy with 3 epochs? I wonder if running multiple times makes it better? loss is 1.15"
      ],
      "metadata": {
        "id": "NjwdNAo4FzNz"
      }
    },
    {
      "cell_type": "markdown",
      "source": [
        "I guess I can test it on the rating.csv...\n",
        "but it's not only ... sherlock , james bond, harry potter, and six of crows. \n"
      ],
      "metadata": {
        "id": "SIMZW0fWKJ-3"
      }
    },
    {
      "cell_type": "code",
      "source": [
        "    # 'Six of Crows Series - Leigh Bardugo': 0,\n",
        "    # 'Sherlock (TV)': 1,\n",
        "    # 'James Bond (Craig Movies)': 2,\n",
        "    # 'Harry Potter - J. K. Rowling': 3,\n",
        "\n",
        "# A method to get predictions\n",
        "def getPrediction(in_sentences):\n",
        "  #A list to map the actual labels to the predictions\n",
        "  labels = ['Six of Crows Series - Leigh Bardugo', 'Sherlock (TV)','James Bond (Craig Movies)','Harry Potter - J. K. Rowling']\n",
        "\n",
        "  #Transforming the test data into BERT accepted form\n",
        "  input_examples = [run_classifier.InputExample(guid=\"\", text_a = x, text_b = None, label = 0) for x in in_sentences] \n",
        "  \n",
        "  #Creating input features for Test data\n",
        "  input_features = run_classifier.convert_examples_to_features(input_examples, label_list, MAX_SEQ_LENGTH, tokenizer)\n",
        "\n",
        "  #Predicting the classes \n",
        "  predict_input_fn = run_classifier.input_fn_builder(features=input_features, seq_length=MAX_SEQ_LENGTH, is_training=False, drop_remainder=False)\n",
        "  predictions = estimator.predict(predict_input_fn)\n",
        "  return [(sentence, prediction['probabilities'],prediction['labels'], labels[prediction['labels']]) for sentence, prediction in zip(in_sentences, predictions)]"
      ],
      "metadata": {
        "id": "wSG7rdI_FyZR"
      },
      "execution_count": null,
      "outputs": []
    },
    {
      "cell_type": "code",
      "source": [
        "pred_sentences = list(test['body'])"
      ],
      "metadata": {
        "id": "K0XntFLEKwOK"
      },
      "execution_count": null,
      "outputs": []
    },
    {
      "cell_type": "code",
      "source": [
        "predictions = getPrediction(pred_sentences)"
      ],
      "metadata": {
        "colab": {
          "base_uri": "https://localhost:8080/"
        },
        "id": "ViMkGG48KzIk",
        "outputId": "0e2514f6-e726-4be6-906b-fe7055d7091c"
      },
      "execution_count": null,
      "outputs": [
        {
          "output_type": "stream",
          "name": "stdout",
          "text": [
            "INFO:tensorflow:Writing example 0 of 505\n"
          ]
        },
        {
          "output_type": "stream",
          "name": "stderr",
          "text": [
            "INFO:tensorflow:Writing example 0 of 505\n"
          ]
        },
        {
          "output_type": "stream",
          "name": "stdout",
          "text": [
            "INFO:tensorflow:*** Example ***\n"
          ]
        },
        {
          "output_type": "stream",
          "name": "stderr",
          "text": [
            "INFO:tensorflow:*** Example ***\n"
          ]
        },
        {
          "output_type": "stream",
          "name": "stdout",
          "text": [
            "INFO:tensorflow:guid: \n"
          ]
        },
        {
          "output_type": "stream",
          "name": "stderr",
          "text": [
            "INFO:tensorflow:guid: \n"
          ]
        },
        {
          "output_type": "stream",
          "name": "stdout",
          "text": [
            "INFO:tensorflow:tokens: [CLS] notes : ny ##asa ##saurus pi ##rring ##ton ##i is believed to have walked the earth in the middle triassic era , which is about 243 million years ago . its fossils were found in tanzania near lake ny ##asa , and the name ny ##asa ##saurus means lake ny ##asa lizard . source : smith ##son ##ia magazine . \" doc , it looks like we have to take action , the muscle movements in his heart are getting weaker if we force the heart to pump more , the muscle work will be more forced and can leak \" i can see professor jack ' s worried expression , we ' ve been in the operating room for five hours trying to save a patient with heart failure . this should have been a normal operation to install a pace ##maker but ended up being a major operation due to abnormal muscle work i gave some opinions to professor jack as the head of surgery , i knew he was in need of some opinions because on his face he looked like a confused person . i admit he is a card ##iol ##ogist in this country but this is a very sudden and complicated case , i myself am only an assistant who can only help him . i looked at the camera which was pointing at the organ that was beating so fast , the movement was abnormal and seemed to have to slow down with each beat . i gave professor jack some advice and he started to understand what i meant . he asked me to take over and start installing some devices to slow down the speed of the heart muscle and seal off some of the parts that looked like they were going to leak and my suggestion worked . we can all breathe easy , even though the heart can ' t go back to normal as usual , at least the function can be used again . professor jack gave me a satisfied smile , and he asked me to stitch up the post ##oper ##ative wound . five stress ##ful hours had passed and we were all finally out of the operating room . i walked out taking off the scrub and washing my hands which were covered in blood and professor jack was standing next to me doing the same . \" after this please come to my office , i want to give you an important task \" said professor jack walking past me while patting my back lightly it ' s been a year since my official appointment as a doctor , actually i had plans to take up a specialist but i guess i ' ll have to put it off because i ' m starting to enjoy my job now . professor jack ' s office is on the top floor of this hospital , he is a legendary doctor and even sits as the chair of the executive director . several times i [SEP]\n"
          ]
        },
        {
          "output_type": "stream",
          "name": "stderr",
          "text": [
            "INFO:tensorflow:tokens: [CLS] notes : ny ##asa ##saurus pi ##rring ##ton ##i is believed to have walked the earth in the middle triassic era , which is about 243 million years ago . its fossils were found in tanzania near lake ny ##asa , and the name ny ##asa ##saurus means lake ny ##asa lizard . source : smith ##son ##ia magazine . \" doc , it looks like we have to take action , the muscle movements in his heart are getting weaker if we force the heart to pump more , the muscle work will be more forced and can leak \" i can see professor jack ' s worried expression , we ' ve been in the operating room for five hours trying to save a patient with heart failure . this should have been a normal operation to install a pace ##maker but ended up being a major operation due to abnormal muscle work i gave some opinions to professor jack as the head of surgery , i knew he was in need of some opinions because on his face he looked like a confused person . i admit he is a card ##iol ##ogist in this country but this is a very sudden and complicated case , i myself am only an assistant who can only help him . i looked at the camera which was pointing at the organ that was beating so fast , the movement was abnormal and seemed to have to slow down with each beat . i gave professor jack some advice and he started to understand what i meant . he asked me to take over and start installing some devices to slow down the speed of the heart muscle and seal off some of the parts that looked like they were going to leak and my suggestion worked . we can all breathe easy , even though the heart can ' t go back to normal as usual , at least the function can be used again . professor jack gave me a satisfied smile , and he asked me to stitch up the post ##oper ##ative wound . five stress ##ful hours had passed and we were all finally out of the operating room . i walked out taking off the scrub and washing my hands which were covered in blood and professor jack was standing next to me doing the same . \" after this please come to my office , i want to give you an important task \" said professor jack walking past me while patting my back lightly it ' s been a year since my official appointment as a doctor , actually i had plans to take up a specialist but i guess i ' ll have to put it off because i ' m starting to enjoy my job now . professor jack ' s office is on the top floor of this hospital , he is a legendary doctor and even sits as the chair of the executive director . several times i [SEP]\n"
          ]
        },
        {
          "output_type": "stream",
          "name": "stdout",
          "text": [
            "INFO:tensorflow:input_ids: 101 3964 1024 6396 16782 22244 14255 18807 2669 2072 2003 3373 2000 2031 2939 1996 3011 1999 1996 2690 29529 3690 1010 2029 2003 2055 22884 2454 2086 3283 1012 2049 11954 2020 2179 1999 11959 2379 2697 6396 16782 1010 1998 1996 2171 6396 16782 22244 2965 2697 6396 16782 15450 1012 3120 1024 3044 3385 2401 2932 1012 1000 9986 1010 2009 3504 2066 2057 2031 2000 2202 2895 1010 1996 6740 5750 1999 2010 2540 2024 2893 15863 2065 2057 2486 1996 2540 2000 10216 2062 1010 1996 6740 2147 2097 2022 2062 3140 1998 2064 17271 1000 1045 2064 2156 2934 2990 1005 1055 5191 3670 1010 2057 1005 2310 2042 1999 1996 4082 2282 2005 2274 2847 2667 2000 3828 1037 5776 2007 2540 4945 1012 2023 2323 2031 2042 1037 3671 3169 2000 16500 1037 6393 8571 2021 3092 2039 2108 1037 2350 3169 2349 2000 19470 6740 2147 1045 2435 2070 10740 2000 2934 2990 2004 1996 2132 1997 5970 1010 1045 2354 2002 2001 1999 2342 1997 2070 10740 2138 2006 2010 2227 2002 2246 2066 1037 5457 2711 1012 1045 6449 2002 2003 1037 4003 20282 22522 1999 2023 2406 2021 2023 2003 1037 2200 5573 1998 8552 2553 1010 1045 2870 2572 2069 2019 3353 2040 2064 2069 2393 2032 1012 1045 2246 2012 1996 4950 2029 2001 7302 2012 1996 5812 2008 2001 6012 2061 3435 1010 1996 2929 2001 19470 1998 2790 2000 2031 2000 4030 2091 2007 2169 3786 1012 1045 2435 2934 2990 2070 6040 1998 2002 2318 2000 3305 2054 1045 3214 1012 2002 2356 2033 2000 2202 2058 1998 2707 23658 2070 5733 2000 4030 2091 1996 3177 1997 1996 2540 6740 1998 7744 2125 2070 1997 1996 3033 2008 2246 2066 2027 2020 2183 2000 17271 1998 2026 10293 2499 1012 2057 2064 2035 7200 3733 1010 2130 2295 1996 2540 2064 1005 1056 2175 2067 2000 3671 2004 5156 1010 2012 2560 1996 3853 2064 2022 2109 2153 1012 2934 2990 2435 2033 1037 8510 2868 1010 1998 2002 2356 2033 2000 26035 2039 1996 2695 25918 8082 6357 1012 2274 6911 3993 2847 2018 2979 1998 2057 2020 2035 2633 2041 1997 1996 4082 2282 1012 1045 2939 2041 2635 2125 1996 18157 1998 12699 2026 2398 2029 2020 3139 1999 2668 1998 2934 2990 2001 3061 2279 2000 2033 2725 1996 2168 1012 1000 2044 2023 3531 2272 2000 2026 2436 1010 1045 2215 2000 2507 2017 2019 2590 4708 1000 2056 2934 2990 3788 2627 2033 2096 26085 2026 2067 8217 2009 1005 1055 2042 1037 2095 2144 2026 2880 6098 2004 1037 3460 1010 2941 1045 2018 3488 2000 2202 2039 1037 8325 2021 1045 3984 1045 1005 2222 2031 2000 2404 2009 2125 2138 1045 1005 1049 3225 2000 5959 2026 3105 2085 1012 2934 2990 1005 1055 2436 2003 2006 1996 2327 2723 1997 2023 2902 1010 2002 2003 1037 8987 3460 1998 2130 7719 2004 1996 3242 1997 1996 3237 2472 1012 2195 2335 1045 102\n"
          ]
        },
        {
          "output_type": "stream",
          "name": "stderr",
          "text": [
            "INFO:tensorflow:input_ids: 101 3964 1024 6396 16782 22244 14255 18807 2669 2072 2003 3373 2000 2031 2939 1996 3011 1999 1996 2690 29529 3690 1010 2029 2003 2055 22884 2454 2086 3283 1012 2049 11954 2020 2179 1999 11959 2379 2697 6396 16782 1010 1998 1996 2171 6396 16782 22244 2965 2697 6396 16782 15450 1012 3120 1024 3044 3385 2401 2932 1012 1000 9986 1010 2009 3504 2066 2057 2031 2000 2202 2895 1010 1996 6740 5750 1999 2010 2540 2024 2893 15863 2065 2057 2486 1996 2540 2000 10216 2062 1010 1996 6740 2147 2097 2022 2062 3140 1998 2064 17271 1000 1045 2064 2156 2934 2990 1005 1055 5191 3670 1010 2057 1005 2310 2042 1999 1996 4082 2282 2005 2274 2847 2667 2000 3828 1037 5776 2007 2540 4945 1012 2023 2323 2031 2042 1037 3671 3169 2000 16500 1037 6393 8571 2021 3092 2039 2108 1037 2350 3169 2349 2000 19470 6740 2147 1045 2435 2070 10740 2000 2934 2990 2004 1996 2132 1997 5970 1010 1045 2354 2002 2001 1999 2342 1997 2070 10740 2138 2006 2010 2227 2002 2246 2066 1037 5457 2711 1012 1045 6449 2002 2003 1037 4003 20282 22522 1999 2023 2406 2021 2023 2003 1037 2200 5573 1998 8552 2553 1010 1045 2870 2572 2069 2019 3353 2040 2064 2069 2393 2032 1012 1045 2246 2012 1996 4950 2029 2001 7302 2012 1996 5812 2008 2001 6012 2061 3435 1010 1996 2929 2001 19470 1998 2790 2000 2031 2000 4030 2091 2007 2169 3786 1012 1045 2435 2934 2990 2070 6040 1998 2002 2318 2000 3305 2054 1045 3214 1012 2002 2356 2033 2000 2202 2058 1998 2707 23658 2070 5733 2000 4030 2091 1996 3177 1997 1996 2540 6740 1998 7744 2125 2070 1997 1996 3033 2008 2246 2066 2027 2020 2183 2000 17271 1998 2026 10293 2499 1012 2057 2064 2035 7200 3733 1010 2130 2295 1996 2540 2064 1005 1056 2175 2067 2000 3671 2004 5156 1010 2012 2560 1996 3853 2064 2022 2109 2153 1012 2934 2990 2435 2033 1037 8510 2868 1010 1998 2002 2356 2033 2000 26035 2039 1996 2695 25918 8082 6357 1012 2274 6911 3993 2847 2018 2979 1998 2057 2020 2035 2633 2041 1997 1996 4082 2282 1012 1045 2939 2041 2635 2125 1996 18157 1998 12699 2026 2398 2029 2020 3139 1999 2668 1998 2934 2990 2001 3061 2279 2000 2033 2725 1996 2168 1012 1000 2044 2023 3531 2272 2000 2026 2436 1010 1045 2215 2000 2507 2017 2019 2590 4708 1000 2056 2934 2990 3788 2627 2033 2096 26085 2026 2067 8217 2009 1005 1055 2042 1037 2095 2144 2026 2880 6098 2004 1037 3460 1010 2941 1045 2018 3488 2000 2202 2039 1037 8325 2021 1045 3984 1045 1005 2222 2031 2000 2404 2009 2125 2138 1045 1005 1049 3225 2000 5959 2026 3105 2085 1012 2934 2990 1005 1055 2436 2003 2006 1996 2327 2723 1997 2023 2902 1010 2002 2003 1037 8987 3460 1998 2130 7719 2004 1996 3242 1997 1996 3237 2472 1012 2195 2335 1045 102\n"
          ]
        },
        {
          "output_type": "stream",
          "name": "stdout",
          "text": [
            "INFO:tensorflow:input_mask: 1 1 1 1 1 1 1 1 1 1 1 1 1 1 1 1 1 1 1 1 1 1 1 1 1 1 1 1 1 1 1 1 1 1 1 1 1 1 1 1 1 1 1 1 1 1 1 1 1 1 1 1 1 1 1 1 1 1 1 1 1 1 1 1 1 1 1 1 1 1 1 1 1 1 1 1 1 1 1 1 1 1 1 1 1 1 1 1 1 1 1 1 1 1 1 1 1 1 1 1 1 1 1 1 1 1 1 1 1 1 1 1 1 1 1 1 1 1 1 1 1 1 1 1 1 1 1 1 1 1 1 1 1 1 1 1 1 1 1 1 1 1 1 1 1 1 1 1 1 1 1 1 1 1 1 1 1 1 1 1 1 1 1 1 1 1 1 1 1 1 1 1 1 1 1 1 1 1 1 1 1 1 1 1 1 1 1 1 1 1 1 1 1 1 1 1 1 1 1 1 1 1 1 1 1 1 1 1 1 1 1 1 1 1 1 1 1 1 1 1 1 1 1 1 1 1 1 1 1 1 1 1 1 1 1 1 1 1 1 1 1 1 1 1 1 1 1 1 1 1 1 1 1 1 1 1 1 1 1 1 1 1 1 1 1 1 1 1 1 1 1 1 1 1 1 1 1 1 1 1 1 1 1 1 1 1 1 1 1 1 1 1 1 1 1 1 1 1 1 1 1 1 1 1 1 1 1 1 1 1 1 1 1 1 1 1 1 1 1 1 1 1 1 1 1 1 1 1 1 1 1 1 1 1 1 1 1 1 1 1 1 1 1 1 1 1 1 1 1 1 1 1 1 1 1 1 1 1 1 1 1 1 1 1 1 1 1 1 1 1 1 1 1 1 1 1 1 1 1 1 1 1 1 1 1 1 1 1 1 1 1 1 1 1 1 1 1 1 1 1 1 1 1 1 1 1 1 1 1 1 1 1 1 1 1 1 1 1 1 1 1 1 1 1 1 1 1 1 1 1 1 1 1 1 1 1 1 1 1 1 1 1 1 1 1 1 1 1 1 1 1 1 1 1 1 1 1 1 1 1 1 1 1 1 1 1 1 1 1 1 1 1 1 1 1 1 1 1 1 1 1 1 1 1 1 1 1 1 1 1 1 1 1 1 1 1 1 1 1 1 1 1 1 1 1 1 1 1 1 1 1 1\n"
          ]
        },
        {
          "output_type": "stream",
          "name": "stderr",
          "text": [
            "INFO:tensorflow:input_mask: 1 1 1 1 1 1 1 1 1 1 1 1 1 1 1 1 1 1 1 1 1 1 1 1 1 1 1 1 1 1 1 1 1 1 1 1 1 1 1 1 1 1 1 1 1 1 1 1 1 1 1 1 1 1 1 1 1 1 1 1 1 1 1 1 1 1 1 1 1 1 1 1 1 1 1 1 1 1 1 1 1 1 1 1 1 1 1 1 1 1 1 1 1 1 1 1 1 1 1 1 1 1 1 1 1 1 1 1 1 1 1 1 1 1 1 1 1 1 1 1 1 1 1 1 1 1 1 1 1 1 1 1 1 1 1 1 1 1 1 1 1 1 1 1 1 1 1 1 1 1 1 1 1 1 1 1 1 1 1 1 1 1 1 1 1 1 1 1 1 1 1 1 1 1 1 1 1 1 1 1 1 1 1 1 1 1 1 1 1 1 1 1 1 1 1 1 1 1 1 1 1 1 1 1 1 1 1 1 1 1 1 1 1 1 1 1 1 1 1 1 1 1 1 1 1 1 1 1 1 1 1 1 1 1 1 1 1 1 1 1 1 1 1 1 1 1 1 1 1 1 1 1 1 1 1 1 1 1 1 1 1 1 1 1 1 1 1 1 1 1 1 1 1 1 1 1 1 1 1 1 1 1 1 1 1 1 1 1 1 1 1 1 1 1 1 1 1 1 1 1 1 1 1 1 1 1 1 1 1 1 1 1 1 1 1 1 1 1 1 1 1 1 1 1 1 1 1 1 1 1 1 1 1 1 1 1 1 1 1 1 1 1 1 1 1 1 1 1 1 1 1 1 1 1 1 1 1 1 1 1 1 1 1 1 1 1 1 1 1 1 1 1 1 1 1 1 1 1 1 1 1 1 1 1 1 1 1 1 1 1 1 1 1 1 1 1 1 1 1 1 1 1 1 1 1 1 1 1 1 1 1 1 1 1 1 1 1 1 1 1 1 1 1 1 1 1 1 1 1 1 1 1 1 1 1 1 1 1 1 1 1 1 1 1 1 1 1 1 1 1 1 1 1 1 1 1 1 1 1 1 1 1 1 1 1 1 1 1 1 1 1 1 1 1 1 1 1 1 1 1 1 1 1 1 1 1 1 1 1 1 1 1 1 1 1 1 1 1 1 1 1 1 1 1 1 1 1 1 1 1 1 1\n"
          ]
        },
        {
          "output_type": "stream",
          "name": "stdout",
          "text": [
            "INFO:tensorflow:segment_ids: 0 0 0 0 0 0 0 0 0 0 0 0 0 0 0 0 0 0 0 0 0 0 0 0 0 0 0 0 0 0 0 0 0 0 0 0 0 0 0 0 0 0 0 0 0 0 0 0 0 0 0 0 0 0 0 0 0 0 0 0 0 0 0 0 0 0 0 0 0 0 0 0 0 0 0 0 0 0 0 0 0 0 0 0 0 0 0 0 0 0 0 0 0 0 0 0 0 0 0 0 0 0 0 0 0 0 0 0 0 0 0 0 0 0 0 0 0 0 0 0 0 0 0 0 0 0 0 0 0 0 0 0 0 0 0 0 0 0 0 0 0 0 0 0 0 0 0 0 0 0 0 0 0 0 0 0 0 0 0 0 0 0 0 0 0 0 0 0 0 0 0 0 0 0 0 0 0 0 0 0 0 0 0 0 0 0 0 0 0 0 0 0 0 0 0 0 0 0 0 0 0 0 0 0 0 0 0 0 0 0 0 0 0 0 0 0 0 0 0 0 0 0 0 0 0 0 0 0 0 0 0 0 0 0 0 0 0 0 0 0 0 0 0 0 0 0 0 0 0 0 0 0 0 0 0 0 0 0 0 0 0 0 0 0 0 0 0 0 0 0 0 0 0 0 0 0 0 0 0 0 0 0 0 0 0 0 0 0 0 0 0 0 0 0 0 0 0 0 0 0 0 0 0 0 0 0 0 0 0 0 0 0 0 0 0 0 0 0 0 0 0 0 0 0 0 0 0 0 0 0 0 0 0 0 0 0 0 0 0 0 0 0 0 0 0 0 0 0 0 0 0 0 0 0 0 0 0 0 0 0 0 0 0 0 0 0 0 0 0 0 0 0 0 0 0 0 0 0 0 0 0 0 0 0 0 0 0 0 0 0 0 0 0 0 0 0 0 0 0 0 0 0 0 0 0 0 0 0 0 0 0 0 0 0 0 0 0 0 0 0 0 0 0 0 0 0 0 0 0 0 0 0 0 0 0 0 0 0 0 0 0 0 0 0 0 0 0 0 0 0 0 0 0 0 0 0 0 0 0 0 0 0 0 0 0 0 0 0 0 0 0 0 0 0 0 0 0 0 0 0 0 0 0 0 0 0 0 0 0 0 0 0 0 0 0 0 0 0 0 0 0 0 0 0 0 0 0 0 0 0 0 0\n"
          ]
        },
        {
          "output_type": "stream",
          "name": "stderr",
          "text": [
            "INFO:tensorflow:segment_ids: 0 0 0 0 0 0 0 0 0 0 0 0 0 0 0 0 0 0 0 0 0 0 0 0 0 0 0 0 0 0 0 0 0 0 0 0 0 0 0 0 0 0 0 0 0 0 0 0 0 0 0 0 0 0 0 0 0 0 0 0 0 0 0 0 0 0 0 0 0 0 0 0 0 0 0 0 0 0 0 0 0 0 0 0 0 0 0 0 0 0 0 0 0 0 0 0 0 0 0 0 0 0 0 0 0 0 0 0 0 0 0 0 0 0 0 0 0 0 0 0 0 0 0 0 0 0 0 0 0 0 0 0 0 0 0 0 0 0 0 0 0 0 0 0 0 0 0 0 0 0 0 0 0 0 0 0 0 0 0 0 0 0 0 0 0 0 0 0 0 0 0 0 0 0 0 0 0 0 0 0 0 0 0 0 0 0 0 0 0 0 0 0 0 0 0 0 0 0 0 0 0 0 0 0 0 0 0 0 0 0 0 0 0 0 0 0 0 0 0 0 0 0 0 0 0 0 0 0 0 0 0 0 0 0 0 0 0 0 0 0 0 0 0 0 0 0 0 0 0 0 0 0 0 0 0 0 0 0 0 0 0 0 0 0 0 0 0 0 0 0 0 0 0 0 0 0 0 0 0 0 0 0 0 0 0 0 0 0 0 0 0 0 0 0 0 0 0 0 0 0 0 0 0 0 0 0 0 0 0 0 0 0 0 0 0 0 0 0 0 0 0 0 0 0 0 0 0 0 0 0 0 0 0 0 0 0 0 0 0 0 0 0 0 0 0 0 0 0 0 0 0 0 0 0 0 0 0 0 0 0 0 0 0 0 0 0 0 0 0 0 0 0 0 0 0 0 0 0 0 0 0 0 0 0 0 0 0 0 0 0 0 0 0 0 0 0 0 0 0 0 0 0 0 0 0 0 0 0 0 0 0 0 0 0 0 0 0 0 0 0 0 0 0 0 0 0 0 0 0 0 0 0 0 0 0 0 0 0 0 0 0 0 0 0 0 0 0 0 0 0 0 0 0 0 0 0 0 0 0 0 0 0 0 0 0 0 0 0 0 0 0 0 0 0 0 0 0 0 0 0 0 0 0 0 0 0 0 0 0 0 0 0 0 0 0 0 0 0 0 0 0 0 0 0 0 0 0 0 0 0 0 0\n"
          ]
        },
        {
          "output_type": "stream",
          "name": "stdout",
          "text": [
            "INFO:tensorflow:label: 0 (id = 0)\n"
          ]
        },
        {
          "output_type": "stream",
          "name": "stderr",
          "text": [
            "INFO:tensorflow:label: 0 (id = 0)\n"
          ]
        },
        {
          "output_type": "stream",
          "name": "stdout",
          "text": [
            "INFO:tensorflow:*** Example ***\n"
          ]
        },
        {
          "output_type": "stream",
          "name": "stderr",
          "text": [
            "INFO:tensorflow:*** Example ***\n"
          ]
        },
        {
          "output_type": "stream",
          "name": "stdout",
          "text": [
            "INFO:tensorflow:guid: \n"
          ]
        },
        {
          "output_type": "stream",
          "name": "stderr",
          "text": [
            "INFO:tensorflow:guid: \n"
          ]
        },
        {
          "output_type": "stream",
          "name": "stdout",
          "text": [
            "INFO:tensorflow:tokens: [CLS] i opened my eyes and stared at a white ceiling . blur ##ry vision . trouble focusing . bee ##ping in the background . equipment everywhere . \" she ' s reacting to outside stimuli . showing an awareness of her surroundings . oh my god , miranda . i think she ' s waking up . \" someone said in the background . a woman walked over to me . she had mid - length black hair , pale blue eyes and was wearing a skin - tight white body ##suit with black detailing on it . she was beautiful . was this miranda ? a bee ##ping noise became more frantic in the background . \" damn it , wilson . she ' s not ready yet ! give her the se ##da ##tive ! \" miranda cha ##stis ##ed . a thick australian accent . she was in charge . what was going on here ? i reached towards miranda . begging her to tell me what was going on . she leaned in close to me . everything was so blur ##ry . like talking under water . \" shepard don ' t try to move . just lie still . try to stay calm . \" she said to me and laid my hand down next to my body . \" heart rate still climbing . brain activity is off the charts . stats pushing into the red zone . it ' s not working ! \" wilson said in a panic . bee ##ping came from me , huh ? where the hell was i ? med - bay ? alliance ? what wasn ' t working ? miranda gave wilson a deadly stare as she walked over to the monitors . \" another dose . now ! \" she commanded . i felt the comforting hands of sleep reach out and grasp me . the bee ##ping became calm ##er and more even . my eyes were heavy , and i felt more and more gr ##og ##gy . \" heart rate dropping . stats falling back into normal range . that was too close . we almost lost her . \" wilson said sounding relieved . miranda had walked over to me again and gave me a look i couldn ' t understand through the blur . \" i told you your estimates were off . run the numbers again . \" my eyes drifted from her to the ceiling again as everything went black once more . \" wake up , commander ! shepard , do you hear me ? \" i woke to a combination of a woman ' s voice and a rough shake that shook whatever i was lying on . \" get out of that bed now - this facility is under attack . \" she continued . i opened my eyes . i was still in the same room i ' d woken up in before . same white ceiling . no bee ##ping this time [SEP]\n"
          ]
        },
        {
          "output_type": "stream",
          "name": "stderr",
          "text": [
            "INFO:tensorflow:tokens: [CLS] i opened my eyes and stared at a white ceiling . blur ##ry vision . trouble focusing . bee ##ping in the background . equipment everywhere . \" she ' s reacting to outside stimuli . showing an awareness of her surroundings . oh my god , miranda . i think she ' s waking up . \" someone said in the background . a woman walked over to me . she had mid - length black hair , pale blue eyes and was wearing a skin - tight white body ##suit with black detailing on it . she was beautiful . was this miranda ? a bee ##ping noise became more frantic in the background . \" damn it , wilson . she ' s not ready yet ! give her the se ##da ##tive ! \" miranda cha ##stis ##ed . a thick australian accent . she was in charge . what was going on here ? i reached towards miranda . begging her to tell me what was going on . she leaned in close to me . everything was so blur ##ry . like talking under water . \" shepard don ' t try to move . just lie still . try to stay calm . \" she said to me and laid my hand down next to my body . \" heart rate still climbing . brain activity is off the charts . stats pushing into the red zone . it ' s not working ! \" wilson said in a panic . bee ##ping came from me , huh ? where the hell was i ? med - bay ? alliance ? what wasn ' t working ? miranda gave wilson a deadly stare as she walked over to the monitors . \" another dose . now ! \" she commanded . i felt the comforting hands of sleep reach out and grasp me . the bee ##ping became calm ##er and more even . my eyes were heavy , and i felt more and more gr ##og ##gy . \" heart rate dropping . stats falling back into normal range . that was too close . we almost lost her . \" wilson said sounding relieved . miranda had walked over to me again and gave me a look i couldn ' t understand through the blur . \" i told you your estimates were off . run the numbers again . \" my eyes drifted from her to the ceiling again as everything went black once more . \" wake up , commander ! shepard , do you hear me ? \" i woke to a combination of a woman ' s voice and a rough shake that shook whatever i was lying on . \" get out of that bed now - this facility is under attack . \" she continued . i opened my eyes . i was still in the same room i ' d woken up in before . same white ceiling . no bee ##ping this time [SEP]\n"
          ]
        },
        {
          "output_type": "stream",
          "name": "stdout",
          "text": [
            "INFO:tensorflow:input_ids: 101 1045 2441 2026 2159 1998 3592 2012 1037 2317 5894 1012 14819 2854 4432 1012 4390 7995 1012 10506 4691 1999 1996 4281 1012 3941 7249 1012 1000 2016 1005 1055 24868 2000 2648 22239 1012 4760 2019 7073 1997 2014 11301 1012 2821 2026 2643 1010 9392 1012 1045 2228 2016 1005 1055 12447 2039 1012 1000 2619 2056 1999 1996 4281 1012 1037 2450 2939 2058 2000 2033 1012 2016 2018 3054 1011 3091 2304 2606 1010 5122 2630 2159 1998 2001 4147 1037 3096 1011 4389 2317 2303 28880 2007 2304 17555 2006 2009 1012 2016 2001 3376 1012 2001 2023 9392 1029 1037 10506 4691 5005 2150 2062 15762 1999 1996 4281 1012 1000 4365 2009 1010 4267 1012 2016 1005 1055 2025 3201 2664 999 2507 2014 1996 7367 2850 6024 999 1000 9392 15775 29472 2098 1012 1037 4317 2827 9669 1012 2016 2001 1999 3715 1012 2054 2001 2183 2006 2182 1029 1045 2584 2875 9392 1012 12858 2014 2000 2425 2033 2054 2001 2183 2006 1012 2016 4016 1999 2485 2000 2033 1012 2673 2001 2061 14819 2854 1012 2066 3331 2104 2300 1012 1000 22189 2123 1005 1056 3046 2000 2693 1012 2074 4682 2145 1012 3046 2000 2994 5475 1012 1000 2016 2056 2000 2033 1998 4201 2026 2192 2091 2279 2000 2026 2303 1012 1000 2540 3446 2145 8218 1012 4167 4023 2003 2125 1996 6093 1012 26319 6183 2046 1996 2417 4224 1012 2009 1005 1055 2025 2551 999 1000 4267 2056 1999 1037 6634 1012 10506 4691 2234 2013 2033 1010 9616 1029 2073 1996 3109 2001 1045 1029 19960 1011 3016 1029 4707 1029 2054 2347 1005 1056 2551 1029 9392 2435 4267 1037 9252 6237 2004 2016 2939 2058 2000 1996 15410 1012 1000 2178 13004 1012 2085 999 1000 2016 6311 1012 1045 2371 1996 16334 2398 1997 3637 3362 2041 1998 10616 2033 1012 1996 10506 4691 2150 5475 2121 1998 2062 2130 1012 2026 2159 2020 3082 1010 1998 1045 2371 2062 1998 2062 24665 8649 6292 1012 1000 2540 3446 7510 1012 26319 4634 2067 2046 3671 2846 1012 2008 2001 2205 2485 1012 2057 2471 2439 2014 1012 1000 4267 2056 9391 7653 1012 9392 2018 2939 2058 2000 2033 2153 1998 2435 2033 1037 2298 1045 2481 1005 1056 3305 2083 1996 14819 1012 1000 1045 2409 2017 2115 10035 2020 2125 1012 2448 1996 3616 2153 1012 1000 2026 2159 10070 2013 2014 2000 1996 5894 2153 2004 2673 2253 2304 2320 2062 1012 1000 5256 2039 1010 3474 999 22189 1010 2079 2017 2963 2033 1029 1000 1045 8271 2000 1037 5257 1997 1037 2450 1005 1055 2376 1998 1037 5931 6073 2008 3184 3649 1045 2001 4688 2006 1012 1000 2131 2041 1997 2008 2793 2085 1011 2023 4322 2003 2104 2886 1012 1000 2016 2506 1012 1045 2441 2026 2159 1012 1045 2001 2145 1999 1996 2168 2282 1045 1005 1040 22795 2039 1999 2077 1012 2168 2317 5894 1012 2053 10506 4691 2023 2051 102\n"
          ]
        },
        {
          "output_type": "stream",
          "name": "stderr",
          "text": [
            "INFO:tensorflow:input_ids: 101 1045 2441 2026 2159 1998 3592 2012 1037 2317 5894 1012 14819 2854 4432 1012 4390 7995 1012 10506 4691 1999 1996 4281 1012 3941 7249 1012 1000 2016 1005 1055 24868 2000 2648 22239 1012 4760 2019 7073 1997 2014 11301 1012 2821 2026 2643 1010 9392 1012 1045 2228 2016 1005 1055 12447 2039 1012 1000 2619 2056 1999 1996 4281 1012 1037 2450 2939 2058 2000 2033 1012 2016 2018 3054 1011 3091 2304 2606 1010 5122 2630 2159 1998 2001 4147 1037 3096 1011 4389 2317 2303 28880 2007 2304 17555 2006 2009 1012 2016 2001 3376 1012 2001 2023 9392 1029 1037 10506 4691 5005 2150 2062 15762 1999 1996 4281 1012 1000 4365 2009 1010 4267 1012 2016 1005 1055 2025 3201 2664 999 2507 2014 1996 7367 2850 6024 999 1000 9392 15775 29472 2098 1012 1037 4317 2827 9669 1012 2016 2001 1999 3715 1012 2054 2001 2183 2006 2182 1029 1045 2584 2875 9392 1012 12858 2014 2000 2425 2033 2054 2001 2183 2006 1012 2016 4016 1999 2485 2000 2033 1012 2673 2001 2061 14819 2854 1012 2066 3331 2104 2300 1012 1000 22189 2123 1005 1056 3046 2000 2693 1012 2074 4682 2145 1012 3046 2000 2994 5475 1012 1000 2016 2056 2000 2033 1998 4201 2026 2192 2091 2279 2000 2026 2303 1012 1000 2540 3446 2145 8218 1012 4167 4023 2003 2125 1996 6093 1012 26319 6183 2046 1996 2417 4224 1012 2009 1005 1055 2025 2551 999 1000 4267 2056 1999 1037 6634 1012 10506 4691 2234 2013 2033 1010 9616 1029 2073 1996 3109 2001 1045 1029 19960 1011 3016 1029 4707 1029 2054 2347 1005 1056 2551 1029 9392 2435 4267 1037 9252 6237 2004 2016 2939 2058 2000 1996 15410 1012 1000 2178 13004 1012 2085 999 1000 2016 6311 1012 1045 2371 1996 16334 2398 1997 3637 3362 2041 1998 10616 2033 1012 1996 10506 4691 2150 5475 2121 1998 2062 2130 1012 2026 2159 2020 3082 1010 1998 1045 2371 2062 1998 2062 24665 8649 6292 1012 1000 2540 3446 7510 1012 26319 4634 2067 2046 3671 2846 1012 2008 2001 2205 2485 1012 2057 2471 2439 2014 1012 1000 4267 2056 9391 7653 1012 9392 2018 2939 2058 2000 2033 2153 1998 2435 2033 1037 2298 1045 2481 1005 1056 3305 2083 1996 14819 1012 1000 1045 2409 2017 2115 10035 2020 2125 1012 2448 1996 3616 2153 1012 1000 2026 2159 10070 2013 2014 2000 1996 5894 2153 2004 2673 2253 2304 2320 2062 1012 1000 5256 2039 1010 3474 999 22189 1010 2079 2017 2963 2033 1029 1000 1045 8271 2000 1037 5257 1997 1037 2450 1005 1055 2376 1998 1037 5931 6073 2008 3184 3649 1045 2001 4688 2006 1012 1000 2131 2041 1997 2008 2793 2085 1011 2023 4322 2003 2104 2886 1012 1000 2016 2506 1012 1045 2441 2026 2159 1012 1045 2001 2145 1999 1996 2168 2282 1045 1005 1040 22795 2039 1999 2077 1012 2168 2317 5894 1012 2053 10506 4691 2023 2051 102\n"
          ]
        },
        {
          "output_type": "stream",
          "name": "stdout",
          "text": [
            "INFO:tensorflow:input_mask: 1 1 1 1 1 1 1 1 1 1 1 1 1 1 1 1 1 1 1 1 1 1 1 1 1 1 1 1 1 1 1 1 1 1 1 1 1 1 1 1 1 1 1 1 1 1 1 1 1 1 1 1 1 1 1 1 1 1 1 1 1 1 1 1 1 1 1 1 1 1 1 1 1 1 1 1 1 1 1 1 1 1 1 1 1 1 1 1 1 1 1 1 1 1 1 1 1 1 1 1 1 1 1 1 1 1 1 1 1 1 1 1 1 1 1 1 1 1 1 1 1 1 1 1 1 1 1 1 1 1 1 1 1 1 1 1 1 1 1 1 1 1 1 1 1 1 1 1 1 1 1 1 1 1 1 1 1 1 1 1 1 1 1 1 1 1 1 1 1 1 1 1 1 1 1 1 1 1 1 1 1 1 1 1 1 1 1 1 1 1 1 1 1 1 1 1 1 1 1 1 1 1 1 1 1 1 1 1 1 1 1 1 1 1 1 1 1 1 1 1 1 1 1 1 1 1 1 1 1 1 1 1 1 1 1 1 1 1 1 1 1 1 1 1 1 1 1 1 1 1 1 1 1 1 1 1 1 1 1 1 1 1 1 1 1 1 1 1 1 1 1 1 1 1 1 1 1 1 1 1 1 1 1 1 1 1 1 1 1 1 1 1 1 1 1 1 1 1 1 1 1 1 1 1 1 1 1 1 1 1 1 1 1 1 1 1 1 1 1 1 1 1 1 1 1 1 1 1 1 1 1 1 1 1 1 1 1 1 1 1 1 1 1 1 1 1 1 1 1 1 1 1 1 1 1 1 1 1 1 1 1 1 1 1 1 1 1 1 1 1 1 1 1 1 1 1 1 1 1 1 1 1 1 1 1 1 1 1 1 1 1 1 1 1 1 1 1 1 1 1 1 1 1 1 1 1 1 1 1 1 1 1 1 1 1 1 1 1 1 1 1 1 1 1 1 1 1 1 1 1 1 1 1 1 1 1 1 1 1 1 1 1 1 1 1 1 1 1 1 1 1 1 1 1 1 1 1 1 1 1 1 1 1 1 1 1 1 1 1 1 1 1 1 1 1 1 1 1 1 1 1 1 1 1 1 1 1 1 1 1 1 1 1 1 1 1 1 1 1 1 1 1 1 1 1 1 1 1 1 1 1 1\n"
          ]
        },
        {
          "output_type": "stream",
          "name": "stderr",
          "text": [
            "INFO:tensorflow:input_mask: 1 1 1 1 1 1 1 1 1 1 1 1 1 1 1 1 1 1 1 1 1 1 1 1 1 1 1 1 1 1 1 1 1 1 1 1 1 1 1 1 1 1 1 1 1 1 1 1 1 1 1 1 1 1 1 1 1 1 1 1 1 1 1 1 1 1 1 1 1 1 1 1 1 1 1 1 1 1 1 1 1 1 1 1 1 1 1 1 1 1 1 1 1 1 1 1 1 1 1 1 1 1 1 1 1 1 1 1 1 1 1 1 1 1 1 1 1 1 1 1 1 1 1 1 1 1 1 1 1 1 1 1 1 1 1 1 1 1 1 1 1 1 1 1 1 1 1 1 1 1 1 1 1 1 1 1 1 1 1 1 1 1 1 1 1 1 1 1 1 1 1 1 1 1 1 1 1 1 1 1 1 1 1 1 1 1 1 1 1 1 1 1 1 1 1 1 1 1 1 1 1 1 1 1 1 1 1 1 1 1 1 1 1 1 1 1 1 1 1 1 1 1 1 1 1 1 1 1 1 1 1 1 1 1 1 1 1 1 1 1 1 1 1 1 1 1 1 1 1 1 1 1 1 1 1 1 1 1 1 1 1 1 1 1 1 1 1 1 1 1 1 1 1 1 1 1 1 1 1 1 1 1 1 1 1 1 1 1 1 1 1 1 1 1 1 1 1 1 1 1 1 1 1 1 1 1 1 1 1 1 1 1 1 1 1 1 1 1 1 1 1 1 1 1 1 1 1 1 1 1 1 1 1 1 1 1 1 1 1 1 1 1 1 1 1 1 1 1 1 1 1 1 1 1 1 1 1 1 1 1 1 1 1 1 1 1 1 1 1 1 1 1 1 1 1 1 1 1 1 1 1 1 1 1 1 1 1 1 1 1 1 1 1 1 1 1 1 1 1 1 1 1 1 1 1 1 1 1 1 1 1 1 1 1 1 1 1 1 1 1 1 1 1 1 1 1 1 1 1 1 1 1 1 1 1 1 1 1 1 1 1 1 1 1 1 1 1 1 1 1 1 1 1 1 1 1 1 1 1 1 1 1 1 1 1 1 1 1 1 1 1 1 1 1 1 1 1 1 1 1 1 1 1 1 1 1 1 1 1 1 1 1 1 1 1 1 1 1 1 1 1 1 1 1 1 1 1 1 1 1 1 1\n"
          ]
        },
        {
          "output_type": "stream",
          "name": "stdout",
          "text": [
            "INFO:tensorflow:segment_ids: 0 0 0 0 0 0 0 0 0 0 0 0 0 0 0 0 0 0 0 0 0 0 0 0 0 0 0 0 0 0 0 0 0 0 0 0 0 0 0 0 0 0 0 0 0 0 0 0 0 0 0 0 0 0 0 0 0 0 0 0 0 0 0 0 0 0 0 0 0 0 0 0 0 0 0 0 0 0 0 0 0 0 0 0 0 0 0 0 0 0 0 0 0 0 0 0 0 0 0 0 0 0 0 0 0 0 0 0 0 0 0 0 0 0 0 0 0 0 0 0 0 0 0 0 0 0 0 0 0 0 0 0 0 0 0 0 0 0 0 0 0 0 0 0 0 0 0 0 0 0 0 0 0 0 0 0 0 0 0 0 0 0 0 0 0 0 0 0 0 0 0 0 0 0 0 0 0 0 0 0 0 0 0 0 0 0 0 0 0 0 0 0 0 0 0 0 0 0 0 0 0 0 0 0 0 0 0 0 0 0 0 0 0 0 0 0 0 0 0 0 0 0 0 0 0 0 0 0 0 0 0 0 0 0 0 0 0 0 0 0 0 0 0 0 0 0 0 0 0 0 0 0 0 0 0 0 0 0 0 0 0 0 0 0 0 0 0 0 0 0 0 0 0 0 0 0 0 0 0 0 0 0 0 0 0 0 0 0 0 0 0 0 0 0 0 0 0 0 0 0 0 0 0 0 0 0 0 0 0 0 0 0 0 0 0 0 0 0 0 0 0 0 0 0 0 0 0 0 0 0 0 0 0 0 0 0 0 0 0 0 0 0 0 0 0 0 0 0 0 0 0 0 0 0 0 0 0 0 0 0 0 0 0 0 0 0 0 0 0 0 0 0 0 0 0 0 0 0 0 0 0 0 0 0 0 0 0 0 0 0 0 0 0 0 0 0 0 0 0 0 0 0 0 0 0 0 0 0 0 0 0 0 0 0 0 0 0 0 0 0 0 0 0 0 0 0 0 0 0 0 0 0 0 0 0 0 0 0 0 0 0 0 0 0 0 0 0 0 0 0 0 0 0 0 0 0 0 0 0 0 0 0 0 0 0 0 0 0 0 0 0 0 0 0 0 0 0 0 0 0 0 0 0 0 0 0 0 0 0 0 0 0 0 0 0 0 0 0 0 0 0 0 0 0 0 0 0 0 0 0 0 0\n"
          ]
        },
        {
          "output_type": "stream",
          "name": "stderr",
          "text": [
            "INFO:tensorflow:segment_ids: 0 0 0 0 0 0 0 0 0 0 0 0 0 0 0 0 0 0 0 0 0 0 0 0 0 0 0 0 0 0 0 0 0 0 0 0 0 0 0 0 0 0 0 0 0 0 0 0 0 0 0 0 0 0 0 0 0 0 0 0 0 0 0 0 0 0 0 0 0 0 0 0 0 0 0 0 0 0 0 0 0 0 0 0 0 0 0 0 0 0 0 0 0 0 0 0 0 0 0 0 0 0 0 0 0 0 0 0 0 0 0 0 0 0 0 0 0 0 0 0 0 0 0 0 0 0 0 0 0 0 0 0 0 0 0 0 0 0 0 0 0 0 0 0 0 0 0 0 0 0 0 0 0 0 0 0 0 0 0 0 0 0 0 0 0 0 0 0 0 0 0 0 0 0 0 0 0 0 0 0 0 0 0 0 0 0 0 0 0 0 0 0 0 0 0 0 0 0 0 0 0 0 0 0 0 0 0 0 0 0 0 0 0 0 0 0 0 0 0 0 0 0 0 0 0 0 0 0 0 0 0 0 0 0 0 0 0 0 0 0 0 0 0 0 0 0 0 0 0 0 0 0 0 0 0 0 0 0 0 0 0 0 0 0 0 0 0 0 0 0 0 0 0 0 0 0 0 0 0 0 0 0 0 0 0 0 0 0 0 0 0 0 0 0 0 0 0 0 0 0 0 0 0 0 0 0 0 0 0 0 0 0 0 0 0 0 0 0 0 0 0 0 0 0 0 0 0 0 0 0 0 0 0 0 0 0 0 0 0 0 0 0 0 0 0 0 0 0 0 0 0 0 0 0 0 0 0 0 0 0 0 0 0 0 0 0 0 0 0 0 0 0 0 0 0 0 0 0 0 0 0 0 0 0 0 0 0 0 0 0 0 0 0 0 0 0 0 0 0 0 0 0 0 0 0 0 0 0 0 0 0 0 0 0 0 0 0 0 0 0 0 0 0 0 0 0 0 0 0 0 0 0 0 0 0 0 0 0 0 0 0 0 0 0 0 0 0 0 0 0 0 0 0 0 0 0 0 0 0 0 0 0 0 0 0 0 0 0 0 0 0 0 0 0 0 0 0 0 0 0 0 0 0 0 0 0 0 0 0 0 0 0 0 0 0 0 0 0 0 0 0 0 0 0 0 0 0 0 0 0 0 0\n"
          ]
        },
        {
          "output_type": "stream",
          "name": "stdout",
          "text": [
            "INFO:tensorflow:label: 0 (id = 0)\n"
          ]
        },
        {
          "output_type": "stream",
          "name": "stderr",
          "text": [
            "INFO:tensorflow:label: 0 (id = 0)\n"
          ]
        },
        {
          "output_type": "stream",
          "name": "stdout",
          "text": [
            "INFO:tensorflow:*** Example ***\n"
          ]
        },
        {
          "output_type": "stream",
          "name": "stderr",
          "text": [
            "INFO:tensorflow:*** Example ***\n"
          ]
        },
        {
          "output_type": "stream",
          "name": "stdout",
          "text": [
            "INFO:tensorflow:guid: \n"
          ]
        },
        {
          "output_type": "stream",
          "name": "stderr",
          "text": [
            "INFO:tensorflow:guid: \n"
          ]
        },
        {
          "output_type": "stream",
          "name": "stdout",
          "text": [
            "INFO:tensorflow:tokens: [CLS] christmas . your favourite time of year . the snow had already started to fall , leaving a white blanket across the school grounds . decorations were abundant in the great hall and the sly ##ther ##in common room . you even had a small christmas tree in your dorm room , since you were staying at hog ##wart ##s for the holiday . it was now the last day of term , and most people were getting ready for the train ride home . - but not you . \" i should really start looking for a place to live for the summer \" , you sighed to yourself . for most of your time at hog ##wart ##s , you had spent every holiday there - it truly was your home . your parents passed away when you were younger , and although you had to spend your summer holidays with a distant aunt or cousin , you didn ' t really have a home to go back to anymore . but , at least you knew the school grounds much better than anyone else - even some of the secret no ##ok ##s , cr ##ann ##ies and passages . you ' d had plenty of fun ut ##ilis ##ing those for epic prank ##s on your friends ( and enemies ) . there was just one problem : professor snap ##e . - or , rather , your huge and un ##sw ##erving crush on him . a few years ago , you swore to yourself that it was just a silly school ##girl crush , and that it would fade with time . . . but here you are , still getting butterflies in your stomach whenever he walks by . what really doesn ' t help , is that you like potion ##s - hell , it ' s your favourite subject - and , whilst being the potion master ' s assistant would be a joy ##ous opportunity for any fan ##atic , this situation has only meant that you spend lots of time alone with snap ##e , with lots of awkward silence ##s for your thoughts to wander and your feelings to swell . . . and now , you would have to spend your christmas break on the school grounds with him , and probably doing extra hours in the potion ##s lab to keep up with your responsibilities . ' so , nothing to worry about , then ' , you think to yourself . \" hey , [ y / n ] ! \" , someone yells as you walk into the common room . you turn to see your friends , sm ##oth ##ered by big coats and scar ##ves , lu ##gging their trunks out of their rooms . \" oh , hey guys ! \" , you call back - although , you ' d been so deep in your thoughts that you ' d almost forgotten it was time for them to leave . [SEP]\n"
          ]
        },
        {
          "output_type": "stream",
          "name": "stderr",
          "text": [
            "INFO:tensorflow:tokens: [CLS] christmas . your favourite time of year . the snow had already started to fall , leaving a white blanket across the school grounds . decorations were abundant in the great hall and the sly ##ther ##in common room . you even had a small christmas tree in your dorm room , since you were staying at hog ##wart ##s for the holiday . it was now the last day of term , and most people were getting ready for the train ride home . - but not you . \" i should really start looking for a place to live for the summer \" , you sighed to yourself . for most of your time at hog ##wart ##s , you had spent every holiday there - it truly was your home . your parents passed away when you were younger , and although you had to spend your summer holidays with a distant aunt or cousin , you didn ' t really have a home to go back to anymore . but , at least you knew the school grounds much better than anyone else - even some of the secret no ##ok ##s , cr ##ann ##ies and passages . you ' d had plenty of fun ut ##ilis ##ing those for epic prank ##s on your friends ( and enemies ) . there was just one problem : professor snap ##e . - or , rather , your huge and un ##sw ##erving crush on him . a few years ago , you swore to yourself that it was just a silly school ##girl crush , and that it would fade with time . . . but here you are , still getting butterflies in your stomach whenever he walks by . what really doesn ' t help , is that you like potion ##s - hell , it ' s your favourite subject - and , whilst being the potion master ' s assistant would be a joy ##ous opportunity for any fan ##atic , this situation has only meant that you spend lots of time alone with snap ##e , with lots of awkward silence ##s for your thoughts to wander and your feelings to swell . . . and now , you would have to spend your christmas break on the school grounds with him , and probably doing extra hours in the potion ##s lab to keep up with your responsibilities . ' so , nothing to worry about , then ' , you think to yourself . \" hey , [ y / n ] ! \" , someone yells as you walk into the common room . you turn to see your friends , sm ##oth ##ered by big coats and scar ##ves , lu ##gging their trunks out of their rooms . \" oh , hey guys ! \" , you call back - although , you ' d been so deep in your thoughts that you ' d almost forgotten it was time for them to leave . [SEP]\n"
          ]
        },
        {
          "output_type": "stream",
          "name": "stdout",
          "text": [
            "INFO:tensorflow:input_ids: 101 4234 1012 2115 8837 2051 1997 2095 1012 1996 4586 2018 2525 2318 2000 2991 1010 2975 1037 2317 8768 2408 1996 2082 5286 1012 14529 2020 12990 1999 1996 2307 2534 1998 1996 18230 12399 2378 2691 2282 1012 2017 2130 2018 1037 2235 4234 3392 1999 2115 19568 2282 1010 2144 2017 2020 6595 2012 27589 18367 2015 2005 1996 6209 1012 2009 2001 2085 1996 2197 2154 1997 2744 1010 1998 2087 2111 2020 2893 3201 2005 1996 3345 4536 2188 1012 1011 2021 2025 2017 1012 1000 1045 2323 2428 2707 2559 2005 1037 2173 2000 2444 2005 1996 2621 1000 1010 2017 5489 2000 4426 1012 2005 2087 1997 2115 2051 2012 27589 18367 2015 1010 2017 2018 2985 2296 6209 2045 1011 2009 5621 2001 2115 2188 1012 2115 3008 2979 2185 2043 2017 2020 3920 1010 1998 2348 2017 2018 2000 5247 2115 2621 11938 2007 1037 6802 5916 2030 5542 1010 2017 2134 1005 1056 2428 2031 1037 2188 2000 2175 2067 2000 4902 1012 2021 1010 2012 2560 2017 2354 1996 2082 5286 2172 2488 2084 3087 2842 1011 2130 2070 1997 1996 3595 2053 6559 2015 1010 13675 11639 3111 1998 13768 1012 2017 1005 1040 2018 7564 1997 4569 21183 24411 2075 2216 2005 8680 26418 2015 2006 2115 2814 1006 1998 6716 1007 1012 2045 2001 2074 2028 3291 1024 2934 10245 2063 1012 1011 2030 1010 2738 1010 2115 4121 1998 4895 26760 25164 10188 2006 2032 1012 1037 2261 2086 3283 1010 2017 12860 2000 4426 2008 2009 2001 2074 1037 10021 2082 15239 10188 1010 1998 2008 2009 2052 12985 2007 2051 1012 1012 1012 2021 2182 2017 2024 1010 2145 2893 15023 1999 2115 4308 7188 2002 7365 2011 1012 2054 2428 2987 1005 1056 2393 1010 2003 2008 2017 2066 26722 2015 1011 3109 1010 2009 1005 1055 2115 8837 3395 1011 1998 1010 5819 2108 1996 26722 3040 1005 1055 3353 2052 2022 1037 6569 3560 4495 2005 2151 5470 12070 1010 2023 3663 2038 2069 3214 2008 2017 5247 7167 1997 2051 2894 2007 10245 2063 1010 2007 7167 1997 9596 4223 2015 2005 2115 4301 2000 17677 1998 2115 5346 2000 18370 1012 1012 1012 1998 2085 1010 2017 2052 2031 2000 5247 2115 4234 3338 2006 1996 2082 5286 2007 2032 1010 1998 2763 2725 4469 2847 1999 1996 26722 2015 6845 2000 2562 2039 2007 2115 10198 1012 1005 2061 1010 2498 2000 4737 2055 1010 2059 1005 1010 2017 2228 2000 4426 1012 1000 4931 1010 1031 1061 1013 1050 1033 999 1000 1010 2619 22114 2004 2017 3328 2046 1996 2691 2282 1012 2017 2735 2000 2156 2115 2814 1010 15488 14573 6850 2011 2502 15695 1998 11228 6961 1010 11320 12588 2037 20509 2041 1997 2037 4734 1012 1000 2821 1010 4931 4364 999 1000 1010 2017 2655 2067 1011 2348 1010 2017 1005 1040 2042 2061 2784 1999 2115 4301 2008 2017 1005 1040 2471 6404 2009 2001 2051 2005 2068 2000 2681 1012 102\n"
          ]
        },
        {
          "output_type": "stream",
          "name": "stderr",
          "text": [
            "INFO:tensorflow:input_ids: 101 4234 1012 2115 8837 2051 1997 2095 1012 1996 4586 2018 2525 2318 2000 2991 1010 2975 1037 2317 8768 2408 1996 2082 5286 1012 14529 2020 12990 1999 1996 2307 2534 1998 1996 18230 12399 2378 2691 2282 1012 2017 2130 2018 1037 2235 4234 3392 1999 2115 19568 2282 1010 2144 2017 2020 6595 2012 27589 18367 2015 2005 1996 6209 1012 2009 2001 2085 1996 2197 2154 1997 2744 1010 1998 2087 2111 2020 2893 3201 2005 1996 3345 4536 2188 1012 1011 2021 2025 2017 1012 1000 1045 2323 2428 2707 2559 2005 1037 2173 2000 2444 2005 1996 2621 1000 1010 2017 5489 2000 4426 1012 2005 2087 1997 2115 2051 2012 27589 18367 2015 1010 2017 2018 2985 2296 6209 2045 1011 2009 5621 2001 2115 2188 1012 2115 3008 2979 2185 2043 2017 2020 3920 1010 1998 2348 2017 2018 2000 5247 2115 2621 11938 2007 1037 6802 5916 2030 5542 1010 2017 2134 1005 1056 2428 2031 1037 2188 2000 2175 2067 2000 4902 1012 2021 1010 2012 2560 2017 2354 1996 2082 5286 2172 2488 2084 3087 2842 1011 2130 2070 1997 1996 3595 2053 6559 2015 1010 13675 11639 3111 1998 13768 1012 2017 1005 1040 2018 7564 1997 4569 21183 24411 2075 2216 2005 8680 26418 2015 2006 2115 2814 1006 1998 6716 1007 1012 2045 2001 2074 2028 3291 1024 2934 10245 2063 1012 1011 2030 1010 2738 1010 2115 4121 1998 4895 26760 25164 10188 2006 2032 1012 1037 2261 2086 3283 1010 2017 12860 2000 4426 2008 2009 2001 2074 1037 10021 2082 15239 10188 1010 1998 2008 2009 2052 12985 2007 2051 1012 1012 1012 2021 2182 2017 2024 1010 2145 2893 15023 1999 2115 4308 7188 2002 7365 2011 1012 2054 2428 2987 1005 1056 2393 1010 2003 2008 2017 2066 26722 2015 1011 3109 1010 2009 1005 1055 2115 8837 3395 1011 1998 1010 5819 2108 1996 26722 3040 1005 1055 3353 2052 2022 1037 6569 3560 4495 2005 2151 5470 12070 1010 2023 3663 2038 2069 3214 2008 2017 5247 7167 1997 2051 2894 2007 10245 2063 1010 2007 7167 1997 9596 4223 2015 2005 2115 4301 2000 17677 1998 2115 5346 2000 18370 1012 1012 1012 1998 2085 1010 2017 2052 2031 2000 5247 2115 4234 3338 2006 1996 2082 5286 2007 2032 1010 1998 2763 2725 4469 2847 1999 1996 26722 2015 6845 2000 2562 2039 2007 2115 10198 1012 1005 2061 1010 2498 2000 4737 2055 1010 2059 1005 1010 2017 2228 2000 4426 1012 1000 4931 1010 1031 1061 1013 1050 1033 999 1000 1010 2619 22114 2004 2017 3328 2046 1996 2691 2282 1012 2017 2735 2000 2156 2115 2814 1010 15488 14573 6850 2011 2502 15695 1998 11228 6961 1010 11320 12588 2037 20509 2041 1997 2037 4734 1012 1000 2821 1010 4931 4364 999 1000 1010 2017 2655 2067 1011 2348 1010 2017 1005 1040 2042 2061 2784 1999 2115 4301 2008 2017 1005 1040 2471 6404 2009 2001 2051 2005 2068 2000 2681 1012 102\n"
          ]
        },
        {
          "output_type": "stream",
          "name": "stdout",
          "text": [
            "INFO:tensorflow:input_mask: 1 1 1 1 1 1 1 1 1 1 1 1 1 1 1 1 1 1 1 1 1 1 1 1 1 1 1 1 1 1 1 1 1 1 1 1 1 1 1 1 1 1 1 1 1 1 1 1 1 1 1 1 1 1 1 1 1 1 1 1 1 1 1 1 1 1 1 1 1 1 1 1 1 1 1 1 1 1 1 1 1 1 1 1 1 1 1 1 1 1 1 1 1 1 1 1 1 1 1 1 1 1 1 1 1 1 1 1 1 1 1 1 1 1 1 1 1 1 1 1 1 1 1 1 1 1 1 1 1 1 1 1 1 1 1 1 1 1 1 1 1 1 1 1 1 1 1 1 1 1 1 1 1 1 1 1 1 1 1 1 1 1 1 1 1 1 1 1 1 1 1 1 1 1 1 1 1 1 1 1 1 1 1 1 1 1 1 1 1 1 1 1 1 1 1 1 1 1 1 1 1 1 1 1 1 1 1 1 1 1 1 1 1 1 1 1 1 1 1 1 1 1 1 1 1 1 1 1 1 1 1 1 1 1 1 1 1 1 1 1 1 1 1 1 1 1 1 1 1 1 1 1 1 1 1 1 1 1 1 1 1 1 1 1 1 1 1 1 1 1 1 1 1 1 1 1 1 1 1 1 1 1 1 1 1 1 1 1 1 1 1 1 1 1 1 1 1 1 1 1 1 1 1 1 1 1 1 1 1 1 1 1 1 1 1 1 1 1 1 1 1 1 1 1 1 1 1 1 1 1 1 1 1 1 1 1 1 1 1 1 1 1 1 1 1 1 1 1 1 1 1 1 1 1 1 1 1 1 1 1 1 1 1 1 1 1 1 1 1 1 1 1 1 1 1 1 1 1 1 1 1 1 1 1 1 1 1 1 1 1 1 1 1 1 1 1 1 1 1 1 1 1 1 1 1 1 1 1 1 1 1 1 1 1 1 1 1 1 1 1 1 1 1 1 1 1 1 1 1 1 1 1 1 1 1 1 1 1 1 1 1 1 1 1 1 1 1 1 1 1 1 1 1 1 1 1 1 1 1 1 1 1 1 1 1 1 1 1 1 1 1 1 1 1 1 1 1 1 1 1 1 1 1 1 1 1 1 1 1 1 1 1 1 1 1 1 1 1 1 1 1 1 1 1 1 1 1 1 1 1 1 1\n"
          ]
        },
        {
          "output_type": "stream",
          "name": "stderr",
          "text": [
            "INFO:tensorflow:input_mask: 1 1 1 1 1 1 1 1 1 1 1 1 1 1 1 1 1 1 1 1 1 1 1 1 1 1 1 1 1 1 1 1 1 1 1 1 1 1 1 1 1 1 1 1 1 1 1 1 1 1 1 1 1 1 1 1 1 1 1 1 1 1 1 1 1 1 1 1 1 1 1 1 1 1 1 1 1 1 1 1 1 1 1 1 1 1 1 1 1 1 1 1 1 1 1 1 1 1 1 1 1 1 1 1 1 1 1 1 1 1 1 1 1 1 1 1 1 1 1 1 1 1 1 1 1 1 1 1 1 1 1 1 1 1 1 1 1 1 1 1 1 1 1 1 1 1 1 1 1 1 1 1 1 1 1 1 1 1 1 1 1 1 1 1 1 1 1 1 1 1 1 1 1 1 1 1 1 1 1 1 1 1 1 1 1 1 1 1 1 1 1 1 1 1 1 1 1 1 1 1 1 1 1 1 1 1 1 1 1 1 1 1 1 1 1 1 1 1 1 1 1 1 1 1 1 1 1 1 1 1 1 1 1 1 1 1 1 1 1 1 1 1 1 1 1 1 1 1 1 1 1 1 1 1 1 1 1 1 1 1 1 1 1 1 1 1 1 1 1 1 1 1 1 1 1 1 1 1 1 1 1 1 1 1 1 1 1 1 1 1 1 1 1 1 1 1 1 1 1 1 1 1 1 1 1 1 1 1 1 1 1 1 1 1 1 1 1 1 1 1 1 1 1 1 1 1 1 1 1 1 1 1 1 1 1 1 1 1 1 1 1 1 1 1 1 1 1 1 1 1 1 1 1 1 1 1 1 1 1 1 1 1 1 1 1 1 1 1 1 1 1 1 1 1 1 1 1 1 1 1 1 1 1 1 1 1 1 1 1 1 1 1 1 1 1 1 1 1 1 1 1 1 1 1 1 1 1 1 1 1 1 1 1 1 1 1 1 1 1 1 1 1 1 1 1 1 1 1 1 1 1 1 1 1 1 1 1 1 1 1 1 1 1 1 1 1 1 1 1 1 1 1 1 1 1 1 1 1 1 1 1 1 1 1 1 1 1 1 1 1 1 1 1 1 1 1 1 1 1 1 1 1 1 1 1 1 1 1 1 1 1 1 1 1 1 1 1 1 1 1 1 1 1 1 1 1 1 1 1 1 1 1\n"
          ]
        },
        {
          "output_type": "stream",
          "name": "stdout",
          "text": [
            "INFO:tensorflow:segment_ids: 0 0 0 0 0 0 0 0 0 0 0 0 0 0 0 0 0 0 0 0 0 0 0 0 0 0 0 0 0 0 0 0 0 0 0 0 0 0 0 0 0 0 0 0 0 0 0 0 0 0 0 0 0 0 0 0 0 0 0 0 0 0 0 0 0 0 0 0 0 0 0 0 0 0 0 0 0 0 0 0 0 0 0 0 0 0 0 0 0 0 0 0 0 0 0 0 0 0 0 0 0 0 0 0 0 0 0 0 0 0 0 0 0 0 0 0 0 0 0 0 0 0 0 0 0 0 0 0 0 0 0 0 0 0 0 0 0 0 0 0 0 0 0 0 0 0 0 0 0 0 0 0 0 0 0 0 0 0 0 0 0 0 0 0 0 0 0 0 0 0 0 0 0 0 0 0 0 0 0 0 0 0 0 0 0 0 0 0 0 0 0 0 0 0 0 0 0 0 0 0 0 0 0 0 0 0 0 0 0 0 0 0 0 0 0 0 0 0 0 0 0 0 0 0 0 0 0 0 0 0 0 0 0 0 0 0 0 0 0 0 0 0 0 0 0 0 0 0 0 0 0 0 0 0 0 0 0 0 0 0 0 0 0 0 0 0 0 0 0 0 0 0 0 0 0 0 0 0 0 0 0 0 0 0 0 0 0 0 0 0 0 0 0 0 0 0 0 0 0 0 0 0 0 0 0 0 0 0 0 0 0 0 0 0 0 0 0 0 0 0 0 0 0 0 0 0 0 0 0 0 0 0 0 0 0 0 0 0 0 0 0 0 0 0 0 0 0 0 0 0 0 0 0 0 0 0 0 0 0 0 0 0 0 0 0 0 0 0 0 0 0 0 0 0 0 0 0 0 0 0 0 0 0 0 0 0 0 0 0 0 0 0 0 0 0 0 0 0 0 0 0 0 0 0 0 0 0 0 0 0 0 0 0 0 0 0 0 0 0 0 0 0 0 0 0 0 0 0 0 0 0 0 0 0 0 0 0 0 0 0 0 0 0 0 0 0 0 0 0 0 0 0 0 0 0 0 0 0 0 0 0 0 0 0 0 0 0 0 0 0 0 0 0 0 0 0 0 0 0 0 0 0 0 0 0 0 0 0 0 0 0 0 0 0 0 0 0 0 0 0 0 0 0 0 0 0 0 0 0 0 0 0\n"
          ]
        },
        {
          "output_type": "stream",
          "name": "stderr",
          "text": [
            "INFO:tensorflow:segment_ids: 0 0 0 0 0 0 0 0 0 0 0 0 0 0 0 0 0 0 0 0 0 0 0 0 0 0 0 0 0 0 0 0 0 0 0 0 0 0 0 0 0 0 0 0 0 0 0 0 0 0 0 0 0 0 0 0 0 0 0 0 0 0 0 0 0 0 0 0 0 0 0 0 0 0 0 0 0 0 0 0 0 0 0 0 0 0 0 0 0 0 0 0 0 0 0 0 0 0 0 0 0 0 0 0 0 0 0 0 0 0 0 0 0 0 0 0 0 0 0 0 0 0 0 0 0 0 0 0 0 0 0 0 0 0 0 0 0 0 0 0 0 0 0 0 0 0 0 0 0 0 0 0 0 0 0 0 0 0 0 0 0 0 0 0 0 0 0 0 0 0 0 0 0 0 0 0 0 0 0 0 0 0 0 0 0 0 0 0 0 0 0 0 0 0 0 0 0 0 0 0 0 0 0 0 0 0 0 0 0 0 0 0 0 0 0 0 0 0 0 0 0 0 0 0 0 0 0 0 0 0 0 0 0 0 0 0 0 0 0 0 0 0 0 0 0 0 0 0 0 0 0 0 0 0 0 0 0 0 0 0 0 0 0 0 0 0 0 0 0 0 0 0 0 0 0 0 0 0 0 0 0 0 0 0 0 0 0 0 0 0 0 0 0 0 0 0 0 0 0 0 0 0 0 0 0 0 0 0 0 0 0 0 0 0 0 0 0 0 0 0 0 0 0 0 0 0 0 0 0 0 0 0 0 0 0 0 0 0 0 0 0 0 0 0 0 0 0 0 0 0 0 0 0 0 0 0 0 0 0 0 0 0 0 0 0 0 0 0 0 0 0 0 0 0 0 0 0 0 0 0 0 0 0 0 0 0 0 0 0 0 0 0 0 0 0 0 0 0 0 0 0 0 0 0 0 0 0 0 0 0 0 0 0 0 0 0 0 0 0 0 0 0 0 0 0 0 0 0 0 0 0 0 0 0 0 0 0 0 0 0 0 0 0 0 0 0 0 0 0 0 0 0 0 0 0 0 0 0 0 0 0 0 0 0 0 0 0 0 0 0 0 0 0 0 0 0 0 0 0 0 0 0 0 0 0 0 0 0 0 0 0 0 0 0 0 0 0 0 0 0 0 0 0 0 0 0 0 0 0 0 0 0\n"
          ]
        },
        {
          "output_type": "stream",
          "name": "stdout",
          "text": [
            "INFO:tensorflow:label: 0 (id = 0)\n"
          ]
        },
        {
          "output_type": "stream",
          "name": "stderr",
          "text": [
            "INFO:tensorflow:label: 0 (id = 0)\n"
          ]
        },
        {
          "output_type": "stream",
          "name": "stdout",
          "text": [
            "INFO:tensorflow:*** Example ***\n"
          ]
        },
        {
          "output_type": "stream",
          "name": "stderr",
          "text": [
            "INFO:tensorflow:*** Example ***\n"
          ]
        },
        {
          "output_type": "stream",
          "name": "stdout",
          "text": [
            "INFO:tensorflow:guid: \n"
          ]
        },
        {
          "output_type": "stream",
          "name": "stderr",
          "text": [
            "INFO:tensorflow:guid: \n"
          ]
        },
        {
          "output_type": "stream",
          "name": "stdout",
          "text": [
            "INFO:tensorflow:tokens: [CLS] it comes in a split second where their eyes meet . the greene ##st of cold spring dew ##s and the warm ##est shade of sweet honey . time stills and the cr ##es ##cend ##o of a waltz played ages ago serena ##des the rebirth of a meeting an ##ew . here and now , starts their story in this new life . void of wars and tragedy , quiet in its mundane sat ##uration of life . the fates and universe choir a soft opera , but to the two single beings , they are all but another passing face . and yet . . . \" fu ##shi ##gur ##o meg ##umi ? \" she ' ll call out to him . the specific ##s do not matter as he stands to walk to her . neither would admit it , though neither would notice , the familiarity of air encompassing them in their short travel to their destination . their shoulders bump once and they share a giggle , a step closer than before . they don ' t question it . by the time they ' ve returned , they are ad ##jo ##ined by the hips , hushed conversations swaying softly . she ' ll bid him goodbye and he ' ll respond \" see you soon . \" pink dust ##s their cheeks , a lazy sm ##itte ##n smile resting on his handsome features . they are strangers to each other first , and then friends , and maybe something more . it was a simple peck on the cheek . she ' s laughing , and it ' s so bright , the most beautiful thing he ' ll ever hear . she ' s laughing , head tossed back and eyes closed in mir ##th , gasping breathless ##ly as she clutches to his side . he doesn ' t mean for it to happen , but it does . she smells much sweet ##er up close , like ripe peach ##es and the blossom ##ing of cher ##ries . he should feel embarrassed , remorse ##ful even . but the feeling never comes , not when she ' s staring at him like that . expression shell - shocked at first before mor ##phi ##ng into a do ##pe ##y sac ##cha ##rine smile . he thinks that his face mirrors her , and it does . she was never one of the romantic ##s and he was always afraid of dying alone . they were , are , and will always be the perfect match for each other . he tastes mostly like mint . fresh and cool . it should feel more like kissing a tooth ##pas ##te , but it doesn ' t , tender and caring lips caressing her open . a sharp contrast to her more fruit ##y flavors . he blame ##s it on her pen ##chan ##t for juicy drinks . ( \" it ' s more health ##ier that way , [SEP]\n"
          ]
        },
        {
          "output_type": "stream",
          "name": "stderr",
          "text": [
            "INFO:tensorflow:tokens: [CLS] it comes in a split second where their eyes meet . the greene ##st of cold spring dew ##s and the warm ##est shade of sweet honey . time stills and the cr ##es ##cend ##o of a waltz played ages ago serena ##des the rebirth of a meeting an ##ew . here and now , starts their story in this new life . void of wars and tragedy , quiet in its mundane sat ##uration of life . the fates and universe choir a soft opera , but to the two single beings , they are all but another passing face . and yet . . . \" fu ##shi ##gur ##o meg ##umi ? \" she ' ll call out to him . the specific ##s do not matter as he stands to walk to her . neither would admit it , though neither would notice , the familiarity of air encompassing them in their short travel to their destination . their shoulders bump once and they share a giggle , a step closer than before . they don ' t question it . by the time they ' ve returned , they are ad ##jo ##ined by the hips , hushed conversations swaying softly . she ' ll bid him goodbye and he ' ll respond \" see you soon . \" pink dust ##s their cheeks , a lazy sm ##itte ##n smile resting on his handsome features . they are strangers to each other first , and then friends , and maybe something more . it was a simple peck on the cheek . she ' s laughing , and it ' s so bright , the most beautiful thing he ' ll ever hear . she ' s laughing , head tossed back and eyes closed in mir ##th , gasping breathless ##ly as she clutches to his side . he doesn ' t mean for it to happen , but it does . she smells much sweet ##er up close , like ripe peach ##es and the blossom ##ing of cher ##ries . he should feel embarrassed , remorse ##ful even . but the feeling never comes , not when she ' s staring at him like that . expression shell - shocked at first before mor ##phi ##ng into a do ##pe ##y sac ##cha ##rine smile . he thinks that his face mirrors her , and it does . she was never one of the romantic ##s and he was always afraid of dying alone . they were , are , and will always be the perfect match for each other . he tastes mostly like mint . fresh and cool . it should feel more like kissing a tooth ##pas ##te , but it doesn ' t , tender and caring lips caressing her open . a sharp contrast to her more fruit ##y flavors . he blame ##s it on her pen ##chan ##t for juicy drinks . ( \" it ' s more health ##ier that way , [SEP]\n"
          ]
        },
        {
          "output_type": "stream",
          "name": "stdout",
          "text": [
            "INFO:tensorflow:input_ids: 101 2009 3310 1999 1037 3975 2117 2073 2037 2159 3113 1012 1996 11006 3367 1997 3147 3500 24903 2015 1998 1996 4010 4355 8703 1997 4086 6861 1012 2051 26105 1998 1996 13675 2229 23865 2080 1997 1037 17569 2209 5535 3283 14419 6155 1996 22785 1997 1037 3116 2019 7974 1012 2182 1998 2085 1010 4627 2037 2466 1999 2023 2047 2166 1012 11675 1997 5233 1998 10576 1010 4251 1999 2049 24684 2938 18924 1997 2166 1012 1996 26417 1998 5304 6596 1037 3730 3850 1010 2021 2000 1996 2048 2309 9552 1010 2027 2024 2035 2021 2178 4458 2227 1012 1998 2664 1012 1012 1012 1000 11865 6182 27390 2080 12669 12717 1029 1000 2016 1005 2222 2655 2041 2000 2032 1012 1996 3563 2015 2079 2025 3043 2004 2002 4832 2000 3328 2000 2014 1012 4445 2052 6449 2009 1010 2295 4445 2052 5060 1010 1996 24666 1997 2250 19129 2068 1999 2037 2460 3604 2000 2037 7688 1012 2037 4065 16906 2320 1998 2027 3745 1037 17565 1010 1037 3357 3553 2084 2077 1012 2027 2123 1005 1056 3160 2009 1012 2011 1996 2051 2027 1005 2310 2513 1010 2027 2024 4748 5558 21280 2011 1996 6700 1010 24033 11450 21826 5238 1012 2016 1005 2222 7226 2032 9119 1998 2002 1005 2222 6869 1000 2156 2017 2574 1012 1000 5061 6497 2015 2037 6029 1010 1037 13971 15488 27100 2078 2868 8345 2006 2010 8502 2838 1012 2027 2024 12358 2000 2169 2060 2034 1010 1998 2059 2814 1010 1998 2672 2242 2062 1012 2009 2001 1037 3722 18082 2006 1996 5048 1012 2016 1005 1055 5870 1010 1998 2009 1005 1055 2061 4408 1010 1996 2087 3376 2518 2002 1005 2222 2412 2963 1012 2016 1005 1055 5870 1010 2132 7463 2067 1998 2159 2701 1999 14719 2705 1010 17054 16701 2135 2004 2016 29497 2000 2010 2217 1012 2002 2987 1005 1056 2812 2005 2009 2000 4148 1010 2021 2009 2515 1012 2016 14747 2172 4086 2121 2039 2485 1010 2066 22503 18237 2229 1998 1996 20593 2075 1997 24188 5134 1012 2002 2323 2514 10339 1010 23124 3993 2130 1012 2021 1996 3110 2196 3310 1010 2025 2043 2016 1005 1055 4582 2012 2032 2066 2008 1012 3670 5806 1011 7135 2012 2034 2077 22822 21850 3070 2046 1037 2079 5051 2100 17266 7507 11467 2868 1012 2002 6732 2008 2010 2227 13536 2014 1010 1998 2009 2515 1012 2016 2001 2196 2028 1997 1996 6298 2015 1998 2002 2001 2467 4452 1997 5996 2894 1012 2027 2020 1010 2024 1010 1998 2097 2467 2022 1996 3819 2674 2005 2169 2060 1012 2002 16958 3262 2066 12927 1012 4840 1998 4658 1012 2009 2323 2514 2062 2066 7618 1037 11868 19707 2618 1010 2021 2009 2987 1005 1056 1010 8616 1998 11922 2970 25296 2014 2330 1012 1037 4629 5688 2000 2014 2062 5909 2100 26389 1012 2002 7499 2015 2009 2006 2014 7279 14856 2102 2005 28900 8974 1012 1006 1000 2009 1005 1055 2062 2740 3771 2008 2126 1010 102\n"
          ]
        },
        {
          "output_type": "stream",
          "name": "stderr",
          "text": [
            "INFO:tensorflow:input_ids: 101 2009 3310 1999 1037 3975 2117 2073 2037 2159 3113 1012 1996 11006 3367 1997 3147 3500 24903 2015 1998 1996 4010 4355 8703 1997 4086 6861 1012 2051 26105 1998 1996 13675 2229 23865 2080 1997 1037 17569 2209 5535 3283 14419 6155 1996 22785 1997 1037 3116 2019 7974 1012 2182 1998 2085 1010 4627 2037 2466 1999 2023 2047 2166 1012 11675 1997 5233 1998 10576 1010 4251 1999 2049 24684 2938 18924 1997 2166 1012 1996 26417 1998 5304 6596 1037 3730 3850 1010 2021 2000 1996 2048 2309 9552 1010 2027 2024 2035 2021 2178 4458 2227 1012 1998 2664 1012 1012 1012 1000 11865 6182 27390 2080 12669 12717 1029 1000 2016 1005 2222 2655 2041 2000 2032 1012 1996 3563 2015 2079 2025 3043 2004 2002 4832 2000 3328 2000 2014 1012 4445 2052 6449 2009 1010 2295 4445 2052 5060 1010 1996 24666 1997 2250 19129 2068 1999 2037 2460 3604 2000 2037 7688 1012 2037 4065 16906 2320 1998 2027 3745 1037 17565 1010 1037 3357 3553 2084 2077 1012 2027 2123 1005 1056 3160 2009 1012 2011 1996 2051 2027 1005 2310 2513 1010 2027 2024 4748 5558 21280 2011 1996 6700 1010 24033 11450 21826 5238 1012 2016 1005 2222 7226 2032 9119 1998 2002 1005 2222 6869 1000 2156 2017 2574 1012 1000 5061 6497 2015 2037 6029 1010 1037 13971 15488 27100 2078 2868 8345 2006 2010 8502 2838 1012 2027 2024 12358 2000 2169 2060 2034 1010 1998 2059 2814 1010 1998 2672 2242 2062 1012 2009 2001 1037 3722 18082 2006 1996 5048 1012 2016 1005 1055 5870 1010 1998 2009 1005 1055 2061 4408 1010 1996 2087 3376 2518 2002 1005 2222 2412 2963 1012 2016 1005 1055 5870 1010 2132 7463 2067 1998 2159 2701 1999 14719 2705 1010 17054 16701 2135 2004 2016 29497 2000 2010 2217 1012 2002 2987 1005 1056 2812 2005 2009 2000 4148 1010 2021 2009 2515 1012 2016 14747 2172 4086 2121 2039 2485 1010 2066 22503 18237 2229 1998 1996 20593 2075 1997 24188 5134 1012 2002 2323 2514 10339 1010 23124 3993 2130 1012 2021 1996 3110 2196 3310 1010 2025 2043 2016 1005 1055 4582 2012 2032 2066 2008 1012 3670 5806 1011 7135 2012 2034 2077 22822 21850 3070 2046 1037 2079 5051 2100 17266 7507 11467 2868 1012 2002 6732 2008 2010 2227 13536 2014 1010 1998 2009 2515 1012 2016 2001 2196 2028 1997 1996 6298 2015 1998 2002 2001 2467 4452 1997 5996 2894 1012 2027 2020 1010 2024 1010 1998 2097 2467 2022 1996 3819 2674 2005 2169 2060 1012 2002 16958 3262 2066 12927 1012 4840 1998 4658 1012 2009 2323 2514 2062 2066 7618 1037 11868 19707 2618 1010 2021 2009 2987 1005 1056 1010 8616 1998 11922 2970 25296 2014 2330 1012 1037 4629 5688 2000 2014 2062 5909 2100 26389 1012 2002 7499 2015 2009 2006 2014 7279 14856 2102 2005 28900 8974 1012 1006 1000 2009 1005 1055 2062 2740 3771 2008 2126 1010 102\n"
          ]
        },
        {
          "output_type": "stream",
          "name": "stdout",
          "text": [
            "INFO:tensorflow:input_mask: 1 1 1 1 1 1 1 1 1 1 1 1 1 1 1 1 1 1 1 1 1 1 1 1 1 1 1 1 1 1 1 1 1 1 1 1 1 1 1 1 1 1 1 1 1 1 1 1 1 1 1 1 1 1 1 1 1 1 1 1 1 1 1 1 1 1 1 1 1 1 1 1 1 1 1 1 1 1 1 1 1 1 1 1 1 1 1 1 1 1 1 1 1 1 1 1 1 1 1 1 1 1 1 1 1 1 1 1 1 1 1 1 1 1 1 1 1 1 1 1 1 1 1 1 1 1 1 1 1 1 1 1 1 1 1 1 1 1 1 1 1 1 1 1 1 1 1 1 1 1 1 1 1 1 1 1 1 1 1 1 1 1 1 1 1 1 1 1 1 1 1 1 1 1 1 1 1 1 1 1 1 1 1 1 1 1 1 1 1 1 1 1 1 1 1 1 1 1 1 1 1 1 1 1 1 1 1 1 1 1 1 1 1 1 1 1 1 1 1 1 1 1 1 1 1 1 1 1 1 1 1 1 1 1 1 1 1 1 1 1 1 1 1 1 1 1 1 1 1 1 1 1 1 1 1 1 1 1 1 1 1 1 1 1 1 1 1 1 1 1 1 1 1 1 1 1 1 1 1 1 1 1 1 1 1 1 1 1 1 1 1 1 1 1 1 1 1 1 1 1 1 1 1 1 1 1 1 1 1 1 1 1 1 1 1 1 1 1 1 1 1 1 1 1 1 1 1 1 1 1 1 1 1 1 1 1 1 1 1 1 1 1 1 1 1 1 1 1 1 1 1 1 1 1 1 1 1 1 1 1 1 1 1 1 1 1 1 1 1 1 1 1 1 1 1 1 1 1 1 1 1 1 1 1 1 1 1 1 1 1 1 1 1 1 1 1 1 1 1 1 1 1 1 1 1 1 1 1 1 1 1 1 1 1 1 1 1 1 1 1 1 1 1 1 1 1 1 1 1 1 1 1 1 1 1 1 1 1 1 1 1 1 1 1 1 1 1 1 1 1 1 1 1 1 1 1 1 1 1 1 1 1 1 1 1 1 1 1 1 1 1 1 1 1 1 1 1 1 1 1 1 1 1 1 1 1 1 1 1 1 1 1 1 1 1 1 1 1 1 1 1 1 1 1 1 1 1 1 1 1 1 1\n"
          ]
        },
        {
          "output_type": "stream",
          "name": "stderr",
          "text": [
            "INFO:tensorflow:input_mask: 1 1 1 1 1 1 1 1 1 1 1 1 1 1 1 1 1 1 1 1 1 1 1 1 1 1 1 1 1 1 1 1 1 1 1 1 1 1 1 1 1 1 1 1 1 1 1 1 1 1 1 1 1 1 1 1 1 1 1 1 1 1 1 1 1 1 1 1 1 1 1 1 1 1 1 1 1 1 1 1 1 1 1 1 1 1 1 1 1 1 1 1 1 1 1 1 1 1 1 1 1 1 1 1 1 1 1 1 1 1 1 1 1 1 1 1 1 1 1 1 1 1 1 1 1 1 1 1 1 1 1 1 1 1 1 1 1 1 1 1 1 1 1 1 1 1 1 1 1 1 1 1 1 1 1 1 1 1 1 1 1 1 1 1 1 1 1 1 1 1 1 1 1 1 1 1 1 1 1 1 1 1 1 1 1 1 1 1 1 1 1 1 1 1 1 1 1 1 1 1 1 1 1 1 1 1 1 1 1 1 1 1 1 1 1 1 1 1 1 1 1 1 1 1 1 1 1 1 1 1 1 1 1 1 1 1 1 1 1 1 1 1 1 1 1 1 1 1 1 1 1 1 1 1 1 1 1 1 1 1 1 1 1 1 1 1 1 1 1 1 1 1 1 1 1 1 1 1 1 1 1 1 1 1 1 1 1 1 1 1 1 1 1 1 1 1 1 1 1 1 1 1 1 1 1 1 1 1 1 1 1 1 1 1 1 1 1 1 1 1 1 1 1 1 1 1 1 1 1 1 1 1 1 1 1 1 1 1 1 1 1 1 1 1 1 1 1 1 1 1 1 1 1 1 1 1 1 1 1 1 1 1 1 1 1 1 1 1 1 1 1 1 1 1 1 1 1 1 1 1 1 1 1 1 1 1 1 1 1 1 1 1 1 1 1 1 1 1 1 1 1 1 1 1 1 1 1 1 1 1 1 1 1 1 1 1 1 1 1 1 1 1 1 1 1 1 1 1 1 1 1 1 1 1 1 1 1 1 1 1 1 1 1 1 1 1 1 1 1 1 1 1 1 1 1 1 1 1 1 1 1 1 1 1 1 1 1 1 1 1 1 1 1 1 1 1 1 1 1 1 1 1 1 1 1 1 1 1 1 1 1 1 1 1 1 1 1 1 1 1 1 1 1 1 1 1 1 1 1 1 1 1\n"
          ]
        },
        {
          "output_type": "stream",
          "name": "stdout",
          "text": [
            "INFO:tensorflow:segment_ids: 0 0 0 0 0 0 0 0 0 0 0 0 0 0 0 0 0 0 0 0 0 0 0 0 0 0 0 0 0 0 0 0 0 0 0 0 0 0 0 0 0 0 0 0 0 0 0 0 0 0 0 0 0 0 0 0 0 0 0 0 0 0 0 0 0 0 0 0 0 0 0 0 0 0 0 0 0 0 0 0 0 0 0 0 0 0 0 0 0 0 0 0 0 0 0 0 0 0 0 0 0 0 0 0 0 0 0 0 0 0 0 0 0 0 0 0 0 0 0 0 0 0 0 0 0 0 0 0 0 0 0 0 0 0 0 0 0 0 0 0 0 0 0 0 0 0 0 0 0 0 0 0 0 0 0 0 0 0 0 0 0 0 0 0 0 0 0 0 0 0 0 0 0 0 0 0 0 0 0 0 0 0 0 0 0 0 0 0 0 0 0 0 0 0 0 0 0 0 0 0 0 0 0 0 0 0 0 0 0 0 0 0 0 0 0 0 0 0 0 0 0 0 0 0 0 0 0 0 0 0 0 0 0 0 0 0 0 0 0 0 0 0 0 0 0 0 0 0 0 0 0 0 0 0 0 0 0 0 0 0 0 0 0 0 0 0 0 0 0 0 0 0 0 0 0 0 0 0 0 0 0 0 0 0 0 0 0 0 0 0 0 0 0 0 0 0 0 0 0 0 0 0 0 0 0 0 0 0 0 0 0 0 0 0 0 0 0 0 0 0 0 0 0 0 0 0 0 0 0 0 0 0 0 0 0 0 0 0 0 0 0 0 0 0 0 0 0 0 0 0 0 0 0 0 0 0 0 0 0 0 0 0 0 0 0 0 0 0 0 0 0 0 0 0 0 0 0 0 0 0 0 0 0 0 0 0 0 0 0 0 0 0 0 0 0 0 0 0 0 0 0 0 0 0 0 0 0 0 0 0 0 0 0 0 0 0 0 0 0 0 0 0 0 0 0 0 0 0 0 0 0 0 0 0 0 0 0 0 0 0 0 0 0 0 0 0 0 0 0 0 0 0 0 0 0 0 0 0 0 0 0 0 0 0 0 0 0 0 0 0 0 0 0 0 0 0 0 0 0 0 0 0 0 0 0 0 0 0 0 0 0 0 0 0 0 0 0 0 0 0 0 0 0 0 0 0 0 0 0 0 0 0\n"
          ]
        },
        {
          "output_type": "stream",
          "name": "stderr",
          "text": [
            "INFO:tensorflow:segment_ids: 0 0 0 0 0 0 0 0 0 0 0 0 0 0 0 0 0 0 0 0 0 0 0 0 0 0 0 0 0 0 0 0 0 0 0 0 0 0 0 0 0 0 0 0 0 0 0 0 0 0 0 0 0 0 0 0 0 0 0 0 0 0 0 0 0 0 0 0 0 0 0 0 0 0 0 0 0 0 0 0 0 0 0 0 0 0 0 0 0 0 0 0 0 0 0 0 0 0 0 0 0 0 0 0 0 0 0 0 0 0 0 0 0 0 0 0 0 0 0 0 0 0 0 0 0 0 0 0 0 0 0 0 0 0 0 0 0 0 0 0 0 0 0 0 0 0 0 0 0 0 0 0 0 0 0 0 0 0 0 0 0 0 0 0 0 0 0 0 0 0 0 0 0 0 0 0 0 0 0 0 0 0 0 0 0 0 0 0 0 0 0 0 0 0 0 0 0 0 0 0 0 0 0 0 0 0 0 0 0 0 0 0 0 0 0 0 0 0 0 0 0 0 0 0 0 0 0 0 0 0 0 0 0 0 0 0 0 0 0 0 0 0 0 0 0 0 0 0 0 0 0 0 0 0 0 0 0 0 0 0 0 0 0 0 0 0 0 0 0 0 0 0 0 0 0 0 0 0 0 0 0 0 0 0 0 0 0 0 0 0 0 0 0 0 0 0 0 0 0 0 0 0 0 0 0 0 0 0 0 0 0 0 0 0 0 0 0 0 0 0 0 0 0 0 0 0 0 0 0 0 0 0 0 0 0 0 0 0 0 0 0 0 0 0 0 0 0 0 0 0 0 0 0 0 0 0 0 0 0 0 0 0 0 0 0 0 0 0 0 0 0 0 0 0 0 0 0 0 0 0 0 0 0 0 0 0 0 0 0 0 0 0 0 0 0 0 0 0 0 0 0 0 0 0 0 0 0 0 0 0 0 0 0 0 0 0 0 0 0 0 0 0 0 0 0 0 0 0 0 0 0 0 0 0 0 0 0 0 0 0 0 0 0 0 0 0 0 0 0 0 0 0 0 0 0 0 0 0 0 0 0 0 0 0 0 0 0 0 0 0 0 0 0 0 0 0 0 0 0 0 0 0 0 0 0 0 0 0 0 0 0 0 0 0 0 0 0 0 0 0 0 0 0 0 0 0 0 0 0 0 0 0\n"
          ]
        },
        {
          "output_type": "stream",
          "name": "stdout",
          "text": [
            "INFO:tensorflow:label: 0 (id = 0)\n"
          ]
        },
        {
          "output_type": "stream",
          "name": "stderr",
          "text": [
            "INFO:tensorflow:label: 0 (id = 0)\n"
          ]
        },
        {
          "output_type": "stream",
          "name": "stdout",
          "text": [
            "INFO:tensorflow:*** Example ***\n"
          ]
        },
        {
          "output_type": "stream",
          "name": "stderr",
          "text": [
            "INFO:tensorflow:*** Example ***\n"
          ]
        },
        {
          "output_type": "stream",
          "name": "stdout",
          "text": [
            "INFO:tensorflow:guid: \n"
          ]
        },
        {
          "output_type": "stream",
          "name": "stderr",
          "text": [
            "INFO:tensorflow:guid: \n"
          ]
        },
        {
          "output_type": "stream",
          "name": "stdout",
          "text": [
            "INFO:tensorflow:tokens: [CLS] he stopped suddenly as he passed the living room of the third - year dorm ##itor ##ies . he re ##tra ##ced his steps as he noticed something that caught his attention . he walked until he reached the large gray - toned couch that stood there . he had returned from his patrol of the nearby city to aid the people who refused to go to the au for shelter because of the chaos present throughout japan . the paranormal liberation army had struck a heavy blow to the whole society , destroying the two pillars that supported security , dim ##ini ##shing the trust that everyone could feel for the heroes . they did not trust that they could protect them , and even more so because of the overwhelming evidence of the destruction . that created a d ##yst ##op ##ia around the world , so the au students themselves were assigned to go out and help . especially them , who were the big three . they were considered almost heroes , the best in the school for their great mastery in the use of their powers and the other habits that determine being a hero . he took a seat next to the person there , whose face was leaning against the sofa ' s bra ##zier . the confrontation that destroyed several cities . it was a terrible fight that cost the lives of many heroes and several more injured . some of the 1 - a were still in the hospital , even though about two days had passed . he had come out with minor injuries so after a check ##up and minor healing he was released that same day . but he stayed in the hospital , next to ne ##ji ##re had ##o ' s stretch ##er . he had received damage from fighting together with shot ##o tod ##oro ##ki against one of the liberation army members . second - degree burns that shu ##zen ##ji had healed in full . he was worried to learn that she was there , even though he knew she was not at risk , as soon as he could move he went to see her . being greeted by a smile that calmed his distress . she was perfectly fine now , sitting next to him . she had gone out a day before but was unable to accompany her as he had been sent to evacuate some civilians . that was why he was on his way to his room when he saw her sitting alone on the couch in the living room of the apartments . \" are you all right ? \" spoke tam ##aki after a long time without her moving from her place . \" yes , it ' s just that . . . \" she stopped the sentence in the middle , sat up , stretching and looking at her hands . he couldn ' t remember seeing ne ##ji ##re de ##jected about anything [SEP]\n"
          ]
        },
        {
          "output_type": "stream",
          "name": "stderr",
          "text": [
            "INFO:tensorflow:tokens: [CLS] he stopped suddenly as he passed the living room of the third - year dorm ##itor ##ies . he re ##tra ##ced his steps as he noticed something that caught his attention . he walked until he reached the large gray - toned couch that stood there . he had returned from his patrol of the nearby city to aid the people who refused to go to the au for shelter because of the chaos present throughout japan . the paranormal liberation army had struck a heavy blow to the whole society , destroying the two pillars that supported security , dim ##ini ##shing the trust that everyone could feel for the heroes . they did not trust that they could protect them , and even more so because of the overwhelming evidence of the destruction . that created a d ##yst ##op ##ia around the world , so the au students themselves were assigned to go out and help . especially them , who were the big three . they were considered almost heroes , the best in the school for their great mastery in the use of their powers and the other habits that determine being a hero . he took a seat next to the person there , whose face was leaning against the sofa ' s bra ##zier . the confrontation that destroyed several cities . it was a terrible fight that cost the lives of many heroes and several more injured . some of the 1 - a were still in the hospital , even though about two days had passed . he had come out with minor injuries so after a check ##up and minor healing he was released that same day . but he stayed in the hospital , next to ne ##ji ##re had ##o ' s stretch ##er . he had received damage from fighting together with shot ##o tod ##oro ##ki against one of the liberation army members . second - degree burns that shu ##zen ##ji had healed in full . he was worried to learn that she was there , even though he knew she was not at risk , as soon as he could move he went to see her . being greeted by a smile that calmed his distress . she was perfectly fine now , sitting next to him . she had gone out a day before but was unable to accompany her as he had been sent to evacuate some civilians . that was why he was on his way to his room when he saw her sitting alone on the couch in the living room of the apartments . \" are you all right ? \" spoke tam ##aki after a long time without her moving from her place . \" yes , it ' s just that . . . \" she stopped the sentence in the middle , sat up , stretching and looking at her hands . he couldn ' t remember seeing ne ##ji ##re de ##jected about anything [SEP]\n"
          ]
        },
        {
          "output_type": "stream",
          "name": "stdout",
          "text": [
            "INFO:tensorflow:input_ids: 101 2002 3030 3402 2004 2002 2979 1996 2542 2282 1997 1996 2353 1011 2095 19568 15660 3111 1012 2002 2128 6494 11788 2010 4084 2004 2002 4384 2242 2008 3236 2010 3086 1012 2002 2939 2127 2002 2584 1996 2312 3897 1011 27604 6411 2008 2768 2045 1012 2002 2018 2513 2013 2010 6477 1997 1996 3518 2103 2000 4681 1996 2111 2040 4188 2000 2175 2000 1996 8740 2005 7713 2138 1997 1996 8488 2556 2802 2900 1012 1996 20725 7931 2390 2018 4930 1037 3082 6271 2000 1996 2878 2554 1010 9846 1996 2048 13766 2008 3569 3036 1010 11737 5498 12227 1996 3404 2008 3071 2071 2514 2005 1996 7348 1012 2027 2106 2025 3404 2008 2027 2071 4047 2068 1010 1998 2130 2062 2061 2138 1997 1996 10827 3350 1997 1996 6215 1012 2008 2580 1037 1040 27268 7361 2401 2105 1996 2088 1010 2061 1996 8740 2493 3209 2020 4137 2000 2175 2041 1998 2393 1012 2926 2068 1010 2040 2020 1996 2502 2093 1012 2027 2020 2641 2471 7348 1010 1996 2190 1999 1996 2082 2005 2037 2307 26364 1999 1996 2224 1997 2037 4204 1998 1996 2060 14243 2008 5646 2108 1037 5394 1012 2002 2165 1037 2835 2279 2000 1996 2711 2045 1010 3005 2227 2001 6729 2114 1996 10682 1005 1055 11655 21548 1012 1996 13111 2008 3908 2195 3655 1012 2009 2001 1037 6659 2954 2008 3465 1996 3268 1997 2116 7348 1998 2195 2062 5229 1012 2070 1997 1996 1015 1011 1037 2020 2145 1999 1996 2902 1010 2130 2295 2055 2048 2420 2018 2979 1012 2002 2018 2272 2041 2007 3576 6441 2061 2044 1037 4638 6279 1998 3576 8907 2002 2001 2207 2008 2168 2154 1012 2021 2002 4370 1999 1996 2902 1010 2279 2000 11265 4478 2890 2018 2080 1005 1055 7683 2121 1012 2002 2018 2363 4053 2013 3554 2362 2007 2915 2080 28681 14604 3211 2114 2028 1997 1996 7931 2390 2372 1012 2117 1011 3014 7641 2008 18454 10431 4478 2018 15027 1999 2440 1012 2002 2001 5191 2000 4553 2008 2016 2001 2045 1010 2130 2295 2002 2354 2016 2001 2025 2012 3891 1010 2004 2574 2004 2002 2071 2693 2002 2253 2000 2156 2014 1012 2108 11188 2011 1037 2868 2008 20869 2010 12893 1012 2016 2001 6669 2986 2085 1010 3564 2279 2000 2032 1012 2016 2018 2908 2041 1037 2154 2077 2021 2001 4039 2000 12673 2014 2004 2002 2018 2042 2741 2000 22811 2070 9272 1012 2008 2001 2339 2002 2001 2006 2010 2126 2000 2010 2282 2043 2002 2387 2014 3564 2894 2006 1996 6411 1999 1996 2542 2282 1997 1996 9620 1012 1000 2024 2017 2035 2157 1029 1000 3764 17214 8978 2044 1037 2146 2051 2302 2014 3048 2013 2014 2173 1012 1000 2748 1010 2009 1005 1055 2074 2008 1012 1012 1012 1000 2016 3030 1996 6251 1999 1996 2690 1010 2938 2039 1010 10917 1998 2559 2012 2014 2398 1012 2002 2481 1005 1056 3342 3773 11265 4478 2890 2139 24455 2055 2505 102\n"
          ]
        },
        {
          "output_type": "stream",
          "name": "stderr",
          "text": [
            "INFO:tensorflow:input_ids: 101 2002 3030 3402 2004 2002 2979 1996 2542 2282 1997 1996 2353 1011 2095 19568 15660 3111 1012 2002 2128 6494 11788 2010 4084 2004 2002 4384 2242 2008 3236 2010 3086 1012 2002 2939 2127 2002 2584 1996 2312 3897 1011 27604 6411 2008 2768 2045 1012 2002 2018 2513 2013 2010 6477 1997 1996 3518 2103 2000 4681 1996 2111 2040 4188 2000 2175 2000 1996 8740 2005 7713 2138 1997 1996 8488 2556 2802 2900 1012 1996 20725 7931 2390 2018 4930 1037 3082 6271 2000 1996 2878 2554 1010 9846 1996 2048 13766 2008 3569 3036 1010 11737 5498 12227 1996 3404 2008 3071 2071 2514 2005 1996 7348 1012 2027 2106 2025 3404 2008 2027 2071 4047 2068 1010 1998 2130 2062 2061 2138 1997 1996 10827 3350 1997 1996 6215 1012 2008 2580 1037 1040 27268 7361 2401 2105 1996 2088 1010 2061 1996 8740 2493 3209 2020 4137 2000 2175 2041 1998 2393 1012 2926 2068 1010 2040 2020 1996 2502 2093 1012 2027 2020 2641 2471 7348 1010 1996 2190 1999 1996 2082 2005 2037 2307 26364 1999 1996 2224 1997 2037 4204 1998 1996 2060 14243 2008 5646 2108 1037 5394 1012 2002 2165 1037 2835 2279 2000 1996 2711 2045 1010 3005 2227 2001 6729 2114 1996 10682 1005 1055 11655 21548 1012 1996 13111 2008 3908 2195 3655 1012 2009 2001 1037 6659 2954 2008 3465 1996 3268 1997 2116 7348 1998 2195 2062 5229 1012 2070 1997 1996 1015 1011 1037 2020 2145 1999 1996 2902 1010 2130 2295 2055 2048 2420 2018 2979 1012 2002 2018 2272 2041 2007 3576 6441 2061 2044 1037 4638 6279 1998 3576 8907 2002 2001 2207 2008 2168 2154 1012 2021 2002 4370 1999 1996 2902 1010 2279 2000 11265 4478 2890 2018 2080 1005 1055 7683 2121 1012 2002 2018 2363 4053 2013 3554 2362 2007 2915 2080 28681 14604 3211 2114 2028 1997 1996 7931 2390 2372 1012 2117 1011 3014 7641 2008 18454 10431 4478 2018 15027 1999 2440 1012 2002 2001 5191 2000 4553 2008 2016 2001 2045 1010 2130 2295 2002 2354 2016 2001 2025 2012 3891 1010 2004 2574 2004 2002 2071 2693 2002 2253 2000 2156 2014 1012 2108 11188 2011 1037 2868 2008 20869 2010 12893 1012 2016 2001 6669 2986 2085 1010 3564 2279 2000 2032 1012 2016 2018 2908 2041 1037 2154 2077 2021 2001 4039 2000 12673 2014 2004 2002 2018 2042 2741 2000 22811 2070 9272 1012 2008 2001 2339 2002 2001 2006 2010 2126 2000 2010 2282 2043 2002 2387 2014 3564 2894 2006 1996 6411 1999 1996 2542 2282 1997 1996 9620 1012 1000 2024 2017 2035 2157 1029 1000 3764 17214 8978 2044 1037 2146 2051 2302 2014 3048 2013 2014 2173 1012 1000 2748 1010 2009 1005 1055 2074 2008 1012 1012 1012 1000 2016 3030 1996 6251 1999 1996 2690 1010 2938 2039 1010 10917 1998 2559 2012 2014 2398 1012 2002 2481 1005 1056 3342 3773 11265 4478 2890 2139 24455 2055 2505 102\n"
          ]
        },
        {
          "output_type": "stream",
          "name": "stdout",
          "text": [
            "INFO:tensorflow:input_mask: 1 1 1 1 1 1 1 1 1 1 1 1 1 1 1 1 1 1 1 1 1 1 1 1 1 1 1 1 1 1 1 1 1 1 1 1 1 1 1 1 1 1 1 1 1 1 1 1 1 1 1 1 1 1 1 1 1 1 1 1 1 1 1 1 1 1 1 1 1 1 1 1 1 1 1 1 1 1 1 1 1 1 1 1 1 1 1 1 1 1 1 1 1 1 1 1 1 1 1 1 1 1 1 1 1 1 1 1 1 1 1 1 1 1 1 1 1 1 1 1 1 1 1 1 1 1 1 1 1 1 1 1 1 1 1 1 1 1 1 1 1 1 1 1 1 1 1 1 1 1 1 1 1 1 1 1 1 1 1 1 1 1 1 1 1 1 1 1 1 1 1 1 1 1 1 1 1 1 1 1 1 1 1 1 1 1 1 1 1 1 1 1 1 1 1 1 1 1 1 1 1 1 1 1 1 1 1 1 1 1 1 1 1 1 1 1 1 1 1 1 1 1 1 1 1 1 1 1 1 1 1 1 1 1 1 1 1 1 1 1 1 1 1 1 1 1 1 1 1 1 1 1 1 1 1 1 1 1 1 1 1 1 1 1 1 1 1 1 1 1 1 1 1 1 1 1 1 1 1 1 1 1 1 1 1 1 1 1 1 1 1 1 1 1 1 1 1 1 1 1 1 1 1 1 1 1 1 1 1 1 1 1 1 1 1 1 1 1 1 1 1 1 1 1 1 1 1 1 1 1 1 1 1 1 1 1 1 1 1 1 1 1 1 1 1 1 1 1 1 1 1 1 1 1 1 1 1 1 1 1 1 1 1 1 1 1 1 1 1 1 1 1 1 1 1 1 1 1 1 1 1 1 1 1 1 1 1 1 1 1 1 1 1 1 1 1 1 1 1 1 1 1 1 1 1 1 1 1 1 1 1 1 1 1 1 1 1 1 1 1 1 1 1 1 1 1 1 1 1 1 1 1 1 1 1 1 1 1 1 1 1 1 1 1 1 1 1 1 1 1 1 1 1 1 1 1 1 1 1 1 1 1 1 1 1 1 1 1 1 1 1 1 1 1 1 1 1 1 1 1 1 1 1 1 1 1 1 1 1 1 1 1 1 1 1 1 1 1 1 1 1 1 1 1 1 1 1 1 1 1 1 1\n"
          ]
        },
        {
          "output_type": "stream",
          "name": "stderr",
          "text": [
            "INFO:tensorflow:input_mask: 1 1 1 1 1 1 1 1 1 1 1 1 1 1 1 1 1 1 1 1 1 1 1 1 1 1 1 1 1 1 1 1 1 1 1 1 1 1 1 1 1 1 1 1 1 1 1 1 1 1 1 1 1 1 1 1 1 1 1 1 1 1 1 1 1 1 1 1 1 1 1 1 1 1 1 1 1 1 1 1 1 1 1 1 1 1 1 1 1 1 1 1 1 1 1 1 1 1 1 1 1 1 1 1 1 1 1 1 1 1 1 1 1 1 1 1 1 1 1 1 1 1 1 1 1 1 1 1 1 1 1 1 1 1 1 1 1 1 1 1 1 1 1 1 1 1 1 1 1 1 1 1 1 1 1 1 1 1 1 1 1 1 1 1 1 1 1 1 1 1 1 1 1 1 1 1 1 1 1 1 1 1 1 1 1 1 1 1 1 1 1 1 1 1 1 1 1 1 1 1 1 1 1 1 1 1 1 1 1 1 1 1 1 1 1 1 1 1 1 1 1 1 1 1 1 1 1 1 1 1 1 1 1 1 1 1 1 1 1 1 1 1 1 1 1 1 1 1 1 1 1 1 1 1 1 1 1 1 1 1 1 1 1 1 1 1 1 1 1 1 1 1 1 1 1 1 1 1 1 1 1 1 1 1 1 1 1 1 1 1 1 1 1 1 1 1 1 1 1 1 1 1 1 1 1 1 1 1 1 1 1 1 1 1 1 1 1 1 1 1 1 1 1 1 1 1 1 1 1 1 1 1 1 1 1 1 1 1 1 1 1 1 1 1 1 1 1 1 1 1 1 1 1 1 1 1 1 1 1 1 1 1 1 1 1 1 1 1 1 1 1 1 1 1 1 1 1 1 1 1 1 1 1 1 1 1 1 1 1 1 1 1 1 1 1 1 1 1 1 1 1 1 1 1 1 1 1 1 1 1 1 1 1 1 1 1 1 1 1 1 1 1 1 1 1 1 1 1 1 1 1 1 1 1 1 1 1 1 1 1 1 1 1 1 1 1 1 1 1 1 1 1 1 1 1 1 1 1 1 1 1 1 1 1 1 1 1 1 1 1 1 1 1 1 1 1 1 1 1 1 1 1 1 1 1 1 1 1 1 1 1 1 1 1 1 1 1 1 1 1 1 1 1 1 1 1 1 1 1 1 1 1\n"
          ]
        },
        {
          "output_type": "stream",
          "name": "stdout",
          "text": [
            "INFO:tensorflow:segment_ids: 0 0 0 0 0 0 0 0 0 0 0 0 0 0 0 0 0 0 0 0 0 0 0 0 0 0 0 0 0 0 0 0 0 0 0 0 0 0 0 0 0 0 0 0 0 0 0 0 0 0 0 0 0 0 0 0 0 0 0 0 0 0 0 0 0 0 0 0 0 0 0 0 0 0 0 0 0 0 0 0 0 0 0 0 0 0 0 0 0 0 0 0 0 0 0 0 0 0 0 0 0 0 0 0 0 0 0 0 0 0 0 0 0 0 0 0 0 0 0 0 0 0 0 0 0 0 0 0 0 0 0 0 0 0 0 0 0 0 0 0 0 0 0 0 0 0 0 0 0 0 0 0 0 0 0 0 0 0 0 0 0 0 0 0 0 0 0 0 0 0 0 0 0 0 0 0 0 0 0 0 0 0 0 0 0 0 0 0 0 0 0 0 0 0 0 0 0 0 0 0 0 0 0 0 0 0 0 0 0 0 0 0 0 0 0 0 0 0 0 0 0 0 0 0 0 0 0 0 0 0 0 0 0 0 0 0 0 0 0 0 0 0 0 0 0 0 0 0 0 0 0 0 0 0 0 0 0 0 0 0 0 0 0 0 0 0 0 0 0 0 0 0 0 0 0 0 0 0 0 0 0 0 0 0 0 0 0 0 0 0 0 0 0 0 0 0 0 0 0 0 0 0 0 0 0 0 0 0 0 0 0 0 0 0 0 0 0 0 0 0 0 0 0 0 0 0 0 0 0 0 0 0 0 0 0 0 0 0 0 0 0 0 0 0 0 0 0 0 0 0 0 0 0 0 0 0 0 0 0 0 0 0 0 0 0 0 0 0 0 0 0 0 0 0 0 0 0 0 0 0 0 0 0 0 0 0 0 0 0 0 0 0 0 0 0 0 0 0 0 0 0 0 0 0 0 0 0 0 0 0 0 0 0 0 0 0 0 0 0 0 0 0 0 0 0 0 0 0 0 0 0 0 0 0 0 0 0 0 0 0 0 0 0 0 0 0 0 0 0 0 0 0 0 0 0 0 0 0 0 0 0 0 0 0 0 0 0 0 0 0 0 0 0 0 0 0 0 0 0 0 0 0 0 0 0 0 0 0 0 0 0 0 0 0 0 0 0 0 0 0 0 0 0 0 0 0 0 0 0 0 0 0\n"
          ]
        },
        {
          "output_type": "stream",
          "name": "stderr",
          "text": [
            "INFO:tensorflow:segment_ids: 0 0 0 0 0 0 0 0 0 0 0 0 0 0 0 0 0 0 0 0 0 0 0 0 0 0 0 0 0 0 0 0 0 0 0 0 0 0 0 0 0 0 0 0 0 0 0 0 0 0 0 0 0 0 0 0 0 0 0 0 0 0 0 0 0 0 0 0 0 0 0 0 0 0 0 0 0 0 0 0 0 0 0 0 0 0 0 0 0 0 0 0 0 0 0 0 0 0 0 0 0 0 0 0 0 0 0 0 0 0 0 0 0 0 0 0 0 0 0 0 0 0 0 0 0 0 0 0 0 0 0 0 0 0 0 0 0 0 0 0 0 0 0 0 0 0 0 0 0 0 0 0 0 0 0 0 0 0 0 0 0 0 0 0 0 0 0 0 0 0 0 0 0 0 0 0 0 0 0 0 0 0 0 0 0 0 0 0 0 0 0 0 0 0 0 0 0 0 0 0 0 0 0 0 0 0 0 0 0 0 0 0 0 0 0 0 0 0 0 0 0 0 0 0 0 0 0 0 0 0 0 0 0 0 0 0 0 0 0 0 0 0 0 0 0 0 0 0 0 0 0 0 0 0 0 0 0 0 0 0 0 0 0 0 0 0 0 0 0 0 0 0 0 0 0 0 0 0 0 0 0 0 0 0 0 0 0 0 0 0 0 0 0 0 0 0 0 0 0 0 0 0 0 0 0 0 0 0 0 0 0 0 0 0 0 0 0 0 0 0 0 0 0 0 0 0 0 0 0 0 0 0 0 0 0 0 0 0 0 0 0 0 0 0 0 0 0 0 0 0 0 0 0 0 0 0 0 0 0 0 0 0 0 0 0 0 0 0 0 0 0 0 0 0 0 0 0 0 0 0 0 0 0 0 0 0 0 0 0 0 0 0 0 0 0 0 0 0 0 0 0 0 0 0 0 0 0 0 0 0 0 0 0 0 0 0 0 0 0 0 0 0 0 0 0 0 0 0 0 0 0 0 0 0 0 0 0 0 0 0 0 0 0 0 0 0 0 0 0 0 0 0 0 0 0 0 0 0 0 0 0 0 0 0 0 0 0 0 0 0 0 0 0 0 0 0 0 0 0 0 0 0 0 0 0 0 0 0 0 0 0 0 0 0 0 0 0 0 0 0 0 0 0 0 0 0 0 0 0 0 0 0\n"
          ]
        },
        {
          "output_type": "stream",
          "name": "stdout",
          "text": [
            "INFO:tensorflow:label: 0 (id = 0)\n"
          ]
        },
        {
          "output_type": "stream",
          "name": "stderr",
          "text": [
            "INFO:tensorflow:label: 0 (id = 0)\n"
          ]
        },
        {
          "output_type": "stream",
          "name": "stdout",
          "text": [
            "INFO:tensorflow:Calling model_fn.\n"
          ]
        },
        {
          "output_type": "stream",
          "name": "stderr",
          "text": [
            "INFO:tensorflow:Calling model_fn.\n"
          ]
        },
        {
          "output_type": "stream",
          "name": "stdout",
          "text": [
            "INFO:tensorflow:Saver not created because there are no variables in the graph to restore\n"
          ]
        },
        {
          "output_type": "stream",
          "name": "stderr",
          "text": [
            "INFO:tensorflow:Saver not created because there are no variables in the graph to restore\n"
          ]
        },
        {
          "output_type": "stream",
          "name": "stdout",
          "text": [
            "INFO:tensorflow:Done calling model_fn.\n"
          ]
        },
        {
          "output_type": "stream",
          "name": "stderr",
          "text": [
            "INFO:tensorflow:Done calling model_fn.\n"
          ]
        },
        {
          "output_type": "stream",
          "name": "stdout",
          "text": [
            "INFO:tensorflow:Graph was finalized.\n"
          ]
        },
        {
          "output_type": "stream",
          "name": "stderr",
          "text": [
            "INFO:tensorflow:Graph was finalized.\n"
          ]
        },
        {
          "output_type": "stream",
          "name": "stdout",
          "text": [
            "INFO:tensorflow:Restoring parameters from /GD/My Drive/Colab Notebooks/BERT/bert_fandom_category/model.ckpt-16\n"
          ]
        },
        {
          "output_type": "stream",
          "name": "stderr",
          "text": [
            "INFO:tensorflow:Restoring parameters from /GD/My Drive/Colab Notebooks/BERT/bert_fandom_category/model.ckpt-16\n"
          ]
        },
        {
          "output_type": "stream",
          "name": "stdout",
          "text": [
            "INFO:tensorflow:Running local_init_op.\n"
          ]
        },
        {
          "output_type": "stream",
          "name": "stderr",
          "text": [
            "INFO:tensorflow:Running local_init_op.\n"
          ]
        },
        {
          "output_type": "stream",
          "name": "stdout",
          "text": [
            "INFO:tensorflow:Done running local_init_op.\n"
          ]
        },
        {
          "output_type": "stream",
          "name": "stderr",
          "text": [
            "INFO:tensorflow:Done running local_init_op.\n"
          ]
        }
      ]
    },
    {
      "cell_type": "code",
      "source": [
        "predictions[0]"
      ],
      "metadata": {
        "colab": {
          "base_uri": "https://localhost:8080/"
        },
        "id": "Hd-q1KRMK6hw",
        "outputId": "95acf16a-3938-4a79-b306-788f1f4eb77b"
      },
      "execution_count": null,
      "outputs": [
        {
          "output_type": "execute_result",
          "data": {
            "text/plain": [
              "('Notes:\\n\\n \\n\\nNyasasaurus Pirringtoni is believed to have walked the earth in the middle triassic era, which is about 243 million years ago. Its fossils were found in Tanzania near Lake Nyasa, and the name Nyasasaurus means Lake Nyasa lizard.\\n\\n \\n\\nSource : Smithsonia Magazine\\n\\n.\\n\\n \\n\\n\"Doc, it looks like we have to take action, the muscle movements in his heart are getting weaker if we force the heart to pump more, the muscle work will be more forced and can leak\"\\n\\nI can see Professor Jack\\'s worried expression, we\\'ve been in the operating room for five hours trying to save a patient with heart failure. this should have been a normal operation to install a pacemaker but ended up being a major operation due to abnormal muscle work\\n\\nI gave some opinions to professor jack as the head of surgery, I knew he was in need of some opinions because on his face he looked like a confused person. I admit he is a cardiologist in this country but this is a very sudden and complicated case, I myself am only an assistant who can only help him.\\n\\nI looked at the camera which was pointing at the organ that was beating so fast, the movement was abnormal and seemed to have to slow down with each beat. I gave Professor Jack some advice and he started to understand what I meant.\\n\\nhe asked me to take over and start installing some devices to slow down the speed of the heart muscle and seal off some of the parts that looked like they were going to leak and my suggestion worked. we can all breathe easy, even though the heart can\\'t go back to normal as usual, at least the function can be used again.\\n\\nProfessor Jack gave me a satisfied smile, and he asked me to stitch up the postoperative wound. five stressful hours had passed and we were all finally out of the operating room. I walked out taking off the scrub and washing my hands which were covered in blood and professor jack was standing next to me doing the same.\\n\\n\"After this please come to my office, I want to give you an important task\" said professor jack walking past me while patting my back lightly\\n\\nIt\\'s been a year since my official appointment as a doctor, actually I had plans to take up a specialist but I guess I\\'ll have to put it off because I\\'m starting to enjoy my job now.\\n\\nProfessor Jack\\'s office is on the top floor of this hospital, he is a legendary doctor and even sits as the chair of the executive director. several times I accompanied him for major surgeries and doctors\\' conferences you could say I was his favorite assistant. even because of that many other doctors envy me , they hardly ever even talk to me except for work matters . I myself don\\'t mind it because why talk to people who want to bring you down.\\n\\nSeveral times I knocked on the door until I heard Professor Jack\\'s voice telling me to come in. the office is very big there is even a balcony overlooking the meekong river. I\\'ve always wanted to have an office like this.\\n\\n\"Nanon, 2 days ago I spoke to my friend from the hospital in Chiangmai. Coincidentally, they need a doctor to work there. I recommend you to work there. Do you want to? Isn\\'t this an advantage for you so that you can deepen your knowledge at the same time? help a lot of people?\"\\n\\nwhat? I didn\\'t hear wrong right? chiang mai ? I thought he would send me to study in Holland or America? and now instead telling me to go to chiang mai??\\n\\n\"You don\\'t have to accept it, I can ask another doctor, for example, doctor chimon ?\"\\n\\nchimon? damn it! why did he carry that person\\'s name, didn\\'t he know we were sworn enemies?\\n\\n\"How long will I be there?\"\\n\\n\"7 months isn\\'t a long time right? after that I will ask the hospital to fund your specialist course in the Netherlands as you wish. nanon, you are a great doctor so great that I recognize your abilities. Being a doctor is not just about money or skills of course. The doctor\\'s duty to treat and heal the sick is a noble service.\"\\n\\n\"I\\'ll think about it first\"\\n\\n\"Okay, I\\'ll give you 3 days to think about it because they really need you there\"\\n\\nmy legs felt like limp after that talk, not that i don\\'t want to go to chiang mai but there are still many things i can\\'t let go of in bangkok, i never even went to chiang mai before. I don\\'t know what the situation is like there or there is a danger that I can\\'t face. Really I even doubt myself whether I can live alone or not.\\n\\nit was 7 pm when i got home and aunt som greeted me with a warm smile and led me to the dining room. Aunt Som is a housemaid who has served in this family since I was a child. she was like my own biological mother, a mother figure that I could not get from my own biological mother. ironic isn\\'t it?\\n\\n\"Are mom and dad home yet?\" I asked aunty som who put the bowl of soup in front of me\\n\\n\"madam and master came home this afternoon but only took a moment to get clothes and then flew to Macau, they said there was a business client who asked for an urgent meeting\"\\n\\nI can only take a deep breath. I\\'m used to like this seeing the state of my house which is always quiet every time I come home. Why have a house this big if no one lives in this house? I\\'ll even only meet them on national holidays or my birthday, it\\'s only for a moment they will come while pretending to smile and give me lots of expensive gifts.\\n\\nthey didn\\'t even show up for my important days at school, watching me graduate to become a doctor. even dad was very angry with me because I didn\\'t want to work with him. Since I was young, I wanted to be a great doctor who is skilled in everything, but they wanted me to be the heir to the company and work for the family because I was the only child.\\n\\nYou could even say that my mother hated me.When I was little my mother once told me that I was the reason she became fat and not beautiful anymore. mother never held me even never held my hand at all. my mother gave birth to me only as a condition for her to be accepted into my father\\'s family. the three of us are like strangers forced to live together if it weren\\'t for aunt som, maybe I would have run away from this house long ago.\\n\\n\"Auntie, I got an assignment letter to Chiangmai\"\\n\\naunt som smiled happily and then stood beside me \"you know right chiang mai is where aunty is from?\"\\n\\n\"But I\\'ve never been there even I don\\'t know how things are there? There\\'s no aunt to help me\"\\n\\naunt som then took my hand and gently stroked it \"becoming a doctor is a good and blessed thing, didn\\'t nong nanon ever tell aunt that you want to save many people? this is your chance to do that good thing\"\\n\\nI smiled then hugged aunt som tightly \"greatest aunt in the world\"\\n\\n1 hour journey by plane I finally arrived at chiang mai airport. according to the information given to me, there will be a messenger from the hospital who will pick me up and sure enough there is a man waiting for me with a giant banner even bigger than him with my name on it. it looks so embarrassing when he screams loudly calling my name i feel like i want to go back in and fly back to bangkok.\\n\\nSlowly, I finally approached the man. he is a few inches taller than me and his body is so big I can even assume that he really likes sports even when standing close to him I look smaller. but his appearance really looks very slovenly like he doesn\\'t pay much attention to his outward appearance and wears whatever clothes are available. I mean how long has he not washed his clothes? And look at his messy hair!!\\n\\n\"doctor nanon? I am ohm, ohm pawat. I was sent to pick you up\"\\n\\nhe held out his hand in front of me. he looks like a bum who hasn\\'t showered in days. fortunately as a curmudgeon, his body smells very good at least I won\\'t vomit now.\\n\\n\"where\\'s your car? I brought a big suitcase\"\\n\\n\"ahhh please come with me\"\\n\\nhe carried the large banner in both hands and tore it apart with great ease. is he a hulk? this is not wrong pick up right?\\n\\nan old jeep greeted us in the parking lot, there is no air conditioning even the roof is just a tarpaulin and the tires are full of mud. where was this guy before picking me up? He\\'s not a member of a kidnapping syndicate that\\'s rife on TV, right?\\n\\n\"Oh, the car was stuck in the mud hahahaha, I put the suitcase in the back seat\"\\n\\ndammit! he seems to read my mind, what from the look on my face can be seen clearly?\\n\\nhe opened the door and greeted me to go inside \"sorry can\\'t pick you up in a luxury car but it\\'s useless to use a luxury car because it will damage the car\"\\n\\n\"Huh? Where is that place?\"\\n\\n\"You weren\\'t told beforehand?\"\\n\\nhe looks like a confused person but now I\\'m confused about where exactly I will work\\n\\n\"at chom thong near doi inthanon\"\\n\\n\"Wait....wait....so I\\'m not working in downtown chiang mai?\"\\n\\nhe instead laughed out loud \"no... you think you will work in the city center? many hospitals are already full of great doctors, you will work far north of thailand. about 9 hours from the center of chiang mai\"\\n\\nwhat ? they didn\\'t tell me about this! you mean i will work in the hinterland? this is not a joke right? I\\'m not dreaming right? if i\\'m dreaming please pinch my hand because i hope i don\\'t want to wake up from this reality.\\n\\n.\\n\\n \\n\\nto be continue\\n\\n.\\n\\n \\n\\nThis is just my side project because I\\'m excited to make Ohm Nanon\\'s ff. I fell in love with this couple since watching Bad Buddy and finally I made this ff. the story is very light and even different from many of my other ffs which have mature theme. nowadays it\\'s just about 2 people with different natures who slowly fall in love lol! but there are still adult scenes but not much and finally hope you like it',\n",
              " array([-1.6371427 , -1.4108828 , -1.7574363 , -0.94404596], dtype=float32),\n",
              " 3,\n",
              " 'Harry Potter - J. K. Rowling')"
            ]
          },
          "metadata": {},
          "execution_count": 56
        }
      ]
    },
    {
      "cell_type": "code",
      "source": [
        "enc_labels = []\n",
        "act_labels = []\n",
        "for i in range(len(predictions)):\n",
        "  enc_labels.append(predictions[i][2])\n",
        "  act_labels.append(predictions[i][3])"
      ],
      "metadata": {
        "id": "4kqny-pDK-na"
      },
      "execution_count": null,
      "outputs": []
    },
    {
      "cell_type": "code",
      "source": [
        "pd.DataFrame(enc_labels, columns = ['SECTION']).to_excel('/GD/My Drive/Colab Notebooks/BERT/submission_bert.xlsx', index = False)"
      ],
      "metadata": {
        "id": "AU8G8xWqLg1X"
      },
      "execution_count": null,
      "outputs": []
    },
    {
      "cell_type": "code",
      "source": [
        "import pandas as pd"
      ],
      "metadata": {
        "id": "FaxUMxkYCv--"
      },
      "execution_count": null,
      "outputs": []
    },
    {
      "cell_type": "code",
      "source": [
        "df4=pd.read_excel('/GD/My Drive/Colab Notebooks/BERT/submission_bert.xlsx')"
      ],
      "metadata": {
        "id": "KXmxCvuiBXvu"
      },
      "execution_count": null,
      "outputs": []
    },
    {
      "cell_type": "code",
      "source": [
        "fandomcodes = {\n",
        "   0: 'Six of Crows Series - Leigh Bardugo',\t\t\t\t\n",
        "1:'Sherlock (TV)',\t\t\t\t\n",
        " 2:'James Bond (Craig Movies)',\t\t\t\t\n",
        " 3:'Harry Potter - J. K. Rowling',\t\t\t\t\n",
        "}"
      ],
      "metadata": {
        "id": "UlS8OtuDA28O"
      },
      "execution_count": null,
      "outputs": []
    },
    {
      "cell_type": "code",
      "source": [
        ""
      ],
      "metadata": {
        "id": "tW5P4CuRBXQe"
      },
      "execution_count": null,
      "outputs": []
    },
    {
      "cell_type": "code",
      "source": [
        "# Category mapping\n",
        "df4['FANDOM'] = df4['SECTION']\n",
        "df4 = df4.replace({'FANDOM':fandomcodes})\n",
        "df4"
      ],
      "metadata": {
        "colab": {
          "base_uri": "https://localhost:8080/",
          "height": 423
        },
        "id": "DfvAGivLAbtz",
        "outputId": "68b23628-bb31-4977-c1b4-d73842039ab3"
      },
      "execution_count": null,
      "outputs": [
        {
          "output_type": "execute_result",
          "data": {
            "text/plain": [
              "     SECTION                               FANDOM\n",
              "0          3         Harry Potter - J. K. Rowling\n",
              "1          1                        Sherlock (TV)\n",
              "2          3         Harry Potter - J. K. Rowling\n",
              "3          0  Six of Crows Series - Leigh Bardugo\n",
              "4          3         Harry Potter - J. K. Rowling\n",
              "..       ...                                  ...\n",
              "500        3         Harry Potter - J. K. Rowling\n",
              "501        1                        Sherlock (TV)\n",
              "502        1                        Sherlock (TV)\n",
              "503        1                        Sherlock (TV)\n",
              "504        3         Harry Potter - J. K. Rowling\n",
              "\n",
              "[505 rows x 2 columns]"
            ],
            "text/html": [
              "\n",
              "  <div id=\"df-3f43d46d-2339-4d0f-9dfc-41a9542cbc36\">\n",
              "    <div class=\"colab-df-container\">\n",
              "      <div>\n",
              "<style scoped>\n",
              "    .dataframe tbody tr th:only-of-type {\n",
              "        vertical-align: middle;\n",
              "    }\n",
              "\n",
              "    .dataframe tbody tr th {\n",
              "        vertical-align: top;\n",
              "    }\n",
              "\n",
              "    .dataframe thead th {\n",
              "        text-align: right;\n",
              "    }\n",
              "</style>\n",
              "<table border=\"1\" class=\"dataframe\">\n",
              "  <thead>\n",
              "    <tr style=\"text-align: right;\">\n",
              "      <th></th>\n",
              "      <th>SECTION</th>\n",
              "      <th>FANDOM</th>\n",
              "    </tr>\n",
              "  </thead>\n",
              "  <tbody>\n",
              "    <tr>\n",
              "      <th>0</th>\n",
              "      <td>3</td>\n",
              "      <td>Harry Potter - J. K. Rowling</td>\n",
              "    </tr>\n",
              "    <tr>\n",
              "      <th>1</th>\n",
              "      <td>1</td>\n",
              "      <td>Sherlock (TV)</td>\n",
              "    </tr>\n",
              "    <tr>\n",
              "      <th>2</th>\n",
              "      <td>3</td>\n",
              "      <td>Harry Potter - J. K. Rowling</td>\n",
              "    </tr>\n",
              "    <tr>\n",
              "      <th>3</th>\n",
              "      <td>0</td>\n",
              "      <td>Six of Crows Series - Leigh Bardugo</td>\n",
              "    </tr>\n",
              "    <tr>\n",
              "      <th>4</th>\n",
              "      <td>3</td>\n",
              "      <td>Harry Potter - J. K. Rowling</td>\n",
              "    </tr>\n",
              "    <tr>\n",
              "      <th>...</th>\n",
              "      <td>...</td>\n",
              "      <td>...</td>\n",
              "    </tr>\n",
              "    <tr>\n",
              "      <th>500</th>\n",
              "      <td>3</td>\n",
              "      <td>Harry Potter - J. K. Rowling</td>\n",
              "    </tr>\n",
              "    <tr>\n",
              "      <th>501</th>\n",
              "      <td>1</td>\n",
              "      <td>Sherlock (TV)</td>\n",
              "    </tr>\n",
              "    <tr>\n",
              "      <th>502</th>\n",
              "      <td>1</td>\n",
              "      <td>Sherlock (TV)</td>\n",
              "    </tr>\n",
              "    <tr>\n",
              "      <th>503</th>\n",
              "      <td>1</td>\n",
              "      <td>Sherlock (TV)</td>\n",
              "    </tr>\n",
              "    <tr>\n",
              "      <th>504</th>\n",
              "      <td>3</td>\n",
              "      <td>Harry Potter - J. K. Rowling</td>\n",
              "    </tr>\n",
              "  </tbody>\n",
              "</table>\n",
              "<p>505 rows × 2 columns</p>\n",
              "</div>\n",
              "      <button class=\"colab-df-convert\" onclick=\"convertToInteractive('df-3f43d46d-2339-4d0f-9dfc-41a9542cbc36')\"\n",
              "              title=\"Convert this dataframe to an interactive table.\"\n",
              "              style=\"display:none;\">\n",
              "        \n",
              "  <svg xmlns=\"http://www.w3.org/2000/svg\" height=\"24px\"viewBox=\"0 0 24 24\"\n",
              "       width=\"24px\">\n",
              "    <path d=\"M0 0h24v24H0V0z\" fill=\"none\"/>\n",
              "    <path d=\"M18.56 5.44l.94 2.06.94-2.06 2.06-.94-2.06-.94-.94-2.06-.94 2.06-2.06.94zm-11 1L8.5 8.5l.94-2.06 2.06-.94-2.06-.94L8.5 2.5l-.94 2.06-2.06.94zm10 10l.94 2.06.94-2.06 2.06-.94-2.06-.94-.94-2.06-.94 2.06-2.06.94z\"/><path d=\"M17.41 7.96l-1.37-1.37c-.4-.4-.92-.59-1.43-.59-.52 0-1.04.2-1.43.59L10.3 9.45l-7.72 7.72c-.78.78-.78 2.05 0 2.83L4 21.41c.39.39.9.59 1.41.59.51 0 1.02-.2 1.41-.59l7.78-7.78 2.81-2.81c.8-.78.8-2.07 0-2.86zM5.41 20L4 18.59l7.72-7.72 1.47 1.35L5.41 20z\"/>\n",
              "  </svg>\n",
              "      </button>\n",
              "      \n",
              "  <style>\n",
              "    .colab-df-container {\n",
              "      display:flex;\n",
              "      flex-wrap:wrap;\n",
              "      gap: 12px;\n",
              "    }\n",
              "\n",
              "    .colab-df-convert {\n",
              "      background-color: #E8F0FE;\n",
              "      border: none;\n",
              "      border-radius: 50%;\n",
              "      cursor: pointer;\n",
              "      display: none;\n",
              "      fill: #1967D2;\n",
              "      height: 32px;\n",
              "      padding: 0 0 0 0;\n",
              "      width: 32px;\n",
              "    }\n",
              "\n",
              "    .colab-df-convert:hover {\n",
              "      background-color: #E2EBFA;\n",
              "      box-shadow: 0px 1px 2px rgba(60, 64, 67, 0.3), 0px 1px 3px 1px rgba(60, 64, 67, 0.15);\n",
              "      fill: #174EA6;\n",
              "    }\n",
              "\n",
              "    [theme=dark] .colab-df-convert {\n",
              "      background-color: #3B4455;\n",
              "      fill: #D2E3FC;\n",
              "    }\n",
              "\n",
              "    [theme=dark] .colab-df-convert:hover {\n",
              "      background-color: #434B5C;\n",
              "      box-shadow: 0px 1px 3px 1px rgba(0, 0, 0, 0.15);\n",
              "      filter: drop-shadow(0px 1px 2px rgba(0, 0, 0, 0.3));\n",
              "      fill: #FFFFFF;\n",
              "    }\n",
              "  </style>\n",
              "\n",
              "      <script>\n",
              "        const buttonEl =\n",
              "          document.querySelector('#df-3f43d46d-2339-4d0f-9dfc-41a9542cbc36 button.colab-df-convert');\n",
              "        buttonEl.style.display =\n",
              "          google.colab.kernel.accessAllowed ? 'block' : 'none';\n",
              "\n",
              "        async function convertToInteractive(key) {\n",
              "          const element = document.querySelector('#df-3f43d46d-2339-4d0f-9dfc-41a9542cbc36');\n",
              "          const dataTable =\n",
              "            await google.colab.kernel.invokeFunction('convertToInteractive',\n",
              "                                                     [key], {});\n",
              "          if (!dataTable) return;\n",
              "\n",
              "          const docLinkHtml = 'Like what you see? Visit the ' +\n",
              "            '<a target=\"_blank\" href=https://colab.research.google.com/notebooks/data_table.ipynb>data table notebook</a>'\n",
              "            + ' to learn more about interactive tables.';\n",
              "          element.innerHTML = '';\n",
              "          dataTable['output_type'] = 'display_data';\n",
              "          await google.colab.output.renderOutput(dataTable, element);\n",
              "          const docLink = document.createElement('div');\n",
              "          docLink.innerHTML = docLinkHtml;\n",
              "          element.appendChild(docLink);\n",
              "        }\n",
              "      </script>\n",
              "    </div>\n",
              "  </div>\n",
              "  "
            ]
          },
          "metadata": {},
          "execution_count": 62
        }
      ]
    },
    {
      "cell_type": "code",
      "source": [
        "fandom_column = test['fandom']\n",
        "fandom_column"
      ],
      "metadata": {
        "colab": {
          "base_uri": "https://localhost:8080/"
        },
        "id": "TOqHAVXlpHQn",
        "outputId": "9f79ab57-462d-4944-ddec-2de701df3cf7"
      },
      "execution_count": null,
      "outputs": [
        {
          "output_type": "execute_result",
          "data": {
            "text/plain": [
              "0      aekhephuue`nkhrabephuue`n | Bad Buddy: the Ser...\n",
              "1                                    Mass Effect Trilogy\n",
              "2                           Harry Potter - J. K. Rowling\n",
              "3      Zhou Shu Hui Zhan  | Jujutsu Kaisen (Manga), Z...\n",
              "4      Pu nohiroakademia | Boku no Hero Academia | My...\n",
              "                             ...                        \n",
              "500    Hawkeye (TV 2021), Marvel Cinematic Universe, ...\n",
              "501    Sonic the Hedgehog - All Media Types, Sonic th...\n",
              "502                                      Kyou Kara Maou!\n",
              "503    Final Fantasy VII Remake (Video Game 2020), Fi...\n",
              "504                                Once Upon a Time (TV)\n",
              "Name: fandom, Length: 505, dtype: object"
            ]
          },
          "metadata": {},
          "execution_count": 63
        }
      ]
    },
    {
      "cell_type": "code",
      "source": [
        "df4 = df4.join(fandom_column)\n",
        "df4"
      ],
      "metadata": {
        "colab": {
          "base_uri": "https://localhost:8080/",
          "height": 952
        },
        "id": "OnRRKqgyqXtL",
        "outputId": "5ae516e1-1017-4aa8-9d20-fc2caa86c91f"
      },
      "execution_count": null,
      "outputs": [
        {
          "output_type": "execute_result",
          "data": {
            "text/plain": [
              "     SECTION                               FANDOM  \\\n",
              "0          3         Harry Potter - J. K. Rowling   \n",
              "1          1                        Sherlock (TV)   \n",
              "2          3         Harry Potter - J. K. Rowling   \n",
              "3          0  Six of Crows Series - Leigh Bardugo   \n",
              "4          3         Harry Potter - J. K. Rowling   \n",
              "..       ...                                  ...   \n",
              "500        3         Harry Potter - J. K. Rowling   \n",
              "501        1                        Sherlock (TV)   \n",
              "502        1                        Sherlock (TV)   \n",
              "503        1                        Sherlock (TV)   \n",
              "504        3         Harry Potter - J. K. Rowling   \n",
              "\n",
              "                                                fandom  \n",
              "0    aekhephuue`nkhrabephuue`n | Bad Buddy: the Ser...  \n",
              "1                                  Mass Effect Trilogy  \n",
              "2                         Harry Potter - J. K. Rowling  \n",
              "3    Zhou Shu Hui Zhan  | Jujutsu Kaisen (Manga), Z...  \n",
              "4    Pu nohiroakademia | Boku no Hero Academia | My...  \n",
              "..                                                 ...  \n",
              "500  Hawkeye (TV 2021), Marvel Cinematic Universe, ...  \n",
              "501  Sonic the Hedgehog - All Media Types, Sonic th...  \n",
              "502                                    Kyou Kara Maou!  \n",
              "503  Final Fantasy VII Remake (Video Game 2020), Fi...  \n",
              "504                              Once Upon a Time (TV)  \n",
              "\n",
              "[505 rows x 3 columns]"
            ],
            "text/html": [
              "\n",
              "  <div id=\"df-48011065-fec6-49ec-aaee-da8d42c16ee8\">\n",
              "    <div class=\"colab-df-container\">\n",
              "      <div>\n",
              "<style scoped>\n",
              "    .dataframe tbody tr th:only-of-type {\n",
              "        vertical-align: middle;\n",
              "    }\n",
              "\n",
              "    .dataframe tbody tr th {\n",
              "        vertical-align: top;\n",
              "    }\n",
              "\n",
              "    .dataframe thead th {\n",
              "        text-align: right;\n",
              "    }\n",
              "</style>\n",
              "<table border=\"1\" class=\"dataframe\">\n",
              "  <thead>\n",
              "    <tr style=\"text-align: right;\">\n",
              "      <th></th>\n",
              "      <th>SECTION</th>\n",
              "      <th>FANDOM</th>\n",
              "      <th>fandom</th>\n",
              "    </tr>\n",
              "  </thead>\n",
              "  <tbody>\n",
              "    <tr>\n",
              "      <th>0</th>\n",
              "      <td>3</td>\n",
              "      <td>Harry Potter - J. K. Rowling</td>\n",
              "      <td>aekhephuue`nkhrabephuue`n | Bad Buddy: the Ser...</td>\n",
              "    </tr>\n",
              "    <tr>\n",
              "      <th>1</th>\n",
              "      <td>1</td>\n",
              "      <td>Sherlock (TV)</td>\n",
              "      <td>Mass Effect Trilogy</td>\n",
              "    </tr>\n",
              "    <tr>\n",
              "      <th>2</th>\n",
              "      <td>3</td>\n",
              "      <td>Harry Potter - J. K. Rowling</td>\n",
              "      <td>Harry Potter - J. K. Rowling</td>\n",
              "    </tr>\n",
              "    <tr>\n",
              "      <th>3</th>\n",
              "      <td>0</td>\n",
              "      <td>Six of Crows Series - Leigh Bardugo</td>\n",
              "      <td>Zhou Shu Hui Zhan  | Jujutsu Kaisen (Manga), Z...</td>\n",
              "    </tr>\n",
              "    <tr>\n",
              "      <th>4</th>\n",
              "      <td>3</td>\n",
              "      <td>Harry Potter - J. K. Rowling</td>\n",
              "      <td>Pu nohiroakademia | Boku no Hero Academia | My...</td>\n",
              "    </tr>\n",
              "    <tr>\n",
              "      <th>...</th>\n",
              "      <td>...</td>\n",
              "      <td>...</td>\n",
              "      <td>...</td>\n",
              "    </tr>\n",
              "    <tr>\n",
              "      <th>500</th>\n",
              "      <td>3</td>\n",
              "      <td>Harry Potter - J. K. Rowling</td>\n",
              "      <td>Hawkeye (TV 2021), Marvel Cinematic Universe, ...</td>\n",
              "    </tr>\n",
              "    <tr>\n",
              "      <th>501</th>\n",
              "      <td>1</td>\n",
              "      <td>Sherlock (TV)</td>\n",
              "      <td>Sonic the Hedgehog - All Media Types, Sonic th...</td>\n",
              "    </tr>\n",
              "    <tr>\n",
              "      <th>502</th>\n",
              "      <td>1</td>\n",
              "      <td>Sherlock (TV)</td>\n",
              "      <td>Kyou Kara Maou!</td>\n",
              "    </tr>\n",
              "    <tr>\n",
              "      <th>503</th>\n",
              "      <td>1</td>\n",
              "      <td>Sherlock (TV)</td>\n",
              "      <td>Final Fantasy VII Remake (Video Game 2020), Fi...</td>\n",
              "    </tr>\n",
              "    <tr>\n",
              "      <th>504</th>\n",
              "      <td>3</td>\n",
              "      <td>Harry Potter - J. K. Rowling</td>\n",
              "      <td>Once Upon a Time (TV)</td>\n",
              "    </tr>\n",
              "  </tbody>\n",
              "</table>\n",
              "<p>505 rows × 3 columns</p>\n",
              "</div>\n",
              "      <button class=\"colab-df-convert\" onclick=\"convertToInteractive('df-48011065-fec6-49ec-aaee-da8d42c16ee8')\"\n",
              "              title=\"Convert this dataframe to an interactive table.\"\n",
              "              style=\"display:none;\">\n",
              "        \n",
              "  <svg xmlns=\"http://www.w3.org/2000/svg\" height=\"24px\"viewBox=\"0 0 24 24\"\n",
              "       width=\"24px\">\n",
              "    <path d=\"M0 0h24v24H0V0z\" fill=\"none\"/>\n",
              "    <path d=\"M18.56 5.44l.94 2.06.94-2.06 2.06-.94-2.06-.94-.94-2.06-.94 2.06-2.06.94zm-11 1L8.5 8.5l.94-2.06 2.06-.94-2.06-.94L8.5 2.5l-.94 2.06-2.06.94zm10 10l.94 2.06.94-2.06 2.06-.94-2.06-.94-.94-2.06-.94 2.06-2.06.94z\"/><path d=\"M17.41 7.96l-1.37-1.37c-.4-.4-.92-.59-1.43-.59-.52 0-1.04.2-1.43.59L10.3 9.45l-7.72 7.72c-.78.78-.78 2.05 0 2.83L4 21.41c.39.39.9.59 1.41.59.51 0 1.02-.2 1.41-.59l7.78-7.78 2.81-2.81c.8-.78.8-2.07 0-2.86zM5.41 20L4 18.59l7.72-7.72 1.47 1.35L5.41 20z\"/>\n",
              "  </svg>\n",
              "      </button>\n",
              "      \n",
              "  <style>\n",
              "    .colab-df-container {\n",
              "      display:flex;\n",
              "      flex-wrap:wrap;\n",
              "      gap: 12px;\n",
              "    }\n",
              "\n",
              "    .colab-df-convert {\n",
              "      background-color: #E8F0FE;\n",
              "      border: none;\n",
              "      border-radius: 50%;\n",
              "      cursor: pointer;\n",
              "      display: none;\n",
              "      fill: #1967D2;\n",
              "      height: 32px;\n",
              "      padding: 0 0 0 0;\n",
              "      width: 32px;\n",
              "    }\n",
              "\n",
              "    .colab-df-convert:hover {\n",
              "      background-color: #E2EBFA;\n",
              "      box-shadow: 0px 1px 2px rgba(60, 64, 67, 0.3), 0px 1px 3px 1px rgba(60, 64, 67, 0.15);\n",
              "      fill: #174EA6;\n",
              "    }\n",
              "\n",
              "    [theme=dark] .colab-df-convert {\n",
              "      background-color: #3B4455;\n",
              "      fill: #D2E3FC;\n",
              "    }\n",
              "\n",
              "    [theme=dark] .colab-df-convert:hover {\n",
              "      background-color: #434B5C;\n",
              "      box-shadow: 0px 1px 3px 1px rgba(0, 0, 0, 0.15);\n",
              "      filter: drop-shadow(0px 1px 2px rgba(0, 0, 0, 0.3));\n",
              "      fill: #FFFFFF;\n",
              "    }\n",
              "  </style>\n",
              "\n",
              "      <script>\n",
              "        const buttonEl =\n",
              "          document.querySelector('#df-48011065-fec6-49ec-aaee-da8d42c16ee8 button.colab-df-convert');\n",
              "        buttonEl.style.display =\n",
              "          google.colab.kernel.accessAllowed ? 'block' : 'none';\n",
              "\n",
              "        async function convertToInteractive(key) {\n",
              "          const element = document.querySelector('#df-48011065-fec6-49ec-aaee-da8d42c16ee8');\n",
              "          const dataTable =\n",
              "            await google.colab.kernel.invokeFunction('convertToInteractive',\n",
              "                                                     [key], {});\n",
              "          if (!dataTable) return;\n",
              "\n",
              "          const docLinkHtml = 'Like what you see? Visit the ' +\n",
              "            '<a target=\"_blank\" href=https://colab.research.google.com/notebooks/data_table.ipynb>data table notebook</a>'\n",
              "            + ' to learn more about interactive tables.';\n",
              "          element.innerHTML = '';\n",
              "          dataTable['output_type'] = 'display_data';\n",
              "          await google.colab.output.renderOutput(dataTable, element);\n",
              "          const docLink = document.createElement('div');\n",
              "          docLink.innerHTML = docLinkHtml;\n",
              "          element.appendChild(docLink);\n",
              "        }\n",
              "      </script>\n",
              "    </div>\n",
              "  </div>\n",
              "  "
            ]
          },
          "metadata": {},
          "execution_count": 64
        }
      ]
    },
    {
      "cell_type": "code",
      "source": [
        "df4 = df4.rename(columns={\"fandom\":\"actual fandom\"})\n",
        "df4"
      ],
      "metadata": {
        "colab": {
          "base_uri": "https://localhost:8080/",
          "height": 1465
        },
        "id": "U_3DS5u-rBPa",
        "outputId": "90011f62-d8ac-4e0f-cc85-fbfcc50efd4e"
      },
      "execution_count": null,
      "outputs": [
        {
          "output_type": "execute_result",
          "data": {
            "text/plain": [
              "     SECTION                               FANDOM  \\\n",
              "0          3         Harry Potter - J. K. Rowling   \n",
              "1          1                        Sherlock (TV)   \n",
              "2          3         Harry Potter - J. K. Rowling   \n",
              "3          0  Six of Crows Series - Leigh Bardugo   \n",
              "4          3         Harry Potter - J. K. Rowling   \n",
              "..       ...                                  ...   \n",
              "500        3         Harry Potter - J. K. Rowling   \n",
              "501        1                        Sherlock (TV)   \n",
              "502        1                        Sherlock (TV)   \n",
              "503        1                        Sherlock (TV)   \n",
              "504        3         Harry Potter - J. K. Rowling   \n",
              "\n",
              "                                         actual fandom  \n",
              "0    aekhephuue`nkhrabephuue`n | Bad Buddy: the Ser...  \n",
              "1                                  Mass Effect Trilogy  \n",
              "2                         Harry Potter - J. K. Rowling  \n",
              "3    Zhou Shu Hui Zhan  | Jujutsu Kaisen (Manga), Z...  \n",
              "4    Pu nohiroakademia | Boku no Hero Academia | My...  \n",
              "..                                                 ...  \n",
              "500  Hawkeye (TV 2021), Marvel Cinematic Universe, ...  \n",
              "501  Sonic the Hedgehog - All Media Types, Sonic th...  \n",
              "502                                    Kyou Kara Maou!  \n",
              "503  Final Fantasy VII Remake (Video Game 2020), Fi...  \n",
              "504                              Once Upon a Time (TV)  \n",
              "\n",
              "[505 rows x 3 columns]"
            ],
            "text/html": [
              "\n",
              "  <div id=\"df-dbbfc287-ee1c-4f8a-8161-98bf7ddf5ac8\">\n",
              "    <div class=\"colab-df-container\">\n",
              "      <div>\n",
              "<style scoped>\n",
              "    .dataframe tbody tr th:only-of-type {\n",
              "        vertical-align: middle;\n",
              "    }\n",
              "\n",
              "    .dataframe tbody tr th {\n",
              "        vertical-align: top;\n",
              "    }\n",
              "\n",
              "    .dataframe thead th {\n",
              "        text-align: right;\n",
              "    }\n",
              "</style>\n",
              "<table border=\"1\" class=\"dataframe\">\n",
              "  <thead>\n",
              "    <tr style=\"text-align: right;\">\n",
              "      <th></th>\n",
              "      <th>SECTION</th>\n",
              "      <th>FANDOM</th>\n",
              "      <th>actual fandom</th>\n",
              "    </tr>\n",
              "  </thead>\n",
              "  <tbody>\n",
              "    <tr>\n",
              "      <th>0</th>\n",
              "      <td>3</td>\n",
              "      <td>Harry Potter - J. K. Rowling</td>\n",
              "      <td>aekhephuue`nkhrabephuue`n | Bad Buddy: the Ser...</td>\n",
              "    </tr>\n",
              "    <tr>\n",
              "      <th>1</th>\n",
              "      <td>1</td>\n",
              "      <td>Sherlock (TV)</td>\n",
              "      <td>Mass Effect Trilogy</td>\n",
              "    </tr>\n",
              "    <tr>\n",
              "      <th>2</th>\n",
              "      <td>3</td>\n",
              "      <td>Harry Potter - J. K. Rowling</td>\n",
              "      <td>Harry Potter - J. K. Rowling</td>\n",
              "    </tr>\n",
              "    <tr>\n",
              "      <th>3</th>\n",
              "      <td>0</td>\n",
              "      <td>Six of Crows Series - Leigh Bardugo</td>\n",
              "      <td>Zhou Shu Hui Zhan  | Jujutsu Kaisen (Manga), Z...</td>\n",
              "    </tr>\n",
              "    <tr>\n",
              "      <th>4</th>\n",
              "      <td>3</td>\n",
              "      <td>Harry Potter - J. K. Rowling</td>\n",
              "      <td>Pu nohiroakademia | Boku no Hero Academia | My...</td>\n",
              "    </tr>\n",
              "    <tr>\n",
              "      <th>...</th>\n",
              "      <td>...</td>\n",
              "      <td>...</td>\n",
              "      <td>...</td>\n",
              "    </tr>\n",
              "    <tr>\n",
              "      <th>500</th>\n",
              "      <td>3</td>\n",
              "      <td>Harry Potter - J. K. Rowling</td>\n",
              "      <td>Hawkeye (TV 2021), Marvel Cinematic Universe, ...</td>\n",
              "    </tr>\n",
              "    <tr>\n",
              "      <th>501</th>\n",
              "      <td>1</td>\n",
              "      <td>Sherlock (TV)</td>\n",
              "      <td>Sonic the Hedgehog - All Media Types, Sonic th...</td>\n",
              "    </tr>\n",
              "    <tr>\n",
              "      <th>502</th>\n",
              "      <td>1</td>\n",
              "      <td>Sherlock (TV)</td>\n",
              "      <td>Kyou Kara Maou!</td>\n",
              "    </tr>\n",
              "    <tr>\n",
              "      <th>503</th>\n",
              "      <td>1</td>\n",
              "      <td>Sherlock (TV)</td>\n",
              "      <td>Final Fantasy VII Remake (Video Game 2020), Fi...</td>\n",
              "    </tr>\n",
              "    <tr>\n",
              "      <th>504</th>\n",
              "      <td>3</td>\n",
              "      <td>Harry Potter - J. K. Rowling</td>\n",
              "      <td>Once Upon a Time (TV)</td>\n",
              "    </tr>\n",
              "  </tbody>\n",
              "</table>\n",
              "<p>505 rows × 3 columns</p>\n",
              "</div>\n",
              "      <button class=\"colab-df-convert\" onclick=\"convertToInteractive('df-dbbfc287-ee1c-4f8a-8161-98bf7ddf5ac8')\"\n",
              "              title=\"Convert this dataframe to an interactive table.\"\n",
              "              style=\"display:none;\">\n",
              "        \n",
              "  <svg xmlns=\"http://www.w3.org/2000/svg\" height=\"24px\"viewBox=\"0 0 24 24\"\n",
              "       width=\"24px\">\n",
              "    <path d=\"M0 0h24v24H0V0z\" fill=\"none\"/>\n",
              "    <path d=\"M18.56 5.44l.94 2.06.94-2.06 2.06-.94-2.06-.94-.94-2.06-.94 2.06-2.06.94zm-11 1L8.5 8.5l.94-2.06 2.06-.94-2.06-.94L8.5 2.5l-.94 2.06-2.06.94zm10 10l.94 2.06.94-2.06 2.06-.94-2.06-.94-.94-2.06-.94 2.06-2.06.94z\"/><path d=\"M17.41 7.96l-1.37-1.37c-.4-.4-.92-.59-1.43-.59-.52 0-1.04.2-1.43.59L10.3 9.45l-7.72 7.72c-.78.78-.78 2.05 0 2.83L4 21.41c.39.39.9.59 1.41.59.51 0 1.02-.2 1.41-.59l7.78-7.78 2.81-2.81c.8-.78.8-2.07 0-2.86zM5.41 20L4 18.59l7.72-7.72 1.47 1.35L5.41 20z\"/>\n",
              "  </svg>\n",
              "      </button>\n",
              "      \n",
              "  <style>\n",
              "    .colab-df-container {\n",
              "      display:flex;\n",
              "      flex-wrap:wrap;\n",
              "      gap: 12px;\n",
              "    }\n",
              "\n",
              "    .colab-df-convert {\n",
              "      background-color: #E8F0FE;\n",
              "      border: none;\n",
              "      border-radius: 50%;\n",
              "      cursor: pointer;\n",
              "      display: none;\n",
              "      fill: #1967D2;\n",
              "      height: 32px;\n",
              "      padding: 0 0 0 0;\n",
              "      width: 32px;\n",
              "    }\n",
              "\n",
              "    .colab-df-convert:hover {\n",
              "      background-color: #E2EBFA;\n",
              "      box-shadow: 0px 1px 2px rgba(60, 64, 67, 0.3), 0px 1px 3px 1px rgba(60, 64, 67, 0.15);\n",
              "      fill: #174EA6;\n",
              "    }\n",
              "\n",
              "    [theme=dark] .colab-df-convert {\n",
              "      background-color: #3B4455;\n",
              "      fill: #D2E3FC;\n",
              "    }\n",
              "\n",
              "    [theme=dark] .colab-df-convert:hover {\n",
              "      background-color: #434B5C;\n",
              "      box-shadow: 0px 1px 3px 1px rgba(0, 0, 0, 0.15);\n",
              "      filter: drop-shadow(0px 1px 2px rgba(0, 0, 0, 0.3));\n",
              "      fill: #FFFFFF;\n",
              "    }\n",
              "  </style>\n",
              "\n",
              "      <script>\n",
              "        const buttonEl =\n",
              "          document.querySelector('#df-dbbfc287-ee1c-4f8a-8161-98bf7ddf5ac8 button.colab-df-convert');\n",
              "        buttonEl.style.display =\n",
              "          google.colab.kernel.accessAllowed ? 'block' : 'none';\n",
              "\n",
              "        async function convertToInteractive(key) {\n",
              "          const element = document.querySelector('#df-dbbfc287-ee1c-4f8a-8161-98bf7ddf5ac8');\n",
              "          const dataTable =\n",
              "            await google.colab.kernel.invokeFunction('convertToInteractive',\n",
              "                                                     [key], {});\n",
              "          if (!dataTable) return;\n",
              "\n",
              "          const docLinkHtml = 'Like what you see? Visit the ' +\n",
              "            '<a target=\"_blank\" href=https://colab.research.google.com/notebooks/data_table.ipynb>data table notebook</a>'\n",
              "            + ' to learn more about interactive tables.';\n",
              "          element.innerHTML = '';\n",
              "          dataTable['output_type'] = 'display_data';\n",
              "          await google.colab.output.renderOutput(dataTable, element);\n",
              "          const docLink = document.createElement('div');\n",
              "          docLink.innerHTML = docLinkHtml;\n",
              "          element.appendChild(docLink);\n",
              "        }\n",
              "      </script>\n",
              "    </div>\n",
              "  </div>\n",
              "  "
            ]
          },
          "metadata": {},
          "execution_count": 65
        }
      ]
    },
    {
      "cell_type": "markdown",
      "source": [
        "TODO: I want to try making a test set that actually has only sherlock, james bond, six of crows, and harry potter because that's the only categories that were in the training set"
      ],
      "metadata": {
        "id": "pb2r1CJ-LFXy"
      }
    },
    {
      "cell_type": "code",
      "source": [
        "import pandas as pd"
      ],
      "metadata": {
        "id": "__eNIllFj8eP"
      },
      "execution_count": null,
      "outputs": []
    },
    {
      "cell_type": "code",
      "source": [
        "# from google.colab import files\n",
        "# uploaded = files.upload()"
      ],
      "metadata": {
        "id": "qBp3ZqCJjfaq"
      },
      "execution_count": null,
      "outputs": []
    },
    {
      "cell_type": "code",
      "source": [
        "# import io\n",
        "# test2 = pd.read_csv(io.BytesIO(uploaded['fandom_test.csv']))"
      ],
      "metadata": {
        "id": "BIkL_9uNjxJ9"
      },
      "execution_count": null,
      "outputs": []
    },
    {
      "cell_type": "code",
      "source": [
        "test2=pd.read_csv('/GD/My Drive/Colab Notebooks/Fanfiction/fandom_test.csv')"
      ],
      "metadata": {
        "id": "bhq6ATwN0NTj"
      },
      "execution_count": null,
      "outputs": []
    },
    {
      "cell_type": "code",
      "source": [
        "LoNE = []\n",
        "for i in range(len(test2)):\n",
        "  if test2['language'][i] != 'English':\n",
        "      LoNE += [i]\n",
        "print(LoNE )\n",
        "print(len(LoNE))\n"
      ],
      "metadata": {
        "colab": {
          "base_uri": "https://localhost:8080/"
        },
        "id": "NAp2lez1kCTY",
        "outputId": "9bb8e008-a978-4324-c9f3-f6b8950ac666"
      },
      "execution_count": null,
      "outputs": [
        {
          "output_type": "stream",
          "name": "stdout",
          "text": [
            "[]\n",
            "0\n"
          ]
        }
      ]
    },
    {
      "cell_type": "code",
      "source": [
        "test2['Body_Parsed_1'] = test2['body'].str.replace(\"\\r\", \" \")\n",
        "test2['Body_Parsed_1'] = test2['Body_Parsed_1'].str.replace(\"\\n\", \" \")\n",
        "test2['Body_Parsed_1'] = test2['Body_Parsed_1'].str.replace(\"    \", \" \")\n",
        "test2['Body_Parsed_1'] = test2['Body_Parsed_1'].str.replace(\"\\t\", \" \")"
      ],
      "metadata": {
        "id": "CUjJk9dTkOYh"
      },
      "execution_count": null,
      "outputs": []
    },
    {
      "cell_type": "code",
      "source": [
        "#Distribution of classes\n",
        "test2['fandom'].value_counts().plot(kind = 'bar')"
      ],
      "metadata": {
        "colab": {
          "base_uri": "https://localhost:8080/",
          "height": 793
        },
        "id": "0b3QbDCQkcQN",
        "outputId": "6f992f14-9728-4b40-f45f-80caa674f8f6"
      },
      "execution_count": null,
      "outputs": [
        {
          "output_type": "execute_result",
          "data": {
            "text/plain": [
              "<matplotlib.axes._subplots.AxesSubplot at 0x7f0551cade10>"
            ]
          },
          "metadata": {},
          "execution_count": 72
        },
        {
          "output_type": "display_data",
          "data": {
            "text/plain": [
              "<Figure size 432x288 with 1 Axes>"
            ],
            "image/png": "[encoded data removed]"
          },
          "metadata": {
            "needs_background": "light"
          }
        }
      ]
    },
    {
      "cell_type": "markdown",
      "source": [
        "Okay oops I was supposed to clean that stuff..."
      ],
      "metadata": {
        "id": "KxCIjWoNkkby"
      }
    },
    {
      "cell_type": "code",
      "source": [
        "## rows with multiple fandoms eliminate? \n",
        "sc = 0\n",
        "mc = 0\n",
        "drop = []\n",
        "for i in range(len(test2)):\n",
        "    fandom_list = test2['fandom'][i]\n",
        "    fandom_list = fandom_list.split(\",\")\n",
        "#     print(fandom_list)\n",
        "    if len(fandom_list) == 1:\n",
        "        if fandom_list[0] == 'Six of Crows Series - Leigh Bardugo':\n",
        "            sc+=1\n",
        "        elif fandom_list[0] == 'Sherlock (TV)' :\n",
        "            sc+=1\n",
        "        elif fandom_list[0] == 'James Bond (Craig Movies)' :\n",
        "            sc+=1\n",
        "        elif fandom_list[0] == 'Harry Potter - J. K. Rowling':\n",
        "            sc+=1\n",
        "        else:\n",
        "            drop += [i]\n",
        "    else:\n",
        "        #drop the ones that are multifandom \n",
        "        drop += [i]\n",
        "        mc+=1\n",
        "print(drop)\n",
        "\n",
        "print(f'{sc} that are only one fandom')\n",
        "print(f'{mc} that are multifandom')    \n",
        "    "
      ],
      "metadata": {
        "colab": {
          "base_uri": "https://localhost:8080/"
        },
        "id": "Hx1EC21UkkLp",
        "outputId": "dccc7ec6-f963-4f80-94d8-24758ec5aa1d"
      },
      "execution_count": null,
      "outputs": [
        {
          "output_type": "stream",
          "name": "stdout",
          "text": [
            "[3, 50, 51, 53, 54, 55, 56, 57, 58, 59, 60, 61, 62, 66, 67, 68, 71, 72, 74, 75, 76, 77, 81, 82, 83, 84, 85, 88, 92, 93, 94, 95, 98, 100, 101, 115, 127, 129, 142, 158, 159, 173, 177, 182, 184, 190, 192, 194, 195]\n",
            "151 that are only one fandom\n",
            "30 that are multifandom\n"
          ]
        }
      ]
    },
    {
      "cell_type": "code",
      "source": [
        "ROW = 0\n",
        "COLUMN = 1\n",
        "\n",
        "test2_clean = test2.drop(drop, axis=ROW)\n",
        "test2_clean"
      ],
      "metadata": {
        "colab": {
          "base_uri": "https://localhost:8080/",
          "height": 1000
        },
        "id": "tZNyY2YEljDH",
        "outputId": "6076e1a3-a614-4212-9782-52b67a8d9718"
      },
      "execution_count": null,
      "outputs": [
        {
          "output_type": "execute_result",
          "data": {
            "text/plain": [
              "      work_id                                            title  \\\n",
              "0    16238273                                A Murder of Crows   \n",
              "1    19283566                               Colm & Aditi, 1989   \n",
              "2    11786106                                      If and When   \n",
              "4    13051152  Not Brick or Stone, or Comfort in the Firelight   \n",
              "5    32219725                                 pretty ballerina   \n",
              "..        ...                                              ...   \n",
              "193    681524                                A Case of Assault   \n",
              "196   1324303                              When the Cold Bites   \n",
              "197   1047637                                      Elimination   \n",
              "198    894130                                       The Puzzle   \n",
              "199    383603                                     Kith and Kin   \n",
              "\n",
              "                             author                 rating  category  \\\n",
              "0     ['FallenRiotforSweetRevenge']  Teen And Up Audiences  F/M, M/M   \n",
              "1        ['zemenipearls (ayaanle)']      General Audiences       F/M   \n",
              "2                        ['Higado']  Teen And Up Audiences       Gen   \n",
              "4                    ['metaphasia']      General Audiences       Gen   \n",
              "5                    ['petersgwen']      General Audiences       F/M   \n",
              "..                              ...                    ...       ...   \n",
              "193        ['GendrysNorthernWench']      General Audiences     Other   \n",
              "196  ['idontblogforsherlockholmes']              Not Rated       NaN   \n",
              "197                  ['MonkeyBard']  Teen And Up Audiences       NaN   \n",
              "198           ['angelsarewatching']  Teen And Up Audiences       Gen   \n",
              "199         ['sherlockholmeslives']  Teen And Up Audiences       Gen   \n",
              "\n",
              "                                  fandom  \\\n",
              "0    Six of Crows Series - Leigh Bardugo   \n",
              "1    Six of Crows Series - Leigh Bardugo   \n",
              "2    Six of Crows Series - Leigh Bardugo   \n",
              "4    Six of Crows Series - Leigh Bardugo   \n",
              "5    Six of Crows Series - Leigh Bardugo   \n",
              "..                                   ...   \n",
              "193                        Sherlock (TV)   \n",
              "196                        Sherlock (TV)   \n",
              "197                        Sherlock (TV)   \n",
              "198                        Sherlock (TV)   \n",
              "199                        Sherlock (TV)   \n",
              "\n",
              "                                          relationship  \\\n",
              "0    Kaz Brekker/Inej Ghafa, Jesper Fahey/Wylan Van...   \n",
              "1                               Colm Fahey/Aditi Hilli   \n",
              "2                                                  NaN   \n",
              "4                                                  NaN   \n",
              "5                           Matthias Helvar/Nina Zenik   \n",
              "..                                                 ...   \n",
              "193                                                NaN   \n",
              "196                      Sherlock Holmes & John Watson   \n",
              "197                                                NaN   \n",
              "198                                                NaN   \n",
              "199                                                NaN   \n",
              "\n",
              "                                             character  \\\n",
              "0    Kaz Brekker, Jesper Fahey, Wylan Van Eck, Anik...   \n",
              "1                              Colm Fahey, Aditi Hilli   \n",
              "2    Kaz Brekker, Inej Ghafa, Nina Zenik, Matthias ...   \n",
              "4                                           Inej Ghafa   \n",
              "5                          Matthias Helvar, Nina Zenik   \n",
              "..                                                 ...   \n",
              "193  Sherlock Holmes, John Watson, Greg Lestrade, M...   \n",
              "196                                                NaN   \n",
              "197  Greg Lestrade, John Watson, Molly Hooper, Sall...   \n",
              "198        Sherlock Holmes, John Watson, Greg Lestrade   \n",
              "199                    Sherlock Holmes, Mycroft Holmes   \n",
              "\n",
              "                                       additional tags language  ... words  \\\n",
              "0    Post-Crooked Kingdom, Two Shot, My First Work ...  English  ...  5173   \n",
              "1    Alternate Universe - Modern Setting, Alternate...  English  ...   451   \n",
              "2    A poem, because I was sad, WELL ANYWAYS, i wro...  English  ...   650   \n",
              "4                                                  NaN  English  ...  1041   \n",
              "5                                                  NaN  English  ...  1594   \n",
              "..                                                 ...      ...  ...   ...   \n",
              "193       Do not fuck with Sherlock, John has bad days  English  ...   580   \n",
              "196  Kissing, Sexual Confusion, Unresolved Emotiona...  English  ...  3383   \n",
              "197               Crack, Science Fiction, Hurt/Comfort  English  ...  2105   \n",
              "198                                                NaN  English  ...  3729   \n",
              "199                                           One Shot  English  ...   171   \n",
              "\n",
              "    chapters comments  kudos bookmarks  hits  \\\n",
              "0        1/2      9.0   47.0       2.0   691   \n",
              "1        1/1      3.0   24.0       2.0   174   \n",
              "2        2/2      7.0   23.0       2.0   310   \n",
              "4        1/1      3.0   51.0       7.0   480   \n",
              "5        1/1      9.0   50.0       NaN   368   \n",
              "..       ...      ...    ...       ...   ...   \n",
              "193      1/1      NaN   15.0       3.0   438   \n",
              "196      1/1      2.0    7.0       NaN   285   \n",
              "197      1/1      6.0    9.0       NaN   220   \n",
              "198      1/1      NaN    2.0       NaN   222   \n",
              "199      1/1      NaN    4.0       NaN   398   \n",
              "\n",
              "                                             all_kudos  all_bookmarks  \\\n",
              "0    ['LawlietFan27', 'sy1v13', 'SultannaMajor', 'J...             []   \n",
              "1    ['NowNumber5', 'ahodgepodgeofthings', 'warmfuz...             []   \n",
              "2    ['LucyParnassus', 'trufelek', 'F1zzle', 'washm...             []   \n",
              "4    ['annemilk', 'Lio26', 'epithet', 'sconesunderm...             []   \n",
              "5    ['King0fTheFall', 'brekkered', 'heyheysogay', ...             []   \n",
              "..                                                 ...            ...   \n",
              "193  ['HerMajestyTheQueen', 'Dansel13', 'darkviolin...             []   \n",
              "196  ['Scarlet_angel', 'rift_bound', 'MaelaFr', 'cr...             []   \n",
              "197  ['libco', 'rbarr', 'Jaybeefoxy', 'shymel', 'Tr...             []   \n",
              "198        ['SecretlyWritingFanfic', 'alexxphoenix42']             []   \n",
              "199  ['darkenergy', 'a_variant_of_roar', 'Otter_Von...             []   \n",
              "\n",
              "                                                  body  \\\n",
              "0    The Wraith's silhouette had long faded away in...   \n",
              "1    Colm is a young Irishman studying abroad at th...   \n",
              "2    \\nIf the life you once knew is gone, \\n\\n\\n\\nI...   \n",
              "4    The Wraith slid through the water, as silent a...   \n",
              "5    Nina moved to Ketterdam with few possessions, ...   \n",
              "..                                                 ...   \n",
              "193  John watches with mild interest as Sherlock pu...   \n",
              "196  Clink - Down went the black and avocado stripe...   \n",
              "197  He supposed he should be celebrating that it w...   \n",
              "198  The Puzzle\\n\\nIt was pure alleviation when I h...   \n",
              "199  Sherlock admired his father above all other ma...   \n",
              "\n",
              "                                         Body_Parsed_1  \n",
              "0    The Wraith's silhouette had long faded away in...  \n",
              "1    Colm is a young Irishman studying abroad at th...  \n",
              "2     If the life you once knew is gone,  If they t...  \n",
              "4    The Wraith slid through the water, as silent a...  \n",
              "5    Nina moved to Ketterdam with few possessions, ...  \n",
              "..                                                 ...  \n",
              "193  John watches with mild interest as Sherlock pu...  \n",
              "196  Clink - Down went the black and avocado stripe...  \n",
              "197  He supposed he should be celebrating that it w...  \n",
              "198  The Puzzle  It was pure alleviation when I hea...  \n",
              "199  Sherlock admired his father above all other ma...  \n",
              "\n",
              "[151 rows x 23 columns]"
            ],
            "text/html": [
              "\n",
              "  <div id=\"df-a413b0f8-da36-41ef-8334-324428f32740\">\n",
              "    <div class=\"colab-df-container\">\n",
              "      <div>\n",
              "<style scoped>\n",
              "    .dataframe tbody tr th:only-of-type {\n",
              "        vertical-align: middle;\n",
              "    }\n",
              "\n",
              "    .dataframe tbody tr th {\n",
              "        vertical-align: top;\n",
              "    }\n",
              "\n",
              "    .dataframe thead th {\n",
              "        text-align: right;\n",
              "    }\n",
              "</style>\n",
              "<table border=\"1\" class=\"dataframe\">\n",
              "  <thead>\n",
              "    <tr style=\"text-align: right;\">\n",
              "      <th></th>\n",
              "      <th>work_id</th>\n",
              "      <th>title</th>\n",
              "      <th>author</th>\n",
              "      <th>rating</th>\n",
              "      <th>category</th>\n",
              "      <th>fandom</th>\n",
              "      <th>relationship</th>\n",
              "      <th>character</th>\n",
              "      <th>additional tags</th>\n",
              "      <th>language</th>\n",
              "      <th>...</th>\n",
              "      <th>words</th>\n",
              "      <th>chapters</th>\n",
              "      <th>comments</th>\n",
              "      <th>kudos</th>\n",
              "      <th>bookmarks</th>\n",
              "      <th>hits</th>\n",
              "      <th>all_kudos</th>\n",
              "      <th>all_bookmarks</th>\n",
              "      <th>body</th>\n",
              "      <th>Body_Parsed_1</th>\n",
              "    </tr>\n",
              "  </thead>\n",
              "  <tbody>\n",
              "    <tr>\n",
              "      <th>0</th>\n",
              "      <td>16238273</td>\n",
              "      <td>A Murder of Crows</td>\n",
              "      <td>['FallenRiotforSweetRevenge']</td>\n",
              "      <td>Teen And Up Audiences</td>\n",
              "      <td>F/M, M/M</td>\n",
              "      <td>Six of Crows Series - Leigh Bardugo</td>\n",
              "      <td>Kaz Brekker/Inej Ghafa, Jesper Fahey/Wylan Van...</td>\n",
              "      <td>Kaz Brekker, Jesper Fahey, Wylan Van Eck, Anik...</td>\n",
              "      <td>Post-Crooked Kingdom, Two Shot, My First Work ...</td>\n",
              "      <td>English</td>\n",
              "      <td>...</td>\n",
              "      <td>5173</td>\n",
              "      <td>1/2</td>\n",
              "      <td>9.0</td>\n",
              "      <td>47.0</td>\n",
              "      <td>2.0</td>\n",
              "      <td>691</td>\n",
              "      <td>['LawlietFan27', 'sy1v13', 'SultannaMajor', 'J...</td>\n",
              "      <td>[]</td>\n",
              "      <td>The Wraith's silhouette had long faded away in...</td>\n",
              "      <td>The Wraith's silhouette had long faded away in...</td>\n",
              "    </tr>\n",
              "    <tr>\n",
              "      <th>1</th>\n",
              "      <td>19283566</td>\n",
              "      <td>Colm &amp; Aditi, 1989</td>\n",
              "      <td>['zemenipearls (ayaanle)']</td>\n",
              "      <td>General Audiences</td>\n",
              "      <td>F/M</td>\n",
              "      <td>Six of Crows Series - Leigh Bardugo</td>\n",
              "      <td>Colm Fahey/Aditi Hilli</td>\n",
              "      <td>Colm Fahey, Aditi Hilli</td>\n",
              "      <td>Alternate Universe - Modern Setting, Alternate...</td>\n",
              "      <td>English</td>\n",
              "      <td>...</td>\n",
              "      <td>451</td>\n",
              "      <td>1/1</td>\n",
              "      <td>3.0</td>\n",
              "      <td>24.0</td>\n",
              "      <td>2.0</td>\n",
              "      <td>174</td>\n",
              "      <td>['NowNumber5', 'ahodgepodgeofthings', 'warmfuz...</td>\n",
              "      <td>[]</td>\n",
              "      <td>Colm is a young Irishman studying abroad at th...</td>\n",
              "      <td>Colm is a young Irishman studying abroad at th...</td>\n",
              "    </tr>\n",
              "    <tr>\n",
              "      <th>2</th>\n",
              "      <td>11786106</td>\n",
              "      <td>If and When</td>\n",
              "      <td>['Higado']</td>\n",
              "      <td>Teen And Up Audiences</td>\n",
              "      <td>Gen</td>\n",
              "      <td>Six of Crows Series - Leigh Bardugo</td>\n",
              "      <td>NaN</td>\n",
              "      <td>Kaz Brekker, Inej Ghafa, Nina Zenik, Matthias ...</td>\n",
              "      <td>A poem, because I was sad, WELL ANYWAYS, i wro...</td>\n",
              "      <td>English</td>\n",
              "      <td>...</td>\n",
              "      <td>650</td>\n",
              "      <td>2/2</td>\n",
              "      <td>7.0</td>\n",
              "      <td>23.0</td>\n",
              "      <td>2.0</td>\n",
              "      <td>310</td>\n",
              "      <td>['LucyParnassus', 'trufelek', 'F1zzle', 'washm...</td>\n",
              "      <td>[]</td>\n",
              "      <td>\\nIf the life you once knew is gone, \\n\\n\\n\\nI...</td>\n",
              "      <td>If the life you once knew is gone,  If they t...</td>\n",
              "    </tr>\n",
              "    <tr>\n",
              "      <th>4</th>\n",
              "      <td>13051152</td>\n",
              "      <td>Not Brick or Stone, or Comfort in the Firelight</td>\n",
              "      <td>['metaphasia']</td>\n",
              "      <td>General Audiences</td>\n",
              "      <td>Gen</td>\n",
              "      <td>Six of Crows Series - Leigh Bardugo</td>\n",
              "      <td>NaN</td>\n",
              "      <td>Inej Ghafa</td>\n",
              "      <td>NaN</td>\n",
              "      <td>English</td>\n",
              "      <td>...</td>\n",
              "      <td>1041</td>\n",
              "      <td>1/1</td>\n",
              "      <td>3.0</td>\n",
              "      <td>51.0</td>\n",
              "      <td>7.0</td>\n",
              "      <td>480</td>\n",
              "      <td>['annemilk', 'Lio26', 'epithet', 'sconesunderm...</td>\n",
              "      <td>[]</td>\n",
              "      <td>The Wraith slid through the water, as silent a...</td>\n",
              "      <td>The Wraith slid through the water, as silent a...</td>\n",
              "    </tr>\n",
              "    <tr>\n",
              "      <th>5</th>\n",
              "      <td>32219725</td>\n",
              "      <td>pretty ballerina</td>\n",
              "      <td>['petersgwen']</td>\n",
              "      <td>General Audiences</td>\n",
              "      <td>F/M</td>\n",
              "      <td>Six of Crows Series - Leigh Bardugo</td>\n",
              "      <td>Matthias Helvar/Nina Zenik</td>\n",
              "      <td>Matthias Helvar, Nina Zenik</td>\n",
              "      <td>NaN</td>\n",
              "      <td>English</td>\n",
              "      <td>...</td>\n",
              "      <td>1594</td>\n",
              "      <td>1/1</td>\n",
              "      <td>9.0</td>\n",
              "      <td>50.0</td>\n",
              "      <td>NaN</td>\n",
              "      <td>368</td>\n",
              "      <td>['King0fTheFall', 'brekkered', 'heyheysogay', ...</td>\n",
              "      <td>[]</td>\n",
              "      <td>Nina moved to Ketterdam with few possessions, ...</td>\n",
              "      <td>Nina moved to Ketterdam with few possessions, ...</td>\n",
              "    </tr>\n",
              "    <tr>\n",
              "      <th>...</th>\n",
              "      <td>...</td>\n",
              "      <td>...</td>\n",
              "      <td>...</td>\n",
              "      <td>...</td>\n",
              "      <td>...</td>\n",
              "      <td>...</td>\n",
              "      <td>...</td>\n",
              "      <td>...</td>\n",
              "      <td>...</td>\n",
              "      <td>...</td>\n",
              "      <td>...</td>\n",
              "      <td>...</td>\n",
              "      <td>...</td>\n",
              "      <td>...</td>\n",
              "      <td>...</td>\n",
              "      <td>...</td>\n",
              "      <td>...</td>\n",
              "      <td>...</td>\n",
              "      <td>...</td>\n",
              "      <td>...</td>\n",
              "      <td>...</td>\n",
              "    </tr>\n",
              "    <tr>\n",
              "      <th>193</th>\n",
              "      <td>681524</td>\n",
              "      <td>A Case of Assault</td>\n",
              "      <td>['GendrysNorthernWench']</td>\n",
              "      <td>General Audiences</td>\n",
              "      <td>Other</td>\n",
              "      <td>Sherlock (TV)</td>\n",
              "      <td>NaN</td>\n",
              "      <td>Sherlock Holmes, John Watson, Greg Lestrade, M...</td>\n",
              "      <td>Do not fuck with Sherlock, John has bad days</td>\n",
              "      <td>English</td>\n",
              "      <td>...</td>\n",
              "      <td>580</td>\n",
              "      <td>1/1</td>\n",
              "      <td>NaN</td>\n",
              "      <td>15.0</td>\n",
              "      <td>3.0</td>\n",
              "      <td>438</td>\n",
              "      <td>['HerMajestyTheQueen', 'Dansel13', 'darkviolin...</td>\n",
              "      <td>[]</td>\n",
              "      <td>John watches with mild interest as Sherlock pu...</td>\n",
              "      <td>John watches with mild interest as Sherlock pu...</td>\n",
              "    </tr>\n",
              "    <tr>\n",
              "      <th>196</th>\n",
              "      <td>1324303</td>\n",
              "      <td>When the Cold Bites</td>\n",
              "      <td>['idontblogforsherlockholmes']</td>\n",
              "      <td>Not Rated</td>\n",
              "      <td>NaN</td>\n",
              "      <td>Sherlock (TV)</td>\n",
              "      <td>Sherlock Holmes &amp; John Watson</td>\n",
              "      <td>NaN</td>\n",
              "      <td>Kissing, Sexual Confusion, Unresolved Emotiona...</td>\n",
              "      <td>English</td>\n",
              "      <td>...</td>\n",
              "      <td>3383</td>\n",
              "      <td>1/1</td>\n",
              "      <td>2.0</td>\n",
              "      <td>7.0</td>\n",
              "      <td>NaN</td>\n",
              "      <td>285</td>\n",
              "      <td>['Scarlet_angel', 'rift_bound', 'MaelaFr', 'cr...</td>\n",
              "      <td>[]</td>\n",
              "      <td>Clink - Down went the black and avocado stripe...</td>\n",
              "      <td>Clink - Down went the black and avocado stripe...</td>\n",
              "    </tr>\n",
              "    <tr>\n",
              "      <th>197</th>\n",
              "      <td>1047637</td>\n",
              "      <td>Elimination</td>\n",
              "      <td>['MonkeyBard']</td>\n",
              "      <td>Teen And Up Audiences</td>\n",
              "      <td>NaN</td>\n",
              "      <td>Sherlock (TV)</td>\n",
              "      <td>NaN</td>\n",
              "      <td>Greg Lestrade, John Watson, Molly Hooper, Sall...</td>\n",
              "      <td>Crack, Science Fiction, Hurt/Comfort</td>\n",
              "      <td>English</td>\n",
              "      <td>...</td>\n",
              "      <td>2105</td>\n",
              "      <td>1/1</td>\n",
              "      <td>6.0</td>\n",
              "      <td>9.0</td>\n",
              "      <td>NaN</td>\n",
              "      <td>220</td>\n",
              "      <td>['libco', 'rbarr', 'Jaybeefoxy', 'shymel', 'Tr...</td>\n",
              "      <td>[]</td>\n",
              "      <td>He supposed he should be celebrating that it w...</td>\n",
              "      <td>He supposed he should be celebrating that it w...</td>\n",
              "    </tr>\n",
              "    <tr>\n",
              "      <th>198</th>\n",
              "      <td>894130</td>\n",
              "      <td>The Puzzle</td>\n",
              "      <td>['angelsarewatching']</td>\n",
              "      <td>Teen And Up Audiences</td>\n",
              "      <td>Gen</td>\n",
              "      <td>Sherlock (TV)</td>\n",
              "      <td>NaN</td>\n",
              "      <td>Sherlock Holmes, John Watson, Greg Lestrade</td>\n",
              "      <td>NaN</td>\n",
              "      <td>English</td>\n",
              "      <td>...</td>\n",
              "      <td>3729</td>\n",
              "      <td>1/1</td>\n",
              "      <td>NaN</td>\n",
              "      <td>2.0</td>\n",
              "      <td>NaN</td>\n",
              "      <td>222</td>\n",
              "      <td>['SecretlyWritingFanfic', 'alexxphoenix42']</td>\n",
              "      <td>[]</td>\n",
              "      <td>The Puzzle\\n\\nIt was pure alleviation when I h...</td>\n",
              "      <td>The Puzzle  It was pure alleviation when I hea...</td>\n",
              "    </tr>\n",
              "    <tr>\n",
              "      <th>199</th>\n",
              "      <td>383603</td>\n",
              "      <td>Kith and Kin</td>\n",
              "      <td>['sherlockholmeslives']</td>\n",
              "      <td>Teen And Up Audiences</td>\n",
              "      <td>Gen</td>\n",
              "      <td>Sherlock (TV)</td>\n",
              "      <td>NaN</td>\n",
              "      <td>Sherlock Holmes, Mycroft Holmes</td>\n",
              "      <td>One Shot</td>\n",
              "      <td>English</td>\n",
              "      <td>...</td>\n",
              "      <td>171</td>\n",
              "      <td>1/1</td>\n",
              "      <td>NaN</td>\n",
              "      <td>4.0</td>\n",
              "      <td>NaN</td>\n",
              "      <td>398</td>\n",
              "      <td>['darkenergy', 'a_variant_of_roar', 'Otter_Von...</td>\n",
              "      <td>[]</td>\n",
              "      <td>Sherlock admired his father above all other ma...</td>\n",
              "      <td>Sherlock admired his father above all other ma...</td>\n",
              "    </tr>\n",
              "  </tbody>\n",
              "</table>\n",
              "<p>151 rows × 23 columns</p>\n",
              "</div>\n",
              "      <button class=\"colab-df-convert\" onclick=\"convertToInteractive('df-a413b0f8-da36-41ef-8334-324428f32740')\"\n",
              "              title=\"Convert this dataframe to an interactive table.\"\n",
              "              style=\"display:none;\">\n",
              "        \n",
              "  <svg xmlns=\"http://www.w3.org/2000/svg\" height=\"24px\"viewBox=\"0 0 24 24\"\n",
              "       width=\"24px\">\n",
              "    <path d=\"M0 0h24v24H0V0z\" fill=\"none\"/>\n",
              "    <path d=\"M18.56 5.44l.94 2.06.94-2.06 2.06-.94-2.06-.94-.94-2.06-.94 2.06-2.06.94zm-11 1L8.5 8.5l.94-2.06 2.06-.94-2.06-.94L8.5 2.5l-.94 2.06-2.06.94zm10 10l.94 2.06.94-2.06 2.06-.94-2.06-.94-.94-2.06-.94 2.06-2.06.94z\"/><path d=\"M17.41 7.96l-1.37-1.37c-.4-.4-.92-.59-1.43-.59-.52 0-1.04.2-1.43.59L10.3 9.45l-7.72 7.72c-.78.78-.78 2.05 0 2.83L4 21.41c.39.39.9.59 1.41.59.51 0 1.02-.2 1.41-.59l7.78-7.78 2.81-2.81c.8-.78.8-2.07 0-2.86zM5.41 20L4 18.59l7.72-7.72 1.47 1.35L5.41 20z\"/>\n",
              "  </svg>\n",
              "      </button>\n",
              "      \n",
              "  <style>\n",
              "    .colab-df-container {\n",
              "      display:flex;\n",
              "      flex-wrap:wrap;\n",
              "      gap: 12px;\n",
              "    }\n",
              "\n",
              "    .colab-df-convert {\n",
              "      background-color: #E8F0FE;\n",
              "      border: none;\n",
              "      border-radius: 50%;\n",
              "      cursor: pointer;\n",
              "      display: none;\n",
              "      fill: #1967D2;\n",
              "      height: 32px;\n",
              "      padding: 0 0 0 0;\n",
              "      width: 32px;\n",
              "    }\n",
              "\n",
              "    .colab-df-convert:hover {\n",
              "      background-color: #E2EBFA;\n",
              "      box-shadow: 0px 1px 2px rgba(60, 64, 67, 0.3), 0px 1px 3px 1px rgba(60, 64, 67, 0.15);\n",
              "      fill: #174EA6;\n",
              "    }\n",
              "\n",
              "    [theme=dark] .colab-df-convert {\n",
              "      background-color: #3B4455;\n",
              "      fill: #D2E3FC;\n",
              "    }\n",
              "\n",
              "    [theme=dark] .colab-df-convert:hover {\n",
              "      background-color: #434B5C;\n",
              "      box-shadow: 0px 1px 3px 1px rgba(0, 0, 0, 0.15);\n",
              "      filter: drop-shadow(0px 1px 2px rgba(0, 0, 0, 0.3));\n",
              "      fill: #FFFFFF;\n",
              "    }\n",
              "  </style>\n",
              "\n",
              "      <script>\n",
              "        const buttonEl =\n",
              "          document.querySelector('#df-a413b0f8-da36-41ef-8334-324428f32740 button.colab-df-convert');\n",
              "        buttonEl.style.display =\n",
              "          google.colab.kernel.accessAllowed ? 'block' : 'none';\n",
              "\n",
              "        async function convertToInteractive(key) {\n",
              "          const element = document.querySelector('#df-a413b0f8-da36-41ef-8334-324428f32740');\n",
              "          const dataTable =\n",
              "            await google.colab.kernel.invokeFunction('convertToInteractive',\n",
              "                                                     [key], {});\n",
              "          if (!dataTable) return;\n",
              "\n",
              "          const docLinkHtml = 'Like what you see? Visit the ' +\n",
              "            '<a target=\"_blank\" href=https://colab.research.google.com/notebooks/data_table.ipynb>data table notebook</a>'\n",
              "            + ' to learn more about interactive tables.';\n",
              "          element.innerHTML = '';\n",
              "          dataTable['output_type'] = 'display_data';\n",
              "          await google.colab.output.renderOutput(dataTable, element);\n",
              "          const docLink = document.createElement('div');\n",
              "          docLink.innerHTML = docLinkHtml;\n",
              "          element.appendChild(docLink);\n",
              "        }\n",
              "      </script>\n",
              "    </div>\n",
              "  </div>\n",
              "  "
            ]
          },
          "metadata": {},
          "execution_count": 74
        }
      ]
    },
    {
      "cell_type": "code",
      "source": [
        "test2_clean.to_csv('/GD/My Drive/Colab Notebooks/Fanfiction/fandom_test_clean.csv', index_label=False)  # no \"index\" column...\n"
      ],
      "metadata": {
        "id": "L0U8ZfL7l_vg"
      },
      "execution_count": null,
      "outputs": []
    },
    {
      "cell_type": "code",
      "source": [
        "df_tidy_reread = pd.read_csv('/GD/My Drive/Colab Notebooks/Fanfiction/fandom_test_clean.csv')   # encoding=\"utf-8\" et al.\n",
        "df_tidy_reread"
      ],
      "metadata": {
        "colab": {
          "base_uri": "https://localhost:8080/",
          "height": 1000
        },
        "id": "abkghJXRmVl-",
        "outputId": "c74e1c9c-a868-4b40-a2ee-c83c6a61f0b2"
      },
      "execution_count": null,
      "outputs": [
        {
          "output_type": "execute_result",
          "data": {
            "text/plain": [
              "      work_id                                            title  \\\n",
              "0    16238273                                A Murder of Crows   \n",
              "1    19283566                               Colm & Aditi, 1989   \n",
              "2    11786106                                      If and When   \n",
              "4    13051152  Not Brick or Stone, or Comfort in the Firelight   \n",
              "5    32219725                                 pretty ballerina   \n",
              "..        ...                                              ...   \n",
              "193    681524                                A Case of Assault   \n",
              "196   1324303                              When the Cold Bites   \n",
              "197   1047637                                      Elimination   \n",
              "198    894130                                       The Puzzle   \n",
              "199    383603                                     Kith and Kin   \n",
              "\n",
              "                             author                 rating  category  \\\n",
              "0     ['FallenRiotforSweetRevenge']  Teen And Up Audiences  F/M, M/M   \n",
              "1        ['zemenipearls (ayaanle)']      General Audiences       F/M   \n",
              "2                        ['Higado']  Teen And Up Audiences       Gen   \n",
              "4                    ['metaphasia']      General Audiences       Gen   \n",
              "5                    ['petersgwen']      General Audiences       F/M   \n",
              "..                              ...                    ...       ...   \n",
              "193        ['GendrysNorthernWench']      General Audiences     Other   \n",
              "196  ['idontblogforsherlockholmes']              Not Rated       NaN   \n",
              "197                  ['MonkeyBard']  Teen And Up Audiences       NaN   \n",
              "198           ['angelsarewatching']  Teen And Up Audiences       Gen   \n",
              "199         ['sherlockholmeslives']  Teen And Up Audiences       Gen   \n",
              "\n",
              "                                  fandom  \\\n",
              "0    Six of Crows Series - Leigh Bardugo   \n",
              "1    Six of Crows Series - Leigh Bardugo   \n",
              "2    Six of Crows Series - Leigh Bardugo   \n",
              "4    Six of Crows Series - Leigh Bardugo   \n",
              "5    Six of Crows Series - Leigh Bardugo   \n",
              "..                                   ...   \n",
              "193                        Sherlock (TV)   \n",
              "196                        Sherlock (TV)   \n",
              "197                        Sherlock (TV)   \n",
              "198                        Sherlock (TV)   \n",
              "199                        Sherlock (TV)   \n",
              "\n",
              "                                          relationship  \\\n",
              "0    Kaz Brekker/Inej Ghafa, Jesper Fahey/Wylan Van...   \n",
              "1                               Colm Fahey/Aditi Hilli   \n",
              "2                                                  NaN   \n",
              "4                                                  NaN   \n",
              "5                           Matthias Helvar/Nina Zenik   \n",
              "..                                                 ...   \n",
              "193                                                NaN   \n",
              "196                      Sherlock Holmes & John Watson   \n",
              "197                                                NaN   \n",
              "198                                                NaN   \n",
              "199                                                NaN   \n",
              "\n",
              "                                             character  \\\n",
              "0    Kaz Brekker, Jesper Fahey, Wylan Van Eck, Anik...   \n",
              "1                              Colm Fahey, Aditi Hilli   \n",
              "2    Kaz Brekker, Inej Ghafa, Nina Zenik, Matthias ...   \n",
              "4                                           Inej Ghafa   \n",
              "5                          Matthias Helvar, Nina Zenik   \n",
              "..                                                 ...   \n",
              "193  Sherlock Holmes, John Watson, Greg Lestrade, M...   \n",
              "196                                                NaN   \n",
              "197  Greg Lestrade, John Watson, Molly Hooper, Sall...   \n",
              "198        Sherlock Holmes, John Watson, Greg Lestrade   \n",
              "199                    Sherlock Holmes, Mycroft Holmes   \n",
              "\n",
              "                                       additional tags language  ... words  \\\n",
              "0    Post-Crooked Kingdom, Two Shot, My First Work ...  English  ...  5173   \n",
              "1    Alternate Universe - Modern Setting, Alternate...  English  ...   451   \n",
              "2    A poem, because I was sad, WELL ANYWAYS, i wro...  English  ...   650   \n",
              "4                                                  NaN  English  ...  1041   \n",
              "5                                                  NaN  English  ...  1594   \n",
              "..                                                 ...      ...  ...   ...   \n",
              "193       Do not fuck with Sherlock, John has bad days  English  ...   580   \n",
              "196  Kissing, Sexual Confusion, Unresolved Emotiona...  English  ...  3383   \n",
              "197               Crack, Science Fiction, Hurt/Comfort  English  ...  2105   \n",
              "198                                                NaN  English  ...  3729   \n",
              "199                                           One Shot  English  ...   171   \n",
              "\n",
              "    chapters comments  kudos bookmarks  hits  \\\n",
              "0        1/2      9.0   47.0       2.0   691   \n",
              "1        1/1      3.0   24.0       2.0   174   \n",
              "2        2/2      7.0   23.0       2.0   310   \n",
              "4        1/1      3.0   51.0       7.0   480   \n",
              "5        1/1      9.0   50.0       NaN   368   \n",
              "..       ...      ...    ...       ...   ...   \n",
              "193      1/1      NaN   15.0       3.0   438   \n",
              "196      1/1      2.0    7.0       NaN   285   \n",
              "197      1/1      6.0    9.0       NaN   220   \n",
              "198      1/1      NaN    2.0       NaN   222   \n",
              "199      1/1      NaN    4.0       NaN   398   \n",
              "\n",
              "                                             all_kudos  all_bookmarks  \\\n",
              "0    ['LawlietFan27', 'sy1v13', 'SultannaMajor', 'J...             []   \n",
              "1    ['NowNumber5', 'ahodgepodgeofthings', 'warmfuz...             []   \n",
              "2    ['LucyParnassus', 'trufelek', 'F1zzle', 'washm...             []   \n",
              "4    ['annemilk', 'Lio26', 'epithet', 'sconesunderm...             []   \n",
              "5    ['King0fTheFall', 'brekkered', 'heyheysogay', ...             []   \n",
              "..                                                 ...            ...   \n",
              "193  ['HerMajestyTheQueen', 'Dansel13', 'darkviolin...             []   \n",
              "196  ['Scarlet_angel', 'rift_bound', 'MaelaFr', 'cr...             []   \n",
              "197  ['libco', 'rbarr', 'Jaybeefoxy', 'shymel', 'Tr...             []   \n",
              "198        ['SecretlyWritingFanfic', 'alexxphoenix42']             []   \n",
              "199  ['darkenergy', 'a_variant_of_roar', 'Otter_Von...             []   \n",
              "\n",
              "                                                  body  \\\n",
              "0    The Wraith's silhouette had long faded away in...   \n",
              "1    Colm is a young Irishman studying abroad at th...   \n",
              "2    \\nIf the life you once knew is gone, \\n\\n\\n\\nI...   \n",
              "4    The Wraith slid through the water, as silent a...   \n",
              "5    Nina moved to Ketterdam with few possessions, ...   \n",
              "..                                                 ...   \n",
              "193  John watches with mild interest as Sherlock pu...   \n",
              "196  Clink - Down went the black and avocado stripe...   \n",
              "197  He supposed he should be celebrating that it w...   \n",
              "198  The Puzzle\\n\\nIt was pure alleviation when I h...   \n",
              "199  Sherlock admired his father above all other ma...   \n",
              "\n",
              "                                         Body_Parsed_1  \n",
              "0    The Wraith's silhouette had long faded away in...  \n",
              "1    Colm is a young Irishman studying abroad at th...  \n",
              "2     If the life you once knew is gone,  If they t...  \n",
              "4    The Wraith slid through the water, as silent a...  \n",
              "5    Nina moved to Ketterdam with few possessions, ...  \n",
              "..                                                 ...  \n",
              "193  John watches with mild interest as Sherlock pu...  \n",
              "196  Clink - Down went the black and avocado stripe...  \n",
              "197  He supposed he should be celebrating that it w...  \n",
              "198  The Puzzle  It was pure alleviation when I hea...  \n",
              "199  Sherlock admired his father above all other ma...  \n",
              "\n",
              "[151 rows x 23 columns]"
            ],
            "text/html": [
              "\n",
              "  <div id=\"df-a58f70f9-6f28-4333-9177-58554cd850fd\">\n",
              "    <div class=\"colab-df-container\">\n",
              "      <div>\n",
              "<style scoped>\n",
              "    .dataframe tbody tr th:only-of-type {\n",
              "        vertical-align: middle;\n",
              "    }\n",
              "\n",
              "    .dataframe tbody tr th {\n",
              "        vertical-align: top;\n",
              "    }\n",
              "\n",
              "    .dataframe thead th {\n",
              "        text-align: right;\n",
              "    }\n",
              "</style>\n",
              "<table border=\"1\" class=\"dataframe\">\n",
              "  <thead>\n",
              "    <tr style=\"text-align: right;\">\n",
              "      <th></th>\n",
              "      <th>work_id</th>\n",
              "      <th>title</th>\n",
              "      <th>author</th>\n",
              "      <th>rating</th>\n",
              "      <th>category</th>\n",
              "      <th>fandom</th>\n",
              "      <th>relationship</th>\n",
              "      <th>character</th>\n",
              "      <th>additional tags</th>\n",
              "      <th>language</th>\n",
              "      <th>...</th>\n",
              "      <th>words</th>\n",
              "      <th>chapters</th>\n",
              "      <th>comments</th>\n",
              "      <th>kudos</th>\n",
              "      <th>bookmarks</th>\n",
              "      <th>hits</th>\n",
              "      <th>all_kudos</th>\n",
              "      <th>all_bookmarks</th>\n",
              "      <th>body</th>\n",
              "      <th>Body_Parsed_1</th>\n",
              "    </tr>\n",
              "  </thead>\n",
              "  <tbody>\n",
              "    <tr>\n",
              "      <th>0</th>\n",
              "      <td>16238273</td>\n",
              "      <td>A Murder of Crows</td>\n",
              "      <td>['FallenRiotforSweetRevenge']</td>\n",
              "      <td>Teen And Up Audiences</td>\n",
              "      <td>F/M, M/M</td>\n",
              "      <td>Six of Crows Series - Leigh Bardugo</td>\n",
              "      <td>Kaz Brekker/Inej Ghafa, Jesper Fahey/Wylan Van...</td>\n",
              "      <td>Kaz Brekker, Jesper Fahey, Wylan Van Eck, Anik...</td>\n",
              "      <td>Post-Crooked Kingdom, Two Shot, My First Work ...</td>\n",
              "      <td>English</td>\n",
              "      <td>...</td>\n",
              "      <td>5173</td>\n",
              "      <td>1/2</td>\n",
              "      <td>9.0</td>\n",
              "      <td>47.0</td>\n",
              "      <td>2.0</td>\n",
              "      <td>691</td>\n",
              "      <td>['LawlietFan27', 'sy1v13', 'SultannaMajor', 'J...</td>\n",
              "      <td>[]</td>\n",
              "      <td>The Wraith's silhouette had long faded away in...</td>\n",
              "      <td>The Wraith's silhouette had long faded away in...</td>\n",
              "    </tr>\n",
              "    <tr>\n",
              "      <th>1</th>\n",
              "      <td>19283566</td>\n",
              "      <td>Colm &amp; Aditi, 1989</td>\n",
              "      <td>['zemenipearls (ayaanle)']</td>\n",
              "      <td>General Audiences</td>\n",
              "      <td>F/M</td>\n",
              "      <td>Six of Crows Series - Leigh Bardugo</td>\n",
              "      <td>Colm Fahey/Aditi Hilli</td>\n",
              "      <td>Colm Fahey, Aditi Hilli</td>\n",
              "      <td>Alternate Universe - Modern Setting, Alternate...</td>\n",
              "      <td>English</td>\n",
              "      <td>...</td>\n",
              "      <td>451</td>\n",
              "      <td>1/1</td>\n",
              "      <td>3.0</td>\n",
              "      <td>24.0</td>\n",
              "      <td>2.0</td>\n",
              "      <td>174</td>\n",
              "      <td>['NowNumber5', 'ahodgepodgeofthings', 'warmfuz...</td>\n",
              "      <td>[]</td>\n",
              "      <td>Colm is a young Irishman studying abroad at th...</td>\n",
              "      <td>Colm is a young Irishman studying abroad at th...</td>\n",
              "    </tr>\n",
              "    <tr>\n",
              "      <th>2</th>\n",
              "      <td>11786106</td>\n",
              "      <td>If and When</td>\n",
              "      <td>['Higado']</td>\n",
              "      <td>Teen And Up Audiences</td>\n",
              "      <td>Gen</td>\n",
              "      <td>Six of Crows Series - Leigh Bardugo</td>\n",
              "      <td>NaN</td>\n",
              "      <td>Kaz Brekker, Inej Ghafa, Nina Zenik, Matthias ...</td>\n",
              "      <td>A poem, because I was sad, WELL ANYWAYS, i wro...</td>\n",
              "      <td>English</td>\n",
              "      <td>...</td>\n",
              "      <td>650</td>\n",
              "      <td>2/2</td>\n",
              "      <td>7.0</td>\n",
              "      <td>23.0</td>\n",
              "      <td>2.0</td>\n",
              "      <td>310</td>\n",
              "      <td>['LucyParnassus', 'trufelek', 'F1zzle', 'washm...</td>\n",
              "      <td>[]</td>\n",
              "      <td>\\nIf the life you once knew is gone, \\n\\n\\n\\nI...</td>\n",
              "      <td>If the life you once knew is gone,  If they t...</td>\n",
              "    </tr>\n",
              "    <tr>\n",
              "      <th>4</th>\n",
              "      <td>13051152</td>\n",
              "      <td>Not Brick or Stone, or Comfort in the Firelight</td>\n",
              "      <td>['metaphasia']</td>\n",
              "      <td>General Audiences</td>\n",
              "      <td>Gen</td>\n",
              "      <td>Six of Crows Series - Leigh Bardugo</td>\n",
              "      <td>NaN</td>\n",
              "      <td>Inej Ghafa</td>\n",
              "      <td>NaN</td>\n",
              "      <td>English</td>\n",
              "      <td>...</td>\n",
              "      <td>1041</td>\n",
              "      <td>1/1</td>\n",
              "      <td>3.0</td>\n",
              "      <td>51.0</td>\n",
              "      <td>7.0</td>\n",
              "      <td>480</td>\n",
              "      <td>['annemilk', 'Lio26', 'epithet', 'sconesunderm...</td>\n",
              "      <td>[]</td>\n",
              "      <td>The Wraith slid through the water, as silent a...</td>\n",
              "      <td>The Wraith slid through the water, as silent a...</td>\n",
              "    </tr>\n",
              "    <tr>\n",
              "      <th>5</th>\n",
              "      <td>32219725</td>\n",
              "      <td>pretty ballerina</td>\n",
              "      <td>['petersgwen']</td>\n",
              "      <td>General Audiences</td>\n",
              "      <td>F/M</td>\n",
              "      <td>Six of Crows Series - Leigh Bardugo</td>\n",
              "      <td>Matthias Helvar/Nina Zenik</td>\n",
              "      <td>Matthias Helvar, Nina Zenik</td>\n",
              "      <td>NaN</td>\n",
              "      <td>English</td>\n",
              "      <td>...</td>\n",
              "      <td>1594</td>\n",
              "      <td>1/1</td>\n",
              "      <td>9.0</td>\n",
              "      <td>50.0</td>\n",
              "      <td>NaN</td>\n",
              "      <td>368</td>\n",
              "      <td>['King0fTheFall', 'brekkered', 'heyheysogay', ...</td>\n",
              "      <td>[]</td>\n",
              "      <td>Nina moved to Ketterdam with few possessions, ...</td>\n",
              "      <td>Nina moved to Ketterdam with few possessions, ...</td>\n",
              "    </tr>\n",
              "    <tr>\n",
              "      <th>...</th>\n",
              "      <td>...</td>\n",
              "      <td>...</td>\n",
              "      <td>...</td>\n",
              "      <td>...</td>\n",
              "      <td>...</td>\n",
              "      <td>...</td>\n",
              "      <td>...</td>\n",
              "      <td>...</td>\n",
              "      <td>...</td>\n",
              "      <td>...</td>\n",
              "      <td>...</td>\n",
              "      <td>...</td>\n",
              "      <td>...</td>\n",
              "      <td>...</td>\n",
              "      <td>...</td>\n",
              "      <td>...</td>\n",
              "      <td>...</td>\n",
              "      <td>...</td>\n",
              "      <td>...</td>\n",
              "      <td>...</td>\n",
              "      <td>...</td>\n",
              "    </tr>\n",
              "    <tr>\n",
              "      <th>193</th>\n",
              "      <td>681524</td>\n",
              "      <td>A Case of Assault</td>\n",
              "      <td>['GendrysNorthernWench']</td>\n",
              "      <td>General Audiences</td>\n",
              "      <td>Other</td>\n",
              "      <td>Sherlock (TV)</td>\n",
              "      <td>NaN</td>\n",
              "      <td>Sherlock Holmes, John Watson, Greg Lestrade, M...</td>\n",
              "      <td>Do not fuck with Sherlock, John has bad days</td>\n",
              "      <td>English</td>\n",
              "      <td>...</td>\n",
              "      <td>580</td>\n",
              "      <td>1/1</td>\n",
              "      <td>NaN</td>\n",
              "      <td>15.0</td>\n",
              "      <td>3.0</td>\n",
              "      <td>438</td>\n",
              "      <td>['HerMajestyTheQueen', 'Dansel13', 'darkviolin...</td>\n",
              "      <td>[]</td>\n",
              "      <td>John watches with mild interest as Sherlock pu...</td>\n",
              "      <td>John watches with mild interest as Sherlock pu...</td>\n",
              "    </tr>\n",
              "    <tr>\n",
              "      <th>196</th>\n",
              "      <td>1324303</td>\n",
              "      <td>When the Cold Bites</td>\n",
              "      <td>['idontblogforsherlockholmes']</td>\n",
              "      <td>Not Rated</td>\n",
              "      <td>NaN</td>\n",
              "      <td>Sherlock (TV)</td>\n",
              "      <td>Sherlock Holmes &amp; John Watson</td>\n",
              "      <td>NaN</td>\n",
              "      <td>Kissing, Sexual Confusion, Unresolved Emotiona...</td>\n",
              "      <td>English</td>\n",
              "      <td>...</td>\n",
              "      <td>3383</td>\n",
              "      <td>1/1</td>\n",
              "      <td>2.0</td>\n",
              "      <td>7.0</td>\n",
              "      <td>NaN</td>\n",
              "      <td>285</td>\n",
              "      <td>['Scarlet_angel', 'rift_bound', 'MaelaFr', 'cr...</td>\n",
              "      <td>[]</td>\n",
              "      <td>Clink - Down went the black and avocado stripe...</td>\n",
              "      <td>Clink - Down went the black and avocado stripe...</td>\n",
              "    </tr>\n",
              "    <tr>\n",
              "      <th>197</th>\n",
              "      <td>1047637</td>\n",
              "      <td>Elimination</td>\n",
              "      <td>['MonkeyBard']</td>\n",
              "      <td>Teen And Up Audiences</td>\n",
              "      <td>NaN</td>\n",
              "      <td>Sherlock (TV)</td>\n",
              "      <td>NaN</td>\n",
              "      <td>Greg Lestrade, John Watson, Molly Hooper, Sall...</td>\n",
              "      <td>Crack, Science Fiction, Hurt/Comfort</td>\n",
              "      <td>English</td>\n",
              "      <td>...</td>\n",
              "      <td>2105</td>\n",
              "      <td>1/1</td>\n",
              "      <td>6.0</td>\n",
              "      <td>9.0</td>\n",
              "      <td>NaN</td>\n",
              "      <td>220</td>\n",
              "      <td>['libco', 'rbarr', 'Jaybeefoxy', 'shymel', 'Tr...</td>\n",
              "      <td>[]</td>\n",
              "      <td>He supposed he should be celebrating that it w...</td>\n",
              "      <td>He supposed he should be celebrating that it w...</td>\n",
              "    </tr>\n",
              "    <tr>\n",
              "      <th>198</th>\n",
              "      <td>894130</td>\n",
              "      <td>The Puzzle</td>\n",
              "      <td>['angelsarewatching']</td>\n",
              "      <td>Teen And Up Audiences</td>\n",
              "      <td>Gen</td>\n",
              "      <td>Sherlock (TV)</td>\n",
              "      <td>NaN</td>\n",
              "      <td>Sherlock Holmes, John Watson, Greg Lestrade</td>\n",
              "      <td>NaN</td>\n",
              "      <td>English</td>\n",
              "      <td>...</td>\n",
              "      <td>3729</td>\n",
              "      <td>1/1</td>\n",
              "      <td>NaN</td>\n",
              "      <td>2.0</td>\n",
              "      <td>NaN</td>\n",
              "      <td>222</td>\n",
              "      <td>['SecretlyWritingFanfic', 'alexxphoenix42']</td>\n",
              "      <td>[]</td>\n",
              "      <td>The Puzzle\\n\\nIt was pure alleviation when I h...</td>\n",
              "      <td>The Puzzle  It was pure alleviation when I hea...</td>\n",
              "    </tr>\n",
              "    <tr>\n",
              "      <th>199</th>\n",
              "      <td>383603</td>\n",
              "      <td>Kith and Kin</td>\n",
              "      <td>['sherlockholmeslives']</td>\n",
              "      <td>Teen And Up Audiences</td>\n",
              "      <td>Gen</td>\n",
              "      <td>Sherlock (TV)</td>\n",
              "      <td>NaN</td>\n",
              "      <td>Sherlock Holmes, Mycroft Holmes</td>\n",
              "      <td>One Shot</td>\n",
              "      <td>English</td>\n",
              "      <td>...</td>\n",
              "      <td>171</td>\n",
              "      <td>1/1</td>\n",
              "      <td>NaN</td>\n",
              "      <td>4.0</td>\n",
              "      <td>NaN</td>\n",
              "      <td>398</td>\n",
              "      <td>['darkenergy', 'a_variant_of_roar', 'Otter_Von...</td>\n",
              "      <td>[]</td>\n",
              "      <td>Sherlock admired his father above all other ma...</td>\n",
              "      <td>Sherlock admired his father above all other ma...</td>\n",
              "    </tr>\n",
              "  </tbody>\n",
              "</table>\n",
              "<p>151 rows × 23 columns</p>\n",
              "</div>\n",
              "      <button class=\"colab-df-convert\" onclick=\"convertToInteractive('df-a58f70f9-6f28-4333-9177-58554cd850fd')\"\n",
              "              title=\"Convert this dataframe to an interactive table.\"\n",
              "              style=\"display:none;\">\n",
              "        \n",
              "  <svg xmlns=\"http://www.w3.org/2000/svg\" height=\"24px\"viewBox=\"0 0 24 24\"\n",
              "       width=\"24px\">\n",
              "    <path d=\"M0 0h24v24H0V0z\" fill=\"none\"/>\n",
              "    <path d=\"M18.56 5.44l.94 2.06.94-2.06 2.06-.94-2.06-.94-.94-2.06-.94 2.06-2.06.94zm-11 1L8.5 8.5l.94-2.06 2.06-.94-2.06-.94L8.5 2.5l-.94 2.06-2.06.94zm10 10l.94 2.06.94-2.06 2.06-.94-2.06-.94-.94-2.06-.94 2.06-2.06.94z\"/><path d=\"M17.41 7.96l-1.37-1.37c-.4-.4-.92-.59-1.43-.59-.52 0-1.04.2-1.43.59L10.3 9.45l-7.72 7.72c-.78.78-.78 2.05 0 2.83L4 21.41c.39.39.9.59 1.41.59.51 0 1.02-.2 1.41-.59l7.78-7.78 2.81-2.81c.8-.78.8-2.07 0-2.86zM5.41 20L4 18.59l7.72-7.72 1.47 1.35L5.41 20z\"/>\n",
              "  </svg>\n",
              "      </button>\n",
              "      \n",
              "  <style>\n",
              "    .colab-df-container {\n",
              "      display:flex;\n",
              "      flex-wrap:wrap;\n",
              "      gap: 12px;\n",
              "    }\n",
              "\n",
              "    .colab-df-convert {\n",
              "      background-color: #E8F0FE;\n",
              "      border: none;\n",
              "      border-radius: 50%;\n",
              "      cursor: pointer;\n",
              "      display: none;\n",
              "      fill: #1967D2;\n",
              "      height: 32px;\n",
              "      padding: 0 0 0 0;\n",
              "      width: 32px;\n",
              "    }\n",
              "\n",
              "    .colab-df-convert:hover {\n",
              "      background-color: #E2EBFA;\n",
              "      box-shadow: 0px 1px 2px rgba(60, 64, 67, 0.3), 0px 1px 3px 1px rgba(60, 64, 67, 0.15);\n",
              "      fill: #174EA6;\n",
              "    }\n",
              "\n",
              "    [theme=dark] .colab-df-convert {\n",
              "      background-color: #3B4455;\n",
              "      fill: #D2E3FC;\n",
              "    }\n",
              "\n",
              "    [theme=dark] .colab-df-convert:hover {\n",
              "      background-color: #434B5C;\n",
              "      box-shadow: 0px 1px 3px 1px rgba(0, 0, 0, 0.15);\n",
              "      filter: drop-shadow(0px 1px 2px rgba(0, 0, 0, 0.3));\n",
              "      fill: #FFFFFF;\n",
              "    }\n",
              "  </style>\n",
              "\n",
              "      <script>\n",
              "        const buttonEl =\n",
              "          document.querySelector('#df-a58f70f9-6f28-4333-9177-58554cd850fd button.colab-df-convert');\n",
              "        buttonEl.style.display =\n",
              "          google.colab.kernel.accessAllowed ? 'block' : 'none';\n",
              "\n",
              "        async function convertToInteractive(key) {\n",
              "          const element = document.querySelector('#df-a58f70f9-6f28-4333-9177-58554cd850fd');\n",
              "          const dataTable =\n",
              "            await google.colab.kernel.invokeFunction('convertToInteractive',\n",
              "                                                     [key], {});\n",
              "          if (!dataTable) return;\n",
              "\n",
              "          const docLinkHtml = 'Like what you see? Visit the ' +\n",
              "            '<a target=\"_blank\" href=https://colab.research.google.com/notebooks/data_table.ipynb>data table notebook</a>'\n",
              "            + ' to learn more about interactive tables.';\n",
              "          element.innerHTML = '';\n",
              "          dataTable['output_type'] = 'display_data';\n",
              "          await google.colab.output.renderOutput(dataTable, element);\n",
              "          const docLink = document.createElement('div');\n",
              "          docLink.innerHTML = docLinkHtml;\n",
              "          element.appendChild(docLink);\n",
              "        }\n",
              "      </script>\n",
              "    </div>\n",
              "  </div>\n",
              "  "
            ]
          },
          "metadata": {},
          "execution_count": 76
        }
      ]
    },
    {
      "cell_type": "code",
      "source": [
        "test2 = df_tidy_reread"
      ],
      "metadata": {
        "id": "zamwQa3omYjE"
      },
      "execution_count": null,
      "outputs": []
    },
    {
      "cell_type": "code",
      "source": [
        "#Distribution of classes\n",
        "test2['fandom'].value_counts().plot(kind = 'bar')"
      ],
      "metadata": {
        "colab": {
          "base_uri": "https://localhost:8080/",
          "height": 449
        },
        "id": "6q3kuTawmc04",
        "outputId": "b0828403-f2d4-4865-b0e5-7e04773bcc0e"
      },
      "execution_count": null,
      "outputs": [
        {
          "output_type": "execute_result",
          "data": {
            "text/plain": [
              "<matplotlib.axes._subplots.AxesSubplot at 0x7f0551cc7cd0>"
            ]
          },
          "metadata": {},
          "execution_count": 78
        },
        {
          "output_type": "display_data",
          "data": {
            "text/plain": [
              "<Figure size 432x288 with 1 Axes>"
            ],
            "image/png": "[encoded data removed]"
          },
          "metadata": {
            "needs_background": "light"
          }
        }
      ]
    },
    {
      "cell_type": "code",
      "source": [
        ""
      ],
      "metadata": {
        "id": "xJ37WPibmmfc"
      },
      "execution_count": null,
      "outputs": []
    },
    {
      "cell_type": "code",
      "source": [
        "# Category mapping\n",
        "test2['Fandom_Code'] = test2['fandom']\n",
        "test2 = test2.replace({'Fandom_Code':fandom_codes})\n",
        "test2"
      ],
      "metadata": {
        "colab": {
          "base_uri": "https://localhost:8080/",
          "height": 1000
        },
        "id": "aDbs7sKJmqp6",
        "outputId": "5a762bcd-5d83-4219-c49b-42f5cfe127a7"
      },
      "execution_count": null,
      "outputs": [
        {
          "output_type": "execute_result",
          "data": {
            "text/plain": [
              "      work_id                                            title  \\\n",
              "0    16238273                                A Murder of Crows   \n",
              "1    19283566                               Colm & Aditi, 1989   \n",
              "2    11786106                                      If and When   \n",
              "4    13051152  Not Brick or Stone, or Comfort in the Firelight   \n",
              "5    32219725                                 pretty ballerina   \n",
              "..        ...                                              ...   \n",
              "193    681524                                A Case of Assault   \n",
              "196   1324303                              When the Cold Bites   \n",
              "197   1047637                                      Elimination   \n",
              "198    894130                                       The Puzzle   \n",
              "199    383603                                     Kith and Kin   \n",
              "\n",
              "                             author                 rating  category  \\\n",
              "0     ['FallenRiotforSweetRevenge']  Teen And Up Audiences  F/M, M/M   \n",
              "1        ['zemenipearls (ayaanle)']      General Audiences       F/M   \n",
              "2                        ['Higado']  Teen And Up Audiences       Gen   \n",
              "4                    ['metaphasia']      General Audiences       Gen   \n",
              "5                    ['petersgwen']      General Audiences       F/M   \n",
              "..                              ...                    ...       ...   \n",
              "193        ['GendrysNorthernWench']      General Audiences     Other   \n",
              "196  ['idontblogforsherlockholmes']              Not Rated       NaN   \n",
              "197                  ['MonkeyBard']  Teen And Up Audiences       NaN   \n",
              "198           ['angelsarewatching']  Teen And Up Audiences       Gen   \n",
              "199         ['sherlockholmeslives']  Teen And Up Audiences       Gen   \n",
              "\n",
              "                                  fandom  \\\n",
              "0    Six of Crows Series - Leigh Bardugo   \n",
              "1    Six of Crows Series - Leigh Bardugo   \n",
              "2    Six of Crows Series - Leigh Bardugo   \n",
              "4    Six of Crows Series - Leigh Bardugo   \n",
              "5    Six of Crows Series - Leigh Bardugo   \n",
              "..                                   ...   \n",
              "193                        Sherlock (TV)   \n",
              "196                        Sherlock (TV)   \n",
              "197                        Sherlock (TV)   \n",
              "198                        Sherlock (TV)   \n",
              "199                        Sherlock (TV)   \n",
              "\n",
              "                                          relationship  \\\n",
              "0    Kaz Brekker/Inej Ghafa, Jesper Fahey/Wylan Van...   \n",
              "1                               Colm Fahey/Aditi Hilli   \n",
              "2                                                  NaN   \n",
              "4                                                  NaN   \n",
              "5                           Matthias Helvar/Nina Zenik   \n",
              "..                                                 ...   \n",
              "193                                                NaN   \n",
              "196                      Sherlock Holmes & John Watson   \n",
              "197                                                NaN   \n",
              "198                                                NaN   \n",
              "199                                                NaN   \n",
              "\n",
              "                                             character  \\\n",
              "0    Kaz Brekker, Jesper Fahey, Wylan Van Eck, Anik...   \n",
              "1                              Colm Fahey, Aditi Hilli   \n",
              "2    Kaz Brekker, Inej Ghafa, Nina Zenik, Matthias ...   \n",
              "4                                           Inej Ghafa   \n",
              "5                          Matthias Helvar, Nina Zenik   \n",
              "..                                                 ...   \n",
              "193  Sherlock Holmes, John Watson, Greg Lestrade, M...   \n",
              "196                                                NaN   \n",
              "197  Greg Lestrade, John Watson, Molly Hooper, Sall...   \n",
              "198        Sherlock Holmes, John Watson, Greg Lestrade   \n",
              "199                    Sherlock Holmes, Mycroft Holmes   \n",
              "\n",
              "                                       additional tags language  ... chapters  \\\n",
              "0    Post-Crooked Kingdom, Two Shot, My First Work ...  English  ...      1/2   \n",
              "1    Alternate Universe - Modern Setting, Alternate...  English  ...      1/1   \n",
              "2    A poem, because I was sad, WELL ANYWAYS, i wro...  English  ...      2/2   \n",
              "4                                                  NaN  English  ...      1/1   \n",
              "5                                                  NaN  English  ...      1/1   \n",
              "..                                                 ...      ...  ...      ...   \n",
              "193       Do not fuck with Sherlock, John has bad days  English  ...      1/1   \n",
              "196  Kissing, Sexual Confusion, Unresolved Emotiona...  English  ...      1/1   \n",
              "197               Crack, Science Fiction, Hurt/Comfort  English  ...      1/1   \n",
              "198                                                NaN  English  ...      1/1   \n",
              "199                                           One Shot  English  ...      1/1   \n",
              "\n",
              "    comments kudos  bookmarks hits  \\\n",
              "0        9.0  47.0        2.0  691   \n",
              "1        3.0  24.0        2.0  174   \n",
              "2        7.0  23.0        2.0  310   \n",
              "4        3.0  51.0        7.0  480   \n",
              "5        9.0  50.0        NaN  368   \n",
              "..       ...   ...        ...  ...   \n",
              "193      NaN  15.0        3.0  438   \n",
              "196      2.0   7.0        NaN  285   \n",
              "197      6.0   9.0        NaN  220   \n",
              "198      NaN   2.0        NaN  222   \n",
              "199      NaN   4.0        NaN  398   \n",
              "\n",
              "                                             all_kudos  all_bookmarks  \\\n",
              "0    ['LawlietFan27', 'sy1v13', 'SultannaMajor', 'J...             []   \n",
              "1    ['NowNumber5', 'ahodgepodgeofthings', 'warmfuz...             []   \n",
              "2    ['LucyParnassus', 'trufelek', 'F1zzle', 'washm...             []   \n",
              "4    ['annemilk', 'Lio26', 'epithet', 'sconesunderm...             []   \n",
              "5    ['King0fTheFall', 'brekkered', 'heyheysogay', ...             []   \n",
              "..                                                 ...            ...   \n",
              "193  ['HerMajestyTheQueen', 'Dansel13', 'darkviolin...             []   \n",
              "196  ['Scarlet_angel', 'rift_bound', 'MaelaFr', 'cr...             []   \n",
              "197  ['libco', 'rbarr', 'Jaybeefoxy', 'shymel', 'Tr...             []   \n",
              "198        ['SecretlyWritingFanfic', 'alexxphoenix42']             []   \n",
              "199  ['darkenergy', 'a_variant_of_roar', 'Otter_Von...             []   \n",
              "\n",
              "                                                  body  \\\n",
              "0    The Wraith's silhouette had long faded away in...   \n",
              "1    Colm is a young Irishman studying abroad at th...   \n",
              "2    \\nIf the life you once knew is gone, \\n\\n\\n\\nI...   \n",
              "4    The Wraith slid through the water, as silent a...   \n",
              "5    Nina moved to Ketterdam with few possessions, ...   \n",
              "..                                                 ...   \n",
              "193  John watches with mild interest as Sherlock pu...   \n",
              "196  Clink - Down went the black and avocado stripe...   \n",
              "197  He supposed he should be celebrating that it w...   \n",
              "198  The Puzzle\\n\\nIt was pure alleviation when I h...   \n",
              "199  Sherlock admired his father above all other ma...   \n",
              "\n",
              "                                         Body_Parsed_1 Fandom_Code  \n",
              "0    The Wraith's silhouette had long faded away in...           0  \n",
              "1    Colm is a young Irishman studying abroad at th...           0  \n",
              "2     If the life you once knew is gone,  If they t...           0  \n",
              "4    The Wraith slid through the water, as silent a...           0  \n",
              "5    Nina moved to Ketterdam with few possessions, ...           0  \n",
              "..                                                 ...         ...  \n",
              "193  John watches with mild interest as Sherlock pu...           1  \n",
              "196  Clink - Down went the black and avocado stripe...           1  \n",
              "197  He supposed he should be celebrating that it w...           1  \n",
              "198  The Puzzle  It was pure alleviation when I hea...           1  \n",
              "199  Sherlock admired his father above all other ma...           1  \n",
              "\n",
              "[151 rows x 24 columns]"
            ],
            "text/html": [
              "\n",
              "  <div id=\"df-6cfc9faa-778a-454f-ae70-1606ec77fb53\">\n",
              "    <div class=\"colab-df-container\">\n",
              "      <div>\n",
              "<style scoped>\n",
              "    .dataframe tbody tr th:only-of-type {\n",
              "        vertical-align: middle;\n",
              "    }\n",
              "\n",
              "    .dataframe tbody tr th {\n",
              "        vertical-align: top;\n",
              "    }\n",
              "\n",
              "    .dataframe thead th {\n",
              "        text-align: right;\n",
              "    }\n",
              "</style>\n",
              "<table border=\"1\" class=\"dataframe\">\n",
              "  <thead>\n",
              "    <tr style=\"text-align: right;\">\n",
              "      <th></th>\n",
              "      <th>work_id</th>\n",
              "      <th>title</th>\n",
              "      <th>author</th>\n",
              "      <th>rating</th>\n",
              "      <th>category</th>\n",
              "      <th>fandom</th>\n",
              "      <th>relationship</th>\n",
              "      <th>character</th>\n",
              "      <th>additional tags</th>\n",
              "      <th>language</th>\n",
              "      <th>...</th>\n",
              "      <th>chapters</th>\n",
              "      <th>comments</th>\n",
              "      <th>kudos</th>\n",
              "      <th>bookmarks</th>\n",
              "      <th>hits</th>\n",
              "      <th>all_kudos</th>\n",
              "      <th>all_bookmarks</th>\n",
              "      <th>body</th>\n",
              "      <th>Body_Parsed_1</th>\n",
              "      <th>Fandom_Code</th>\n",
              "    </tr>\n",
              "  </thead>\n",
              "  <tbody>\n",
              "    <tr>\n",
              "      <th>0</th>\n",
              "      <td>16238273</td>\n",
              "      <td>A Murder of Crows</td>\n",
              "      <td>['FallenRiotforSweetRevenge']</td>\n",
              "      <td>Teen And Up Audiences</td>\n",
              "      <td>F/M, M/M</td>\n",
              "      <td>Six of Crows Series - Leigh Bardugo</td>\n",
              "      <td>Kaz Brekker/Inej Ghafa, Jesper Fahey/Wylan Van...</td>\n",
              "      <td>Kaz Brekker, Jesper Fahey, Wylan Van Eck, Anik...</td>\n",
              "      <td>Post-Crooked Kingdom, Two Shot, My First Work ...</td>\n",
              "      <td>English</td>\n",
              "      <td>...</td>\n",
              "      <td>1/2</td>\n",
              "      <td>9.0</td>\n",
              "      <td>47.0</td>\n",
              "      <td>2.0</td>\n",
              "      <td>691</td>\n",
              "      <td>['LawlietFan27', 'sy1v13', 'SultannaMajor', 'J...</td>\n",
              "      <td>[]</td>\n",
              "      <td>The Wraith's silhouette had long faded away in...</td>\n",
              "      <td>The Wraith's silhouette had long faded away in...</td>\n",
              "      <td>0</td>\n",
              "    </tr>\n",
              "    <tr>\n",
              "      <th>1</th>\n",
              "      <td>19283566</td>\n",
              "      <td>Colm &amp; Aditi, 1989</td>\n",
              "      <td>['zemenipearls (ayaanle)']</td>\n",
              "      <td>General Audiences</td>\n",
              "      <td>F/M</td>\n",
              "      <td>Six of Crows Series - Leigh Bardugo</td>\n",
              "      <td>Colm Fahey/Aditi Hilli</td>\n",
              "      <td>Colm Fahey, Aditi Hilli</td>\n",
              "      <td>Alternate Universe - Modern Setting, Alternate...</td>\n",
              "      <td>English</td>\n",
              "      <td>...</td>\n",
              "      <td>1/1</td>\n",
              "      <td>3.0</td>\n",
              "      <td>24.0</td>\n",
              "      <td>2.0</td>\n",
              "      <td>174</td>\n",
              "      <td>['NowNumber5', 'ahodgepodgeofthings', 'warmfuz...</td>\n",
              "      <td>[]</td>\n",
              "      <td>Colm is a young Irishman studying abroad at th...</td>\n",
              "      <td>Colm is a young Irishman studying abroad at th...</td>\n",
              "      <td>0</td>\n",
              "    </tr>\n",
              "    <tr>\n",
              "      <th>2</th>\n",
              "      <td>11786106</td>\n",
              "      <td>If and When</td>\n",
              "      <td>['Higado']</td>\n",
              "      <td>Teen And Up Audiences</td>\n",
              "      <td>Gen</td>\n",
              "      <td>Six of Crows Series - Leigh Bardugo</td>\n",
              "      <td>NaN</td>\n",
              "      <td>Kaz Brekker, Inej Ghafa, Nina Zenik, Matthias ...</td>\n",
              "      <td>A poem, because I was sad, WELL ANYWAYS, i wro...</td>\n",
              "      <td>English</td>\n",
              "      <td>...</td>\n",
              "      <td>2/2</td>\n",
              "      <td>7.0</td>\n",
              "      <td>23.0</td>\n",
              "      <td>2.0</td>\n",
              "      <td>310</td>\n",
              "      <td>['LucyParnassus', 'trufelek', 'F1zzle', 'washm...</td>\n",
              "      <td>[]</td>\n",
              "      <td>\\nIf the life you once knew is gone, \\n\\n\\n\\nI...</td>\n",
              "      <td>If the life you once knew is gone,  If they t...</td>\n",
              "      <td>0</td>\n",
              "    </tr>\n",
              "    <tr>\n",
              "      <th>4</th>\n",
              "      <td>13051152</td>\n",
              "      <td>Not Brick or Stone, or Comfort in the Firelight</td>\n",
              "      <td>['metaphasia']</td>\n",
              "      <td>General Audiences</td>\n",
              "      <td>Gen</td>\n",
              "      <td>Six of Crows Series - Leigh Bardugo</td>\n",
              "      <td>NaN</td>\n",
              "      <td>Inej Ghafa</td>\n",
              "      <td>NaN</td>\n",
              "      <td>English</td>\n",
              "      <td>...</td>\n",
              "      <td>1/1</td>\n",
              "      <td>3.0</td>\n",
              "      <td>51.0</td>\n",
              "      <td>7.0</td>\n",
              "      <td>480</td>\n",
              "      <td>['annemilk', 'Lio26', 'epithet', 'sconesunderm...</td>\n",
              "      <td>[]</td>\n",
              "      <td>The Wraith slid through the water, as silent a...</td>\n",
              "      <td>The Wraith slid through the water, as silent a...</td>\n",
              "      <td>0</td>\n",
              "    </tr>\n",
              "    <tr>\n",
              "      <th>5</th>\n",
              "      <td>32219725</td>\n",
              "      <td>pretty ballerina</td>\n",
              "      <td>['petersgwen']</td>\n",
              "      <td>General Audiences</td>\n",
              "      <td>F/M</td>\n",
              "      <td>Six of Crows Series - Leigh Bardugo</td>\n",
              "      <td>Matthias Helvar/Nina Zenik</td>\n",
              "      <td>Matthias Helvar, Nina Zenik</td>\n",
              "      <td>NaN</td>\n",
              "      <td>English</td>\n",
              "      <td>...</td>\n",
              "      <td>1/1</td>\n",
              "      <td>9.0</td>\n",
              "      <td>50.0</td>\n",
              "      <td>NaN</td>\n",
              "      <td>368</td>\n",
              "      <td>['King0fTheFall', 'brekkered', 'heyheysogay', ...</td>\n",
              "      <td>[]</td>\n",
              "      <td>Nina moved to Ketterdam with few possessions, ...</td>\n",
              "      <td>Nina moved to Ketterdam with few possessions, ...</td>\n",
              "      <td>0</td>\n",
              "    </tr>\n",
              "    <tr>\n",
              "      <th>...</th>\n",
              "      <td>...</td>\n",
              "      <td>...</td>\n",
              "      <td>...</td>\n",
              "      <td>...</td>\n",
              "      <td>...</td>\n",
              "      <td>...</td>\n",
              "      <td>...</td>\n",
              "      <td>...</td>\n",
              "      <td>...</td>\n",
              "      <td>...</td>\n",
              "      <td>...</td>\n",
              "      <td>...</td>\n",
              "      <td>...</td>\n",
              "      <td>...</td>\n",
              "      <td>...</td>\n",
              "      <td>...</td>\n",
              "      <td>...</td>\n",
              "      <td>...</td>\n",
              "      <td>...</td>\n",
              "      <td>...</td>\n",
              "      <td>...</td>\n",
              "    </tr>\n",
              "    <tr>\n",
              "      <th>193</th>\n",
              "      <td>681524</td>\n",
              "      <td>A Case of Assault</td>\n",
              "      <td>['GendrysNorthernWench']</td>\n",
              "      <td>General Audiences</td>\n",
              "      <td>Other</td>\n",
              "      <td>Sherlock (TV)</td>\n",
              "      <td>NaN</td>\n",
              "      <td>Sherlock Holmes, John Watson, Greg Lestrade, M...</td>\n",
              "      <td>Do not fuck with Sherlock, John has bad days</td>\n",
              "      <td>English</td>\n",
              "      <td>...</td>\n",
              "      <td>1/1</td>\n",
              "      <td>NaN</td>\n",
              "      <td>15.0</td>\n",
              "      <td>3.0</td>\n",
              "      <td>438</td>\n",
              "      <td>['HerMajestyTheQueen', 'Dansel13', 'darkviolin...</td>\n",
              "      <td>[]</td>\n",
              "      <td>John watches with mild interest as Sherlock pu...</td>\n",
              "      <td>John watches with mild interest as Sherlock pu...</td>\n",
              "      <td>1</td>\n",
              "    </tr>\n",
              "    <tr>\n",
              "      <th>196</th>\n",
              "      <td>1324303</td>\n",
              "      <td>When the Cold Bites</td>\n",
              "      <td>['idontblogforsherlockholmes']</td>\n",
              "      <td>Not Rated</td>\n",
              "      <td>NaN</td>\n",
              "      <td>Sherlock (TV)</td>\n",
              "      <td>Sherlock Holmes &amp; John Watson</td>\n",
              "      <td>NaN</td>\n",
              "      <td>Kissing, Sexual Confusion, Unresolved Emotiona...</td>\n",
              "      <td>English</td>\n",
              "      <td>...</td>\n",
              "      <td>1/1</td>\n",
              "      <td>2.0</td>\n",
              "      <td>7.0</td>\n",
              "      <td>NaN</td>\n",
              "      <td>285</td>\n",
              "      <td>['Scarlet_angel', 'rift_bound', 'MaelaFr', 'cr...</td>\n",
              "      <td>[]</td>\n",
              "      <td>Clink - Down went the black and avocado stripe...</td>\n",
              "      <td>Clink - Down went the black and avocado stripe...</td>\n",
              "      <td>1</td>\n",
              "    </tr>\n",
              "    <tr>\n",
              "      <th>197</th>\n",
              "      <td>1047637</td>\n",
              "      <td>Elimination</td>\n",
              "      <td>['MonkeyBard']</td>\n",
              "      <td>Teen And Up Audiences</td>\n",
              "      <td>NaN</td>\n",
              "      <td>Sherlock (TV)</td>\n",
              "      <td>NaN</td>\n",
              "      <td>Greg Lestrade, John Watson, Molly Hooper, Sall...</td>\n",
              "      <td>Crack, Science Fiction, Hurt/Comfort</td>\n",
              "      <td>English</td>\n",
              "      <td>...</td>\n",
              "      <td>1/1</td>\n",
              "      <td>6.0</td>\n",
              "      <td>9.0</td>\n",
              "      <td>NaN</td>\n",
              "      <td>220</td>\n",
              "      <td>['libco', 'rbarr', 'Jaybeefoxy', 'shymel', 'Tr...</td>\n",
              "      <td>[]</td>\n",
              "      <td>He supposed he should be celebrating that it w...</td>\n",
              "      <td>He supposed he should be celebrating that it w...</td>\n",
              "      <td>1</td>\n",
              "    </tr>\n",
              "    <tr>\n",
              "      <th>198</th>\n",
              "      <td>894130</td>\n",
              "      <td>The Puzzle</td>\n",
              "      <td>['angelsarewatching']</td>\n",
              "      <td>Teen And Up Audiences</td>\n",
              "      <td>Gen</td>\n",
              "      <td>Sherlock (TV)</td>\n",
              "      <td>NaN</td>\n",
              "      <td>Sherlock Holmes, John Watson, Greg Lestrade</td>\n",
              "      <td>NaN</td>\n",
              "      <td>English</td>\n",
              "      <td>...</td>\n",
              "      <td>1/1</td>\n",
              "      <td>NaN</td>\n",
              "      <td>2.0</td>\n",
              "      <td>NaN</td>\n",
              "      <td>222</td>\n",
              "      <td>['SecretlyWritingFanfic', 'alexxphoenix42']</td>\n",
              "      <td>[]</td>\n",
              "      <td>The Puzzle\\n\\nIt was pure alleviation when I h...</td>\n",
              "      <td>The Puzzle  It was pure alleviation when I hea...</td>\n",
              "      <td>1</td>\n",
              "    </tr>\n",
              "    <tr>\n",
              "      <th>199</th>\n",
              "      <td>383603</td>\n",
              "      <td>Kith and Kin</td>\n",
              "      <td>['sherlockholmeslives']</td>\n",
              "      <td>Teen And Up Audiences</td>\n",
              "      <td>Gen</td>\n",
              "      <td>Sherlock (TV)</td>\n",
              "      <td>NaN</td>\n",
              "      <td>Sherlock Holmes, Mycroft Holmes</td>\n",
              "      <td>One Shot</td>\n",
              "      <td>English</td>\n",
              "      <td>...</td>\n",
              "      <td>1/1</td>\n",
              "      <td>NaN</td>\n",
              "      <td>4.0</td>\n",
              "      <td>NaN</td>\n",
              "      <td>398</td>\n",
              "      <td>['darkenergy', 'a_variant_of_roar', 'Otter_Von...</td>\n",
              "      <td>[]</td>\n",
              "      <td>Sherlock admired his father above all other ma...</td>\n",
              "      <td>Sherlock admired his father above all other ma...</td>\n",
              "      <td>1</td>\n",
              "    </tr>\n",
              "  </tbody>\n",
              "</table>\n",
              "<p>151 rows × 24 columns</p>\n",
              "</div>\n",
              "      <button class=\"colab-df-convert\" onclick=\"convertToInteractive('df-6cfc9faa-778a-454f-ae70-1606ec77fb53')\"\n",
              "              title=\"Convert this dataframe to an interactive table.\"\n",
              "              style=\"display:none;\">\n",
              "        \n",
              "  <svg xmlns=\"http://www.w3.org/2000/svg\" height=\"24px\"viewBox=\"0 0 24 24\"\n",
              "       width=\"24px\">\n",
              "    <path d=\"M0 0h24v24H0V0z\" fill=\"none\"/>\n",
              "    <path d=\"M18.56 5.44l.94 2.06.94-2.06 2.06-.94-2.06-.94-.94-2.06-.94 2.06-2.06.94zm-11 1L8.5 8.5l.94-2.06 2.06-.94-2.06-.94L8.5 2.5l-.94 2.06-2.06.94zm10 10l.94 2.06.94-2.06 2.06-.94-2.06-.94-.94-2.06-.94 2.06-2.06.94z\"/><path d=\"M17.41 7.96l-1.37-1.37c-.4-.4-.92-.59-1.43-.59-.52 0-1.04.2-1.43.59L10.3 9.45l-7.72 7.72c-.78.78-.78 2.05 0 2.83L4 21.41c.39.39.9.59 1.41.59.51 0 1.02-.2 1.41-.59l7.78-7.78 2.81-2.81c.8-.78.8-2.07 0-2.86zM5.41 20L4 18.59l7.72-7.72 1.47 1.35L5.41 20z\"/>\n",
              "  </svg>\n",
              "      </button>\n",
              "      \n",
              "  <style>\n",
              "    .colab-df-container {\n",
              "      display:flex;\n",
              "      flex-wrap:wrap;\n",
              "      gap: 12px;\n",
              "    }\n",
              "\n",
              "    .colab-df-convert {\n",
              "      background-color: #E8F0FE;\n",
              "      border: none;\n",
              "      border-radius: 50%;\n",
              "      cursor: pointer;\n",
              "      display: none;\n",
              "      fill: #1967D2;\n",
              "      height: 32px;\n",
              "      padding: 0 0 0 0;\n",
              "      width: 32px;\n",
              "    }\n",
              "\n",
              "    .colab-df-convert:hover {\n",
              "      background-color: #E2EBFA;\n",
              "      box-shadow: 0px 1px 2px rgba(60, 64, 67, 0.3), 0px 1px 3px 1px rgba(60, 64, 67, 0.15);\n",
              "      fill: #174EA6;\n",
              "    }\n",
              "\n",
              "    [theme=dark] .colab-df-convert {\n",
              "      background-color: #3B4455;\n",
              "      fill: #D2E3FC;\n",
              "    }\n",
              "\n",
              "    [theme=dark] .colab-df-convert:hover {\n",
              "      background-color: #434B5C;\n",
              "      box-shadow: 0px 1px 3px 1px rgba(0, 0, 0, 0.15);\n",
              "      filter: drop-shadow(0px 1px 2px rgba(0, 0, 0, 0.3));\n",
              "      fill: #FFFFFF;\n",
              "    }\n",
              "  </style>\n",
              "\n",
              "      <script>\n",
              "        const buttonEl =\n",
              "          document.querySelector('#df-6cfc9faa-778a-454f-ae70-1606ec77fb53 button.colab-df-convert');\n",
              "        buttonEl.style.display =\n",
              "          google.colab.kernel.accessAllowed ? 'block' : 'none';\n",
              "\n",
              "        async function convertToInteractive(key) {\n",
              "          const element = document.querySelector('#df-6cfc9faa-778a-454f-ae70-1606ec77fb53');\n",
              "          const dataTable =\n",
              "            await google.colab.kernel.invokeFunction('convertToInteractive',\n",
              "                                                     [key], {});\n",
              "          if (!dataTable) return;\n",
              "\n",
              "          const docLinkHtml = 'Like what you see? Visit the ' +\n",
              "            '<a target=\"_blank\" href=https://colab.research.google.com/notebooks/data_table.ipynb>data table notebook</a>'\n",
              "            + ' to learn more about interactive tables.';\n",
              "          element.innerHTML = '';\n",
              "          dataTable['output_type'] = 'display_data';\n",
              "          await google.colab.output.renderOutput(dataTable, element);\n",
              "          const docLink = document.createElement('div');\n",
              "          docLink.innerHTML = docLinkHtml;\n",
              "          element.appendChild(docLink);\n",
              "        }\n",
              "      </script>\n",
              "    </div>\n",
              "  </div>\n",
              "  "
            ]
          },
          "metadata": {},
          "execution_count": 79
        }
      ]
    },
    {
      "cell_type": "code",
      "source": [
        "print(\"Training Set Shape :\", train.shape)\n",
        "print(\"Validation Set Shape :\", val.shape)\n",
        "print(\"Test Set Shape :\", test2.shape)"
      ],
      "metadata": {
        "colab": {
          "base_uri": "https://localhost:8080/"
        },
        "id": "FU7RWYIfm87V",
        "outputId": "e0f9a7c3-722d-4a6b-fc6d-ca9b5e27e162"
      },
      "execution_count": null,
      "outputs": [
        {
          "output_type": "stream",
          "name": "stdout",
          "text": [
            "Training Set Shape : (176, 8)\n",
            "Validation Set Shape : (44, 8)\n",
            "Test Set Shape : (151, 24)\n"
          ]
        }
      ]
    },
    {
      "cell_type": "code",
      "source": [
        "pred_sentences = list(test2['Body_Parsed_1'])"
      ],
      "metadata": {
        "id": "1vsmg1AonF5d"
      },
      "execution_count": null,
      "outputs": []
    },
    {
      "cell_type": "code",
      "source": [
        "predictions = getPrediction(pred_sentences)"
      ],
      "metadata": {
        "colab": {
          "base_uri": "https://localhost:8080/"
        },
        "id": "M3iu-0JgnHiZ",
        "outputId": "80eb6f67-bb6d-4bf5-b318-04308683c4f9"
      },
      "execution_count": null,
      "outputs": [
        {
          "output_type": "stream",
          "name": "stdout",
          "text": [
            "INFO:tensorflow:Writing example 0 of 151\n"
          ]
        },
        {
          "output_type": "stream",
          "name": "stderr",
          "text": [
            "INFO:tensorflow:Writing example 0 of 151\n"
          ]
        },
        {
          "output_type": "stream",
          "name": "stdout",
          "text": [
            "INFO:tensorflow:*** Example ***\n"
          ]
        },
        {
          "output_type": "stream",
          "name": "stderr",
          "text": [
            "INFO:tensorflow:*** Example ***\n"
          ]
        },
        {
          "output_type": "stream",
          "name": "stdout",
          "text": [
            "INFO:tensorflow:guid: \n"
          ]
        },
        {
          "output_type": "stream",
          "name": "stderr",
          "text": [
            "INFO:tensorflow:guid: \n"
          ]
        },
        {
          "output_type": "stream",
          "name": "stdout",
          "text": [
            "INFO:tensorflow:tokens: [CLS] the wr ##aith ' s silhouette had long faded away into the distance , gliding across the waves away from fifth harbor and away from ke ##tter ##dam . the crowd of dr ##eg ##s who had come to see off their fearless wr ##aith had slowly d ##wind ##led away as the ship disappeared over the horizon . everyone had dispersed by the time the sky began to tin ##t pink and the street ##lights were turned on . everyone except ka ##z br ##ek ##ker . ka ##z still stood at the docks , putting more weight on his crow - headed cane than he cared to admit . he knew this day would come . she had told him on the fe ##rol ##ind about her dream of fighting slave ##rs and freeing children who had fallen into the same mis ##fort ##une as her . \" purpose . you know you can ' t stop them all . \" had been his response . \" if i don ' t try , i won ' t stop any . \" \" then i almost pity the slave ##rs . they have no idea what ' s coming for them . \" he knew it would be cruel of him to keep her from her destiny . even dirty ##hand ##s couldn ' t get in the way of her and her dreams . even dirty ##hand ##s cringed at the memory of the few seconds he had contemplated cheating her into staying , but he couldn ' t do that . isn ' t that what he had promised not to do when he first offered her his deal only a few years ago ? he ' d had his chance to tell her how he felt , and he had gotten so close . he had asked her stay in ke ##tter ##dam after the ice court job and in return she had asked for him to remove his armor . if it were not for the the waves that threatened to rise at the thought of touch , maybe he would try . he had tried . he had started small . well , more manage ##able . the words on black veil were hard to confess . it had taken far too much from him to admit that he would always come for her . it was as close to ' i love you ' as he was going to get , but he had hoped that it would be enough . he knew deep down that it wasn ' t . he had been wrong . words were almost as bad as touch . he could never give her what she wanted . he didn ' t think he would ever be able to talk about jo ##rdi ##e , yet she had told him a little about the family she had been unfair ##ly ripped away from . she would always be stronger than he could ever hope to be . [SEP]\n"
          ]
        },
        {
          "output_type": "stream",
          "name": "stderr",
          "text": [
            "INFO:tensorflow:tokens: [CLS] the wr ##aith ' s silhouette had long faded away into the distance , gliding across the waves away from fifth harbor and away from ke ##tter ##dam . the crowd of dr ##eg ##s who had come to see off their fearless wr ##aith had slowly d ##wind ##led away as the ship disappeared over the horizon . everyone had dispersed by the time the sky began to tin ##t pink and the street ##lights were turned on . everyone except ka ##z br ##ek ##ker . ka ##z still stood at the docks , putting more weight on his crow - headed cane than he cared to admit . he knew this day would come . she had told him on the fe ##rol ##ind about her dream of fighting slave ##rs and freeing children who had fallen into the same mis ##fort ##une as her . \" purpose . you know you can ' t stop them all . \" had been his response . \" if i don ' t try , i won ' t stop any . \" \" then i almost pity the slave ##rs . they have no idea what ' s coming for them . \" he knew it would be cruel of him to keep her from her destiny . even dirty ##hand ##s couldn ' t get in the way of her and her dreams . even dirty ##hand ##s cringed at the memory of the few seconds he had contemplated cheating her into staying , but he couldn ' t do that . isn ' t that what he had promised not to do when he first offered her his deal only a few years ago ? he ' d had his chance to tell her how he felt , and he had gotten so close . he had asked her stay in ke ##tter ##dam after the ice court job and in return she had asked for him to remove his armor . if it were not for the the waves that threatened to rise at the thought of touch , maybe he would try . he had tried . he had started small . well , more manage ##able . the words on black veil were hard to confess . it had taken far too much from him to admit that he would always come for her . it was as close to ' i love you ' as he was going to get , but he had hoped that it would be enough . he knew deep down that it wasn ' t . he had been wrong . words were almost as bad as touch . he could never give her what she wanted . he didn ' t think he would ever be able to talk about jo ##rdi ##e , yet she had told him a little about the family she had been unfair ##ly ripped away from . she would always be stronger than he could ever hope to be . [SEP]\n"
          ]
        },
        {
          "output_type": "stream",
          "name": "stdout",
          "text": [
            "INFO:tensorflow:input_ids: 101 1996 23277 22465 1005 1055 21776 2018 2146 8105 2185 2046 1996 3292 1010 20292 2408 1996 5975 2185 2013 3587 6496 1998 2185 2013 17710 12079 17130 1012 1996 4306 1997 2852 13910 2015 2040 2018 2272 2000 2156 2125 2037 22518 23277 22465 2018 3254 1040 11101 3709 2185 2004 1996 2911 5419 2058 1996 9154 1012 3071 2018 15484 2011 1996 2051 1996 3712 2211 2000 9543 2102 5061 1998 1996 2395 15733 2020 2357 2006 1012 3071 3272 10556 2480 7987 5937 5484 1012 10556 2480 2145 2768 2012 1996 15093 1010 5128 2062 3635 2006 2010 11465 1011 3753 11942 2084 2002 8725 2000 6449 1012 2002 2354 2023 2154 2052 2272 1012 2016 2018 2409 2032 2006 1996 10768 13153 22254 2055 2014 3959 1997 3554 6658 2869 1998 22198 2336 2040 2018 5357 2046 1996 2168 28616 13028 9816 2004 2014 1012 1000 3800 1012 2017 2113 2017 2064 1005 1056 2644 2068 2035 1012 1000 2018 2042 2010 3433 1012 1000 2065 1045 2123 1005 1056 3046 1010 1045 2180 1005 1056 2644 2151 1012 1000 1000 2059 1045 2471 12063 1996 6658 2869 1012 2027 2031 2053 2801 2054 1005 1055 2746 2005 2068 1012 1000 2002 2354 2009 2052 2022 10311 1997 2032 2000 2562 2014 2013 2014 10461 1012 2130 6530 11774 2015 2481 1005 1056 2131 1999 1996 2126 1997 2014 1998 2014 5544 1012 2130 6530 11774 2015 23952 2012 1996 3638 1997 1996 2261 3823 2002 2018 23133 16789 2014 2046 6595 1010 2021 2002 2481 1005 1056 2079 2008 1012 3475 1005 1056 2008 2054 2002 2018 5763 2025 2000 2079 2043 2002 2034 3253 2014 2010 3066 2069 1037 2261 2086 3283 1029 2002 1005 1040 2018 2010 3382 2000 2425 2014 2129 2002 2371 1010 1998 2002 2018 5407 2061 2485 1012 2002 2018 2356 2014 2994 1999 17710 12079 17130 2044 1996 3256 2457 3105 1998 1999 2709 2016 2018 2356 2005 2032 2000 6366 2010 8177 1012 2065 2009 2020 2025 2005 1996 1996 5975 2008 5561 2000 4125 2012 1996 2245 1997 3543 1010 2672 2002 2052 3046 1012 2002 2018 2699 1012 2002 2018 2318 2235 1012 2092 1010 2062 6133 3085 1012 1996 2616 2006 2304 15562 2020 2524 2000 18766 1012 2009 2018 2579 2521 2205 2172 2013 2032 2000 6449 2008 2002 2052 2467 2272 2005 2014 1012 2009 2001 2004 2485 2000 1005 1045 2293 2017 1005 2004 2002 2001 2183 2000 2131 1010 2021 2002 2018 5113 2008 2009 2052 2022 2438 1012 2002 2354 2784 2091 2008 2009 2347 1005 1056 1012 2002 2018 2042 3308 1012 2616 2020 2471 2004 2919 2004 3543 1012 2002 2071 2196 2507 2014 2054 2016 2359 1012 2002 2134 1005 1056 2228 2002 2052 2412 2022 2583 2000 2831 2055 8183 17080 2063 1010 2664 2016 2018 2409 2032 1037 2210 2055 1996 2155 2016 2018 2042 15571 2135 9157 2185 2013 1012 2016 2052 2467 2022 6428 2084 2002 2071 2412 3246 2000 2022 1012 102\n"
          ]
        },
        {
          "output_type": "stream",
          "name": "stderr",
          "text": [
            "INFO:tensorflow:input_ids: 101 1996 23277 22465 1005 1055 21776 2018 2146 8105 2185 2046 1996 3292 1010 20292 2408 1996 5975 2185 2013 3587 6496 1998 2185 2013 17710 12079 17130 1012 1996 4306 1997 2852 13910 2015 2040 2018 2272 2000 2156 2125 2037 22518 23277 22465 2018 3254 1040 11101 3709 2185 2004 1996 2911 5419 2058 1996 9154 1012 3071 2018 15484 2011 1996 2051 1996 3712 2211 2000 9543 2102 5061 1998 1996 2395 15733 2020 2357 2006 1012 3071 3272 10556 2480 7987 5937 5484 1012 10556 2480 2145 2768 2012 1996 15093 1010 5128 2062 3635 2006 2010 11465 1011 3753 11942 2084 2002 8725 2000 6449 1012 2002 2354 2023 2154 2052 2272 1012 2016 2018 2409 2032 2006 1996 10768 13153 22254 2055 2014 3959 1997 3554 6658 2869 1998 22198 2336 2040 2018 5357 2046 1996 2168 28616 13028 9816 2004 2014 1012 1000 3800 1012 2017 2113 2017 2064 1005 1056 2644 2068 2035 1012 1000 2018 2042 2010 3433 1012 1000 2065 1045 2123 1005 1056 3046 1010 1045 2180 1005 1056 2644 2151 1012 1000 1000 2059 1045 2471 12063 1996 6658 2869 1012 2027 2031 2053 2801 2054 1005 1055 2746 2005 2068 1012 1000 2002 2354 2009 2052 2022 10311 1997 2032 2000 2562 2014 2013 2014 10461 1012 2130 6530 11774 2015 2481 1005 1056 2131 1999 1996 2126 1997 2014 1998 2014 5544 1012 2130 6530 11774 2015 23952 2012 1996 3638 1997 1996 2261 3823 2002 2018 23133 16789 2014 2046 6595 1010 2021 2002 2481 1005 1056 2079 2008 1012 3475 1005 1056 2008 2054 2002 2018 5763 2025 2000 2079 2043 2002 2034 3253 2014 2010 3066 2069 1037 2261 2086 3283 1029 2002 1005 1040 2018 2010 3382 2000 2425 2014 2129 2002 2371 1010 1998 2002 2018 5407 2061 2485 1012 2002 2018 2356 2014 2994 1999 17710 12079 17130 2044 1996 3256 2457 3105 1998 1999 2709 2016 2018 2356 2005 2032 2000 6366 2010 8177 1012 2065 2009 2020 2025 2005 1996 1996 5975 2008 5561 2000 4125 2012 1996 2245 1997 3543 1010 2672 2002 2052 3046 1012 2002 2018 2699 1012 2002 2018 2318 2235 1012 2092 1010 2062 6133 3085 1012 1996 2616 2006 2304 15562 2020 2524 2000 18766 1012 2009 2018 2579 2521 2205 2172 2013 2032 2000 6449 2008 2002 2052 2467 2272 2005 2014 1012 2009 2001 2004 2485 2000 1005 1045 2293 2017 1005 2004 2002 2001 2183 2000 2131 1010 2021 2002 2018 5113 2008 2009 2052 2022 2438 1012 2002 2354 2784 2091 2008 2009 2347 1005 1056 1012 2002 2018 2042 3308 1012 2616 2020 2471 2004 2919 2004 3543 1012 2002 2071 2196 2507 2014 2054 2016 2359 1012 2002 2134 1005 1056 2228 2002 2052 2412 2022 2583 2000 2831 2055 8183 17080 2063 1010 2664 2016 2018 2409 2032 1037 2210 2055 1996 2155 2016 2018 2042 15571 2135 9157 2185 2013 1012 2016 2052 2467 2022 6428 2084 2002 2071 2412 3246 2000 2022 1012 102\n"
          ]
        },
        {
          "output_type": "stream",
          "name": "stdout",
          "text": [
            "INFO:tensorflow:input_mask: 1 1 1 1 1 1 1 1 1 1 1 1 1 1 1 1 1 1 1 1 1 1 1 1 1 1 1 1 1 1 1 1 1 1 1 1 1 1 1 1 1 1 1 1 1 1 1 1 1 1 1 1 1 1 1 1 1 1 1 1 1 1 1 1 1 1 1 1 1 1 1 1 1 1 1 1 1 1 1 1 1 1 1 1 1 1 1 1 1 1 1 1 1 1 1 1 1 1 1 1 1 1 1 1 1 1 1 1 1 1 1 1 1 1 1 1 1 1 1 1 1 1 1 1 1 1 1 1 1 1 1 1 1 1 1 1 1 1 1 1 1 1 1 1 1 1 1 1 1 1 1 1 1 1 1 1 1 1 1 1 1 1 1 1 1 1 1 1 1 1 1 1 1 1 1 1 1 1 1 1 1 1 1 1 1 1 1 1 1 1 1 1 1 1 1 1 1 1 1 1 1 1 1 1 1 1 1 1 1 1 1 1 1 1 1 1 1 1 1 1 1 1 1 1 1 1 1 1 1 1 1 1 1 1 1 1 1 1 1 1 1 1 1 1 1 1 1 1 1 1 1 1 1 1 1 1 1 1 1 1 1 1 1 1 1 1 1 1 1 1 1 1 1 1 1 1 1 1 1 1 1 1 1 1 1 1 1 1 1 1 1 1 1 1 1 1 1 1 1 1 1 1 1 1 1 1 1 1 1 1 1 1 1 1 1 1 1 1 1 1 1 1 1 1 1 1 1 1 1 1 1 1 1 1 1 1 1 1 1 1 1 1 1 1 1 1 1 1 1 1 1 1 1 1 1 1 1 1 1 1 1 1 1 1 1 1 1 1 1 1 1 1 1 1 1 1 1 1 1 1 1 1 1 1 1 1 1 1 1 1 1 1 1 1 1 1 1 1 1 1 1 1 1 1 1 1 1 1 1 1 1 1 1 1 1 1 1 1 1 1 1 1 1 1 1 1 1 1 1 1 1 1 1 1 1 1 1 1 1 1 1 1 1 1 1 1 1 1 1 1 1 1 1 1 1 1 1 1 1 1 1 1 1 1 1 1 1 1 1 1 1 1 1 1 1 1 1 1 1 1 1 1 1 1 1 1 1 1 1 1 1 1 1 1 1 1 1 1 1 1 1 1 1 1 1 1 1 1 1 1 1 1\n"
          ]
        },
        {
          "output_type": "stream",
          "name": "stderr",
          "text": [
            "INFO:tensorflow:input_mask: 1 1 1 1 1 1 1 1 1 1 1 1 1 1 1 1 1 1 1 1 1 1 1 1 1 1 1 1 1 1 1 1 1 1 1 1 1 1 1 1 1 1 1 1 1 1 1 1 1 1 1 1 1 1 1 1 1 1 1 1 1 1 1 1 1 1 1 1 1 1 1 1 1 1 1 1 1 1 1 1 1 1 1 1 1 1 1 1 1 1 1 1 1 1 1 1 1 1 1 1 1 1 1 1 1 1 1 1 1 1 1 1 1 1 1 1 1 1 1 1 1 1 1 1 1 1 1 1 1 1 1 1 1 1 1 1 1 1 1 1 1 1 1 1 1 1 1 1 1 1 1 1 1 1 1 1 1 1 1 1 1 1 1 1 1 1 1 1 1 1 1 1 1 1 1 1 1 1 1 1 1 1 1 1 1 1 1 1 1 1 1 1 1 1 1 1 1 1 1 1 1 1 1 1 1 1 1 1 1 1 1 1 1 1 1 1 1 1 1 1 1 1 1 1 1 1 1 1 1 1 1 1 1 1 1 1 1 1 1 1 1 1 1 1 1 1 1 1 1 1 1 1 1 1 1 1 1 1 1 1 1 1 1 1 1 1 1 1 1 1 1 1 1 1 1 1 1 1 1 1 1 1 1 1 1 1 1 1 1 1 1 1 1 1 1 1 1 1 1 1 1 1 1 1 1 1 1 1 1 1 1 1 1 1 1 1 1 1 1 1 1 1 1 1 1 1 1 1 1 1 1 1 1 1 1 1 1 1 1 1 1 1 1 1 1 1 1 1 1 1 1 1 1 1 1 1 1 1 1 1 1 1 1 1 1 1 1 1 1 1 1 1 1 1 1 1 1 1 1 1 1 1 1 1 1 1 1 1 1 1 1 1 1 1 1 1 1 1 1 1 1 1 1 1 1 1 1 1 1 1 1 1 1 1 1 1 1 1 1 1 1 1 1 1 1 1 1 1 1 1 1 1 1 1 1 1 1 1 1 1 1 1 1 1 1 1 1 1 1 1 1 1 1 1 1 1 1 1 1 1 1 1 1 1 1 1 1 1 1 1 1 1 1 1 1 1 1 1 1 1 1 1 1 1 1 1 1 1 1 1 1 1 1 1 1 1 1 1 1 1 1 1 1 1 1 1 1 1 1 1 1 1\n"
          ]
        },
        {
          "output_type": "stream",
          "name": "stdout",
          "text": [
            "INFO:tensorflow:segment_ids: 0 0 0 0 0 0 0 0 0 0 0 0 0 0 0 0 0 0 0 0 0 0 0 0 0 0 0 0 0 0 0 0 0 0 0 0 0 0 0 0 0 0 0 0 0 0 0 0 0 0 0 0 0 0 0 0 0 0 0 0 0 0 0 0 0 0 0 0 0 0 0 0 0 0 0 0 0 0 0 0 0 0 0 0 0 0 0 0 0 0 0 0 0 0 0 0 0 0 0 0 0 0 0 0 0 0 0 0 0 0 0 0 0 0 0 0 0 0 0 0 0 0 0 0 0 0 0 0 0 0 0 0 0 0 0 0 0 0 0 0 0 0 0 0 0 0 0 0 0 0 0 0 0 0 0 0 0 0 0 0 0 0 0 0 0 0 0 0 0 0 0 0 0 0 0 0 0 0 0 0 0 0 0 0 0 0 0 0 0 0 0 0 0 0 0 0 0 0 0 0 0 0 0 0 0 0 0 0 0 0 0 0 0 0 0 0 0 0 0 0 0 0 0 0 0 0 0 0 0 0 0 0 0 0 0 0 0 0 0 0 0 0 0 0 0 0 0 0 0 0 0 0 0 0 0 0 0 0 0 0 0 0 0 0 0 0 0 0 0 0 0 0 0 0 0 0 0 0 0 0 0 0 0 0 0 0 0 0 0 0 0 0 0 0 0 0 0 0 0 0 0 0 0 0 0 0 0 0 0 0 0 0 0 0 0 0 0 0 0 0 0 0 0 0 0 0 0 0 0 0 0 0 0 0 0 0 0 0 0 0 0 0 0 0 0 0 0 0 0 0 0 0 0 0 0 0 0 0 0 0 0 0 0 0 0 0 0 0 0 0 0 0 0 0 0 0 0 0 0 0 0 0 0 0 0 0 0 0 0 0 0 0 0 0 0 0 0 0 0 0 0 0 0 0 0 0 0 0 0 0 0 0 0 0 0 0 0 0 0 0 0 0 0 0 0 0 0 0 0 0 0 0 0 0 0 0 0 0 0 0 0 0 0 0 0 0 0 0 0 0 0 0 0 0 0 0 0 0 0 0 0 0 0 0 0 0 0 0 0 0 0 0 0 0 0 0 0 0 0 0 0 0 0 0 0 0 0 0 0 0 0 0 0 0 0 0 0 0 0 0 0 0 0 0 0 0 0 0 0 0 0 0\n"
          ]
        },
        {
          "output_type": "stream",
          "name": "stderr",
          "text": [
            "INFO:tensorflow:segment_ids: 0 0 0 0 0 0 0 0 0 0 0 0 0 0 0 0 0 0 0 0 0 0 0 0 0 0 0 0 0 0 0 0 0 0 0 0 0 0 0 0 0 0 0 0 0 0 0 0 0 0 0 0 0 0 0 0 0 0 0 0 0 0 0 0 0 0 0 0 0 0 0 0 0 0 0 0 0 0 0 0 0 0 0 0 0 0 0 0 0 0 0 0 0 0 0 0 0 0 0 0 0 0 0 0 0 0 0 0 0 0 0 0 0 0 0 0 0 0 0 0 0 0 0 0 0 0 0 0 0 0 0 0 0 0 0 0 0 0 0 0 0 0 0 0 0 0 0 0 0 0 0 0 0 0 0 0 0 0 0 0 0 0 0 0 0 0 0 0 0 0 0 0 0 0 0 0 0 0 0 0 0 0 0 0 0 0 0 0 0 0 0 0 0 0 0 0 0 0 0 0 0 0 0 0 0 0 0 0 0 0 0 0 0 0 0 0 0 0 0 0 0 0 0 0 0 0 0 0 0 0 0 0 0 0 0 0 0 0 0 0 0 0 0 0 0 0 0 0 0 0 0 0 0 0 0 0 0 0 0 0 0 0 0 0 0 0 0 0 0 0 0 0 0 0 0 0 0 0 0 0 0 0 0 0 0 0 0 0 0 0 0 0 0 0 0 0 0 0 0 0 0 0 0 0 0 0 0 0 0 0 0 0 0 0 0 0 0 0 0 0 0 0 0 0 0 0 0 0 0 0 0 0 0 0 0 0 0 0 0 0 0 0 0 0 0 0 0 0 0 0 0 0 0 0 0 0 0 0 0 0 0 0 0 0 0 0 0 0 0 0 0 0 0 0 0 0 0 0 0 0 0 0 0 0 0 0 0 0 0 0 0 0 0 0 0 0 0 0 0 0 0 0 0 0 0 0 0 0 0 0 0 0 0 0 0 0 0 0 0 0 0 0 0 0 0 0 0 0 0 0 0 0 0 0 0 0 0 0 0 0 0 0 0 0 0 0 0 0 0 0 0 0 0 0 0 0 0 0 0 0 0 0 0 0 0 0 0 0 0 0 0 0 0 0 0 0 0 0 0 0 0 0 0 0 0 0 0 0 0 0 0 0 0 0 0 0 0 0 0 0 0 0 0 0 0 0 0 0 0 0 0 0\n"
          ]
        },
        {
          "output_type": "stream",
          "name": "stdout",
          "text": [
            "INFO:tensorflow:label: 0 (id = 0)\n"
          ]
        },
        {
          "output_type": "stream",
          "name": "stderr",
          "text": [
            "INFO:tensorflow:label: 0 (id = 0)\n"
          ]
        },
        {
          "output_type": "stream",
          "name": "stdout",
          "text": [
            "INFO:tensorflow:*** Example ***\n"
          ]
        },
        {
          "output_type": "stream",
          "name": "stderr",
          "text": [
            "INFO:tensorflow:*** Example ***\n"
          ]
        },
        {
          "output_type": "stream",
          "name": "stdout",
          "text": [
            "INFO:tensorflow:guid: \n"
          ]
        },
        {
          "output_type": "stream",
          "name": "stderr",
          "text": [
            "INFO:tensorflow:guid: \n"
          ]
        },
        {
          "output_type": "stream",
          "name": "stdout",
          "text": [
            "INFO:tensorflow:tokens: [CLS] col ##m is a young irish ##man studying abroad at the university of georgia . it ' s the late 80s - over a decade until the good friday agreement would be signed , the tail end of the cold war , and a few years until the l . a . riots would bring police brutality to the forefront of america ' s attention . col ##m is a hard ##working man with red hair and a quiet voice . adi ##ti is viva ##cious and studying biochemistry . he is stricken by her - long box braid ##s and hoop earrings , una ##bas ##hed ##ly smart and beautiful . they ' re taking organic chemistry together and he can ' t help staring at her . everything about her was different from home . he was from a quiet town , more like a hamlet . she was from harlem , a city girl in an area beginning to see the devastating effects of the \" war on drugs \" and gen ##tri ##fication . not only was he white , but he was irish . black american culture was a world apart . they seemed like opposite ##s , but he knew he loved her . he finally got up the courage to talk to her around mid ##ter ##ms . she advertised a group all - night ##er and kick ##back to study for the notorious ##ly difficult test , and col ##m leaped at the opportunity to peek into her life outside of class . adi ##ti didn ' t notice col ##m much . he was another face in her class , distinguish ##able by his accent and soft manner ##isms . sometimes he hummed under his breath so quietly only she could hear him . but when he showed up to study , carrying a case of beer to chip in . they ended up discussing their lives more than the textbook , and she was charm ##ed . they both liked salty foods more than sweet . they liked the sunrise , and spring ##time . their parents had hard lives and wanted them to go into practical skilled jobs . they were uncertain about the future of their hometown ##s and politics . they loved love songs and flowers . it took three dates until they kissed . col ##m chicken ##ed out every time , so adi ##ti finally leaned down herself , and they both felt like they were home . they were ins ##ep ##arable the rest of the year . for christmas he went to new york city , where he was thrown into a large and loving family that welcomed him in without a second thought . they spent spring break in ireland , where col ##m thought she looked like a goddess walking down the cobb ##les ##tone streets . they were completely in love . when the school year was over , they were devastated . but then he looked for a job [SEP]\n"
          ]
        },
        {
          "output_type": "stream",
          "name": "stderr",
          "text": [
            "INFO:tensorflow:tokens: [CLS] col ##m is a young irish ##man studying abroad at the university of georgia . it ' s the late 80s - over a decade until the good friday agreement would be signed , the tail end of the cold war , and a few years until the l . a . riots would bring police brutality to the forefront of america ' s attention . col ##m is a hard ##working man with red hair and a quiet voice . adi ##ti is viva ##cious and studying biochemistry . he is stricken by her - long box braid ##s and hoop earrings , una ##bas ##hed ##ly smart and beautiful . they ' re taking organic chemistry together and he can ' t help staring at her . everything about her was different from home . he was from a quiet town , more like a hamlet . she was from harlem , a city girl in an area beginning to see the devastating effects of the \" war on drugs \" and gen ##tri ##fication . not only was he white , but he was irish . black american culture was a world apart . they seemed like opposite ##s , but he knew he loved her . he finally got up the courage to talk to her around mid ##ter ##ms . she advertised a group all - night ##er and kick ##back to study for the notorious ##ly difficult test , and col ##m leaped at the opportunity to peek into her life outside of class . adi ##ti didn ' t notice col ##m much . he was another face in her class , distinguish ##able by his accent and soft manner ##isms . sometimes he hummed under his breath so quietly only she could hear him . but when he showed up to study , carrying a case of beer to chip in . they ended up discussing their lives more than the textbook , and she was charm ##ed . they both liked salty foods more than sweet . they liked the sunrise , and spring ##time . their parents had hard lives and wanted them to go into practical skilled jobs . they were uncertain about the future of their hometown ##s and politics . they loved love songs and flowers . it took three dates until they kissed . col ##m chicken ##ed out every time , so adi ##ti finally leaned down herself , and they both felt like they were home . they were ins ##ep ##arable the rest of the year . for christmas he went to new york city , where he was thrown into a large and loving family that welcomed him in without a second thought . they spent spring break in ireland , where col ##m thought she looked like a goddess walking down the cobb ##les ##tone streets . they were completely in love . when the school year was over , they were devastated . but then he looked for a job [SEP]\n"
          ]
        },
        {
          "output_type": "stream",
          "name": "stdout",
          "text": [
            "INFO:tensorflow:input_ids: 101 8902 2213 2003 1037 2402 3493 2386 5702 6917 2012 1996 2118 1997 4108 1012 2009 1005 1055 1996 2397 16002 1011 2058 1037 5476 2127 1996 2204 5958 3820 2052 2022 2772 1010 1996 5725 2203 1997 1996 3147 2162 1010 1998 1037 2261 2086 2127 1996 1048 1012 1037 1012 12925 2052 3288 2610 24083 2000 1996 22870 1997 2637 1005 1055 3086 1012 8902 2213 2003 1037 2524 21398 2158 2007 2417 2606 1998 1037 4251 2376 1012 27133 3775 2003 20022 18436 1998 5702 22419 1012 2002 2003 16654 2011 2014 1011 2146 3482 24148 2015 1998 27669 27212 1010 14477 22083 9072 2135 6047 1998 3376 1012 2027 1005 2128 2635 7554 6370 2362 1998 2002 2064 1005 1056 2393 4582 2012 2014 1012 2673 2055 2014 2001 2367 2013 2188 1012 2002 2001 2013 1037 4251 2237 1010 2062 2066 1037 8429 1012 2016 2001 2013 14864 1010 1037 2103 2611 1999 2019 2181 2927 2000 2156 1996 14886 3896 1997 1996 1000 2162 2006 5850 1000 1998 8991 18886 10803 1012 2025 2069 2001 2002 2317 1010 2021 2002 2001 3493 1012 2304 2137 3226 2001 1037 2088 4237 1012 2027 2790 2066 4500 2015 1010 2021 2002 2354 2002 3866 2014 1012 2002 2633 2288 2039 1996 8424 2000 2831 2000 2014 2105 3054 3334 5244 1012 2016 17099 1037 2177 2035 1011 2305 2121 1998 5926 5963 2000 2817 2005 1996 12536 2135 3697 3231 1010 1998 8902 2213 16900 2012 1996 4495 2000 19043 2046 2014 2166 2648 1997 2465 1012 27133 3775 2134 1005 1056 5060 8902 2213 2172 1012 2002 2001 2178 2227 1999 2014 2465 1010 10782 3085 2011 2010 9669 1998 3730 5450 22556 1012 2823 2002 26747 2104 2010 3052 2061 5168 2069 2016 2071 2963 2032 1012 2021 2043 2002 3662 2039 2000 2817 1010 4755 1037 2553 1997 5404 2000 9090 1999 1012 2027 3092 2039 10537 2037 3268 2062 2084 1996 16432 1010 1998 2016 2001 11084 2098 1012 2027 2119 4669 23592 9440 2062 2084 4086 1012 2027 4669 1996 13932 1010 1998 3500 7292 1012 2037 3008 2018 2524 3268 1998 2359 2068 2000 2175 2046 6742 10571 5841 1012 2027 2020 9662 2055 1996 2925 1997 2037 9627 2015 1998 4331 1012 2027 3866 2293 2774 1998 4870 1012 2009 2165 2093 5246 2127 2027 4782 1012 8902 2213 7975 2098 2041 2296 2051 1010 2061 27133 3775 2633 4016 2091 2841 1010 1998 2027 2119 2371 2066 2027 2020 2188 1012 2027 2020 16021 13699 25236 1996 2717 1997 1996 2095 1012 2005 4234 2002 2253 2000 2047 2259 2103 1010 2073 2002 2001 6908 2046 1037 2312 1998 8295 2155 2008 10979 2032 1999 2302 1037 2117 2245 1012 2027 2985 3500 3338 1999 3163 1010 2073 8902 2213 2245 2016 2246 2066 1037 7804 3788 2091 1996 17176 4244 5524 4534 1012 2027 2020 3294 1999 2293 1012 2043 1996 2082 2095 2001 2058 1010 2027 2020 13879 1012 2021 2059 2002 2246 2005 1037 3105 102\n"
          ]
        },
        {
          "output_type": "stream",
          "name": "stderr",
          "text": [
            "INFO:tensorflow:input_ids: 101 8902 2213 2003 1037 2402 3493 2386 5702 6917 2012 1996 2118 1997 4108 1012 2009 1005 1055 1996 2397 16002 1011 2058 1037 5476 2127 1996 2204 5958 3820 2052 2022 2772 1010 1996 5725 2203 1997 1996 3147 2162 1010 1998 1037 2261 2086 2127 1996 1048 1012 1037 1012 12925 2052 3288 2610 24083 2000 1996 22870 1997 2637 1005 1055 3086 1012 8902 2213 2003 1037 2524 21398 2158 2007 2417 2606 1998 1037 4251 2376 1012 27133 3775 2003 20022 18436 1998 5702 22419 1012 2002 2003 16654 2011 2014 1011 2146 3482 24148 2015 1998 27669 27212 1010 14477 22083 9072 2135 6047 1998 3376 1012 2027 1005 2128 2635 7554 6370 2362 1998 2002 2064 1005 1056 2393 4582 2012 2014 1012 2673 2055 2014 2001 2367 2013 2188 1012 2002 2001 2013 1037 4251 2237 1010 2062 2066 1037 8429 1012 2016 2001 2013 14864 1010 1037 2103 2611 1999 2019 2181 2927 2000 2156 1996 14886 3896 1997 1996 1000 2162 2006 5850 1000 1998 8991 18886 10803 1012 2025 2069 2001 2002 2317 1010 2021 2002 2001 3493 1012 2304 2137 3226 2001 1037 2088 4237 1012 2027 2790 2066 4500 2015 1010 2021 2002 2354 2002 3866 2014 1012 2002 2633 2288 2039 1996 8424 2000 2831 2000 2014 2105 3054 3334 5244 1012 2016 17099 1037 2177 2035 1011 2305 2121 1998 5926 5963 2000 2817 2005 1996 12536 2135 3697 3231 1010 1998 8902 2213 16900 2012 1996 4495 2000 19043 2046 2014 2166 2648 1997 2465 1012 27133 3775 2134 1005 1056 5060 8902 2213 2172 1012 2002 2001 2178 2227 1999 2014 2465 1010 10782 3085 2011 2010 9669 1998 3730 5450 22556 1012 2823 2002 26747 2104 2010 3052 2061 5168 2069 2016 2071 2963 2032 1012 2021 2043 2002 3662 2039 2000 2817 1010 4755 1037 2553 1997 5404 2000 9090 1999 1012 2027 3092 2039 10537 2037 3268 2062 2084 1996 16432 1010 1998 2016 2001 11084 2098 1012 2027 2119 4669 23592 9440 2062 2084 4086 1012 2027 4669 1996 13932 1010 1998 3500 7292 1012 2037 3008 2018 2524 3268 1998 2359 2068 2000 2175 2046 6742 10571 5841 1012 2027 2020 9662 2055 1996 2925 1997 2037 9627 2015 1998 4331 1012 2027 3866 2293 2774 1998 4870 1012 2009 2165 2093 5246 2127 2027 4782 1012 8902 2213 7975 2098 2041 2296 2051 1010 2061 27133 3775 2633 4016 2091 2841 1010 1998 2027 2119 2371 2066 2027 2020 2188 1012 2027 2020 16021 13699 25236 1996 2717 1997 1996 2095 1012 2005 4234 2002 2253 2000 2047 2259 2103 1010 2073 2002 2001 6908 2046 1037 2312 1998 8295 2155 2008 10979 2032 1999 2302 1037 2117 2245 1012 2027 2985 3500 3338 1999 3163 1010 2073 8902 2213 2245 2016 2246 2066 1037 7804 3788 2091 1996 17176 4244 5524 4534 1012 2027 2020 3294 1999 2293 1012 2043 1996 2082 2095 2001 2058 1010 2027 2020 13879 1012 2021 2059 2002 2246 2005 1037 3105 102\n"
          ]
        },
        {
          "output_type": "stream",
          "name": "stdout",
          "text": [
            "INFO:tensorflow:input_mask: 1 1 1 1 1 1 1 1 1 1 1 1 1 1 1 1 1 1 1 1 1 1 1 1 1 1 1 1 1 1 1 1 1 1 1 1 1 1 1 1 1 1 1 1 1 1 1 1 1 1 1 1 1 1 1 1 1 1 1 1 1 1 1 1 1 1 1 1 1 1 1 1 1 1 1 1 1 1 1 1 1 1 1 1 1 1 1 1 1 1 1 1 1 1 1 1 1 1 1 1 1 1 1 1 1 1 1 1 1 1 1 1 1 1 1 1 1 1 1 1 1 1 1 1 1 1 1 1 1 1 1 1 1 1 1 1 1 1 1 1 1 1 1 1 1 1 1 1 1 1 1 1 1 1 1 1 1 1 1 1 1 1 1 1 1 1 1 1 1 1 1 1 1 1 1 1 1 1 1 1 1 1 1 1 1 1 1 1 1 1 1 1 1 1 1 1 1 1 1 1 1 1 1 1 1 1 1 1 1 1 1 1 1 1 1 1 1 1 1 1 1 1 1 1 1 1 1 1 1 1 1 1 1 1 1 1 1 1 1 1 1 1 1 1 1 1 1 1 1 1 1 1 1 1 1 1 1 1 1 1 1 1 1 1 1 1 1 1 1 1 1 1 1 1 1 1 1 1 1 1 1 1 1 1 1 1 1 1 1 1 1 1 1 1 1 1 1 1 1 1 1 1 1 1 1 1 1 1 1 1 1 1 1 1 1 1 1 1 1 1 1 1 1 1 1 1 1 1 1 1 1 1 1 1 1 1 1 1 1 1 1 1 1 1 1 1 1 1 1 1 1 1 1 1 1 1 1 1 1 1 1 1 1 1 1 1 1 1 1 1 1 1 1 1 1 1 1 1 1 1 1 1 1 1 1 1 1 1 1 1 1 1 1 1 1 1 1 1 1 1 1 1 1 1 1 1 1 1 1 1 1 1 1 1 1 1 1 1 1 1 1 1 1 1 1 1 1 1 1 1 1 1 1 1 1 1 1 1 1 1 1 1 1 1 1 1 1 1 1 1 1 1 1 1 1 1 1 1 1 1 1 1 1 1 1 1 1 1 1 1 1 1 1 1 1 1 1 1 1 1 1 1 1 1 1 1 1 1 1 1 1 1 1 1 1 1 1 1 1 1 1 1 1 1 1 1 1 1 1 1 1 1\n"
          ]
        },
        {
          "output_type": "stream",
          "name": "stderr",
          "text": [
            "INFO:tensorflow:input_mask: 1 1 1 1 1 1 1 1 1 1 1 1 1 1 1 1 1 1 1 1 1 1 1 1 1 1 1 1 1 1 1 1 1 1 1 1 1 1 1 1 1 1 1 1 1 1 1 1 1 1 1 1 1 1 1 1 1 1 1 1 1 1 1 1 1 1 1 1 1 1 1 1 1 1 1 1 1 1 1 1 1 1 1 1 1 1 1 1 1 1 1 1 1 1 1 1 1 1 1 1 1 1 1 1 1 1 1 1 1 1 1 1 1 1 1 1 1 1 1 1 1 1 1 1 1 1 1 1 1 1 1 1 1 1 1 1 1 1 1 1 1 1 1 1 1 1 1 1 1 1 1 1 1 1 1 1 1 1 1 1 1 1 1 1 1 1 1 1 1 1 1 1 1 1 1 1 1 1 1 1 1 1 1 1 1 1 1 1 1 1 1 1 1 1 1 1 1 1 1 1 1 1 1 1 1 1 1 1 1 1 1 1 1 1 1 1 1 1 1 1 1 1 1 1 1 1 1 1 1 1 1 1 1 1 1 1 1 1 1 1 1 1 1 1 1 1 1 1 1 1 1 1 1 1 1 1 1 1 1 1 1 1 1 1 1 1 1 1 1 1 1 1 1 1 1 1 1 1 1 1 1 1 1 1 1 1 1 1 1 1 1 1 1 1 1 1 1 1 1 1 1 1 1 1 1 1 1 1 1 1 1 1 1 1 1 1 1 1 1 1 1 1 1 1 1 1 1 1 1 1 1 1 1 1 1 1 1 1 1 1 1 1 1 1 1 1 1 1 1 1 1 1 1 1 1 1 1 1 1 1 1 1 1 1 1 1 1 1 1 1 1 1 1 1 1 1 1 1 1 1 1 1 1 1 1 1 1 1 1 1 1 1 1 1 1 1 1 1 1 1 1 1 1 1 1 1 1 1 1 1 1 1 1 1 1 1 1 1 1 1 1 1 1 1 1 1 1 1 1 1 1 1 1 1 1 1 1 1 1 1 1 1 1 1 1 1 1 1 1 1 1 1 1 1 1 1 1 1 1 1 1 1 1 1 1 1 1 1 1 1 1 1 1 1 1 1 1 1 1 1 1 1 1 1 1 1 1 1 1 1 1 1 1 1 1 1 1 1 1 1 1 1 1 1 1 1 1 1 1 1 1 1\n"
          ]
        },
        {
          "output_type": "stream",
          "name": "stdout",
          "text": [
            "INFO:tensorflow:segment_ids: 0 0 0 0 0 0 0 0 0 0 0 0 0 0 0 0 0 0 0 0 0 0 0 0 0 0 0 0 0 0 0 0 0 0 0 0 0 0 0 0 0 0 0 0 0 0 0 0 0 0 0 0 0 0 0 0 0 0 0 0 0 0 0 0 0 0 0 0 0 0 0 0 0 0 0 0 0 0 0 0 0 0 0 0 0 0 0 0 0 0 0 0 0 0 0 0 0 0 0 0 0 0 0 0 0 0 0 0 0 0 0 0 0 0 0 0 0 0 0 0 0 0 0 0 0 0 0 0 0 0 0 0 0 0 0 0 0 0 0 0 0 0 0 0 0 0 0 0 0 0 0 0 0 0 0 0 0 0 0 0 0 0 0 0 0 0 0 0 0 0 0 0 0 0 0 0 0 0 0 0 0 0 0 0 0 0 0 0 0 0 0 0 0 0 0 0 0 0 0 0 0 0 0 0 0 0 0 0 0 0 0 0 0 0 0 0 0 0 0 0 0 0 0 0 0 0 0 0 0 0 0 0 0 0 0 0 0 0 0 0 0 0 0 0 0 0 0 0 0 0 0 0 0 0 0 0 0 0 0 0 0 0 0 0 0 0 0 0 0 0 0 0 0 0 0 0 0 0 0 0 0 0 0 0 0 0 0 0 0 0 0 0 0 0 0 0 0 0 0 0 0 0 0 0 0 0 0 0 0 0 0 0 0 0 0 0 0 0 0 0 0 0 0 0 0 0 0 0 0 0 0 0 0 0 0 0 0 0 0 0 0 0 0 0 0 0 0 0 0 0 0 0 0 0 0 0 0 0 0 0 0 0 0 0 0 0 0 0 0 0 0 0 0 0 0 0 0 0 0 0 0 0 0 0 0 0 0 0 0 0 0 0 0 0 0 0 0 0 0 0 0 0 0 0 0 0 0 0 0 0 0 0 0 0 0 0 0 0 0 0 0 0 0 0 0 0 0 0 0 0 0 0 0 0 0 0 0 0 0 0 0 0 0 0 0 0 0 0 0 0 0 0 0 0 0 0 0 0 0 0 0 0 0 0 0 0 0 0 0 0 0 0 0 0 0 0 0 0 0 0 0 0 0 0 0 0 0 0 0 0 0 0 0 0 0 0 0 0 0 0 0 0 0 0 0 0 0 0 0 0 0 0\n"
          ]
        },
        {
          "output_type": "stream",
          "name": "stderr",
          "text": [
            "INFO:tensorflow:segment_ids: 0 0 0 0 0 0 0 0 0 0 0 0 0 0 0 0 0 0 0 0 0 0 0 0 0 0 0 0 0 0 0 0 0 0 0 0 0 0 0 0 0 0 0 0 0 0 0 0 0 0 0 0 0 0 0 0 0 0 0 0 0 0 0 0 0 0 0 0 0 0 0 0 0 0 0 0 0 0 0 0 0 0 0 0 0 0 0 0 0 0 0 0 0 0 0 0 0 0 0 0 0 0 0 0 0 0 0 0 0 0 0 0 0 0 0 0 0 0 0 0 0 0 0 0 0 0 0 0 0 0 0 0 0 0 0 0 0 0 0 0 0 0 0 0 0 0 0 0 0 0 0 0 0 0 0 0 0 0 0 0 0 0 0 0 0 0 0 0 0 0 0 0 0 0 0 0 0 0 0 0 0 0 0 0 0 0 0 0 0 0 0 0 0 0 0 0 0 0 0 0 0 0 0 0 0 0 0 0 0 0 0 0 0 0 0 0 0 0 0 0 0 0 0 0 0 0 0 0 0 0 0 0 0 0 0 0 0 0 0 0 0 0 0 0 0 0 0 0 0 0 0 0 0 0 0 0 0 0 0 0 0 0 0 0 0 0 0 0 0 0 0 0 0 0 0 0 0 0 0 0 0 0 0 0 0 0 0 0 0 0 0 0 0 0 0 0 0 0 0 0 0 0 0 0 0 0 0 0 0 0 0 0 0 0 0 0 0 0 0 0 0 0 0 0 0 0 0 0 0 0 0 0 0 0 0 0 0 0 0 0 0 0 0 0 0 0 0 0 0 0 0 0 0 0 0 0 0 0 0 0 0 0 0 0 0 0 0 0 0 0 0 0 0 0 0 0 0 0 0 0 0 0 0 0 0 0 0 0 0 0 0 0 0 0 0 0 0 0 0 0 0 0 0 0 0 0 0 0 0 0 0 0 0 0 0 0 0 0 0 0 0 0 0 0 0 0 0 0 0 0 0 0 0 0 0 0 0 0 0 0 0 0 0 0 0 0 0 0 0 0 0 0 0 0 0 0 0 0 0 0 0 0 0 0 0 0 0 0 0 0 0 0 0 0 0 0 0 0 0 0 0 0 0 0 0 0 0 0 0 0 0 0 0 0 0 0 0 0 0 0 0 0 0 0 0 0 0 0 0 0 0 0\n"
          ]
        },
        {
          "output_type": "stream",
          "name": "stdout",
          "text": [
            "INFO:tensorflow:label: 0 (id = 0)\n"
          ]
        },
        {
          "output_type": "stream",
          "name": "stderr",
          "text": [
            "INFO:tensorflow:label: 0 (id = 0)\n"
          ]
        },
        {
          "output_type": "stream",
          "name": "stdout",
          "text": [
            "INFO:tensorflow:*** Example ***\n"
          ]
        },
        {
          "output_type": "stream",
          "name": "stderr",
          "text": [
            "INFO:tensorflow:*** Example ***\n"
          ]
        },
        {
          "output_type": "stream",
          "name": "stdout",
          "text": [
            "INFO:tensorflow:guid: \n"
          ]
        },
        {
          "output_type": "stream",
          "name": "stderr",
          "text": [
            "INFO:tensorflow:guid: \n"
          ]
        },
        {
          "output_type": "stream",
          "name": "stdout",
          "text": [
            "INFO:tensorflow:tokens: [CLS] if the life you once knew is gone , if they took you from your land , if you were lured in with the promise of a home , if you were forced to perform , i pray for you , no matter who you serve , greed or salvation , it does not matter who your saints are , or the prayers you say , it only matters that you are safe , you will beat the force that tries to keep you down , and i hope these words wash over you , like the for ##giving rain , that wash ##es away all your sins leaving you as you once were , if your hate is directed at the one you love , if the pride for your country gets in in the way of life , when who you are is used against you , when you are forced to believe in what you do not , i hope you can overcome , the troubles that you were forced to see , i want to see you rise , raise the dead and fight for your life , no matter if your power changed , you are still one with another , if you were beaten for what you cannot , for listening to your own tune , for being different on your own , walking through life to your own song , i want you to know , i love and protect you even from afar , if the way you were raised , made you afraid of yourself , then you can take a shot , and win , and maybe we can fight , against the forces that try to wipe us out , we fought together , and bled and died just for one , no matter how hard things are , i know one thing , and that is that we are a team , with an un ##break ##able bond , if you fall i will catch you , no matter the height , if you are frozen on the ice , i will come help you , when you are stuck surrounded by guns , the bombs will fly just for you , together as one we will triumph , because we are stronger as one , [SEP]\n"
          ]
        },
        {
          "output_type": "stream",
          "name": "stderr",
          "text": [
            "INFO:tensorflow:tokens: [CLS] if the life you once knew is gone , if they took you from your land , if you were lured in with the promise of a home , if you were forced to perform , i pray for you , no matter who you serve , greed or salvation , it does not matter who your saints are , or the prayers you say , it only matters that you are safe , you will beat the force that tries to keep you down , and i hope these words wash over you , like the for ##giving rain , that wash ##es away all your sins leaving you as you once were , if your hate is directed at the one you love , if the pride for your country gets in in the way of life , when who you are is used against you , when you are forced to believe in what you do not , i hope you can overcome , the troubles that you were forced to see , i want to see you rise , raise the dead and fight for your life , no matter if your power changed , you are still one with another , if you were beaten for what you cannot , for listening to your own tune , for being different on your own , walking through life to your own song , i want you to know , i love and protect you even from afar , if the way you were raised , made you afraid of yourself , then you can take a shot , and win , and maybe we can fight , against the forces that try to wipe us out , we fought together , and bled and died just for one , no matter how hard things are , i know one thing , and that is that we are a team , with an un ##break ##able bond , if you fall i will catch you , no matter the height , if you are frozen on the ice , i will come help you , when you are stuck surrounded by guns , the bombs will fly just for you , together as one we will triumph , because we are stronger as one , [SEP]\n"
          ]
        },
        {
          "output_type": "stream",
          "name": "stdout",
          "text": [
            "INFO:tensorflow:input_ids: 101 2065 1996 2166 2017 2320 2354 2003 2908 1010 2065 2027 2165 2017 2013 2115 2455 1010 2065 2017 2020 26673 1999 2007 1996 4872 1997 1037 2188 1010 2065 2017 2020 3140 2000 4685 1010 1045 11839 2005 2017 1010 2053 3043 2040 2017 3710 1010 22040 2030 12611 1010 2009 2515 2025 3043 2040 2115 6586 2024 1010 2030 1996 12583 2017 2360 1010 2009 2069 5609 2008 2017 2024 3647 1010 2017 2097 3786 1996 2486 2008 5363 2000 2562 2017 2091 1010 1998 1045 3246 2122 2616 9378 2058 2017 1010 2066 1996 2005 23795 4542 1010 2008 9378 2229 2185 2035 2115 15516 2975 2017 2004 2017 2320 2020 1010 2065 2115 5223 2003 2856 2012 1996 2028 2017 2293 1010 2065 1996 6620 2005 2115 2406 4152 1999 1999 1996 2126 1997 2166 1010 2043 2040 2017 2024 2003 2109 2114 2017 1010 2043 2017 2024 3140 2000 2903 1999 2054 2017 2079 2025 1010 1045 3246 2017 2064 9462 1010 1996 13460 2008 2017 2020 3140 2000 2156 1010 1045 2215 2000 2156 2017 4125 1010 5333 1996 2757 1998 2954 2005 2115 2166 1010 2053 3043 2065 2115 2373 2904 1010 2017 2024 2145 2028 2007 2178 1010 2065 2017 2020 7854 2005 2054 2017 3685 1010 2005 5962 2000 2115 2219 8694 1010 2005 2108 2367 2006 2115 2219 1010 3788 2083 2166 2000 2115 2219 2299 1010 1045 2215 2017 2000 2113 1010 1045 2293 1998 4047 2017 2130 2013 28978 1010 2065 1996 2126 2017 2020 2992 1010 2081 2017 4452 1997 4426 1010 2059 2017 2064 2202 1037 2915 1010 1998 2663 1010 1998 2672 2057 2064 2954 1010 2114 1996 2749 2008 3046 2000 13387 2149 2041 1010 2057 4061 2362 1010 1998 23919 1998 2351 2074 2005 2028 1010 2053 3043 2129 2524 2477 2024 1010 1045 2113 2028 2518 1010 1998 2008 2003 2008 2057 2024 1037 2136 1010 2007 2019 4895 23890 3085 5416 1010 2065 2017 2991 1045 2097 4608 2017 1010 2053 3043 1996 4578 1010 2065 2017 2024 7708 2006 1996 3256 1010 1045 2097 2272 2393 2017 1010 2043 2017 2024 5881 5129 2011 4409 1010 1996 9767 2097 4875 2074 2005 2017 1010 2362 2004 2028 2057 2097 10911 1010 2138 2057 2024 6428 2004 2028 1010 102 0 0 0 0 0 0 0 0 0 0 0 0 0 0 0 0 0 0 0 0 0 0 0 0 0 0 0 0 0 0 0 0 0 0 0 0 0 0 0 0 0 0 0 0 0 0 0 0 0 0 0 0 0 0 0 0 0 0 0 0 0 0 0 0 0 0 0 0 0 0 0 0 0 0 0 0 0 0 0 0 0 0 0 0 0 0 0 0 0 0 0 0 0 0 0 0 0 0 0 0 0 0 0 0 0 0 0 0 0 0 0 0 0 0 0 0 0 0 0 0 0 0\n"
          ]
        },
        {
          "output_type": "stream",
          "name": "stderr",
          "text": [
            "INFO:tensorflow:input_ids: 101 2065 1996 2166 2017 2320 2354 2003 2908 1010 2065 2027 2165 2017 2013 2115 2455 1010 2065 2017 2020 26673 1999 2007 1996 4872 1997 1037 2188 1010 2065 2017 2020 3140 2000 4685 1010 1045 11839 2005 2017 1010 2053 3043 2040 2017 3710 1010 22040 2030 12611 1010 2009 2515 2025 3043 2040 2115 6586 2024 1010 2030 1996 12583 2017 2360 1010 2009 2069 5609 2008 2017 2024 3647 1010 2017 2097 3786 1996 2486 2008 5363 2000 2562 2017 2091 1010 1998 1045 3246 2122 2616 9378 2058 2017 1010 2066 1996 2005 23795 4542 1010 2008 9378 2229 2185 2035 2115 15516 2975 2017 2004 2017 2320 2020 1010 2065 2115 5223 2003 2856 2012 1996 2028 2017 2293 1010 2065 1996 6620 2005 2115 2406 4152 1999 1999 1996 2126 1997 2166 1010 2043 2040 2017 2024 2003 2109 2114 2017 1010 2043 2017 2024 3140 2000 2903 1999 2054 2017 2079 2025 1010 1045 3246 2017 2064 9462 1010 1996 13460 2008 2017 2020 3140 2000 2156 1010 1045 2215 2000 2156 2017 4125 1010 5333 1996 2757 1998 2954 2005 2115 2166 1010 2053 3043 2065 2115 2373 2904 1010 2017 2024 2145 2028 2007 2178 1010 2065 2017 2020 7854 2005 2054 2017 3685 1010 2005 5962 2000 2115 2219 8694 1010 2005 2108 2367 2006 2115 2219 1010 3788 2083 2166 2000 2115 2219 2299 1010 1045 2215 2017 2000 2113 1010 1045 2293 1998 4047 2017 2130 2013 28978 1010 2065 1996 2126 2017 2020 2992 1010 2081 2017 4452 1997 4426 1010 2059 2017 2064 2202 1037 2915 1010 1998 2663 1010 1998 2672 2057 2064 2954 1010 2114 1996 2749 2008 3046 2000 13387 2149 2041 1010 2057 4061 2362 1010 1998 23919 1998 2351 2074 2005 2028 1010 2053 3043 2129 2524 2477 2024 1010 1045 2113 2028 2518 1010 1998 2008 2003 2008 2057 2024 1037 2136 1010 2007 2019 4895 23890 3085 5416 1010 2065 2017 2991 1045 2097 4608 2017 1010 2053 3043 1996 4578 1010 2065 2017 2024 7708 2006 1996 3256 1010 1045 2097 2272 2393 2017 1010 2043 2017 2024 5881 5129 2011 4409 1010 1996 9767 2097 4875 2074 2005 2017 1010 2362 2004 2028 2057 2097 10911 1010 2138 2057 2024 6428 2004 2028 1010 102 0 0 0 0 0 0 0 0 0 0 0 0 0 0 0 0 0 0 0 0 0 0 0 0 0 0 0 0 0 0 0 0 0 0 0 0 0 0 0 0 0 0 0 0 0 0 0 0 0 0 0 0 0 0 0 0 0 0 0 0 0 0 0 0 0 0 0 0 0 0 0 0 0 0 0 0 0 0 0 0 0 0 0 0 0 0 0 0 0 0 0 0 0 0 0 0 0 0 0 0 0 0 0 0 0 0 0 0 0 0 0 0 0 0 0 0 0 0 0 0 0 0\n"
          ]
        },
        {
          "output_type": "stream",
          "name": "stdout",
          "text": [
            "INFO:tensorflow:input_mask: 1 1 1 1 1 1 1 1 1 1 1 1 1 1 1 1 1 1 1 1 1 1 1 1 1 1 1 1 1 1 1 1 1 1 1 1 1 1 1 1 1 1 1 1 1 1 1 1 1 1 1 1 1 1 1 1 1 1 1 1 1 1 1 1 1 1 1 1 1 1 1 1 1 1 1 1 1 1 1 1 1 1 1 1 1 1 1 1 1 1 1 1 1 1 1 1 1 1 1 1 1 1 1 1 1 1 1 1 1 1 1 1 1 1 1 1 1 1 1 1 1 1 1 1 1 1 1 1 1 1 1 1 1 1 1 1 1 1 1 1 1 1 1 1 1 1 1 1 1 1 1 1 1 1 1 1 1 1 1 1 1 1 1 1 1 1 1 1 1 1 1 1 1 1 1 1 1 1 1 1 1 1 1 1 1 1 1 1 1 1 1 1 1 1 1 1 1 1 1 1 1 1 1 1 1 1 1 1 1 1 1 1 1 1 1 1 1 1 1 1 1 1 1 1 1 1 1 1 1 1 1 1 1 1 1 1 1 1 1 1 1 1 1 1 1 1 1 1 1 1 1 1 1 1 1 1 1 1 1 1 1 1 1 1 1 1 1 1 1 1 1 1 1 1 1 1 1 1 1 1 1 1 1 1 1 1 1 1 1 1 1 1 1 1 1 1 1 1 1 1 1 1 1 1 1 1 1 1 1 1 1 1 1 1 1 1 1 1 1 1 1 1 1 1 1 1 1 1 1 1 1 1 1 1 1 1 1 1 1 1 1 1 1 1 1 1 1 1 1 1 1 1 1 1 1 1 1 1 1 1 1 1 1 1 1 1 1 1 1 1 1 1 1 1 1 1 1 1 1 1 1 1 1 1 1 1 1 1 1 1 0 0 0 0 0 0 0 0 0 0 0 0 0 0 0 0 0 0 0 0 0 0 0 0 0 0 0 0 0 0 0 0 0 0 0 0 0 0 0 0 0 0 0 0 0 0 0 0 0 0 0 0 0 0 0 0 0 0 0 0 0 0 0 0 0 0 0 0 0 0 0 0 0 0 0 0 0 0 0 0 0 0 0 0 0 0 0 0 0 0 0 0 0 0 0 0 0 0 0 0 0 0 0 0 0 0 0 0 0 0 0 0 0 0 0 0 0 0 0 0 0 0\n"
          ]
        },
        {
          "output_type": "stream",
          "name": "stderr",
          "text": [
            "INFO:tensorflow:input_mask: 1 1 1 1 1 1 1 1 1 1 1 1 1 1 1 1 1 1 1 1 1 1 1 1 1 1 1 1 1 1 1 1 1 1 1 1 1 1 1 1 1 1 1 1 1 1 1 1 1 1 1 1 1 1 1 1 1 1 1 1 1 1 1 1 1 1 1 1 1 1 1 1 1 1 1 1 1 1 1 1 1 1 1 1 1 1 1 1 1 1 1 1 1 1 1 1 1 1 1 1 1 1 1 1 1 1 1 1 1 1 1 1 1 1 1 1 1 1 1 1 1 1 1 1 1 1 1 1 1 1 1 1 1 1 1 1 1 1 1 1 1 1 1 1 1 1 1 1 1 1 1 1 1 1 1 1 1 1 1 1 1 1 1 1 1 1 1 1 1 1 1 1 1 1 1 1 1 1 1 1 1 1 1 1 1 1 1 1 1 1 1 1 1 1 1 1 1 1 1 1 1 1 1 1 1 1 1 1 1 1 1 1 1 1 1 1 1 1 1 1 1 1 1 1 1 1 1 1 1 1 1 1 1 1 1 1 1 1 1 1 1 1 1 1 1 1 1 1 1 1 1 1 1 1 1 1 1 1 1 1 1 1 1 1 1 1 1 1 1 1 1 1 1 1 1 1 1 1 1 1 1 1 1 1 1 1 1 1 1 1 1 1 1 1 1 1 1 1 1 1 1 1 1 1 1 1 1 1 1 1 1 1 1 1 1 1 1 1 1 1 1 1 1 1 1 1 1 1 1 1 1 1 1 1 1 1 1 1 1 1 1 1 1 1 1 1 1 1 1 1 1 1 1 1 1 1 1 1 1 1 1 1 1 1 1 1 1 1 1 1 1 1 1 1 1 1 1 1 1 1 1 1 1 1 1 1 1 1 1 1 0 0 0 0 0 0 0 0 0 0 0 0 0 0 0 0 0 0 0 0 0 0 0 0 0 0 0 0 0 0 0 0 0 0 0 0 0 0 0 0 0 0 0 0 0 0 0 0 0 0 0 0 0 0 0 0 0 0 0 0 0 0 0 0 0 0 0 0 0 0 0 0 0 0 0 0 0 0 0 0 0 0 0 0 0 0 0 0 0 0 0 0 0 0 0 0 0 0 0 0 0 0 0 0 0 0 0 0 0 0 0 0 0 0 0 0 0 0 0 0 0 0\n"
          ]
        },
        {
          "output_type": "stream",
          "name": "stdout",
          "text": [
            "INFO:tensorflow:segment_ids: 0 0 0 0 0 0 0 0 0 0 0 0 0 0 0 0 0 0 0 0 0 0 0 0 0 0 0 0 0 0 0 0 0 0 0 0 0 0 0 0 0 0 0 0 0 0 0 0 0 0 0 0 0 0 0 0 0 0 0 0 0 0 0 0 0 0 0 0 0 0 0 0 0 0 0 0 0 0 0 0 0 0 0 0 0 0 0 0 0 0 0 0 0 0 0 0 0 0 0 0 0 0 0 0 0 0 0 0 0 0 0 0 0 0 0 0 0 0 0 0 0 0 0 0 0 0 0 0 0 0 0 0 0 0 0 0 0 0 0 0 0 0 0 0 0 0 0 0 0 0 0 0 0 0 0 0 0 0 0 0 0 0 0 0 0 0 0 0 0 0 0 0 0 0 0 0 0 0 0 0 0 0 0 0 0 0 0 0 0 0 0 0 0 0 0 0 0 0 0 0 0 0 0 0 0 0 0 0 0 0 0 0 0 0 0 0 0 0 0 0 0 0 0 0 0 0 0 0 0 0 0 0 0 0 0 0 0 0 0 0 0 0 0 0 0 0 0 0 0 0 0 0 0 0 0 0 0 0 0 0 0 0 0 0 0 0 0 0 0 0 0 0 0 0 0 0 0 0 0 0 0 0 0 0 0 0 0 0 0 0 0 0 0 0 0 0 0 0 0 0 0 0 0 0 0 0 0 0 0 0 0 0 0 0 0 0 0 0 0 0 0 0 0 0 0 0 0 0 0 0 0 0 0 0 0 0 0 0 0 0 0 0 0 0 0 0 0 0 0 0 0 0 0 0 0 0 0 0 0 0 0 0 0 0 0 0 0 0 0 0 0 0 0 0 0 0 0 0 0 0 0 0 0 0 0 0 0 0 0 0 0 0 0 0 0 0 0 0 0 0 0 0 0 0 0 0 0 0 0 0 0 0 0 0 0 0 0 0 0 0 0 0 0 0 0 0 0 0 0 0 0 0 0 0 0 0 0 0 0 0 0 0 0 0 0 0 0 0 0 0 0 0 0 0 0 0 0 0 0 0 0 0 0 0 0 0 0 0 0 0 0 0 0 0 0 0 0 0 0 0 0 0 0 0 0 0 0 0 0 0 0 0 0 0 0 0 0 0 0 0 0 0 0 0 0 0 0 0 0 0 0 0\n"
          ]
        },
        {
          "output_type": "stream",
          "name": "stderr",
          "text": [
            "INFO:tensorflow:segment_ids: 0 0 0 0 0 0 0 0 0 0 0 0 0 0 0 0 0 0 0 0 0 0 0 0 0 0 0 0 0 0 0 0 0 0 0 0 0 0 0 0 0 0 0 0 0 0 0 0 0 0 0 0 0 0 0 0 0 0 0 0 0 0 0 0 0 0 0 0 0 0 0 0 0 0 0 0 0 0 0 0 0 0 0 0 0 0 0 0 0 0 0 0 0 0 0 0 0 0 0 0 0 0 0 0 0 0 0 0 0 0 0 0 0 0 0 0 0 0 0 0 0 0 0 0 0 0 0 0 0 0 0 0 0 0 0 0 0 0 0 0 0 0 0 0 0 0 0 0 0 0 0 0 0 0 0 0 0 0 0 0 0 0 0 0 0 0 0 0 0 0 0 0 0 0 0 0 0 0 0 0 0 0 0 0 0 0 0 0 0 0 0 0 0 0 0 0 0 0 0 0 0 0 0 0 0 0 0 0 0 0 0 0 0 0 0 0 0 0 0 0 0 0 0 0 0 0 0 0 0 0 0 0 0 0 0 0 0 0 0 0 0 0 0 0 0 0 0 0 0 0 0 0 0 0 0 0 0 0 0 0 0 0 0 0 0 0 0 0 0 0 0 0 0 0 0 0 0 0 0 0 0 0 0 0 0 0 0 0 0 0 0 0 0 0 0 0 0 0 0 0 0 0 0 0 0 0 0 0 0 0 0 0 0 0 0 0 0 0 0 0 0 0 0 0 0 0 0 0 0 0 0 0 0 0 0 0 0 0 0 0 0 0 0 0 0 0 0 0 0 0 0 0 0 0 0 0 0 0 0 0 0 0 0 0 0 0 0 0 0 0 0 0 0 0 0 0 0 0 0 0 0 0 0 0 0 0 0 0 0 0 0 0 0 0 0 0 0 0 0 0 0 0 0 0 0 0 0 0 0 0 0 0 0 0 0 0 0 0 0 0 0 0 0 0 0 0 0 0 0 0 0 0 0 0 0 0 0 0 0 0 0 0 0 0 0 0 0 0 0 0 0 0 0 0 0 0 0 0 0 0 0 0 0 0 0 0 0 0 0 0 0 0 0 0 0 0 0 0 0 0 0 0 0 0 0 0 0 0 0 0 0 0 0 0 0 0 0 0 0 0 0 0 0 0 0 0 0 0 0 0 0 0\n"
          ]
        },
        {
          "output_type": "stream",
          "name": "stdout",
          "text": [
            "INFO:tensorflow:label: 0 (id = 0)\n"
          ]
        },
        {
          "output_type": "stream",
          "name": "stderr",
          "text": [
            "INFO:tensorflow:label: 0 (id = 0)\n"
          ]
        },
        {
          "output_type": "stream",
          "name": "stdout",
          "text": [
            "INFO:tensorflow:*** Example ***\n"
          ]
        },
        {
          "output_type": "stream",
          "name": "stderr",
          "text": [
            "INFO:tensorflow:*** Example ***\n"
          ]
        },
        {
          "output_type": "stream",
          "name": "stdout",
          "text": [
            "INFO:tensorflow:guid: \n"
          ]
        },
        {
          "output_type": "stream",
          "name": "stderr",
          "text": [
            "INFO:tensorflow:guid: \n"
          ]
        },
        {
          "output_type": "stream",
          "name": "stdout",
          "text": [
            "INFO:tensorflow:tokens: [CLS] the wr ##aith slid through the water , as silent as her namesake and captain . the sea was as dark as the hull , black under the night sky . the black ship was more visible through the way that it b ##lot ##ted out the slight reflections of stars on the waves than through any actual light or color of its own . in ##ej laid down at the top of the mast ; she had claimed the spot as her own private san ##ctum early on , and retreated there whenever there was a lu ##ll in activity on board . it made her feel secure ; it wasn ' t just that it was the highest point on the ship , and the long years in ke ##tter ##dam had taught her to associate height with safety , where few dared to follow her , or even that the very name of the crow ' s nest reminded her of ka ##z . the sul ##i lacked lands , and their nomadic nature had caused them to develop a number of traditions unlike those of other nationalities . her father had taught her when she was young , young enough that she had not yet formed roots to any of the places they had stopped while traveling . look to the stars , in ##ej , he had told her , as they lay stood outside the tents of their caravan on one warm night . the stars shine down on us all ; whenever you miss somewhere , look to the stars and remember that they shine down on those you are missing as well . in ##ej sat up , and looked out over the waves , slowly making a complete circuit around the mast , her keen eyes seeking out any movement or shadows on the water that would indicate her ship wasn ' t the only one pro ##wl ##ing at night . satisfied that the ocean was clear out to the horizon , she lay back down . unlike the city , where danger could lu ##rk around every corner , and you were never safe , the ocean was predictable and moved at a positively glacial pace . she only had to check periodically to make sure that they were still alone on the waters and safe while the rest of her crew slept . when ka ##z had first freed her from the men ##ager ##ie , she had gone to the top of the sl ##at on that first night and looked for the stars to try to feel that connection back to her family . but the constant over ##cast of clouds above ke ##tter ##dam meant that the sky was rarely visible , and when it was , the lights that the city emitted drowned out their more distant cousins above . the sense of disco ##nne ##ct that had led in ##ej to become the wr ##aith had been helped along by the way she [SEP]\n"
          ]
        },
        {
          "output_type": "stream",
          "name": "stderr",
          "text": [
            "INFO:tensorflow:tokens: [CLS] the wr ##aith slid through the water , as silent as her namesake and captain . the sea was as dark as the hull , black under the night sky . the black ship was more visible through the way that it b ##lot ##ted out the slight reflections of stars on the waves than through any actual light or color of its own . in ##ej laid down at the top of the mast ; she had claimed the spot as her own private san ##ctum early on , and retreated there whenever there was a lu ##ll in activity on board . it made her feel secure ; it wasn ' t just that it was the highest point on the ship , and the long years in ke ##tter ##dam had taught her to associate height with safety , where few dared to follow her , or even that the very name of the crow ' s nest reminded her of ka ##z . the sul ##i lacked lands , and their nomadic nature had caused them to develop a number of traditions unlike those of other nationalities . her father had taught her when she was young , young enough that she had not yet formed roots to any of the places they had stopped while traveling . look to the stars , in ##ej , he had told her , as they lay stood outside the tents of their caravan on one warm night . the stars shine down on us all ; whenever you miss somewhere , look to the stars and remember that they shine down on those you are missing as well . in ##ej sat up , and looked out over the waves , slowly making a complete circuit around the mast , her keen eyes seeking out any movement or shadows on the water that would indicate her ship wasn ' t the only one pro ##wl ##ing at night . satisfied that the ocean was clear out to the horizon , she lay back down . unlike the city , where danger could lu ##rk around every corner , and you were never safe , the ocean was predictable and moved at a positively glacial pace . she only had to check periodically to make sure that they were still alone on the waters and safe while the rest of her crew slept . when ka ##z had first freed her from the men ##ager ##ie , she had gone to the top of the sl ##at on that first night and looked for the stars to try to feel that connection back to her family . but the constant over ##cast of clouds above ke ##tter ##dam meant that the sky was rarely visible , and when it was , the lights that the city emitted drowned out their more distant cousins above . the sense of disco ##nne ##ct that had led in ##ej to become the wr ##aith had been helped along by the way she [SEP]\n"
          ]
        },
        {
          "output_type": "stream",
          "name": "stdout",
          "text": [
            "INFO:tensorflow:input_ids: 101 1996 23277 22465 4934 2083 1996 2300 1010 2004 4333 2004 2014 17283 1998 2952 1012 1996 2712 2001 2004 2601 2004 1996 6738 1010 2304 2104 1996 2305 3712 1012 1996 2304 2911 2001 2062 5710 2083 1996 2126 2008 2009 1038 10994 3064 2041 1996 7263 16055 1997 3340 2006 1996 5975 2084 2083 2151 5025 2422 2030 3609 1997 2049 2219 1012 1999 20518 4201 2091 2012 1996 2327 1997 1996 15429 1025 2016 2018 3555 1996 3962 2004 2014 2219 2797 2624 27272 2220 2006 1010 1998 11672 2045 7188 2045 2001 1037 11320 3363 1999 4023 2006 2604 1012 2009 2081 2014 2514 5851 1025 2009 2347 1005 1056 2074 2008 2009 2001 1996 3284 2391 2006 1996 2911 1010 1998 1996 2146 2086 1999 17710 12079 17130 2018 4036 2014 2000 5482 4578 2007 3808 1010 2073 2261 15048 2000 3582 2014 1010 2030 2130 2008 1996 2200 2171 1997 1996 11465 1005 1055 9089 6966 2014 1997 10556 2480 1012 1996 21396 2072 10858 4915 1010 1998 2037 21702 3267 2018 3303 2068 2000 4503 1037 2193 1997 7443 4406 2216 1997 2060 24904 1012 2014 2269 2018 4036 2014 2043 2016 2001 2402 1010 2402 2438 2008 2016 2018 2025 2664 2719 6147 2000 2151 1997 1996 3182 2027 2018 3030 2096 7118 1012 2298 2000 1996 3340 1010 1999 20518 1010 2002 2018 2409 2014 1010 2004 2027 3913 2768 2648 1996 17732 1997 2037 17184 2006 2028 4010 2305 1012 1996 3340 12342 2091 2006 2149 2035 1025 7188 2017 3335 4873 1010 2298 2000 1996 3340 1998 3342 2008 2027 12342 2091 2006 2216 2017 2024 4394 2004 2092 1012 1999 20518 2938 2039 1010 1998 2246 2041 2058 1996 5975 1010 3254 2437 1037 3143 4984 2105 1996 15429 1010 2014 10326 2159 6224 2041 2151 2929 2030 6281 2006 1996 2300 2008 2052 5769 2014 2911 2347 1005 1056 1996 2069 2028 4013 13668 2075 2012 2305 1012 8510 2008 1996 4153 2001 3154 2041 2000 1996 9154 1010 2016 3913 2067 2091 1012 4406 1996 2103 1010 2073 5473 2071 11320 8024 2105 2296 3420 1010 1998 2017 2020 2196 3647 1010 1996 4153 2001 21425 1998 2333 2012 1037 13567 17381 6393 1012 2016 2069 2018 2000 4638 18043 2000 2191 2469 2008 2027 2020 2145 2894 2006 1996 5380 1998 3647 2096 1996 2717 1997 2014 3626 7771 1012 2043 10556 2480 2018 2034 10650 2014 2013 1996 2273 17325 2666 1010 2016 2018 2908 2000 1996 2327 1997 1996 22889 4017 2006 2008 2034 2305 1998 2246 2005 1996 3340 2000 3046 2000 2514 2008 4434 2067 2000 2014 2155 1012 2021 1996 5377 2058 10526 1997 8044 2682 17710 12079 17130 3214 2008 1996 3712 2001 6524 5710 1010 1998 2043 2009 2001 1010 1996 4597 2008 1996 2103 22627 12805 2041 2037 2062 6802 12334 2682 1012 1996 3168 1997 12532 10087 6593 2008 2018 2419 1999 20518 2000 2468 1996 23277 22465 2018 2042 3271 2247 2011 1996 2126 2016 102\n"
          ]
        },
        {
          "output_type": "stream",
          "name": "stderr",
          "text": [
            "INFO:tensorflow:input_ids: 101 1996 23277 22465 4934 2083 1996 2300 1010 2004 4333 2004 2014 17283 1998 2952 1012 1996 2712 2001 2004 2601 2004 1996 6738 1010 2304 2104 1996 2305 3712 1012 1996 2304 2911 2001 2062 5710 2083 1996 2126 2008 2009 1038 10994 3064 2041 1996 7263 16055 1997 3340 2006 1996 5975 2084 2083 2151 5025 2422 2030 3609 1997 2049 2219 1012 1999 20518 4201 2091 2012 1996 2327 1997 1996 15429 1025 2016 2018 3555 1996 3962 2004 2014 2219 2797 2624 27272 2220 2006 1010 1998 11672 2045 7188 2045 2001 1037 11320 3363 1999 4023 2006 2604 1012 2009 2081 2014 2514 5851 1025 2009 2347 1005 1056 2074 2008 2009 2001 1996 3284 2391 2006 1996 2911 1010 1998 1996 2146 2086 1999 17710 12079 17130 2018 4036 2014 2000 5482 4578 2007 3808 1010 2073 2261 15048 2000 3582 2014 1010 2030 2130 2008 1996 2200 2171 1997 1996 11465 1005 1055 9089 6966 2014 1997 10556 2480 1012 1996 21396 2072 10858 4915 1010 1998 2037 21702 3267 2018 3303 2068 2000 4503 1037 2193 1997 7443 4406 2216 1997 2060 24904 1012 2014 2269 2018 4036 2014 2043 2016 2001 2402 1010 2402 2438 2008 2016 2018 2025 2664 2719 6147 2000 2151 1997 1996 3182 2027 2018 3030 2096 7118 1012 2298 2000 1996 3340 1010 1999 20518 1010 2002 2018 2409 2014 1010 2004 2027 3913 2768 2648 1996 17732 1997 2037 17184 2006 2028 4010 2305 1012 1996 3340 12342 2091 2006 2149 2035 1025 7188 2017 3335 4873 1010 2298 2000 1996 3340 1998 3342 2008 2027 12342 2091 2006 2216 2017 2024 4394 2004 2092 1012 1999 20518 2938 2039 1010 1998 2246 2041 2058 1996 5975 1010 3254 2437 1037 3143 4984 2105 1996 15429 1010 2014 10326 2159 6224 2041 2151 2929 2030 6281 2006 1996 2300 2008 2052 5769 2014 2911 2347 1005 1056 1996 2069 2028 4013 13668 2075 2012 2305 1012 8510 2008 1996 4153 2001 3154 2041 2000 1996 9154 1010 2016 3913 2067 2091 1012 4406 1996 2103 1010 2073 5473 2071 11320 8024 2105 2296 3420 1010 1998 2017 2020 2196 3647 1010 1996 4153 2001 21425 1998 2333 2012 1037 13567 17381 6393 1012 2016 2069 2018 2000 4638 18043 2000 2191 2469 2008 2027 2020 2145 2894 2006 1996 5380 1998 3647 2096 1996 2717 1997 2014 3626 7771 1012 2043 10556 2480 2018 2034 10650 2014 2013 1996 2273 17325 2666 1010 2016 2018 2908 2000 1996 2327 1997 1996 22889 4017 2006 2008 2034 2305 1998 2246 2005 1996 3340 2000 3046 2000 2514 2008 4434 2067 2000 2014 2155 1012 2021 1996 5377 2058 10526 1997 8044 2682 17710 12079 17130 3214 2008 1996 3712 2001 6524 5710 1010 1998 2043 2009 2001 1010 1996 4597 2008 1996 2103 22627 12805 2041 2037 2062 6802 12334 2682 1012 1996 3168 1997 12532 10087 6593 2008 2018 2419 1999 20518 2000 2468 1996 23277 22465 2018 2042 3271 2247 2011 1996 2126 2016 102\n"
          ]
        },
        {
          "output_type": "stream",
          "name": "stdout",
          "text": [
            "INFO:tensorflow:input_mask: 1 1 1 1 1 1 1 1 1 1 1 1 1 1 1 1 1 1 1 1 1 1 1 1 1 1 1 1 1 1 1 1 1 1 1 1 1 1 1 1 1 1 1 1 1 1 1 1 1 1 1 1 1 1 1 1 1 1 1 1 1 1 1 1 1 1 1 1 1 1 1 1 1 1 1 1 1 1 1 1 1 1 1 1 1 1 1 1 1 1 1 1 1 1 1 1 1 1 1 1 1 1 1 1 1 1 1 1 1 1 1 1 1 1 1 1 1 1 1 1 1 1 1 1 1 1 1 1 1 1 1 1 1 1 1 1 1 1 1 1 1 1 1 1 1 1 1 1 1 1 1 1 1 1 1 1 1 1 1 1 1 1 1 1 1 1 1 1 1 1 1 1 1 1 1 1 1 1 1 1 1 1 1 1 1 1 1 1 1 1 1 1 1 1 1 1 1 1 1 1 1 1 1 1 1 1 1 1 1 1 1 1 1 1 1 1 1 1 1 1 1 1 1 1 1 1 1 1 1 1 1 1 1 1 1 1 1 1 1 1 1 1 1 1 1 1 1 1 1 1 1 1 1 1 1 1 1 1 1 1 1 1 1 1 1 1 1 1 1 1 1 1 1 1 1 1 1 1 1 1 1 1 1 1 1 1 1 1 1 1 1 1 1 1 1 1 1 1 1 1 1 1 1 1 1 1 1 1 1 1 1 1 1 1 1 1 1 1 1 1 1 1 1 1 1 1 1 1 1 1 1 1 1 1 1 1 1 1 1 1 1 1 1 1 1 1 1 1 1 1 1 1 1 1 1 1 1 1 1 1 1 1 1 1 1 1 1 1 1 1 1 1 1 1 1 1 1 1 1 1 1 1 1 1 1 1 1 1 1 1 1 1 1 1 1 1 1 1 1 1 1 1 1 1 1 1 1 1 1 1 1 1 1 1 1 1 1 1 1 1 1 1 1 1 1 1 1 1 1 1 1 1 1 1 1 1 1 1 1 1 1 1 1 1 1 1 1 1 1 1 1 1 1 1 1 1 1 1 1 1 1 1 1 1 1 1 1 1 1 1 1 1 1 1 1 1 1 1 1 1 1 1 1 1 1 1 1 1 1 1 1 1 1 1 1 1 1 1 1 1 1 1 1 1 1 1 1 1 1 1 1 1\n"
          ]
        },
        {
          "output_type": "stream",
          "name": "stderr",
          "text": [
            "INFO:tensorflow:input_mask: 1 1 1 1 1 1 1 1 1 1 1 1 1 1 1 1 1 1 1 1 1 1 1 1 1 1 1 1 1 1 1 1 1 1 1 1 1 1 1 1 1 1 1 1 1 1 1 1 1 1 1 1 1 1 1 1 1 1 1 1 1 1 1 1 1 1 1 1 1 1 1 1 1 1 1 1 1 1 1 1 1 1 1 1 1 1 1 1 1 1 1 1 1 1 1 1 1 1 1 1 1 1 1 1 1 1 1 1 1 1 1 1 1 1 1 1 1 1 1 1 1 1 1 1 1 1 1 1 1 1 1 1 1 1 1 1 1 1 1 1 1 1 1 1 1 1 1 1 1 1 1 1 1 1 1 1 1 1 1 1 1 1 1 1 1 1 1 1 1 1 1 1 1 1 1 1 1 1 1 1 1 1 1 1 1 1 1 1 1 1 1 1 1 1 1 1 1 1 1 1 1 1 1 1 1 1 1 1 1 1 1 1 1 1 1 1 1 1 1 1 1 1 1 1 1 1 1 1 1 1 1 1 1 1 1 1 1 1 1 1 1 1 1 1 1 1 1 1 1 1 1 1 1 1 1 1 1 1 1 1 1 1 1 1 1 1 1 1 1 1 1 1 1 1 1 1 1 1 1 1 1 1 1 1 1 1 1 1 1 1 1 1 1 1 1 1 1 1 1 1 1 1 1 1 1 1 1 1 1 1 1 1 1 1 1 1 1 1 1 1 1 1 1 1 1 1 1 1 1 1 1 1 1 1 1 1 1 1 1 1 1 1 1 1 1 1 1 1 1 1 1 1 1 1 1 1 1 1 1 1 1 1 1 1 1 1 1 1 1 1 1 1 1 1 1 1 1 1 1 1 1 1 1 1 1 1 1 1 1 1 1 1 1 1 1 1 1 1 1 1 1 1 1 1 1 1 1 1 1 1 1 1 1 1 1 1 1 1 1 1 1 1 1 1 1 1 1 1 1 1 1 1 1 1 1 1 1 1 1 1 1 1 1 1 1 1 1 1 1 1 1 1 1 1 1 1 1 1 1 1 1 1 1 1 1 1 1 1 1 1 1 1 1 1 1 1 1 1 1 1 1 1 1 1 1 1 1 1 1 1 1 1 1 1 1 1 1 1 1 1 1 1 1 1 1 1 1 1 1 1 1 1\n"
          ]
        },
        {
          "output_type": "stream",
          "name": "stdout",
          "text": [
            "INFO:tensorflow:segment_ids: 0 0 0 0 0 0 0 0 0 0 0 0 0 0 0 0 0 0 0 0 0 0 0 0 0 0 0 0 0 0 0 0 0 0 0 0 0 0 0 0 0 0 0 0 0 0 0 0 0 0 0 0 0 0 0 0 0 0 0 0 0 0 0 0 0 0 0 0 0 0 0 0 0 0 0 0 0 0 0 0 0 0 0 0 0 0 0 0 0 0 0 0 0 0 0 0 0 0 0 0 0 0 0 0 0 0 0 0 0 0 0 0 0 0 0 0 0 0 0 0 0 0 0 0 0 0 0 0 0 0 0 0 0 0 0 0 0 0 0 0 0 0 0 0 0 0 0 0 0 0 0 0 0 0 0 0 0 0 0 0 0 0 0 0 0 0 0 0 0 0 0 0 0 0 0 0 0 0 0 0 0 0 0 0 0 0 0 0 0 0 0 0 0 0 0 0 0 0 0 0 0 0 0 0 0 0 0 0 0 0 0 0 0 0 0 0 0 0 0 0 0 0 0 0 0 0 0 0 0 0 0 0 0 0 0 0 0 0 0 0 0 0 0 0 0 0 0 0 0 0 0 0 0 0 0 0 0 0 0 0 0 0 0 0 0 0 0 0 0 0 0 0 0 0 0 0 0 0 0 0 0 0 0 0 0 0 0 0 0 0 0 0 0 0 0 0 0 0 0 0 0 0 0 0 0 0 0 0 0 0 0 0 0 0 0 0 0 0 0 0 0 0 0 0 0 0 0 0 0 0 0 0 0 0 0 0 0 0 0 0 0 0 0 0 0 0 0 0 0 0 0 0 0 0 0 0 0 0 0 0 0 0 0 0 0 0 0 0 0 0 0 0 0 0 0 0 0 0 0 0 0 0 0 0 0 0 0 0 0 0 0 0 0 0 0 0 0 0 0 0 0 0 0 0 0 0 0 0 0 0 0 0 0 0 0 0 0 0 0 0 0 0 0 0 0 0 0 0 0 0 0 0 0 0 0 0 0 0 0 0 0 0 0 0 0 0 0 0 0 0 0 0 0 0 0 0 0 0 0 0 0 0 0 0 0 0 0 0 0 0 0 0 0 0 0 0 0 0 0 0 0 0 0 0 0 0 0 0 0 0 0 0 0 0 0 0 0 0 0 0 0 0 0 0 0 0 0 0 0 0 0 0\n"
          ]
        },
        {
          "output_type": "stream",
          "name": "stderr",
          "text": [
            "INFO:tensorflow:segment_ids: 0 0 0 0 0 0 0 0 0 0 0 0 0 0 0 0 0 0 0 0 0 0 0 0 0 0 0 0 0 0 0 0 0 0 0 0 0 0 0 0 0 0 0 0 0 0 0 0 0 0 0 0 0 0 0 0 0 0 0 0 0 0 0 0 0 0 0 0 0 0 0 0 0 0 0 0 0 0 0 0 0 0 0 0 0 0 0 0 0 0 0 0 0 0 0 0 0 0 0 0 0 0 0 0 0 0 0 0 0 0 0 0 0 0 0 0 0 0 0 0 0 0 0 0 0 0 0 0 0 0 0 0 0 0 0 0 0 0 0 0 0 0 0 0 0 0 0 0 0 0 0 0 0 0 0 0 0 0 0 0 0 0 0 0 0 0 0 0 0 0 0 0 0 0 0 0 0 0 0 0 0 0 0 0 0 0 0 0 0 0 0 0 0 0 0 0 0 0 0 0 0 0 0 0 0 0 0 0 0 0 0 0 0 0 0 0 0 0 0 0 0 0 0 0 0 0 0 0 0 0 0 0 0 0 0 0 0 0 0 0 0 0 0 0 0 0 0 0 0 0 0 0 0 0 0 0 0 0 0 0 0 0 0 0 0 0 0 0 0 0 0 0 0 0 0 0 0 0 0 0 0 0 0 0 0 0 0 0 0 0 0 0 0 0 0 0 0 0 0 0 0 0 0 0 0 0 0 0 0 0 0 0 0 0 0 0 0 0 0 0 0 0 0 0 0 0 0 0 0 0 0 0 0 0 0 0 0 0 0 0 0 0 0 0 0 0 0 0 0 0 0 0 0 0 0 0 0 0 0 0 0 0 0 0 0 0 0 0 0 0 0 0 0 0 0 0 0 0 0 0 0 0 0 0 0 0 0 0 0 0 0 0 0 0 0 0 0 0 0 0 0 0 0 0 0 0 0 0 0 0 0 0 0 0 0 0 0 0 0 0 0 0 0 0 0 0 0 0 0 0 0 0 0 0 0 0 0 0 0 0 0 0 0 0 0 0 0 0 0 0 0 0 0 0 0 0 0 0 0 0 0 0 0 0 0 0 0 0 0 0 0 0 0 0 0 0 0 0 0 0 0 0 0 0 0 0 0 0 0 0 0 0 0 0 0 0 0 0 0 0 0 0 0 0 0 0 0 0 0 0 0 0\n"
          ]
        },
        {
          "output_type": "stream",
          "name": "stdout",
          "text": [
            "INFO:tensorflow:label: 0 (id = 0)\n"
          ]
        },
        {
          "output_type": "stream",
          "name": "stderr",
          "text": [
            "INFO:tensorflow:label: 0 (id = 0)\n"
          ]
        },
        {
          "output_type": "stream",
          "name": "stdout",
          "text": [
            "INFO:tensorflow:*** Example ***\n"
          ]
        },
        {
          "output_type": "stream",
          "name": "stderr",
          "text": [
            "INFO:tensorflow:*** Example ***\n"
          ]
        },
        {
          "output_type": "stream",
          "name": "stdout",
          "text": [
            "INFO:tensorflow:guid: \n"
          ]
        },
        {
          "output_type": "stream",
          "name": "stderr",
          "text": [
            "INFO:tensorflow:guid: \n"
          ]
        },
        {
          "output_type": "stream",
          "name": "stdout",
          "text": [
            "INFO:tensorflow:tokens: [CLS] nina moved to ke ##tter ##dam with few possessions , and in her year of living there , she ' d acquired exactly one thing worth anything - a single , delicate gold bracelet . it was a gift from a particularly anxious client of the white rose , a man whose face she could barely place except for the vague memories of an up ##turn ##ed nose and comical ##ly large ears who ' d been overly grateful for her services . she ' d kept it in the little drawer in her room , unsure , really of what to do with it . her wrists were of a gr ##isha ' s ; far too valuable , far too busy to be held back by a band , no matter how precious . nina had never owned much , less so when it came to jewelry - but she did own something that mattered far more . every time she looked at the bracelet , asked herself what she could do with it - gift it to in ##ej , perhaps , or sell it in the ke ##rch market - she ' d catch herself he ##sit ##ating . a piece so fine would fit perfectly in the jewelry box in her room at the little palace . so far , she ' d collected two pairs of earrings and a silver necklace to store in it . when she felt particularly homes ##ick , she ' d hold the bracelet in her hands carefully , imagine herself placing it into her dull red jewelry box and tucking it away under her mattress again . it wasn ' t just any old box - it had been her mother ' s , she thought - she couldn ' t remember enough about a time before the orphanage . the box was made of velvet , and when she opened it , a soft song would play through the room . four gentle notes , she found herself sometimes humming them off - key when she thought about ra ##v ##ka - four gentle notes and a fig ##uri ##ne that would dance along to it . when she ' d first been put into the orphanage , and nina still cried for her mother in the nights , she ' d watch the little dancer t ##wi ##rl around the box in tune with the music - over and over again until she was told off . when nobody was looking , she ' d pretend she was the dancer , hold her hands over her heads and stand on her tip ##to ##es and try her best to find some elegance in her posture . there were times she was tempted to ask in ##ej to teach her - in ##ej , with her graceful movement and her long , silky hair - surely she would know how to dance . in ##ej was an ac ##ro ##bat , a performer through and through , [SEP]\n"
          ]
        },
        {
          "output_type": "stream",
          "name": "stderr",
          "text": [
            "INFO:tensorflow:tokens: [CLS] nina moved to ke ##tter ##dam with few possessions , and in her year of living there , she ' d acquired exactly one thing worth anything - a single , delicate gold bracelet . it was a gift from a particularly anxious client of the white rose , a man whose face she could barely place except for the vague memories of an up ##turn ##ed nose and comical ##ly large ears who ' d been overly grateful for her services . she ' d kept it in the little drawer in her room , unsure , really of what to do with it . her wrists were of a gr ##isha ' s ; far too valuable , far too busy to be held back by a band , no matter how precious . nina had never owned much , less so when it came to jewelry - but she did own something that mattered far more . every time she looked at the bracelet , asked herself what she could do with it - gift it to in ##ej , perhaps , or sell it in the ke ##rch market - she ' d catch herself he ##sit ##ating . a piece so fine would fit perfectly in the jewelry box in her room at the little palace . so far , she ' d collected two pairs of earrings and a silver necklace to store in it . when she felt particularly homes ##ick , she ' d hold the bracelet in her hands carefully , imagine herself placing it into her dull red jewelry box and tucking it away under her mattress again . it wasn ' t just any old box - it had been her mother ' s , she thought - she couldn ' t remember enough about a time before the orphanage . the box was made of velvet , and when she opened it , a soft song would play through the room . four gentle notes , she found herself sometimes humming them off - key when she thought about ra ##v ##ka - four gentle notes and a fig ##uri ##ne that would dance along to it . when she ' d first been put into the orphanage , and nina still cried for her mother in the nights , she ' d watch the little dancer t ##wi ##rl around the box in tune with the music - over and over again until she was told off . when nobody was looking , she ' d pretend she was the dancer , hold her hands over her heads and stand on her tip ##to ##es and try her best to find some elegance in her posture . there were times she was tempted to ask in ##ej to teach her - in ##ej , with her graceful movement and her long , silky hair - surely she would know how to dance . in ##ej was an ac ##ro ##bat , a performer through and through , [SEP]\n"
          ]
        },
        {
          "output_type": "stream",
          "name": "stdout",
          "text": [
            "INFO:tensorflow:input_ids: 101 9401 2333 2000 17710 12079 17130 2007 2261 13689 1010 1998 1999 2014 2095 1997 2542 2045 1010 2016 1005 1040 3734 3599 2028 2518 4276 2505 1011 1037 2309 1010 10059 2751 19688 1012 2009 2001 1037 5592 2013 1037 3391 11480 7396 1997 1996 2317 3123 1010 1037 2158 3005 2227 2016 2071 4510 2173 3272 2005 1996 13727 5758 1997 2019 2039 22299 2098 4451 1998 29257 2135 2312 5551 2040 1005 1040 2042 15241 8794 2005 2014 2578 1012 2016 1005 1040 2921 2009 1999 1996 2210 13065 1999 2014 2282 1010 12422 1010 2428 1997 2054 2000 2079 2007 2009 1012 2014 12150 2020 1997 1037 24665 24032 1005 1055 1025 2521 2205 7070 1010 2521 2205 5697 2000 2022 2218 2067 2011 1037 2316 1010 2053 3043 2129 9062 1012 9401 2018 2196 3079 2172 1010 2625 2061 2043 2009 2234 2000 11912 1011 2021 2016 2106 2219 2242 2008 13836 2521 2062 1012 2296 2051 2016 2246 2012 1996 19688 1010 2356 2841 2054 2016 2071 2079 2007 2009 1011 5592 2009 2000 1999 20518 1010 3383 1010 2030 5271 2009 1999 1996 17710 11140 3006 1011 2016 1005 1040 4608 2841 2002 28032 5844 1012 1037 3538 2061 2986 2052 4906 6669 1999 1996 11912 3482 1999 2014 2282 2012 1996 2210 4186 1012 2061 2521 1010 2016 1005 1040 5067 2048 7689 1997 27212 1998 1037 3165 13016 2000 3573 1999 2009 1012 2043 2016 2371 3391 5014 6799 1010 2016 1005 1040 2907 1996 19688 1999 2014 2398 5362 1010 5674 2841 6885 2009 2046 2014 10634 2417 11912 3482 1998 25056 2009 2185 2104 2014 13342 2153 1012 2009 2347 1005 1056 2074 2151 2214 3482 1011 2009 2018 2042 2014 2388 1005 1055 1010 2016 2245 1011 2016 2481 1005 1056 3342 2438 2055 1037 2051 2077 1996 18504 1012 1996 3482 2001 2081 1997 10966 1010 1998 2043 2016 2441 2009 1010 1037 3730 2299 2052 2377 2083 1996 2282 1012 2176 7132 3964 1010 2016 2179 2841 2823 20364 2068 2125 1011 3145 2043 2016 2245 2055 10958 2615 2912 1011 2176 7132 3964 1998 1037 20965 9496 2638 2008 2052 3153 2247 2000 2009 1012 2043 2016 1005 1040 2034 2042 2404 2046 1996 18504 1010 1998 9401 2145 6639 2005 2014 2388 1999 1996 6385 1010 2016 1005 1040 3422 1996 2210 8033 1056 9148 12190 2105 1996 3482 1999 8694 2007 1996 2189 1011 2058 1998 2058 2153 2127 2016 2001 2409 2125 1012 2043 6343 2001 2559 1010 2016 1005 1040 9811 2016 2001 1996 8033 1010 2907 2014 2398 2058 2014 4641 1998 3233 2006 2014 5955 3406 2229 1998 3046 2014 2190 2000 2424 2070 27745 1999 2014 16819 1012 2045 2020 2335 2016 2001 16312 2000 3198 1999 20518 2000 6570 2014 1011 1999 20518 1010 2007 2014 19415 2929 1998 2014 2146 1010 18848 2606 1011 7543 2016 2052 2113 2129 2000 3153 1012 1999 20518 2001 2019 9353 3217 14479 1010 1037 9256 2083 1998 2083 1010 102\n"
          ]
        },
        {
          "output_type": "stream",
          "name": "stderr",
          "text": [
            "INFO:tensorflow:input_ids: 101 9401 2333 2000 17710 12079 17130 2007 2261 13689 1010 1998 1999 2014 2095 1997 2542 2045 1010 2016 1005 1040 3734 3599 2028 2518 4276 2505 1011 1037 2309 1010 10059 2751 19688 1012 2009 2001 1037 5592 2013 1037 3391 11480 7396 1997 1996 2317 3123 1010 1037 2158 3005 2227 2016 2071 4510 2173 3272 2005 1996 13727 5758 1997 2019 2039 22299 2098 4451 1998 29257 2135 2312 5551 2040 1005 1040 2042 15241 8794 2005 2014 2578 1012 2016 1005 1040 2921 2009 1999 1996 2210 13065 1999 2014 2282 1010 12422 1010 2428 1997 2054 2000 2079 2007 2009 1012 2014 12150 2020 1997 1037 24665 24032 1005 1055 1025 2521 2205 7070 1010 2521 2205 5697 2000 2022 2218 2067 2011 1037 2316 1010 2053 3043 2129 9062 1012 9401 2018 2196 3079 2172 1010 2625 2061 2043 2009 2234 2000 11912 1011 2021 2016 2106 2219 2242 2008 13836 2521 2062 1012 2296 2051 2016 2246 2012 1996 19688 1010 2356 2841 2054 2016 2071 2079 2007 2009 1011 5592 2009 2000 1999 20518 1010 3383 1010 2030 5271 2009 1999 1996 17710 11140 3006 1011 2016 1005 1040 4608 2841 2002 28032 5844 1012 1037 3538 2061 2986 2052 4906 6669 1999 1996 11912 3482 1999 2014 2282 2012 1996 2210 4186 1012 2061 2521 1010 2016 1005 1040 5067 2048 7689 1997 27212 1998 1037 3165 13016 2000 3573 1999 2009 1012 2043 2016 2371 3391 5014 6799 1010 2016 1005 1040 2907 1996 19688 1999 2014 2398 5362 1010 5674 2841 6885 2009 2046 2014 10634 2417 11912 3482 1998 25056 2009 2185 2104 2014 13342 2153 1012 2009 2347 1005 1056 2074 2151 2214 3482 1011 2009 2018 2042 2014 2388 1005 1055 1010 2016 2245 1011 2016 2481 1005 1056 3342 2438 2055 1037 2051 2077 1996 18504 1012 1996 3482 2001 2081 1997 10966 1010 1998 2043 2016 2441 2009 1010 1037 3730 2299 2052 2377 2083 1996 2282 1012 2176 7132 3964 1010 2016 2179 2841 2823 20364 2068 2125 1011 3145 2043 2016 2245 2055 10958 2615 2912 1011 2176 7132 3964 1998 1037 20965 9496 2638 2008 2052 3153 2247 2000 2009 1012 2043 2016 1005 1040 2034 2042 2404 2046 1996 18504 1010 1998 9401 2145 6639 2005 2014 2388 1999 1996 6385 1010 2016 1005 1040 3422 1996 2210 8033 1056 9148 12190 2105 1996 3482 1999 8694 2007 1996 2189 1011 2058 1998 2058 2153 2127 2016 2001 2409 2125 1012 2043 6343 2001 2559 1010 2016 1005 1040 9811 2016 2001 1996 8033 1010 2907 2014 2398 2058 2014 4641 1998 3233 2006 2014 5955 3406 2229 1998 3046 2014 2190 2000 2424 2070 27745 1999 2014 16819 1012 2045 2020 2335 2016 2001 16312 2000 3198 1999 20518 2000 6570 2014 1011 1999 20518 1010 2007 2014 19415 2929 1998 2014 2146 1010 18848 2606 1011 7543 2016 2052 2113 2129 2000 3153 1012 1999 20518 2001 2019 9353 3217 14479 1010 1037 9256 2083 1998 2083 1010 102\n"
          ]
        },
        {
          "output_type": "stream",
          "name": "stdout",
          "text": [
            "INFO:tensorflow:input_mask: 1 1 1 1 1 1 1 1 1 1 1 1 1 1 1 1 1 1 1 1 1 1 1 1 1 1 1 1 1 1 1 1 1 1 1 1 1 1 1 1 1 1 1 1 1 1 1 1 1 1 1 1 1 1 1 1 1 1 1 1 1 1 1 1 1 1 1 1 1 1 1 1 1 1 1 1 1 1 1 1 1 1 1 1 1 1 1 1 1 1 1 1 1 1 1 1 1 1 1 1 1 1 1 1 1 1 1 1 1 1 1 1 1 1 1 1 1 1 1 1 1 1 1 1 1 1 1 1 1 1 1 1 1 1 1 1 1 1 1 1 1 1 1 1 1 1 1 1 1 1 1 1 1 1 1 1 1 1 1 1 1 1 1 1 1 1 1 1 1 1 1 1 1 1 1 1 1 1 1 1 1 1 1 1 1 1 1 1 1 1 1 1 1 1 1 1 1 1 1 1 1 1 1 1 1 1 1 1 1 1 1 1 1 1 1 1 1 1 1 1 1 1 1 1 1 1 1 1 1 1 1 1 1 1 1 1 1 1 1 1 1 1 1 1 1 1 1 1 1 1 1 1 1 1 1 1 1 1 1 1 1 1 1 1 1 1 1 1 1 1 1 1 1 1 1 1 1 1 1 1 1 1 1 1 1 1 1 1 1 1 1 1 1 1 1 1 1 1 1 1 1 1 1 1 1 1 1 1 1 1 1 1 1 1 1 1 1 1 1 1 1 1 1 1 1 1 1 1 1 1 1 1 1 1 1 1 1 1 1 1 1 1 1 1 1 1 1 1 1 1 1 1 1 1 1 1 1 1 1 1 1 1 1 1 1 1 1 1 1 1 1 1 1 1 1 1 1 1 1 1 1 1 1 1 1 1 1 1 1 1 1 1 1 1 1 1 1 1 1 1 1 1 1 1 1 1 1 1 1 1 1 1 1 1 1 1 1 1 1 1 1 1 1 1 1 1 1 1 1 1 1 1 1 1 1 1 1 1 1 1 1 1 1 1 1 1 1 1 1 1 1 1 1 1 1 1 1 1 1 1 1 1 1 1 1 1 1 1 1 1 1 1 1 1 1 1 1 1 1 1 1 1 1 1 1 1 1 1 1 1 1 1 1 1 1 1 1 1 1 1 1 1 1 1 1 1 1 1 1 1 1 1\n"
          ]
        },
        {
          "output_type": "stream",
          "name": "stderr",
          "text": [
            "INFO:tensorflow:input_mask: 1 1 1 1 1 1 1 1 1 1 1 1 1 1 1 1 1 1 1 1 1 1 1 1 1 1 1 1 1 1 1 1 1 1 1 1 1 1 1 1 1 1 1 1 1 1 1 1 1 1 1 1 1 1 1 1 1 1 1 1 1 1 1 1 1 1 1 1 1 1 1 1 1 1 1 1 1 1 1 1 1 1 1 1 1 1 1 1 1 1 1 1 1 1 1 1 1 1 1 1 1 1 1 1 1 1 1 1 1 1 1 1 1 1 1 1 1 1 1 1 1 1 1 1 1 1 1 1 1 1 1 1 1 1 1 1 1 1 1 1 1 1 1 1 1 1 1 1 1 1 1 1 1 1 1 1 1 1 1 1 1 1 1 1 1 1 1 1 1 1 1 1 1 1 1 1 1 1 1 1 1 1 1 1 1 1 1 1 1 1 1 1 1 1 1 1 1 1 1 1 1 1 1 1 1 1 1 1 1 1 1 1 1 1 1 1 1 1 1 1 1 1 1 1 1 1 1 1 1 1 1 1 1 1 1 1 1 1 1 1 1 1 1 1 1 1 1 1 1 1 1 1 1 1 1 1 1 1 1 1 1 1 1 1 1 1 1 1 1 1 1 1 1 1 1 1 1 1 1 1 1 1 1 1 1 1 1 1 1 1 1 1 1 1 1 1 1 1 1 1 1 1 1 1 1 1 1 1 1 1 1 1 1 1 1 1 1 1 1 1 1 1 1 1 1 1 1 1 1 1 1 1 1 1 1 1 1 1 1 1 1 1 1 1 1 1 1 1 1 1 1 1 1 1 1 1 1 1 1 1 1 1 1 1 1 1 1 1 1 1 1 1 1 1 1 1 1 1 1 1 1 1 1 1 1 1 1 1 1 1 1 1 1 1 1 1 1 1 1 1 1 1 1 1 1 1 1 1 1 1 1 1 1 1 1 1 1 1 1 1 1 1 1 1 1 1 1 1 1 1 1 1 1 1 1 1 1 1 1 1 1 1 1 1 1 1 1 1 1 1 1 1 1 1 1 1 1 1 1 1 1 1 1 1 1 1 1 1 1 1 1 1 1 1 1 1 1 1 1 1 1 1 1 1 1 1 1 1 1 1 1 1 1 1 1 1 1 1 1 1 1 1 1 1 1 1 1 1 1 1 1 1\n"
          ]
        },
        {
          "output_type": "stream",
          "name": "stdout",
          "text": [
            "INFO:tensorflow:segment_ids: 0 0 0 0 0 0 0 0 0 0 0 0 0 0 0 0 0 0 0 0 0 0 0 0 0 0 0 0 0 0 0 0 0 0 0 0 0 0 0 0 0 0 0 0 0 0 0 0 0 0 0 0 0 0 0 0 0 0 0 0 0 0 0 0 0 0 0 0 0 0 0 0 0 0 0 0 0 0 0 0 0 0 0 0 0 0 0 0 0 0 0 0 0 0 0 0 0 0 0 0 0 0 0 0 0 0 0 0 0 0 0 0 0 0 0 0 0 0 0 0 0 0 0 0 0 0 0 0 0 0 0 0 0 0 0 0 0 0 0 0 0 0 0 0 0 0 0 0 0 0 0 0 0 0 0 0 0 0 0 0 0 0 0 0 0 0 0 0 0 0 0 0 0 0 0 0 0 0 0 0 0 0 0 0 0 0 0 0 0 0 0 0 0 0 0 0 0 0 0 0 0 0 0 0 0 0 0 0 0 0 0 0 0 0 0 0 0 0 0 0 0 0 0 0 0 0 0 0 0 0 0 0 0 0 0 0 0 0 0 0 0 0 0 0 0 0 0 0 0 0 0 0 0 0 0 0 0 0 0 0 0 0 0 0 0 0 0 0 0 0 0 0 0 0 0 0 0 0 0 0 0 0 0 0 0 0 0 0 0 0 0 0 0 0 0 0 0 0 0 0 0 0 0 0 0 0 0 0 0 0 0 0 0 0 0 0 0 0 0 0 0 0 0 0 0 0 0 0 0 0 0 0 0 0 0 0 0 0 0 0 0 0 0 0 0 0 0 0 0 0 0 0 0 0 0 0 0 0 0 0 0 0 0 0 0 0 0 0 0 0 0 0 0 0 0 0 0 0 0 0 0 0 0 0 0 0 0 0 0 0 0 0 0 0 0 0 0 0 0 0 0 0 0 0 0 0 0 0 0 0 0 0 0 0 0 0 0 0 0 0 0 0 0 0 0 0 0 0 0 0 0 0 0 0 0 0 0 0 0 0 0 0 0 0 0 0 0 0 0 0 0 0 0 0 0 0 0 0 0 0 0 0 0 0 0 0 0 0 0 0 0 0 0 0 0 0 0 0 0 0 0 0 0 0 0 0 0 0 0 0 0 0 0 0 0 0 0 0 0 0 0 0 0 0 0 0 0 0 0 0 0 0\n"
          ]
        },
        {
          "output_type": "stream",
          "name": "stderr",
          "text": [
            "INFO:tensorflow:segment_ids: 0 0 0 0 0 0 0 0 0 0 0 0 0 0 0 0 0 0 0 0 0 0 0 0 0 0 0 0 0 0 0 0 0 0 0 0 0 0 0 0 0 0 0 0 0 0 0 0 0 0 0 0 0 0 0 0 0 0 0 0 0 0 0 0 0 0 0 0 0 0 0 0 0 0 0 0 0 0 0 0 0 0 0 0 0 0 0 0 0 0 0 0 0 0 0 0 0 0 0 0 0 0 0 0 0 0 0 0 0 0 0 0 0 0 0 0 0 0 0 0 0 0 0 0 0 0 0 0 0 0 0 0 0 0 0 0 0 0 0 0 0 0 0 0 0 0 0 0 0 0 0 0 0 0 0 0 0 0 0 0 0 0 0 0 0 0 0 0 0 0 0 0 0 0 0 0 0 0 0 0 0 0 0 0 0 0 0 0 0 0 0 0 0 0 0 0 0 0 0 0 0 0 0 0 0 0 0 0 0 0 0 0 0 0 0 0 0 0 0 0 0 0 0 0 0 0 0 0 0 0 0 0 0 0 0 0 0 0 0 0 0 0 0 0 0 0 0 0 0 0 0 0 0 0 0 0 0 0 0 0 0 0 0 0 0 0 0 0 0 0 0 0 0 0 0 0 0 0 0 0 0 0 0 0 0 0 0 0 0 0 0 0 0 0 0 0 0 0 0 0 0 0 0 0 0 0 0 0 0 0 0 0 0 0 0 0 0 0 0 0 0 0 0 0 0 0 0 0 0 0 0 0 0 0 0 0 0 0 0 0 0 0 0 0 0 0 0 0 0 0 0 0 0 0 0 0 0 0 0 0 0 0 0 0 0 0 0 0 0 0 0 0 0 0 0 0 0 0 0 0 0 0 0 0 0 0 0 0 0 0 0 0 0 0 0 0 0 0 0 0 0 0 0 0 0 0 0 0 0 0 0 0 0 0 0 0 0 0 0 0 0 0 0 0 0 0 0 0 0 0 0 0 0 0 0 0 0 0 0 0 0 0 0 0 0 0 0 0 0 0 0 0 0 0 0 0 0 0 0 0 0 0 0 0 0 0 0 0 0 0 0 0 0 0 0 0 0 0 0 0 0 0 0 0 0 0 0 0 0 0 0 0 0 0 0 0 0 0 0 0 0 0 0 0 0 0 0 0 0 0 0 0\n"
          ]
        },
        {
          "output_type": "stream",
          "name": "stdout",
          "text": [
            "INFO:tensorflow:label: 0 (id = 0)\n"
          ]
        },
        {
          "output_type": "stream",
          "name": "stderr",
          "text": [
            "INFO:tensorflow:label: 0 (id = 0)\n"
          ]
        },
        {
          "output_type": "stream",
          "name": "stdout",
          "text": [
            "INFO:tensorflow:Calling model_fn.\n"
          ]
        },
        {
          "output_type": "stream",
          "name": "stderr",
          "text": [
            "INFO:tensorflow:Calling model_fn.\n"
          ]
        },
        {
          "output_type": "stream",
          "name": "stdout",
          "text": [
            "INFO:tensorflow:Saver not created because there are no variables in the graph to restore\n"
          ]
        },
        {
          "output_type": "stream",
          "name": "stderr",
          "text": [
            "INFO:tensorflow:Saver not created because there are no variables in the graph to restore\n"
          ]
        },
        {
          "output_type": "stream",
          "name": "stdout",
          "text": [
            "INFO:tensorflow:Done calling model_fn.\n"
          ]
        },
        {
          "output_type": "stream",
          "name": "stderr",
          "text": [
            "INFO:tensorflow:Done calling model_fn.\n"
          ]
        },
        {
          "output_type": "stream",
          "name": "stdout",
          "text": [
            "INFO:tensorflow:Graph was finalized.\n"
          ]
        },
        {
          "output_type": "stream",
          "name": "stderr",
          "text": [
            "INFO:tensorflow:Graph was finalized.\n"
          ]
        },
        {
          "output_type": "stream",
          "name": "stdout",
          "text": [
            "INFO:tensorflow:Restoring parameters from /GD/My Drive/Colab Notebooks/BERT/bert_fandom_category/model.ckpt-16\n"
          ]
        },
        {
          "output_type": "stream",
          "name": "stderr",
          "text": [
            "INFO:tensorflow:Restoring parameters from /GD/My Drive/Colab Notebooks/BERT/bert_fandom_category/model.ckpt-16\n"
          ]
        },
        {
          "output_type": "stream",
          "name": "stdout",
          "text": [
            "INFO:tensorflow:Running local_init_op.\n"
          ]
        },
        {
          "output_type": "stream",
          "name": "stderr",
          "text": [
            "INFO:tensorflow:Running local_init_op.\n"
          ]
        },
        {
          "output_type": "stream",
          "name": "stdout",
          "text": [
            "INFO:tensorflow:Done running local_init_op.\n"
          ]
        },
        {
          "output_type": "stream",
          "name": "stderr",
          "text": [
            "INFO:tensorflow:Done running local_init_op.\n"
          ]
        }
      ]
    },
    {
      "cell_type": "code",
      "source": [
        "predictions[0]"
      ],
      "metadata": {
        "colab": {
          "base_uri": "https://localhost:8080/"
        },
        "id": "cfyX2ItgnnXT",
        "outputId": "6e964232-2c38-425c-feff-e83083cc5ed1"
      },
      "execution_count": null,
      "outputs": [
        {
          "output_type": "execute_result",
          "data": {
            "text/plain": [
              "('The Wraith\\'s silhouette had long faded away into the distance, gliding across the waves away from Fifth harbor and away from Ketterdam. The crowd of Dregs who had come to see off their fearless Wraith had slowly dwindled away as the ship disappeared over the horizon. Everyone had dispersed by the time the sky began to tint pink and the streetlights were turned on.  Everyone except Kaz Brekker. Kaz still stood at the docks, putting more weight on his crow-headed cane than he cared to admit. He knew this day would come. She had told him on the Ferolind about her dream of fighting slavers and freeing children who had fallen into the same misfortune as her.  \"Purpose. You know you can\\'t stop them all.\" had been his response.  \"If I don\\'t try, I won\\'t stop any.\"  \"Then I almost pity the slavers. They have no idea what\\'s coming for them.\" He knew it would be cruel of him to keep her from her destiny. Even Dirtyhands couldn\\'t get in the way of her and her dreams. Even Dirtyhands cringed at the memory of the few seconds he had contemplated cheating her into staying, but he couldn\\'t do that. Isn\\'t that what he had promised not to do when he first offered her his deal only a few years ago?   He\\'d had his chance to tell her how he felt, and he had gotten so close. He had asked her stay in Ketterdam after the Ice Court job and in return she had asked for him to remove his armor. If it were not for the the waves that threatened to rise at the thought of touch, maybe he would try.   He had tried.  He had started small. Well, more manageable. The words on Black Veil were hard to confess. It had taken far too much from him to admit that he would always come for her. It was as close to \\'I love you\\' as he was going to get, but he had hoped that it would be enough.   He knew deep down that it wasn\\'t. He had been wrong. Words were almost as bad as touch. He could never give her what she wanted. He didn\\'t think he would ever be able to talk about Jordie, yet she had told him a little about the family she had been unfairly ripped away from. She would always be stronger than he could ever hope to be.   He had hardly recognized his voice when he had offered to fix her bandages, but once the words were out of his mouth there was no going back. He had had to try. For only a moment he had believed that maybe he could get through this. He had tried to focus on the pulse at her throat, pleading for the waves to break only to be pulled under once more.  It was pathetic. She deserved better than the Bastard of the Barrel could ever give her, but he gave her what he could anyway. He wanted her to be happy. He wanted to see her smile. He wanted to hear that laugh that he so desperately wished to bottle up. So he paid off the contract, bought the ship, and found her parents. He let her go.   She had promised to return, \"I\\'m not ready to give up on this city, Kaz. I think it\\'s worth saving.\"  He knew what she wasn\\'t saying. She thought that he was worth saving, but she was wrong. She couldn\\'t save him. No one could. He had tried to save himself and look where that had gotten him.   He cursed at himself for standing around, hoping for something he could never have. It was dark now and Kaz knew that he had already loitered at berth twenty-two much too long. He had an empire to run and a good sized stack of paperwork waiting for him in his office.   He started the trek through the city to the Slat and to the three cursed flights of stairs that waited for him there. His crow-headed cane thudded rhythmically along the cobblestoned streets, warning any passerbys of the Bastard of the Barrel\\'s presence. It would be a long walk back and his already sore leg would be punishing him for sometime after this night. Not that it had ever stopped punishing him since the Ice Court job and the damage control he had conducted afterwards.   He was greeted by the loud ruckus of his Dregs gambling, drinking, and fighting over some mundane thing Kaz didn\\'t care about. He ignored it all as he started up the stairs, aware of his lieutenant, Anika, making her way to follow him up. He didn\\'t want to talk to anyone right now, but as she was his lieutenant he figured it would do him good to hear her out before pushing her out of his office.   \"It\\'s a shame the Wraith\\'s leaving us, Brekker. We\\'re all going to miss having her around the Slat.\"  Or not.   \"Not tonight, Anika.\" he responded in his gravel-like voice.   \"Aw, c\\'mon, Brekker. No one\\'s seen you around all night and now you\\'re just going to ghost us again?\"  \"You were expecting anything different?\" he now turned to her amused. She shrugged in defeat.  \"Would it actually kill you to spend time in the Slat with the rest of the gang?\"   \"I spend plenty of time around the Slat.\"  \"Not what I asked, Kaz.\"\"I don\\'t think I care.\" he turned away and continued the dreaded climb.  \"Oh c\\'mon. Play one hand? I\\'ll spot you!\"  \"That won\\'t be necessary.\"   \"Fine. You wanna talk about why it took you so long to come back from the harbor?\" Now Kaz did stop. He took a deep breath, urging himself not to act rash as he tended to do whenever someone wanted to ask personal questions. Especially about Inej.   \"I went to see off the Wraith just like everyone else.\"  \"Everyone else came back hours ago.\" Had he really stood there for hours?  \"Good night, Anika.\"   \"It\\'s ok to admit that you\\'re gonna miss her, Brekker.\"  \"I said good night, Anika.\" he repeated as he ascended the last of the stairs and locked himself away in his office for the night. He sagged into the chair and propped up his aching leg, relieved to finally sit down after such a long day.   He turned to the daunting pile of paperwork stacked haphazardly along his desk. He knew he should spend a few hours plowing through it, but the sudden wave of fatigue that hit him told him otherwise.   Kaz mourned the thought of standing up again, but coalesced himself into standing long enough to strip off his clothes and wash himself off before carefully laying down on the bed in the corner. Despite his sudden fatigue, Kaz tossed and turned, trying not to think about Inej\\'s smile, the bloated corpses that brushed against him when he held her hand, or Jordie\\'s persistent voice in his head, which had not been silenced by Pekka Rollins\\'s sudden disappearance. Kaz did not want to think about how long this fight continued until a fitful sleep finally overcame him. ******The room was much too bright when Kaz\\'s eyes opened again, and he knew immediately that he should have been up hours ago. He cursed at the growing ache in his leg as he noticed that he had rolled onto it during his restless sleep, putting unwelcomed weight on the irritated limb.   He untangled himself from the sheets and reached for his cane as he braced himself for the annoyance of standing. He dressed quickly and seated himself in front of the pile of work that Kaz could have sworn grew overnight. He sighed as he grabbed the first envelope and sliced it open with a letter opener to see what business needed to be discussed.   Five business deals that Kaz had no interest in and two empty threats later a knock sounded from his door. Kaz did not look up from the paperwork.  \"What business?\" the door opened and Jesper strode into the room, twirling one of his pearl-handled revolvers in his dark hand.  \"Are we interrupting?\"  \"Yes,\" Kaz continued reading the document, hoping that the sharpshooter would give up whatever cause that had driven him out of Van Eck manor to the Barrel.   \"Too bad. Let\\'s get waffles.\"   \"No.\"  \"I told you he wouldn\\'t want to come with us. Maybe we should leave him to his work.\" spoke another voice. Kaz looked up from his work to see Wylan enter the office after Jesper, hands hidden in his pockets. Kaz pointed at Wylan with the quill he had been using for signatures.  \"Wise words, merchling. I suggest you follow his advice, Jes.\"  \"Nah, I think I\\'m going to press my luck.\" Kaz rolled his eyes. Of course. Jesper may not be playing at the tables anymore, but it didn\\'t mean he would stop gambling.   \"I\\'m not in the mood for this.\" he grumbled more to himself than to Jesper and Wylan.  \"You\\'re never in the mood for anything that won\\'t get you more money or revenge on Pekka Rollins. Speaking of Rollins, has anyone heard anything about him lately?\" Kaz let the jab slide in favor of the more intriguing question that Jesper had asked.  He was right. It had been a few weeks since they had ruined Van Eck\\'s reputation and gotten revenge on Pekka, and he had not heard anything about Pekka since. In the few weeks that Inej had stayed in Ketterdam after he brought back her parents, she had scouted out the city regularly at night after her parents had fallen asleep in a guest room at the Van Eck manor. She had never reported anything of importance concerning the Dime Lions and nothing whatsoever on Pekka, himself. If she hadn\\'t heard or seen anything, then no one would know.   \"No, there hasn\\'t been a word about Pekka or the Dime Lions, except for a few fools that are trying to grab at the pieces of his fallen empire.\" Jesper nodded at this explanation, but Wylan looked worried.  \"Do you think he\\'s really gone?\" Wylan asked.   Kaz thought back on the night he had threatened Rollins. Rollins had been petrified as he had boasted of a heinous act that even Dirtyhands would not do. He did not hurt innocent people if he could help it. Could he have scared Pekka out of Ketterdam for good? He hoped that Pekka was haunted by the thought of the Bastard of the Barrel everyday for the rest of his life when he saw his little Alby, just like Kaz was still haunted by Pekka when he thought of Jordie.   \"I don\\'t know. I doubt it will last.\" he answered eventually. There was no reason to lie.   \"Enough business,\" Jesper stopped playing with his gun for a second to point it at Kaz, \"Waffles,\"  \"Jes, I thought we agreed after the last incident not to point your gun at people when gesturing to them.\" Wylan looked at Jesper, eyes widening in shock.  \"Incident? What incident?\"  \"Nothing to worry about, merchling. No one was hurt.\" Jesper grinned, returning the revolver to its holster hanging at his hip.   Kaz raised an eyebrow.  \"Fatally.\" Jesper amended with a sheepish grin. Wylan ran his fingers through his rusty colored curl sighing in exasperation.  \"So, waffles?\" Jesper tried again.  \"No.\"   \"Please? I know this place that makes this great apple syrup...\"  \"I said no!\" Jesper\\'s eyes widened in surprise, barely stepping out of the way in time to dodge the letter opener that jammed itself into the wood of the door behind him.   \"Jesper, let\\'s just leave him alone.\" Wylan urged.  \"Okay, okay. I know when I\\'ve made a bad wager.\" Jesper held up his hands in surrender as he backed up to the door and opened it to let Wylan out. Jesper was about to close the door behind him when he turned to Kaz one last time, but Kaz had already turned his attention back to his work.   \"You know that you\\'re welcome at the manor anytime right? In case you ever want to talk or something. I know you and Inej had this weird bond and...\"  \"Go get your waffles, Jes.\" The sharpshooter nodded.   \"Heads up.\" Kaz didn\\'t look up to catch the letter opener that Jesper threw back at him on his way out.   He returned to his work after Jesper left, grateful to be alone again. Unfortunately he only got through a couple more manners of business before he was rudely interrupted once again. Only this time it was not a member of the Dregs who was breaking into his office.   A familiar caw screeched from his window sill. Great. It was Inej\\'s precious crows, looking for their Suli friend, who dutifully fed them their prized breadcrumbs. He did his best to ignore the unwelcome avians, but the murder were not having any of it. They knew all too well that there was food to be found at this particular window.   Kaz shot a deadly glare at the birds, as if Dirtyhands was so feared that even the crows cowered at the sight of him. They only stared at him with their tilted little heads and hopped closer to the window, waiting. Kaz\\'s jaw ticked as he grabbed his cane roughly and hobbled over to the window.   \"Shoo! Shoo!\" he smacked at them with a gloved hand. The murder moved away from where Kaz swatted at him, but they did not leave the window sill. Kaz rolled his eyes and went back to his desk. If he left them alone maybe they would go away.   Seven letters later, the murder had not stopped cawing from his window sill.   \"Damn you, Inej.\" he grumbled to himself as he threw his quill back in to the inkwell and pushed himself up from the chair. He rifled through a draw for the loaf of bread Inej would break pieces off of to give the crows. He knew she always kept one around.   One time he had thrown it out so that she would not have anything to give them. The next morning he woke to find a new, full loaf of bread already resting on the window and the largest murder of crows he had ever seen attacking it. The sound of cawing crows had been almost deafening. Inej had also already been resting on the sill, stroking one of the crows.   \"Morning, Kaz.\" she had shot him a triumphant smile. It was the kind of smile that fogged his mind. He did not throw out the crows\\' bread again.   He finally found the remains of said loaf and brought over to the expectant murder. He sprinkled crumbs along the sill. The murder stared at him for a moment, not moving. Kaz was surprised by the sudden feelings of betrayal as the crows stared dumbly at the crumbs.  \"What are you waiting for? Eat.\" he urged them. Did he just talk to the crows? Then he remembered what he had told Inej a few weeks ago.  \"Crows remember faces.\" Of course. The crows didn\\'t trust him. He was only the boy who stared at them with disinterest as their Suli friend fed them, despite Kaz\\'s warning not to feed the crows. They were calculating their next move in the same way he always did.  The crows had no reason to trust Kaz. He wasn\\'t Inej. He hadn\\'t fed them before. He had even encouraged her not to, and they remembered. Just as Kaz claimed they could. But when he was beginning to think that the crows had finally made the judgment not to accept Kaz\\'s offering, the crows began to greedily attack it. It was an odd relief to see the murder accept the crumbs. He felt a strange warmth at watching Inej\\'s crows eat up their offering.   The crows must have made a decision that late morning as Dirtyhands offered them more crumbs because the next morning they were there at his window, waiting. Feeding Inej\\'s crows soon became the highlight of Kaz\\'s days.  Some weeks passed in a similar fashion. Kaz would feed the crows in the morning before burying himself into his work. Sometimes Jesper or Wylan or both would come to visit and try to pull him out of his office until Kaz threatened them. As this kept up they began to stop by less frequently. Anika would force her way in sometimes and Kaz would restrain himself from kicking her out only because he knew it wouldn\\'t be wise to push away his lieutenant. The few times he did leave the Slat was to monitor the Crow Club and chase away the Dime Lions dumb enough to get too close to Fifth Harbor.   He did this all mechanically until he collapsed in bed at night with images of his Wraith swirling around in his head. The monotony of his day to day life had been enough for him to push her out of his head, but late at night when he no longer had any responsibilities beyond resting, the dam of thoughts of Inej would break and crash around him like the waves at Reaper\\'s Barge. It was all overwhelming and unwelcome. In the morning he would wake with a feeling of profound emptiness and her name on his lips.   He began to see her everywhere. His desk held memories of times when she would take in the bare bones of his plans as she sat there patiently, wondering what he wasn\\'t telling her. Even the damn crows that had become his closest friend reminded him too much of the days he chided her for feeding them only for her to question him further. She really had become a wraith in the way she seemed to haunt him in every corner of this room.  He gathered his head in his hands. This needed to stop. Now.   He forced himself to go back to the business agreement before him, but he didn\\'t get too far before a knock at his door snapped him out of his longing.  \"No, Jesper. I\\'m not in the mood for waffles.\" the door flung open anyway, revealing Anika in the doorway.   \"Not Jesper, and you\\'re such a liar. How could you turn down waffles?\"   \"What business, Anika?\" she entered the room, closing the door behind her and leaning against the wall, arms crossed over her chest.   \"Roeder\\'s starting today.\"  \"Good, now get out. I\\'m busy.\"   \"Sounds like someone needs a waffle.\" she didn\\'t shy away from the pointed glare he shot at her.   \"Don\\'t make me say it again. Unless you have anything else of importance to report, I advise that you leave now.\" she returned his glare for a few minutes before inching closer to the door.   \"I\\'m not sure what\\'s up with you, boss, but you should talk to someone. Seriously, get waffles with Jesper and Wylan or something.\" and then she left the office before he could find something heavy to throw at her.   No one bothered him again for the rest of the day, but he never really got that focus he desired either. The damn crows were back again, cawing away incessantly from their sill. Inej\\'s sill. She really was a wraith, haunting him in every corner of this room like this.   She had become a distraction lately, and he couldn\\'t afford to make any more mistakes. His mistake had already cost him so much. That mistake had almost cost her her legs, and he didn\\'t want to think about what would have happened, what he would have done if she could no longer scale the city of Ketterdam like the wraith she was. It was better this way. She finally had the freedom she wanted and he had his empire to burn. He needed to let her go.   Then why hadn\\'t it feel right to watch the Wraith disappear beyond the horizon? Why did the rush of emotion he felt whenever he laid eyes on her ache even more as she drew farther and farther away? He was no good for her. She would find no happiness with him, and he couldn\\'t seem to think as clearly as he used to with her near him. But now that she had finally left, his mind had become hazier than when she had fogged his mind during and after the Ice Court.   It was at that moment that he realized just how much he missed her. He even fed her damn crows! This was madness. He had thought that if he could only get her out of the city he would get his head back on straight and go on with his life, yet the longing that pulled at him when she was near tugged at him still, even though she was miles and miles away at sea hunting slavers.   Did she dream of him the same way he dreamed of her? Did she miss him, too?  He longed to tell her of what she did to him. How her beauty could make him feel that maybe he was human after all. But he knew he would never be able to say all that he wished to. He would never truly be with her, and he didn\\'t want her pity. He didn\\'t want to share his shame with her.   And then he thought of the next best thing. He pushed away the messy piles of work that had only collected dust over the last couple weeks, it really was a problem, and fetched some fresh parchment. If he couldn\\'t tell her to her face, then he would write it down, get it all out of his head and clear his mind of the curse of her memory.   He removed his quill from the inkwell and let it hover over the pages, careful not to drip all over the desk and parchment.   How should he start? How did one begin when searching for the words they could never say out loud? Kaz lost track of how long he stared at the blank page, puzzling over words that refused to surface. Mayhaps writing down his thoughts would not be as easy as he had thought.   Unbidden memories pushed their way into his mind. Inej cupping his cheek after she returned his gloves. Inej standing on the deck of the Ferolind, her usually braided hair whipping behind her in the breeze. The look in her eyes when she urged him to go on as he tested her skin beneath his bare hands. Her dust covered, smiling cheeks when he told her of how he had Nina include the Menagerie as a \"plague site\". How she gripped his arm with shock as she recognized her parents before her. He scratched at the paper, almost mindlessly.   I\\'d sell my soul just to see your faceAnd I\\'d break my bones just to heal your painAnd in these times I need a saving grace\\'Cause time is running out and I\\'m starting to lose my faith  But if I told you I loved you would it make you wanna stay?I\\'m sorry for the way I make you feel day after dayAnd if I wrote you a love song and sang it to you everydayWould it ever be enough to make you wanna come back home to stay?Would it make you, make you wanna stay?  My heart\\'s on my sleeve but it\\'s turning blackAnd without your touch I\\'m not gonna lastIt feels like my walls are cavin\\' inAnd I\\'ll do anything to have you here again  But if I told you I loved you would it make you wanna stay?I\\'m sorry for the way I make you feel day after dayAnd if I wrote you a love song and sang it to you everydayWould it ever be enough to make you wanna come back home to stay?Would it make you, make you wanna stay?  The days are cold the nights are longAnd I can\\'t stand to be alonePlease know this is not your fault  And all I want is to tell you I love youAnd make you wanna stayI\\'m sorry for the way I make you feel day after dayAnd if I wrote you a love song and sang it to you everydayWould it ever be enough to make you wanna come back home to stay?Would it make you, make you wanna stay?  He read it over many times to make sure he had gotten it right. Was it dramatic? Perhaps a bit. Was it the absolute truth? Definitely, and that\\'s what mattered. She would never hear these words anyway. They only needed to be perfect for him, so that they could leave his mind forever. He breathed a sigh of relief after rereading the words for the twentieth time. It would do.****Writing a secret letter to Inej did not solve the problem, though it did help. It had given him some sort of peace to admit, at least on paper, what he would do for her, how she made him feel, how much he wished for her comfortable presence on his window sill. It was enough to allow him to refocus and get back into business, though she was still haunting his every thought when he closed his eyes in the dark of night. Another week went by. The stack of work finally began to shrink. Kaz faithfully fed his crows every day. It had taken quite a bit of willpower for Kaz not to smirk at Roeder\\'s confused face when Kaz ordered him to pick up a loaf for the murder. He even took the walk to Van Eck manor for a long overdue visit with Jesper and Wylan.   Kaz was feeling more and more like his old self each day. On one particularly good day Kaz even surprised himself by clapping a gloved hand on Jesper\\'s arm on his way out of the manor. Kaz had strode away without a backwards glance to see the sharpshooter\\'s jaw hit the floor. Things were alright.   It was over a month after Kaz had stashed away the letter to Inej that he could hear the poorly concealed whispers from the other side of his wooden, office door.   \"Maybe we should leave him alone, Jes.\"   \"Now is the best time. This is the best mood he\\'s been in in a long time. He\\'s almost...happy?\" What were those two up to? Kaz stood from his desk silently, without using his cane, and stalked over to the door where he could listen in better.  \"Maybe we shouldn\\'t push our luck.\"  \"Well, merchling, I\\'ve got some news for you.\"  \"Jesper, I swear this is not the time...\"\"Time for what?\" Kaz swung the door open to see Wylan jump a few feet in the air at the sound of this new voice.   \"Waffles!\" Jesper turned his grin on Kaz. He thought it over for a minute. It had been a while since the last time they had all gone out, just three normal teens eating waffles. Not that any of them would ever be anything remotely close to normal.   \"That depends. Will you be taking me to that place with the great apple syrup I\\'ve been hearing so much about?\" Kaz didn\\'t think that Jesper\\'s goofy grin could stretch any further across his face, but in that moment he was proved wrong as the Zemeni boy nodded eagerly.  \"You got it!\"   Within the hour, the three boys found themselves seated in a restaurant outside of the Barrel, a heaping plates of steaming waffles in front of them. They made small talk with each other just as they always did on the rare occasions Kaz felt up to leaving his office and being around other people. Jesper and Wylan would ask Kaz about the Crow Club and how Kaz was doing, tiptoeing away from asking any actual personal questions that would shut Kaz down. They had been surprised that the Bastard of the Barrel had come with them willingly, now was not the time to cross personal boundaries. In turn, Kaz inquired Wylan about his own business affairs.   \"Everything\\'s been going great! Jesper reads the documents to me, so it really isn\\'t so bad.\"  \"Yeah sure, maybe the first few papers weren\\'t so bad, but I can only read so many purchase orders before I feel like I\\'m going to lose my mind. How do you understand that jargon?\" Whylan shrugged.  \"My may not have included me in on his business deals, but that doesn\\'t mean he didn\\'t teach me anything about business.\" Jesper only shook his head.  \"Marketable skills, merchling. Marketable skills. Wylan\\'s cheeks started to turn red as Kaz cleared his throat.   \"If you would prefer, I could read some of your documents to you sometime, Wylan.\" Neither spoke as they stared wide eyed at Kaz Brekker, Dirtyhands, Bastard of the Barrel, who had just offered to help another person.   \"You would do that?\" Wylan asked in disbelief once he managed to relocate his voice.   \"Why wouldn\\'t I?\" Kaz quirked an eyebrow.  \"Well, it\\'s just that you...um...you...\" Wylan stammered.  \"I don\\'t think it would be smart to question a Barrel boss, merchling.\" Jesper quipped.  \"Right. Yeah...uh, thanks, Kaz.\"   \"Anytime.\"  As the time passed, the pile of waffles disappeared. Jesper reordered for himself a few times, but even that was diminished into a mess of syrup and melted butter. They returned to small talk. Jesper told a story of his small winnings off the market with the limited funds Wylan allowed him, and Wylan told of his mother\\'s successful return to society.   \"So, Kaz,\" Jesper began. Jesper did his best not to shrink away from the way Kaz looked at him, as if he could look right into Jesper\\'s mind and read everything. Jesper could see from the dark glint in Kaz\\'s eyes that he was questioning whether or not he would like this turn in conversation. \"Word is that The Wraith\\'s been spotted docking at berth twenty-two.\" Nothing.   \"Is that all?\" Jesper wished he could pick Kaz open and see what was going on in that enigmatic mind of his.   \"Just thought you\\'d want to know.\" the sharpshooter responded.   \"I have business back at the Crow Club to attend to.\" Kaz suddenly announced. And with that, the Bastard of the Barrel was up, cane in hand, and out of the restaurant.   \"Well, would you look at that.\" Jesper smirked.  \"Is he going to berth twenty-two?\"  \"What do you think, merchling? Have you met Kaz?\"   \"I figured as much.\"  \"He didn\\'t even pay before he left!\"  \"Jes, you offered to take him out for waffles.\" Jesper shrugged and licked syrup off his fork. They sat in comfortable silence for a second before Jesper turned to his boyfriend with a mischievous look in his eye. Wylan didn\\'t like it.  \"Let\\'s follow him.\"  \"Jesper, no!\"',\n",
              " array([-1.1880348, -1.2406777, -1.818258 , -1.4118835], dtype=float32),\n",
              " 0,\n",
              " 'Six of Crows Series - Leigh Bardugo')"
            ]
          },
          "metadata": {},
          "execution_count": 83
        }
      ]
    },
    {
      "cell_type": "code",
      "source": [
        "enc_labels = []\n",
        "act_labels = []\n",
        "for i in range(len(predictions)):\n",
        "  enc_labels.append(predictions[i][2])\n",
        "  act_labels.append(predictions[i][3])"
      ],
      "metadata": {
        "id": "GGi9GwJIn61w"
      },
      "execution_count": null,
      "outputs": []
    },
    {
      "cell_type": "code",
      "source": [
        "pd.DataFrame(enc_labels, columns = ['SECTION']).to_csv('/GD/My Drive/Colab Notebooks/Fanfiction/fandom_test_1.csv', index = False)"
      ],
      "metadata": {
        "id": "EDCBlVyknsTZ"
      },
      "execution_count": null,
      "outputs": []
    },
    {
      "cell_type": "code",
      "source": [
        "test_results = pd.read_csv('/GD/My Drive/Colab Notebooks/Fanfiction/fandom_test_1.csv')\n",
        "test_results"
      ],
      "metadata": {
        "colab": {
          "base_uri": "https://localhost:8080/",
          "height": 423
        },
        "id": "HaHNFdBrnxoc",
        "outputId": "555ad755-54db-485d-9cca-86e8d31e3169"
      },
      "execution_count": null,
      "outputs": [
        {
          "output_type": "execute_result",
          "data": {
            "text/plain": [
              "     SECTION\n",
              "0          0\n",
              "1          3\n",
              "2          3\n",
              "3          0\n",
              "4          0\n",
              "..       ...\n",
              "146        1\n",
              "147        1\n",
              "148        3\n",
              "149        1\n",
              "150        1\n",
              "\n",
              "[151 rows x 1 columns]"
            ],
            "text/html": [
              "\n",
              "  <div id=\"df-e39dccb9-5a89-4ba2-833f-cf43855b22e7\">\n",
              "    <div class=\"colab-df-container\">\n",
              "      <div>\n",
              "<style scoped>\n",
              "    .dataframe tbody tr th:only-of-type {\n",
              "        vertical-align: middle;\n",
              "    }\n",
              "\n",
              "    .dataframe tbody tr th {\n",
              "        vertical-align: top;\n",
              "    }\n",
              "\n",
              "    .dataframe thead th {\n",
              "        text-align: right;\n",
              "    }\n",
              "</style>\n",
              "<table border=\"1\" class=\"dataframe\">\n",
              "  <thead>\n",
              "    <tr style=\"text-align: right;\">\n",
              "      <th></th>\n",
              "      <th>SECTION</th>\n",
              "    </tr>\n",
              "  </thead>\n",
              "  <tbody>\n",
              "    <tr>\n",
              "      <th>0</th>\n",
              "      <td>0</td>\n",
              "    </tr>\n",
              "    <tr>\n",
              "      <th>1</th>\n",
              "      <td>3</td>\n",
              "    </tr>\n",
              "    <tr>\n",
              "      <th>2</th>\n",
              "      <td>3</td>\n",
              "    </tr>\n",
              "    <tr>\n",
              "      <th>3</th>\n",
              "      <td>0</td>\n",
              "    </tr>\n",
              "    <tr>\n",
              "      <th>4</th>\n",
              "      <td>0</td>\n",
              "    </tr>\n",
              "    <tr>\n",
              "      <th>...</th>\n",
              "      <td>...</td>\n",
              "    </tr>\n",
              "    <tr>\n",
              "      <th>146</th>\n",
              "      <td>1</td>\n",
              "    </tr>\n",
              "    <tr>\n",
              "      <th>147</th>\n",
              "      <td>1</td>\n",
              "    </tr>\n",
              "    <tr>\n",
              "      <th>148</th>\n",
              "      <td>3</td>\n",
              "    </tr>\n",
              "    <tr>\n",
              "      <th>149</th>\n",
              "      <td>1</td>\n",
              "    </tr>\n",
              "    <tr>\n",
              "      <th>150</th>\n",
              "      <td>1</td>\n",
              "    </tr>\n",
              "  </tbody>\n",
              "</table>\n",
              "<p>151 rows × 1 columns</p>\n",
              "</div>\n",
              "      <button class=\"colab-df-convert\" onclick=\"convertToInteractive('df-e39dccb9-5a89-4ba2-833f-cf43855b22e7')\"\n",
              "              title=\"Convert this dataframe to an interactive table.\"\n",
              "              style=\"display:none;\">\n",
              "        \n",
              "  <svg xmlns=\"http://www.w3.org/2000/svg\" height=\"24px\"viewBox=\"0 0 24 24\"\n",
              "       width=\"24px\">\n",
              "    <path d=\"M0 0h24v24H0V0z\" fill=\"none\"/>\n",
              "    <path d=\"M18.56 5.44l.94 2.06.94-2.06 2.06-.94-2.06-.94-.94-2.06-.94 2.06-2.06.94zm-11 1L8.5 8.5l.94-2.06 2.06-.94-2.06-.94L8.5 2.5l-.94 2.06-2.06.94zm10 10l.94 2.06.94-2.06 2.06-.94-2.06-.94-.94-2.06-.94 2.06-2.06.94z\"/><path d=\"M17.41 7.96l-1.37-1.37c-.4-.4-.92-.59-1.43-.59-.52 0-1.04.2-1.43.59L10.3 9.45l-7.72 7.72c-.78.78-.78 2.05 0 2.83L4 21.41c.39.39.9.59 1.41.59.51 0 1.02-.2 1.41-.59l7.78-7.78 2.81-2.81c.8-.78.8-2.07 0-2.86zM5.41 20L4 18.59l7.72-7.72 1.47 1.35L5.41 20z\"/>\n",
              "  </svg>\n",
              "      </button>\n",
              "      \n",
              "  <style>\n",
              "    .colab-df-container {\n",
              "      display:flex;\n",
              "      flex-wrap:wrap;\n",
              "      gap: 12px;\n",
              "    }\n",
              "\n",
              "    .colab-df-convert {\n",
              "      background-color: #E8F0FE;\n",
              "      border: none;\n",
              "      border-radius: 50%;\n",
              "      cursor: pointer;\n",
              "      display: none;\n",
              "      fill: #1967D2;\n",
              "      height: 32px;\n",
              "      padding: 0 0 0 0;\n",
              "      width: 32px;\n",
              "    }\n",
              "\n",
              "    .colab-df-convert:hover {\n",
              "      background-color: #E2EBFA;\n",
              "      box-shadow: 0px 1px 2px rgba(60, 64, 67, 0.3), 0px 1px 3px 1px rgba(60, 64, 67, 0.15);\n",
              "      fill: #174EA6;\n",
              "    }\n",
              "\n",
              "    [theme=dark] .colab-df-convert {\n",
              "      background-color: #3B4455;\n",
              "      fill: #D2E3FC;\n",
              "    }\n",
              "\n",
              "    [theme=dark] .colab-df-convert:hover {\n",
              "      background-color: #434B5C;\n",
              "      box-shadow: 0px 1px 3px 1px rgba(0, 0, 0, 0.15);\n",
              "      filter: drop-shadow(0px 1px 2px rgba(0, 0, 0, 0.3));\n",
              "      fill: #FFFFFF;\n",
              "    }\n",
              "  </style>\n",
              "\n",
              "      <script>\n",
              "        const buttonEl =\n",
              "          document.querySelector('#df-e39dccb9-5a89-4ba2-833f-cf43855b22e7 button.colab-df-convert');\n",
              "        buttonEl.style.display =\n",
              "          google.colab.kernel.accessAllowed ? 'block' : 'none';\n",
              "\n",
              "        async function convertToInteractive(key) {\n",
              "          const element = document.querySelector('#df-e39dccb9-5a89-4ba2-833f-cf43855b22e7');\n",
              "          const dataTable =\n",
              "            await google.colab.kernel.invokeFunction('convertToInteractive',\n",
              "                                                     [key], {});\n",
              "          if (!dataTable) return;\n",
              "\n",
              "          const docLinkHtml = 'Like what you see? Visit the ' +\n",
              "            '<a target=\"_blank\" href=https://colab.research.google.com/notebooks/data_table.ipynb>data table notebook</a>'\n",
              "            + ' to learn more about interactive tables.';\n",
              "          element.innerHTML = '';\n",
              "          dataTable['output_type'] = 'display_data';\n",
              "          await google.colab.output.renderOutput(dataTable, element);\n",
              "          const docLink = document.createElement('div');\n",
              "          docLink.innerHTML = docLinkHtml;\n",
              "          element.appendChild(docLink);\n",
              "        }\n",
              "      </script>\n",
              "    </div>\n",
              "  </div>\n",
              "  "
            ]
          },
          "metadata": {},
          "execution_count": 86
        }
      ]
    },
    {
      "cell_type": "code",
      "source": [
        ""
      ],
      "metadata": {
        "id": "o8FT4Nm4npGw"
      },
      "execution_count": null,
      "outputs": []
    },
    {
      "cell_type": "code",
      "source": [
        "correct = 0\n",
        "for i in range(len(test_results)):\n",
        "   if i not in drop:\n",
        "      if test_results['SECTION'][i] == test2['Fandom_Code'][i]:\n",
        "        correct +=1\n",
        "print(f\"{correct} out of {len(test_results)}\")\n",
        "print(f\"{(correct/len(test_results))*100} % were correct\")"
      ],
      "metadata": {
        "colab": {
          "base_uri": "https://localhost:8080/"
        },
        "id": "RngR51pAn8dM",
        "outputId": "e33532bf-f4e1-4b2b-dd25-1085a310639b"
      },
      "execution_count": null,
      "outputs": [
        {
          "output_type": "stream",
          "name": "stdout",
          "text": [
            "37 out of 151\n",
            "24.503311258278146 % were correct\n"
          ]
        }
      ]
    },
    {
      "cell_type": "code",
      "source": [
        "##okay that's pretty bad?"
      ],
      "metadata": {
        "id": "TPzRaii3olRI"
      },
      "execution_count": null,
      "outputs": []
    },
    {
      "cell_type": "markdown",
      "source": [
        "## Random Tester"
      ],
      "metadata": {
        "id": "_tcMNQBTMVDp"
      }
    },
    {
      "cell_type": "code",
      "source": [
        "#Classifying random sentences\n",
        "tests = getPrediction(['Sherlock Holmes is fat and squishy ',\n",
        "                       'James Bond will give us big kisses',\n",
        "                       'Harry Potter you are a wizard',\n",
        "                       'Kaz ate cheese and bread and Inej loved it '\n",
        "                       ])"
      ],
      "metadata": {
        "colab": {
          "base_uri": "https://localhost:8080/"
        },
        "id": "ptwXkSSFLBsc",
        "outputId": "49237a30-ea06-4191-d2ff-58a2f31da267"
      },
      "execution_count": null,
      "outputs": [
        {
          "output_type": "stream",
          "name": "stdout",
          "text": [
            "INFO:tensorflow:Writing example 0 of 4\n"
          ]
        },
        {
          "output_type": "stream",
          "name": "stderr",
          "text": [
            "INFO:tensorflow:Writing example 0 of 4\n"
          ]
        },
        {
          "output_type": "stream",
          "name": "stdout",
          "text": [
            "INFO:tensorflow:*** Example ***\n"
          ]
        },
        {
          "output_type": "stream",
          "name": "stderr",
          "text": [
            "INFO:tensorflow:*** Example ***\n"
          ]
        },
        {
          "output_type": "stream",
          "name": "stdout",
          "text": [
            "INFO:tensorflow:guid: \n"
          ]
        },
        {
          "output_type": "stream",
          "name": "stderr",
          "text": [
            "INFO:tensorflow:guid: \n"
          ]
        },
        {
          "output_type": "stream",
          "name": "stdout",
          "text": [
            "INFO:tensorflow:tokens: [CLS] sherlock holmes is fat and sq ##uis ##hy [SEP]\n"
          ]
        },
        {
          "output_type": "stream",
          "name": "stderr",
          "text": [
            "INFO:tensorflow:tokens: [CLS] sherlock holmes is fat and sq ##uis ##hy [SEP]\n"
          ]
        },
        {
          "output_type": "stream",
          "name": "stdout",
          "text": [
            "INFO:tensorflow:input_ids: 101 20052 9106 2003 6638 1998 5490 27020 10536 102 0 0 0 0 0 0 0 0 0 0 0 0 0 0 0 0 0 0 0 0 0 0 0 0 0 0 0 0 0 0 0 0 0 0 0 0 0 0 0 0 0 0 0 0 0 0 0 0 0 0 0 0 0 0 0 0 0 0 0 0 0 0 0 0 0 0 0 0 0 0 0 0 0 0 0 0 0 0 0 0 0 0 0 0 0 0 0 0 0 0 0 0 0 0 0 0 0 0 0 0 0 0 0 0 0 0 0 0 0 0 0 0 0 0 0 0 0 0 0 0 0 0 0 0 0 0 0 0 0 0 0 0 0 0 0 0 0 0 0 0 0 0 0 0 0 0 0 0 0 0 0 0 0 0 0 0 0 0 0 0 0 0 0 0 0 0 0 0 0 0 0 0 0 0 0 0 0 0 0 0 0 0 0 0 0 0 0 0 0 0 0 0 0 0 0 0 0 0 0 0 0 0 0 0 0 0 0 0 0 0 0 0 0 0 0 0 0 0 0 0 0 0 0 0 0 0 0 0 0 0 0 0 0 0 0 0 0 0 0 0 0 0 0 0 0 0 0 0 0 0 0 0 0 0 0 0 0 0 0 0 0 0 0 0 0 0 0 0 0 0 0 0 0 0 0 0 0 0 0 0 0 0 0 0 0 0 0 0 0 0 0 0 0 0 0 0 0 0 0 0 0 0 0 0 0 0 0 0 0 0 0 0 0 0 0 0 0 0 0 0 0 0 0 0 0 0 0 0 0 0 0 0 0 0 0 0 0 0 0 0 0 0 0 0 0 0 0 0 0 0 0 0 0 0 0 0 0 0 0 0 0 0 0 0 0 0 0 0 0 0 0 0 0 0 0 0 0 0 0 0 0 0 0 0 0 0 0 0 0 0 0 0 0 0 0 0 0 0 0 0 0 0 0 0 0 0 0 0 0 0 0 0 0 0 0 0 0 0 0 0 0 0 0 0 0 0 0 0 0 0 0 0 0 0 0 0 0 0 0 0 0 0 0 0 0 0 0 0 0 0 0 0 0 0 0 0 0 0 0 0 0 0 0 0 0 0 0 0 0 0 0 0 0 0 0 0 0 0 0 0 0 0 0 0 0 0 0 0 0 0 0 0 0 0 0 0 0 0 0 0 0 0\n"
          ]
        },
        {
          "output_type": "stream",
          "name": "stderr",
          "text": [
            "INFO:tensorflow:input_ids: 101 20052 9106 2003 6638 1998 5490 27020 10536 102 0 0 0 0 0 0 0 0 0 0 0 0 0 0 0 0 0 0 0 0 0 0 0 0 0 0 0 0 0 0 0 0 0 0 0 0 0 0 0 0 0 0 0 0 0 0 0 0 0 0 0 0 0 0 0 0 0 0 0 0 0 0 0 0 0 0 0 0 0 0 0 0 0 0 0 0 0 0 0 0 0 0 0 0 0 0 0 0 0 0 0 0 0 0 0 0 0 0 0 0 0 0 0 0 0 0 0 0 0 0 0 0 0 0 0 0 0 0 0 0 0 0 0 0 0 0 0 0 0 0 0 0 0 0 0 0 0 0 0 0 0 0 0 0 0 0 0 0 0 0 0 0 0 0 0 0 0 0 0 0 0 0 0 0 0 0 0 0 0 0 0 0 0 0 0 0 0 0 0 0 0 0 0 0 0 0 0 0 0 0 0 0 0 0 0 0 0 0 0 0 0 0 0 0 0 0 0 0 0 0 0 0 0 0 0 0 0 0 0 0 0 0 0 0 0 0 0 0 0 0 0 0 0 0 0 0 0 0 0 0 0 0 0 0 0 0 0 0 0 0 0 0 0 0 0 0 0 0 0 0 0 0 0 0 0 0 0 0 0 0 0 0 0 0 0 0 0 0 0 0 0 0 0 0 0 0 0 0 0 0 0 0 0 0 0 0 0 0 0 0 0 0 0 0 0 0 0 0 0 0 0 0 0 0 0 0 0 0 0 0 0 0 0 0 0 0 0 0 0 0 0 0 0 0 0 0 0 0 0 0 0 0 0 0 0 0 0 0 0 0 0 0 0 0 0 0 0 0 0 0 0 0 0 0 0 0 0 0 0 0 0 0 0 0 0 0 0 0 0 0 0 0 0 0 0 0 0 0 0 0 0 0 0 0 0 0 0 0 0 0 0 0 0 0 0 0 0 0 0 0 0 0 0 0 0 0 0 0 0 0 0 0 0 0 0 0 0 0 0 0 0 0 0 0 0 0 0 0 0 0 0 0 0 0 0 0 0 0 0 0 0 0 0 0 0 0 0 0 0 0 0 0 0 0 0 0 0 0 0 0 0 0 0 0 0 0 0 0 0 0 0 0 0 0 0 0 0 0 0 0 0 0 0 0 0 0 0 0 0 0 0 0\n"
          ]
        },
        {
          "output_type": "stream",
          "name": "stdout",
          "text": [
            "INFO:tensorflow:input_mask: 1 1 1 1 1 1 1 1 1 1 0 0 0 0 0 0 0 0 0 0 0 0 0 0 0 0 0 0 0 0 0 0 0 0 0 0 0 0 0 0 0 0 0 0 0 0 0 0 0 0 0 0 0 0 0 0 0 0 0 0 0 0 0 0 0 0 0 0 0 0 0 0 0 0 0 0 0 0 0 0 0 0 0 0 0 0 0 0 0 0 0 0 0 0 0 0 0 0 0 0 0 0 0 0 0 0 0 0 0 0 0 0 0 0 0 0 0 0 0 0 0 0 0 0 0 0 0 0 0 0 0 0 0 0 0 0 0 0 0 0 0 0 0 0 0 0 0 0 0 0 0 0 0 0 0 0 0 0 0 0 0 0 0 0 0 0 0 0 0 0 0 0 0 0 0 0 0 0 0 0 0 0 0 0 0 0 0 0 0 0 0 0 0 0 0 0 0 0 0 0 0 0 0 0 0 0 0 0 0 0 0 0 0 0 0 0 0 0 0 0 0 0 0 0 0 0 0 0 0 0 0 0 0 0 0 0 0 0 0 0 0 0 0 0 0 0 0 0 0 0 0 0 0 0 0 0 0 0 0 0 0 0 0 0 0 0 0 0 0 0 0 0 0 0 0 0 0 0 0 0 0 0 0 0 0 0 0 0 0 0 0 0 0 0 0 0 0 0 0 0 0 0 0 0 0 0 0 0 0 0 0 0 0 0 0 0 0 0 0 0 0 0 0 0 0 0 0 0 0 0 0 0 0 0 0 0 0 0 0 0 0 0 0 0 0 0 0 0 0 0 0 0 0 0 0 0 0 0 0 0 0 0 0 0 0 0 0 0 0 0 0 0 0 0 0 0 0 0 0 0 0 0 0 0 0 0 0 0 0 0 0 0 0 0 0 0 0 0 0 0 0 0 0 0 0 0 0 0 0 0 0 0 0 0 0 0 0 0 0 0 0 0 0 0 0 0 0 0 0 0 0 0 0 0 0 0 0 0 0 0 0 0 0 0 0 0 0 0 0 0 0 0 0 0 0 0 0 0 0 0 0 0 0 0 0 0 0 0 0 0 0 0 0 0 0 0 0 0 0 0 0 0 0 0 0 0 0 0 0 0 0 0 0 0 0 0 0 0 0 0 0 0 0 0 0 0 0 0 0 0 0 0\n"
          ]
        },
        {
          "output_type": "stream",
          "name": "stderr",
          "text": [
            "INFO:tensorflow:input_mask: 1 1 1 1 1 1 1 1 1 1 0 0 0 0 0 0 0 0 0 0 0 0 0 0 0 0 0 0 0 0 0 0 0 0 0 0 0 0 0 0 0 0 0 0 0 0 0 0 0 0 0 0 0 0 0 0 0 0 0 0 0 0 0 0 0 0 0 0 0 0 0 0 0 0 0 0 0 0 0 0 0 0 0 0 0 0 0 0 0 0 0 0 0 0 0 0 0 0 0 0 0 0 0 0 0 0 0 0 0 0 0 0 0 0 0 0 0 0 0 0 0 0 0 0 0 0 0 0 0 0 0 0 0 0 0 0 0 0 0 0 0 0 0 0 0 0 0 0 0 0 0 0 0 0 0 0 0 0 0 0 0 0 0 0 0 0 0 0 0 0 0 0 0 0 0 0 0 0 0 0 0 0 0 0 0 0 0 0 0 0 0 0 0 0 0 0 0 0 0 0 0 0 0 0 0 0 0 0 0 0 0 0 0 0 0 0 0 0 0 0 0 0 0 0 0 0 0 0 0 0 0 0 0 0 0 0 0 0 0 0 0 0 0 0 0 0 0 0 0 0 0 0 0 0 0 0 0 0 0 0 0 0 0 0 0 0 0 0 0 0 0 0 0 0 0 0 0 0 0 0 0 0 0 0 0 0 0 0 0 0 0 0 0 0 0 0 0 0 0 0 0 0 0 0 0 0 0 0 0 0 0 0 0 0 0 0 0 0 0 0 0 0 0 0 0 0 0 0 0 0 0 0 0 0 0 0 0 0 0 0 0 0 0 0 0 0 0 0 0 0 0 0 0 0 0 0 0 0 0 0 0 0 0 0 0 0 0 0 0 0 0 0 0 0 0 0 0 0 0 0 0 0 0 0 0 0 0 0 0 0 0 0 0 0 0 0 0 0 0 0 0 0 0 0 0 0 0 0 0 0 0 0 0 0 0 0 0 0 0 0 0 0 0 0 0 0 0 0 0 0 0 0 0 0 0 0 0 0 0 0 0 0 0 0 0 0 0 0 0 0 0 0 0 0 0 0 0 0 0 0 0 0 0 0 0 0 0 0 0 0 0 0 0 0 0 0 0 0 0 0 0 0 0 0 0 0 0 0 0 0 0 0 0 0 0 0 0 0 0 0 0 0 0 0 0 0 0 0 0 0 0 0\n"
          ]
        },
        {
          "output_type": "stream",
          "name": "stdout",
          "text": [
            "INFO:tensorflow:segment_ids: 0 0 0 0 0 0 0 0 0 0 0 0 0 0 0 0 0 0 0 0 0 0 0 0 0 0 0 0 0 0 0 0 0 0 0 0 0 0 0 0 0 0 0 0 0 0 0 0 0 0 0 0 0 0 0 0 0 0 0 0 0 0 0 0 0 0 0 0 0 0 0 0 0 0 0 0 0 0 0 0 0 0 0 0 0 0 0 0 0 0 0 0 0 0 0 0 0 0 0 0 0 0 0 0 0 0 0 0 0 0 0 0 0 0 0 0 0 0 0 0 0 0 0 0 0 0 0 0 0 0 0 0 0 0 0 0 0 0 0 0 0 0 0 0 0 0 0 0 0 0 0 0 0 0 0 0 0 0 0 0 0 0 0 0 0 0 0 0 0 0 0 0 0 0 0 0 0 0 0 0 0 0 0 0 0 0 0 0 0 0 0 0 0 0 0 0 0 0 0 0 0 0 0 0 0 0 0 0 0 0 0 0 0 0 0 0 0 0 0 0 0 0 0 0 0 0 0 0 0 0 0 0 0 0 0 0 0 0 0 0 0 0 0 0 0 0 0 0 0 0 0 0 0 0 0 0 0 0 0 0 0 0 0 0 0 0 0 0 0 0 0 0 0 0 0 0 0 0 0 0 0 0 0 0 0 0 0 0 0 0 0 0 0 0 0 0 0 0 0 0 0 0 0 0 0 0 0 0 0 0 0 0 0 0 0 0 0 0 0 0 0 0 0 0 0 0 0 0 0 0 0 0 0 0 0 0 0 0 0 0 0 0 0 0 0 0 0 0 0 0 0 0 0 0 0 0 0 0 0 0 0 0 0 0 0 0 0 0 0 0 0 0 0 0 0 0 0 0 0 0 0 0 0 0 0 0 0 0 0 0 0 0 0 0 0 0 0 0 0 0 0 0 0 0 0 0 0 0 0 0 0 0 0 0 0 0 0 0 0 0 0 0 0 0 0 0 0 0 0 0 0 0 0 0 0 0 0 0 0 0 0 0 0 0 0 0 0 0 0 0 0 0 0 0 0 0 0 0 0 0 0 0 0 0 0 0 0 0 0 0 0 0 0 0 0 0 0 0 0 0 0 0 0 0 0 0 0 0 0 0 0 0 0 0 0 0 0 0 0 0 0 0 0 0 0 0 0 0 0 0 0 0\n"
          ]
        },
        {
          "output_type": "stream",
          "name": "stderr",
          "text": [
            "INFO:tensorflow:segment_ids: 0 0 0 0 0 0 0 0 0 0 0 0 0 0 0 0 0 0 0 0 0 0 0 0 0 0 0 0 0 0 0 0 0 0 0 0 0 0 0 0 0 0 0 0 0 0 0 0 0 0 0 0 0 0 0 0 0 0 0 0 0 0 0 0 0 0 0 0 0 0 0 0 0 0 0 0 0 0 0 0 0 0 0 0 0 0 0 0 0 0 0 0 0 0 0 0 0 0 0 0 0 0 0 0 0 0 0 0 0 0 0 0 0 0 0 0 0 0 0 0 0 0 0 0 0 0 0 0 0 0 0 0 0 0 0 0 0 0 0 0 0 0 0 0 0 0 0 0 0 0 0 0 0 0 0 0 0 0 0 0 0 0 0 0 0 0 0 0 0 0 0 0 0 0 0 0 0 0 0 0 0 0 0 0 0 0 0 0 0 0 0 0 0 0 0 0 0 0 0 0 0 0 0 0 0 0 0 0 0 0 0 0 0 0 0 0 0 0 0 0 0 0 0 0 0 0 0 0 0 0 0 0 0 0 0 0 0 0 0 0 0 0 0 0 0 0 0 0 0 0 0 0 0 0 0 0 0 0 0 0 0 0 0 0 0 0 0 0 0 0 0 0 0 0 0 0 0 0 0 0 0 0 0 0 0 0 0 0 0 0 0 0 0 0 0 0 0 0 0 0 0 0 0 0 0 0 0 0 0 0 0 0 0 0 0 0 0 0 0 0 0 0 0 0 0 0 0 0 0 0 0 0 0 0 0 0 0 0 0 0 0 0 0 0 0 0 0 0 0 0 0 0 0 0 0 0 0 0 0 0 0 0 0 0 0 0 0 0 0 0 0 0 0 0 0 0 0 0 0 0 0 0 0 0 0 0 0 0 0 0 0 0 0 0 0 0 0 0 0 0 0 0 0 0 0 0 0 0 0 0 0 0 0 0 0 0 0 0 0 0 0 0 0 0 0 0 0 0 0 0 0 0 0 0 0 0 0 0 0 0 0 0 0 0 0 0 0 0 0 0 0 0 0 0 0 0 0 0 0 0 0 0 0 0 0 0 0 0 0 0 0 0 0 0 0 0 0 0 0 0 0 0 0 0 0 0 0 0 0 0 0 0 0 0 0 0 0 0 0 0 0 0 0 0 0 0 0 0 0 0 0 0\n"
          ]
        },
        {
          "output_type": "stream",
          "name": "stdout",
          "text": [
            "INFO:tensorflow:label: 0 (id = 0)\n"
          ]
        },
        {
          "output_type": "stream",
          "name": "stderr",
          "text": [
            "INFO:tensorflow:label: 0 (id = 0)\n"
          ]
        },
        {
          "output_type": "stream",
          "name": "stdout",
          "text": [
            "INFO:tensorflow:*** Example ***\n"
          ]
        },
        {
          "output_type": "stream",
          "name": "stderr",
          "text": [
            "INFO:tensorflow:*** Example ***\n"
          ]
        },
        {
          "output_type": "stream",
          "name": "stdout",
          "text": [
            "INFO:tensorflow:guid: \n"
          ]
        },
        {
          "output_type": "stream",
          "name": "stderr",
          "text": [
            "INFO:tensorflow:guid: \n"
          ]
        },
        {
          "output_type": "stream",
          "name": "stdout",
          "text": [
            "INFO:tensorflow:tokens: [CLS] james bond will give us big kisses [SEP]\n"
          ]
        },
        {
          "output_type": "stream",
          "name": "stderr",
          "text": [
            "INFO:tensorflow:tokens: [CLS] james bond will give us big kisses [SEP]\n"
          ]
        },
        {
          "output_type": "stream",
          "name": "stdout",
          "text": [
            "INFO:tensorflow:input_ids: 101 2508 5416 2097 2507 2149 2502 8537 102 0 0 0 0 0 0 0 0 0 0 0 0 0 0 0 0 0 0 0 0 0 0 0 0 0 0 0 0 0 0 0 0 0 0 0 0 0 0 0 0 0 0 0 0 0 0 0 0 0 0 0 0 0 0 0 0 0 0 0 0 0 0 0 0 0 0 0 0 0 0 0 0 0 0 0 0 0 0 0 0 0 0 0 0 0 0 0 0 0 0 0 0 0 0 0 0 0 0 0 0 0 0 0 0 0 0 0 0 0 0 0 0 0 0 0 0 0 0 0 0 0 0 0 0 0 0 0 0 0 0 0 0 0 0 0 0 0 0 0 0 0 0 0 0 0 0 0 0 0 0 0 0 0 0 0 0 0 0 0 0 0 0 0 0 0 0 0 0 0 0 0 0 0 0 0 0 0 0 0 0 0 0 0 0 0 0 0 0 0 0 0 0 0 0 0 0 0 0 0 0 0 0 0 0 0 0 0 0 0 0 0 0 0 0 0 0 0 0 0 0 0 0 0 0 0 0 0 0 0 0 0 0 0 0 0 0 0 0 0 0 0 0 0 0 0 0 0 0 0 0 0 0 0 0 0 0 0 0 0 0 0 0 0 0 0 0 0 0 0 0 0 0 0 0 0 0 0 0 0 0 0 0 0 0 0 0 0 0 0 0 0 0 0 0 0 0 0 0 0 0 0 0 0 0 0 0 0 0 0 0 0 0 0 0 0 0 0 0 0 0 0 0 0 0 0 0 0 0 0 0 0 0 0 0 0 0 0 0 0 0 0 0 0 0 0 0 0 0 0 0 0 0 0 0 0 0 0 0 0 0 0 0 0 0 0 0 0 0 0 0 0 0 0 0 0 0 0 0 0 0 0 0 0 0 0 0 0 0 0 0 0 0 0 0 0 0 0 0 0 0 0 0 0 0 0 0 0 0 0 0 0 0 0 0 0 0 0 0 0 0 0 0 0 0 0 0 0 0 0 0 0 0 0 0 0 0 0 0 0 0 0 0 0 0 0 0 0 0 0 0 0 0 0 0 0 0 0 0 0 0 0 0 0 0 0 0 0 0 0 0 0 0 0 0 0 0 0 0 0 0 0 0 0 0 0 0 0 0 0 0 0 0 0 0 0 0 0 0 0 0 0 0 0\n"
          ]
        },
        {
          "output_type": "stream",
          "name": "stderr",
          "text": [
            "INFO:tensorflow:input_ids: 101 2508 5416 2097 2507 2149 2502 8537 102 0 0 0 0 0 0 0 0 0 0 0 0 0 0 0 0 0 0 0 0 0 0 0 0 0 0 0 0 0 0 0 0 0 0 0 0 0 0 0 0 0 0 0 0 0 0 0 0 0 0 0 0 0 0 0 0 0 0 0 0 0 0 0 0 0 0 0 0 0 0 0 0 0 0 0 0 0 0 0 0 0 0 0 0 0 0 0 0 0 0 0 0 0 0 0 0 0 0 0 0 0 0 0 0 0 0 0 0 0 0 0 0 0 0 0 0 0 0 0 0 0 0 0 0 0 0 0 0 0 0 0 0 0 0 0 0 0 0 0 0 0 0 0 0 0 0 0 0 0 0 0 0 0 0 0 0 0 0 0 0 0 0 0 0 0 0 0 0 0 0 0 0 0 0 0 0 0 0 0 0 0 0 0 0 0 0 0 0 0 0 0 0 0 0 0 0 0 0 0 0 0 0 0 0 0 0 0 0 0 0 0 0 0 0 0 0 0 0 0 0 0 0 0 0 0 0 0 0 0 0 0 0 0 0 0 0 0 0 0 0 0 0 0 0 0 0 0 0 0 0 0 0 0 0 0 0 0 0 0 0 0 0 0 0 0 0 0 0 0 0 0 0 0 0 0 0 0 0 0 0 0 0 0 0 0 0 0 0 0 0 0 0 0 0 0 0 0 0 0 0 0 0 0 0 0 0 0 0 0 0 0 0 0 0 0 0 0 0 0 0 0 0 0 0 0 0 0 0 0 0 0 0 0 0 0 0 0 0 0 0 0 0 0 0 0 0 0 0 0 0 0 0 0 0 0 0 0 0 0 0 0 0 0 0 0 0 0 0 0 0 0 0 0 0 0 0 0 0 0 0 0 0 0 0 0 0 0 0 0 0 0 0 0 0 0 0 0 0 0 0 0 0 0 0 0 0 0 0 0 0 0 0 0 0 0 0 0 0 0 0 0 0 0 0 0 0 0 0 0 0 0 0 0 0 0 0 0 0 0 0 0 0 0 0 0 0 0 0 0 0 0 0 0 0 0 0 0 0 0 0 0 0 0 0 0 0 0 0 0 0 0 0 0 0 0 0 0 0 0 0 0 0 0 0 0 0 0 0 0 0 0 0 0 0 0 0 0 0 0 0 0 0 0\n"
          ]
        },
        {
          "output_type": "stream",
          "name": "stdout",
          "text": [
            "INFO:tensorflow:input_mask: 1 1 1 1 1 1 1 1 1 0 0 0 0 0 0 0 0 0 0 0 0 0 0 0 0 0 0 0 0 0 0 0 0 0 0 0 0 0 0 0 0 0 0 0 0 0 0 0 0 0 0 0 0 0 0 0 0 0 0 0 0 0 0 0 0 0 0 0 0 0 0 0 0 0 0 0 0 0 0 0 0 0 0 0 0 0 0 0 0 0 0 0 0 0 0 0 0 0 0 0 0 0 0 0 0 0 0 0 0 0 0 0 0 0 0 0 0 0 0 0 0 0 0 0 0 0 0 0 0 0 0 0 0 0 0 0 0 0 0 0 0 0 0 0 0 0 0 0 0 0 0 0 0 0 0 0 0 0 0 0 0 0 0 0 0 0 0 0 0 0 0 0 0 0 0 0 0 0 0 0 0 0 0 0 0 0 0 0 0 0 0 0 0 0 0 0 0 0 0 0 0 0 0 0 0 0 0 0 0 0 0 0 0 0 0 0 0 0 0 0 0 0 0 0 0 0 0 0 0 0 0 0 0 0 0 0 0 0 0 0 0 0 0 0 0 0 0 0 0 0 0 0 0 0 0 0 0 0 0 0 0 0 0 0 0 0 0 0 0 0 0 0 0 0 0 0 0 0 0 0 0 0 0 0 0 0 0 0 0 0 0 0 0 0 0 0 0 0 0 0 0 0 0 0 0 0 0 0 0 0 0 0 0 0 0 0 0 0 0 0 0 0 0 0 0 0 0 0 0 0 0 0 0 0 0 0 0 0 0 0 0 0 0 0 0 0 0 0 0 0 0 0 0 0 0 0 0 0 0 0 0 0 0 0 0 0 0 0 0 0 0 0 0 0 0 0 0 0 0 0 0 0 0 0 0 0 0 0 0 0 0 0 0 0 0 0 0 0 0 0 0 0 0 0 0 0 0 0 0 0 0 0 0 0 0 0 0 0 0 0 0 0 0 0 0 0 0 0 0 0 0 0 0 0 0 0 0 0 0 0 0 0 0 0 0 0 0 0 0 0 0 0 0 0 0 0 0 0 0 0 0 0 0 0 0 0 0 0 0 0 0 0 0 0 0 0 0 0 0 0 0 0 0 0 0 0 0 0 0 0 0 0 0 0 0 0 0 0 0 0 0 0 0 0 0 0 0 0 0 0 0 0\n"
          ]
        },
        {
          "output_type": "stream",
          "name": "stderr",
          "text": [
            "INFO:tensorflow:input_mask: 1 1 1 1 1 1 1 1 1 0 0 0 0 0 0 0 0 0 0 0 0 0 0 0 0 0 0 0 0 0 0 0 0 0 0 0 0 0 0 0 0 0 0 0 0 0 0 0 0 0 0 0 0 0 0 0 0 0 0 0 0 0 0 0 0 0 0 0 0 0 0 0 0 0 0 0 0 0 0 0 0 0 0 0 0 0 0 0 0 0 0 0 0 0 0 0 0 0 0 0 0 0 0 0 0 0 0 0 0 0 0 0 0 0 0 0 0 0 0 0 0 0 0 0 0 0 0 0 0 0 0 0 0 0 0 0 0 0 0 0 0 0 0 0 0 0 0 0 0 0 0 0 0 0 0 0 0 0 0 0 0 0 0 0 0 0 0 0 0 0 0 0 0 0 0 0 0 0 0 0 0 0 0 0 0 0 0 0 0 0 0 0 0 0 0 0 0 0 0 0 0 0 0 0 0 0 0 0 0 0 0 0 0 0 0 0 0 0 0 0 0 0 0 0 0 0 0 0 0 0 0 0 0 0 0 0 0 0 0 0 0 0 0 0 0 0 0 0 0 0 0 0 0 0 0 0 0 0 0 0 0 0 0 0 0 0 0 0 0 0 0 0 0 0 0 0 0 0 0 0 0 0 0 0 0 0 0 0 0 0 0 0 0 0 0 0 0 0 0 0 0 0 0 0 0 0 0 0 0 0 0 0 0 0 0 0 0 0 0 0 0 0 0 0 0 0 0 0 0 0 0 0 0 0 0 0 0 0 0 0 0 0 0 0 0 0 0 0 0 0 0 0 0 0 0 0 0 0 0 0 0 0 0 0 0 0 0 0 0 0 0 0 0 0 0 0 0 0 0 0 0 0 0 0 0 0 0 0 0 0 0 0 0 0 0 0 0 0 0 0 0 0 0 0 0 0 0 0 0 0 0 0 0 0 0 0 0 0 0 0 0 0 0 0 0 0 0 0 0 0 0 0 0 0 0 0 0 0 0 0 0 0 0 0 0 0 0 0 0 0 0 0 0 0 0 0 0 0 0 0 0 0 0 0 0 0 0 0 0 0 0 0 0 0 0 0 0 0 0 0 0 0 0 0 0 0 0 0 0 0 0 0 0 0 0 0 0 0 0 0 0 0 0 0 0 0 0 0 0 0 0 0\n"
          ]
        },
        {
          "output_type": "stream",
          "name": "stdout",
          "text": [
            "INFO:tensorflow:segment_ids: 0 0 0 0 0 0 0 0 0 0 0 0 0 0 0 0 0 0 0 0 0 0 0 0 0 0 0 0 0 0 0 0 0 0 0 0 0 0 0 0 0 0 0 0 0 0 0 0 0 0 0 0 0 0 0 0 0 0 0 0 0 0 0 0 0 0 0 0 0 0 0 0 0 0 0 0 0 0 0 0 0 0 0 0 0 0 0 0 0 0 0 0 0 0 0 0 0 0 0 0 0 0 0 0 0 0 0 0 0 0 0 0 0 0 0 0 0 0 0 0 0 0 0 0 0 0 0 0 0 0 0 0 0 0 0 0 0 0 0 0 0 0 0 0 0 0 0 0 0 0 0 0 0 0 0 0 0 0 0 0 0 0 0 0 0 0 0 0 0 0 0 0 0 0 0 0 0 0 0 0 0 0 0 0 0 0 0 0 0 0 0 0 0 0 0 0 0 0 0 0 0 0 0 0 0 0 0 0 0 0 0 0 0 0 0 0 0 0 0 0 0 0 0 0 0 0 0 0 0 0 0 0 0 0 0 0 0 0 0 0 0 0 0 0 0 0 0 0 0 0 0 0 0 0 0 0 0 0 0 0 0 0 0 0 0 0 0 0 0 0 0 0 0 0 0 0 0 0 0 0 0 0 0 0 0 0 0 0 0 0 0 0 0 0 0 0 0 0 0 0 0 0 0 0 0 0 0 0 0 0 0 0 0 0 0 0 0 0 0 0 0 0 0 0 0 0 0 0 0 0 0 0 0 0 0 0 0 0 0 0 0 0 0 0 0 0 0 0 0 0 0 0 0 0 0 0 0 0 0 0 0 0 0 0 0 0 0 0 0 0 0 0 0 0 0 0 0 0 0 0 0 0 0 0 0 0 0 0 0 0 0 0 0 0 0 0 0 0 0 0 0 0 0 0 0 0 0 0 0 0 0 0 0 0 0 0 0 0 0 0 0 0 0 0 0 0 0 0 0 0 0 0 0 0 0 0 0 0 0 0 0 0 0 0 0 0 0 0 0 0 0 0 0 0 0 0 0 0 0 0 0 0 0 0 0 0 0 0 0 0 0 0 0 0 0 0 0 0 0 0 0 0 0 0 0 0 0 0 0 0 0 0 0 0 0 0 0 0 0 0 0 0 0 0 0 0 0 0 0 0 0 0\n"
          ]
        },
        {
          "output_type": "stream",
          "name": "stderr",
          "text": [
            "INFO:tensorflow:segment_ids: 0 0 0 0 0 0 0 0 0 0 0 0 0 0 0 0 0 0 0 0 0 0 0 0 0 0 0 0 0 0 0 0 0 0 0 0 0 0 0 0 0 0 0 0 0 0 0 0 0 0 0 0 0 0 0 0 0 0 0 0 0 0 0 0 0 0 0 0 0 0 0 0 0 0 0 0 0 0 0 0 0 0 0 0 0 0 0 0 0 0 0 0 0 0 0 0 0 0 0 0 0 0 0 0 0 0 0 0 0 0 0 0 0 0 0 0 0 0 0 0 0 0 0 0 0 0 0 0 0 0 0 0 0 0 0 0 0 0 0 0 0 0 0 0 0 0 0 0 0 0 0 0 0 0 0 0 0 0 0 0 0 0 0 0 0 0 0 0 0 0 0 0 0 0 0 0 0 0 0 0 0 0 0 0 0 0 0 0 0 0 0 0 0 0 0 0 0 0 0 0 0 0 0 0 0 0 0 0 0 0 0 0 0 0 0 0 0 0 0 0 0 0 0 0 0 0 0 0 0 0 0 0 0 0 0 0 0 0 0 0 0 0 0 0 0 0 0 0 0 0 0 0 0 0 0 0 0 0 0 0 0 0 0 0 0 0 0 0 0 0 0 0 0 0 0 0 0 0 0 0 0 0 0 0 0 0 0 0 0 0 0 0 0 0 0 0 0 0 0 0 0 0 0 0 0 0 0 0 0 0 0 0 0 0 0 0 0 0 0 0 0 0 0 0 0 0 0 0 0 0 0 0 0 0 0 0 0 0 0 0 0 0 0 0 0 0 0 0 0 0 0 0 0 0 0 0 0 0 0 0 0 0 0 0 0 0 0 0 0 0 0 0 0 0 0 0 0 0 0 0 0 0 0 0 0 0 0 0 0 0 0 0 0 0 0 0 0 0 0 0 0 0 0 0 0 0 0 0 0 0 0 0 0 0 0 0 0 0 0 0 0 0 0 0 0 0 0 0 0 0 0 0 0 0 0 0 0 0 0 0 0 0 0 0 0 0 0 0 0 0 0 0 0 0 0 0 0 0 0 0 0 0 0 0 0 0 0 0 0 0 0 0 0 0 0 0 0 0 0 0 0 0 0 0 0 0 0 0 0 0 0 0 0 0 0 0 0 0 0 0 0 0 0 0 0 0 0 0 0 0 0 0\n"
          ]
        },
        {
          "output_type": "stream",
          "name": "stdout",
          "text": [
            "INFO:tensorflow:label: 0 (id = 0)\n"
          ]
        },
        {
          "output_type": "stream",
          "name": "stderr",
          "text": [
            "INFO:tensorflow:label: 0 (id = 0)\n"
          ]
        },
        {
          "output_type": "stream",
          "name": "stdout",
          "text": [
            "INFO:tensorflow:*** Example ***\n"
          ]
        },
        {
          "output_type": "stream",
          "name": "stderr",
          "text": [
            "INFO:tensorflow:*** Example ***\n"
          ]
        },
        {
          "output_type": "stream",
          "name": "stdout",
          "text": [
            "INFO:tensorflow:guid: \n"
          ]
        },
        {
          "output_type": "stream",
          "name": "stderr",
          "text": [
            "INFO:tensorflow:guid: \n"
          ]
        },
        {
          "output_type": "stream",
          "name": "stdout",
          "text": [
            "INFO:tensorflow:tokens: [CLS] harry potter you are a wizard [SEP]\n"
          ]
        },
        {
          "output_type": "stream",
          "name": "stderr",
          "text": [
            "INFO:tensorflow:tokens: [CLS] harry potter you are a wizard [SEP]\n"
          ]
        },
        {
          "output_type": "stream",
          "name": "stdout",
          "text": [
            "INFO:tensorflow:input_ids: 101 4302 10693 2017 2024 1037 10276 102 0 0 0 0 0 0 0 0 0 0 0 0 0 0 0 0 0 0 0 0 0 0 0 0 0 0 0 0 0 0 0 0 0 0 0 0 0 0 0 0 0 0 0 0 0 0 0 0 0 0 0 0 0 0 0 0 0 0 0 0 0 0 0 0 0 0 0 0 0 0 0 0 0 0 0 0 0 0 0 0 0 0 0 0 0 0 0 0 0 0 0 0 0 0 0 0 0 0 0 0 0 0 0 0 0 0 0 0 0 0 0 0 0 0 0 0 0 0 0 0 0 0 0 0 0 0 0 0 0 0 0 0 0 0 0 0 0 0 0 0 0 0 0 0 0 0 0 0 0 0 0 0 0 0 0 0 0 0 0 0 0 0 0 0 0 0 0 0 0 0 0 0 0 0 0 0 0 0 0 0 0 0 0 0 0 0 0 0 0 0 0 0 0 0 0 0 0 0 0 0 0 0 0 0 0 0 0 0 0 0 0 0 0 0 0 0 0 0 0 0 0 0 0 0 0 0 0 0 0 0 0 0 0 0 0 0 0 0 0 0 0 0 0 0 0 0 0 0 0 0 0 0 0 0 0 0 0 0 0 0 0 0 0 0 0 0 0 0 0 0 0 0 0 0 0 0 0 0 0 0 0 0 0 0 0 0 0 0 0 0 0 0 0 0 0 0 0 0 0 0 0 0 0 0 0 0 0 0 0 0 0 0 0 0 0 0 0 0 0 0 0 0 0 0 0 0 0 0 0 0 0 0 0 0 0 0 0 0 0 0 0 0 0 0 0 0 0 0 0 0 0 0 0 0 0 0 0 0 0 0 0 0 0 0 0 0 0 0 0 0 0 0 0 0 0 0 0 0 0 0 0 0 0 0 0 0 0 0 0 0 0 0 0 0 0 0 0 0 0 0 0 0 0 0 0 0 0 0 0 0 0 0 0 0 0 0 0 0 0 0 0 0 0 0 0 0 0 0 0 0 0 0 0 0 0 0 0 0 0 0 0 0 0 0 0 0 0 0 0 0 0 0 0 0 0 0 0 0 0 0 0 0 0 0 0 0 0 0 0 0 0 0 0 0 0 0 0 0 0 0 0 0 0 0 0 0 0 0 0 0 0 0 0 0 0 0 0 0 0 0 0 0 0 0\n"
          ]
        },
        {
          "output_type": "stream",
          "name": "stderr",
          "text": [
            "INFO:tensorflow:input_ids: 101 4302 10693 2017 2024 1037 10276 102 0 0 0 0 0 0 0 0 0 0 0 0 0 0 0 0 0 0 0 0 0 0 0 0 0 0 0 0 0 0 0 0 0 0 0 0 0 0 0 0 0 0 0 0 0 0 0 0 0 0 0 0 0 0 0 0 0 0 0 0 0 0 0 0 0 0 0 0 0 0 0 0 0 0 0 0 0 0 0 0 0 0 0 0 0 0 0 0 0 0 0 0 0 0 0 0 0 0 0 0 0 0 0 0 0 0 0 0 0 0 0 0 0 0 0 0 0 0 0 0 0 0 0 0 0 0 0 0 0 0 0 0 0 0 0 0 0 0 0 0 0 0 0 0 0 0 0 0 0 0 0 0 0 0 0 0 0 0 0 0 0 0 0 0 0 0 0 0 0 0 0 0 0 0 0 0 0 0 0 0 0 0 0 0 0 0 0 0 0 0 0 0 0 0 0 0 0 0 0 0 0 0 0 0 0 0 0 0 0 0 0 0 0 0 0 0 0 0 0 0 0 0 0 0 0 0 0 0 0 0 0 0 0 0 0 0 0 0 0 0 0 0 0 0 0 0 0 0 0 0 0 0 0 0 0 0 0 0 0 0 0 0 0 0 0 0 0 0 0 0 0 0 0 0 0 0 0 0 0 0 0 0 0 0 0 0 0 0 0 0 0 0 0 0 0 0 0 0 0 0 0 0 0 0 0 0 0 0 0 0 0 0 0 0 0 0 0 0 0 0 0 0 0 0 0 0 0 0 0 0 0 0 0 0 0 0 0 0 0 0 0 0 0 0 0 0 0 0 0 0 0 0 0 0 0 0 0 0 0 0 0 0 0 0 0 0 0 0 0 0 0 0 0 0 0 0 0 0 0 0 0 0 0 0 0 0 0 0 0 0 0 0 0 0 0 0 0 0 0 0 0 0 0 0 0 0 0 0 0 0 0 0 0 0 0 0 0 0 0 0 0 0 0 0 0 0 0 0 0 0 0 0 0 0 0 0 0 0 0 0 0 0 0 0 0 0 0 0 0 0 0 0 0 0 0 0 0 0 0 0 0 0 0 0 0 0 0 0 0 0 0 0 0 0 0 0 0 0 0 0 0 0 0 0 0 0 0 0 0 0 0 0 0 0 0 0 0 0 0 0 0 0 0 0\n"
          ]
        },
        {
          "output_type": "stream",
          "name": "stdout",
          "text": [
            "INFO:tensorflow:input_mask: 1 1 1 1 1 1 1 1 0 0 0 0 0 0 0 0 0 0 0 0 0 0 0 0 0 0 0 0 0 0 0 0 0 0 0 0 0 0 0 0 0 0 0 0 0 0 0 0 0 0 0 0 0 0 0 0 0 0 0 0 0 0 0 0 0 0 0 0 0 0 0 0 0 0 0 0 0 0 0 0 0 0 0 0 0 0 0 0 0 0 0 0 0 0 0 0 0 0 0 0 0 0 0 0 0 0 0 0 0 0 0 0 0 0 0 0 0 0 0 0 0 0 0 0 0 0 0 0 0 0 0 0 0 0 0 0 0 0 0 0 0 0 0 0 0 0 0 0 0 0 0 0 0 0 0 0 0 0 0 0 0 0 0 0 0 0 0 0 0 0 0 0 0 0 0 0 0 0 0 0 0 0 0 0 0 0 0 0 0 0 0 0 0 0 0 0 0 0 0 0 0 0 0 0 0 0 0 0 0 0 0 0 0 0 0 0 0 0 0 0 0 0 0 0 0 0 0 0 0 0 0 0 0 0 0 0 0 0 0 0 0 0 0 0 0 0 0 0 0 0 0 0 0 0 0 0 0 0 0 0 0 0 0 0 0 0 0 0 0 0 0 0 0 0 0 0 0 0 0 0 0 0 0 0 0 0 0 0 0 0 0 0 0 0 0 0 0 0 0 0 0 0 0 0 0 0 0 0 0 0 0 0 0 0 0 0 0 0 0 0 0 0 0 0 0 0 0 0 0 0 0 0 0 0 0 0 0 0 0 0 0 0 0 0 0 0 0 0 0 0 0 0 0 0 0 0 0 0 0 0 0 0 0 0 0 0 0 0 0 0 0 0 0 0 0 0 0 0 0 0 0 0 0 0 0 0 0 0 0 0 0 0 0 0 0 0 0 0 0 0 0 0 0 0 0 0 0 0 0 0 0 0 0 0 0 0 0 0 0 0 0 0 0 0 0 0 0 0 0 0 0 0 0 0 0 0 0 0 0 0 0 0 0 0 0 0 0 0 0 0 0 0 0 0 0 0 0 0 0 0 0 0 0 0 0 0 0 0 0 0 0 0 0 0 0 0 0 0 0 0 0 0 0 0 0 0 0 0 0 0 0 0 0 0 0 0 0 0 0 0 0 0 0 0 0 0 0 0 0 0 0 0\n"
          ]
        },
        {
          "output_type": "stream",
          "name": "stderr",
          "text": [
            "INFO:tensorflow:input_mask: 1 1 1 1 1 1 1 1 0 0 0 0 0 0 0 0 0 0 0 0 0 0 0 0 0 0 0 0 0 0 0 0 0 0 0 0 0 0 0 0 0 0 0 0 0 0 0 0 0 0 0 0 0 0 0 0 0 0 0 0 0 0 0 0 0 0 0 0 0 0 0 0 0 0 0 0 0 0 0 0 0 0 0 0 0 0 0 0 0 0 0 0 0 0 0 0 0 0 0 0 0 0 0 0 0 0 0 0 0 0 0 0 0 0 0 0 0 0 0 0 0 0 0 0 0 0 0 0 0 0 0 0 0 0 0 0 0 0 0 0 0 0 0 0 0 0 0 0 0 0 0 0 0 0 0 0 0 0 0 0 0 0 0 0 0 0 0 0 0 0 0 0 0 0 0 0 0 0 0 0 0 0 0 0 0 0 0 0 0 0 0 0 0 0 0 0 0 0 0 0 0 0 0 0 0 0 0 0 0 0 0 0 0 0 0 0 0 0 0 0 0 0 0 0 0 0 0 0 0 0 0 0 0 0 0 0 0 0 0 0 0 0 0 0 0 0 0 0 0 0 0 0 0 0 0 0 0 0 0 0 0 0 0 0 0 0 0 0 0 0 0 0 0 0 0 0 0 0 0 0 0 0 0 0 0 0 0 0 0 0 0 0 0 0 0 0 0 0 0 0 0 0 0 0 0 0 0 0 0 0 0 0 0 0 0 0 0 0 0 0 0 0 0 0 0 0 0 0 0 0 0 0 0 0 0 0 0 0 0 0 0 0 0 0 0 0 0 0 0 0 0 0 0 0 0 0 0 0 0 0 0 0 0 0 0 0 0 0 0 0 0 0 0 0 0 0 0 0 0 0 0 0 0 0 0 0 0 0 0 0 0 0 0 0 0 0 0 0 0 0 0 0 0 0 0 0 0 0 0 0 0 0 0 0 0 0 0 0 0 0 0 0 0 0 0 0 0 0 0 0 0 0 0 0 0 0 0 0 0 0 0 0 0 0 0 0 0 0 0 0 0 0 0 0 0 0 0 0 0 0 0 0 0 0 0 0 0 0 0 0 0 0 0 0 0 0 0 0 0 0 0 0 0 0 0 0 0 0 0 0 0 0 0 0 0 0 0 0 0 0 0 0 0 0 0 0 0 0 0 0 0 0\n"
          ]
        },
        {
          "output_type": "stream",
          "name": "stdout",
          "text": [
            "INFO:tensorflow:segment_ids: 0 0 0 0 0 0 0 0 0 0 0 0 0 0 0 0 0 0 0 0 0 0 0 0 0 0 0 0 0 0 0 0 0 0 0 0 0 0 0 0 0 0 0 0 0 0 0 0 0 0 0 0 0 0 0 0 0 0 0 0 0 0 0 0 0 0 0 0 0 0 0 0 0 0 0 0 0 0 0 0 0 0 0 0 0 0 0 0 0 0 0 0 0 0 0 0 0 0 0 0 0 0 0 0 0 0 0 0 0 0 0 0 0 0 0 0 0 0 0 0 0 0 0 0 0 0 0 0 0 0 0 0 0 0 0 0 0 0 0 0 0 0 0 0 0 0 0 0 0 0 0 0 0 0 0 0 0 0 0 0 0 0 0 0 0 0 0 0 0 0 0 0 0 0 0 0 0 0 0 0 0 0 0 0 0 0 0 0 0 0 0 0 0 0 0 0 0 0 0 0 0 0 0 0 0 0 0 0 0 0 0 0 0 0 0 0 0 0 0 0 0 0 0 0 0 0 0 0 0 0 0 0 0 0 0 0 0 0 0 0 0 0 0 0 0 0 0 0 0 0 0 0 0 0 0 0 0 0 0 0 0 0 0 0 0 0 0 0 0 0 0 0 0 0 0 0 0 0 0 0 0 0 0 0 0 0 0 0 0 0 0 0 0 0 0 0 0 0 0 0 0 0 0 0 0 0 0 0 0 0 0 0 0 0 0 0 0 0 0 0 0 0 0 0 0 0 0 0 0 0 0 0 0 0 0 0 0 0 0 0 0 0 0 0 0 0 0 0 0 0 0 0 0 0 0 0 0 0 0 0 0 0 0 0 0 0 0 0 0 0 0 0 0 0 0 0 0 0 0 0 0 0 0 0 0 0 0 0 0 0 0 0 0 0 0 0 0 0 0 0 0 0 0 0 0 0 0 0 0 0 0 0 0 0 0 0 0 0 0 0 0 0 0 0 0 0 0 0 0 0 0 0 0 0 0 0 0 0 0 0 0 0 0 0 0 0 0 0 0 0 0 0 0 0 0 0 0 0 0 0 0 0 0 0 0 0 0 0 0 0 0 0 0 0 0 0 0 0 0 0 0 0 0 0 0 0 0 0 0 0 0 0 0 0 0 0 0 0 0 0 0 0 0 0 0 0 0 0 0 0 0 0\n"
          ]
        },
        {
          "output_type": "stream",
          "name": "stderr",
          "text": [
            "INFO:tensorflow:segment_ids: 0 0 0 0 0 0 0 0 0 0 0 0 0 0 0 0 0 0 0 0 0 0 0 0 0 0 0 0 0 0 0 0 0 0 0 0 0 0 0 0 0 0 0 0 0 0 0 0 0 0 0 0 0 0 0 0 0 0 0 0 0 0 0 0 0 0 0 0 0 0 0 0 0 0 0 0 0 0 0 0 0 0 0 0 0 0 0 0 0 0 0 0 0 0 0 0 0 0 0 0 0 0 0 0 0 0 0 0 0 0 0 0 0 0 0 0 0 0 0 0 0 0 0 0 0 0 0 0 0 0 0 0 0 0 0 0 0 0 0 0 0 0 0 0 0 0 0 0 0 0 0 0 0 0 0 0 0 0 0 0 0 0 0 0 0 0 0 0 0 0 0 0 0 0 0 0 0 0 0 0 0 0 0 0 0 0 0 0 0 0 0 0 0 0 0 0 0 0 0 0 0 0 0 0 0 0 0 0 0 0 0 0 0 0 0 0 0 0 0 0 0 0 0 0 0 0 0 0 0 0 0 0 0 0 0 0 0 0 0 0 0 0 0 0 0 0 0 0 0 0 0 0 0 0 0 0 0 0 0 0 0 0 0 0 0 0 0 0 0 0 0 0 0 0 0 0 0 0 0 0 0 0 0 0 0 0 0 0 0 0 0 0 0 0 0 0 0 0 0 0 0 0 0 0 0 0 0 0 0 0 0 0 0 0 0 0 0 0 0 0 0 0 0 0 0 0 0 0 0 0 0 0 0 0 0 0 0 0 0 0 0 0 0 0 0 0 0 0 0 0 0 0 0 0 0 0 0 0 0 0 0 0 0 0 0 0 0 0 0 0 0 0 0 0 0 0 0 0 0 0 0 0 0 0 0 0 0 0 0 0 0 0 0 0 0 0 0 0 0 0 0 0 0 0 0 0 0 0 0 0 0 0 0 0 0 0 0 0 0 0 0 0 0 0 0 0 0 0 0 0 0 0 0 0 0 0 0 0 0 0 0 0 0 0 0 0 0 0 0 0 0 0 0 0 0 0 0 0 0 0 0 0 0 0 0 0 0 0 0 0 0 0 0 0 0 0 0 0 0 0 0 0 0 0 0 0 0 0 0 0 0 0 0 0 0 0 0 0 0 0 0 0 0 0 0 0 0 0 0 0 0 0\n"
          ]
        },
        {
          "output_type": "stream",
          "name": "stdout",
          "text": [
            "INFO:tensorflow:label: 0 (id = 0)\n"
          ]
        },
        {
          "output_type": "stream",
          "name": "stderr",
          "text": [
            "INFO:tensorflow:label: 0 (id = 0)\n"
          ]
        },
        {
          "output_type": "stream",
          "name": "stdout",
          "text": [
            "INFO:tensorflow:*** Example ***\n"
          ]
        },
        {
          "output_type": "stream",
          "name": "stderr",
          "text": [
            "INFO:tensorflow:*** Example ***\n"
          ]
        },
        {
          "output_type": "stream",
          "name": "stdout",
          "text": [
            "INFO:tensorflow:guid: \n"
          ]
        },
        {
          "output_type": "stream",
          "name": "stderr",
          "text": [
            "INFO:tensorflow:guid: \n"
          ]
        },
        {
          "output_type": "stream",
          "name": "stdout",
          "text": [
            "INFO:tensorflow:tokens: [CLS] ka ##z ate cheese and bread and in ##ej loved it [SEP]\n"
          ]
        },
        {
          "output_type": "stream",
          "name": "stderr",
          "text": [
            "INFO:tensorflow:tokens: [CLS] ka ##z ate cheese and bread and in ##ej loved it [SEP]\n"
          ]
        },
        {
          "output_type": "stream",
          "name": "stdout",
          "text": [
            "INFO:tensorflow:input_ids: 101 10556 2480 8823 8808 1998 7852 1998 1999 20518 3866 2009 102 0 0 0 0 0 0 0 0 0 0 0 0 0 0 0 0 0 0 0 0 0 0 0 0 0 0 0 0 0 0 0 0 0 0 0 0 0 0 0 0 0 0 0 0 0 0 0 0 0 0 0 0 0 0 0 0 0 0 0 0 0 0 0 0 0 0 0 0 0 0 0 0 0 0 0 0 0 0 0 0 0 0 0 0 0 0 0 0 0 0 0 0 0 0 0 0 0 0 0 0 0 0 0 0 0 0 0 0 0 0 0 0 0 0 0 0 0 0 0 0 0 0 0 0 0 0 0 0 0 0 0 0 0 0 0 0 0 0 0 0 0 0 0 0 0 0 0 0 0 0 0 0 0 0 0 0 0 0 0 0 0 0 0 0 0 0 0 0 0 0 0 0 0 0 0 0 0 0 0 0 0 0 0 0 0 0 0 0 0 0 0 0 0 0 0 0 0 0 0 0 0 0 0 0 0 0 0 0 0 0 0 0 0 0 0 0 0 0 0 0 0 0 0 0 0 0 0 0 0 0 0 0 0 0 0 0 0 0 0 0 0 0 0 0 0 0 0 0 0 0 0 0 0 0 0 0 0 0 0 0 0 0 0 0 0 0 0 0 0 0 0 0 0 0 0 0 0 0 0 0 0 0 0 0 0 0 0 0 0 0 0 0 0 0 0 0 0 0 0 0 0 0 0 0 0 0 0 0 0 0 0 0 0 0 0 0 0 0 0 0 0 0 0 0 0 0 0 0 0 0 0 0 0 0 0 0 0 0 0 0 0 0 0 0 0 0 0 0 0 0 0 0 0 0 0 0 0 0 0 0 0 0 0 0 0 0 0 0 0 0 0 0 0 0 0 0 0 0 0 0 0 0 0 0 0 0 0 0 0 0 0 0 0 0 0 0 0 0 0 0 0 0 0 0 0 0 0 0 0 0 0 0 0 0 0 0 0 0 0 0 0 0 0 0 0 0 0 0 0 0 0 0 0 0 0 0 0 0 0 0 0 0 0 0 0 0 0 0 0 0 0 0 0 0 0 0 0 0 0 0 0 0 0 0 0 0 0 0 0 0 0 0 0 0 0 0 0 0 0 0 0 0 0 0 0 0 0 0 0 0 0 0 0 0 0 0 0 0 0\n"
          ]
        },
        {
          "output_type": "stream",
          "name": "stderr",
          "text": [
            "INFO:tensorflow:input_ids: 101 10556 2480 8823 8808 1998 7852 1998 1999 20518 3866 2009 102 0 0 0 0 0 0 0 0 0 0 0 0 0 0 0 0 0 0 0 0 0 0 0 0 0 0 0 0 0 0 0 0 0 0 0 0 0 0 0 0 0 0 0 0 0 0 0 0 0 0 0 0 0 0 0 0 0 0 0 0 0 0 0 0 0 0 0 0 0 0 0 0 0 0 0 0 0 0 0 0 0 0 0 0 0 0 0 0 0 0 0 0 0 0 0 0 0 0 0 0 0 0 0 0 0 0 0 0 0 0 0 0 0 0 0 0 0 0 0 0 0 0 0 0 0 0 0 0 0 0 0 0 0 0 0 0 0 0 0 0 0 0 0 0 0 0 0 0 0 0 0 0 0 0 0 0 0 0 0 0 0 0 0 0 0 0 0 0 0 0 0 0 0 0 0 0 0 0 0 0 0 0 0 0 0 0 0 0 0 0 0 0 0 0 0 0 0 0 0 0 0 0 0 0 0 0 0 0 0 0 0 0 0 0 0 0 0 0 0 0 0 0 0 0 0 0 0 0 0 0 0 0 0 0 0 0 0 0 0 0 0 0 0 0 0 0 0 0 0 0 0 0 0 0 0 0 0 0 0 0 0 0 0 0 0 0 0 0 0 0 0 0 0 0 0 0 0 0 0 0 0 0 0 0 0 0 0 0 0 0 0 0 0 0 0 0 0 0 0 0 0 0 0 0 0 0 0 0 0 0 0 0 0 0 0 0 0 0 0 0 0 0 0 0 0 0 0 0 0 0 0 0 0 0 0 0 0 0 0 0 0 0 0 0 0 0 0 0 0 0 0 0 0 0 0 0 0 0 0 0 0 0 0 0 0 0 0 0 0 0 0 0 0 0 0 0 0 0 0 0 0 0 0 0 0 0 0 0 0 0 0 0 0 0 0 0 0 0 0 0 0 0 0 0 0 0 0 0 0 0 0 0 0 0 0 0 0 0 0 0 0 0 0 0 0 0 0 0 0 0 0 0 0 0 0 0 0 0 0 0 0 0 0 0 0 0 0 0 0 0 0 0 0 0 0 0 0 0 0 0 0 0 0 0 0 0 0 0 0 0 0 0 0 0 0 0 0 0 0 0 0 0 0 0 0 0 0 0 0 0 0 0 0 0 0 0 0 0 0\n"
          ]
        },
        {
          "output_type": "stream",
          "name": "stdout",
          "text": [
            "INFO:tensorflow:input_mask: 1 1 1 1 1 1 1 1 1 1 1 1 1 0 0 0 0 0 0 0 0 0 0 0 0 0 0 0 0 0 0 0 0 0 0 0 0 0 0 0 0 0 0 0 0 0 0 0 0 0 0 0 0 0 0 0 0 0 0 0 0 0 0 0 0 0 0 0 0 0 0 0 0 0 0 0 0 0 0 0 0 0 0 0 0 0 0 0 0 0 0 0 0 0 0 0 0 0 0 0 0 0 0 0 0 0 0 0 0 0 0 0 0 0 0 0 0 0 0 0 0 0 0 0 0 0 0 0 0 0 0 0 0 0 0 0 0 0 0 0 0 0 0 0 0 0 0 0 0 0 0 0 0 0 0 0 0 0 0 0 0 0 0 0 0 0 0 0 0 0 0 0 0 0 0 0 0 0 0 0 0 0 0 0 0 0 0 0 0 0 0 0 0 0 0 0 0 0 0 0 0 0 0 0 0 0 0 0 0 0 0 0 0 0 0 0 0 0 0 0 0 0 0 0 0 0 0 0 0 0 0 0 0 0 0 0 0 0 0 0 0 0 0 0 0 0 0 0 0 0 0 0 0 0 0 0 0 0 0 0 0 0 0 0 0 0 0 0 0 0 0 0 0 0 0 0 0 0 0 0 0 0 0 0 0 0 0 0 0 0 0 0 0 0 0 0 0 0 0 0 0 0 0 0 0 0 0 0 0 0 0 0 0 0 0 0 0 0 0 0 0 0 0 0 0 0 0 0 0 0 0 0 0 0 0 0 0 0 0 0 0 0 0 0 0 0 0 0 0 0 0 0 0 0 0 0 0 0 0 0 0 0 0 0 0 0 0 0 0 0 0 0 0 0 0 0 0 0 0 0 0 0 0 0 0 0 0 0 0 0 0 0 0 0 0 0 0 0 0 0 0 0 0 0 0 0 0 0 0 0 0 0 0 0 0 0 0 0 0 0 0 0 0 0 0 0 0 0 0 0 0 0 0 0 0 0 0 0 0 0 0 0 0 0 0 0 0 0 0 0 0 0 0 0 0 0 0 0 0 0 0 0 0 0 0 0 0 0 0 0 0 0 0 0 0 0 0 0 0 0 0 0 0 0 0 0 0 0 0 0 0 0 0 0 0 0 0 0 0 0 0 0 0 0 0 0 0 0 0 0 0 0\n"
          ]
        },
        {
          "output_type": "stream",
          "name": "stderr",
          "text": [
            "INFO:tensorflow:input_mask: 1 1 1 1 1 1 1 1 1 1 1 1 1 0 0 0 0 0 0 0 0 0 0 0 0 0 0 0 0 0 0 0 0 0 0 0 0 0 0 0 0 0 0 0 0 0 0 0 0 0 0 0 0 0 0 0 0 0 0 0 0 0 0 0 0 0 0 0 0 0 0 0 0 0 0 0 0 0 0 0 0 0 0 0 0 0 0 0 0 0 0 0 0 0 0 0 0 0 0 0 0 0 0 0 0 0 0 0 0 0 0 0 0 0 0 0 0 0 0 0 0 0 0 0 0 0 0 0 0 0 0 0 0 0 0 0 0 0 0 0 0 0 0 0 0 0 0 0 0 0 0 0 0 0 0 0 0 0 0 0 0 0 0 0 0 0 0 0 0 0 0 0 0 0 0 0 0 0 0 0 0 0 0 0 0 0 0 0 0 0 0 0 0 0 0 0 0 0 0 0 0 0 0 0 0 0 0 0 0 0 0 0 0 0 0 0 0 0 0 0 0 0 0 0 0 0 0 0 0 0 0 0 0 0 0 0 0 0 0 0 0 0 0 0 0 0 0 0 0 0 0 0 0 0 0 0 0 0 0 0 0 0 0 0 0 0 0 0 0 0 0 0 0 0 0 0 0 0 0 0 0 0 0 0 0 0 0 0 0 0 0 0 0 0 0 0 0 0 0 0 0 0 0 0 0 0 0 0 0 0 0 0 0 0 0 0 0 0 0 0 0 0 0 0 0 0 0 0 0 0 0 0 0 0 0 0 0 0 0 0 0 0 0 0 0 0 0 0 0 0 0 0 0 0 0 0 0 0 0 0 0 0 0 0 0 0 0 0 0 0 0 0 0 0 0 0 0 0 0 0 0 0 0 0 0 0 0 0 0 0 0 0 0 0 0 0 0 0 0 0 0 0 0 0 0 0 0 0 0 0 0 0 0 0 0 0 0 0 0 0 0 0 0 0 0 0 0 0 0 0 0 0 0 0 0 0 0 0 0 0 0 0 0 0 0 0 0 0 0 0 0 0 0 0 0 0 0 0 0 0 0 0 0 0 0 0 0 0 0 0 0 0 0 0 0 0 0 0 0 0 0 0 0 0 0 0 0 0 0 0 0 0 0 0 0 0 0 0 0 0 0 0 0 0 0 0 0 0 0 0 0 0\n"
          ]
        },
        {
          "output_type": "stream",
          "name": "stdout",
          "text": [
            "INFO:tensorflow:segment_ids: 0 0 0 0 0 0 0 0 0 0 0 0 0 0 0 0 0 0 0 0 0 0 0 0 0 0 0 0 0 0 0 0 0 0 0 0 0 0 0 0 0 0 0 0 0 0 0 0 0 0 0 0 0 0 0 0 0 0 0 0 0 0 0 0 0 0 0 0 0 0 0 0 0 0 0 0 0 0 0 0 0 0 0 0 0 0 0 0 0 0 0 0 0 0 0 0 0 0 0 0 0 0 0 0 0 0 0 0 0 0 0 0 0 0 0 0 0 0 0 0 0 0 0 0 0 0 0 0 0 0 0 0 0 0 0 0 0 0 0 0 0 0 0 0 0 0 0 0 0 0 0 0 0 0 0 0 0 0 0 0 0 0 0 0 0 0 0 0 0 0 0 0 0 0 0 0 0 0 0 0 0 0 0 0 0 0 0 0 0 0 0 0 0 0 0 0 0 0 0 0 0 0 0 0 0 0 0 0 0 0 0 0 0 0 0 0 0 0 0 0 0 0 0 0 0 0 0 0 0 0 0 0 0 0 0 0 0 0 0 0 0 0 0 0 0 0 0 0 0 0 0 0 0 0 0 0 0 0 0 0 0 0 0 0 0 0 0 0 0 0 0 0 0 0 0 0 0 0 0 0 0 0 0 0 0 0 0 0 0 0 0 0 0 0 0 0 0 0 0 0 0 0 0 0 0 0 0 0 0 0 0 0 0 0 0 0 0 0 0 0 0 0 0 0 0 0 0 0 0 0 0 0 0 0 0 0 0 0 0 0 0 0 0 0 0 0 0 0 0 0 0 0 0 0 0 0 0 0 0 0 0 0 0 0 0 0 0 0 0 0 0 0 0 0 0 0 0 0 0 0 0 0 0 0 0 0 0 0 0 0 0 0 0 0 0 0 0 0 0 0 0 0 0 0 0 0 0 0 0 0 0 0 0 0 0 0 0 0 0 0 0 0 0 0 0 0 0 0 0 0 0 0 0 0 0 0 0 0 0 0 0 0 0 0 0 0 0 0 0 0 0 0 0 0 0 0 0 0 0 0 0 0 0 0 0 0 0 0 0 0 0 0 0 0 0 0 0 0 0 0 0 0 0 0 0 0 0 0 0 0 0 0 0 0 0 0 0 0 0 0 0 0 0 0 0 0 0 0 0 0 0 0\n"
          ]
        },
        {
          "output_type": "stream",
          "name": "stderr",
          "text": [
            "INFO:tensorflow:segment_ids: 0 0 0 0 0 0 0 0 0 0 0 0 0 0 0 0 0 0 0 0 0 0 0 0 0 0 0 0 0 0 0 0 0 0 0 0 0 0 0 0 0 0 0 0 0 0 0 0 0 0 0 0 0 0 0 0 0 0 0 0 0 0 0 0 0 0 0 0 0 0 0 0 0 0 0 0 0 0 0 0 0 0 0 0 0 0 0 0 0 0 0 0 0 0 0 0 0 0 0 0 0 0 0 0 0 0 0 0 0 0 0 0 0 0 0 0 0 0 0 0 0 0 0 0 0 0 0 0 0 0 0 0 0 0 0 0 0 0 0 0 0 0 0 0 0 0 0 0 0 0 0 0 0 0 0 0 0 0 0 0 0 0 0 0 0 0 0 0 0 0 0 0 0 0 0 0 0 0 0 0 0 0 0 0 0 0 0 0 0 0 0 0 0 0 0 0 0 0 0 0 0 0 0 0 0 0 0 0 0 0 0 0 0 0 0 0 0 0 0 0 0 0 0 0 0 0 0 0 0 0 0 0 0 0 0 0 0 0 0 0 0 0 0 0 0 0 0 0 0 0 0 0 0 0 0 0 0 0 0 0 0 0 0 0 0 0 0 0 0 0 0 0 0 0 0 0 0 0 0 0 0 0 0 0 0 0 0 0 0 0 0 0 0 0 0 0 0 0 0 0 0 0 0 0 0 0 0 0 0 0 0 0 0 0 0 0 0 0 0 0 0 0 0 0 0 0 0 0 0 0 0 0 0 0 0 0 0 0 0 0 0 0 0 0 0 0 0 0 0 0 0 0 0 0 0 0 0 0 0 0 0 0 0 0 0 0 0 0 0 0 0 0 0 0 0 0 0 0 0 0 0 0 0 0 0 0 0 0 0 0 0 0 0 0 0 0 0 0 0 0 0 0 0 0 0 0 0 0 0 0 0 0 0 0 0 0 0 0 0 0 0 0 0 0 0 0 0 0 0 0 0 0 0 0 0 0 0 0 0 0 0 0 0 0 0 0 0 0 0 0 0 0 0 0 0 0 0 0 0 0 0 0 0 0 0 0 0 0 0 0 0 0 0 0 0 0 0 0 0 0 0 0 0 0 0 0 0 0 0 0 0 0 0 0 0 0 0 0 0 0 0 0 0 0 0 0 0 0 0 0 0 0\n"
          ]
        },
        {
          "output_type": "stream",
          "name": "stdout",
          "text": [
            "INFO:tensorflow:label: 0 (id = 0)\n"
          ]
        },
        {
          "output_type": "stream",
          "name": "stderr",
          "text": [
            "INFO:tensorflow:label: 0 (id = 0)\n"
          ]
        },
        {
          "output_type": "stream",
          "name": "stdout",
          "text": [
            "INFO:tensorflow:Calling model_fn.\n"
          ]
        },
        {
          "output_type": "stream",
          "name": "stderr",
          "text": [
            "INFO:tensorflow:Calling model_fn.\n"
          ]
        },
        {
          "output_type": "stream",
          "name": "stdout",
          "text": [
            "INFO:tensorflow:Saver not created because there are no variables in the graph to restore\n"
          ]
        },
        {
          "output_type": "stream",
          "name": "stderr",
          "text": [
            "INFO:tensorflow:Saver not created because there are no variables in the graph to restore\n"
          ]
        },
        {
          "output_type": "stream",
          "name": "stdout",
          "text": [
            "INFO:tensorflow:Done calling model_fn.\n"
          ]
        },
        {
          "output_type": "stream",
          "name": "stderr",
          "text": [
            "INFO:tensorflow:Done calling model_fn.\n"
          ]
        },
        {
          "output_type": "stream",
          "name": "stdout",
          "text": [
            "INFO:tensorflow:Graph was finalized.\n"
          ]
        },
        {
          "output_type": "stream",
          "name": "stderr",
          "text": [
            "INFO:tensorflow:Graph was finalized.\n"
          ]
        },
        {
          "output_type": "stream",
          "name": "stdout",
          "text": [
            "INFO:tensorflow:Restoring parameters from /GD/My Drive/Colab Notebooks/BERT/bert_fandom_category/model.ckpt-16\n"
          ]
        },
        {
          "output_type": "stream",
          "name": "stderr",
          "text": [
            "INFO:tensorflow:Restoring parameters from /GD/My Drive/Colab Notebooks/BERT/bert_fandom_category/model.ckpt-16\n"
          ]
        },
        {
          "output_type": "stream",
          "name": "stdout",
          "text": [
            "INFO:tensorflow:Running local_init_op.\n"
          ]
        },
        {
          "output_type": "stream",
          "name": "stderr",
          "text": [
            "INFO:tensorflow:Running local_init_op.\n"
          ]
        },
        {
          "output_type": "stream",
          "name": "stdout",
          "text": [
            "INFO:tensorflow:Done running local_init_op.\n"
          ]
        },
        {
          "output_type": "stream",
          "name": "stderr",
          "text": [
            "INFO:tensorflow:Done running local_init_op.\n"
          ]
        }
      ]
    },
    {
      "cell_type": "code",
      "source": [
        "tests"
      ],
      "metadata": {
        "colab": {
          "base_uri": "https://localhost:8080/"
        },
        "id": "xcOUOSgVMavE",
        "outputId": "806276d7-29f7-4830-c8ef-93ee29c83706"
      },
      "execution_count": null,
      "outputs": [
        {
          "output_type": "execute_result",
          "data": {
            "text/plain": [
              "[('Sherlock Holmes is fat and squishy ',\n",
              "  array([-1.9685808, -1.1550671, -1.5387866, -1.1066425], dtype=float32),\n",
              "  3,\n",
              "  'Harry Potter - J. K. Rowling'),\n",
              " ('James Bond will give us big kisses',\n",
              "  array([-1.5714798 , -0.92925996, -1.6965555 , -1.5412986 ], dtype=float32),\n",
              "  1,\n",
              "  'Sherlock (TV)'),\n",
              " ('Harry Potter you are a wizard',\n",
              "  array([-1.6427301, -1.0901413, -1.613224 , -1.305136 ], dtype=float32),\n",
              "  1,\n",
              "  'Sherlock (TV)'),\n",
              " ('Kaz ate cheese and bread and Inej loved it ',\n",
              "  array([-1.217266 , -1.1866155, -1.6559124, -1.5712221], dtype=float32),\n",
              "  1,\n",
              "  'Sherlock (TV)')]"
            ]
          },
          "metadata": {},
          "execution_count": 90
        }
      ]
    },
    {
      "cell_type": "code",
      "source": [
        "tests = getPrediction(['Sherlock Holmes and John Watson are detectives. murder by death',\n",
        "                       'James Bond and Q and spies and agent',\n",
        "                       'Harry Potter and Hermione were hiding under a tree',\n",
        "                       'Kaz Brekker attacked a gang member. Inej Ghafa and Jesper sneaky sneaky'\n",
        "                       ])"
      ],
      "metadata": {
        "colab": {
          "base_uri": "https://localhost:8080/"
        },
        "id": "EpiU4_L5ZBg1",
        "outputId": "cf803e00-d221-4844-854e-909fd59e39d8"
      },
      "execution_count": null,
      "outputs": [
        {
          "output_type": "stream",
          "name": "stdout",
          "text": [
            "INFO:tensorflow:Writing example 0 of 4\n"
          ]
        },
        {
          "output_type": "stream",
          "name": "stderr",
          "text": [
            "INFO:tensorflow:Writing example 0 of 4\n"
          ]
        },
        {
          "output_type": "stream",
          "name": "stdout",
          "text": [
            "INFO:tensorflow:*** Example ***\n"
          ]
        },
        {
          "output_type": "stream",
          "name": "stderr",
          "text": [
            "INFO:tensorflow:*** Example ***\n"
          ]
        },
        {
          "output_type": "stream",
          "name": "stdout",
          "text": [
            "INFO:tensorflow:guid: \n"
          ]
        },
        {
          "output_type": "stream",
          "name": "stderr",
          "text": [
            "INFO:tensorflow:guid: \n"
          ]
        },
        {
          "output_type": "stream",
          "name": "stdout",
          "text": [
            "INFO:tensorflow:tokens: [CLS] sherlock holmes and john watson are detectives . murder by death [SEP]\n"
          ]
        },
        {
          "output_type": "stream",
          "name": "stderr",
          "text": [
            "INFO:tensorflow:tokens: [CLS] sherlock holmes and john watson are detectives . murder by death [SEP]\n"
          ]
        },
        {
          "output_type": "stream",
          "name": "stdout",
          "text": [
            "INFO:tensorflow:input_ids: 101 20052 9106 1998 2198 7908 2024 18145 1012 4028 2011 2331 102 0 0 0 0 0 0 0 0 0 0 0 0 0 0 0 0 0 0 0 0 0 0 0 0 0 0 0 0 0 0 0 0 0 0 0 0 0 0 0 0 0 0 0 0 0 0 0 0 0 0 0 0 0 0 0 0 0 0 0 0 0 0 0 0 0 0 0 0 0 0 0 0 0 0 0 0 0 0 0 0 0 0 0 0 0 0 0 0 0 0 0 0 0 0 0 0 0 0 0 0 0 0 0 0 0 0 0 0 0 0 0 0 0 0 0 0 0 0 0 0 0 0 0 0 0 0 0 0 0 0 0 0 0 0 0 0 0 0 0 0 0 0 0 0 0 0 0 0 0 0 0 0 0 0 0 0 0 0 0 0 0 0 0 0 0 0 0 0 0 0 0 0 0 0 0 0 0 0 0 0 0 0 0 0 0 0 0 0 0 0 0 0 0 0 0 0 0 0 0 0 0 0 0 0 0 0 0 0 0 0 0 0 0 0 0 0 0 0 0 0 0 0 0 0 0 0 0 0 0 0 0 0 0 0 0 0 0 0 0 0 0 0 0 0 0 0 0 0 0 0 0 0 0 0 0 0 0 0 0 0 0 0 0 0 0 0 0 0 0 0 0 0 0 0 0 0 0 0 0 0 0 0 0 0 0 0 0 0 0 0 0 0 0 0 0 0 0 0 0 0 0 0 0 0 0 0 0 0 0 0 0 0 0 0 0 0 0 0 0 0 0 0 0 0 0 0 0 0 0 0 0 0 0 0 0 0 0 0 0 0 0 0 0 0 0 0 0 0 0 0 0 0 0 0 0 0 0 0 0 0 0 0 0 0 0 0 0 0 0 0 0 0 0 0 0 0 0 0 0 0 0 0 0 0 0 0 0 0 0 0 0 0 0 0 0 0 0 0 0 0 0 0 0 0 0 0 0 0 0 0 0 0 0 0 0 0 0 0 0 0 0 0 0 0 0 0 0 0 0 0 0 0 0 0 0 0 0 0 0 0 0 0 0 0 0 0 0 0 0 0 0 0 0 0 0 0 0 0 0 0 0 0 0 0 0 0 0 0 0 0 0 0 0 0 0 0 0 0 0 0 0 0 0 0 0 0 0 0 0 0 0 0 0 0 0 0 0 0 0\n"
          ]
        },
        {
          "output_type": "stream",
          "name": "stderr",
          "text": [
            "INFO:tensorflow:input_ids: 101 20052 9106 1998 2198 7908 2024 18145 1012 4028 2011 2331 102 0 0 0 0 0 0 0 0 0 0 0 0 0 0 0 0 0 0 0 0 0 0 0 0 0 0 0 0 0 0 0 0 0 0 0 0 0 0 0 0 0 0 0 0 0 0 0 0 0 0 0 0 0 0 0 0 0 0 0 0 0 0 0 0 0 0 0 0 0 0 0 0 0 0 0 0 0 0 0 0 0 0 0 0 0 0 0 0 0 0 0 0 0 0 0 0 0 0 0 0 0 0 0 0 0 0 0 0 0 0 0 0 0 0 0 0 0 0 0 0 0 0 0 0 0 0 0 0 0 0 0 0 0 0 0 0 0 0 0 0 0 0 0 0 0 0 0 0 0 0 0 0 0 0 0 0 0 0 0 0 0 0 0 0 0 0 0 0 0 0 0 0 0 0 0 0 0 0 0 0 0 0 0 0 0 0 0 0 0 0 0 0 0 0 0 0 0 0 0 0 0 0 0 0 0 0 0 0 0 0 0 0 0 0 0 0 0 0 0 0 0 0 0 0 0 0 0 0 0 0 0 0 0 0 0 0 0 0 0 0 0 0 0 0 0 0 0 0 0 0 0 0 0 0 0 0 0 0 0 0 0 0 0 0 0 0 0 0 0 0 0 0 0 0 0 0 0 0 0 0 0 0 0 0 0 0 0 0 0 0 0 0 0 0 0 0 0 0 0 0 0 0 0 0 0 0 0 0 0 0 0 0 0 0 0 0 0 0 0 0 0 0 0 0 0 0 0 0 0 0 0 0 0 0 0 0 0 0 0 0 0 0 0 0 0 0 0 0 0 0 0 0 0 0 0 0 0 0 0 0 0 0 0 0 0 0 0 0 0 0 0 0 0 0 0 0 0 0 0 0 0 0 0 0 0 0 0 0 0 0 0 0 0 0 0 0 0 0 0 0 0 0 0 0 0 0 0 0 0 0 0 0 0 0 0 0 0 0 0 0 0 0 0 0 0 0 0 0 0 0 0 0 0 0 0 0 0 0 0 0 0 0 0 0 0 0 0 0 0 0 0 0 0 0 0 0 0 0 0 0 0 0 0 0 0 0 0 0 0 0 0 0 0 0 0 0 0 0 0 0 0 0 0 0 0 0 0 0 0 0 0 0 0 0 0 0 0 0 0\n"
          ]
        },
        {
          "output_type": "stream",
          "name": "stdout",
          "text": [
            "INFO:tensorflow:input_mask: 1 1 1 1 1 1 1 1 1 1 1 1 1 0 0 0 0 0 0 0 0 0 0 0 0 0 0 0 0 0 0 0 0 0 0 0 0 0 0 0 0 0 0 0 0 0 0 0 0 0 0 0 0 0 0 0 0 0 0 0 0 0 0 0 0 0 0 0 0 0 0 0 0 0 0 0 0 0 0 0 0 0 0 0 0 0 0 0 0 0 0 0 0 0 0 0 0 0 0 0 0 0 0 0 0 0 0 0 0 0 0 0 0 0 0 0 0 0 0 0 0 0 0 0 0 0 0 0 0 0 0 0 0 0 0 0 0 0 0 0 0 0 0 0 0 0 0 0 0 0 0 0 0 0 0 0 0 0 0 0 0 0 0 0 0 0 0 0 0 0 0 0 0 0 0 0 0 0 0 0 0 0 0 0 0 0 0 0 0 0 0 0 0 0 0 0 0 0 0 0 0 0 0 0 0 0 0 0 0 0 0 0 0 0 0 0 0 0 0 0 0 0 0 0 0 0 0 0 0 0 0 0 0 0 0 0 0 0 0 0 0 0 0 0 0 0 0 0 0 0 0 0 0 0 0 0 0 0 0 0 0 0 0 0 0 0 0 0 0 0 0 0 0 0 0 0 0 0 0 0 0 0 0 0 0 0 0 0 0 0 0 0 0 0 0 0 0 0 0 0 0 0 0 0 0 0 0 0 0 0 0 0 0 0 0 0 0 0 0 0 0 0 0 0 0 0 0 0 0 0 0 0 0 0 0 0 0 0 0 0 0 0 0 0 0 0 0 0 0 0 0 0 0 0 0 0 0 0 0 0 0 0 0 0 0 0 0 0 0 0 0 0 0 0 0 0 0 0 0 0 0 0 0 0 0 0 0 0 0 0 0 0 0 0 0 0 0 0 0 0 0 0 0 0 0 0 0 0 0 0 0 0 0 0 0 0 0 0 0 0 0 0 0 0 0 0 0 0 0 0 0 0 0 0 0 0 0 0 0 0 0 0 0 0 0 0 0 0 0 0 0 0 0 0 0 0 0 0 0 0 0 0 0 0 0 0 0 0 0 0 0 0 0 0 0 0 0 0 0 0 0 0 0 0 0 0 0 0 0 0 0 0 0 0 0 0 0 0 0 0 0 0 0 0 0 0 0 0 0 0 0 0\n"
          ]
        },
        {
          "output_type": "stream",
          "name": "stderr",
          "text": [
            "INFO:tensorflow:input_mask: 1 1 1 1 1 1 1 1 1 1 1 1 1 0 0 0 0 0 0 0 0 0 0 0 0 0 0 0 0 0 0 0 0 0 0 0 0 0 0 0 0 0 0 0 0 0 0 0 0 0 0 0 0 0 0 0 0 0 0 0 0 0 0 0 0 0 0 0 0 0 0 0 0 0 0 0 0 0 0 0 0 0 0 0 0 0 0 0 0 0 0 0 0 0 0 0 0 0 0 0 0 0 0 0 0 0 0 0 0 0 0 0 0 0 0 0 0 0 0 0 0 0 0 0 0 0 0 0 0 0 0 0 0 0 0 0 0 0 0 0 0 0 0 0 0 0 0 0 0 0 0 0 0 0 0 0 0 0 0 0 0 0 0 0 0 0 0 0 0 0 0 0 0 0 0 0 0 0 0 0 0 0 0 0 0 0 0 0 0 0 0 0 0 0 0 0 0 0 0 0 0 0 0 0 0 0 0 0 0 0 0 0 0 0 0 0 0 0 0 0 0 0 0 0 0 0 0 0 0 0 0 0 0 0 0 0 0 0 0 0 0 0 0 0 0 0 0 0 0 0 0 0 0 0 0 0 0 0 0 0 0 0 0 0 0 0 0 0 0 0 0 0 0 0 0 0 0 0 0 0 0 0 0 0 0 0 0 0 0 0 0 0 0 0 0 0 0 0 0 0 0 0 0 0 0 0 0 0 0 0 0 0 0 0 0 0 0 0 0 0 0 0 0 0 0 0 0 0 0 0 0 0 0 0 0 0 0 0 0 0 0 0 0 0 0 0 0 0 0 0 0 0 0 0 0 0 0 0 0 0 0 0 0 0 0 0 0 0 0 0 0 0 0 0 0 0 0 0 0 0 0 0 0 0 0 0 0 0 0 0 0 0 0 0 0 0 0 0 0 0 0 0 0 0 0 0 0 0 0 0 0 0 0 0 0 0 0 0 0 0 0 0 0 0 0 0 0 0 0 0 0 0 0 0 0 0 0 0 0 0 0 0 0 0 0 0 0 0 0 0 0 0 0 0 0 0 0 0 0 0 0 0 0 0 0 0 0 0 0 0 0 0 0 0 0 0 0 0 0 0 0 0 0 0 0 0 0 0 0 0 0 0 0 0 0 0 0 0 0 0 0 0 0 0 0 0 0 0 0 0 0 0\n"
          ]
        },
        {
          "output_type": "stream",
          "name": "stdout",
          "text": [
            "INFO:tensorflow:segment_ids: 0 0 0 0 0 0 0 0 0 0 0 0 0 0 0 0 0 0 0 0 0 0 0 0 0 0 0 0 0 0 0 0 0 0 0 0 0 0 0 0 0 0 0 0 0 0 0 0 0 0 0 0 0 0 0 0 0 0 0 0 0 0 0 0 0 0 0 0 0 0 0 0 0 0 0 0 0 0 0 0 0 0 0 0 0 0 0 0 0 0 0 0 0 0 0 0 0 0 0 0 0 0 0 0 0 0 0 0 0 0 0 0 0 0 0 0 0 0 0 0 0 0 0 0 0 0 0 0 0 0 0 0 0 0 0 0 0 0 0 0 0 0 0 0 0 0 0 0 0 0 0 0 0 0 0 0 0 0 0 0 0 0 0 0 0 0 0 0 0 0 0 0 0 0 0 0 0 0 0 0 0 0 0 0 0 0 0 0 0 0 0 0 0 0 0 0 0 0 0 0 0 0 0 0 0 0 0 0 0 0 0 0 0 0 0 0 0 0 0 0 0 0 0 0 0 0 0 0 0 0 0 0 0 0 0 0 0 0 0 0 0 0 0 0 0 0 0 0 0 0 0 0 0 0 0 0 0 0 0 0 0 0 0 0 0 0 0 0 0 0 0 0 0 0 0 0 0 0 0 0 0 0 0 0 0 0 0 0 0 0 0 0 0 0 0 0 0 0 0 0 0 0 0 0 0 0 0 0 0 0 0 0 0 0 0 0 0 0 0 0 0 0 0 0 0 0 0 0 0 0 0 0 0 0 0 0 0 0 0 0 0 0 0 0 0 0 0 0 0 0 0 0 0 0 0 0 0 0 0 0 0 0 0 0 0 0 0 0 0 0 0 0 0 0 0 0 0 0 0 0 0 0 0 0 0 0 0 0 0 0 0 0 0 0 0 0 0 0 0 0 0 0 0 0 0 0 0 0 0 0 0 0 0 0 0 0 0 0 0 0 0 0 0 0 0 0 0 0 0 0 0 0 0 0 0 0 0 0 0 0 0 0 0 0 0 0 0 0 0 0 0 0 0 0 0 0 0 0 0 0 0 0 0 0 0 0 0 0 0 0 0 0 0 0 0 0 0 0 0 0 0 0 0 0 0 0 0 0 0 0 0 0 0 0 0 0 0 0 0 0 0 0 0 0 0 0 0 0 0 0 0 0\n"
          ]
        },
        {
          "output_type": "stream",
          "name": "stderr",
          "text": [
            "INFO:tensorflow:segment_ids: 0 0 0 0 0 0 0 0 0 0 0 0 0 0 0 0 0 0 0 0 0 0 0 0 0 0 0 0 0 0 0 0 0 0 0 0 0 0 0 0 0 0 0 0 0 0 0 0 0 0 0 0 0 0 0 0 0 0 0 0 0 0 0 0 0 0 0 0 0 0 0 0 0 0 0 0 0 0 0 0 0 0 0 0 0 0 0 0 0 0 0 0 0 0 0 0 0 0 0 0 0 0 0 0 0 0 0 0 0 0 0 0 0 0 0 0 0 0 0 0 0 0 0 0 0 0 0 0 0 0 0 0 0 0 0 0 0 0 0 0 0 0 0 0 0 0 0 0 0 0 0 0 0 0 0 0 0 0 0 0 0 0 0 0 0 0 0 0 0 0 0 0 0 0 0 0 0 0 0 0 0 0 0 0 0 0 0 0 0 0 0 0 0 0 0 0 0 0 0 0 0 0 0 0 0 0 0 0 0 0 0 0 0 0 0 0 0 0 0 0 0 0 0 0 0 0 0 0 0 0 0 0 0 0 0 0 0 0 0 0 0 0 0 0 0 0 0 0 0 0 0 0 0 0 0 0 0 0 0 0 0 0 0 0 0 0 0 0 0 0 0 0 0 0 0 0 0 0 0 0 0 0 0 0 0 0 0 0 0 0 0 0 0 0 0 0 0 0 0 0 0 0 0 0 0 0 0 0 0 0 0 0 0 0 0 0 0 0 0 0 0 0 0 0 0 0 0 0 0 0 0 0 0 0 0 0 0 0 0 0 0 0 0 0 0 0 0 0 0 0 0 0 0 0 0 0 0 0 0 0 0 0 0 0 0 0 0 0 0 0 0 0 0 0 0 0 0 0 0 0 0 0 0 0 0 0 0 0 0 0 0 0 0 0 0 0 0 0 0 0 0 0 0 0 0 0 0 0 0 0 0 0 0 0 0 0 0 0 0 0 0 0 0 0 0 0 0 0 0 0 0 0 0 0 0 0 0 0 0 0 0 0 0 0 0 0 0 0 0 0 0 0 0 0 0 0 0 0 0 0 0 0 0 0 0 0 0 0 0 0 0 0 0 0 0 0 0 0 0 0 0 0 0 0 0 0 0 0 0 0 0 0 0 0 0 0 0 0 0 0 0 0 0 0 0 0 0 0 0 0 0 0\n"
          ]
        },
        {
          "output_type": "stream",
          "name": "stdout",
          "text": [
            "INFO:tensorflow:label: 0 (id = 0)\n"
          ]
        },
        {
          "output_type": "stream",
          "name": "stderr",
          "text": [
            "INFO:tensorflow:label: 0 (id = 0)\n"
          ]
        },
        {
          "output_type": "stream",
          "name": "stdout",
          "text": [
            "INFO:tensorflow:*** Example ***\n"
          ]
        },
        {
          "output_type": "stream",
          "name": "stderr",
          "text": [
            "INFO:tensorflow:*** Example ***\n"
          ]
        },
        {
          "output_type": "stream",
          "name": "stdout",
          "text": [
            "INFO:tensorflow:guid: \n"
          ]
        },
        {
          "output_type": "stream",
          "name": "stderr",
          "text": [
            "INFO:tensorflow:guid: \n"
          ]
        },
        {
          "output_type": "stream",
          "name": "stdout",
          "text": [
            "INFO:tensorflow:tokens: [CLS] james bond and q and spies and agent [SEP]\n"
          ]
        },
        {
          "output_type": "stream",
          "name": "stderr",
          "text": [
            "INFO:tensorflow:tokens: [CLS] james bond and q and spies and agent [SEP]\n"
          ]
        },
        {
          "output_type": "stream",
          "name": "stdout",
          "text": [
            "INFO:tensorflow:input_ids: 101 2508 5416 1998 1053 1998 16794 1998 4005 102 0 0 0 0 0 0 0 0 0 0 0 0 0 0 0 0 0 0 0 0 0 0 0 0 0 0 0 0 0 0 0 0 0 0 0 0 0 0 0 0 0 0 0 0 0 0 0 0 0 0 0 0 0 0 0 0 0 0 0 0 0 0 0 0 0 0 0 0 0 0 0 0 0 0 0 0 0 0 0 0 0 0 0 0 0 0 0 0 0 0 0 0 0 0 0 0 0 0 0 0 0 0 0 0 0 0 0 0 0 0 0 0 0 0 0 0 0 0 0 0 0 0 0 0 0 0 0 0 0 0 0 0 0 0 0 0 0 0 0 0 0 0 0 0 0 0 0 0 0 0 0 0 0 0 0 0 0 0 0 0 0 0 0 0 0 0 0 0 0 0 0 0 0 0 0 0 0 0 0 0 0 0 0 0 0 0 0 0 0 0 0 0 0 0 0 0 0 0 0 0 0 0 0 0 0 0 0 0 0 0 0 0 0 0 0 0 0 0 0 0 0 0 0 0 0 0 0 0 0 0 0 0 0 0 0 0 0 0 0 0 0 0 0 0 0 0 0 0 0 0 0 0 0 0 0 0 0 0 0 0 0 0 0 0 0 0 0 0 0 0 0 0 0 0 0 0 0 0 0 0 0 0 0 0 0 0 0 0 0 0 0 0 0 0 0 0 0 0 0 0 0 0 0 0 0 0 0 0 0 0 0 0 0 0 0 0 0 0 0 0 0 0 0 0 0 0 0 0 0 0 0 0 0 0 0 0 0 0 0 0 0 0 0 0 0 0 0 0 0 0 0 0 0 0 0 0 0 0 0 0 0 0 0 0 0 0 0 0 0 0 0 0 0 0 0 0 0 0 0 0 0 0 0 0 0 0 0 0 0 0 0 0 0 0 0 0 0 0 0 0 0 0 0 0 0 0 0 0 0 0 0 0 0 0 0 0 0 0 0 0 0 0 0 0 0 0 0 0 0 0 0 0 0 0 0 0 0 0 0 0 0 0 0 0 0 0 0 0 0 0 0 0 0 0 0 0 0 0 0 0 0 0 0 0 0 0 0 0 0 0 0 0 0 0 0 0 0 0 0 0 0 0 0 0 0 0 0 0 0 0 0 0 0 0 0 0 0 0 0 0 0 0\n"
          ]
        },
        {
          "output_type": "stream",
          "name": "stderr",
          "text": [
            "INFO:tensorflow:input_ids: 101 2508 5416 1998 1053 1998 16794 1998 4005 102 0 0 0 0 0 0 0 0 0 0 0 0 0 0 0 0 0 0 0 0 0 0 0 0 0 0 0 0 0 0 0 0 0 0 0 0 0 0 0 0 0 0 0 0 0 0 0 0 0 0 0 0 0 0 0 0 0 0 0 0 0 0 0 0 0 0 0 0 0 0 0 0 0 0 0 0 0 0 0 0 0 0 0 0 0 0 0 0 0 0 0 0 0 0 0 0 0 0 0 0 0 0 0 0 0 0 0 0 0 0 0 0 0 0 0 0 0 0 0 0 0 0 0 0 0 0 0 0 0 0 0 0 0 0 0 0 0 0 0 0 0 0 0 0 0 0 0 0 0 0 0 0 0 0 0 0 0 0 0 0 0 0 0 0 0 0 0 0 0 0 0 0 0 0 0 0 0 0 0 0 0 0 0 0 0 0 0 0 0 0 0 0 0 0 0 0 0 0 0 0 0 0 0 0 0 0 0 0 0 0 0 0 0 0 0 0 0 0 0 0 0 0 0 0 0 0 0 0 0 0 0 0 0 0 0 0 0 0 0 0 0 0 0 0 0 0 0 0 0 0 0 0 0 0 0 0 0 0 0 0 0 0 0 0 0 0 0 0 0 0 0 0 0 0 0 0 0 0 0 0 0 0 0 0 0 0 0 0 0 0 0 0 0 0 0 0 0 0 0 0 0 0 0 0 0 0 0 0 0 0 0 0 0 0 0 0 0 0 0 0 0 0 0 0 0 0 0 0 0 0 0 0 0 0 0 0 0 0 0 0 0 0 0 0 0 0 0 0 0 0 0 0 0 0 0 0 0 0 0 0 0 0 0 0 0 0 0 0 0 0 0 0 0 0 0 0 0 0 0 0 0 0 0 0 0 0 0 0 0 0 0 0 0 0 0 0 0 0 0 0 0 0 0 0 0 0 0 0 0 0 0 0 0 0 0 0 0 0 0 0 0 0 0 0 0 0 0 0 0 0 0 0 0 0 0 0 0 0 0 0 0 0 0 0 0 0 0 0 0 0 0 0 0 0 0 0 0 0 0 0 0 0 0 0 0 0 0 0 0 0 0 0 0 0 0 0 0 0 0 0 0 0 0 0 0 0 0 0 0 0 0 0 0 0 0 0 0 0 0 0 0 0\n"
          ]
        },
        {
          "output_type": "stream",
          "name": "stdout",
          "text": [
            "INFO:tensorflow:input_mask: 1 1 1 1 1 1 1 1 1 1 0 0 0 0 0 0 0 0 0 0 0 0 0 0 0 0 0 0 0 0 0 0 0 0 0 0 0 0 0 0 0 0 0 0 0 0 0 0 0 0 0 0 0 0 0 0 0 0 0 0 0 0 0 0 0 0 0 0 0 0 0 0 0 0 0 0 0 0 0 0 0 0 0 0 0 0 0 0 0 0 0 0 0 0 0 0 0 0 0 0 0 0 0 0 0 0 0 0 0 0 0 0 0 0 0 0 0 0 0 0 0 0 0 0 0 0 0 0 0 0 0 0 0 0 0 0 0 0 0 0 0 0 0 0 0 0 0 0 0 0 0 0 0 0 0 0 0 0 0 0 0 0 0 0 0 0 0 0 0 0 0 0 0 0 0 0 0 0 0 0 0 0 0 0 0 0 0 0 0 0 0 0 0 0 0 0 0 0 0 0 0 0 0 0 0 0 0 0 0 0 0 0 0 0 0 0 0 0 0 0 0 0 0 0 0 0 0 0 0 0 0 0 0 0 0 0 0 0 0 0 0 0 0 0 0 0 0 0 0 0 0 0 0 0 0 0 0 0 0 0 0 0 0 0 0 0 0 0 0 0 0 0 0 0 0 0 0 0 0 0 0 0 0 0 0 0 0 0 0 0 0 0 0 0 0 0 0 0 0 0 0 0 0 0 0 0 0 0 0 0 0 0 0 0 0 0 0 0 0 0 0 0 0 0 0 0 0 0 0 0 0 0 0 0 0 0 0 0 0 0 0 0 0 0 0 0 0 0 0 0 0 0 0 0 0 0 0 0 0 0 0 0 0 0 0 0 0 0 0 0 0 0 0 0 0 0 0 0 0 0 0 0 0 0 0 0 0 0 0 0 0 0 0 0 0 0 0 0 0 0 0 0 0 0 0 0 0 0 0 0 0 0 0 0 0 0 0 0 0 0 0 0 0 0 0 0 0 0 0 0 0 0 0 0 0 0 0 0 0 0 0 0 0 0 0 0 0 0 0 0 0 0 0 0 0 0 0 0 0 0 0 0 0 0 0 0 0 0 0 0 0 0 0 0 0 0 0 0 0 0 0 0 0 0 0 0 0 0 0 0 0 0 0 0 0 0 0 0 0 0 0 0 0 0 0 0 0 0 0 0 0 0\n"
          ]
        },
        {
          "output_type": "stream",
          "name": "stderr",
          "text": [
            "INFO:tensorflow:input_mask: 1 1 1 1 1 1 1 1 1 1 0 0 0 0 0 0 0 0 0 0 0 0 0 0 0 0 0 0 0 0 0 0 0 0 0 0 0 0 0 0 0 0 0 0 0 0 0 0 0 0 0 0 0 0 0 0 0 0 0 0 0 0 0 0 0 0 0 0 0 0 0 0 0 0 0 0 0 0 0 0 0 0 0 0 0 0 0 0 0 0 0 0 0 0 0 0 0 0 0 0 0 0 0 0 0 0 0 0 0 0 0 0 0 0 0 0 0 0 0 0 0 0 0 0 0 0 0 0 0 0 0 0 0 0 0 0 0 0 0 0 0 0 0 0 0 0 0 0 0 0 0 0 0 0 0 0 0 0 0 0 0 0 0 0 0 0 0 0 0 0 0 0 0 0 0 0 0 0 0 0 0 0 0 0 0 0 0 0 0 0 0 0 0 0 0 0 0 0 0 0 0 0 0 0 0 0 0 0 0 0 0 0 0 0 0 0 0 0 0 0 0 0 0 0 0 0 0 0 0 0 0 0 0 0 0 0 0 0 0 0 0 0 0 0 0 0 0 0 0 0 0 0 0 0 0 0 0 0 0 0 0 0 0 0 0 0 0 0 0 0 0 0 0 0 0 0 0 0 0 0 0 0 0 0 0 0 0 0 0 0 0 0 0 0 0 0 0 0 0 0 0 0 0 0 0 0 0 0 0 0 0 0 0 0 0 0 0 0 0 0 0 0 0 0 0 0 0 0 0 0 0 0 0 0 0 0 0 0 0 0 0 0 0 0 0 0 0 0 0 0 0 0 0 0 0 0 0 0 0 0 0 0 0 0 0 0 0 0 0 0 0 0 0 0 0 0 0 0 0 0 0 0 0 0 0 0 0 0 0 0 0 0 0 0 0 0 0 0 0 0 0 0 0 0 0 0 0 0 0 0 0 0 0 0 0 0 0 0 0 0 0 0 0 0 0 0 0 0 0 0 0 0 0 0 0 0 0 0 0 0 0 0 0 0 0 0 0 0 0 0 0 0 0 0 0 0 0 0 0 0 0 0 0 0 0 0 0 0 0 0 0 0 0 0 0 0 0 0 0 0 0 0 0 0 0 0 0 0 0 0 0 0 0 0 0 0 0 0 0 0 0 0 0 0 0 0 0 0 0 0 0 0\n"
          ]
        },
        {
          "output_type": "stream",
          "name": "stdout",
          "text": [
            "INFO:tensorflow:segment_ids: 0 0 0 0 0 0 0 0 0 0 0 0 0 0 0 0 0 0 0 0 0 0 0 0 0 0 0 0 0 0 0 0 0 0 0 0 0 0 0 0 0 0 0 0 0 0 0 0 0 0 0 0 0 0 0 0 0 0 0 0 0 0 0 0 0 0 0 0 0 0 0 0 0 0 0 0 0 0 0 0 0 0 0 0 0 0 0 0 0 0 0 0 0 0 0 0 0 0 0 0 0 0 0 0 0 0 0 0 0 0 0 0 0 0 0 0 0 0 0 0 0 0 0 0 0 0 0 0 0 0 0 0 0 0 0 0 0 0 0 0 0 0 0 0 0 0 0 0 0 0 0 0 0 0 0 0 0 0 0 0 0 0 0 0 0 0 0 0 0 0 0 0 0 0 0 0 0 0 0 0 0 0 0 0 0 0 0 0 0 0 0 0 0 0 0 0 0 0 0 0 0 0 0 0 0 0 0 0 0 0 0 0 0 0 0 0 0 0 0 0 0 0 0 0 0 0 0 0 0 0 0 0 0 0 0 0 0 0 0 0 0 0 0 0 0 0 0 0 0 0 0 0 0 0 0 0 0 0 0 0 0 0 0 0 0 0 0 0 0 0 0 0 0 0 0 0 0 0 0 0 0 0 0 0 0 0 0 0 0 0 0 0 0 0 0 0 0 0 0 0 0 0 0 0 0 0 0 0 0 0 0 0 0 0 0 0 0 0 0 0 0 0 0 0 0 0 0 0 0 0 0 0 0 0 0 0 0 0 0 0 0 0 0 0 0 0 0 0 0 0 0 0 0 0 0 0 0 0 0 0 0 0 0 0 0 0 0 0 0 0 0 0 0 0 0 0 0 0 0 0 0 0 0 0 0 0 0 0 0 0 0 0 0 0 0 0 0 0 0 0 0 0 0 0 0 0 0 0 0 0 0 0 0 0 0 0 0 0 0 0 0 0 0 0 0 0 0 0 0 0 0 0 0 0 0 0 0 0 0 0 0 0 0 0 0 0 0 0 0 0 0 0 0 0 0 0 0 0 0 0 0 0 0 0 0 0 0 0 0 0 0 0 0 0 0 0 0 0 0 0 0 0 0 0 0 0 0 0 0 0 0 0 0 0 0 0 0 0 0 0 0 0 0 0 0 0 0 0 0 0 0 0\n"
          ]
        },
        {
          "output_type": "stream",
          "name": "stderr",
          "text": [
            "INFO:tensorflow:segment_ids: 0 0 0 0 0 0 0 0 0 0 0 0 0 0 0 0 0 0 0 0 0 0 0 0 0 0 0 0 0 0 0 0 0 0 0 0 0 0 0 0 0 0 0 0 0 0 0 0 0 0 0 0 0 0 0 0 0 0 0 0 0 0 0 0 0 0 0 0 0 0 0 0 0 0 0 0 0 0 0 0 0 0 0 0 0 0 0 0 0 0 0 0 0 0 0 0 0 0 0 0 0 0 0 0 0 0 0 0 0 0 0 0 0 0 0 0 0 0 0 0 0 0 0 0 0 0 0 0 0 0 0 0 0 0 0 0 0 0 0 0 0 0 0 0 0 0 0 0 0 0 0 0 0 0 0 0 0 0 0 0 0 0 0 0 0 0 0 0 0 0 0 0 0 0 0 0 0 0 0 0 0 0 0 0 0 0 0 0 0 0 0 0 0 0 0 0 0 0 0 0 0 0 0 0 0 0 0 0 0 0 0 0 0 0 0 0 0 0 0 0 0 0 0 0 0 0 0 0 0 0 0 0 0 0 0 0 0 0 0 0 0 0 0 0 0 0 0 0 0 0 0 0 0 0 0 0 0 0 0 0 0 0 0 0 0 0 0 0 0 0 0 0 0 0 0 0 0 0 0 0 0 0 0 0 0 0 0 0 0 0 0 0 0 0 0 0 0 0 0 0 0 0 0 0 0 0 0 0 0 0 0 0 0 0 0 0 0 0 0 0 0 0 0 0 0 0 0 0 0 0 0 0 0 0 0 0 0 0 0 0 0 0 0 0 0 0 0 0 0 0 0 0 0 0 0 0 0 0 0 0 0 0 0 0 0 0 0 0 0 0 0 0 0 0 0 0 0 0 0 0 0 0 0 0 0 0 0 0 0 0 0 0 0 0 0 0 0 0 0 0 0 0 0 0 0 0 0 0 0 0 0 0 0 0 0 0 0 0 0 0 0 0 0 0 0 0 0 0 0 0 0 0 0 0 0 0 0 0 0 0 0 0 0 0 0 0 0 0 0 0 0 0 0 0 0 0 0 0 0 0 0 0 0 0 0 0 0 0 0 0 0 0 0 0 0 0 0 0 0 0 0 0 0 0 0 0 0 0 0 0 0 0 0 0 0 0 0 0 0 0 0 0 0 0 0 0 0 0 0 0 0 0\n"
          ]
        },
        {
          "output_type": "stream",
          "name": "stdout",
          "text": [
            "INFO:tensorflow:label: 0 (id = 0)\n"
          ]
        },
        {
          "output_type": "stream",
          "name": "stderr",
          "text": [
            "INFO:tensorflow:label: 0 (id = 0)\n"
          ]
        },
        {
          "output_type": "stream",
          "name": "stdout",
          "text": [
            "INFO:tensorflow:*** Example ***\n"
          ]
        },
        {
          "output_type": "stream",
          "name": "stderr",
          "text": [
            "INFO:tensorflow:*** Example ***\n"
          ]
        },
        {
          "output_type": "stream",
          "name": "stdout",
          "text": [
            "INFO:tensorflow:guid: \n"
          ]
        },
        {
          "output_type": "stream",
          "name": "stderr",
          "text": [
            "INFO:tensorflow:guid: \n"
          ]
        },
        {
          "output_type": "stream",
          "name": "stdout",
          "text": [
            "INFO:tensorflow:tokens: [CLS] harry potter and her ##mi ##one were hiding under a tree [SEP]\n"
          ]
        },
        {
          "output_type": "stream",
          "name": "stderr",
          "text": [
            "INFO:tensorflow:tokens: [CLS] harry potter and her ##mi ##one were hiding under a tree [SEP]\n"
          ]
        },
        {
          "output_type": "stream",
          "name": "stdout",
          "text": [
            "INFO:tensorflow:input_ids: 101 4302 10693 1998 2014 4328 5643 2020 6318 2104 1037 3392 102 0 0 0 0 0 0 0 0 0 0 0 0 0 0 0 0 0 0 0 0 0 0 0 0 0 0 0 0 0 0 0 0 0 0 0 0 0 0 0 0 0 0 0 0 0 0 0 0 0 0 0 0 0 0 0 0 0 0 0 0 0 0 0 0 0 0 0 0 0 0 0 0 0 0 0 0 0 0 0 0 0 0 0 0 0 0 0 0 0 0 0 0 0 0 0 0 0 0 0 0 0 0 0 0 0 0 0 0 0 0 0 0 0 0 0 0 0 0 0 0 0 0 0 0 0 0 0 0 0 0 0 0 0 0 0 0 0 0 0 0 0 0 0 0 0 0 0 0 0 0 0 0 0 0 0 0 0 0 0 0 0 0 0 0 0 0 0 0 0 0 0 0 0 0 0 0 0 0 0 0 0 0 0 0 0 0 0 0 0 0 0 0 0 0 0 0 0 0 0 0 0 0 0 0 0 0 0 0 0 0 0 0 0 0 0 0 0 0 0 0 0 0 0 0 0 0 0 0 0 0 0 0 0 0 0 0 0 0 0 0 0 0 0 0 0 0 0 0 0 0 0 0 0 0 0 0 0 0 0 0 0 0 0 0 0 0 0 0 0 0 0 0 0 0 0 0 0 0 0 0 0 0 0 0 0 0 0 0 0 0 0 0 0 0 0 0 0 0 0 0 0 0 0 0 0 0 0 0 0 0 0 0 0 0 0 0 0 0 0 0 0 0 0 0 0 0 0 0 0 0 0 0 0 0 0 0 0 0 0 0 0 0 0 0 0 0 0 0 0 0 0 0 0 0 0 0 0 0 0 0 0 0 0 0 0 0 0 0 0 0 0 0 0 0 0 0 0 0 0 0 0 0 0 0 0 0 0 0 0 0 0 0 0 0 0 0 0 0 0 0 0 0 0 0 0 0 0 0 0 0 0 0 0 0 0 0 0 0 0 0 0 0 0 0 0 0 0 0 0 0 0 0 0 0 0 0 0 0 0 0 0 0 0 0 0 0 0 0 0 0 0 0 0 0 0 0 0 0 0 0 0 0 0 0 0 0 0 0 0 0 0 0 0 0 0 0 0 0 0 0 0 0 0 0 0 0 0 0 0 0 0 0 0 0 0 0 0 0 0\n"
          ]
        },
        {
          "output_type": "stream",
          "name": "stderr",
          "text": [
            "INFO:tensorflow:input_ids: 101 4302 10693 1998 2014 4328 5643 2020 6318 2104 1037 3392 102 0 0 0 0 0 0 0 0 0 0 0 0 0 0 0 0 0 0 0 0 0 0 0 0 0 0 0 0 0 0 0 0 0 0 0 0 0 0 0 0 0 0 0 0 0 0 0 0 0 0 0 0 0 0 0 0 0 0 0 0 0 0 0 0 0 0 0 0 0 0 0 0 0 0 0 0 0 0 0 0 0 0 0 0 0 0 0 0 0 0 0 0 0 0 0 0 0 0 0 0 0 0 0 0 0 0 0 0 0 0 0 0 0 0 0 0 0 0 0 0 0 0 0 0 0 0 0 0 0 0 0 0 0 0 0 0 0 0 0 0 0 0 0 0 0 0 0 0 0 0 0 0 0 0 0 0 0 0 0 0 0 0 0 0 0 0 0 0 0 0 0 0 0 0 0 0 0 0 0 0 0 0 0 0 0 0 0 0 0 0 0 0 0 0 0 0 0 0 0 0 0 0 0 0 0 0 0 0 0 0 0 0 0 0 0 0 0 0 0 0 0 0 0 0 0 0 0 0 0 0 0 0 0 0 0 0 0 0 0 0 0 0 0 0 0 0 0 0 0 0 0 0 0 0 0 0 0 0 0 0 0 0 0 0 0 0 0 0 0 0 0 0 0 0 0 0 0 0 0 0 0 0 0 0 0 0 0 0 0 0 0 0 0 0 0 0 0 0 0 0 0 0 0 0 0 0 0 0 0 0 0 0 0 0 0 0 0 0 0 0 0 0 0 0 0 0 0 0 0 0 0 0 0 0 0 0 0 0 0 0 0 0 0 0 0 0 0 0 0 0 0 0 0 0 0 0 0 0 0 0 0 0 0 0 0 0 0 0 0 0 0 0 0 0 0 0 0 0 0 0 0 0 0 0 0 0 0 0 0 0 0 0 0 0 0 0 0 0 0 0 0 0 0 0 0 0 0 0 0 0 0 0 0 0 0 0 0 0 0 0 0 0 0 0 0 0 0 0 0 0 0 0 0 0 0 0 0 0 0 0 0 0 0 0 0 0 0 0 0 0 0 0 0 0 0 0 0 0 0 0 0 0 0 0 0 0 0 0 0 0 0 0 0 0 0 0 0 0 0 0 0 0 0 0 0 0 0 0 0 0 0 0 0 0 0 0 0 0 0\n"
          ]
        },
        {
          "output_type": "stream",
          "name": "stdout",
          "text": [
            "INFO:tensorflow:input_mask: 1 1 1 1 1 1 1 1 1 1 1 1 1 0 0 0 0 0 0 0 0 0 0 0 0 0 0 0 0 0 0 0 0 0 0 0 0 0 0 0 0 0 0 0 0 0 0 0 0 0 0 0 0 0 0 0 0 0 0 0 0 0 0 0 0 0 0 0 0 0 0 0 0 0 0 0 0 0 0 0 0 0 0 0 0 0 0 0 0 0 0 0 0 0 0 0 0 0 0 0 0 0 0 0 0 0 0 0 0 0 0 0 0 0 0 0 0 0 0 0 0 0 0 0 0 0 0 0 0 0 0 0 0 0 0 0 0 0 0 0 0 0 0 0 0 0 0 0 0 0 0 0 0 0 0 0 0 0 0 0 0 0 0 0 0 0 0 0 0 0 0 0 0 0 0 0 0 0 0 0 0 0 0 0 0 0 0 0 0 0 0 0 0 0 0 0 0 0 0 0 0 0 0 0 0 0 0 0 0 0 0 0 0 0 0 0 0 0 0 0 0 0 0 0 0 0 0 0 0 0 0 0 0 0 0 0 0 0 0 0 0 0 0 0 0 0 0 0 0 0 0 0 0 0 0 0 0 0 0 0 0 0 0 0 0 0 0 0 0 0 0 0 0 0 0 0 0 0 0 0 0 0 0 0 0 0 0 0 0 0 0 0 0 0 0 0 0 0 0 0 0 0 0 0 0 0 0 0 0 0 0 0 0 0 0 0 0 0 0 0 0 0 0 0 0 0 0 0 0 0 0 0 0 0 0 0 0 0 0 0 0 0 0 0 0 0 0 0 0 0 0 0 0 0 0 0 0 0 0 0 0 0 0 0 0 0 0 0 0 0 0 0 0 0 0 0 0 0 0 0 0 0 0 0 0 0 0 0 0 0 0 0 0 0 0 0 0 0 0 0 0 0 0 0 0 0 0 0 0 0 0 0 0 0 0 0 0 0 0 0 0 0 0 0 0 0 0 0 0 0 0 0 0 0 0 0 0 0 0 0 0 0 0 0 0 0 0 0 0 0 0 0 0 0 0 0 0 0 0 0 0 0 0 0 0 0 0 0 0 0 0 0 0 0 0 0 0 0 0 0 0 0 0 0 0 0 0 0 0 0 0 0 0 0 0 0 0 0 0 0 0 0 0 0 0 0 0 0 0 0 0 0\n"
          ]
        },
        {
          "output_type": "stream",
          "name": "stderr",
          "text": [
            "INFO:tensorflow:input_mask: 1 1 1 1 1 1 1 1 1 1 1 1 1 0 0 0 0 0 0 0 0 0 0 0 0 0 0 0 0 0 0 0 0 0 0 0 0 0 0 0 0 0 0 0 0 0 0 0 0 0 0 0 0 0 0 0 0 0 0 0 0 0 0 0 0 0 0 0 0 0 0 0 0 0 0 0 0 0 0 0 0 0 0 0 0 0 0 0 0 0 0 0 0 0 0 0 0 0 0 0 0 0 0 0 0 0 0 0 0 0 0 0 0 0 0 0 0 0 0 0 0 0 0 0 0 0 0 0 0 0 0 0 0 0 0 0 0 0 0 0 0 0 0 0 0 0 0 0 0 0 0 0 0 0 0 0 0 0 0 0 0 0 0 0 0 0 0 0 0 0 0 0 0 0 0 0 0 0 0 0 0 0 0 0 0 0 0 0 0 0 0 0 0 0 0 0 0 0 0 0 0 0 0 0 0 0 0 0 0 0 0 0 0 0 0 0 0 0 0 0 0 0 0 0 0 0 0 0 0 0 0 0 0 0 0 0 0 0 0 0 0 0 0 0 0 0 0 0 0 0 0 0 0 0 0 0 0 0 0 0 0 0 0 0 0 0 0 0 0 0 0 0 0 0 0 0 0 0 0 0 0 0 0 0 0 0 0 0 0 0 0 0 0 0 0 0 0 0 0 0 0 0 0 0 0 0 0 0 0 0 0 0 0 0 0 0 0 0 0 0 0 0 0 0 0 0 0 0 0 0 0 0 0 0 0 0 0 0 0 0 0 0 0 0 0 0 0 0 0 0 0 0 0 0 0 0 0 0 0 0 0 0 0 0 0 0 0 0 0 0 0 0 0 0 0 0 0 0 0 0 0 0 0 0 0 0 0 0 0 0 0 0 0 0 0 0 0 0 0 0 0 0 0 0 0 0 0 0 0 0 0 0 0 0 0 0 0 0 0 0 0 0 0 0 0 0 0 0 0 0 0 0 0 0 0 0 0 0 0 0 0 0 0 0 0 0 0 0 0 0 0 0 0 0 0 0 0 0 0 0 0 0 0 0 0 0 0 0 0 0 0 0 0 0 0 0 0 0 0 0 0 0 0 0 0 0 0 0 0 0 0 0 0 0 0 0 0 0 0 0 0 0 0 0 0 0 0 0 0 0 0 0\n"
          ]
        },
        {
          "output_type": "stream",
          "name": "stdout",
          "text": [
            "INFO:tensorflow:segment_ids: 0 0 0 0 0 0 0 0 0 0 0 0 0 0 0 0 0 0 0 0 0 0 0 0 0 0 0 0 0 0 0 0 0 0 0 0 0 0 0 0 0 0 0 0 0 0 0 0 0 0 0 0 0 0 0 0 0 0 0 0 0 0 0 0 0 0 0 0 0 0 0 0 0 0 0 0 0 0 0 0 0 0 0 0 0 0 0 0 0 0 0 0 0 0 0 0 0 0 0 0 0 0 0 0 0 0 0 0 0 0 0 0 0 0 0 0 0 0 0 0 0 0 0 0 0 0 0 0 0 0 0 0 0 0 0 0 0 0 0 0 0 0 0 0 0 0 0 0 0 0 0 0 0 0 0 0 0 0 0 0 0 0 0 0 0 0 0 0 0 0 0 0 0 0 0 0 0 0 0 0 0 0 0 0 0 0 0 0 0 0 0 0 0 0 0 0 0 0 0 0 0 0 0 0 0 0 0 0 0 0 0 0 0 0 0 0 0 0 0 0 0 0 0 0 0 0 0 0 0 0 0 0 0 0 0 0 0 0 0 0 0 0 0 0 0 0 0 0 0 0 0 0 0 0 0 0 0 0 0 0 0 0 0 0 0 0 0 0 0 0 0 0 0 0 0 0 0 0 0 0 0 0 0 0 0 0 0 0 0 0 0 0 0 0 0 0 0 0 0 0 0 0 0 0 0 0 0 0 0 0 0 0 0 0 0 0 0 0 0 0 0 0 0 0 0 0 0 0 0 0 0 0 0 0 0 0 0 0 0 0 0 0 0 0 0 0 0 0 0 0 0 0 0 0 0 0 0 0 0 0 0 0 0 0 0 0 0 0 0 0 0 0 0 0 0 0 0 0 0 0 0 0 0 0 0 0 0 0 0 0 0 0 0 0 0 0 0 0 0 0 0 0 0 0 0 0 0 0 0 0 0 0 0 0 0 0 0 0 0 0 0 0 0 0 0 0 0 0 0 0 0 0 0 0 0 0 0 0 0 0 0 0 0 0 0 0 0 0 0 0 0 0 0 0 0 0 0 0 0 0 0 0 0 0 0 0 0 0 0 0 0 0 0 0 0 0 0 0 0 0 0 0 0 0 0 0 0 0 0 0 0 0 0 0 0 0 0 0 0 0 0 0 0 0 0 0 0 0 0 0 0 0\n"
          ]
        },
        {
          "output_type": "stream",
          "name": "stderr",
          "text": [
            "INFO:tensorflow:segment_ids: 0 0 0 0 0 0 0 0 0 0 0 0 0 0 0 0 0 0 0 0 0 0 0 0 0 0 0 0 0 0 0 0 0 0 0 0 0 0 0 0 0 0 0 0 0 0 0 0 0 0 0 0 0 0 0 0 0 0 0 0 0 0 0 0 0 0 0 0 0 0 0 0 0 0 0 0 0 0 0 0 0 0 0 0 0 0 0 0 0 0 0 0 0 0 0 0 0 0 0 0 0 0 0 0 0 0 0 0 0 0 0 0 0 0 0 0 0 0 0 0 0 0 0 0 0 0 0 0 0 0 0 0 0 0 0 0 0 0 0 0 0 0 0 0 0 0 0 0 0 0 0 0 0 0 0 0 0 0 0 0 0 0 0 0 0 0 0 0 0 0 0 0 0 0 0 0 0 0 0 0 0 0 0 0 0 0 0 0 0 0 0 0 0 0 0 0 0 0 0 0 0 0 0 0 0 0 0 0 0 0 0 0 0 0 0 0 0 0 0 0 0 0 0 0 0 0 0 0 0 0 0 0 0 0 0 0 0 0 0 0 0 0 0 0 0 0 0 0 0 0 0 0 0 0 0 0 0 0 0 0 0 0 0 0 0 0 0 0 0 0 0 0 0 0 0 0 0 0 0 0 0 0 0 0 0 0 0 0 0 0 0 0 0 0 0 0 0 0 0 0 0 0 0 0 0 0 0 0 0 0 0 0 0 0 0 0 0 0 0 0 0 0 0 0 0 0 0 0 0 0 0 0 0 0 0 0 0 0 0 0 0 0 0 0 0 0 0 0 0 0 0 0 0 0 0 0 0 0 0 0 0 0 0 0 0 0 0 0 0 0 0 0 0 0 0 0 0 0 0 0 0 0 0 0 0 0 0 0 0 0 0 0 0 0 0 0 0 0 0 0 0 0 0 0 0 0 0 0 0 0 0 0 0 0 0 0 0 0 0 0 0 0 0 0 0 0 0 0 0 0 0 0 0 0 0 0 0 0 0 0 0 0 0 0 0 0 0 0 0 0 0 0 0 0 0 0 0 0 0 0 0 0 0 0 0 0 0 0 0 0 0 0 0 0 0 0 0 0 0 0 0 0 0 0 0 0 0 0 0 0 0 0 0 0 0 0 0 0 0 0 0 0 0 0 0 0 0 0 0 0 0 0\n"
          ]
        },
        {
          "output_type": "stream",
          "name": "stdout",
          "text": [
            "INFO:tensorflow:label: 0 (id = 0)\n"
          ]
        },
        {
          "output_type": "stream",
          "name": "stderr",
          "text": [
            "INFO:tensorflow:label: 0 (id = 0)\n"
          ]
        },
        {
          "output_type": "stream",
          "name": "stdout",
          "text": [
            "INFO:tensorflow:*** Example ***\n"
          ]
        },
        {
          "output_type": "stream",
          "name": "stderr",
          "text": [
            "INFO:tensorflow:*** Example ***\n"
          ]
        },
        {
          "output_type": "stream",
          "name": "stdout",
          "text": [
            "INFO:tensorflow:guid: \n"
          ]
        },
        {
          "output_type": "stream",
          "name": "stderr",
          "text": [
            "INFO:tensorflow:guid: \n"
          ]
        },
        {
          "output_type": "stream",
          "name": "stdout",
          "text": [
            "INFO:tensorflow:tokens: [CLS] ka ##z br ##ek ##ker attacked a gang member . in ##ej g ##ha ##fa and je ##sper sneak ##y sneak ##y [SEP]\n"
          ]
        },
        {
          "output_type": "stream",
          "name": "stderr",
          "text": [
            "INFO:tensorflow:tokens: [CLS] ka ##z br ##ek ##ker attacked a gang member . in ##ej g ##ha ##fa and je ##sper sneak ##y sneak ##y [SEP]\n"
          ]
        },
        {
          "output_type": "stream",
          "name": "stdout",
          "text": [
            "INFO:tensorflow:input_ids: 101 10556 2480 7987 5937 5484 4457 1037 6080 2266 1012 1999 20518 1043 3270 7011 1998 15333 17668 13583 2100 13583 2100 102 0 0 0 0 0 0 0 0 0 0 0 0 0 0 0 0 0 0 0 0 0 0 0 0 0 0 0 0 0 0 0 0 0 0 0 0 0 0 0 0 0 0 0 0 0 0 0 0 0 0 0 0 0 0 0 0 0 0 0 0 0 0 0 0 0 0 0 0 0 0 0 0 0 0 0 0 0 0 0 0 0 0 0 0 0 0 0 0 0 0 0 0 0 0 0 0 0 0 0 0 0 0 0 0 0 0 0 0 0 0 0 0 0 0 0 0 0 0 0 0 0 0 0 0 0 0 0 0 0 0 0 0 0 0 0 0 0 0 0 0 0 0 0 0 0 0 0 0 0 0 0 0 0 0 0 0 0 0 0 0 0 0 0 0 0 0 0 0 0 0 0 0 0 0 0 0 0 0 0 0 0 0 0 0 0 0 0 0 0 0 0 0 0 0 0 0 0 0 0 0 0 0 0 0 0 0 0 0 0 0 0 0 0 0 0 0 0 0 0 0 0 0 0 0 0 0 0 0 0 0 0 0 0 0 0 0 0 0 0 0 0 0 0 0 0 0 0 0 0 0 0 0 0 0 0 0 0 0 0 0 0 0 0 0 0 0 0 0 0 0 0 0 0 0 0 0 0 0 0 0 0 0 0 0 0 0 0 0 0 0 0 0 0 0 0 0 0 0 0 0 0 0 0 0 0 0 0 0 0 0 0 0 0 0 0 0 0 0 0 0 0 0 0 0 0 0 0 0 0 0 0 0 0 0 0 0 0 0 0 0 0 0 0 0 0 0 0 0 0 0 0 0 0 0 0 0 0 0 0 0 0 0 0 0 0 0 0 0 0 0 0 0 0 0 0 0 0 0 0 0 0 0 0 0 0 0 0 0 0 0 0 0 0 0 0 0 0 0 0 0 0 0 0 0 0 0 0 0 0 0 0 0 0 0 0 0 0 0 0 0 0 0 0 0 0 0 0 0 0 0 0 0 0 0 0 0 0 0 0 0 0 0 0 0 0 0 0 0 0 0 0 0 0 0 0 0 0 0 0 0 0 0 0 0 0 0 0 0 0 0 0 0 0 0 0 0 0 0 0 0 0 0 0 0 0 0 0 0\n"
          ]
        },
        {
          "output_type": "stream",
          "name": "stderr",
          "text": [
            "INFO:tensorflow:input_ids: 101 10556 2480 7987 5937 5484 4457 1037 6080 2266 1012 1999 20518 1043 3270 7011 1998 15333 17668 13583 2100 13583 2100 102 0 0 0 0 0 0 0 0 0 0 0 0 0 0 0 0 0 0 0 0 0 0 0 0 0 0 0 0 0 0 0 0 0 0 0 0 0 0 0 0 0 0 0 0 0 0 0 0 0 0 0 0 0 0 0 0 0 0 0 0 0 0 0 0 0 0 0 0 0 0 0 0 0 0 0 0 0 0 0 0 0 0 0 0 0 0 0 0 0 0 0 0 0 0 0 0 0 0 0 0 0 0 0 0 0 0 0 0 0 0 0 0 0 0 0 0 0 0 0 0 0 0 0 0 0 0 0 0 0 0 0 0 0 0 0 0 0 0 0 0 0 0 0 0 0 0 0 0 0 0 0 0 0 0 0 0 0 0 0 0 0 0 0 0 0 0 0 0 0 0 0 0 0 0 0 0 0 0 0 0 0 0 0 0 0 0 0 0 0 0 0 0 0 0 0 0 0 0 0 0 0 0 0 0 0 0 0 0 0 0 0 0 0 0 0 0 0 0 0 0 0 0 0 0 0 0 0 0 0 0 0 0 0 0 0 0 0 0 0 0 0 0 0 0 0 0 0 0 0 0 0 0 0 0 0 0 0 0 0 0 0 0 0 0 0 0 0 0 0 0 0 0 0 0 0 0 0 0 0 0 0 0 0 0 0 0 0 0 0 0 0 0 0 0 0 0 0 0 0 0 0 0 0 0 0 0 0 0 0 0 0 0 0 0 0 0 0 0 0 0 0 0 0 0 0 0 0 0 0 0 0 0 0 0 0 0 0 0 0 0 0 0 0 0 0 0 0 0 0 0 0 0 0 0 0 0 0 0 0 0 0 0 0 0 0 0 0 0 0 0 0 0 0 0 0 0 0 0 0 0 0 0 0 0 0 0 0 0 0 0 0 0 0 0 0 0 0 0 0 0 0 0 0 0 0 0 0 0 0 0 0 0 0 0 0 0 0 0 0 0 0 0 0 0 0 0 0 0 0 0 0 0 0 0 0 0 0 0 0 0 0 0 0 0 0 0 0 0 0 0 0 0 0 0 0 0 0 0 0 0 0 0 0 0 0 0 0 0 0 0 0 0 0 0 0 0 0 0 0 0 0 0 0 0 0 0 0 0\n"
          ]
        },
        {
          "output_type": "stream",
          "name": "stdout",
          "text": [
            "INFO:tensorflow:input_mask: 1 1 1 1 1 1 1 1 1 1 1 1 1 1 1 1 1 1 1 1 1 1 1 1 0 0 0 0 0 0 0 0 0 0 0 0 0 0 0 0 0 0 0 0 0 0 0 0 0 0 0 0 0 0 0 0 0 0 0 0 0 0 0 0 0 0 0 0 0 0 0 0 0 0 0 0 0 0 0 0 0 0 0 0 0 0 0 0 0 0 0 0 0 0 0 0 0 0 0 0 0 0 0 0 0 0 0 0 0 0 0 0 0 0 0 0 0 0 0 0 0 0 0 0 0 0 0 0 0 0 0 0 0 0 0 0 0 0 0 0 0 0 0 0 0 0 0 0 0 0 0 0 0 0 0 0 0 0 0 0 0 0 0 0 0 0 0 0 0 0 0 0 0 0 0 0 0 0 0 0 0 0 0 0 0 0 0 0 0 0 0 0 0 0 0 0 0 0 0 0 0 0 0 0 0 0 0 0 0 0 0 0 0 0 0 0 0 0 0 0 0 0 0 0 0 0 0 0 0 0 0 0 0 0 0 0 0 0 0 0 0 0 0 0 0 0 0 0 0 0 0 0 0 0 0 0 0 0 0 0 0 0 0 0 0 0 0 0 0 0 0 0 0 0 0 0 0 0 0 0 0 0 0 0 0 0 0 0 0 0 0 0 0 0 0 0 0 0 0 0 0 0 0 0 0 0 0 0 0 0 0 0 0 0 0 0 0 0 0 0 0 0 0 0 0 0 0 0 0 0 0 0 0 0 0 0 0 0 0 0 0 0 0 0 0 0 0 0 0 0 0 0 0 0 0 0 0 0 0 0 0 0 0 0 0 0 0 0 0 0 0 0 0 0 0 0 0 0 0 0 0 0 0 0 0 0 0 0 0 0 0 0 0 0 0 0 0 0 0 0 0 0 0 0 0 0 0 0 0 0 0 0 0 0 0 0 0 0 0 0 0 0 0 0 0 0 0 0 0 0 0 0 0 0 0 0 0 0 0 0 0 0 0 0 0 0 0 0 0 0 0 0 0 0 0 0 0 0 0 0 0 0 0 0 0 0 0 0 0 0 0 0 0 0 0 0 0 0 0 0 0 0 0 0 0 0 0 0 0 0 0 0 0 0 0 0 0 0 0 0 0 0 0 0 0 0 0 0 0 0 0 0\n"
          ]
        },
        {
          "output_type": "stream",
          "name": "stderr",
          "text": [
            "INFO:tensorflow:input_mask: 1 1 1 1 1 1 1 1 1 1 1 1 1 1 1 1 1 1 1 1 1 1 1 1 0 0 0 0 0 0 0 0 0 0 0 0 0 0 0 0 0 0 0 0 0 0 0 0 0 0 0 0 0 0 0 0 0 0 0 0 0 0 0 0 0 0 0 0 0 0 0 0 0 0 0 0 0 0 0 0 0 0 0 0 0 0 0 0 0 0 0 0 0 0 0 0 0 0 0 0 0 0 0 0 0 0 0 0 0 0 0 0 0 0 0 0 0 0 0 0 0 0 0 0 0 0 0 0 0 0 0 0 0 0 0 0 0 0 0 0 0 0 0 0 0 0 0 0 0 0 0 0 0 0 0 0 0 0 0 0 0 0 0 0 0 0 0 0 0 0 0 0 0 0 0 0 0 0 0 0 0 0 0 0 0 0 0 0 0 0 0 0 0 0 0 0 0 0 0 0 0 0 0 0 0 0 0 0 0 0 0 0 0 0 0 0 0 0 0 0 0 0 0 0 0 0 0 0 0 0 0 0 0 0 0 0 0 0 0 0 0 0 0 0 0 0 0 0 0 0 0 0 0 0 0 0 0 0 0 0 0 0 0 0 0 0 0 0 0 0 0 0 0 0 0 0 0 0 0 0 0 0 0 0 0 0 0 0 0 0 0 0 0 0 0 0 0 0 0 0 0 0 0 0 0 0 0 0 0 0 0 0 0 0 0 0 0 0 0 0 0 0 0 0 0 0 0 0 0 0 0 0 0 0 0 0 0 0 0 0 0 0 0 0 0 0 0 0 0 0 0 0 0 0 0 0 0 0 0 0 0 0 0 0 0 0 0 0 0 0 0 0 0 0 0 0 0 0 0 0 0 0 0 0 0 0 0 0 0 0 0 0 0 0 0 0 0 0 0 0 0 0 0 0 0 0 0 0 0 0 0 0 0 0 0 0 0 0 0 0 0 0 0 0 0 0 0 0 0 0 0 0 0 0 0 0 0 0 0 0 0 0 0 0 0 0 0 0 0 0 0 0 0 0 0 0 0 0 0 0 0 0 0 0 0 0 0 0 0 0 0 0 0 0 0 0 0 0 0 0 0 0 0 0 0 0 0 0 0 0 0 0 0 0 0 0 0 0 0 0 0 0 0 0 0 0 0 0 0 0 0 0\n"
          ]
        },
        {
          "output_type": "stream",
          "name": "stdout",
          "text": [
            "INFO:tensorflow:segment_ids: 0 0 0 0 0 0 0 0 0 0 0 0 0 0 0 0 0 0 0 0 0 0 0 0 0 0 0 0 0 0 0 0 0 0 0 0 0 0 0 0 0 0 0 0 0 0 0 0 0 0 0 0 0 0 0 0 0 0 0 0 0 0 0 0 0 0 0 0 0 0 0 0 0 0 0 0 0 0 0 0 0 0 0 0 0 0 0 0 0 0 0 0 0 0 0 0 0 0 0 0 0 0 0 0 0 0 0 0 0 0 0 0 0 0 0 0 0 0 0 0 0 0 0 0 0 0 0 0 0 0 0 0 0 0 0 0 0 0 0 0 0 0 0 0 0 0 0 0 0 0 0 0 0 0 0 0 0 0 0 0 0 0 0 0 0 0 0 0 0 0 0 0 0 0 0 0 0 0 0 0 0 0 0 0 0 0 0 0 0 0 0 0 0 0 0 0 0 0 0 0 0 0 0 0 0 0 0 0 0 0 0 0 0 0 0 0 0 0 0 0 0 0 0 0 0 0 0 0 0 0 0 0 0 0 0 0 0 0 0 0 0 0 0 0 0 0 0 0 0 0 0 0 0 0 0 0 0 0 0 0 0 0 0 0 0 0 0 0 0 0 0 0 0 0 0 0 0 0 0 0 0 0 0 0 0 0 0 0 0 0 0 0 0 0 0 0 0 0 0 0 0 0 0 0 0 0 0 0 0 0 0 0 0 0 0 0 0 0 0 0 0 0 0 0 0 0 0 0 0 0 0 0 0 0 0 0 0 0 0 0 0 0 0 0 0 0 0 0 0 0 0 0 0 0 0 0 0 0 0 0 0 0 0 0 0 0 0 0 0 0 0 0 0 0 0 0 0 0 0 0 0 0 0 0 0 0 0 0 0 0 0 0 0 0 0 0 0 0 0 0 0 0 0 0 0 0 0 0 0 0 0 0 0 0 0 0 0 0 0 0 0 0 0 0 0 0 0 0 0 0 0 0 0 0 0 0 0 0 0 0 0 0 0 0 0 0 0 0 0 0 0 0 0 0 0 0 0 0 0 0 0 0 0 0 0 0 0 0 0 0 0 0 0 0 0 0 0 0 0 0 0 0 0 0 0 0 0 0 0 0 0 0 0 0 0 0 0 0 0 0 0 0 0 0 0 0 0 0 0 0 0 0\n"
          ]
        },
        {
          "output_type": "stream",
          "name": "stderr",
          "text": [
            "INFO:tensorflow:segment_ids: 0 0 0 0 0 0 0 0 0 0 0 0 0 0 0 0 0 0 0 0 0 0 0 0 0 0 0 0 0 0 0 0 0 0 0 0 0 0 0 0 0 0 0 0 0 0 0 0 0 0 0 0 0 0 0 0 0 0 0 0 0 0 0 0 0 0 0 0 0 0 0 0 0 0 0 0 0 0 0 0 0 0 0 0 0 0 0 0 0 0 0 0 0 0 0 0 0 0 0 0 0 0 0 0 0 0 0 0 0 0 0 0 0 0 0 0 0 0 0 0 0 0 0 0 0 0 0 0 0 0 0 0 0 0 0 0 0 0 0 0 0 0 0 0 0 0 0 0 0 0 0 0 0 0 0 0 0 0 0 0 0 0 0 0 0 0 0 0 0 0 0 0 0 0 0 0 0 0 0 0 0 0 0 0 0 0 0 0 0 0 0 0 0 0 0 0 0 0 0 0 0 0 0 0 0 0 0 0 0 0 0 0 0 0 0 0 0 0 0 0 0 0 0 0 0 0 0 0 0 0 0 0 0 0 0 0 0 0 0 0 0 0 0 0 0 0 0 0 0 0 0 0 0 0 0 0 0 0 0 0 0 0 0 0 0 0 0 0 0 0 0 0 0 0 0 0 0 0 0 0 0 0 0 0 0 0 0 0 0 0 0 0 0 0 0 0 0 0 0 0 0 0 0 0 0 0 0 0 0 0 0 0 0 0 0 0 0 0 0 0 0 0 0 0 0 0 0 0 0 0 0 0 0 0 0 0 0 0 0 0 0 0 0 0 0 0 0 0 0 0 0 0 0 0 0 0 0 0 0 0 0 0 0 0 0 0 0 0 0 0 0 0 0 0 0 0 0 0 0 0 0 0 0 0 0 0 0 0 0 0 0 0 0 0 0 0 0 0 0 0 0 0 0 0 0 0 0 0 0 0 0 0 0 0 0 0 0 0 0 0 0 0 0 0 0 0 0 0 0 0 0 0 0 0 0 0 0 0 0 0 0 0 0 0 0 0 0 0 0 0 0 0 0 0 0 0 0 0 0 0 0 0 0 0 0 0 0 0 0 0 0 0 0 0 0 0 0 0 0 0 0 0 0 0 0 0 0 0 0 0 0 0 0 0 0 0 0 0 0 0 0 0 0 0 0 0 0 0 0 0 0 0\n"
          ]
        },
        {
          "output_type": "stream",
          "name": "stdout",
          "text": [
            "INFO:tensorflow:label: 0 (id = 0)\n"
          ]
        },
        {
          "output_type": "stream",
          "name": "stderr",
          "text": [
            "INFO:tensorflow:label: 0 (id = 0)\n"
          ]
        },
        {
          "output_type": "stream",
          "name": "stdout",
          "text": [
            "INFO:tensorflow:Calling model_fn.\n"
          ]
        },
        {
          "output_type": "stream",
          "name": "stderr",
          "text": [
            "INFO:tensorflow:Calling model_fn.\n"
          ]
        },
        {
          "output_type": "stream",
          "name": "stdout",
          "text": [
            "INFO:tensorflow:Saver not created because there are no variables in the graph to restore\n"
          ]
        },
        {
          "output_type": "stream",
          "name": "stderr",
          "text": [
            "INFO:tensorflow:Saver not created because there are no variables in the graph to restore\n"
          ]
        },
        {
          "output_type": "stream",
          "name": "stdout",
          "text": [
            "INFO:tensorflow:Done calling model_fn.\n"
          ]
        },
        {
          "output_type": "stream",
          "name": "stderr",
          "text": [
            "INFO:tensorflow:Done calling model_fn.\n"
          ]
        },
        {
          "output_type": "stream",
          "name": "stdout",
          "text": [
            "INFO:tensorflow:Graph was finalized.\n"
          ]
        },
        {
          "output_type": "stream",
          "name": "stderr",
          "text": [
            "INFO:tensorflow:Graph was finalized.\n"
          ]
        },
        {
          "output_type": "stream",
          "name": "stdout",
          "text": [
            "INFO:tensorflow:Restoring parameters from /GD/My Drive/Colab Notebooks/BERT/bert_fandom_category/model.ckpt-16\n"
          ]
        },
        {
          "output_type": "stream",
          "name": "stderr",
          "text": [
            "INFO:tensorflow:Restoring parameters from /GD/My Drive/Colab Notebooks/BERT/bert_fandom_category/model.ckpt-16\n"
          ]
        },
        {
          "output_type": "stream",
          "name": "stdout",
          "text": [
            "INFO:tensorflow:Running local_init_op.\n"
          ]
        },
        {
          "output_type": "stream",
          "name": "stderr",
          "text": [
            "INFO:tensorflow:Running local_init_op.\n"
          ]
        },
        {
          "output_type": "stream",
          "name": "stdout",
          "text": [
            "INFO:tensorflow:Done running local_init_op.\n"
          ]
        },
        {
          "output_type": "stream",
          "name": "stderr",
          "text": [
            "INFO:tensorflow:Done running local_init_op.\n"
          ]
        }
      ]
    },
    {
      "cell_type": "code",
      "source": [
        "tests"
      ],
      "metadata": {
        "colab": {
          "base_uri": "https://localhost:8080/"
        },
        "id": "D0vgrM9BZTSJ",
        "outputId": "fb120c95-916a-47c2-c62b-3aabe62c0fcd"
      },
      "execution_count": null,
      "outputs": [
        {
          "output_type": "execute_result",
          "data": {
            "text/plain": [
              "[('Sherlock Holmes and John Watson are detectives. murder by death',\n",
              "  array([-1.5295238, -0.9223255, -1.7420809, -1.5577364], dtype=float32),\n",
              "  1,\n",
              "  'Sherlock (TV)'),\n",
              " ('James Bond and Q and spies and agent',\n",
              "  array([-1.6237768, -0.9940066, -1.7973769, -1.3204191], dtype=float32),\n",
              "  1,\n",
              "  'Sherlock (TV)'),\n",
              " ('Harry Potter and Hermione were hiding under a tree',\n",
              "  array([-1.7414329, -1.1087105, -1.7206224, -1.1526718], dtype=float32),\n",
              "  1,\n",
              "  'Sherlock (TV)'),\n",
              " ('Kaz Brekker attacked a gang member. Inej Ghafa and Jesper sneaky sneaky',\n",
              "  array([-1.3873386, -1.227545 , -1.7700474, -1.2485342], dtype=float32),\n",
              "  1,\n",
              "  'Sherlock (TV)')]"
            ]
          },
          "metadata": {},
          "execution_count": 95
        }
      ]
    },
    {
      "cell_type": "markdown",
      "source": [
        "Wait that's pretty good... lol it got ... 50% ...of them.."
      ],
      "metadata": {
        "id": "Si5HtUkMZdZN"
      }
    }
  ]
}
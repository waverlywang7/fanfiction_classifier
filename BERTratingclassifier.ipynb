{
  "nbformat": 4,
  "nbformat_minor": 0,
  "metadata": {
    "colab": {
      "name": "BERTratingclassifier.ipynb",
      "provenance": []
    },
    "kernelspec": {
      "name": "python3",
      "display_name": "Python 3"
    },
    "language_info": {
      "name": "python"
    }
  },
  "cells": [
    {
      "cell_type": "markdown",
      "source": [
        "This code was mostly using this guide as reference https://gist.github.com/analyticsindiamagazine/97f53c3a6ee5f63efea92e4159792f92#file-predicting_news_category_with_bert_in_tensorflow-ipynb"
      ],
      "metadata": {
        "id": "IGPwlCSfGIcL"
      }
    },
    {
      "cell_type": "code",
      "execution_count": null,
      "metadata": {
        "colab": {
          "base_uri": "https://localhost:8080/"
        },
        "id": "3PxvaOt4O0T0",
        "outputId": "e2bbe7fa-7ec9-4057-8953-29c0ca824966"
      },
      "outputs": [
        {
          "output_type": "stream",
          "name": "stdout",
          "text": [
            "`%tensorflow_version` only switches the major version: 1.x or 2.x.\n",
            "You set: `1.0.1`. This will be interpreted as: `1.x`.\n",
            "\n",
            "\n",
            "TensorFlow 1.x selected.\n"
          ]
        }
      ],
      "source": [
        "%tensorflow_version 1.0.1"
      ]
    },
    {
      "cell_type": "code",
      "source": [
        "!pip install bert-tensorflow==1.0.1"
      ],
      "metadata": {
        "colab": {
          "base_uri": "https://localhost:8080/"
        },
        "id": "dnLSSAlTGKSH",
        "outputId": "fa19f705-ca6b-4f08-da70-fd441793772e"
      },
      "execution_count": null,
      "outputs": [
        {
          "output_type": "stream",
          "name": "stdout",
          "text": [
            "Collecting bert-tensorflow==1.0.1\n",
            "  Downloading bert_tensorflow-1.0.1-py2.py3-none-any.whl (67 kB)\n",
            "\u001b[K     |████████████████████████████████| 67 kB 2.1 MB/s \n",
            "\u001b[?25hRequirement already satisfied: six in /usr/local/lib/python3.7/dist-packages (from bert-tensorflow==1.0.1) (1.15.0)\n",
            "Installing collected packages: bert-tensorflow\n",
            "Successfully installed bert-tensorflow-1.0.1\n"
          ]
        }
      ]
    },
    {
      "cell_type": "code",
      "source": [
        "import tensorflow as tf\n",
        "print(tf.__version__)"
      ],
      "metadata": {
        "colab": {
          "base_uri": "https://localhost:8080/"
        },
        "id": "pTOz0z85GPVL",
        "outputId": "d17d02b1-23a5-4405-d0dd-137b14d56d47"
      },
      "execution_count": null,
      "outputs": [
        {
          "output_type": "stream",
          "name": "stdout",
          "text": [
            "1.15.2\n"
          ]
        }
      ]
    },
    {
      "cell_type": "code",
      "source": [
        "import pandas as pd\n",
        "import tensorflow_hub as hub\n",
        "from datetime import datetime\n",
        "from sklearn.model_selection import train_test_split\n",
        "import os\n",
        "\n",
        "print(\"tensorflow version : \", tf.__version__)\n",
        "print(\"tensorflow_hub version : \", hub.__version__)"
      ],
      "metadata": {
        "colab": {
          "base_uri": "https://localhost:8080/"
        },
        "id": "pmN2_-m3GSvq",
        "outputId": "4127d43f-6bf4-4c13-bbeb-c8e9d473aa29"
      },
      "execution_count": null,
      "outputs": [
        {
          "output_type": "stream",
          "name": "stdout",
          "text": [
            "tensorflow version :  1.15.2\n",
            "tensorflow_hub version :  0.12.0\n"
          ]
        }
      ]
    },
    {
      "cell_type": "code",
      "source": [
        "#Importing BERT modules\n",
        "import bert\n",
        "from bert import run_classifier\n",
        "from bert import optimization\n",
        "from bert import tokenization\n"
      ],
      "metadata": {
        "colab": {
          "base_uri": "https://localhost:8080/"
        },
        "id": "i3HN8nK1GUwp",
        "outputId": "48416e0c-bb57-4719-e9aa-aa4cde801166"
      },
      "execution_count": null,
      "outputs": [
        {
          "output_type": "stream",
          "name": "stdout",
          "text": [
            "WARNING:tensorflow:From /usr/local/lib/python3.7/dist-packages/bert/optimization.py:87: The name tf.train.Optimizer is deprecated. Please use tf.compat.v1.train.Optimizer instead.\n",
            "\n"
          ]
        }
      ]
    },
    {
      "cell_type": "code",
      "source": [
        "from google.colab import drive\n",
        "drive.mount(\"/GD\")"
      ],
      "metadata": {
        "colab": {
          "base_uri": "https://localhost:8080/"
        },
        "id": "KqWv1clXGXhx",
        "outputId": "3804b474-4652-4f59-b3dd-629d8bd9f08c"
      },
      "execution_count": null,
      "outputs": [
        {
          "output_type": "stream",
          "name": "stdout",
          "text": [
            "Mounted at /GD\n"
          ]
        }
      ]
    },
    {
      "cell_type": "code",
      "source": [
        "# Set the output directory for saving model file\n",
        "OUTPUT_DIR = '/GD/My Drive/Colab Notebooks/BERT/bert_rating_category'\n",
        "\n",
        "#@markdown Whether or not to clear/delete the directory and create a new one\n",
        "DO_DELETE = False #@param {type:\"boolean\"}\n",
        "\n",
        "if DO_DELETE:\n",
        "  try:\n",
        "    tf.gfile.DeleteRecursively(OUTPUT_DIR)\n",
        "  except:\n",
        "    pass\n",
        "\n",
        "tf.gfile.MakeDirs(OUTPUT_DIR)\n",
        "print('***** Model output directory: {} *****'.format(OUTPUT_DIR))"
      ],
      "metadata": {
        "colab": {
          "base_uri": "https://localhost:8080/"
        },
        "id": "EsplRApbGdTn",
        "outputId": "f4ca1ff1-0c01-4197-845c-8e1964974524"
      },
      "execution_count": null,
      "outputs": [
        {
          "output_type": "stream",
          "name": "stdout",
          "text": [
            "***** Model output directory: /GD/My Drive/Colab Notebooks/BERT/bert_rating_category *****\n"
          ]
        }
      ]
    },
    {
      "cell_type": "markdown",
      "source": [
        "Loading The Data\n",
        "\n",
        "We will now load the data from a Google Drive directory and will also split the training set in to training and validation sets."
      ],
      "metadata": {
        "id": "QHlVZC53GvVt"
      }
    },
    {
      "cell_type": "code",
      "source": [
        "import pandas as pd"
      ],
      "metadata": {
        "id": "3g21O0oRGupP"
      },
      "execution_count": null,
      "outputs": []
    },
    {
      "cell_type": "code",
      "source": [
        "from google.colab import files\n",
        "uploaded = files.upload()"
      ],
      "metadata": {
        "id": "-PGjZ4DGcfhc",
        "colab": {
          "resources": {
            "http://localhost:8080/nbextensions/google.colab/files.js": {
              "data": "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",
              "ok": true,
              "headers": [
                [
                  "content-type",
                  "application/javascript"
                ]
              ],
              "status": 200,
              "status_text": ""
            }
          },
          "base_uri": "https://localhost:8080/",
          "height": 73
        },
        "outputId": "80efc9bf-1baf-4c0c-f19b-c51919c52645"
      },
      "execution_count": null,
      "outputs": [
        {
          "output_type": "display_data",
          "data": {
            "text/plain": [
              "<IPython.core.display.HTML object>"
            ],
            "text/html": [
              "\n",
              "     <input type=\"file\" id=\"files-261cf2f7-07df-408d-a044-4a8566b80ecc\" name=\"files[]\" multiple disabled\n",
              "        style=\"border:none\" />\n",
              "     <output id=\"result-261cf2f7-07df-408d-a044-4a8566b80ecc\">\n",
              "      Upload widget is only available when the cell has been executed in the\n",
              "      current browser session. Please rerun this cell to enable.\n",
              "      </output>\n",
              "      <script src=\"/nbextensions/google.colab/files.js\"></script> "
            ]
          },
          "metadata": {}
        },
        {
          "output_type": "stream",
          "name": "stdout",
          "text": [
            "Saving rating_test.csv to rating_test.csv\n"
          ]
        }
      ]
    },
    {
      "cell_type": "code",
      "source": [
        "import io\n",
        "# df2 = pd.read_csv(io.BytesIO(uploaded['rating.csv']))"
      ],
      "metadata": {
        "id": "EcbW9jI1dNkP"
      },
      "execution_count": null,
      "outputs": []
    },
    {
      "cell_type": "code",
      "source": [
        "df3 = pd.read_csv(io.BytesIO(uploaded['rating_test.csv']))\n",
        "df3"
      ],
      "metadata": {
        "colab": {
          "base_uri": "https://localhost:8080/",
          "height": 1000
        },
        "id": "iOVWD5iMBvYg",
        "outputId": "55bd872a-490d-4b43-a763-1ff71d9acaa8"
      },
      "execution_count": null,
      "outputs": [
        {
          "output_type": "execute_result",
          "data": {
            "text/plain": [
              "      work_id                                              title  \\\n",
              "0    35867929                                   The Call of Fate   \n",
              "1    34628254                                          Sacrifice   \n",
              "2    38261965                                         Sick Leave   \n",
              "3    38475940                               Qing Dian Bu Da Yang   \n",
              "4    38125645                                    absence, hearts   \n",
              "..        ...                                                ...   \n",
              "195       242  Room to Breathe (Air to Breathe Stop Motion Ov...   \n",
              "196       243                                         Life After   \n",
              "197       244  In which there is much disparagement of Sean C...   \n",
              "198       245                                  Not Angry Anymore   \n",
              "199       246                              Cutaneous Deprivation   \n",
              "\n",
              "                     author                 rating         category  \\\n",
              "0     ['EmpressOfTheFlame']               Explicit  F/M, M/M, Multi   \n",
              "1    ['Thewonderfulwiccan']               Explicit            Multi   \n",
              "2      ['Hemaris_diffinis']  Teen And Up Audiences              Gen   \n",
              "3       ['notthechosenone']  Teen And Up Audiences              Gen   \n",
              "4        ['Marmeladeskies']               Explicit              M/M   \n",
              "..                      ...                    ...              ...   \n",
              "195    ['WitchQueen (zvi)']              Not Rated              M/M   \n",
              "196       ['velocitygrass']               Explicit              M/M   \n",
              "197    ['WitchQueen (zvi)']              Not Rated            Other   \n",
              "198                 ['zvi']              Not Rated              Gen   \n",
              "199                 ['zvi']              Not Rated            Other   \n",
              "\n",
              "                                                fandom  \\\n",
              "0                    HELIOS Rising Heroes (Video Game)   \n",
              "1    Young Justice (Cartoon), Young Justice - All M...   \n",
              "2                              The Owl House (Cartoon)   \n",
              "3    Xin Shi Jie Kuang Huan |NU: carnival (Video Game)   \n",
              "4                                        Formula 1 RPF   \n",
              "..                                                 ...   \n",
              "195                                       The Sentinel   \n",
              "196                                  Stargate Atlantis   \n",
              "197                                              NSYNC   \n",
              "198                                       The Sentinel   \n",
              "199                                       The Sentinel   \n",
              "\n",
              "                                          relationship  \\\n",
              "0    Jay Kidman/Reader, Various/Reader, Dino Albani...   \n",
              "1                              Dick Grayson/Wally West   \n",
              "2                        Eda Clawthorne/Raine Whispers   \n",
              "3    Aster/Eiden (NU: carnival), Kuya/Quincy (NU: c...   \n",
              "4    Lando Norris/Max Verstappen/Daniel Ricciardo/C...   \n",
              "..                                                 ...   \n",
              "195                         Jim Ellison/Blair Sandburg   \n",
              "196                         John Sheppard/Rodney McKay   \n",
              "197                                                NaN   \n",
              "198                                                NaN   \n",
              "199                                                NaN   \n",
              "\n",
              "                                             character  \\\n",
              "0    Reader, You, Jay Kidman, Dino Albani, Akira Ot...   \n",
              "1    Dick Grayson, Wally West, Barbara Gordon, M'ga...   \n",
              "2     Raine Whispers, Terra Snapdragon, Eda Clawthorne   \n",
              "3    Eiden (NU: carnival), Yakumo (NU: carnival), A...   \n",
              "4    Lando Norris, Michael Italiano, Charles Lecler...   \n",
              "..                                                 ...   \n",
              "195                        Jim Ellison, Blair Sandburg   \n",
              "196                        John Sheppard, Rodney McKay   \n",
              "197  Justin Timberlake, Chris Kirkpatrick, Joey Fat...   \n",
              "198                                       Darryl Banks   \n",
              "199                        Jim Ellison, Blair Sandburg   \n",
              "\n",
              "                                       additional tags  \\\n",
              "0    First Time, Praise Kink, Smut, Romance, Reader...   \n",
              "1    Heavy Angst, Human Trafficking, Emotional Hurt...   \n",
              "2    Amber Derwin and Kayta are mentioned but not p...   \n",
              "3                                                  NaN   \n",
              "4    Alpha/Beta/Omega Dynamics, Omegaverse, Pack Dy...   \n",
              "..                                                 ...   \n",
              "195            post-episode, post-SenToo, Remix, Angst   \n",
              "196  Earth destroyed, SGA Big Bang 2008, Suicide, S...   \n",
              "197                       Popslash - Freeform, Remixed   \n",
              "198                          Angst, Character of Color   \n",
              "199                                        Post-TSbyBS   \n",
              "\n",
              "                           language  ... status date  words chapters  \\\n",
              "0                           English  ...  2022-04-19  10191     15/?   \n",
              "1                           English  ...  2022-04-19  51697     17/?   \n",
              "2                           English  ...  2022-04-19   7439      5/?   \n",
              "3    Zhong Wen -Pu Tong Hua  Guo Yu  ...  2022-04-19  10241      7/7   \n",
              "4                           English  ...  2022-04-19  37314    21/27   \n",
              "..                              ...  ...         ...    ...      ...   \n",
              "195                         English  ...  2003-03-27   2835      1/1   \n",
              "196                         English  ...  2008-09-17  48260      1/1   \n",
              "197                         English  ...  2002-07-07   1404      1/1   \n",
              "198                         English  ...  2004-09-19    807      1/1   \n",
              "199                         English  ...  2001-11-19   2585      1/1   \n",
              "\n",
              "     comments  kudos  bookmarks   hits  \\\n",
              "0         1.0   13.0        1.0    455   \n",
              "1        39.0  208.0       42.0   5721   \n",
              "2        10.0   56.0        4.0    678   \n",
              "3         NaN    NaN        NaN      7   \n",
              "4       625.0  512.0       41.0  18354   \n",
              "..        ...    ...        ...    ...   \n",
              "195       NaN   11.0        NaN    694   \n",
              "196      22.0  286.0      103.0   8367   \n",
              "197       NaN    2.0        1.0    346   \n",
              "198       NaN   11.0        NaN    425   \n",
              "199       NaN    6.0        NaN    669   \n",
              "\n",
              "                                             all_kudos  all_bookmarks  \\\n",
              "0                                   ['APH_Wonderland']             []   \n",
              "1    ['herbalwigeon', 'spekkoekenak', 'NightBek', '...             []   \n",
              "2    ['goblingorg', 'Dantsem', 'sapphicsoup', 'imlo...             []   \n",
              "3                                                   []             []   \n",
              "4    ['nonotwithoutyou', 'OneAccount', 'loveisme', ...             []   \n",
              "..                                                 ...            ...   \n",
              "195  ['EllowynTheNotKing', 'Castianamicheals', 'Cor...             []   \n",
              "196  ['Zzickle', 'Emilise284', 'Madam_Vu', 'prollpe...             []   \n",
              "197                                       ['crimisin']             []   \n",
              "198  ['BrynPlusPlus', 'Rubybookwyrm', 'Dorthy', 'GS...             []   \n",
              "199                     ['Danielsgrl', 'Rubybookwyrm']             []   \n",
              "\n",
              "                                                  body  \n",
              "0    It would be accurate to say that Jay had been ...  \n",
              "1    They'd scream. \\n\\nThey'd cry. \\n\\nBeg to go h...  \n",
              "2    Ok, ok, I need to calm down and make a plan, R...  \n",
              "3    \\nKun Xi Yi Zhi Du Gei Ren Bi Jiao topDe Fen W...  \n",
              "4    \\n          (See the end of the chapter for  n...  \n",
              "..                                                 ...  \n",
              "195  He'd been sleeping for days, weeks now. In Sie...  \n",
              "196  Prologue:\\n\\nCharlie Mayer's life began when h...  \n",
              "197  Justin was the last one in the hotel. He'd bee...  \n",
              "198  Darryl gets the call in his trigonometry class...  \n",
              "199  Blair looked at Jim's hand.\\n\\nFour fingers an...  \n",
              "\n",
              "[200 rows x 22 columns]"
            ],
            "text/html": [
              "\n",
              "  <div id=\"df-114e1420-3bb7-4668-9332-6f19b5dcbccd\">\n",
              "    <div class=\"colab-df-container\">\n",
              "      <div>\n",
              "<style scoped>\n",
              "    .dataframe tbody tr th:only-of-type {\n",
              "        vertical-align: middle;\n",
              "    }\n",
              "\n",
              "    .dataframe tbody tr th {\n",
              "        vertical-align: top;\n",
              "    }\n",
              "\n",
              "    .dataframe thead th {\n",
              "        text-align: right;\n",
              "    }\n",
              "</style>\n",
              "<table border=\"1\" class=\"dataframe\">\n",
              "  <thead>\n",
              "    <tr style=\"text-align: right;\">\n",
              "      <th></th>\n",
              "      <th>work_id</th>\n",
              "      <th>title</th>\n",
              "      <th>author</th>\n",
              "      <th>rating</th>\n",
              "      <th>category</th>\n",
              "      <th>fandom</th>\n",
              "      <th>relationship</th>\n",
              "      <th>character</th>\n",
              "      <th>additional tags</th>\n",
              "      <th>language</th>\n",
              "      <th>...</th>\n",
              "      <th>status date</th>\n",
              "      <th>words</th>\n",
              "      <th>chapters</th>\n",
              "      <th>comments</th>\n",
              "      <th>kudos</th>\n",
              "      <th>bookmarks</th>\n",
              "      <th>hits</th>\n",
              "      <th>all_kudos</th>\n",
              "      <th>all_bookmarks</th>\n",
              "      <th>body</th>\n",
              "    </tr>\n",
              "  </thead>\n",
              "  <tbody>\n",
              "    <tr>\n",
              "      <th>0</th>\n",
              "      <td>35867929</td>\n",
              "      <td>The Call of Fate</td>\n",
              "      <td>['EmpressOfTheFlame']</td>\n",
              "      <td>Explicit</td>\n",
              "      <td>F/M, M/M, Multi</td>\n",
              "      <td>HELIOS Rising Heroes (Video Game)</td>\n",
              "      <td>Jay Kidman/Reader, Various/Reader, Dino Albani...</td>\n",
              "      <td>Reader, You, Jay Kidman, Dino Albani, Akira Ot...</td>\n",
              "      <td>First Time, Praise Kink, Smut, Romance, Reader...</td>\n",
              "      <td>English</td>\n",
              "      <td>...</td>\n",
              "      <td>2022-04-19</td>\n",
              "      <td>10191</td>\n",
              "      <td>15/?</td>\n",
              "      <td>1.0</td>\n",
              "      <td>13.0</td>\n",
              "      <td>1.0</td>\n",
              "      <td>455</td>\n",
              "      <td>['APH_Wonderland']</td>\n",
              "      <td>[]</td>\n",
              "      <td>It would be accurate to say that Jay had been ...</td>\n",
              "    </tr>\n",
              "    <tr>\n",
              "      <th>1</th>\n",
              "      <td>34628254</td>\n",
              "      <td>Sacrifice</td>\n",
              "      <td>['Thewonderfulwiccan']</td>\n",
              "      <td>Explicit</td>\n",
              "      <td>Multi</td>\n",
              "      <td>Young Justice (Cartoon), Young Justice - All M...</td>\n",
              "      <td>Dick Grayson/Wally West</td>\n",
              "      <td>Dick Grayson, Wally West, Barbara Gordon, M'ga...</td>\n",
              "      <td>Heavy Angst, Human Trafficking, Emotional Hurt...</td>\n",
              "      <td>English</td>\n",
              "      <td>...</td>\n",
              "      <td>2022-04-19</td>\n",
              "      <td>51697</td>\n",
              "      <td>17/?</td>\n",
              "      <td>39.0</td>\n",
              "      <td>208.0</td>\n",
              "      <td>42.0</td>\n",
              "      <td>5721</td>\n",
              "      <td>['herbalwigeon', 'spekkoekenak', 'NightBek', '...</td>\n",
              "      <td>[]</td>\n",
              "      <td>They'd scream. \\n\\nThey'd cry. \\n\\nBeg to go h...</td>\n",
              "    </tr>\n",
              "    <tr>\n",
              "      <th>2</th>\n",
              "      <td>38261965</td>\n",
              "      <td>Sick Leave</td>\n",
              "      <td>['Hemaris_diffinis']</td>\n",
              "      <td>Teen And Up Audiences</td>\n",
              "      <td>Gen</td>\n",
              "      <td>The Owl House (Cartoon)</td>\n",
              "      <td>Eda Clawthorne/Raine Whispers</td>\n",
              "      <td>Raine Whispers, Terra Snapdragon, Eda Clawthorne</td>\n",
              "      <td>Amber Derwin and Kayta are mentioned but not p...</td>\n",
              "      <td>English</td>\n",
              "      <td>...</td>\n",
              "      <td>2022-04-19</td>\n",
              "      <td>7439</td>\n",
              "      <td>5/?</td>\n",
              "      <td>10.0</td>\n",
              "      <td>56.0</td>\n",
              "      <td>4.0</td>\n",
              "      <td>678</td>\n",
              "      <td>['goblingorg', 'Dantsem', 'sapphicsoup', 'imlo...</td>\n",
              "      <td>[]</td>\n",
              "      <td>Ok, ok, I need to calm down and make a plan, R...</td>\n",
              "    </tr>\n",
              "    <tr>\n",
              "      <th>3</th>\n",
              "      <td>38475940</td>\n",
              "      <td>Qing Dian Bu Da Yang</td>\n",
              "      <td>['notthechosenone']</td>\n",
              "      <td>Teen And Up Audiences</td>\n",
              "      <td>Gen</td>\n",
              "      <td>Xin Shi Jie Kuang Huan |NU: carnival (Video Game)</td>\n",
              "      <td>Aster/Eiden (NU: carnival), Kuya/Quincy (NU: c...</td>\n",
              "      <td>Eiden (NU: carnival), Yakumo (NU: carnival), A...</td>\n",
              "      <td>NaN</td>\n",
              "      <td>Zhong Wen -Pu Tong Hua  Guo Yu</td>\n",
              "      <td>...</td>\n",
              "      <td>2022-04-19</td>\n",
              "      <td>10241</td>\n",
              "      <td>7/7</td>\n",
              "      <td>NaN</td>\n",
              "      <td>NaN</td>\n",
              "      <td>NaN</td>\n",
              "      <td>7</td>\n",
              "      <td>[]</td>\n",
              "      <td>[]</td>\n",
              "      <td>\\nKun Xi Yi Zhi Du Gei Ren Bi Jiao topDe Fen W...</td>\n",
              "    </tr>\n",
              "    <tr>\n",
              "      <th>4</th>\n",
              "      <td>38125645</td>\n",
              "      <td>absence, hearts</td>\n",
              "      <td>['Marmeladeskies']</td>\n",
              "      <td>Explicit</td>\n",
              "      <td>M/M</td>\n",
              "      <td>Formula 1 RPF</td>\n",
              "      <td>Lando Norris/Max Verstappen/Daniel Ricciardo/C...</td>\n",
              "      <td>Lando Norris, Michael Italiano, Charles Lecler...</td>\n",
              "      <td>Alpha/Beta/Omega Dynamics, Omegaverse, Pack Dy...</td>\n",
              "      <td>English</td>\n",
              "      <td>...</td>\n",
              "      <td>2022-04-19</td>\n",
              "      <td>37314</td>\n",
              "      <td>21/27</td>\n",
              "      <td>625.0</td>\n",
              "      <td>512.0</td>\n",
              "      <td>41.0</td>\n",
              "      <td>18354</td>\n",
              "      <td>['nonotwithoutyou', 'OneAccount', 'loveisme', ...</td>\n",
              "      <td>[]</td>\n",
              "      <td>\\n          (See the end of the chapter for  n...</td>\n",
              "    </tr>\n",
              "    <tr>\n",
              "      <th>...</th>\n",
              "      <td>...</td>\n",
              "      <td>...</td>\n",
              "      <td>...</td>\n",
              "      <td>...</td>\n",
              "      <td>...</td>\n",
              "      <td>...</td>\n",
              "      <td>...</td>\n",
              "      <td>...</td>\n",
              "      <td>...</td>\n",
              "      <td>...</td>\n",
              "      <td>...</td>\n",
              "      <td>...</td>\n",
              "      <td>...</td>\n",
              "      <td>...</td>\n",
              "      <td>...</td>\n",
              "      <td>...</td>\n",
              "      <td>...</td>\n",
              "      <td>...</td>\n",
              "      <td>...</td>\n",
              "      <td>...</td>\n",
              "      <td>...</td>\n",
              "    </tr>\n",
              "    <tr>\n",
              "      <th>195</th>\n",
              "      <td>242</td>\n",
              "      <td>Room to Breathe (Air to Breathe Stop Motion Ov...</td>\n",
              "      <td>['WitchQueen (zvi)']</td>\n",
              "      <td>Not Rated</td>\n",
              "      <td>M/M</td>\n",
              "      <td>The Sentinel</td>\n",
              "      <td>Jim Ellison/Blair Sandburg</td>\n",
              "      <td>Jim Ellison, Blair Sandburg</td>\n",
              "      <td>post-episode, post-SenToo, Remix, Angst</td>\n",
              "      <td>English</td>\n",
              "      <td>...</td>\n",
              "      <td>2003-03-27</td>\n",
              "      <td>2835</td>\n",
              "      <td>1/1</td>\n",
              "      <td>NaN</td>\n",
              "      <td>11.0</td>\n",
              "      <td>NaN</td>\n",
              "      <td>694</td>\n",
              "      <td>['EllowynTheNotKing', 'Castianamicheals', 'Cor...</td>\n",
              "      <td>[]</td>\n",
              "      <td>He'd been sleeping for days, weeks now. In Sie...</td>\n",
              "    </tr>\n",
              "    <tr>\n",
              "      <th>196</th>\n",
              "      <td>243</td>\n",
              "      <td>Life After</td>\n",
              "      <td>['velocitygrass']</td>\n",
              "      <td>Explicit</td>\n",
              "      <td>M/M</td>\n",
              "      <td>Stargate Atlantis</td>\n",
              "      <td>John Sheppard/Rodney McKay</td>\n",
              "      <td>John Sheppard, Rodney McKay</td>\n",
              "      <td>Earth destroyed, SGA Big Bang 2008, Suicide, S...</td>\n",
              "      <td>English</td>\n",
              "      <td>...</td>\n",
              "      <td>2008-09-17</td>\n",
              "      <td>48260</td>\n",
              "      <td>1/1</td>\n",
              "      <td>22.0</td>\n",
              "      <td>286.0</td>\n",
              "      <td>103.0</td>\n",
              "      <td>8367</td>\n",
              "      <td>['Zzickle', 'Emilise284', 'Madam_Vu', 'prollpe...</td>\n",
              "      <td>[]</td>\n",
              "      <td>Prologue:\\n\\nCharlie Mayer's life began when h...</td>\n",
              "    </tr>\n",
              "    <tr>\n",
              "      <th>197</th>\n",
              "      <td>244</td>\n",
              "      <td>In which there is much disparagement of Sean C...</td>\n",
              "      <td>['WitchQueen (zvi)']</td>\n",
              "      <td>Not Rated</td>\n",
              "      <td>Other</td>\n",
              "      <td>NSYNC</td>\n",
              "      <td>NaN</td>\n",
              "      <td>Justin Timberlake, Chris Kirkpatrick, Joey Fat...</td>\n",
              "      <td>Popslash - Freeform, Remixed</td>\n",
              "      <td>English</td>\n",
              "      <td>...</td>\n",
              "      <td>2002-07-07</td>\n",
              "      <td>1404</td>\n",
              "      <td>1/1</td>\n",
              "      <td>NaN</td>\n",
              "      <td>2.0</td>\n",
              "      <td>1.0</td>\n",
              "      <td>346</td>\n",
              "      <td>['crimisin']</td>\n",
              "      <td>[]</td>\n",
              "      <td>Justin was the last one in the hotel. He'd bee...</td>\n",
              "    </tr>\n",
              "    <tr>\n",
              "      <th>198</th>\n",
              "      <td>245</td>\n",
              "      <td>Not Angry Anymore</td>\n",
              "      <td>['zvi']</td>\n",
              "      <td>Not Rated</td>\n",
              "      <td>Gen</td>\n",
              "      <td>The Sentinel</td>\n",
              "      <td>NaN</td>\n",
              "      <td>Darryl Banks</td>\n",
              "      <td>Angst, Character of Color</td>\n",
              "      <td>English</td>\n",
              "      <td>...</td>\n",
              "      <td>2004-09-19</td>\n",
              "      <td>807</td>\n",
              "      <td>1/1</td>\n",
              "      <td>NaN</td>\n",
              "      <td>11.0</td>\n",
              "      <td>NaN</td>\n",
              "      <td>425</td>\n",
              "      <td>['BrynPlusPlus', 'Rubybookwyrm', 'Dorthy', 'GS...</td>\n",
              "      <td>[]</td>\n",
              "      <td>Darryl gets the call in his trigonometry class...</td>\n",
              "    </tr>\n",
              "    <tr>\n",
              "      <th>199</th>\n",
              "      <td>246</td>\n",
              "      <td>Cutaneous Deprivation</td>\n",
              "      <td>['zvi']</td>\n",
              "      <td>Not Rated</td>\n",
              "      <td>Other</td>\n",
              "      <td>The Sentinel</td>\n",
              "      <td>NaN</td>\n",
              "      <td>Jim Ellison, Blair Sandburg</td>\n",
              "      <td>Post-TSbyBS</td>\n",
              "      <td>English</td>\n",
              "      <td>...</td>\n",
              "      <td>2001-11-19</td>\n",
              "      <td>2585</td>\n",
              "      <td>1/1</td>\n",
              "      <td>NaN</td>\n",
              "      <td>6.0</td>\n",
              "      <td>NaN</td>\n",
              "      <td>669</td>\n",
              "      <td>['Danielsgrl', 'Rubybookwyrm']</td>\n",
              "      <td>[]</td>\n",
              "      <td>Blair looked at Jim's hand.\\n\\nFour fingers an...</td>\n",
              "    </tr>\n",
              "  </tbody>\n",
              "</table>\n",
              "<p>200 rows × 22 columns</p>\n",
              "</div>\n",
              "      <button class=\"colab-df-convert\" onclick=\"convertToInteractive('df-114e1420-3bb7-4668-9332-6f19b5dcbccd')\"\n",
              "              title=\"Convert this dataframe to an interactive table.\"\n",
              "              style=\"display:none;\">\n",
              "        \n",
              "  <svg xmlns=\"http://www.w3.org/2000/svg\" height=\"24px\"viewBox=\"0 0 24 24\"\n",
              "       width=\"24px\">\n",
              "    <path d=\"M0 0h24v24H0V0z\" fill=\"none\"/>\n",
              "    <path d=\"M18.56 5.44l.94 2.06.94-2.06 2.06-.94-2.06-.94-.94-2.06-.94 2.06-2.06.94zm-11 1L8.5 8.5l.94-2.06 2.06-.94-2.06-.94L8.5 2.5l-.94 2.06-2.06.94zm10 10l.94 2.06.94-2.06 2.06-.94-2.06-.94-.94-2.06-.94 2.06-2.06.94z\"/><path d=\"M17.41 7.96l-1.37-1.37c-.4-.4-.92-.59-1.43-.59-.52 0-1.04.2-1.43.59L10.3 9.45l-7.72 7.72c-.78.78-.78 2.05 0 2.83L4 21.41c.39.39.9.59 1.41.59.51 0 1.02-.2 1.41-.59l7.78-7.78 2.81-2.81c.8-.78.8-2.07 0-2.86zM5.41 20L4 18.59l7.72-7.72 1.47 1.35L5.41 20z\"/>\n",
              "  </svg>\n",
              "      </button>\n",
              "      \n",
              "  <style>\n",
              "    .colab-df-container {\n",
              "      display:flex;\n",
              "      flex-wrap:wrap;\n",
              "      gap: 12px;\n",
              "    }\n",
              "\n",
              "    .colab-df-convert {\n",
              "      background-color: #E8F0FE;\n",
              "      border: none;\n",
              "      border-radius: 50%;\n",
              "      cursor: pointer;\n",
              "      display: none;\n",
              "      fill: #1967D2;\n",
              "      height: 32px;\n",
              "      padding: 0 0 0 0;\n",
              "      width: 32px;\n",
              "    }\n",
              "\n",
              "    .colab-df-convert:hover {\n",
              "      background-color: #E2EBFA;\n",
              "      box-shadow: 0px 1px 2px rgba(60, 64, 67, 0.3), 0px 1px 3px 1px rgba(60, 64, 67, 0.15);\n",
              "      fill: #174EA6;\n",
              "    }\n",
              "\n",
              "    [theme=dark] .colab-df-convert {\n",
              "      background-color: #3B4455;\n",
              "      fill: #D2E3FC;\n",
              "    }\n",
              "\n",
              "    [theme=dark] .colab-df-convert:hover {\n",
              "      background-color: #434B5C;\n",
              "      box-shadow: 0px 1px 3px 1px rgba(0, 0, 0, 0.15);\n",
              "      filter: drop-shadow(0px 1px 2px rgba(0, 0, 0, 0.3));\n",
              "      fill: #FFFFFF;\n",
              "    }\n",
              "  </style>\n",
              "\n",
              "      <script>\n",
              "        const buttonEl =\n",
              "          document.querySelector('#df-114e1420-3bb7-4668-9332-6f19b5dcbccd button.colab-df-convert');\n",
              "        buttonEl.style.display =\n",
              "          google.colab.kernel.accessAllowed ? 'block' : 'none';\n",
              "\n",
              "        async function convertToInteractive(key) {\n",
              "          const element = document.querySelector('#df-114e1420-3bb7-4668-9332-6f19b5dcbccd');\n",
              "          const dataTable =\n",
              "            await google.colab.kernel.invokeFunction('convertToInteractive',\n",
              "                                                     [key], {});\n",
              "          if (!dataTable) return;\n",
              "\n",
              "          const docLinkHtml = 'Like what you see? Visit the ' +\n",
              "            '<a target=\"_blank\" href=https://colab.research.google.com/notebooks/data_table.ipynb>data table notebook</a>'\n",
              "            + ' to learn more about interactive tables.';\n",
              "          element.innerHTML = '';\n",
              "          dataTable['output_type'] = 'display_data';\n",
              "          await google.colab.output.renderOutput(dataTable, element);\n",
              "          const docLink = document.createElement('div');\n",
              "          docLink.innerHTML = docLinkHtml;\n",
              "          element.appendChild(docLink);\n",
              "        }\n",
              "      </script>\n",
              "    </div>\n",
              "  </div>\n",
              "  "
            ]
          },
          "metadata": {},
          "execution_count": 46
        }
      ]
    },
    {
      "cell_type": "markdown",
      "source": [
        "let's clean the nonrated stuff. Make sure it's english"
      ],
      "metadata": {
        "id": "20XcrcFPB_FR"
      }
    },
    {
      "cell_type": "code",
      "source": [
        "LoD = []\n",
        "for i in range(len(df3)):\n",
        "  if df3['rating'][i] == \"Not Rated\":\n",
        "    LoD += [i]\n",
        "print(LoD)\n",
        "print(len(LoD))\n",
        "LoNE = []\n",
        "for i in range(len(df3)):\n",
        "  if df3['language'][i] != 'English':\n",
        "    if i not in LoD:\n",
        "      LoNE += [i]\n",
        "print(LoNE )\n",
        "print(len(LoNE))\n",
        "\n",
        "LoD += [3]\n",
        "LoD += [37]\n",
        "print(LoD)"
      ],
      "metadata": {
        "colab": {
          "base_uri": "https://localhost:8080/"
        },
        "id": "Q9y9Vm5uCBdg",
        "outputId": "6e12e7b8-4f7c-4d88-850b-77da2f2ebdf4"
      },
      "execution_count": null,
      "outputs": [
        {
          "output_type": "stream",
          "name": "stdout",
          "text": [
            "[5, 6, 14, 16, 17, 22, 25, 34, 46, 51, 57, 58, 59, 60, 61, 64, 66, 67, 68, 69, 70, 72, 73, 75, 89, 90, 93, 126, 131, 133, 137, 155, 160, 184, 186, 193, 195, 197, 198, 199]\n",
            "40\n",
            "[3, 37]\n",
            "2\n",
            "[5, 6, 14, 16, 17, 22, 25, 34, 46, 51, 57, 58, 59, 60, 61, 64, 66, 67, 68, 69, 70, 72, 73, 75, 89, 90, 93, 126, 131, 133, 137, 155, 160, 184, 186, 193, 195, 197, 198, 199, 3, 37]\n"
          ]
        }
      ]
    },
    {
      "cell_type": "markdown",
      "source": [
        "TODO: Drop these indexes!"
      ],
      "metadata": {
        "id": "uVqmhjciJ-SP"
      }
    },
    {
      "cell_type": "code",
      "source": [
        "ROW = 0\n",
        "COLUMN = 1\n",
        "\n",
        "test_clean = df3.drop(LoD, axis=ROW)\n",
        "test_clean"
      ],
      "metadata": {
        "colab": {
          "base_uri": "https://localhost:8080/",
          "height": 1000
        },
        "id": "beZp-1xbJ9uP",
        "outputId": "90b2774e-2381-48de-b758-b05d89458161"
      },
      "execution_count": null,
      "outputs": [
        {
          "output_type": "execute_result",
          "data": {
            "text/plain": [
              "      work_id                                              title  \\\n",
              "0    35867929                                   The Call of Fate   \n",
              "1    34628254                                          Sacrifice   \n",
              "2    38261965                                         Sick Leave   \n",
              "4    38125645                                    absence, hearts   \n",
              "7    36500893                   God of Mischief, Master of Death   \n",
              "..        ...                                                ...   \n",
              "190       236  Five People John Sheppard Didn't Expect to Mis...   \n",
              "191       237  More of the Stars and Sea (The Three Meals Remix)   \n",
              "192       238                                 A Slice of College   \n",
              "194       241                                           Runaways   \n",
              "196       243                                         Life After   \n",
              "\n",
              "                     author                 rating         category  \\\n",
              "0     ['EmpressOfTheFlame']               Explicit  F/M, M/M, Multi   \n",
              "1    ['Thewonderfulwiccan']               Explicit            Multi   \n",
              "2      ['Hemaris_diffinis']  Teen And Up Audiences              Gen   \n",
              "4        ['Marmeladeskies']               Explicit              M/M   \n",
              "7          ['CrazyArtChic']  Teen And Up Audiences              Gen   \n",
              "..                      ...                    ...              ...   \n",
              "190                ['Kass']                 Mature              M/M   \n",
              "191                ['Kass']      General Audiences              F/M   \n",
              "192                ['Kass']                 Mature              F/F   \n",
              "194  ['Mollyamory (Molly)']                 Mature              M/M   \n",
              "196       ['velocitygrass']               Explicit              M/M   \n",
              "\n",
              "                                                fandom  \\\n",
              "0                    HELIOS Rising Heroes (Video Game)   \n",
              "1    Young Justice (Cartoon), Young Justice - All M...   \n",
              "2                              The Owl House (Cartoon)   \n",
              "4                                        Formula 1 RPF   \n",
              "7    Harry Potter - J. K. Rowling, The Avengers (Ma...   \n",
              "..                                                 ...   \n",
              "190                                  Stargate Atlantis   \n",
              "191                                  Stargate Atlantis   \n",
              "192                                     Daria - Fandom   \n",
              "194                                              NSYNC   \n",
              "196                                  Stargate Atlantis   \n",
              "\n",
              "                                          relationship  \\\n",
              "0    Jay Kidman/Reader, Various/Reader, Dino Albani...   \n",
              "1                              Dick Grayson/Wally West   \n",
              "2                        Eda Clawthorne/Raine Whispers   \n",
              "4    Lando Norris/Max Verstappen/Daniel Ricciardo/C...   \n",
              "7                                                  NaN   \n",
              "..                                                 ...   \n",
              "190                         John Sheppard/Rodney McKay   \n",
              "191                                        Radek/Teyla   \n",
              "192                                         Daria/Jane   \n",
              "194                       Lance Bass/Chris Kirkpatrick   \n",
              "196                         John Sheppard/Rodney McKay   \n",
              "\n",
              "                                             character  \\\n",
              "0    Reader, You, Jay Kidman, Dino Albani, Akira Ot...   \n",
              "1    Dick Grayson, Wally West, Barbara Gordon, M'ga...   \n",
              "2     Raine Whispers, Terra Snapdragon, Eda Clawthorne   \n",
              "4    Lando Norris, Michael Italiano, Charles Lecler...   \n",
              "7    Female Harry Potter - Character, Hermione Gran...   \n",
              "..                                                 ...   \n",
              "190                        John Sheppard, Rodney McKay   \n",
              "191                       Radek Zelenka, Teyla Emmagan   \n",
              "192                      Daria Morgendorfer, Jane Lane   \n",
              "194                      Lance Bass, Chris Kirkpatrick   \n",
              "196                        John Sheppard, Rodney McKay   \n",
              "\n",
              "                                       additional tags language  ...  \\\n",
              "0    First Time, Praise Kink, Smut, Romance, Reader...  English  ...   \n",
              "1    Heavy Angst, Human Trafficking, Emotional Hurt...  English  ...   \n",
              "2    Amber Derwin and Kayta are mentioned but not p...  English  ...   \n",
              "4    Alpha/Beta/Omega Dynamics, Omegaverse, Pack Dy...  English  ...   \n",
              "7    Rule 63, Time Travel Fix-It, Master of Death H...  English  ...   \n",
              "..                                                 ...      ...  ...   \n",
              "190                      Remix, remixredux08, 5 Things  English  ...   \n",
              "191                                Remix, remixredux08  English  ...   \n",
              "192                                         First Time  English  ...   \n",
              "194                                Popslash - Freeform  English  ...   \n",
              "196  Earth destroyed, SGA Big Bang 2008, Suicide, S...  English  ...   \n",
              "\n",
              "    status date   words chapters  comments   kudos  bookmarks   hits  \\\n",
              "0    2022-04-19   10191     15/?       1.0    13.0        1.0    455   \n",
              "1    2022-04-19   51697     17/?      39.0   208.0       42.0   5721   \n",
              "2    2022-04-19    7439      5/?      10.0    56.0        4.0    678   \n",
              "4    2022-04-19   37314    21/27     625.0   512.0       41.0  18354   \n",
              "7    2022-04-19  112327     34/?    1044.0  1722.0      602.0  51838   \n",
              "..          ...     ...      ...       ...     ...        ...    ...   \n",
              "190  2008-09-17    1382      1/1       4.0    76.0        3.0   1260   \n",
              "191  2008-09-17    2624      1/1       8.0    30.0        4.0    953   \n",
              "192  2008-09-17    3683      1/1      19.0   401.0       49.0   5235   \n",
              "194  2008-09-17   11489      1/1       NaN    14.0        2.0    412   \n",
              "196  2008-09-17   48260      1/1      22.0   286.0      103.0   8367   \n",
              "\n",
              "                                             all_kudos  all_bookmarks  \\\n",
              "0                                   ['APH_Wonderland']             []   \n",
              "1    ['herbalwigeon', 'spekkoekenak', 'NightBek', '...             []   \n",
              "2    ['goblingorg', 'Dantsem', 'sapphicsoup', 'imlo...             []   \n",
              "4    ['nonotwithoutyou', 'OneAccount', 'loveisme', ...             []   \n",
              "7    ['Babyb34r', 'FreedomFighterKris', 'Zerilla', ...             []   \n",
              "..                                                 ...            ...   \n",
              "190  ['greenfizzpops', 'Brightbear', 'gingerpolyglo...             []   \n",
              "191  ['Outnumbered18', 'Rocketscientists', 'Ravenne...             []   \n",
              "192  ['future1dustries', 'scrawnycalc', 'originalbl...             []   \n",
              "194  ['verilix', 'FrkAemelin', 'mandralyne', 'Rubic...             []   \n",
              "196  ['Zzickle', 'Emilise284', 'Madam_Vu', 'prollpe...             []   \n",
              "\n",
              "                                                  body  \n",
              "0    It would be accurate to say that Jay had been ...  \n",
              "1    They'd scream. \\n\\nThey'd cry. \\n\\nBeg to go h...  \n",
              "2    Ok, ok, I need to calm down and make a plan, R...  \n",
              "4    \\n          (See the end of the chapter for  n...  \n",
              "7    Chapter 1\\n\\n \\n\\nThe trial was a farce, and t...  \n",
              "..                                                 ...  \n",
              "190  \\n1. The guy with the bass at Bagram\\n\\n\\nAll ...  \n",
              "191  Mysterious power readings always meant trouble...  \n",
              "192  The first time they went for pizza in Boston, ...  \n",
              "194  \"Are you packed?\"\\n\\n\"No,\" Chris said, letting...  \n",
              "196  Prologue:\\n\\nCharlie Mayer's life began when h...  \n",
              "\n",
              "[158 rows x 22 columns]"
            ],
            "text/html": [
              "\n",
              "  <div id=\"df-d4dca181-4bf2-4f17-b1e8-1bd137667518\">\n",
              "    <div class=\"colab-df-container\">\n",
              "      <div>\n",
              "<style scoped>\n",
              "    .dataframe tbody tr th:only-of-type {\n",
              "        vertical-align: middle;\n",
              "    }\n",
              "\n",
              "    .dataframe tbody tr th {\n",
              "        vertical-align: top;\n",
              "    }\n",
              "\n",
              "    .dataframe thead th {\n",
              "        text-align: right;\n",
              "    }\n",
              "</style>\n",
              "<table border=\"1\" class=\"dataframe\">\n",
              "  <thead>\n",
              "    <tr style=\"text-align: right;\">\n",
              "      <th></th>\n",
              "      <th>work_id</th>\n",
              "      <th>title</th>\n",
              "      <th>author</th>\n",
              "      <th>rating</th>\n",
              "      <th>category</th>\n",
              "      <th>fandom</th>\n",
              "      <th>relationship</th>\n",
              "      <th>character</th>\n",
              "      <th>additional tags</th>\n",
              "      <th>language</th>\n",
              "      <th>...</th>\n",
              "      <th>status date</th>\n",
              "      <th>words</th>\n",
              "      <th>chapters</th>\n",
              "      <th>comments</th>\n",
              "      <th>kudos</th>\n",
              "      <th>bookmarks</th>\n",
              "      <th>hits</th>\n",
              "      <th>all_kudos</th>\n",
              "      <th>all_bookmarks</th>\n",
              "      <th>body</th>\n",
              "    </tr>\n",
              "  </thead>\n",
              "  <tbody>\n",
              "    <tr>\n",
              "      <th>0</th>\n",
              "      <td>35867929</td>\n",
              "      <td>The Call of Fate</td>\n",
              "      <td>['EmpressOfTheFlame']</td>\n",
              "      <td>Explicit</td>\n",
              "      <td>F/M, M/M, Multi</td>\n",
              "      <td>HELIOS Rising Heroes (Video Game)</td>\n",
              "      <td>Jay Kidman/Reader, Various/Reader, Dino Albani...</td>\n",
              "      <td>Reader, You, Jay Kidman, Dino Albani, Akira Ot...</td>\n",
              "      <td>First Time, Praise Kink, Smut, Romance, Reader...</td>\n",
              "      <td>English</td>\n",
              "      <td>...</td>\n",
              "      <td>2022-04-19</td>\n",
              "      <td>10191</td>\n",
              "      <td>15/?</td>\n",
              "      <td>1.0</td>\n",
              "      <td>13.0</td>\n",
              "      <td>1.0</td>\n",
              "      <td>455</td>\n",
              "      <td>['APH_Wonderland']</td>\n",
              "      <td>[]</td>\n",
              "      <td>It would be accurate to say that Jay had been ...</td>\n",
              "    </tr>\n",
              "    <tr>\n",
              "      <th>1</th>\n",
              "      <td>34628254</td>\n",
              "      <td>Sacrifice</td>\n",
              "      <td>['Thewonderfulwiccan']</td>\n",
              "      <td>Explicit</td>\n",
              "      <td>Multi</td>\n",
              "      <td>Young Justice (Cartoon), Young Justice - All M...</td>\n",
              "      <td>Dick Grayson/Wally West</td>\n",
              "      <td>Dick Grayson, Wally West, Barbara Gordon, M'ga...</td>\n",
              "      <td>Heavy Angst, Human Trafficking, Emotional Hurt...</td>\n",
              "      <td>English</td>\n",
              "      <td>...</td>\n",
              "      <td>2022-04-19</td>\n",
              "      <td>51697</td>\n",
              "      <td>17/?</td>\n",
              "      <td>39.0</td>\n",
              "      <td>208.0</td>\n",
              "      <td>42.0</td>\n",
              "      <td>5721</td>\n",
              "      <td>['herbalwigeon', 'spekkoekenak', 'NightBek', '...</td>\n",
              "      <td>[]</td>\n",
              "      <td>They'd scream. \\n\\nThey'd cry. \\n\\nBeg to go h...</td>\n",
              "    </tr>\n",
              "    <tr>\n",
              "      <th>2</th>\n",
              "      <td>38261965</td>\n",
              "      <td>Sick Leave</td>\n",
              "      <td>['Hemaris_diffinis']</td>\n",
              "      <td>Teen And Up Audiences</td>\n",
              "      <td>Gen</td>\n",
              "      <td>The Owl House (Cartoon)</td>\n",
              "      <td>Eda Clawthorne/Raine Whispers</td>\n",
              "      <td>Raine Whispers, Terra Snapdragon, Eda Clawthorne</td>\n",
              "      <td>Amber Derwin and Kayta are mentioned but not p...</td>\n",
              "      <td>English</td>\n",
              "      <td>...</td>\n",
              "      <td>2022-04-19</td>\n",
              "      <td>7439</td>\n",
              "      <td>5/?</td>\n",
              "      <td>10.0</td>\n",
              "      <td>56.0</td>\n",
              "      <td>4.0</td>\n",
              "      <td>678</td>\n",
              "      <td>['goblingorg', 'Dantsem', 'sapphicsoup', 'imlo...</td>\n",
              "      <td>[]</td>\n",
              "      <td>Ok, ok, I need to calm down and make a plan, R...</td>\n",
              "    </tr>\n",
              "    <tr>\n",
              "      <th>4</th>\n",
              "      <td>38125645</td>\n",
              "      <td>absence, hearts</td>\n",
              "      <td>['Marmeladeskies']</td>\n",
              "      <td>Explicit</td>\n",
              "      <td>M/M</td>\n",
              "      <td>Formula 1 RPF</td>\n",
              "      <td>Lando Norris/Max Verstappen/Daniel Ricciardo/C...</td>\n",
              "      <td>Lando Norris, Michael Italiano, Charles Lecler...</td>\n",
              "      <td>Alpha/Beta/Omega Dynamics, Omegaverse, Pack Dy...</td>\n",
              "      <td>English</td>\n",
              "      <td>...</td>\n",
              "      <td>2022-04-19</td>\n",
              "      <td>37314</td>\n",
              "      <td>21/27</td>\n",
              "      <td>625.0</td>\n",
              "      <td>512.0</td>\n",
              "      <td>41.0</td>\n",
              "      <td>18354</td>\n",
              "      <td>['nonotwithoutyou', 'OneAccount', 'loveisme', ...</td>\n",
              "      <td>[]</td>\n",
              "      <td>\\n          (See the end of the chapter for  n...</td>\n",
              "    </tr>\n",
              "    <tr>\n",
              "      <th>7</th>\n",
              "      <td>36500893</td>\n",
              "      <td>God of Mischief, Master of Death</td>\n",
              "      <td>['CrazyArtChic']</td>\n",
              "      <td>Teen And Up Audiences</td>\n",
              "      <td>Gen</td>\n",
              "      <td>Harry Potter - J. K. Rowling, The Avengers (Ma...</td>\n",
              "      <td>NaN</td>\n",
              "      <td>Female Harry Potter - Character, Hermione Gran...</td>\n",
              "      <td>Rule 63, Time Travel Fix-It, Master of Death H...</td>\n",
              "      <td>English</td>\n",
              "      <td>...</td>\n",
              "      <td>2022-04-19</td>\n",
              "      <td>112327</td>\n",
              "      <td>34/?</td>\n",
              "      <td>1044.0</td>\n",
              "      <td>1722.0</td>\n",
              "      <td>602.0</td>\n",
              "      <td>51838</td>\n",
              "      <td>['Babyb34r', 'FreedomFighterKris', 'Zerilla', ...</td>\n",
              "      <td>[]</td>\n",
              "      <td>Chapter 1\\n\\n \\n\\nThe trial was a farce, and t...</td>\n",
              "    </tr>\n",
              "    <tr>\n",
              "      <th>...</th>\n",
              "      <td>...</td>\n",
              "      <td>...</td>\n",
              "      <td>...</td>\n",
              "      <td>...</td>\n",
              "      <td>...</td>\n",
              "      <td>...</td>\n",
              "      <td>...</td>\n",
              "      <td>...</td>\n",
              "      <td>...</td>\n",
              "      <td>...</td>\n",
              "      <td>...</td>\n",
              "      <td>...</td>\n",
              "      <td>...</td>\n",
              "      <td>...</td>\n",
              "      <td>...</td>\n",
              "      <td>...</td>\n",
              "      <td>...</td>\n",
              "      <td>...</td>\n",
              "      <td>...</td>\n",
              "      <td>...</td>\n",
              "      <td>...</td>\n",
              "    </tr>\n",
              "    <tr>\n",
              "      <th>190</th>\n",
              "      <td>236</td>\n",
              "      <td>Five People John Sheppard Didn't Expect to Mis...</td>\n",
              "      <td>['Kass']</td>\n",
              "      <td>Mature</td>\n",
              "      <td>M/M</td>\n",
              "      <td>Stargate Atlantis</td>\n",
              "      <td>John Sheppard/Rodney McKay</td>\n",
              "      <td>John Sheppard, Rodney McKay</td>\n",
              "      <td>Remix, remixredux08, 5 Things</td>\n",
              "      <td>English</td>\n",
              "      <td>...</td>\n",
              "      <td>2008-09-17</td>\n",
              "      <td>1382</td>\n",
              "      <td>1/1</td>\n",
              "      <td>4.0</td>\n",
              "      <td>76.0</td>\n",
              "      <td>3.0</td>\n",
              "      <td>1260</td>\n",
              "      <td>['greenfizzpops', 'Brightbear', 'gingerpolyglo...</td>\n",
              "      <td>[]</td>\n",
              "      <td>\\n1. The guy with the bass at Bagram\\n\\n\\nAll ...</td>\n",
              "    </tr>\n",
              "    <tr>\n",
              "      <th>191</th>\n",
              "      <td>237</td>\n",
              "      <td>More of the Stars and Sea (The Three Meals Remix)</td>\n",
              "      <td>['Kass']</td>\n",
              "      <td>General Audiences</td>\n",
              "      <td>F/M</td>\n",
              "      <td>Stargate Atlantis</td>\n",
              "      <td>Radek/Teyla</td>\n",
              "      <td>Radek Zelenka, Teyla Emmagan</td>\n",
              "      <td>Remix, remixredux08</td>\n",
              "      <td>English</td>\n",
              "      <td>...</td>\n",
              "      <td>2008-09-17</td>\n",
              "      <td>2624</td>\n",
              "      <td>1/1</td>\n",
              "      <td>8.0</td>\n",
              "      <td>30.0</td>\n",
              "      <td>4.0</td>\n",
              "      <td>953</td>\n",
              "      <td>['Outnumbered18', 'Rocketscientists', 'Ravenne...</td>\n",
              "      <td>[]</td>\n",
              "      <td>Mysterious power readings always meant trouble...</td>\n",
              "    </tr>\n",
              "    <tr>\n",
              "      <th>192</th>\n",
              "      <td>238</td>\n",
              "      <td>A Slice of College</td>\n",
              "      <td>['Kass']</td>\n",
              "      <td>Mature</td>\n",
              "      <td>F/F</td>\n",
              "      <td>Daria - Fandom</td>\n",
              "      <td>Daria/Jane</td>\n",
              "      <td>Daria Morgendorfer, Jane Lane</td>\n",
              "      <td>First Time</td>\n",
              "      <td>English</td>\n",
              "      <td>...</td>\n",
              "      <td>2008-09-17</td>\n",
              "      <td>3683</td>\n",
              "      <td>1/1</td>\n",
              "      <td>19.0</td>\n",
              "      <td>401.0</td>\n",
              "      <td>49.0</td>\n",
              "      <td>5235</td>\n",
              "      <td>['future1dustries', 'scrawnycalc', 'originalbl...</td>\n",
              "      <td>[]</td>\n",
              "      <td>The first time they went for pizza in Boston, ...</td>\n",
              "    </tr>\n",
              "    <tr>\n",
              "      <th>194</th>\n",
              "      <td>241</td>\n",
              "      <td>Runaways</td>\n",
              "      <td>['Mollyamory (Molly)']</td>\n",
              "      <td>Mature</td>\n",
              "      <td>M/M</td>\n",
              "      <td>NSYNC</td>\n",
              "      <td>Lance Bass/Chris Kirkpatrick</td>\n",
              "      <td>Lance Bass, Chris Kirkpatrick</td>\n",
              "      <td>Popslash - Freeform</td>\n",
              "      <td>English</td>\n",
              "      <td>...</td>\n",
              "      <td>2008-09-17</td>\n",
              "      <td>11489</td>\n",
              "      <td>1/1</td>\n",
              "      <td>NaN</td>\n",
              "      <td>14.0</td>\n",
              "      <td>2.0</td>\n",
              "      <td>412</td>\n",
              "      <td>['verilix', 'FrkAemelin', 'mandralyne', 'Rubic...</td>\n",
              "      <td>[]</td>\n",
              "      <td>\"Are you packed?\"\\n\\n\"No,\" Chris said, letting...</td>\n",
              "    </tr>\n",
              "    <tr>\n",
              "      <th>196</th>\n",
              "      <td>243</td>\n",
              "      <td>Life After</td>\n",
              "      <td>['velocitygrass']</td>\n",
              "      <td>Explicit</td>\n",
              "      <td>M/M</td>\n",
              "      <td>Stargate Atlantis</td>\n",
              "      <td>John Sheppard/Rodney McKay</td>\n",
              "      <td>John Sheppard, Rodney McKay</td>\n",
              "      <td>Earth destroyed, SGA Big Bang 2008, Suicide, S...</td>\n",
              "      <td>English</td>\n",
              "      <td>...</td>\n",
              "      <td>2008-09-17</td>\n",
              "      <td>48260</td>\n",
              "      <td>1/1</td>\n",
              "      <td>22.0</td>\n",
              "      <td>286.0</td>\n",
              "      <td>103.0</td>\n",
              "      <td>8367</td>\n",
              "      <td>['Zzickle', 'Emilise284', 'Madam_Vu', 'prollpe...</td>\n",
              "      <td>[]</td>\n",
              "      <td>Prologue:\\n\\nCharlie Mayer's life began when h...</td>\n",
              "    </tr>\n",
              "  </tbody>\n",
              "</table>\n",
              "<p>158 rows × 22 columns</p>\n",
              "</div>\n",
              "      <button class=\"colab-df-convert\" onclick=\"convertToInteractive('df-d4dca181-4bf2-4f17-b1e8-1bd137667518')\"\n",
              "              title=\"Convert this dataframe to an interactive table.\"\n",
              "              style=\"display:none;\">\n",
              "        \n",
              "  <svg xmlns=\"http://www.w3.org/2000/svg\" height=\"24px\"viewBox=\"0 0 24 24\"\n",
              "       width=\"24px\">\n",
              "    <path d=\"M0 0h24v24H0V0z\" fill=\"none\"/>\n",
              "    <path d=\"M18.56 5.44l.94 2.06.94-2.06 2.06-.94-2.06-.94-.94-2.06-.94 2.06-2.06.94zm-11 1L8.5 8.5l.94-2.06 2.06-.94-2.06-.94L8.5 2.5l-.94 2.06-2.06.94zm10 10l.94 2.06.94-2.06 2.06-.94-2.06-.94-.94-2.06-.94 2.06-2.06.94z\"/><path d=\"M17.41 7.96l-1.37-1.37c-.4-.4-.92-.59-1.43-.59-.52 0-1.04.2-1.43.59L10.3 9.45l-7.72 7.72c-.78.78-.78 2.05 0 2.83L4 21.41c.39.39.9.59 1.41.59.51 0 1.02-.2 1.41-.59l7.78-7.78 2.81-2.81c.8-.78.8-2.07 0-2.86zM5.41 20L4 18.59l7.72-7.72 1.47 1.35L5.41 20z\"/>\n",
              "  </svg>\n",
              "      </button>\n",
              "      \n",
              "  <style>\n",
              "    .colab-df-container {\n",
              "      display:flex;\n",
              "      flex-wrap:wrap;\n",
              "      gap: 12px;\n",
              "    }\n",
              "\n",
              "    .colab-df-convert {\n",
              "      background-color: #E8F0FE;\n",
              "      border: none;\n",
              "      border-radius: 50%;\n",
              "      cursor: pointer;\n",
              "      display: none;\n",
              "      fill: #1967D2;\n",
              "      height: 32px;\n",
              "      padding: 0 0 0 0;\n",
              "      width: 32px;\n",
              "    }\n",
              "\n",
              "    .colab-df-convert:hover {\n",
              "      background-color: #E2EBFA;\n",
              "      box-shadow: 0px 1px 2px rgba(60, 64, 67, 0.3), 0px 1px 3px 1px rgba(60, 64, 67, 0.15);\n",
              "      fill: #174EA6;\n",
              "    }\n",
              "\n",
              "    [theme=dark] .colab-df-convert {\n",
              "      background-color: #3B4455;\n",
              "      fill: #D2E3FC;\n",
              "    }\n",
              "\n",
              "    [theme=dark] .colab-df-convert:hover {\n",
              "      background-color: #434B5C;\n",
              "      box-shadow: 0px 1px 3px 1px rgba(0, 0, 0, 0.15);\n",
              "      filter: drop-shadow(0px 1px 2px rgba(0, 0, 0, 0.3));\n",
              "      fill: #FFFFFF;\n",
              "    }\n",
              "  </style>\n",
              "\n",
              "      <script>\n",
              "        const buttonEl =\n",
              "          document.querySelector('#df-d4dca181-4bf2-4f17-b1e8-1bd137667518 button.colab-df-convert');\n",
              "        buttonEl.style.display =\n",
              "          google.colab.kernel.accessAllowed ? 'block' : 'none';\n",
              "\n",
              "        async function convertToInteractive(key) {\n",
              "          const element = document.querySelector('#df-d4dca181-4bf2-4f17-b1e8-1bd137667518');\n",
              "          const dataTable =\n",
              "            await google.colab.kernel.invokeFunction('convertToInteractive',\n",
              "                                                     [key], {});\n",
              "          if (!dataTable) return;\n",
              "\n",
              "          const docLinkHtml = 'Like what you see? Visit the ' +\n",
              "            '<a target=\"_blank\" href=https://colab.research.google.com/notebooks/data_table.ipynb>data table notebook</a>'\n",
              "            + ' to learn more about interactive tables.';\n",
              "          element.innerHTML = '';\n",
              "          dataTable['output_type'] = 'display_data';\n",
              "          await google.colab.output.renderOutput(dataTable, element);\n",
              "          const docLink = document.createElement('div');\n",
              "          docLink.innerHTML = docLinkHtml;\n",
              "          element.appendChild(docLink);\n",
              "        }\n",
              "      </script>\n",
              "    </div>\n",
              "  </div>\n",
              "  "
            ]
          },
          "metadata": {},
          "execution_count": 75
        }
      ]
    },
    {
      "cell_type": "code",
      "source": [
        "test_clean['Body_Parsed_1'] = test_clean['body'].str.replace(\"\\r\", \" \")\n",
        "test_clean['Body_Parsed_1'] = test_clean['Body_Parsed_1'].str.replace(\"\\n\", \" \")\n",
        "test_clean['Body_Parsed_1'] = test_clean['Body_Parsed_1'].str.replace(\"    \", \" \")\n",
        "test_clean['Body_Parsed_1'] = test_clean['Body_Parsed_1'].str.replace(\"\\t\", \" \")"
      ],
      "metadata": {
        "id": "BHLNSmbIUrc6"
      },
      "execution_count": null,
      "outputs": []
    },
    {
      "cell_type": "markdown",
      "source": [
        "save the cleaned test to a csv and then read it in"
      ],
      "metadata": {
        "id": "VN4jnhzkXwDv"
      }
    },
    {
      "cell_type": "code",
      "source": [
        "test_clean.to_csv('/GD/My Drive/Colab Notebooks/Fanfiction/test_clean.csv', index_label=False)  # no \"index\" column...\n"
      ],
      "metadata": {
        "id": "aU_V5tl9Xvpj"
      },
      "execution_count": null,
      "outputs": []
    },
    {
      "cell_type": "code",
      "source": [
        "df_tidy_reread = pd.read_csv('/GD/My Drive/Colab Notebooks/Fanfiction/test_clean.csv')   # encoding=\"utf-8\" et al.\n",
        "df_tidy_reread"
      ],
      "metadata": {
        "colab": {
          "base_uri": "https://localhost:8080/",
          "height": 1000
        },
        "id": "7LAtdc64ZWKu",
        "outputId": "a5c4b67a-448e-4c6c-cef6-4b528945cca4"
      },
      "execution_count": null,
      "outputs": [
        {
          "output_type": "execute_result",
          "data": {
            "text/plain": [
              "      work_id                                              title  \\\n",
              "0    35867929                                   The Call of Fate   \n",
              "1    34628254                                          Sacrifice   \n",
              "2    38261965                                         Sick Leave   \n",
              "4    38125645                                    absence, hearts   \n",
              "7    36500893                   God of Mischief, Master of Death   \n",
              "..        ...                                                ...   \n",
              "190       236  Five People John Sheppard Didn't Expect to Mis...   \n",
              "191       237  More of the Stars and Sea (The Three Meals Remix)   \n",
              "192       238                                 A Slice of College   \n",
              "194       241                                           Runaways   \n",
              "196       243                                         Life After   \n",
              "\n",
              "                     author                 rating         category  \\\n",
              "0     ['EmpressOfTheFlame']               Explicit  F/M, M/M, Multi   \n",
              "1    ['Thewonderfulwiccan']               Explicit            Multi   \n",
              "2      ['Hemaris_diffinis']  Teen And Up Audiences              Gen   \n",
              "4        ['Marmeladeskies']               Explicit              M/M   \n",
              "7          ['CrazyArtChic']  Teen And Up Audiences              Gen   \n",
              "..                      ...                    ...              ...   \n",
              "190                ['Kass']                 Mature              M/M   \n",
              "191                ['Kass']      General Audiences              F/M   \n",
              "192                ['Kass']                 Mature              F/F   \n",
              "194  ['Mollyamory (Molly)']                 Mature              M/M   \n",
              "196       ['velocitygrass']               Explicit              M/M   \n",
              "\n",
              "                                                fandom  \\\n",
              "0                    HELIOS Rising Heroes (Video Game)   \n",
              "1    Young Justice (Cartoon), Young Justice - All M...   \n",
              "2                              The Owl House (Cartoon)   \n",
              "4                                        Formula 1 RPF   \n",
              "7    Harry Potter - J. K. Rowling, The Avengers (Ma...   \n",
              "..                                                 ...   \n",
              "190                                  Stargate Atlantis   \n",
              "191                                  Stargate Atlantis   \n",
              "192                                     Daria - Fandom   \n",
              "194                                              NSYNC   \n",
              "196                                  Stargate Atlantis   \n",
              "\n",
              "                                          relationship  \\\n",
              "0    Jay Kidman/Reader, Various/Reader, Dino Albani...   \n",
              "1                              Dick Grayson/Wally West   \n",
              "2                        Eda Clawthorne/Raine Whispers   \n",
              "4    Lando Norris/Max Verstappen/Daniel Ricciardo/C...   \n",
              "7                                                  NaN   \n",
              "..                                                 ...   \n",
              "190                         John Sheppard/Rodney McKay   \n",
              "191                                        Radek/Teyla   \n",
              "192                                         Daria/Jane   \n",
              "194                       Lance Bass/Chris Kirkpatrick   \n",
              "196                         John Sheppard/Rodney McKay   \n",
              "\n",
              "                                             character  \\\n",
              "0    Reader, You, Jay Kidman, Dino Albani, Akira Ot...   \n",
              "1    Dick Grayson, Wally West, Barbara Gordon, M'ga...   \n",
              "2     Raine Whispers, Terra Snapdragon, Eda Clawthorne   \n",
              "4    Lando Norris, Michael Italiano, Charles Lecler...   \n",
              "7    Female Harry Potter - Character, Hermione Gran...   \n",
              "..                                                 ...   \n",
              "190                        John Sheppard, Rodney McKay   \n",
              "191                       Radek Zelenka, Teyla Emmagan   \n",
              "192                      Daria Morgendorfer, Jane Lane   \n",
              "194                      Lance Bass, Chris Kirkpatrick   \n",
              "196                        John Sheppard, Rodney McKay   \n",
              "\n",
              "                                       additional tags language  ...   words  \\\n",
              "0    First Time, Praise Kink, Smut, Romance, Reader...  English  ...   10191   \n",
              "1    Heavy Angst, Human Trafficking, Emotional Hurt...  English  ...   51697   \n",
              "2    Amber Derwin and Kayta are mentioned but not p...  English  ...    7439   \n",
              "4    Alpha/Beta/Omega Dynamics, Omegaverse, Pack Dy...  English  ...   37314   \n",
              "7    Rule 63, Time Travel Fix-It, Master of Death H...  English  ...  112327   \n",
              "..                                                 ...      ...  ...     ...   \n",
              "190                      Remix, remixredux08, 5 Things  English  ...    1382   \n",
              "191                                Remix, remixredux08  English  ...    2624   \n",
              "192                                         First Time  English  ...    3683   \n",
              "194                                Popslash - Freeform  English  ...   11489   \n",
              "196  Earth destroyed, SGA Big Bang 2008, Suicide, S...  English  ...   48260   \n",
              "\n",
              "    chapters comments   kudos bookmarks   hits  \\\n",
              "0       15/?      1.0    13.0       1.0    455   \n",
              "1       17/?     39.0   208.0      42.0   5721   \n",
              "2        5/?     10.0    56.0       4.0    678   \n",
              "4      21/27    625.0   512.0      41.0  18354   \n",
              "7       34/?   1044.0  1722.0     602.0  51838   \n",
              "..       ...      ...     ...       ...    ...   \n",
              "190      1/1      4.0    76.0       3.0   1260   \n",
              "191      1/1      8.0    30.0       4.0    953   \n",
              "192      1/1     19.0   401.0      49.0   5235   \n",
              "194      1/1      NaN    14.0       2.0    412   \n",
              "196      1/1     22.0   286.0     103.0   8367   \n",
              "\n",
              "                                             all_kudos  all_bookmarks  \\\n",
              "0                                   ['APH_Wonderland']             []   \n",
              "1    ['herbalwigeon', 'spekkoekenak', 'NightBek', '...             []   \n",
              "2    ['goblingorg', 'Dantsem', 'sapphicsoup', 'imlo...             []   \n",
              "4    ['nonotwithoutyou', 'OneAccount', 'loveisme', ...             []   \n",
              "7    ['Babyb34r', 'FreedomFighterKris', 'Zerilla', ...             []   \n",
              "..                                                 ...            ...   \n",
              "190  ['greenfizzpops', 'Brightbear', 'gingerpolyglo...             []   \n",
              "191  ['Outnumbered18', 'Rocketscientists', 'Ravenne...             []   \n",
              "192  ['future1dustries', 'scrawnycalc', 'originalbl...             []   \n",
              "194  ['verilix', 'FrkAemelin', 'mandralyne', 'Rubic...             []   \n",
              "196  ['Zzickle', 'Emilise284', 'Madam_Vu', 'prollpe...             []   \n",
              "\n",
              "                                                  body  \\\n",
              "0    It would be accurate to say that Jay had been ...   \n",
              "1    They'd scream. \\n\\nThey'd cry. \\n\\nBeg to go h...   \n",
              "2    Ok, ok, I need to calm down and make a plan, R...   \n",
              "4    \\n          (See the end of the chapter for  n...   \n",
              "7    Chapter 1\\n\\n \\n\\nThe trial was a farce, and t...   \n",
              "..                                                 ...   \n",
              "190  \\n1. The guy with the bass at Bagram\\n\\n\\nAll ...   \n",
              "191  Mysterious power readings always meant trouble...   \n",
              "192  The first time they went for pizza in Boston, ...   \n",
              "194  \"Are you packed?\"\\n\\n\"No,\" Chris said, letting...   \n",
              "196  Prologue:\\n\\nCharlie Mayer's life began when h...   \n",
              "\n",
              "                                         Body_Parsed_1  \n",
              "0    It would be accurate to say that Jay had been ...  \n",
              "1    They'd scream.   They'd cry.   Beg to go home ...  \n",
              "2    Ok, ok, I need to calm down and make a plan, R...  \n",
              "4         (See the end of the chapter for  notes.) ...  \n",
              "7    Chapter 1  The trial was a farce, and they all...  \n",
              "..                                                 ...  \n",
              "190   1. The guy with the bass at Bagram   All of t...  \n",
              "191  Mysterious power readings always meant trouble...  \n",
              "192  The first time they went for pizza in Boston, ...  \n",
              "194  \"Are you packed?\"  \"No,\" Chris said, letting s...  \n",
              "196  Prologue:  Charlie Mayer's life began when he ...  \n",
              "\n",
              "[158 rows x 23 columns]"
            ],
            "text/html": [
              "\n",
              "  <div id=\"df-cf934954-d0d7-4662-a2c1-0092ab6f48e6\">\n",
              "    <div class=\"colab-df-container\">\n",
              "      <div>\n",
              "<style scoped>\n",
              "    .dataframe tbody tr th:only-of-type {\n",
              "        vertical-align: middle;\n",
              "    }\n",
              "\n",
              "    .dataframe tbody tr th {\n",
              "        vertical-align: top;\n",
              "    }\n",
              "\n",
              "    .dataframe thead th {\n",
              "        text-align: right;\n",
              "    }\n",
              "</style>\n",
              "<table border=\"1\" class=\"dataframe\">\n",
              "  <thead>\n",
              "    <tr style=\"text-align: right;\">\n",
              "      <th></th>\n",
              "      <th>work_id</th>\n",
              "      <th>title</th>\n",
              "      <th>author</th>\n",
              "      <th>rating</th>\n",
              "      <th>category</th>\n",
              "      <th>fandom</th>\n",
              "      <th>relationship</th>\n",
              "      <th>character</th>\n",
              "      <th>additional tags</th>\n",
              "      <th>language</th>\n",
              "      <th>...</th>\n",
              "      <th>words</th>\n",
              "      <th>chapters</th>\n",
              "      <th>comments</th>\n",
              "      <th>kudos</th>\n",
              "      <th>bookmarks</th>\n",
              "      <th>hits</th>\n",
              "      <th>all_kudos</th>\n",
              "      <th>all_bookmarks</th>\n",
              "      <th>body</th>\n",
              "      <th>Body_Parsed_1</th>\n",
              "    </tr>\n",
              "  </thead>\n",
              "  <tbody>\n",
              "    <tr>\n",
              "      <th>0</th>\n",
              "      <td>35867929</td>\n",
              "      <td>The Call of Fate</td>\n",
              "      <td>['EmpressOfTheFlame']</td>\n",
              "      <td>Explicit</td>\n",
              "      <td>F/M, M/M, Multi</td>\n",
              "      <td>HELIOS Rising Heroes (Video Game)</td>\n",
              "      <td>Jay Kidman/Reader, Various/Reader, Dino Albani...</td>\n",
              "      <td>Reader, You, Jay Kidman, Dino Albani, Akira Ot...</td>\n",
              "      <td>First Time, Praise Kink, Smut, Romance, Reader...</td>\n",
              "      <td>English</td>\n",
              "      <td>...</td>\n",
              "      <td>10191</td>\n",
              "      <td>15/?</td>\n",
              "      <td>1.0</td>\n",
              "      <td>13.0</td>\n",
              "      <td>1.0</td>\n",
              "      <td>455</td>\n",
              "      <td>['APH_Wonderland']</td>\n",
              "      <td>[]</td>\n",
              "      <td>It would be accurate to say that Jay had been ...</td>\n",
              "      <td>It would be accurate to say that Jay had been ...</td>\n",
              "    </tr>\n",
              "    <tr>\n",
              "      <th>1</th>\n",
              "      <td>34628254</td>\n",
              "      <td>Sacrifice</td>\n",
              "      <td>['Thewonderfulwiccan']</td>\n",
              "      <td>Explicit</td>\n",
              "      <td>Multi</td>\n",
              "      <td>Young Justice (Cartoon), Young Justice - All M...</td>\n",
              "      <td>Dick Grayson/Wally West</td>\n",
              "      <td>Dick Grayson, Wally West, Barbara Gordon, M'ga...</td>\n",
              "      <td>Heavy Angst, Human Trafficking, Emotional Hurt...</td>\n",
              "      <td>English</td>\n",
              "      <td>...</td>\n",
              "      <td>51697</td>\n",
              "      <td>17/?</td>\n",
              "      <td>39.0</td>\n",
              "      <td>208.0</td>\n",
              "      <td>42.0</td>\n",
              "      <td>5721</td>\n",
              "      <td>['herbalwigeon', 'spekkoekenak', 'NightBek', '...</td>\n",
              "      <td>[]</td>\n",
              "      <td>They'd scream. \\n\\nThey'd cry. \\n\\nBeg to go h...</td>\n",
              "      <td>They'd scream.   They'd cry.   Beg to go home ...</td>\n",
              "    </tr>\n",
              "    <tr>\n",
              "      <th>2</th>\n",
              "      <td>38261965</td>\n",
              "      <td>Sick Leave</td>\n",
              "      <td>['Hemaris_diffinis']</td>\n",
              "      <td>Teen And Up Audiences</td>\n",
              "      <td>Gen</td>\n",
              "      <td>The Owl House (Cartoon)</td>\n",
              "      <td>Eda Clawthorne/Raine Whispers</td>\n",
              "      <td>Raine Whispers, Terra Snapdragon, Eda Clawthorne</td>\n",
              "      <td>Amber Derwin and Kayta are mentioned but not p...</td>\n",
              "      <td>English</td>\n",
              "      <td>...</td>\n",
              "      <td>7439</td>\n",
              "      <td>5/?</td>\n",
              "      <td>10.0</td>\n",
              "      <td>56.0</td>\n",
              "      <td>4.0</td>\n",
              "      <td>678</td>\n",
              "      <td>['goblingorg', 'Dantsem', 'sapphicsoup', 'imlo...</td>\n",
              "      <td>[]</td>\n",
              "      <td>Ok, ok, I need to calm down and make a plan, R...</td>\n",
              "      <td>Ok, ok, I need to calm down and make a plan, R...</td>\n",
              "    </tr>\n",
              "    <tr>\n",
              "      <th>4</th>\n",
              "      <td>38125645</td>\n",
              "      <td>absence, hearts</td>\n",
              "      <td>['Marmeladeskies']</td>\n",
              "      <td>Explicit</td>\n",
              "      <td>M/M</td>\n",
              "      <td>Formula 1 RPF</td>\n",
              "      <td>Lando Norris/Max Verstappen/Daniel Ricciardo/C...</td>\n",
              "      <td>Lando Norris, Michael Italiano, Charles Lecler...</td>\n",
              "      <td>Alpha/Beta/Omega Dynamics, Omegaverse, Pack Dy...</td>\n",
              "      <td>English</td>\n",
              "      <td>...</td>\n",
              "      <td>37314</td>\n",
              "      <td>21/27</td>\n",
              "      <td>625.0</td>\n",
              "      <td>512.0</td>\n",
              "      <td>41.0</td>\n",
              "      <td>18354</td>\n",
              "      <td>['nonotwithoutyou', 'OneAccount', 'loveisme', ...</td>\n",
              "      <td>[]</td>\n",
              "      <td>\\n          (See the end of the chapter for  n...</td>\n",
              "      <td>(See the end of the chapter for  notes.) ...</td>\n",
              "    </tr>\n",
              "    <tr>\n",
              "      <th>7</th>\n",
              "      <td>36500893</td>\n",
              "      <td>God of Mischief, Master of Death</td>\n",
              "      <td>['CrazyArtChic']</td>\n",
              "      <td>Teen And Up Audiences</td>\n",
              "      <td>Gen</td>\n",
              "      <td>Harry Potter - J. K. Rowling, The Avengers (Ma...</td>\n",
              "      <td>NaN</td>\n",
              "      <td>Female Harry Potter - Character, Hermione Gran...</td>\n",
              "      <td>Rule 63, Time Travel Fix-It, Master of Death H...</td>\n",
              "      <td>English</td>\n",
              "      <td>...</td>\n",
              "      <td>112327</td>\n",
              "      <td>34/?</td>\n",
              "      <td>1044.0</td>\n",
              "      <td>1722.0</td>\n",
              "      <td>602.0</td>\n",
              "      <td>51838</td>\n",
              "      <td>['Babyb34r', 'FreedomFighterKris', 'Zerilla', ...</td>\n",
              "      <td>[]</td>\n",
              "      <td>Chapter 1\\n\\n \\n\\nThe trial was a farce, and t...</td>\n",
              "      <td>Chapter 1  The trial was a farce, and they all...</td>\n",
              "    </tr>\n",
              "    <tr>\n",
              "      <th>...</th>\n",
              "      <td>...</td>\n",
              "      <td>...</td>\n",
              "      <td>...</td>\n",
              "      <td>...</td>\n",
              "      <td>...</td>\n",
              "      <td>...</td>\n",
              "      <td>...</td>\n",
              "      <td>...</td>\n",
              "      <td>...</td>\n",
              "      <td>...</td>\n",
              "      <td>...</td>\n",
              "      <td>...</td>\n",
              "      <td>...</td>\n",
              "      <td>...</td>\n",
              "      <td>...</td>\n",
              "      <td>...</td>\n",
              "      <td>...</td>\n",
              "      <td>...</td>\n",
              "      <td>...</td>\n",
              "      <td>...</td>\n",
              "      <td>...</td>\n",
              "    </tr>\n",
              "    <tr>\n",
              "      <th>190</th>\n",
              "      <td>236</td>\n",
              "      <td>Five People John Sheppard Didn't Expect to Mis...</td>\n",
              "      <td>['Kass']</td>\n",
              "      <td>Mature</td>\n",
              "      <td>M/M</td>\n",
              "      <td>Stargate Atlantis</td>\n",
              "      <td>John Sheppard/Rodney McKay</td>\n",
              "      <td>John Sheppard, Rodney McKay</td>\n",
              "      <td>Remix, remixredux08, 5 Things</td>\n",
              "      <td>English</td>\n",
              "      <td>...</td>\n",
              "      <td>1382</td>\n",
              "      <td>1/1</td>\n",
              "      <td>4.0</td>\n",
              "      <td>76.0</td>\n",
              "      <td>3.0</td>\n",
              "      <td>1260</td>\n",
              "      <td>['greenfizzpops', 'Brightbear', 'gingerpolyglo...</td>\n",
              "      <td>[]</td>\n",
              "      <td>\\n1. The guy with the bass at Bagram\\n\\n\\nAll ...</td>\n",
              "      <td>1. The guy with the bass at Bagram   All of t...</td>\n",
              "    </tr>\n",
              "    <tr>\n",
              "      <th>191</th>\n",
              "      <td>237</td>\n",
              "      <td>More of the Stars and Sea (The Three Meals Remix)</td>\n",
              "      <td>['Kass']</td>\n",
              "      <td>General Audiences</td>\n",
              "      <td>F/M</td>\n",
              "      <td>Stargate Atlantis</td>\n",
              "      <td>Radek/Teyla</td>\n",
              "      <td>Radek Zelenka, Teyla Emmagan</td>\n",
              "      <td>Remix, remixredux08</td>\n",
              "      <td>English</td>\n",
              "      <td>...</td>\n",
              "      <td>2624</td>\n",
              "      <td>1/1</td>\n",
              "      <td>8.0</td>\n",
              "      <td>30.0</td>\n",
              "      <td>4.0</td>\n",
              "      <td>953</td>\n",
              "      <td>['Outnumbered18', 'Rocketscientists', 'Ravenne...</td>\n",
              "      <td>[]</td>\n",
              "      <td>Mysterious power readings always meant trouble...</td>\n",
              "      <td>Mysterious power readings always meant trouble...</td>\n",
              "    </tr>\n",
              "    <tr>\n",
              "      <th>192</th>\n",
              "      <td>238</td>\n",
              "      <td>A Slice of College</td>\n",
              "      <td>['Kass']</td>\n",
              "      <td>Mature</td>\n",
              "      <td>F/F</td>\n",
              "      <td>Daria - Fandom</td>\n",
              "      <td>Daria/Jane</td>\n",
              "      <td>Daria Morgendorfer, Jane Lane</td>\n",
              "      <td>First Time</td>\n",
              "      <td>English</td>\n",
              "      <td>...</td>\n",
              "      <td>3683</td>\n",
              "      <td>1/1</td>\n",
              "      <td>19.0</td>\n",
              "      <td>401.0</td>\n",
              "      <td>49.0</td>\n",
              "      <td>5235</td>\n",
              "      <td>['future1dustries', 'scrawnycalc', 'originalbl...</td>\n",
              "      <td>[]</td>\n",
              "      <td>The first time they went for pizza in Boston, ...</td>\n",
              "      <td>The first time they went for pizza in Boston, ...</td>\n",
              "    </tr>\n",
              "    <tr>\n",
              "      <th>194</th>\n",
              "      <td>241</td>\n",
              "      <td>Runaways</td>\n",
              "      <td>['Mollyamory (Molly)']</td>\n",
              "      <td>Mature</td>\n",
              "      <td>M/M</td>\n",
              "      <td>NSYNC</td>\n",
              "      <td>Lance Bass/Chris Kirkpatrick</td>\n",
              "      <td>Lance Bass, Chris Kirkpatrick</td>\n",
              "      <td>Popslash - Freeform</td>\n",
              "      <td>English</td>\n",
              "      <td>...</td>\n",
              "      <td>11489</td>\n",
              "      <td>1/1</td>\n",
              "      <td>NaN</td>\n",
              "      <td>14.0</td>\n",
              "      <td>2.0</td>\n",
              "      <td>412</td>\n",
              "      <td>['verilix', 'FrkAemelin', 'mandralyne', 'Rubic...</td>\n",
              "      <td>[]</td>\n",
              "      <td>\"Are you packed?\"\\n\\n\"No,\" Chris said, letting...</td>\n",
              "      <td>\"Are you packed?\"  \"No,\" Chris said, letting s...</td>\n",
              "    </tr>\n",
              "    <tr>\n",
              "      <th>196</th>\n",
              "      <td>243</td>\n",
              "      <td>Life After</td>\n",
              "      <td>['velocitygrass']</td>\n",
              "      <td>Explicit</td>\n",
              "      <td>M/M</td>\n",
              "      <td>Stargate Atlantis</td>\n",
              "      <td>John Sheppard/Rodney McKay</td>\n",
              "      <td>John Sheppard, Rodney McKay</td>\n",
              "      <td>Earth destroyed, SGA Big Bang 2008, Suicide, S...</td>\n",
              "      <td>English</td>\n",
              "      <td>...</td>\n",
              "      <td>48260</td>\n",
              "      <td>1/1</td>\n",
              "      <td>22.0</td>\n",
              "      <td>286.0</td>\n",
              "      <td>103.0</td>\n",
              "      <td>8367</td>\n",
              "      <td>['Zzickle', 'Emilise284', 'Madam_Vu', 'prollpe...</td>\n",
              "      <td>[]</td>\n",
              "      <td>Prologue:\\n\\nCharlie Mayer's life began when h...</td>\n",
              "      <td>Prologue:  Charlie Mayer's life began when he ...</td>\n",
              "    </tr>\n",
              "  </tbody>\n",
              "</table>\n",
              "<p>158 rows × 23 columns</p>\n",
              "</div>\n",
              "      <button class=\"colab-df-convert\" onclick=\"convertToInteractive('df-cf934954-d0d7-4662-a2c1-0092ab6f48e6')\"\n",
              "              title=\"Convert this dataframe to an interactive table.\"\n",
              "              style=\"display:none;\">\n",
              "        \n",
              "  <svg xmlns=\"http://www.w3.org/2000/svg\" height=\"24px\"viewBox=\"0 0 24 24\"\n",
              "       width=\"24px\">\n",
              "    <path d=\"M0 0h24v24H0V0z\" fill=\"none\"/>\n",
              "    <path d=\"M18.56 5.44l.94 2.06.94-2.06 2.06-.94-2.06-.94-.94-2.06-.94 2.06-2.06.94zm-11 1L8.5 8.5l.94-2.06 2.06-.94-2.06-.94L8.5 2.5l-.94 2.06-2.06.94zm10 10l.94 2.06.94-2.06 2.06-.94-2.06-.94-.94-2.06-.94 2.06-2.06.94z\"/><path d=\"M17.41 7.96l-1.37-1.37c-.4-.4-.92-.59-1.43-.59-.52 0-1.04.2-1.43.59L10.3 9.45l-7.72 7.72c-.78.78-.78 2.05 0 2.83L4 21.41c.39.39.9.59 1.41.59.51 0 1.02-.2 1.41-.59l7.78-7.78 2.81-2.81c.8-.78.8-2.07 0-2.86zM5.41 20L4 18.59l7.72-7.72 1.47 1.35L5.41 20z\"/>\n",
              "  </svg>\n",
              "      </button>\n",
              "      \n",
              "  <style>\n",
              "    .colab-df-container {\n",
              "      display:flex;\n",
              "      flex-wrap:wrap;\n",
              "      gap: 12px;\n",
              "    }\n",
              "\n",
              "    .colab-df-convert {\n",
              "      background-color: #E8F0FE;\n",
              "      border: none;\n",
              "      border-radius: 50%;\n",
              "      cursor: pointer;\n",
              "      display: none;\n",
              "      fill: #1967D2;\n",
              "      height: 32px;\n",
              "      padding: 0 0 0 0;\n",
              "      width: 32px;\n",
              "    }\n",
              "\n",
              "    .colab-df-convert:hover {\n",
              "      background-color: #E2EBFA;\n",
              "      box-shadow: 0px 1px 2px rgba(60, 64, 67, 0.3), 0px 1px 3px 1px rgba(60, 64, 67, 0.15);\n",
              "      fill: #174EA6;\n",
              "    }\n",
              "\n",
              "    [theme=dark] .colab-df-convert {\n",
              "      background-color: #3B4455;\n",
              "      fill: #D2E3FC;\n",
              "    }\n",
              "\n",
              "    [theme=dark] .colab-df-convert:hover {\n",
              "      background-color: #434B5C;\n",
              "      box-shadow: 0px 1px 3px 1px rgba(0, 0, 0, 0.15);\n",
              "      filter: drop-shadow(0px 1px 2px rgba(0, 0, 0, 0.3));\n",
              "      fill: #FFFFFF;\n",
              "    }\n",
              "  </style>\n",
              "\n",
              "      <script>\n",
              "        const buttonEl =\n",
              "          document.querySelector('#df-cf934954-d0d7-4662-a2c1-0092ab6f48e6 button.colab-df-convert');\n",
              "        buttonEl.style.display =\n",
              "          google.colab.kernel.accessAllowed ? 'block' : 'none';\n",
              "\n",
              "        async function convertToInteractive(key) {\n",
              "          const element = document.querySelector('#df-cf934954-d0d7-4662-a2c1-0092ab6f48e6');\n",
              "          const dataTable =\n",
              "            await google.colab.kernel.invokeFunction('convertToInteractive',\n",
              "                                                     [key], {});\n",
              "          if (!dataTable) return;\n",
              "\n",
              "          const docLinkHtml = 'Like what you see? Visit the ' +\n",
              "            '<a target=\"_blank\" href=https://colab.research.google.com/notebooks/data_table.ipynb>data table notebook</a>'\n",
              "            + ' to learn more about interactive tables.';\n",
              "          element.innerHTML = '';\n",
              "          dataTable['output_type'] = 'display_data';\n",
              "          await google.colab.output.renderOutput(dataTable, element);\n",
              "          const docLink = document.createElement('div');\n",
              "          docLink.innerHTML = docLinkHtml;\n",
              "          element.appendChild(docLink);\n",
              "        }\n",
              "      </script>\n",
              "    </div>\n",
              "  </div>\n",
              "  "
            ]
          },
          "metadata": {},
          "execution_count": 94
        }
      ]
    },
    {
      "cell_type": "code",
      "source": [
        "test = df_tidy_reread"
      ],
      "metadata": {
        "id": "Q-JQUolIElRz"
      },
      "execution_count": null,
      "outputs": []
    },
    {
      "cell_type": "code",
      "source": [
        "#Distribution of classes\n",
        "test['rating'].value_counts().plot(kind = 'bar')"
      ],
      "metadata": {
        "colab": {
          "base_uri": "https://localhost:8080/",
          "height": 390
        },
        "id": "rNrBNQZ3DI3i",
        "outputId": "2ac243b5-81dc-4442-ec98-7d23dd222171"
      },
      "execution_count": null,
      "outputs": [
        {
          "output_type": "execute_result",
          "data": {
            "text/plain": [
              "<matplotlib.axes._subplots.AxesSubplot at 0x7fb3cedfadd0>"
            ]
          },
          "metadata": {},
          "execution_count": 110
        },
        {
          "output_type": "display_data",
          "data": {
            "text/plain": [
              "<Figure size 432x288 with 1 Axes>"
            ],
            "image/png": "[encoded data removed]"
          },
          "metadata": {
            "needs_background": "light"
          }
        }
      ]
    },
    {
      "cell_type": "code",
      "source": [
        "df2=pd.read_csv('/GD/My Drive/Colab Notebooks/Fanfiction/rating.csv')"
      ],
      "metadata": {
        "id": "c2rEsPRtG1dt"
      },
      "execution_count": null,
      "outputs": []
    },
    {
      "cell_type": "code",
      "source": [
        "# \\r and \\n\n",
        "df2['Body_Parsed_1'] = df2['body'].str.replace(\"\\r\", \" \")\n",
        "df2['Body_Parsed_1'] = df2['Body_Parsed_1'].str.replace(\"\\n\", \" \")\n",
        "df2['Body_Parsed_1'] = df2['Body_Parsed_1'].str.replace(\"    \", \" \")\n",
        "df2['Body_Parsed_1'] = df2['Body_Parsed_1'].str.replace(\"\\t\", \" \")"
      ],
      "metadata": {
        "id": "f-nLr4yWKcjC"
      },
      "execution_count": null,
      "outputs": []
    },
    {
      "cell_type": "code",
      "source": [
        "train = df2"
      ],
      "metadata": {
        "id": "PJHcZnPEdc2V"
      },
      "execution_count": null,
      "outputs": []
    },
    {
      "cell_type": "code",
      "source": [
        "\n"
      ],
      "metadata": {
        "id": "J01tTBZxJnk6"
      },
      "execution_count": null,
      "outputs": []
    },
    {
      "cell_type": "code",
      "source": [
        "\n",
        "# test = df3 I'll make a test set later"
      ],
      "metadata": {
        "id": "UuWGm7jjG4b9"
      },
      "execution_count": null,
      "outputs": []
    },
    {
      "cell_type": "code",
      "source": [
        "#Training set sample\n",
        "train.head(5)"
      ],
      "metadata": {
        "colab": {
          "base_uri": "https://localhost:8080/",
          "height": 629
        },
        "id": "QNnfhzbAHsQo",
        "outputId": "dc7ee03f-4b3f-4a73-b468-d9f3038f1bde"
      },
      "execution_count": null,
      "outputs": [
        {
          "output_type": "execute_result",
          "data": {
            "text/plain": [
              "    work_id                                              title  \\\n",
              "0  36043723                         Let's Talk About Dinosaurs   \n",
              "1  37775314                                        Resurrected   \n",
              "2  35885656  Silent Night ~ Christmas Eve with Severus Snap...   \n",
              "3  38222218                                         Flower Day   \n",
              "4  38222215                                          Proximity   \n",
              "\n",
              "                 author             rating category  \\\n",
              "0        ['hihellotya']             Mature      M/M   \n",
              "1  ['BlueClanMarkings']           Explicit      F/M   \n",
              "2        ['Prince_Sev']             Mature      F/M   \n",
              "3   ['ceeloveswriting']  General Audiences      F/M   \n",
              "4              ['Pire']  General Audiences      F/M   \n",
              "\n",
              "                                              fandom  \\\n",
              "0  aekhephuue`nkhrabephuue`n | Bad Buddy: the Ser...   \n",
              "1                                Mass Effect Trilogy   \n",
              "2                       Harry Potter - J. K. Rowling   \n",
              "3  Zhou Shu Hui Zhan  | Jujutsu Kaisen (Manga), Z...   \n",
              "4  Pu nohiroakademia | Boku no Hero Academia | My...   \n",
              "\n",
              "                                        relationship  \\\n",
              "0  Ohm Pawat Chittsawangdee/Nanon Korapat Kirdpan...   \n",
              "1                     Female Shepard/Garrus Vakarian   \n",
              "2  Severus Snape/Reader, Severus Snape/You, Sever...   \n",
              "3  Fushiguro Megumi/Original Female Character(s),...   \n",
              "4  Amajiki Tamaki/Hadou Nejire, Amajiki Tamaki & ...   \n",
              "\n",
              "                                           character  \\\n",
              "0  Ohm Pawat Chittsawangdee, Nanon Korapat Kirdpa...   \n",
              "1  Garrus Vakarian, Tali'Zorah nar Rayya, Miranda...   \n",
              "2                                      Severus Snape   \n",
              "3                                   Fushiguro Megumi   \n",
              "4                       Hadou Nejire, Amajiki Tamaki   \n",
              "\n",
              "                                     additional tags language  ...   words  \\\n",
              "0  doctor and archaeologists, Romance, I'm Bad At...  English  ...   22412   \n",
              "1  Infiltrator (Mass Effect), Normandy-SR2, Mass ...  English  ...  127885   \n",
              "2  Christmas, Christmas Fluff, Holidays, One Shot...  English  ...   13306   \n",
              "3  Alternate Universe, Reincarnation, Soulmates, ...  English  ...    1231   \n",
              "4  Tamajire, Tamaneji, Nejitama - Freeform, Slow ...  English  ...    1125   \n",
              "\n",
              "  chapters comments  kudos bookmarks  hits  \\\n",
              "0     10/?     25.0   74.0       7.0  1931   \n",
              "1     15/?     19.0   42.0       4.0   951   \n",
              "2      8/?     32.0   58.0      10.0  1031   \n",
              "3      1/1      NaN    NaN       NaN     0   \n",
              "4      1/1      NaN    NaN       NaN     0   \n",
              "\n",
              "                                           all_kudos  all_bookmarks  \\\n",
              "0  ['Purple_passiflora', 'tazparrow', 'coffeecup7...             []   \n",
              "1  ['Consumeroffanfics', 'lgiu', 'marantonia', 'D...             []   \n",
              "2  ['sunsilverstar18', 'melyllvlol', 'Loyallonewo...             []   \n",
              "3                                                 []             []   \n",
              "4                                                 []             []   \n",
              "\n",
              "                                                body  \\\n",
              "0  Notes:\\n\\n \\n\\nNyasasaurus Pirringtoni is beli...   \n",
              "1  I opened my eyes and stared at a white ceiling...   \n",
              "2   \\n\\n\\nChristmas. Your favourite time of year....   \n",
              "3  It comes in a split second where their eyes me...   \n",
              "4  He stopped suddenly as he passed the living ro...   \n",
              "\n",
              "                                       Body_Parsed_1  \n",
              "0  Notes:  Nyasasaurus Pirringtoni is believed to...  \n",
              "1  I opened my eyes and stared at a white ceiling...  \n",
              "2   Christmas. Your favourite time of year. The s...  \n",
              "3  It comes in a split second where their eyes me...  \n",
              "4  He stopped suddenly as he passed the living ro...  \n",
              "\n",
              "[5 rows x 23 columns]"
            ],
            "text/html": [
              "\n",
              "  <div id=\"df-5b3fd8db-18cb-44c8-9719-ed194d0c7bc6\">\n",
              "    <div class=\"colab-df-container\">\n",
              "      <div>\n",
              "<style scoped>\n",
              "    .dataframe tbody tr th:only-of-type {\n",
              "        vertical-align: middle;\n",
              "    }\n",
              "\n",
              "    .dataframe tbody tr th {\n",
              "        vertical-align: top;\n",
              "    }\n",
              "\n",
              "    .dataframe thead th {\n",
              "        text-align: right;\n",
              "    }\n",
              "</style>\n",
              "<table border=\"1\" class=\"dataframe\">\n",
              "  <thead>\n",
              "    <tr style=\"text-align: right;\">\n",
              "      <th></th>\n",
              "      <th>work_id</th>\n",
              "      <th>title</th>\n",
              "      <th>author</th>\n",
              "      <th>rating</th>\n",
              "      <th>category</th>\n",
              "      <th>fandom</th>\n",
              "      <th>relationship</th>\n",
              "      <th>character</th>\n",
              "      <th>additional tags</th>\n",
              "      <th>language</th>\n",
              "      <th>...</th>\n",
              "      <th>words</th>\n",
              "      <th>chapters</th>\n",
              "      <th>comments</th>\n",
              "      <th>kudos</th>\n",
              "      <th>bookmarks</th>\n",
              "      <th>hits</th>\n",
              "      <th>all_kudos</th>\n",
              "      <th>all_bookmarks</th>\n",
              "      <th>body</th>\n",
              "      <th>Body_Parsed_1</th>\n",
              "    </tr>\n",
              "  </thead>\n",
              "  <tbody>\n",
              "    <tr>\n",
              "      <th>0</th>\n",
              "      <td>36043723</td>\n",
              "      <td>Let's Talk About Dinosaurs</td>\n",
              "      <td>['hihellotya']</td>\n",
              "      <td>Mature</td>\n",
              "      <td>M/M</td>\n",
              "      <td>aekhephuue`nkhrabephuue`n | Bad Buddy: the Ser...</td>\n",
              "      <td>Ohm Pawat Chittsawangdee/Nanon Korapat Kirdpan...</td>\n",
              "      <td>Ohm Pawat Chittsawangdee, Nanon Korapat Kirdpa...</td>\n",
              "      <td>doctor and archaeologists, Romance, I'm Bad At...</td>\n",
              "      <td>English</td>\n",
              "      <td>...</td>\n",
              "      <td>22412</td>\n",
              "      <td>10/?</td>\n",
              "      <td>25.0</td>\n",
              "      <td>74.0</td>\n",
              "      <td>7.0</td>\n",
              "      <td>1931</td>\n",
              "      <td>['Purple_passiflora', 'tazparrow', 'coffeecup7...</td>\n",
              "      <td>[]</td>\n",
              "      <td>Notes:\\n\\n \\n\\nNyasasaurus Pirringtoni is beli...</td>\n",
              "      <td>Notes:  Nyasasaurus Pirringtoni is believed to...</td>\n",
              "    </tr>\n",
              "    <tr>\n",
              "      <th>1</th>\n",
              "      <td>37775314</td>\n",
              "      <td>Resurrected</td>\n",
              "      <td>['BlueClanMarkings']</td>\n",
              "      <td>Explicit</td>\n",
              "      <td>F/M</td>\n",
              "      <td>Mass Effect Trilogy</td>\n",
              "      <td>Female Shepard/Garrus Vakarian</td>\n",
              "      <td>Garrus Vakarian, Tali'Zorah nar Rayya, Miranda...</td>\n",
              "      <td>Infiltrator (Mass Effect), Normandy-SR2, Mass ...</td>\n",
              "      <td>English</td>\n",
              "      <td>...</td>\n",
              "      <td>127885</td>\n",
              "      <td>15/?</td>\n",
              "      <td>19.0</td>\n",
              "      <td>42.0</td>\n",
              "      <td>4.0</td>\n",
              "      <td>951</td>\n",
              "      <td>['Consumeroffanfics', 'lgiu', 'marantonia', 'D...</td>\n",
              "      <td>[]</td>\n",
              "      <td>I opened my eyes and stared at a white ceiling...</td>\n",
              "      <td>I opened my eyes and stared at a white ceiling...</td>\n",
              "    </tr>\n",
              "    <tr>\n",
              "      <th>2</th>\n",
              "      <td>35885656</td>\n",
              "      <td>Silent Night ~ Christmas Eve with Severus Snap...</td>\n",
              "      <td>['Prince_Sev']</td>\n",
              "      <td>Mature</td>\n",
              "      <td>F/M</td>\n",
              "      <td>Harry Potter - J. K. Rowling</td>\n",
              "      <td>Severus Snape/Reader, Severus Snape/You, Sever...</td>\n",
              "      <td>Severus Snape</td>\n",
              "      <td>Christmas, Christmas Fluff, Holidays, One Shot...</td>\n",
              "      <td>English</td>\n",
              "      <td>...</td>\n",
              "      <td>13306</td>\n",
              "      <td>8/?</td>\n",
              "      <td>32.0</td>\n",
              "      <td>58.0</td>\n",
              "      <td>10.0</td>\n",
              "      <td>1031</td>\n",
              "      <td>['sunsilverstar18', 'melyllvlol', 'Loyallonewo...</td>\n",
              "      <td>[]</td>\n",
              "      <td>\\n\\n\\nChristmas. Your favourite time of year....</td>\n",
              "      <td>Christmas. Your favourite time of year. The s...</td>\n",
              "    </tr>\n",
              "    <tr>\n",
              "      <th>3</th>\n",
              "      <td>38222218</td>\n",
              "      <td>Flower Day</td>\n",
              "      <td>['ceeloveswriting']</td>\n",
              "      <td>General Audiences</td>\n",
              "      <td>F/M</td>\n",
              "      <td>Zhou Shu Hui Zhan  | Jujutsu Kaisen (Manga), Z...</td>\n",
              "      <td>Fushiguro Megumi/Original Female Character(s),...</td>\n",
              "      <td>Fushiguro Megumi</td>\n",
              "      <td>Alternate Universe, Reincarnation, Soulmates, ...</td>\n",
              "      <td>English</td>\n",
              "      <td>...</td>\n",
              "      <td>1231</td>\n",
              "      <td>1/1</td>\n",
              "      <td>NaN</td>\n",
              "      <td>NaN</td>\n",
              "      <td>NaN</td>\n",
              "      <td>0</td>\n",
              "      <td>[]</td>\n",
              "      <td>[]</td>\n",
              "      <td>It comes in a split second where their eyes me...</td>\n",
              "      <td>It comes in a split second where their eyes me...</td>\n",
              "    </tr>\n",
              "    <tr>\n",
              "      <th>4</th>\n",
              "      <td>38222215</td>\n",
              "      <td>Proximity</td>\n",
              "      <td>['Pire']</td>\n",
              "      <td>General Audiences</td>\n",
              "      <td>F/M</td>\n",
              "      <td>Pu nohiroakademia | Boku no Hero Academia | My...</td>\n",
              "      <td>Amajiki Tamaki/Hadou Nejire, Amajiki Tamaki &amp; ...</td>\n",
              "      <td>Hadou Nejire, Amajiki Tamaki</td>\n",
              "      <td>Tamajire, Tamaneji, Nejitama - Freeform, Slow ...</td>\n",
              "      <td>English</td>\n",
              "      <td>...</td>\n",
              "      <td>1125</td>\n",
              "      <td>1/1</td>\n",
              "      <td>NaN</td>\n",
              "      <td>NaN</td>\n",
              "      <td>NaN</td>\n",
              "      <td>0</td>\n",
              "      <td>[]</td>\n",
              "      <td>[]</td>\n",
              "      <td>He stopped suddenly as he passed the living ro...</td>\n",
              "      <td>He stopped suddenly as he passed the living ro...</td>\n",
              "    </tr>\n",
              "  </tbody>\n",
              "</table>\n",
              "<p>5 rows × 23 columns</p>\n",
              "</div>\n",
              "      <button class=\"colab-df-convert\" onclick=\"convertToInteractive('df-5b3fd8db-18cb-44c8-9719-ed194d0c7bc6')\"\n",
              "              title=\"Convert this dataframe to an interactive table.\"\n",
              "              style=\"display:none;\">\n",
              "        \n",
              "  <svg xmlns=\"http://www.w3.org/2000/svg\" height=\"24px\"viewBox=\"0 0 24 24\"\n",
              "       width=\"24px\">\n",
              "    <path d=\"M0 0h24v24H0V0z\" fill=\"none\"/>\n",
              "    <path d=\"M18.56 5.44l.94 2.06.94-2.06 2.06-.94-2.06-.94-.94-2.06-.94 2.06-2.06.94zm-11 1L8.5 8.5l.94-2.06 2.06-.94-2.06-.94L8.5 2.5l-.94 2.06-2.06.94zm10 10l.94 2.06.94-2.06 2.06-.94-2.06-.94-.94-2.06-.94 2.06-2.06.94z\"/><path d=\"M17.41 7.96l-1.37-1.37c-.4-.4-.92-.59-1.43-.59-.52 0-1.04.2-1.43.59L10.3 9.45l-7.72 7.72c-.78.78-.78 2.05 0 2.83L4 21.41c.39.39.9.59 1.41.59.51 0 1.02-.2 1.41-.59l7.78-7.78 2.81-2.81c.8-.78.8-2.07 0-2.86zM5.41 20L4 18.59l7.72-7.72 1.47 1.35L5.41 20z\"/>\n",
              "  </svg>\n",
              "      </button>\n",
              "      \n",
              "  <style>\n",
              "    .colab-df-container {\n",
              "      display:flex;\n",
              "      flex-wrap:wrap;\n",
              "      gap: 12px;\n",
              "    }\n",
              "\n",
              "    .colab-df-convert {\n",
              "      background-color: #E8F0FE;\n",
              "      border: none;\n",
              "      border-radius: 50%;\n",
              "      cursor: pointer;\n",
              "      display: none;\n",
              "      fill: #1967D2;\n",
              "      height: 32px;\n",
              "      padding: 0 0 0 0;\n",
              "      width: 32px;\n",
              "    }\n",
              "\n",
              "    .colab-df-convert:hover {\n",
              "      background-color: #E2EBFA;\n",
              "      box-shadow: 0px 1px 2px rgba(60, 64, 67, 0.3), 0px 1px 3px 1px rgba(60, 64, 67, 0.15);\n",
              "      fill: #174EA6;\n",
              "    }\n",
              "\n",
              "    [theme=dark] .colab-df-convert {\n",
              "      background-color: #3B4455;\n",
              "      fill: #D2E3FC;\n",
              "    }\n",
              "\n",
              "    [theme=dark] .colab-df-convert:hover {\n",
              "      background-color: #434B5C;\n",
              "      box-shadow: 0px 1px 3px 1px rgba(0, 0, 0, 0.15);\n",
              "      filter: drop-shadow(0px 1px 2px rgba(0, 0, 0, 0.3));\n",
              "      fill: #FFFFFF;\n",
              "    }\n",
              "  </style>\n",
              "\n",
              "      <script>\n",
              "        const buttonEl =\n",
              "          document.querySelector('#df-5b3fd8db-18cb-44c8-9719-ed194d0c7bc6 button.colab-df-convert');\n",
              "        buttonEl.style.display =\n",
              "          google.colab.kernel.accessAllowed ? 'block' : 'none';\n",
              "\n",
              "        async function convertToInteractive(key) {\n",
              "          const element = document.querySelector('#df-5b3fd8db-18cb-44c8-9719-ed194d0c7bc6');\n",
              "          const dataTable =\n",
              "            await google.colab.kernel.invokeFunction('convertToInteractive',\n",
              "                                                     [key], {});\n",
              "          if (!dataTable) return;\n",
              "\n",
              "          const docLinkHtml = 'Like what you see? Visit the ' +\n",
              "            '<a target=\"_blank\" href=https://colab.research.google.com/notebooks/data_table.ipynb>data table notebook</a>'\n",
              "            + ' to learn more about interactive tables.';\n",
              "          element.innerHTML = '';\n",
              "          dataTable['output_type'] = 'display_data';\n",
              "          await google.colab.output.renderOutput(dataTable, element);\n",
              "          const docLink = document.createElement('div');\n",
              "          docLink.innerHTML = docLinkHtml;\n",
              "          element.appendChild(docLink);\n",
              "        }\n",
              "      </script>\n",
              "    </div>\n",
              "  </div>\n",
              "  "
            ]
          },
          "metadata": {},
          "execution_count": 15
        }
      ]
    },
    {
      "cell_type": "code",
      "source": [
        ""
      ],
      "metadata": {
        "id": "XMVlDOBmHvq4"
      },
      "execution_count": null,
      "outputs": []
    },
    {
      "cell_type": "markdown",
      "source": [
        "I need to clean this up a little before I start doing stuff..."
      ],
      "metadata": {
        "id": "W3yBEYNPIEgT"
      }
    },
    {
      "cell_type": "code",
      "source": [
        "##lets drop also the ... not rated"
      ],
      "metadata": {
        "id": "xbbRwYhPIDu3"
      },
      "execution_count": null,
      "outputs": []
    },
    {
      "cell_type": "code",
      "source": [
        ""
      ],
      "metadata": {
        "id": "IBiovUM1IUML"
      },
      "execution_count": null,
      "outputs": []
    },
    {
      "cell_type": "code",
      "source": [
        ""
      ],
      "metadata": {
        "id": "RHlMZ4x3J1jo"
      },
      "execution_count": null,
      "outputs": []
    },
    {
      "cell_type": "code",
      "source": [
        "rating_codes = {\n",
        "    'General Audiences': 0,\n",
        "    'Teen And Up Audiences': 1,\n",
        "    'Mature': 2,\n",
        "    'Explicit': 3,\n",
        "}"
      ],
      "metadata": {
        "id": "i4n20CG3K3_p"
      },
      "execution_count": null,
      "outputs": []
    },
    {
      "cell_type": "code",
      "source": [
        "list_columns = [\"title\", \"rating\", \"fandom\", \"character\", \"additional tags\", \"body\", \"Body_Parsed_1\"]\n",
        "df2_clean1 = df2[list_columns]"
      ],
      "metadata": {
        "id": "KfumBciXLDqh"
      },
      "execution_count": null,
      "outputs": []
    },
    {
      "cell_type": "code",
      "source": [
        "# Category mapping\n",
        "df2_clean1['Rating_Code'] = df2_clean1['rating']\n",
        "df2_clean1 = df2_clean1.replace({'Rating_Code':rating_codes})\n",
        "df2_clean1"
      ],
      "metadata": {
        "colab": {
          "base_uri": "https://localhost:8080/",
          "height": 1000
        },
        "id": "4FmGOwnmLJug",
        "outputId": "9e6c209e-d987-4f92-c25b-5c583d723432"
      },
      "execution_count": null,
      "outputs": [
        {
          "output_type": "stream",
          "name": "stderr",
          "text": [
            "/usr/local/lib/python3.7/dist-packages/ipykernel_launcher.py:2: SettingWithCopyWarning: \n",
            "A value is trying to be set on a copy of a slice from a DataFrame.\n",
            "Try using .loc[row_indexer,col_indexer] = value instead\n",
            "\n",
            "See the caveats in the documentation: https://pandas.pydata.org/pandas-docs/stable/user_guide/indexing.html#returning-a-view-versus-a-copy\n",
            "  \n"
          ]
        },
        {
          "output_type": "execute_result",
          "data": {
            "text/plain": [
              "                                                 title                 rating  \\\n",
              "0                           Let's Talk About Dinosaurs                 Mature   \n",
              "1                                          Resurrected               Explicit   \n",
              "2    Silent Night ~ Christmas Eve with Severus Snap...                 Mature   \n",
              "3                                           Flower Day      General Audiences   \n",
              "4                                            Proximity      General Audiences   \n",
              "..                                                 ...                    ...   \n",
              "500                                     Days in Violet                 Mature   \n",
              "501                             I can treat you better  Teen And Up Audiences   \n",
              "502                        From Today On, I Start Anew               Explicit   \n",
              "503                               Melodies at Midnight               Explicit   \n",
              "504                            That Night On The Patio      General Audiences   \n",
              "\n",
              "                                                fandom  \\\n",
              "0    aekhephuue`nkhrabephuue`n | Bad Buddy: the Ser...   \n",
              "1                                  Mass Effect Trilogy   \n",
              "2                         Harry Potter - J. K. Rowling   \n",
              "3    Zhou Shu Hui Zhan  | Jujutsu Kaisen (Manga), Z...   \n",
              "4    Pu nohiroakademia | Boku no Hero Academia | My...   \n",
              "..                                                 ...   \n",
              "500  Hawkeye (TV 2021), Marvel Cinematic Universe, ...   \n",
              "501  Sonic the Hedgehog - All Media Types, Sonic th...   \n",
              "502                                    Kyou Kara Maou!   \n",
              "503  Final Fantasy VII Remake (Video Game 2020), Fi...   \n",
              "504                              Once Upon a Time (TV)   \n",
              "\n",
              "                                             character  \\\n",
              "0    Ohm Pawat Chittsawangdee, Nanon Korapat Kirdpa...   \n",
              "1    Garrus Vakarian, Tali'Zorah nar Rayya, Miranda...   \n",
              "2                                        Severus Snape   \n",
              "3                                     Fushiguro Megumi   \n",
              "4                         Hadou Nejire, Amajiki Tamaki   \n",
              "..                                                 ...   \n",
              "500  Yelena Belova, Kate Bishop, Eleanor Bishop (Ma...   \n",
              "501           Scourge the Hedgehog, Zonic the Zone Cop   \n",
              "502  Shibuya Yuuri, Wolfram von Bielefeld, Murata K...   \n",
              "503  Tifa Lockhart, Cloud Strife, Denzel (Compilati...   \n",
              "504  Evil Queen | Regina Mills, Emma Swan, Henry Mi...   \n",
              "\n",
              "                                       additional tags  \\\n",
              "0    doctor and archaeologists, Romance, I'm Bad At...   \n",
              "1    Infiltrator (Mass Effect), Normandy-SR2, Mass ...   \n",
              "2    Christmas, Christmas Fluff, Holidays, One Shot...   \n",
              "3    Alternate Universe, Reincarnation, Soulmates, ...   \n",
              "4    Tamajire, Tamaneji, Nejitama - Freeform, Slow ...   \n",
              "..                                                 ...   \n",
              "500  victorian au, Lesbian Yelena Belova, Kate is f...   \n",
              "501  Tooth-Rotting Fluff, Romantic Fluff, Hurt/Comf...   \n",
              "502  Alternate Universe - Time Travel, Alternate Ca...   \n",
              "503  Angst, Heavy Angst, Past Zerith, canon complia...   \n",
              "504  Summer, Fourth of July, Fireflies, Beaches, Ca...   \n",
              "\n",
              "                                                  body  \\\n",
              "0    Notes:\\n\\n \\n\\nNyasasaurus Pirringtoni is beli...   \n",
              "1    I opened my eyes and stared at a white ceiling...   \n",
              "2     \\n\\n\\nChristmas. Your favourite time of year....   \n",
              "3    It comes in a split second where their eyes me...   \n",
              "4    He stopped suddenly as he passed the living ro...   \n",
              "..                                                 ...   \n",
              "500  \\n          (See the end of the chapter for  n...   \n",
              "501  Zonic walked down the hallway of one of the pr...   \n",
              "502  Tragedy strikes\\n\\n\\nI wake up to the sound of...   \n",
              "503  Hello!\\n\\nThanks for stopping by to read this!...   \n",
              "504  \\n\"I didn't know you were an outdoorsy person....   \n",
              "\n",
              "                                         Body_Parsed_1  Rating_Code  \n",
              "0    Notes:  Nyasasaurus Pirringtoni is believed to...            2  \n",
              "1    I opened my eyes and stared at a white ceiling...            3  \n",
              "2     Christmas. Your favourite time of year. The s...            2  \n",
              "3    It comes in a split second where their eyes me...            0  \n",
              "4    He stopped suddenly as he passed the living ro...            0  \n",
              "..                                                 ...          ...  \n",
              "500       (See the end of the chapter for  notes.) ...            2  \n",
              "501  Zonic walked down the hallway of one of the pr...            1  \n",
              "502  Tragedy strikes   I wake up to the sound of th...            3  \n",
              "503  Hello!  Thanks for stopping by to read this!  ...            3  \n",
              "504   \"I didn't know you were an outdoorsy person.\"...            0  \n",
              "\n",
              "[505 rows x 8 columns]"
            ],
            "text/html": [
              "\n",
              "  <div id=\"df-ad2e220a-ec4f-4c22-ae53-b9a7f5b4decd\">\n",
              "    <div class=\"colab-df-container\">\n",
              "      <div>\n",
              "<style scoped>\n",
              "    .dataframe tbody tr th:only-of-type {\n",
              "        vertical-align: middle;\n",
              "    }\n",
              "\n",
              "    .dataframe tbody tr th {\n",
              "        vertical-align: top;\n",
              "    }\n",
              "\n",
              "    .dataframe thead th {\n",
              "        text-align: right;\n",
              "    }\n",
              "</style>\n",
              "<table border=\"1\" class=\"dataframe\">\n",
              "  <thead>\n",
              "    <tr style=\"text-align: right;\">\n",
              "      <th></th>\n",
              "      <th>title</th>\n",
              "      <th>rating</th>\n",
              "      <th>fandom</th>\n",
              "      <th>character</th>\n",
              "      <th>additional tags</th>\n",
              "      <th>body</th>\n",
              "      <th>Body_Parsed_1</th>\n",
              "      <th>Rating_Code</th>\n",
              "    </tr>\n",
              "  </thead>\n",
              "  <tbody>\n",
              "    <tr>\n",
              "      <th>0</th>\n",
              "      <td>Let's Talk About Dinosaurs</td>\n",
              "      <td>Mature</td>\n",
              "      <td>aekhephuue`nkhrabephuue`n | Bad Buddy: the Ser...</td>\n",
              "      <td>Ohm Pawat Chittsawangdee, Nanon Korapat Kirdpa...</td>\n",
              "      <td>doctor and archaeologists, Romance, I'm Bad At...</td>\n",
              "      <td>Notes:\\n\\n \\n\\nNyasasaurus Pirringtoni is beli...</td>\n",
              "      <td>Notes:  Nyasasaurus Pirringtoni is believed to...</td>\n",
              "      <td>2</td>\n",
              "    </tr>\n",
              "    <tr>\n",
              "      <th>1</th>\n",
              "      <td>Resurrected</td>\n",
              "      <td>Explicit</td>\n",
              "      <td>Mass Effect Trilogy</td>\n",
              "      <td>Garrus Vakarian, Tali'Zorah nar Rayya, Miranda...</td>\n",
              "      <td>Infiltrator (Mass Effect), Normandy-SR2, Mass ...</td>\n",
              "      <td>I opened my eyes and stared at a white ceiling...</td>\n",
              "      <td>I opened my eyes and stared at a white ceiling...</td>\n",
              "      <td>3</td>\n",
              "    </tr>\n",
              "    <tr>\n",
              "      <th>2</th>\n",
              "      <td>Silent Night ~ Christmas Eve with Severus Snap...</td>\n",
              "      <td>Mature</td>\n",
              "      <td>Harry Potter - J. K. Rowling</td>\n",
              "      <td>Severus Snape</td>\n",
              "      <td>Christmas, Christmas Fluff, Holidays, One Shot...</td>\n",
              "      <td>\\n\\n\\nChristmas. Your favourite time of year....</td>\n",
              "      <td>Christmas. Your favourite time of year. The s...</td>\n",
              "      <td>2</td>\n",
              "    </tr>\n",
              "    <tr>\n",
              "      <th>3</th>\n",
              "      <td>Flower Day</td>\n",
              "      <td>General Audiences</td>\n",
              "      <td>Zhou Shu Hui Zhan  | Jujutsu Kaisen (Manga), Z...</td>\n",
              "      <td>Fushiguro Megumi</td>\n",
              "      <td>Alternate Universe, Reincarnation, Soulmates, ...</td>\n",
              "      <td>It comes in a split second where their eyes me...</td>\n",
              "      <td>It comes in a split second where their eyes me...</td>\n",
              "      <td>0</td>\n",
              "    </tr>\n",
              "    <tr>\n",
              "      <th>4</th>\n",
              "      <td>Proximity</td>\n",
              "      <td>General Audiences</td>\n",
              "      <td>Pu nohiroakademia | Boku no Hero Academia | My...</td>\n",
              "      <td>Hadou Nejire, Amajiki Tamaki</td>\n",
              "      <td>Tamajire, Tamaneji, Nejitama - Freeform, Slow ...</td>\n",
              "      <td>He stopped suddenly as he passed the living ro...</td>\n",
              "      <td>He stopped suddenly as he passed the living ro...</td>\n",
              "      <td>0</td>\n",
              "    </tr>\n",
              "    <tr>\n",
              "      <th>...</th>\n",
              "      <td>...</td>\n",
              "      <td>...</td>\n",
              "      <td>...</td>\n",
              "      <td>...</td>\n",
              "      <td>...</td>\n",
              "      <td>...</td>\n",
              "      <td>...</td>\n",
              "      <td>...</td>\n",
              "    </tr>\n",
              "    <tr>\n",
              "      <th>500</th>\n",
              "      <td>Days in Violet</td>\n",
              "      <td>Mature</td>\n",
              "      <td>Hawkeye (TV 2021), Marvel Cinematic Universe, ...</td>\n",
              "      <td>Yelena Belova, Kate Bishop, Eleanor Bishop (Ma...</td>\n",
              "      <td>victorian au, Lesbian Yelena Belova, Kate is f...</td>\n",
              "      <td>\\n          (See the end of the chapter for  n...</td>\n",
              "      <td>(See the end of the chapter for  notes.) ...</td>\n",
              "      <td>2</td>\n",
              "    </tr>\n",
              "    <tr>\n",
              "      <th>501</th>\n",
              "      <td>I can treat you better</td>\n",
              "      <td>Teen And Up Audiences</td>\n",
              "      <td>Sonic the Hedgehog - All Media Types, Sonic th...</td>\n",
              "      <td>Scourge the Hedgehog, Zonic the Zone Cop</td>\n",
              "      <td>Tooth-Rotting Fluff, Romantic Fluff, Hurt/Comf...</td>\n",
              "      <td>Zonic walked down the hallway of one of the pr...</td>\n",
              "      <td>Zonic walked down the hallway of one of the pr...</td>\n",
              "      <td>1</td>\n",
              "    </tr>\n",
              "    <tr>\n",
              "      <th>502</th>\n",
              "      <td>From Today On, I Start Anew</td>\n",
              "      <td>Explicit</td>\n",
              "      <td>Kyou Kara Maou!</td>\n",
              "      <td>Shibuya Yuuri, Wolfram von Bielefeld, Murata K...</td>\n",
              "      <td>Alternate Universe - Time Travel, Alternate Ca...</td>\n",
              "      <td>Tragedy strikes\\n\\n\\nI wake up to the sound of...</td>\n",
              "      <td>Tragedy strikes   I wake up to the sound of th...</td>\n",
              "      <td>3</td>\n",
              "    </tr>\n",
              "    <tr>\n",
              "      <th>503</th>\n",
              "      <td>Melodies at Midnight</td>\n",
              "      <td>Explicit</td>\n",
              "      <td>Final Fantasy VII Remake (Video Game 2020), Fi...</td>\n",
              "      <td>Tifa Lockhart, Cloud Strife, Denzel (Compilati...</td>\n",
              "      <td>Angst, Heavy Angst, Past Zerith, canon complia...</td>\n",
              "      <td>Hello!\\n\\nThanks for stopping by to read this!...</td>\n",
              "      <td>Hello!  Thanks for stopping by to read this!  ...</td>\n",
              "      <td>3</td>\n",
              "    </tr>\n",
              "    <tr>\n",
              "      <th>504</th>\n",
              "      <td>That Night On The Patio</td>\n",
              "      <td>General Audiences</td>\n",
              "      <td>Once Upon a Time (TV)</td>\n",
              "      <td>Evil Queen | Regina Mills, Emma Swan, Henry Mi...</td>\n",
              "      <td>Summer, Fourth of July, Fireflies, Beaches, Ca...</td>\n",
              "      <td>\\n\"I didn't know you were an outdoorsy person....</td>\n",
              "      <td>\"I didn't know you were an outdoorsy person.\"...</td>\n",
              "      <td>0</td>\n",
              "    </tr>\n",
              "  </tbody>\n",
              "</table>\n",
              "<p>505 rows × 8 columns</p>\n",
              "</div>\n",
              "      <button class=\"colab-df-convert\" onclick=\"convertToInteractive('df-ad2e220a-ec4f-4c22-ae53-b9a7f5b4decd')\"\n",
              "              title=\"Convert this dataframe to an interactive table.\"\n",
              "              style=\"display:none;\">\n",
              "        \n",
              "  <svg xmlns=\"http://www.w3.org/2000/svg\" height=\"24px\"viewBox=\"0 0 24 24\"\n",
              "       width=\"24px\">\n",
              "    <path d=\"M0 0h24v24H0V0z\" fill=\"none\"/>\n",
              "    <path d=\"M18.56 5.44l.94 2.06.94-2.06 2.06-.94-2.06-.94-.94-2.06-.94 2.06-2.06.94zm-11 1L8.5 8.5l.94-2.06 2.06-.94-2.06-.94L8.5 2.5l-.94 2.06-2.06.94zm10 10l.94 2.06.94-2.06 2.06-.94-2.06-.94-.94-2.06-.94 2.06-2.06.94z\"/><path d=\"M17.41 7.96l-1.37-1.37c-.4-.4-.92-.59-1.43-.59-.52 0-1.04.2-1.43.59L10.3 9.45l-7.72 7.72c-.78.78-.78 2.05 0 2.83L4 21.41c.39.39.9.59 1.41.59.51 0 1.02-.2 1.41-.59l7.78-7.78 2.81-2.81c.8-.78.8-2.07 0-2.86zM5.41 20L4 18.59l7.72-7.72 1.47 1.35L5.41 20z\"/>\n",
              "  </svg>\n",
              "      </button>\n",
              "      \n",
              "  <style>\n",
              "    .colab-df-container {\n",
              "      display:flex;\n",
              "      flex-wrap:wrap;\n",
              "      gap: 12px;\n",
              "    }\n",
              "\n",
              "    .colab-df-convert {\n",
              "      background-color: #E8F0FE;\n",
              "      border: none;\n",
              "      border-radius: 50%;\n",
              "      cursor: pointer;\n",
              "      display: none;\n",
              "      fill: #1967D2;\n",
              "      height: 32px;\n",
              "      padding: 0 0 0 0;\n",
              "      width: 32px;\n",
              "    }\n",
              "\n",
              "    .colab-df-convert:hover {\n",
              "      background-color: #E2EBFA;\n",
              "      box-shadow: 0px 1px 2px rgba(60, 64, 67, 0.3), 0px 1px 3px 1px rgba(60, 64, 67, 0.15);\n",
              "      fill: #174EA6;\n",
              "    }\n",
              "\n",
              "    [theme=dark] .colab-df-convert {\n",
              "      background-color: #3B4455;\n",
              "      fill: #D2E3FC;\n",
              "    }\n",
              "\n",
              "    [theme=dark] .colab-df-convert:hover {\n",
              "      background-color: #434B5C;\n",
              "      box-shadow: 0px 1px 3px 1px rgba(0, 0, 0, 0.15);\n",
              "      filter: drop-shadow(0px 1px 2px rgba(0, 0, 0, 0.3));\n",
              "      fill: #FFFFFF;\n",
              "    }\n",
              "  </style>\n",
              "\n",
              "      <script>\n",
              "        const buttonEl =\n",
              "          document.querySelector('#df-ad2e220a-ec4f-4c22-ae53-b9a7f5b4decd button.colab-df-convert');\n",
              "        buttonEl.style.display =\n",
              "          google.colab.kernel.accessAllowed ? 'block' : 'none';\n",
              "\n",
              "        async function convertToInteractive(key) {\n",
              "          const element = document.querySelector('#df-ad2e220a-ec4f-4c22-ae53-b9a7f5b4decd');\n",
              "          const dataTable =\n",
              "            await google.colab.kernel.invokeFunction('convertToInteractive',\n",
              "                                                     [key], {});\n",
              "          if (!dataTable) return;\n",
              "\n",
              "          const docLinkHtml = 'Like what you see? Visit the ' +\n",
              "            '<a target=\"_blank\" href=https://colab.research.google.com/notebooks/data_table.ipynb>data table notebook</a>'\n",
              "            + ' to learn more about interactive tables.';\n",
              "          element.innerHTML = '';\n",
              "          dataTable['output_type'] = 'display_data';\n",
              "          await google.colab.output.renderOutput(dataTable, element);\n",
              "          const docLink = document.createElement('div');\n",
              "          docLink.innerHTML = docLinkHtml;\n",
              "          element.appendChild(docLink);\n",
              "        }\n",
              "      </script>\n",
              "    </div>\n",
              "  </div>\n",
              "  "
            ]
          },
          "metadata": {},
          "execution_count": 19
        }
      ]
    },
    {
      "cell_type": "code",
      "source": [
        "train = df2_clean1\n",
        "train"
      ],
      "metadata": {
        "colab": {
          "base_uri": "https://localhost:8080/",
          "height": 988
        },
        "id": "h84lCDCSLXEw",
        "outputId": "1267ab72-74bc-4153-ca50-f0fd01d12b92"
      },
      "execution_count": null,
      "outputs": [
        {
          "output_type": "execute_result",
          "data": {
            "text/plain": [
              "                                                 title                 rating  \\\n",
              "0                           Let's Talk About Dinosaurs                 Mature   \n",
              "1                                          Resurrected               Explicit   \n",
              "2    Silent Night ~ Christmas Eve with Severus Snap...                 Mature   \n",
              "3                                           Flower Day      General Audiences   \n",
              "4                                            Proximity      General Audiences   \n",
              "..                                                 ...                    ...   \n",
              "500                                     Days in Violet                 Mature   \n",
              "501                             I can treat you better  Teen And Up Audiences   \n",
              "502                        From Today On, I Start Anew               Explicit   \n",
              "503                               Melodies at Midnight               Explicit   \n",
              "504                            That Night On The Patio      General Audiences   \n",
              "\n",
              "                                                fandom  \\\n",
              "0    aekhephuue`nkhrabephuue`n | Bad Buddy: the Ser...   \n",
              "1                                  Mass Effect Trilogy   \n",
              "2                         Harry Potter - J. K. Rowling   \n",
              "3    Zhou Shu Hui Zhan  | Jujutsu Kaisen (Manga), Z...   \n",
              "4    Pu nohiroakademia | Boku no Hero Academia | My...   \n",
              "..                                                 ...   \n",
              "500  Hawkeye (TV 2021), Marvel Cinematic Universe, ...   \n",
              "501  Sonic the Hedgehog - All Media Types, Sonic th...   \n",
              "502                                    Kyou Kara Maou!   \n",
              "503  Final Fantasy VII Remake (Video Game 2020), Fi...   \n",
              "504                              Once Upon a Time (TV)   \n",
              "\n",
              "                                             character  \\\n",
              "0    Ohm Pawat Chittsawangdee, Nanon Korapat Kirdpa...   \n",
              "1    Garrus Vakarian, Tali'Zorah nar Rayya, Miranda...   \n",
              "2                                        Severus Snape   \n",
              "3                                     Fushiguro Megumi   \n",
              "4                         Hadou Nejire, Amajiki Tamaki   \n",
              "..                                                 ...   \n",
              "500  Yelena Belova, Kate Bishop, Eleanor Bishop (Ma...   \n",
              "501           Scourge the Hedgehog, Zonic the Zone Cop   \n",
              "502  Shibuya Yuuri, Wolfram von Bielefeld, Murata K...   \n",
              "503  Tifa Lockhart, Cloud Strife, Denzel (Compilati...   \n",
              "504  Evil Queen | Regina Mills, Emma Swan, Henry Mi...   \n",
              "\n",
              "                                       additional tags  \\\n",
              "0    doctor and archaeologists, Romance, I'm Bad At...   \n",
              "1    Infiltrator (Mass Effect), Normandy-SR2, Mass ...   \n",
              "2    Christmas, Christmas Fluff, Holidays, One Shot...   \n",
              "3    Alternate Universe, Reincarnation, Soulmates, ...   \n",
              "4    Tamajire, Tamaneji, Nejitama - Freeform, Slow ...   \n",
              "..                                                 ...   \n",
              "500  victorian au, Lesbian Yelena Belova, Kate is f...   \n",
              "501  Tooth-Rotting Fluff, Romantic Fluff, Hurt/Comf...   \n",
              "502  Alternate Universe - Time Travel, Alternate Ca...   \n",
              "503  Angst, Heavy Angst, Past Zerith, canon complia...   \n",
              "504  Summer, Fourth of July, Fireflies, Beaches, Ca...   \n",
              "\n",
              "                                                  body  \\\n",
              "0    Notes:\\n\\n \\n\\nNyasasaurus Pirringtoni is beli...   \n",
              "1    I opened my eyes and stared at a white ceiling...   \n",
              "2     \\n\\n\\nChristmas. Your favourite time of year....   \n",
              "3    It comes in a split second where their eyes me...   \n",
              "4    He stopped suddenly as he passed the living ro...   \n",
              "..                                                 ...   \n",
              "500  \\n          (See the end of the chapter for  n...   \n",
              "501  Zonic walked down the hallway of one of the pr...   \n",
              "502  Tragedy strikes\\n\\n\\nI wake up to the sound of...   \n",
              "503  Hello!\\n\\nThanks for stopping by to read this!...   \n",
              "504  \\n\"I didn't know you were an outdoorsy person....   \n",
              "\n",
              "                                         Body_Parsed_1  Rating_Code  \n",
              "0    Notes:  Nyasasaurus Pirringtoni is believed to...            2  \n",
              "1    I opened my eyes and stared at a white ceiling...            3  \n",
              "2     Christmas. Your favourite time of year. The s...            2  \n",
              "3    It comes in a split second where their eyes me...            0  \n",
              "4    He stopped suddenly as he passed the living ro...            0  \n",
              "..                                                 ...          ...  \n",
              "500       (See the end of the chapter for  notes.) ...            2  \n",
              "501  Zonic walked down the hallway of one of the pr...            1  \n",
              "502  Tragedy strikes   I wake up to the sound of th...            3  \n",
              "503  Hello!  Thanks for stopping by to read this!  ...            3  \n",
              "504   \"I didn't know you were an outdoorsy person.\"...            0  \n",
              "\n",
              "[505 rows x 8 columns]"
            ],
            "text/html": [
              "\n",
              "  <div id=\"df-70c77bc5-966a-4dad-ba85-1408cf33bf92\">\n",
              "    <div class=\"colab-df-container\">\n",
              "      <div>\n",
              "<style scoped>\n",
              "    .dataframe tbody tr th:only-of-type {\n",
              "        vertical-align: middle;\n",
              "    }\n",
              "\n",
              "    .dataframe tbody tr th {\n",
              "        vertical-align: top;\n",
              "    }\n",
              "\n",
              "    .dataframe thead th {\n",
              "        text-align: right;\n",
              "    }\n",
              "</style>\n",
              "<table border=\"1\" class=\"dataframe\">\n",
              "  <thead>\n",
              "    <tr style=\"text-align: right;\">\n",
              "      <th></th>\n",
              "      <th>title</th>\n",
              "      <th>rating</th>\n",
              "      <th>fandom</th>\n",
              "      <th>character</th>\n",
              "      <th>additional tags</th>\n",
              "      <th>body</th>\n",
              "      <th>Body_Parsed_1</th>\n",
              "      <th>Rating_Code</th>\n",
              "    </tr>\n",
              "  </thead>\n",
              "  <tbody>\n",
              "    <tr>\n",
              "      <th>0</th>\n",
              "      <td>Let's Talk About Dinosaurs</td>\n",
              "      <td>Mature</td>\n",
              "      <td>aekhephuue`nkhrabephuue`n | Bad Buddy: the Ser...</td>\n",
              "      <td>Ohm Pawat Chittsawangdee, Nanon Korapat Kirdpa...</td>\n",
              "      <td>doctor and archaeologists, Romance, I'm Bad At...</td>\n",
              "      <td>Notes:\\n\\n \\n\\nNyasasaurus Pirringtoni is beli...</td>\n",
              "      <td>Notes:  Nyasasaurus Pirringtoni is believed to...</td>\n",
              "      <td>2</td>\n",
              "    </tr>\n",
              "    <tr>\n",
              "      <th>1</th>\n",
              "      <td>Resurrected</td>\n",
              "      <td>Explicit</td>\n",
              "      <td>Mass Effect Trilogy</td>\n",
              "      <td>Garrus Vakarian, Tali'Zorah nar Rayya, Miranda...</td>\n",
              "      <td>Infiltrator (Mass Effect), Normandy-SR2, Mass ...</td>\n",
              "      <td>I opened my eyes and stared at a white ceiling...</td>\n",
              "      <td>I opened my eyes and stared at a white ceiling...</td>\n",
              "      <td>3</td>\n",
              "    </tr>\n",
              "    <tr>\n",
              "      <th>2</th>\n",
              "      <td>Silent Night ~ Christmas Eve with Severus Snap...</td>\n",
              "      <td>Mature</td>\n",
              "      <td>Harry Potter - J. K. Rowling</td>\n",
              "      <td>Severus Snape</td>\n",
              "      <td>Christmas, Christmas Fluff, Holidays, One Shot...</td>\n",
              "      <td>\\n\\n\\nChristmas. Your favourite time of year....</td>\n",
              "      <td>Christmas. Your favourite time of year. The s...</td>\n",
              "      <td>2</td>\n",
              "    </tr>\n",
              "    <tr>\n",
              "      <th>3</th>\n",
              "      <td>Flower Day</td>\n",
              "      <td>General Audiences</td>\n",
              "      <td>Zhou Shu Hui Zhan  | Jujutsu Kaisen (Manga), Z...</td>\n",
              "      <td>Fushiguro Megumi</td>\n",
              "      <td>Alternate Universe, Reincarnation, Soulmates, ...</td>\n",
              "      <td>It comes in a split second where their eyes me...</td>\n",
              "      <td>It comes in a split second where their eyes me...</td>\n",
              "      <td>0</td>\n",
              "    </tr>\n",
              "    <tr>\n",
              "      <th>4</th>\n",
              "      <td>Proximity</td>\n",
              "      <td>General Audiences</td>\n",
              "      <td>Pu nohiroakademia | Boku no Hero Academia | My...</td>\n",
              "      <td>Hadou Nejire, Amajiki Tamaki</td>\n",
              "      <td>Tamajire, Tamaneji, Nejitama - Freeform, Slow ...</td>\n",
              "      <td>He stopped suddenly as he passed the living ro...</td>\n",
              "      <td>He stopped suddenly as he passed the living ro...</td>\n",
              "      <td>0</td>\n",
              "    </tr>\n",
              "    <tr>\n",
              "      <th>...</th>\n",
              "      <td>...</td>\n",
              "      <td>...</td>\n",
              "      <td>...</td>\n",
              "      <td>...</td>\n",
              "      <td>...</td>\n",
              "      <td>...</td>\n",
              "      <td>...</td>\n",
              "      <td>...</td>\n",
              "    </tr>\n",
              "    <tr>\n",
              "      <th>500</th>\n",
              "      <td>Days in Violet</td>\n",
              "      <td>Mature</td>\n",
              "      <td>Hawkeye (TV 2021), Marvel Cinematic Universe, ...</td>\n",
              "      <td>Yelena Belova, Kate Bishop, Eleanor Bishop (Ma...</td>\n",
              "      <td>victorian au, Lesbian Yelena Belova, Kate is f...</td>\n",
              "      <td>\\n          (See the end of the chapter for  n...</td>\n",
              "      <td>(See the end of the chapter for  notes.) ...</td>\n",
              "      <td>2</td>\n",
              "    </tr>\n",
              "    <tr>\n",
              "      <th>501</th>\n",
              "      <td>I can treat you better</td>\n",
              "      <td>Teen And Up Audiences</td>\n",
              "      <td>Sonic the Hedgehog - All Media Types, Sonic th...</td>\n",
              "      <td>Scourge the Hedgehog, Zonic the Zone Cop</td>\n",
              "      <td>Tooth-Rotting Fluff, Romantic Fluff, Hurt/Comf...</td>\n",
              "      <td>Zonic walked down the hallway of one of the pr...</td>\n",
              "      <td>Zonic walked down the hallway of one of the pr...</td>\n",
              "      <td>1</td>\n",
              "    </tr>\n",
              "    <tr>\n",
              "      <th>502</th>\n",
              "      <td>From Today On, I Start Anew</td>\n",
              "      <td>Explicit</td>\n",
              "      <td>Kyou Kara Maou!</td>\n",
              "      <td>Shibuya Yuuri, Wolfram von Bielefeld, Murata K...</td>\n",
              "      <td>Alternate Universe - Time Travel, Alternate Ca...</td>\n",
              "      <td>Tragedy strikes\\n\\n\\nI wake up to the sound of...</td>\n",
              "      <td>Tragedy strikes   I wake up to the sound of th...</td>\n",
              "      <td>3</td>\n",
              "    </tr>\n",
              "    <tr>\n",
              "      <th>503</th>\n",
              "      <td>Melodies at Midnight</td>\n",
              "      <td>Explicit</td>\n",
              "      <td>Final Fantasy VII Remake (Video Game 2020), Fi...</td>\n",
              "      <td>Tifa Lockhart, Cloud Strife, Denzel (Compilati...</td>\n",
              "      <td>Angst, Heavy Angst, Past Zerith, canon complia...</td>\n",
              "      <td>Hello!\\n\\nThanks for stopping by to read this!...</td>\n",
              "      <td>Hello!  Thanks for stopping by to read this!  ...</td>\n",
              "      <td>3</td>\n",
              "    </tr>\n",
              "    <tr>\n",
              "      <th>504</th>\n",
              "      <td>That Night On The Patio</td>\n",
              "      <td>General Audiences</td>\n",
              "      <td>Once Upon a Time (TV)</td>\n",
              "      <td>Evil Queen | Regina Mills, Emma Swan, Henry Mi...</td>\n",
              "      <td>Summer, Fourth of July, Fireflies, Beaches, Ca...</td>\n",
              "      <td>\\n\"I didn't know you were an outdoorsy person....</td>\n",
              "      <td>\"I didn't know you were an outdoorsy person.\"...</td>\n",
              "      <td>0</td>\n",
              "    </tr>\n",
              "  </tbody>\n",
              "</table>\n",
              "<p>505 rows × 8 columns</p>\n",
              "</div>\n",
              "      <button class=\"colab-df-convert\" onclick=\"convertToInteractive('df-70c77bc5-966a-4dad-ba85-1408cf33bf92')\"\n",
              "              title=\"Convert this dataframe to an interactive table.\"\n",
              "              style=\"display:none;\">\n",
              "        \n",
              "  <svg xmlns=\"http://www.w3.org/2000/svg\" height=\"24px\"viewBox=\"0 0 24 24\"\n",
              "       width=\"24px\">\n",
              "    <path d=\"M0 0h24v24H0V0z\" fill=\"none\"/>\n",
              "    <path d=\"M18.56 5.44l.94 2.06.94-2.06 2.06-.94-2.06-.94-.94-2.06-.94 2.06-2.06.94zm-11 1L8.5 8.5l.94-2.06 2.06-.94-2.06-.94L8.5 2.5l-.94 2.06-2.06.94zm10 10l.94 2.06.94-2.06 2.06-.94-2.06-.94-.94-2.06-.94 2.06-2.06.94z\"/><path d=\"M17.41 7.96l-1.37-1.37c-.4-.4-.92-.59-1.43-.59-.52 0-1.04.2-1.43.59L10.3 9.45l-7.72 7.72c-.78.78-.78 2.05 0 2.83L4 21.41c.39.39.9.59 1.41.59.51 0 1.02-.2 1.41-.59l7.78-7.78 2.81-2.81c.8-.78.8-2.07 0-2.86zM5.41 20L4 18.59l7.72-7.72 1.47 1.35L5.41 20z\"/>\n",
              "  </svg>\n",
              "      </button>\n",
              "      \n",
              "  <style>\n",
              "    .colab-df-container {\n",
              "      display:flex;\n",
              "      flex-wrap:wrap;\n",
              "      gap: 12px;\n",
              "    }\n",
              "\n",
              "    .colab-df-convert {\n",
              "      background-color: #E8F0FE;\n",
              "      border: none;\n",
              "      border-radius: 50%;\n",
              "      cursor: pointer;\n",
              "      display: none;\n",
              "      fill: #1967D2;\n",
              "      height: 32px;\n",
              "      padding: 0 0 0 0;\n",
              "      width: 32px;\n",
              "    }\n",
              "\n",
              "    .colab-df-convert:hover {\n",
              "      background-color: #E2EBFA;\n",
              "      box-shadow: 0px 1px 2px rgba(60, 64, 67, 0.3), 0px 1px 3px 1px rgba(60, 64, 67, 0.15);\n",
              "      fill: #174EA6;\n",
              "    }\n",
              "\n",
              "    [theme=dark] .colab-df-convert {\n",
              "      background-color: #3B4455;\n",
              "      fill: #D2E3FC;\n",
              "    }\n",
              "\n",
              "    [theme=dark] .colab-df-convert:hover {\n",
              "      background-color: #434B5C;\n",
              "      box-shadow: 0px 1px 3px 1px rgba(0, 0, 0, 0.15);\n",
              "      filter: drop-shadow(0px 1px 2px rgba(0, 0, 0, 0.3));\n",
              "      fill: #FFFFFF;\n",
              "    }\n",
              "  </style>\n",
              "\n",
              "      <script>\n",
              "        const buttonEl =\n",
              "          document.querySelector('#df-70c77bc5-966a-4dad-ba85-1408cf33bf92 button.colab-df-convert');\n",
              "        buttonEl.style.display =\n",
              "          google.colab.kernel.accessAllowed ? 'block' : 'none';\n",
              "\n",
              "        async function convertToInteractive(key) {\n",
              "          const element = document.querySelector('#df-70c77bc5-966a-4dad-ba85-1408cf33bf92');\n",
              "          const dataTable =\n",
              "            await google.colab.kernel.invokeFunction('convertToInteractive',\n",
              "                                                     [key], {});\n",
              "          if (!dataTable) return;\n",
              "\n",
              "          const docLinkHtml = 'Like what you see? Visit the ' +\n",
              "            '<a target=\"_blank\" href=https://colab.research.google.com/notebooks/data_table.ipynb>data table notebook</a>'\n",
              "            + ' to learn more about interactive tables.';\n",
              "          element.innerHTML = '';\n",
              "          dataTable['output_type'] = 'display_data';\n",
              "          await google.colab.output.renderOutput(dataTable, element);\n",
              "          const docLink = document.createElement('div');\n",
              "          docLink.innerHTML = docLinkHtml;\n",
              "          element.appendChild(docLink);\n",
              "        }\n",
              "      </script>\n",
              "    </div>\n",
              "  </div>\n",
              "  "
            ]
          },
          "metadata": {},
          "execution_count": 20
        }
      ]
    },
    {
      "cell_type": "code",
      "source": [
        "#unique classes\n",
        "train['Rating_Code'].unique()"
      ],
      "metadata": {
        "colab": {
          "base_uri": "https://localhost:8080/"
        },
        "id": "8eI5Kos8LfUc",
        "outputId": "420203d2-e33f-4a5c-99dc-7427909e7ab2"
      },
      "execution_count": null,
      "outputs": [
        {
          "output_type": "execute_result",
          "data": {
            "text/plain": [
              "array([2, 3, 0, 1])"
            ]
          },
          "metadata": {},
          "execution_count": 21
        }
      ]
    },
    {
      "cell_type": "code",
      "source": [
        "#Distribution of classes\n",
        "train['Rating_Code'].value_counts().plot(kind = 'bar')\n",
        "#M T E G"
      ],
      "metadata": {
        "colab": {
          "base_uri": "https://localhost:8080/",
          "height": 279
        },
        "id": "OLZ2I9_iLkFF",
        "outputId": "201525c2-0c8c-4b7f-a0e7-7c5f75a4caab"
      },
      "execution_count": null,
      "outputs": [
        {
          "output_type": "execute_result",
          "data": {
            "text/plain": [
              "<matplotlib.axes._subplots.AxesSubplot at 0x7fb3d90f0250>"
            ]
          },
          "metadata": {},
          "execution_count": 22
        },
        {
          "output_type": "display_data",
          "data": {
            "text/plain": [
              "<Figure size 432x288 with 1 Axes>"
            ],
            "image/png": "[encoded data removed]"
          },
          "metadata": {
            "needs_background": "light"
          }
        }
      ]
    },
    {
      "cell_type": "code",
      "source": [
        "DATA_COLUMN = 'Body_Parsed_1'\n",
        "LABEL_COLUMN = 'Rating_Code'\n",
        "# The list containing all the classes (train['SECTION'].unique())\n",
        "label_list = [0, 1, 2, 3]"
      ],
      "metadata": {
        "id": "R9aBX2AvLwC7"
      },
      "execution_count": null,
      "outputs": []
    },
    {
      "cell_type": "code",
      "source": [
        "from sklearn.model_selection import train_test_split\n",
        "\n",
        "train, val =  train_test_split(train, test_size = 0.2, random_state = 100)"
      ],
      "metadata": {
        "id": "_WnXzfFndzOr"
      },
      "execution_count": null,
      "outputs": []
    },
    {
      "cell_type": "code",
      "source": [
        "print(\"Training Set Shape :\", train.shape)\n",
        "print(\"Validation Set Shape :\", val.shape)\n",
        "print(\"Test Set Shape :\", test.shape)"
      ],
      "metadata": {
        "colab": {
          "base_uri": "https://localhost:8080/"
        },
        "id": "nA4oCGw1C4cf",
        "outputId": "fe80ff90-2442-4001-92e8-2f7831020f76"
      },
      "execution_count": null,
      "outputs": [
        {
          "output_type": "stream",
          "name": "stdout",
          "text": [
            "Training Set Shape : (404, 8)\n",
            "Validation Set Shape : (101, 8)\n",
            "Test Set Shape : (158, 23)\n"
          ]
        }
      ]
    },
    {
      "cell_type": "code",
      "source": [
        "#Features in the dataset\n",
        "train.columns"
      ],
      "metadata": {
        "colab": {
          "base_uri": "https://localhost:8080/"
        },
        "id": "gAMdjOeBC6zZ",
        "outputId": "a36eb1ae-6c9e-4312-b439-03a85ee7fd6e"
      },
      "execution_count": null,
      "outputs": [
        {
          "output_type": "execute_result",
          "data": {
            "text/plain": [
              "Index(['title', 'rating', 'fandom', 'character', 'additional tags', 'body',\n",
              "       'Body_Parsed_1', 'Rating_Code'],\n",
              "      dtype='object')"
            ]
          },
          "metadata": {},
          "execution_count": 26
        }
      ]
    },
    {
      "cell_type": "markdown",
      "source": [
        "Data Preprocessing BERT model accept only a specific type of input and the datasets are usually structured to have have the following four features:\n",
        "\n",
        "guid : A unique id that represents an observation. text_a : The text we need to classify into given categories text_b: It is used when we're training a model to understand the relationship between sentences and it does not apply for classification problems. label: It consists of the labels or classes or categories that a given text belongs to. In our dataset we have text_a and label. The following code block will create objects for each of the above mentioned features for all the records in our dataset using the InputExample class provided in the BERT library."
      ],
      "metadata": {
        "id": "P4jsOH0dL_jY"
      }
    },
    {
      "cell_type": "code",
      "source": [
        "train_InputExamples = train.apply(lambda x: bert.run_classifier.InputExample(guid=None,\n",
        "                                                                   text_a = x[DATA_COLUMN], \n",
        "                                                                   text_b = None, \n",
        "                                                                   label = x[LABEL_COLUMN]), axis = 1)\n",
        "\n",
        "val_InputExamples = val.apply(lambda x: bert.run_classifier.InputExample(guid=None, \n",
        "                                                                   text_a = x[DATA_COLUMN], \n",
        "                                                                   text_b = None, \n",
        "                                                                   label = x[LABEL_COLUMN]), axis = 1)"
      ],
      "metadata": {
        "id": "2EaE0FjOL-Et"
      },
      "execution_count": null,
      "outputs": []
    },
    {
      "cell_type": "code",
      "source": [
        "print(\"Row 0 - guid of training set : \", train_InputExamples.iloc[0].guid)\n",
        "print(\"\\n__________\\nRow 0 - text_a of training set : \", train_InputExamples.iloc[0].text_a)\n",
        "print(\"\\n__________\\nRow 0 - text_b of training set : \", train_InputExamples.iloc[0].text_b)\n",
        "print(\"\\n__________\\nRow 0 - label of training set : \", train_InputExamples.iloc[0].label)"
      ],
      "metadata": {
        "colab": {
          "base_uri": "https://localhost:8080/"
        },
        "id": "gMAae13gboGx",
        "outputId": "ef81b5ec-891f-4f30-debf-9247465558d3"
      },
      "execution_count": null,
      "outputs": [
        {
          "output_type": "stream",
          "name": "stdout",
          "text": [
            "Row 0 - guid of training set :  None\n",
            "\n",
            "__________\n",
            "Row 0 - text_a of training set :  It wasn't supposed to be like this.   When asked why she wanted to fight for Skyrim, it made sense at the time to pick up a blade in the name of her Nordic ancestors. Born of prophecy, and with her mother's Nordic blood pounding in her veins, both sides expected her to choose one in hopes of ending the war sooner.   So she did. She pledged her life and soul to the cause. Because that was the way it had to be.   Because she was naive.  Nothing could have prepared her for the wicked imaginations of blood-thirsty men. All of the books in all the libraries of Nirn couldn't bestow enough knowledge to give her a clue as to what awaited her in the darkest parts of a man's mind.   Because the truth was, Irina had become arrogant. It was inevitable after a year of questing, fighting, and bleeding for the land in a successful endeavor to stop the dragon which threatened to devour the realm.   Her power flourished with every foe's defeat. Each dragon soul absorbed fed her pride, swelling her ego until it was self-confidence that made her decisions for her.   But all of her power and achievements would fall short, abandoning her in the twilight before a group of Imperial soldiers dawned on a Stormcloak camp whilst they slept.   Countless lives were lost that night. Irina's included, she eventually decided after the first round of Imperial punishment was doled.   When the second round finished, she was left with a sense of grim acceptance. An epiphany of knowledge that felt more real than the swollen flesh and broken bones she was made of. A tender truth which was more consequential than the information that slipped from her lips in a naive and desperate attempt to make the pain stop.   It cut deeper than the lashes thrust upon her back. Ached more than the loss of a precious virtue.   There was no give in the world. Not without some measure of taking. No victory could be earned, without an equally identifiable defeat. And there was nothing at all Irina, the last Dragonborn and soldier to Skyrim's cause, could say or do to change the fact that she was slowly dying.   The thick aroma of molding vomit hung in the air. Steel swords clashed in the distance, the sounds of men minding their training vibrated the stone floor which had long ago lost its coldness. The pile of straw she laid on might have been the finest silk on Nirn as her thoughts lost all sense of direction.   \"Shor's Bones...\"   Despite it all, her heart leaped to her throat at the gravelly tone of her superior's voice. A harsh dictation she likened to a victorious symphony of horns and she felt a wetness brewing behind her closed eyes.   \"Dragonborn... Gods above, those devils will pay for this.\"   As close as she was to the brink, his attempt to comfort her didn't go unnoticed. Neither did the warmth she felt surrounding her despite the chilling cold of Sovngarde dancing at the tips of her fingers and toes. A numbness she welcomed to spread wholeheartedly. Finally, her sweet release had come. Finally, her time on Nirn would be over.   \"Irina...\"   If she could find her lips, she would thank him for the blade he was about to shove into her resilient heart to stop its beating. If she could find her eyelids, she would open them one last time. She'd give anything to ascend to Aetherius with something besides the bastardly faces of Imperial officers stamped in her mind.   But she didn't have anything else to give. All that she had before was gone and nothing remained but the hopeful bliss of an ending. The euphoric numb spread quickly, enveloping her mind and dulling whatever else he might have said as she faded away.   There was no pain from his blade. She floated away from that cold, stone floor, wrapped in warmth and lulled into peace.  \n",
            "\n",
            "__________\n",
            "Row 0 - text_b of training set :  None\n",
            "\n",
            "__________\n",
            "Row 0 - label of training set :  3\n"
          ]
        }
      ]
    },
    {
      "cell_type": "markdown",
      "source": [
        "We will now get down to business with the pretrained BERT. In this example we will use the bert_uncased_L-12_H-768_A-12/1 model. To check all available versions click here.\n",
        "\n",
        "We will be using the vocab.txt file in the model to map the words in the dataset to indexes. Also the loaded BERT model is trained on uncased/lowercase data and hence the data we feed to train the model should also be of lowercase."
      ],
      "metadata": {
        "id": "yWPQSKJYbsDO"
      }
    },
    {
      "cell_type": "code",
      "source": [
        "# This is a path to an uncased (all lowercase) version of BERT\n",
        "BERT_MODEL_HUB = \"https://tfhub.dev/google/bert_uncased_L-12_H-768_A-12/1\"\n",
        "\n",
        "def create_tokenizer_from_hub_module():\n",
        "  \"\"\"Get the vocab file and casing info from the Hub module.\"\"\"\n",
        "  with tf.Graph().as_default():\n",
        "    bert_module = hub.Module(BERT_MODEL_HUB)\n",
        "    tokenization_info = bert_module(signature=\"tokenization_info\", as_dict=True)\n",
        "    with tf.Session() as sess:\n",
        "      vocab_file, do_lower_case = sess.run([tokenization_info[\"vocab_file\"],\n",
        "                                            tokenization_info[\"do_lower_case\"]])\n",
        "      \n",
        "  return bert.tokenization.FullTokenizer(\n",
        "      vocab_file=vocab_file, do_lower_case=do_lower_case)\n",
        "\n",
        "tokenizer = create_tokenizer_from_hub_module()"
      ],
      "metadata": {
        "colab": {
          "base_uri": "https://localhost:8080/"
        },
        "id": "46HGAzsTbqhc",
        "outputId": "2c270722-2e42-49b3-d14f-948a4559e306"
      },
      "execution_count": null,
      "outputs": [
        {
          "output_type": "stream",
          "name": "stdout",
          "text": [
            "INFO:tensorflow:Saver not created because there are no variables in the graph to restore\n"
          ]
        },
        {
          "output_type": "stream",
          "name": "stderr",
          "text": [
            "INFO:tensorflow:Saver not created because there are no variables in the graph to restore\n"
          ]
        },
        {
          "output_type": "stream",
          "name": "stdout",
          "text": [
            "WARNING:tensorflow:From /usr/local/lib/python3.7/dist-packages/bert/tokenization.py:125: The name tf.gfile.GFile is deprecated. Please use tf.io.gfile.GFile instead.\n",
            "\n"
          ]
        },
        {
          "output_type": "stream",
          "name": "stderr",
          "text": [
            "WARNING:tensorflow:From /usr/local/lib/python3.7/dist-packages/bert/tokenization.py:125: The name tf.gfile.GFile is deprecated. Please use tf.io.gfile.GFile instead.\n",
            "\n"
          ]
        }
      ]
    },
    {
      "cell_type": "code",
      "source": [
        "#Here is what the tokenised sample of the first training set observation looks like\n",
        "print(tokenizer.tokenize(train_InputExamples.iloc[0].text_a))"
      ],
      "metadata": {
        "colab": {
          "base_uri": "https://localhost:8080/"
        },
        "id": "lNzRyyupbxYV",
        "outputId": "bc3fccad-db7c-4868-f333-768a4278d80b"
      },
      "execution_count": null,
      "outputs": [
        {
          "output_type": "stream",
          "name": "stdout",
          "text": [
            "['it', 'wasn', \"'\", 't', 'supposed', 'to', 'be', 'like', 'this', '.', 'when', 'asked', 'why', 'she', 'wanted', 'to', 'fight', 'for', 'sky', '##rim', ',', 'it', 'made', 'sense', 'at', 'the', 'time', 'to', 'pick', 'up', 'a', 'blade', 'in', 'the', 'name', 'of', 'her', 'nordic', 'ancestors', '.', 'born', 'of', 'prophecy', ',', 'and', 'with', 'her', 'mother', \"'\", 's', 'nordic', 'blood', 'pounding', 'in', 'her', 'veins', ',', 'both', 'sides', 'expected', 'her', 'to', 'choose', 'one', 'in', 'hopes', 'of', 'ending', 'the', 'war', 'sooner', '.', 'so', 'she', 'did', '.', 'she', 'pledged', 'her', 'life', 'and', 'soul', 'to', 'the', 'cause', '.', 'because', 'that', 'was', 'the', 'way', 'it', 'had', 'to', 'be', '.', 'because', 'she', 'was', 'naive', '.', 'nothing', 'could', 'have', 'prepared', 'her', 'for', 'the', 'wicked', 'imagination', '##s', 'of', 'blood', '-', 'thirsty', 'men', '.', 'all', 'of', 'the', 'books', 'in', 'all', 'the', 'libraries', 'of', 'ni', '##rn', 'couldn', \"'\", 't', 'best', '##ow', 'enough', 'knowledge', 'to', 'give', 'her', 'a', 'clue', 'as', 'to', 'what', 'awaited', 'her', 'in', 'the', 'darkest', 'parts', 'of', 'a', 'man', \"'\", 's', 'mind', '.', 'because', 'the', 'truth', 'was', ',', 'irina', 'had', 'become', 'arrogant', '.', 'it', 'was', 'inevitable', 'after', 'a', 'year', 'of', 'quest', '##ing', ',', 'fighting', ',', 'and', 'bleeding', 'for', 'the', 'land', 'in', 'a', 'successful', 'endeavor', 'to', 'stop', 'the', 'dragon', 'which', 'threatened', 'to', 'dev', '##our', 'the', 'realm', '.', 'her', 'power', 'flourished', 'with', 'every', 'foe', \"'\", 's', 'defeat', '.', 'each', 'dragon', 'soul', 'absorbed', 'fed', 'her', 'pride', ',', 'swelling', 'her', 'ego', 'until', 'it', 'was', 'self', '-', 'confidence', 'that', 'made', 'her', 'decisions', 'for', 'her', '.', 'but', 'all', 'of', 'her', 'power', 'and', 'achievements', 'would', 'fall', 'short', ',', 'abandoning', 'her', 'in', 'the', 'twilight', 'before', 'a', 'group', 'of', 'imperial', 'soldiers', 'dawned', 'on', 'a', 'storm', '##cl', '##oa', '##k', 'camp', 'whilst', 'they', 'slept', '.', 'countless', 'lives', 'were', 'lost', 'that', 'night', '.', 'irina', \"'\", 's', 'included', ',', 'she', 'eventually', 'decided', 'after', 'the', 'first', 'round', 'of', 'imperial', 'punishment', 'was', 'do', '##led', '.', 'when', 'the', 'second', 'round', 'finished', ',', 'she', 'was', 'left', 'with', 'a', 'sense', 'of', 'grim', 'acceptance', '.', 'an', 'ep', '##ip', '##han', '##y', 'of', 'knowledge', 'that', 'felt', 'more', 'real', 'than', 'the', 'swollen', 'flesh', 'and', 'broken', 'bones', 'she', 'was', 'made', 'of', '.', 'a', 'tender', 'truth', 'which', 'was', 'more', 'con', '##se', '##quent', '##ial', 'than', 'the', 'information', 'that', 'slipped', 'from', 'her', 'lips', 'in', 'a', 'naive', 'and', 'desperate', 'attempt', 'to', 'make', 'the', 'pain', 'stop', '.', 'it', 'cut', 'deeper', 'than', 'the', 'lashes', 'thrust', 'upon', 'her', 'back', '.', 'ached', 'more', 'than', 'the', 'loss', 'of', 'a', 'precious', 'virtue', '.', 'there', 'was', 'no', 'give', 'in', 'the', 'world', '.', 'not', 'without', 'some', 'measure', 'of', 'taking', '.', 'no', 'victory', 'could', 'be', 'earned', ',', 'without', 'an', 'equally', 'identifiable', 'defeat', '.', 'and', 'there', 'was', 'nothing', 'at', 'all', 'irina', ',', 'the', 'last', 'dragon', '##born', 'and', 'soldier', 'to', 'sky', '##rim', \"'\", 's', 'cause', ',', 'could', 'say', 'or', 'do', 'to', 'change', 'the', 'fact', 'that', 'she', 'was', 'slowly', 'dying', '.', 'the', 'thick', 'aroma', 'of', 'mold', '##ing', 'vomit', 'hung', 'in', 'the', 'air', '.', 'steel', 'swords', 'clashed', 'in', 'the', 'distance', ',', 'the', 'sounds', 'of', 'men', 'mind', '##ing', 'their', 'training', 'vibrated', 'the', 'stone', 'floor', 'which', 'had', 'long', 'ago', 'lost', 'its', 'cold', '##ness', '.', 'the', 'pile', 'of', 'straw', 'she', 'laid', 'on', 'might', 'have', 'been', 'the', 'finest', 'silk', 'on', 'ni', '##rn', 'as', 'her', 'thoughts', 'lost', 'all', 'sense', 'of', 'direction', '.', '\"', 'sho', '##r', \"'\", 's', 'bones', '.', '.', '.', '\"', 'despite', 'it', 'all', ',', 'her', 'heart', 'leaped', 'to', 'her', 'throat', 'at', 'the', 'gravel', '##ly', 'tone', 'of', 'her', 'superior', \"'\", 's', 'voice', '.', 'a', 'harsh', 'di', '##cta', '##tion', 'she', 'likened', 'to', 'a', 'victorious', 'symphony', 'of', 'horns', 'and', 'she', 'felt', 'a', 'wet', '##ness', 'brewing', 'behind', 'her', 'closed', 'eyes', '.', '\"', 'dragon', '##born', '.', '.', '.', 'gods', 'above', ',', 'those', 'devils', 'will', 'pay', 'for', 'this', '.', '\"', 'as', 'close', 'as', 'she', 'was', 'to', 'the', 'brink', ',', 'his', 'attempt', 'to', 'comfort', 'her', 'didn', \"'\", 't', 'go', 'unnoticed', '.', 'neither', 'did', 'the', 'warmth', 'she', 'felt', 'surrounding', 'her', 'despite', 'the', 'chilling', 'cold', 'of', 'so', '##vn', '##gard', '##e', 'dancing', 'at', 'the', 'tips', 'of', 'her', 'fingers', 'and', 'toes', '.', 'a', 'numb', '##ness', 'she', 'welcomed', 'to', 'spread', 'whole', '##hearted', '##ly', '.', 'finally', ',', 'her', 'sweet', 'release', 'had', 'come', '.', 'finally', ',', 'her', 'time', 'on', 'ni', '##rn', 'would', 'be', 'over', '.', '\"', 'irina', '.', '.', '.', '\"', 'if', 'she', 'could', 'find', 'her', 'lips', ',', 'she', 'would', 'thank', 'him', 'for', 'the', 'blade', 'he', 'was', 'about', 'to', 'shove', 'into', 'her', 'res', '##ili', '##ent', 'heart', 'to', 'stop', 'its', 'beating', '.', 'if', 'she', 'could', 'find', 'her', 'eyelids', ',', 'she', 'would', 'open', 'them', 'one', 'last', 'time', '.', 'she', \"'\", 'd', 'give', 'anything', 'to', 'as', '##cend', 'to', 'ae', '##ther', '##ius', 'with', 'something', 'besides', 'the', 'bastard', '##ly', 'faces', 'of', 'imperial', 'officers', 'stamped', 'in', 'her', 'mind', '.', 'but', 'she', 'didn', \"'\", 't', 'have', 'anything', 'else', 'to', 'give', '.', 'all', 'that', 'she', 'had', 'before', 'was', 'gone', 'and', 'nothing', 'remained', 'but', 'the', 'hopeful', 'bliss', 'of', 'an', 'ending', '.', 'the', 'eu', '##ph', '##oric', 'numb', 'spread', 'quickly', ',', 'en', '##vel', '##oping', 'her', 'mind', 'and', 'dull', '##ing', 'whatever', 'else', 'he', 'might', 'have', 'said', 'as', 'she', 'faded', 'away', '.', 'there', 'was', 'no', 'pain', 'from', 'his', 'blade', '.', 'she', 'floated', 'away', 'from', 'that', 'cold', ',', 'stone', 'floor', ',', 'wrapped', 'in', 'warmth', 'and', 'lu', '##lled', 'into', 'peace', '.']\n"
          ]
        }
      ]
    },
    {
      "cell_type": "markdown",
      "source": [
        "We will now format out text in to input features which the BERT model expects. We will also set a sequence length which will be the length of the input features.\n",
        "\n",
        "Okay so this is where you set the length"
      ],
      "metadata": {
        "id": "D1_ZQJYJb08C"
      }
    },
    {
      "cell_type": "code",
      "source": [
        "MAX_SEQ_LENGTH = 125\n",
        "#Convert our train and validation features to InputFeatures that BERT understands.\n",
        "train_features = bert.run_classifier.convert_examples_to_features(train_InputExamples, label_list, MAX_SEQ_LENGTH, tokenizer)\n",
        "  \n",
        "val_features = bert.run_classifier.convert_examples_to_features(val_InputExamples, label_list, MAX_SEQ_LENGTH, tokenizer)"
      ],
      "metadata": {
        "colab": {
          "base_uri": "https://localhost:8080/"
        },
        "id": "XHMM-5iLeG0g",
        "outputId": "21093ed9-1a20-45a7-e5c4-cc5fb611f634"
      },
      "execution_count": null,
      "outputs": [
        {
          "output_type": "stream",
          "name": "stdout",
          "text": [
            "WARNING:tensorflow:From /usr/local/lib/python3.7/dist-packages/bert/run_classifier.py:774: The name tf.logging.info is deprecated. Please use tf.compat.v1.logging.info instead.\n",
            "\n"
          ]
        },
        {
          "output_type": "stream",
          "name": "stderr",
          "text": [
            "WARNING:tensorflow:From /usr/local/lib/python3.7/dist-packages/bert/run_classifier.py:774: The name tf.logging.info is deprecated. Please use tf.compat.v1.logging.info instead.\n",
            "\n"
          ]
        },
        {
          "output_type": "stream",
          "name": "stdout",
          "text": [
            "INFO:tensorflow:Writing example 0 of 404\n"
          ]
        },
        {
          "output_type": "stream",
          "name": "stderr",
          "text": [
            "INFO:tensorflow:Writing example 0 of 404\n"
          ]
        },
        {
          "output_type": "stream",
          "name": "stdout",
          "text": [
            "INFO:tensorflow:*** Example ***\n"
          ]
        },
        {
          "output_type": "stream",
          "name": "stderr",
          "text": [
            "INFO:tensorflow:*** Example ***\n"
          ]
        },
        {
          "output_type": "stream",
          "name": "stdout",
          "text": [
            "INFO:tensorflow:guid: None\n"
          ]
        },
        {
          "output_type": "stream",
          "name": "stderr",
          "text": [
            "INFO:tensorflow:guid: None\n"
          ]
        },
        {
          "output_type": "stream",
          "name": "stdout",
          "text": [
            "INFO:tensorflow:tokens: [CLS] it wasn ' t supposed to be like this . when asked why she wanted to fight for sky ##rim , it made sense at the time to pick up a blade in the name of her nordic ancestors . born of prophecy , and with her mother ' s nordic blood pounding in her veins , both sides expected her to choose one in hopes of ending the war sooner . so she did . she pledged her life and soul to the cause . because that was the way it had to be . because she was naive . nothing could have prepared her for the wicked imagination ##s of blood - thirsty men . all of the books in all [SEP]\n"
          ]
        },
        {
          "output_type": "stream",
          "name": "stderr",
          "text": [
            "INFO:tensorflow:tokens: [CLS] it wasn ' t supposed to be like this . when asked why she wanted to fight for sky ##rim , it made sense at the time to pick up a blade in the name of her nordic ancestors . born of prophecy , and with her mother ' s nordic blood pounding in her veins , both sides expected her to choose one in hopes of ending the war sooner . so she did . she pledged her life and soul to the cause . because that was the way it had to be . because she was naive . nothing could have prepared her for the wicked imagination ##s of blood - thirsty men . all of the books in all [SEP]\n"
          ]
        },
        {
          "output_type": "stream",
          "name": "stdout",
          "text": [
            "INFO:tensorflow:input_ids: 101 2009 2347 1005 1056 4011 2000 2022 2066 2023 1012 2043 2356 2339 2016 2359 2000 2954 2005 3712 20026 1010 2009 2081 3168 2012 1996 2051 2000 4060 2039 1037 6085 1999 1996 2171 1997 2014 13649 10748 1012 2141 1997 14951 1010 1998 2007 2014 2388 1005 1055 13649 2668 9836 1999 2014 9607 1010 2119 3903 3517 2014 2000 5454 2028 1999 8069 1997 4566 1996 2162 10076 1012 2061 2016 2106 1012 2016 16970 2014 2166 1998 3969 2000 1996 3426 1012 2138 2008 2001 1996 2126 2009 2018 2000 2022 1012 2138 2016 2001 15743 1012 2498 2071 2031 4810 2014 2005 1996 10433 9647 2015 1997 2668 1011 24907 2273 1012 2035 1997 1996 2808 1999 2035 102\n"
          ]
        },
        {
          "output_type": "stream",
          "name": "stderr",
          "text": [
            "INFO:tensorflow:input_ids: 101 2009 2347 1005 1056 4011 2000 2022 2066 2023 1012 2043 2356 2339 2016 2359 2000 2954 2005 3712 20026 1010 2009 2081 3168 2012 1996 2051 2000 4060 2039 1037 6085 1999 1996 2171 1997 2014 13649 10748 1012 2141 1997 14951 1010 1998 2007 2014 2388 1005 1055 13649 2668 9836 1999 2014 9607 1010 2119 3903 3517 2014 2000 5454 2028 1999 8069 1997 4566 1996 2162 10076 1012 2061 2016 2106 1012 2016 16970 2014 2166 1998 3969 2000 1996 3426 1012 2138 2008 2001 1996 2126 2009 2018 2000 2022 1012 2138 2016 2001 15743 1012 2498 2071 2031 4810 2014 2005 1996 10433 9647 2015 1997 2668 1011 24907 2273 1012 2035 1997 1996 2808 1999 2035 102\n"
          ]
        },
        {
          "output_type": "stream",
          "name": "stdout",
          "text": [
            "INFO:tensorflow:input_mask: 1 1 1 1 1 1 1 1 1 1 1 1 1 1 1 1 1 1 1 1 1 1 1 1 1 1 1 1 1 1 1 1 1 1 1 1 1 1 1 1 1 1 1 1 1 1 1 1 1 1 1 1 1 1 1 1 1 1 1 1 1 1 1 1 1 1 1 1 1 1 1 1 1 1 1 1 1 1 1 1 1 1 1 1 1 1 1 1 1 1 1 1 1 1 1 1 1 1 1 1 1 1 1 1 1 1 1 1 1 1 1 1 1 1 1 1 1 1 1 1 1 1 1 1 1\n"
          ]
        },
        {
          "output_type": "stream",
          "name": "stderr",
          "text": [
            "INFO:tensorflow:input_mask: 1 1 1 1 1 1 1 1 1 1 1 1 1 1 1 1 1 1 1 1 1 1 1 1 1 1 1 1 1 1 1 1 1 1 1 1 1 1 1 1 1 1 1 1 1 1 1 1 1 1 1 1 1 1 1 1 1 1 1 1 1 1 1 1 1 1 1 1 1 1 1 1 1 1 1 1 1 1 1 1 1 1 1 1 1 1 1 1 1 1 1 1 1 1 1 1 1 1 1 1 1 1 1 1 1 1 1 1 1 1 1 1 1 1 1 1 1 1 1 1 1 1 1 1 1\n"
          ]
        },
        {
          "output_type": "stream",
          "name": "stdout",
          "text": [
            "INFO:tensorflow:segment_ids: 0 0 0 0 0 0 0 0 0 0 0 0 0 0 0 0 0 0 0 0 0 0 0 0 0 0 0 0 0 0 0 0 0 0 0 0 0 0 0 0 0 0 0 0 0 0 0 0 0 0 0 0 0 0 0 0 0 0 0 0 0 0 0 0 0 0 0 0 0 0 0 0 0 0 0 0 0 0 0 0 0 0 0 0 0 0 0 0 0 0 0 0 0 0 0 0 0 0 0 0 0 0 0 0 0 0 0 0 0 0 0 0 0 0 0 0 0 0 0 0 0 0 0 0 0\n"
          ]
        },
        {
          "output_type": "stream",
          "name": "stderr",
          "text": [
            "INFO:tensorflow:segment_ids: 0 0 0 0 0 0 0 0 0 0 0 0 0 0 0 0 0 0 0 0 0 0 0 0 0 0 0 0 0 0 0 0 0 0 0 0 0 0 0 0 0 0 0 0 0 0 0 0 0 0 0 0 0 0 0 0 0 0 0 0 0 0 0 0 0 0 0 0 0 0 0 0 0 0 0 0 0 0 0 0 0 0 0 0 0 0 0 0 0 0 0 0 0 0 0 0 0 0 0 0 0 0 0 0 0 0 0 0 0 0 0 0 0 0 0 0 0 0 0 0 0 0 0 0 0\n"
          ]
        },
        {
          "output_type": "stream",
          "name": "stdout",
          "text": [
            "INFO:tensorflow:label: 3 (id = 3)\n"
          ]
        },
        {
          "output_type": "stream",
          "name": "stderr",
          "text": [
            "INFO:tensorflow:label: 3 (id = 3)\n"
          ]
        },
        {
          "output_type": "stream",
          "name": "stdout",
          "text": [
            "INFO:tensorflow:*** Example ***\n"
          ]
        },
        {
          "output_type": "stream",
          "name": "stderr",
          "text": [
            "INFO:tensorflow:*** Example ***\n"
          ]
        },
        {
          "output_type": "stream",
          "name": "stdout",
          "text": [
            "INFO:tensorflow:guid: None\n"
          ]
        },
        {
          "output_type": "stream",
          "name": "stderr",
          "text": [
            "INFO:tensorflow:guid: None\n"
          ]
        },
        {
          "output_type": "stream",
          "name": "stdout",
          "text": [
            "INFO:tensorflow:tokens: [CLS] in the olympic peninsula of northwest washington state , there existed my hometown of forks , where it was constantly over ##cast and raining . here especially more than anywhere else in the united states . however , my father , charlie swan , the chief of police of our home , and i were driving away from forks in his cruiser . i had brought my copy of the hero and the crown by robin mckinley with me to keep me occupied while charlie tapped his thumbs along to my newest cd . i had been surprised when he also enjoyed listening to fall out boy , as he didn ' t really enjoy listening to green day or the gorilla ##z [SEP]\n"
          ]
        },
        {
          "output_type": "stream",
          "name": "stderr",
          "text": [
            "INFO:tensorflow:tokens: [CLS] in the olympic peninsula of northwest washington state , there existed my hometown of forks , where it was constantly over ##cast and raining . here especially more than anywhere else in the united states . however , my father , charlie swan , the chief of police of our home , and i were driving away from forks in his cruiser . i had brought my copy of the hero and the crown by robin mckinley with me to keep me occupied while charlie tapped his thumbs along to my newest cd . i had been surprised when he also enjoyed listening to fall out boy , as he didn ' t really enjoy listening to green day or the gorilla ##z [SEP]\n"
          ]
        },
        {
          "output_type": "stream",
          "name": "stdout",
          "text": [
            "INFO:tensorflow:input_ids: 101 1999 1996 4386 6000 1997 4514 2899 2110 1010 2045 5839 2026 9627 1997 19896 1010 2073 2009 2001 7887 2058 10526 1998 24057 1012 2182 2926 2062 2084 5973 2842 1999 1996 2142 2163 1012 2174 1010 2026 2269 1010 4918 10677 1010 1996 2708 1997 2610 1997 2256 2188 1010 1998 1045 2020 4439 2185 2013 19896 1999 2010 10844 1012 1045 2018 2716 2026 6100 1997 1996 5394 1998 1996 4410 2011 5863 22121 2007 2033 2000 2562 2033 4548 2096 4918 10410 2010 16784 2247 2000 2026 14751 3729 1012 1045 2018 2042 4527 2043 2002 2036 5632 5962 2000 2991 2041 2879 1010 2004 2002 2134 1005 1056 2428 5959 5962 2000 2665 2154 2030 1996 23526 2480 102\n"
          ]
        },
        {
          "output_type": "stream",
          "name": "stderr",
          "text": [
            "INFO:tensorflow:input_ids: 101 1999 1996 4386 6000 1997 4514 2899 2110 1010 2045 5839 2026 9627 1997 19896 1010 2073 2009 2001 7887 2058 10526 1998 24057 1012 2182 2926 2062 2084 5973 2842 1999 1996 2142 2163 1012 2174 1010 2026 2269 1010 4918 10677 1010 1996 2708 1997 2610 1997 2256 2188 1010 1998 1045 2020 4439 2185 2013 19896 1999 2010 10844 1012 1045 2018 2716 2026 6100 1997 1996 5394 1998 1996 4410 2011 5863 22121 2007 2033 2000 2562 2033 4548 2096 4918 10410 2010 16784 2247 2000 2026 14751 3729 1012 1045 2018 2042 4527 2043 2002 2036 5632 5962 2000 2991 2041 2879 1010 2004 2002 2134 1005 1056 2428 5959 5962 2000 2665 2154 2030 1996 23526 2480 102\n"
          ]
        },
        {
          "output_type": "stream",
          "name": "stdout",
          "text": [
            "INFO:tensorflow:input_mask: 1 1 1 1 1 1 1 1 1 1 1 1 1 1 1 1 1 1 1 1 1 1 1 1 1 1 1 1 1 1 1 1 1 1 1 1 1 1 1 1 1 1 1 1 1 1 1 1 1 1 1 1 1 1 1 1 1 1 1 1 1 1 1 1 1 1 1 1 1 1 1 1 1 1 1 1 1 1 1 1 1 1 1 1 1 1 1 1 1 1 1 1 1 1 1 1 1 1 1 1 1 1 1 1 1 1 1 1 1 1 1 1 1 1 1 1 1 1 1 1 1 1 1 1 1\n"
          ]
        },
        {
          "output_type": "stream",
          "name": "stderr",
          "text": [
            "INFO:tensorflow:input_mask: 1 1 1 1 1 1 1 1 1 1 1 1 1 1 1 1 1 1 1 1 1 1 1 1 1 1 1 1 1 1 1 1 1 1 1 1 1 1 1 1 1 1 1 1 1 1 1 1 1 1 1 1 1 1 1 1 1 1 1 1 1 1 1 1 1 1 1 1 1 1 1 1 1 1 1 1 1 1 1 1 1 1 1 1 1 1 1 1 1 1 1 1 1 1 1 1 1 1 1 1 1 1 1 1 1 1 1 1 1 1 1 1 1 1 1 1 1 1 1 1 1 1 1 1 1\n"
          ]
        },
        {
          "output_type": "stream",
          "name": "stdout",
          "text": [
            "INFO:tensorflow:segment_ids: 0 0 0 0 0 0 0 0 0 0 0 0 0 0 0 0 0 0 0 0 0 0 0 0 0 0 0 0 0 0 0 0 0 0 0 0 0 0 0 0 0 0 0 0 0 0 0 0 0 0 0 0 0 0 0 0 0 0 0 0 0 0 0 0 0 0 0 0 0 0 0 0 0 0 0 0 0 0 0 0 0 0 0 0 0 0 0 0 0 0 0 0 0 0 0 0 0 0 0 0 0 0 0 0 0 0 0 0 0 0 0 0 0 0 0 0 0 0 0 0 0 0 0 0 0\n"
          ]
        },
        {
          "output_type": "stream",
          "name": "stderr",
          "text": [
            "INFO:tensorflow:segment_ids: 0 0 0 0 0 0 0 0 0 0 0 0 0 0 0 0 0 0 0 0 0 0 0 0 0 0 0 0 0 0 0 0 0 0 0 0 0 0 0 0 0 0 0 0 0 0 0 0 0 0 0 0 0 0 0 0 0 0 0 0 0 0 0 0 0 0 0 0 0 0 0 0 0 0 0 0 0 0 0 0 0 0 0 0 0 0 0 0 0 0 0 0 0 0 0 0 0 0 0 0 0 0 0 0 0 0 0 0 0 0 0 0 0 0 0 0 0 0 0 0 0 0 0 0 0\n"
          ]
        },
        {
          "output_type": "stream",
          "name": "stdout",
          "text": [
            "INFO:tensorflow:label: 2 (id = 2)\n"
          ]
        },
        {
          "output_type": "stream",
          "name": "stderr",
          "text": [
            "INFO:tensorflow:label: 2 (id = 2)\n"
          ]
        },
        {
          "output_type": "stream",
          "name": "stdout",
          "text": [
            "INFO:tensorflow:*** Example ***\n"
          ]
        },
        {
          "output_type": "stream",
          "name": "stderr",
          "text": [
            "INFO:tensorflow:*** Example ***\n"
          ]
        },
        {
          "output_type": "stream",
          "name": "stdout",
          "text": [
            "INFO:tensorflow:guid: None\n"
          ]
        },
        {
          "output_type": "stream",
          "name": "stderr",
          "text": [
            "INFO:tensorflow:guid: None\n"
          ]
        },
        {
          "output_type": "stream",
          "name": "stdout",
          "text": [
            "INFO:tensorflow:tokens: [CLS] was this , as re ##mus would likely put it , something of a dick move ? well . logan had to admit that probably it was . but he was hoping it would be worth it . my flight was canceled , he texted virgil . they ' re saying they ' ll get me one tomorrow evening instead . virgil began typing at once . he spent perhaps two and a half minutes , the little dots disappearing and re ##app ##earing on logan ' s screen , before sending only : oh ok logan already regretted this , the two tiny words of resignation lan ##cing directly through his heart , made worse by the knowledge that he was the [SEP]\n"
          ]
        },
        {
          "output_type": "stream",
          "name": "stderr",
          "text": [
            "INFO:tensorflow:tokens: [CLS] was this , as re ##mus would likely put it , something of a dick move ? well . logan had to admit that probably it was . but he was hoping it would be worth it . my flight was canceled , he texted virgil . they ' re saying they ' ll get me one tomorrow evening instead . virgil began typing at once . he spent perhaps two and a half minutes , the little dots disappearing and re ##app ##earing on logan ' s screen , before sending only : oh ok logan already regretted this , the two tiny words of resignation lan ##cing directly through his heart , made worse by the knowledge that he was the [SEP]\n"
          ]
        },
        {
          "output_type": "stream",
          "name": "stdout",
          "text": [
            "INFO:tensorflow:input_ids: 101 2001 2023 1010 2004 2128 7606 2052 3497 2404 2009 1010 2242 1997 1037 5980 2693 1029 2092 1012 6307 2018 2000 6449 2008 2763 2009 2001 1012 2021 2002 2001 5327 2009 2052 2022 4276 2009 1012 2026 3462 2001 13261 1010 2002 24637 17270 1012 2027 1005 2128 3038 2027 1005 2222 2131 2033 2028 4826 3944 2612 1012 17270 2211 22868 2012 2320 1012 2002 2985 3383 2048 1998 1037 2431 2781 1010 1996 2210 14981 14489 1998 2128 29098 27242 2006 6307 1005 1055 3898 1010 2077 6016 2069 1024 2821 7929 6307 2525 18991 2023 1010 1996 2048 4714 2616 1997 8172 17595 6129 3495 2083 2010 2540 1010 2081 4788 2011 1996 3716 2008 2002 2001 1996 102\n"
          ]
        },
        {
          "output_type": "stream",
          "name": "stderr",
          "text": [
            "INFO:tensorflow:input_ids: 101 2001 2023 1010 2004 2128 7606 2052 3497 2404 2009 1010 2242 1997 1037 5980 2693 1029 2092 1012 6307 2018 2000 6449 2008 2763 2009 2001 1012 2021 2002 2001 5327 2009 2052 2022 4276 2009 1012 2026 3462 2001 13261 1010 2002 24637 17270 1012 2027 1005 2128 3038 2027 1005 2222 2131 2033 2028 4826 3944 2612 1012 17270 2211 22868 2012 2320 1012 2002 2985 3383 2048 1998 1037 2431 2781 1010 1996 2210 14981 14489 1998 2128 29098 27242 2006 6307 1005 1055 3898 1010 2077 6016 2069 1024 2821 7929 6307 2525 18991 2023 1010 1996 2048 4714 2616 1997 8172 17595 6129 3495 2083 2010 2540 1010 2081 4788 2011 1996 3716 2008 2002 2001 1996 102\n"
          ]
        },
        {
          "output_type": "stream",
          "name": "stdout",
          "text": [
            "INFO:tensorflow:input_mask: 1 1 1 1 1 1 1 1 1 1 1 1 1 1 1 1 1 1 1 1 1 1 1 1 1 1 1 1 1 1 1 1 1 1 1 1 1 1 1 1 1 1 1 1 1 1 1 1 1 1 1 1 1 1 1 1 1 1 1 1 1 1 1 1 1 1 1 1 1 1 1 1 1 1 1 1 1 1 1 1 1 1 1 1 1 1 1 1 1 1 1 1 1 1 1 1 1 1 1 1 1 1 1 1 1 1 1 1 1 1 1 1 1 1 1 1 1 1 1 1 1 1 1 1 1\n"
          ]
        },
        {
          "output_type": "stream",
          "name": "stderr",
          "text": [
            "INFO:tensorflow:input_mask: 1 1 1 1 1 1 1 1 1 1 1 1 1 1 1 1 1 1 1 1 1 1 1 1 1 1 1 1 1 1 1 1 1 1 1 1 1 1 1 1 1 1 1 1 1 1 1 1 1 1 1 1 1 1 1 1 1 1 1 1 1 1 1 1 1 1 1 1 1 1 1 1 1 1 1 1 1 1 1 1 1 1 1 1 1 1 1 1 1 1 1 1 1 1 1 1 1 1 1 1 1 1 1 1 1 1 1 1 1 1 1 1 1 1 1 1 1 1 1 1 1 1 1 1 1\n"
          ]
        },
        {
          "output_type": "stream",
          "name": "stdout",
          "text": [
            "INFO:tensorflow:segment_ids: 0 0 0 0 0 0 0 0 0 0 0 0 0 0 0 0 0 0 0 0 0 0 0 0 0 0 0 0 0 0 0 0 0 0 0 0 0 0 0 0 0 0 0 0 0 0 0 0 0 0 0 0 0 0 0 0 0 0 0 0 0 0 0 0 0 0 0 0 0 0 0 0 0 0 0 0 0 0 0 0 0 0 0 0 0 0 0 0 0 0 0 0 0 0 0 0 0 0 0 0 0 0 0 0 0 0 0 0 0 0 0 0 0 0 0 0 0 0 0 0 0 0 0 0 0\n"
          ]
        },
        {
          "output_type": "stream",
          "name": "stderr",
          "text": [
            "INFO:tensorflow:segment_ids: 0 0 0 0 0 0 0 0 0 0 0 0 0 0 0 0 0 0 0 0 0 0 0 0 0 0 0 0 0 0 0 0 0 0 0 0 0 0 0 0 0 0 0 0 0 0 0 0 0 0 0 0 0 0 0 0 0 0 0 0 0 0 0 0 0 0 0 0 0 0 0 0 0 0 0 0 0 0 0 0 0 0 0 0 0 0 0 0 0 0 0 0 0 0 0 0 0 0 0 0 0 0 0 0 0 0 0 0 0 0 0 0 0 0 0 0 0 0 0 0 0 0 0 0 0\n"
          ]
        },
        {
          "output_type": "stream",
          "name": "stdout",
          "text": [
            "INFO:tensorflow:label: 1 (id = 1)\n"
          ]
        },
        {
          "output_type": "stream",
          "name": "stderr",
          "text": [
            "INFO:tensorflow:label: 1 (id = 1)\n"
          ]
        },
        {
          "output_type": "stream",
          "name": "stdout",
          "text": [
            "INFO:tensorflow:*** Example ***\n"
          ]
        },
        {
          "output_type": "stream",
          "name": "stderr",
          "text": [
            "INFO:tensorflow:*** Example ***\n"
          ]
        },
        {
          "output_type": "stream",
          "name": "stdout",
          "text": [
            "INFO:tensorflow:guid: None\n"
          ]
        },
        {
          "output_type": "stream",
          "name": "stderr",
          "text": [
            "INFO:tensorflow:guid: None\n"
          ]
        },
        {
          "output_type": "stream",
          "name": "stdout",
          "text": [
            "INFO:tensorflow:tokens: [CLS] a / n : set immediately after code of honour . thanks for reading . despite code of honour being one of the most cr ##inge ##worthy episodes of tn ##g , there were some brilliant data / tasha moments in that episode . yes , i will go down defending this ship . this story explores those moments and some missing scenes . this is a fan - made work of imagination . this is a re ##tell ##ing of tn ##g series one . my attempt is to weave in missing scenes and a few original adventures to expand on the first season . it ' s a little au and a bit of a roller ##co ##aster with flu ##ff [SEP]\n"
          ]
        },
        {
          "output_type": "stream",
          "name": "stderr",
          "text": [
            "INFO:tensorflow:tokens: [CLS] a / n : set immediately after code of honour . thanks for reading . despite code of honour being one of the most cr ##inge ##worthy episodes of tn ##g , there were some brilliant data / tasha moments in that episode . yes , i will go down defending this ship . this story explores those moments and some missing scenes . this is a fan - made work of imagination . this is a re ##tell ##ing of tn ##g series one . my attempt is to weave in missing scenes and a few original adventures to expand on the first season . it ' s a little au and a bit of a roller ##co ##aster with flu ##ff [SEP]\n"
          ]
        },
        {
          "output_type": "stream",
          "name": "stdout",
          "text": [
            "INFO:tensorflow:input_ids: 101 1037 1013 1050 1024 2275 3202 2044 3642 1997 6225 1012 4283 2005 3752 1012 2750 3642 1997 6225 2108 2028 1997 1996 2087 13675 23496 13966 4178 1997 28286 2290 1010 2045 2020 2070 8235 2951 1013 25448 5312 1999 2008 2792 1012 2748 1010 1045 2097 2175 2091 6984 2023 2911 1012 2023 2466 15102 2216 5312 1998 2070 4394 5019 1012 2023 2003 1037 5470 1011 2081 2147 1997 9647 1012 2023 2003 1037 2128 23567 2075 1997 28286 2290 2186 2028 1012 2026 3535 2003 2000 25308 1999 4394 5019 1998 1037 2261 2434 7357 2000 7818 2006 1996 2034 2161 1012 2009 1005 1055 1037 2210 8740 1998 1037 2978 1997 1037 11220 3597 24268 2007 19857 4246 102\n"
          ]
        },
        {
          "output_type": "stream",
          "name": "stderr",
          "text": [
            "INFO:tensorflow:input_ids: 101 1037 1013 1050 1024 2275 3202 2044 3642 1997 6225 1012 4283 2005 3752 1012 2750 3642 1997 6225 2108 2028 1997 1996 2087 13675 23496 13966 4178 1997 28286 2290 1010 2045 2020 2070 8235 2951 1013 25448 5312 1999 2008 2792 1012 2748 1010 1045 2097 2175 2091 6984 2023 2911 1012 2023 2466 15102 2216 5312 1998 2070 4394 5019 1012 2023 2003 1037 5470 1011 2081 2147 1997 9647 1012 2023 2003 1037 2128 23567 2075 1997 28286 2290 2186 2028 1012 2026 3535 2003 2000 25308 1999 4394 5019 1998 1037 2261 2434 7357 2000 7818 2006 1996 2034 2161 1012 2009 1005 1055 1037 2210 8740 1998 1037 2978 1997 1037 11220 3597 24268 2007 19857 4246 102\n"
          ]
        },
        {
          "output_type": "stream",
          "name": "stdout",
          "text": [
            "INFO:tensorflow:input_mask: 1 1 1 1 1 1 1 1 1 1 1 1 1 1 1 1 1 1 1 1 1 1 1 1 1 1 1 1 1 1 1 1 1 1 1 1 1 1 1 1 1 1 1 1 1 1 1 1 1 1 1 1 1 1 1 1 1 1 1 1 1 1 1 1 1 1 1 1 1 1 1 1 1 1 1 1 1 1 1 1 1 1 1 1 1 1 1 1 1 1 1 1 1 1 1 1 1 1 1 1 1 1 1 1 1 1 1 1 1 1 1 1 1 1 1 1 1 1 1 1 1 1 1 1 1\n"
          ]
        },
        {
          "output_type": "stream",
          "name": "stderr",
          "text": [
            "INFO:tensorflow:input_mask: 1 1 1 1 1 1 1 1 1 1 1 1 1 1 1 1 1 1 1 1 1 1 1 1 1 1 1 1 1 1 1 1 1 1 1 1 1 1 1 1 1 1 1 1 1 1 1 1 1 1 1 1 1 1 1 1 1 1 1 1 1 1 1 1 1 1 1 1 1 1 1 1 1 1 1 1 1 1 1 1 1 1 1 1 1 1 1 1 1 1 1 1 1 1 1 1 1 1 1 1 1 1 1 1 1 1 1 1 1 1 1 1 1 1 1 1 1 1 1 1 1 1 1 1 1\n"
          ]
        },
        {
          "output_type": "stream",
          "name": "stdout",
          "text": [
            "INFO:tensorflow:segment_ids: 0 0 0 0 0 0 0 0 0 0 0 0 0 0 0 0 0 0 0 0 0 0 0 0 0 0 0 0 0 0 0 0 0 0 0 0 0 0 0 0 0 0 0 0 0 0 0 0 0 0 0 0 0 0 0 0 0 0 0 0 0 0 0 0 0 0 0 0 0 0 0 0 0 0 0 0 0 0 0 0 0 0 0 0 0 0 0 0 0 0 0 0 0 0 0 0 0 0 0 0 0 0 0 0 0 0 0 0 0 0 0 0 0 0 0 0 0 0 0 0 0 0 0 0 0\n"
          ]
        },
        {
          "output_type": "stream",
          "name": "stderr",
          "text": [
            "INFO:tensorflow:segment_ids: 0 0 0 0 0 0 0 0 0 0 0 0 0 0 0 0 0 0 0 0 0 0 0 0 0 0 0 0 0 0 0 0 0 0 0 0 0 0 0 0 0 0 0 0 0 0 0 0 0 0 0 0 0 0 0 0 0 0 0 0 0 0 0 0 0 0 0 0 0 0 0 0 0 0 0 0 0 0 0 0 0 0 0 0 0 0 0 0 0 0 0 0 0 0 0 0 0 0 0 0 0 0 0 0 0 0 0 0 0 0 0 0 0 0 0 0 0 0 0 0 0 0 0 0 0\n"
          ]
        },
        {
          "output_type": "stream",
          "name": "stdout",
          "text": [
            "INFO:tensorflow:label: 1 (id = 1)\n"
          ]
        },
        {
          "output_type": "stream",
          "name": "stderr",
          "text": [
            "INFO:tensorflow:label: 1 (id = 1)\n"
          ]
        },
        {
          "output_type": "stream",
          "name": "stdout",
          "text": [
            "INFO:tensorflow:*** Example ***\n"
          ]
        },
        {
          "output_type": "stream",
          "name": "stderr",
          "text": [
            "INFO:tensorflow:*** Example ***\n"
          ]
        },
        {
          "output_type": "stream",
          "name": "stdout",
          "text": [
            "INFO:tensorflow:guid: None\n"
          ]
        },
        {
          "output_type": "stream",
          "name": "stderr",
          "text": [
            "INFO:tensorflow:guid: None\n"
          ]
        },
        {
          "output_type": "stream",
          "name": "stdout",
          "text": [
            "INFO:tensorflow:tokens: [CLS] they are far from home . the jedi pad ##awan torn from her war . the bio ##nic super ##sol ##dier trapped in a part of the galaxy he never knew existed before . two lives disrupted for the crude pleasure of a hunter ' s game . she saw him when they were dropped on the island . cages of people reduced to prey . the ship opened fire and every victim ran , but he , he raised his hands and an energy shield formed from them . so she followed him into the jungle . he ' s still waiting to wake up and find this nightmare has ended . he knows he should have been more cautious , and [SEP]\n"
          ]
        },
        {
          "output_type": "stream",
          "name": "stderr",
          "text": [
            "INFO:tensorflow:tokens: [CLS] they are far from home . the jedi pad ##awan torn from her war . the bio ##nic super ##sol ##dier trapped in a part of the galaxy he never knew existed before . two lives disrupted for the crude pleasure of a hunter ' s game . she saw him when they were dropped on the island . cages of people reduced to prey . the ship opened fire and every victim ran , but he , he raised his hands and an energy shield formed from them . so she followed him into the jungle . he ' s still waiting to wake up and find this nightmare has ended . he knows he should have been more cautious , and [SEP]\n"
          ]
        },
        {
          "output_type": "stream",
          "name": "stdout",
          "text": [
            "INFO:tensorflow:input_ids: 101 2027 2024 2521 2013 2188 1012 1996 27273 11687 25903 7950 2013 2014 2162 1012 1996 16012 8713 3565 19454 24612 7567 1999 1037 2112 1997 1996 9088 2002 2196 2354 5839 2077 1012 2048 3268 20275 2005 1996 13587 5165 1997 1037 4477 1005 1055 2208 1012 2016 2387 2032 2043 2027 2020 3333 2006 1996 2479 1012 27157 1997 2111 4359 2000 8336 1012 1996 2911 2441 2543 1998 2296 6778 2743 1010 2021 2002 1010 2002 2992 2010 2398 1998 2019 2943 6099 2719 2013 2068 1012 2061 2016 2628 2032 2046 1996 8894 1012 2002 1005 1055 2145 3403 2000 5256 2039 1998 2424 2023 10103 2038 3092 1012 2002 4282 2002 2323 2031 2042 2062 17145 1010 1998 102\n"
          ]
        },
        {
          "output_type": "stream",
          "name": "stderr",
          "text": [
            "INFO:tensorflow:input_ids: 101 2027 2024 2521 2013 2188 1012 1996 27273 11687 25903 7950 2013 2014 2162 1012 1996 16012 8713 3565 19454 24612 7567 1999 1037 2112 1997 1996 9088 2002 2196 2354 5839 2077 1012 2048 3268 20275 2005 1996 13587 5165 1997 1037 4477 1005 1055 2208 1012 2016 2387 2032 2043 2027 2020 3333 2006 1996 2479 1012 27157 1997 2111 4359 2000 8336 1012 1996 2911 2441 2543 1998 2296 6778 2743 1010 2021 2002 1010 2002 2992 2010 2398 1998 2019 2943 6099 2719 2013 2068 1012 2061 2016 2628 2032 2046 1996 8894 1012 2002 1005 1055 2145 3403 2000 5256 2039 1998 2424 2023 10103 2038 3092 1012 2002 4282 2002 2323 2031 2042 2062 17145 1010 1998 102\n"
          ]
        },
        {
          "output_type": "stream",
          "name": "stdout",
          "text": [
            "INFO:tensorflow:input_mask: 1 1 1 1 1 1 1 1 1 1 1 1 1 1 1 1 1 1 1 1 1 1 1 1 1 1 1 1 1 1 1 1 1 1 1 1 1 1 1 1 1 1 1 1 1 1 1 1 1 1 1 1 1 1 1 1 1 1 1 1 1 1 1 1 1 1 1 1 1 1 1 1 1 1 1 1 1 1 1 1 1 1 1 1 1 1 1 1 1 1 1 1 1 1 1 1 1 1 1 1 1 1 1 1 1 1 1 1 1 1 1 1 1 1 1 1 1 1 1 1 1 1 1 1 1\n"
          ]
        },
        {
          "output_type": "stream",
          "name": "stderr",
          "text": [
            "INFO:tensorflow:input_mask: 1 1 1 1 1 1 1 1 1 1 1 1 1 1 1 1 1 1 1 1 1 1 1 1 1 1 1 1 1 1 1 1 1 1 1 1 1 1 1 1 1 1 1 1 1 1 1 1 1 1 1 1 1 1 1 1 1 1 1 1 1 1 1 1 1 1 1 1 1 1 1 1 1 1 1 1 1 1 1 1 1 1 1 1 1 1 1 1 1 1 1 1 1 1 1 1 1 1 1 1 1 1 1 1 1 1 1 1 1 1 1 1 1 1 1 1 1 1 1 1 1 1 1 1 1\n"
          ]
        },
        {
          "output_type": "stream",
          "name": "stdout",
          "text": [
            "INFO:tensorflow:segment_ids: 0 0 0 0 0 0 0 0 0 0 0 0 0 0 0 0 0 0 0 0 0 0 0 0 0 0 0 0 0 0 0 0 0 0 0 0 0 0 0 0 0 0 0 0 0 0 0 0 0 0 0 0 0 0 0 0 0 0 0 0 0 0 0 0 0 0 0 0 0 0 0 0 0 0 0 0 0 0 0 0 0 0 0 0 0 0 0 0 0 0 0 0 0 0 0 0 0 0 0 0 0 0 0 0 0 0 0 0 0 0 0 0 0 0 0 0 0 0 0 0 0 0 0 0 0\n"
          ]
        },
        {
          "output_type": "stream",
          "name": "stderr",
          "text": [
            "INFO:tensorflow:segment_ids: 0 0 0 0 0 0 0 0 0 0 0 0 0 0 0 0 0 0 0 0 0 0 0 0 0 0 0 0 0 0 0 0 0 0 0 0 0 0 0 0 0 0 0 0 0 0 0 0 0 0 0 0 0 0 0 0 0 0 0 0 0 0 0 0 0 0 0 0 0 0 0 0 0 0 0 0 0 0 0 0 0 0 0 0 0 0 0 0 0 0 0 0 0 0 0 0 0 0 0 0 0 0 0 0 0 0 0 0 0 0 0 0 0 0 0 0 0 0 0 0 0 0 0 0 0\n"
          ]
        },
        {
          "output_type": "stream",
          "name": "stdout",
          "text": [
            "INFO:tensorflow:label: 1 (id = 1)\n"
          ]
        },
        {
          "output_type": "stream",
          "name": "stderr",
          "text": [
            "INFO:tensorflow:label: 1 (id = 1)\n"
          ]
        },
        {
          "output_type": "stream",
          "name": "stdout",
          "text": [
            "INFO:tensorflow:Writing example 0 of 101\n"
          ]
        },
        {
          "output_type": "stream",
          "name": "stderr",
          "text": [
            "INFO:tensorflow:Writing example 0 of 101\n"
          ]
        },
        {
          "output_type": "stream",
          "name": "stdout",
          "text": [
            "INFO:tensorflow:*** Example ***\n"
          ]
        },
        {
          "output_type": "stream",
          "name": "stderr",
          "text": [
            "INFO:tensorflow:*** Example ***\n"
          ]
        },
        {
          "output_type": "stream",
          "name": "stdout",
          "text": [
            "INFO:tensorflow:guid: None\n"
          ]
        },
        {
          "output_type": "stream",
          "name": "stderr",
          "text": [
            "INFO:tensorflow:guid: None\n"
          ]
        },
        {
          "output_type": "stream",
          "name": "stdout",
          "text": [
            "INFO:tensorflow:tokens: [CLS] day 1 prompt : new characters : harry and james sirius pairing : none rating : g harry looked down at the tiny bundle he held in his arms . he could scarcely believe that not only was the baby here , but he was harry ' s . his son . the thought of it took his breath away . james blinked and opened his eyes , seemingly staring up at his father . harry knew james wasn ' t really seeing him of course , only hours old , but harry smiled just the same . \" hey there , little man , \" harry said quietly , so as not to wake gin ##ny . \" i ' m your [SEP]\n"
          ]
        },
        {
          "output_type": "stream",
          "name": "stderr",
          "text": [
            "INFO:tensorflow:tokens: [CLS] day 1 prompt : new characters : harry and james sirius pairing : none rating : g harry looked down at the tiny bundle he held in his arms . he could scarcely believe that not only was the baby here , but he was harry ' s . his son . the thought of it took his breath away . james blinked and opened his eyes , seemingly staring up at his father . harry knew james wasn ' t really seeing him of course , only hours old , but harry smiled just the same . \" hey there , little man , \" harry said quietly , so as not to wake gin ##ny . \" i ' m your [SEP]\n"
          ]
        },
        {
          "output_type": "stream",
          "name": "stdout",
          "text": [
            "INFO:tensorflow:input_ids: 101 2154 1015 25732 1024 2047 3494 1024 4302 1998 2508 23466 22778 1024 3904 5790 1024 1043 4302 2246 2091 2012 1996 4714 14012 2002 2218 1999 2010 2608 1012 2002 2071 20071 2903 2008 2025 2069 2001 1996 3336 2182 1010 2021 2002 2001 4302 1005 1055 1012 2010 2365 1012 1996 2245 1997 2009 2165 2010 3052 2185 1012 2508 7948 1998 2441 2010 2159 1010 9428 4582 2039 2012 2010 2269 1012 4302 2354 2508 2347 1005 1056 2428 3773 2032 1997 2607 1010 2069 2847 2214 1010 2021 4302 3281 2074 1996 2168 1012 1000 4931 2045 1010 2210 2158 1010 1000 4302 2056 5168 1010 2061 2004 2025 2000 5256 18353 4890 1012 1000 1045 1005 1049 2115 102\n"
          ]
        },
        {
          "output_type": "stream",
          "name": "stderr",
          "text": [
            "INFO:tensorflow:input_ids: 101 2154 1015 25732 1024 2047 3494 1024 4302 1998 2508 23466 22778 1024 3904 5790 1024 1043 4302 2246 2091 2012 1996 4714 14012 2002 2218 1999 2010 2608 1012 2002 2071 20071 2903 2008 2025 2069 2001 1996 3336 2182 1010 2021 2002 2001 4302 1005 1055 1012 2010 2365 1012 1996 2245 1997 2009 2165 2010 3052 2185 1012 2508 7948 1998 2441 2010 2159 1010 9428 4582 2039 2012 2010 2269 1012 4302 2354 2508 2347 1005 1056 2428 3773 2032 1997 2607 1010 2069 2847 2214 1010 2021 4302 3281 2074 1996 2168 1012 1000 4931 2045 1010 2210 2158 1010 1000 4302 2056 5168 1010 2061 2004 2025 2000 5256 18353 4890 1012 1000 1045 1005 1049 2115 102\n"
          ]
        },
        {
          "output_type": "stream",
          "name": "stdout",
          "text": [
            "INFO:tensorflow:input_mask: 1 1 1 1 1 1 1 1 1 1 1 1 1 1 1 1 1 1 1 1 1 1 1 1 1 1 1 1 1 1 1 1 1 1 1 1 1 1 1 1 1 1 1 1 1 1 1 1 1 1 1 1 1 1 1 1 1 1 1 1 1 1 1 1 1 1 1 1 1 1 1 1 1 1 1 1 1 1 1 1 1 1 1 1 1 1 1 1 1 1 1 1 1 1 1 1 1 1 1 1 1 1 1 1 1 1 1 1 1 1 1 1 1 1 1 1 1 1 1 1 1 1 1 1 1\n"
          ]
        },
        {
          "output_type": "stream",
          "name": "stderr",
          "text": [
            "INFO:tensorflow:input_mask: 1 1 1 1 1 1 1 1 1 1 1 1 1 1 1 1 1 1 1 1 1 1 1 1 1 1 1 1 1 1 1 1 1 1 1 1 1 1 1 1 1 1 1 1 1 1 1 1 1 1 1 1 1 1 1 1 1 1 1 1 1 1 1 1 1 1 1 1 1 1 1 1 1 1 1 1 1 1 1 1 1 1 1 1 1 1 1 1 1 1 1 1 1 1 1 1 1 1 1 1 1 1 1 1 1 1 1 1 1 1 1 1 1 1 1 1 1 1 1 1 1 1 1 1 1\n"
          ]
        },
        {
          "output_type": "stream",
          "name": "stdout",
          "text": [
            "INFO:tensorflow:segment_ids: 0 0 0 0 0 0 0 0 0 0 0 0 0 0 0 0 0 0 0 0 0 0 0 0 0 0 0 0 0 0 0 0 0 0 0 0 0 0 0 0 0 0 0 0 0 0 0 0 0 0 0 0 0 0 0 0 0 0 0 0 0 0 0 0 0 0 0 0 0 0 0 0 0 0 0 0 0 0 0 0 0 0 0 0 0 0 0 0 0 0 0 0 0 0 0 0 0 0 0 0 0 0 0 0 0 0 0 0 0 0 0 0 0 0 0 0 0 0 0 0 0 0 0 0 0\n"
          ]
        },
        {
          "output_type": "stream",
          "name": "stderr",
          "text": [
            "INFO:tensorflow:segment_ids: 0 0 0 0 0 0 0 0 0 0 0 0 0 0 0 0 0 0 0 0 0 0 0 0 0 0 0 0 0 0 0 0 0 0 0 0 0 0 0 0 0 0 0 0 0 0 0 0 0 0 0 0 0 0 0 0 0 0 0 0 0 0 0 0 0 0 0 0 0 0 0 0 0 0 0 0 0 0 0 0 0 0 0 0 0 0 0 0 0 0 0 0 0 0 0 0 0 0 0 0 0 0 0 0 0 0 0 0 0 0 0 0 0 0 0 0 0 0 0 0 0 0 0 0 0\n"
          ]
        },
        {
          "output_type": "stream",
          "name": "stdout",
          "text": [
            "INFO:tensorflow:label: 0 (id = 0)\n"
          ]
        },
        {
          "output_type": "stream",
          "name": "stderr",
          "text": [
            "INFO:tensorflow:label: 0 (id = 0)\n"
          ]
        },
        {
          "output_type": "stream",
          "name": "stdout",
          "text": [
            "INFO:tensorflow:*** Example ***\n"
          ]
        },
        {
          "output_type": "stream",
          "name": "stderr",
          "text": [
            "INFO:tensorflow:*** Example ***\n"
          ]
        },
        {
          "output_type": "stream",
          "name": "stdout",
          "text": [
            "INFO:tensorflow:guid: None\n"
          ]
        },
        {
          "output_type": "stream",
          "name": "stderr",
          "text": [
            "INFO:tensorflow:guid: None\n"
          ]
        },
        {
          "output_type": "stream",
          "name": "stdout",
          "text": [
            "INFO:tensorflow:tokens: [CLS] in moments when i am perfectly still , i can feel it all . the warmth of my own blood soaking into my night ##go ##wn . the iv being pulled out of my hand . the soft snow ##fl ##akes hitting my face . at this moment as i step onto the streets of gotham and the cold salty air sting ##s my face i am sure that when i stand still i will feel this moment as well . the water starts to run cold as i wash out more test tubes . i hear dr . kirk lang ##strom and his wife fran ##cine laugh behind me as they talk about their next vacation plans . they are a really [SEP]\n"
          ]
        },
        {
          "output_type": "stream",
          "name": "stderr",
          "text": [
            "INFO:tensorflow:tokens: [CLS] in moments when i am perfectly still , i can feel it all . the warmth of my own blood soaking into my night ##go ##wn . the iv being pulled out of my hand . the soft snow ##fl ##akes hitting my face . at this moment as i step onto the streets of gotham and the cold salty air sting ##s my face i am sure that when i stand still i will feel this moment as well . the water starts to run cold as i wash out more test tubes . i hear dr . kirk lang ##strom and his wife fran ##cine laugh behind me as they talk about their next vacation plans . they are a really [SEP]\n"
          ]
        },
        {
          "output_type": "stream",
          "name": "stdout",
          "text": [
            "INFO:tensorflow:input_ids: 101 1999 5312 2043 1045 2572 6669 2145 1010 1045 2064 2514 2009 2035 1012 1996 8251 1997 2026 2219 2668 22721 2046 2026 2305 3995 7962 1012 1996 4921 2108 2766 2041 1997 2026 2192 1012 1996 3730 4586 10258 20060 7294 2026 2227 1012 2012 2023 2617 2004 1045 3357 3031 1996 4534 1997 22814 1998 1996 3147 23592 2250 12072 2015 2026 2227 1045 2572 2469 2008 2043 1045 3233 2145 1045 2097 2514 2023 2617 2004 2092 1012 1996 2300 4627 2000 2448 3147 2004 1045 9378 2041 2062 3231 10868 1012 1045 2963 2852 1012 11332 11374 15687 1998 2010 2564 23151 16567 4756 2369 2033 2004 2027 2831 2055 2037 2279 10885 3488 1012 2027 2024 1037 2428 102\n"
          ]
        },
        {
          "output_type": "stream",
          "name": "stderr",
          "text": [
            "INFO:tensorflow:input_ids: 101 1999 5312 2043 1045 2572 6669 2145 1010 1045 2064 2514 2009 2035 1012 1996 8251 1997 2026 2219 2668 22721 2046 2026 2305 3995 7962 1012 1996 4921 2108 2766 2041 1997 2026 2192 1012 1996 3730 4586 10258 20060 7294 2026 2227 1012 2012 2023 2617 2004 1045 3357 3031 1996 4534 1997 22814 1998 1996 3147 23592 2250 12072 2015 2026 2227 1045 2572 2469 2008 2043 1045 3233 2145 1045 2097 2514 2023 2617 2004 2092 1012 1996 2300 4627 2000 2448 3147 2004 1045 9378 2041 2062 3231 10868 1012 1045 2963 2852 1012 11332 11374 15687 1998 2010 2564 23151 16567 4756 2369 2033 2004 2027 2831 2055 2037 2279 10885 3488 1012 2027 2024 1037 2428 102\n"
          ]
        },
        {
          "output_type": "stream",
          "name": "stdout",
          "text": [
            "INFO:tensorflow:input_mask: 1 1 1 1 1 1 1 1 1 1 1 1 1 1 1 1 1 1 1 1 1 1 1 1 1 1 1 1 1 1 1 1 1 1 1 1 1 1 1 1 1 1 1 1 1 1 1 1 1 1 1 1 1 1 1 1 1 1 1 1 1 1 1 1 1 1 1 1 1 1 1 1 1 1 1 1 1 1 1 1 1 1 1 1 1 1 1 1 1 1 1 1 1 1 1 1 1 1 1 1 1 1 1 1 1 1 1 1 1 1 1 1 1 1 1 1 1 1 1 1 1 1 1 1 1\n"
          ]
        },
        {
          "output_type": "stream",
          "name": "stderr",
          "text": [
            "INFO:tensorflow:input_mask: 1 1 1 1 1 1 1 1 1 1 1 1 1 1 1 1 1 1 1 1 1 1 1 1 1 1 1 1 1 1 1 1 1 1 1 1 1 1 1 1 1 1 1 1 1 1 1 1 1 1 1 1 1 1 1 1 1 1 1 1 1 1 1 1 1 1 1 1 1 1 1 1 1 1 1 1 1 1 1 1 1 1 1 1 1 1 1 1 1 1 1 1 1 1 1 1 1 1 1 1 1 1 1 1 1 1 1 1 1 1 1 1 1 1 1 1 1 1 1 1 1 1 1 1 1\n"
          ]
        },
        {
          "output_type": "stream",
          "name": "stdout",
          "text": [
            "INFO:tensorflow:segment_ids: 0 0 0 0 0 0 0 0 0 0 0 0 0 0 0 0 0 0 0 0 0 0 0 0 0 0 0 0 0 0 0 0 0 0 0 0 0 0 0 0 0 0 0 0 0 0 0 0 0 0 0 0 0 0 0 0 0 0 0 0 0 0 0 0 0 0 0 0 0 0 0 0 0 0 0 0 0 0 0 0 0 0 0 0 0 0 0 0 0 0 0 0 0 0 0 0 0 0 0 0 0 0 0 0 0 0 0 0 0 0 0 0 0 0 0 0 0 0 0 0 0 0 0 0 0\n"
          ]
        },
        {
          "output_type": "stream",
          "name": "stderr",
          "text": [
            "INFO:tensorflow:segment_ids: 0 0 0 0 0 0 0 0 0 0 0 0 0 0 0 0 0 0 0 0 0 0 0 0 0 0 0 0 0 0 0 0 0 0 0 0 0 0 0 0 0 0 0 0 0 0 0 0 0 0 0 0 0 0 0 0 0 0 0 0 0 0 0 0 0 0 0 0 0 0 0 0 0 0 0 0 0 0 0 0 0 0 0 0 0 0 0 0 0 0 0 0 0 0 0 0 0 0 0 0 0 0 0 0 0 0 0 0 0 0 0 0 0 0 0 0 0 0 0 0 0 0 0 0 0\n"
          ]
        },
        {
          "output_type": "stream",
          "name": "stdout",
          "text": [
            "INFO:tensorflow:label: 3 (id = 3)\n"
          ]
        },
        {
          "output_type": "stream",
          "name": "stderr",
          "text": [
            "INFO:tensorflow:label: 3 (id = 3)\n"
          ]
        },
        {
          "output_type": "stream",
          "name": "stdout",
          "text": [
            "INFO:tensorflow:*** Example ***\n"
          ]
        },
        {
          "output_type": "stream",
          "name": "stderr",
          "text": [
            "INFO:tensorflow:*** Example ***\n"
          ]
        },
        {
          "output_type": "stream",
          "name": "stdout",
          "text": [
            "INFO:tensorflow:guid: None\n"
          ]
        },
        {
          "output_type": "stream",
          "name": "stderr",
          "text": [
            "INFO:tensorflow:guid: None\n"
          ]
        },
        {
          "output_type": "stream",
          "name": "stdout",
          "text": [
            "INFO:tensorflow:tokens: [CLS] see end note for star wars gloss ##ary and the man ##do ' a dictionary . ( see the end of the chapter for more notes . ) it had been a good day , until the stroke . actually , considering all that stroke led to , perhaps it was still a good day . luckily , the battle of the day had been almost done . cody had just handed his general back his lights ##abe ##r again , dryly commenting that general ken ##ob ##i shouldn ' t lose his \" life \" so often , playing on what he often told general sky ##walker about his own lights ##abe ##r . ken ##ob ##i had laughed . \" ah [SEP]\n"
          ]
        },
        {
          "output_type": "stream",
          "name": "stderr",
          "text": [
            "INFO:tensorflow:tokens: [CLS] see end note for star wars gloss ##ary and the man ##do ' a dictionary . ( see the end of the chapter for more notes . ) it had been a good day , until the stroke . actually , considering all that stroke led to , perhaps it was still a good day . luckily , the battle of the day had been almost done . cody had just handed his general back his lights ##abe ##r again , dryly commenting that general ken ##ob ##i shouldn ' t lose his \" life \" so often , playing on what he often told general sky ##walker about his own lights ##abe ##r . ken ##ob ##i had laughed . \" ah [SEP]\n"
          ]
        },
        {
          "output_type": "stream",
          "name": "stdout",
          "text": [
            "INFO:tensorflow:input_ids: 101 2156 2203 3602 2005 2732 5233 27068 5649 1998 1996 2158 3527 1005 1037 9206 1012 1006 2156 1996 2203 1997 1996 3127 2005 2062 3964 1012 1007 2009 2018 2042 1037 2204 2154 1010 2127 1996 6909 1012 2941 1010 6195 2035 2008 6909 2419 2000 1010 3383 2009 2001 2145 1037 2204 2154 1012 15798 1010 1996 2645 1997 1996 2154 2018 2042 2471 2589 1012 13326 2018 2074 4375 2010 2236 2067 2010 4597 16336 2099 2153 1010 20825 15591 2008 2236 6358 16429 2072 5807 1005 1056 4558 2010 1000 2166 1000 2061 2411 1010 2652 2006 2054 2002 2411 2409 2236 3712 26965 2055 2010 2219 4597 16336 2099 1012 6358 16429 2072 2018 4191 1012 1000 6289 102\n"
          ]
        },
        {
          "output_type": "stream",
          "name": "stderr",
          "text": [
            "INFO:tensorflow:input_ids: 101 2156 2203 3602 2005 2732 5233 27068 5649 1998 1996 2158 3527 1005 1037 9206 1012 1006 2156 1996 2203 1997 1996 3127 2005 2062 3964 1012 1007 2009 2018 2042 1037 2204 2154 1010 2127 1996 6909 1012 2941 1010 6195 2035 2008 6909 2419 2000 1010 3383 2009 2001 2145 1037 2204 2154 1012 15798 1010 1996 2645 1997 1996 2154 2018 2042 2471 2589 1012 13326 2018 2074 4375 2010 2236 2067 2010 4597 16336 2099 2153 1010 20825 15591 2008 2236 6358 16429 2072 5807 1005 1056 4558 2010 1000 2166 1000 2061 2411 1010 2652 2006 2054 2002 2411 2409 2236 3712 26965 2055 2010 2219 4597 16336 2099 1012 6358 16429 2072 2018 4191 1012 1000 6289 102\n"
          ]
        },
        {
          "output_type": "stream",
          "name": "stdout",
          "text": [
            "INFO:tensorflow:input_mask: 1 1 1 1 1 1 1 1 1 1 1 1 1 1 1 1 1 1 1 1 1 1 1 1 1 1 1 1 1 1 1 1 1 1 1 1 1 1 1 1 1 1 1 1 1 1 1 1 1 1 1 1 1 1 1 1 1 1 1 1 1 1 1 1 1 1 1 1 1 1 1 1 1 1 1 1 1 1 1 1 1 1 1 1 1 1 1 1 1 1 1 1 1 1 1 1 1 1 1 1 1 1 1 1 1 1 1 1 1 1 1 1 1 1 1 1 1 1 1 1 1 1 1 1 1\n"
          ]
        },
        {
          "output_type": "stream",
          "name": "stderr",
          "text": [
            "INFO:tensorflow:input_mask: 1 1 1 1 1 1 1 1 1 1 1 1 1 1 1 1 1 1 1 1 1 1 1 1 1 1 1 1 1 1 1 1 1 1 1 1 1 1 1 1 1 1 1 1 1 1 1 1 1 1 1 1 1 1 1 1 1 1 1 1 1 1 1 1 1 1 1 1 1 1 1 1 1 1 1 1 1 1 1 1 1 1 1 1 1 1 1 1 1 1 1 1 1 1 1 1 1 1 1 1 1 1 1 1 1 1 1 1 1 1 1 1 1 1 1 1 1 1 1 1 1 1 1 1 1\n"
          ]
        },
        {
          "output_type": "stream",
          "name": "stdout",
          "text": [
            "INFO:tensorflow:segment_ids: 0 0 0 0 0 0 0 0 0 0 0 0 0 0 0 0 0 0 0 0 0 0 0 0 0 0 0 0 0 0 0 0 0 0 0 0 0 0 0 0 0 0 0 0 0 0 0 0 0 0 0 0 0 0 0 0 0 0 0 0 0 0 0 0 0 0 0 0 0 0 0 0 0 0 0 0 0 0 0 0 0 0 0 0 0 0 0 0 0 0 0 0 0 0 0 0 0 0 0 0 0 0 0 0 0 0 0 0 0 0 0 0 0 0 0 0 0 0 0 0 0 0 0 0 0\n"
          ]
        },
        {
          "output_type": "stream",
          "name": "stderr",
          "text": [
            "INFO:tensorflow:segment_ids: 0 0 0 0 0 0 0 0 0 0 0 0 0 0 0 0 0 0 0 0 0 0 0 0 0 0 0 0 0 0 0 0 0 0 0 0 0 0 0 0 0 0 0 0 0 0 0 0 0 0 0 0 0 0 0 0 0 0 0 0 0 0 0 0 0 0 0 0 0 0 0 0 0 0 0 0 0 0 0 0 0 0 0 0 0 0 0 0 0 0 0 0 0 0 0 0 0 0 0 0 0 0 0 0 0 0 0 0 0 0 0 0 0 0 0 0 0 0 0 0 0 0 0 0 0\n"
          ]
        },
        {
          "output_type": "stream",
          "name": "stdout",
          "text": [
            "INFO:tensorflow:label: 1 (id = 1)\n"
          ]
        },
        {
          "output_type": "stream",
          "name": "stderr",
          "text": [
            "INFO:tensorflow:label: 1 (id = 1)\n"
          ]
        },
        {
          "output_type": "stream",
          "name": "stdout",
          "text": [
            "INFO:tensorflow:*** Example ***\n"
          ]
        },
        {
          "output_type": "stream",
          "name": "stderr",
          "text": [
            "INFO:tensorflow:*** Example ***\n"
          ]
        },
        {
          "output_type": "stream",
          "name": "stdout",
          "text": [
            "INFO:tensorflow:guid: None\n"
          ]
        },
        {
          "output_type": "stream",
          "name": "stderr",
          "text": [
            "INFO:tensorflow:guid: None\n"
          ]
        },
        {
          "output_type": "stream",
          "name": "stdout",
          "text": [
            "INFO:tensorflow:tokens: [CLS] ( see the end of the chapter for notes . ) she hated it . . . she hated everything her family stood for . . . it was only her tenth attempt at today ' s dance , another one of their intensive tutor ##ing sessions and yet she made an outburst . she only saw how her tutor looked at her with disdain , like she was worse than the foul ##est smelling trash in all of the land . she only felt her stomach drop , the pit forming in swirl ##s in her gut as she realized what she had done . the echoing silence rang in her ears as everyone in the ballroom looked at her not in [SEP]\n"
          ]
        },
        {
          "output_type": "stream",
          "name": "stderr",
          "text": [
            "INFO:tensorflow:tokens: [CLS] ( see the end of the chapter for notes . ) she hated it . . . she hated everything her family stood for . . . it was only her tenth attempt at today ' s dance , another one of their intensive tutor ##ing sessions and yet she made an outburst . she only saw how her tutor looked at her with disdain , like she was worse than the foul ##est smelling trash in all of the land . she only felt her stomach drop , the pit forming in swirl ##s in her gut as she realized what she had done . the echoing silence rang in her ears as everyone in the ballroom looked at her not in [SEP]\n"
          ]
        },
        {
          "output_type": "stream",
          "name": "stdout",
          "text": [
            "INFO:tensorflow:input_ids: 101 1006 2156 1996 2203 1997 1996 3127 2005 3964 1012 1007 2016 6283 2009 1012 1012 1012 2016 6283 2673 2014 2155 2768 2005 1012 1012 1012 2009 2001 2069 2014 7891 3535 2012 2651 1005 1055 3153 1010 2178 2028 1997 2037 11806 14924 2075 6521 1998 2664 2016 2081 2019 27719 1012 2016 2069 2387 2129 2014 14924 2246 2012 2014 2007 25134 1010 2066 2016 2001 4788 2084 1996 12487 4355 19773 11669 1999 2035 1997 1996 2455 1012 2016 2069 2371 2014 4308 4530 1010 1996 6770 5716 1999 28693 2015 1999 2014 9535 2004 2016 3651 2054 2016 2018 2589 1012 1996 17142 4223 8369 1999 2014 5551 2004 3071 1999 1996 14307 2246 2012 2014 2025 1999 102\n"
          ]
        },
        {
          "output_type": "stream",
          "name": "stderr",
          "text": [
            "INFO:tensorflow:input_ids: 101 1006 2156 1996 2203 1997 1996 3127 2005 3964 1012 1007 2016 6283 2009 1012 1012 1012 2016 6283 2673 2014 2155 2768 2005 1012 1012 1012 2009 2001 2069 2014 7891 3535 2012 2651 1005 1055 3153 1010 2178 2028 1997 2037 11806 14924 2075 6521 1998 2664 2016 2081 2019 27719 1012 2016 2069 2387 2129 2014 14924 2246 2012 2014 2007 25134 1010 2066 2016 2001 4788 2084 1996 12487 4355 19773 11669 1999 2035 1997 1996 2455 1012 2016 2069 2371 2014 4308 4530 1010 1996 6770 5716 1999 28693 2015 1999 2014 9535 2004 2016 3651 2054 2016 2018 2589 1012 1996 17142 4223 8369 1999 2014 5551 2004 3071 1999 1996 14307 2246 2012 2014 2025 1999 102\n"
          ]
        },
        {
          "output_type": "stream",
          "name": "stdout",
          "text": [
            "INFO:tensorflow:input_mask: 1 1 1 1 1 1 1 1 1 1 1 1 1 1 1 1 1 1 1 1 1 1 1 1 1 1 1 1 1 1 1 1 1 1 1 1 1 1 1 1 1 1 1 1 1 1 1 1 1 1 1 1 1 1 1 1 1 1 1 1 1 1 1 1 1 1 1 1 1 1 1 1 1 1 1 1 1 1 1 1 1 1 1 1 1 1 1 1 1 1 1 1 1 1 1 1 1 1 1 1 1 1 1 1 1 1 1 1 1 1 1 1 1 1 1 1 1 1 1 1 1 1 1 1 1\n"
          ]
        },
        {
          "output_type": "stream",
          "name": "stderr",
          "text": [
            "INFO:tensorflow:input_mask: 1 1 1 1 1 1 1 1 1 1 1 1 1 1 1 1 1 1 1 1 1 1 1 1 1 1 1 1 1 1 1 1 1 1 1 1 1 1 1 1 1 1 1 1 1 1 1 1 1 1 1 1 1 1 1 1 1 1 1 1 1 1 1 1 1 1 1 1 1 1 1 1 1 1 1 1 1 1 1 1 1 1 1 1 1 1 1 1 1 1 1 1 1 1 1 1 1 1 1 1 1 1 1 1 1 1 1 1 1 1 1 1 1 1 1 1 1 1 1 1 1 1 1 1 1\n"
          ]
        },
        {
          "output_type": "stream",
          "name": "stdout",
          "text": [
            "INFO:tensorflow:segment_ids: 0 0 0 0 0 0 0 0 0 0 0 0 0 0 0 0 0 0 0 0 0 0 0 0 0 0 0 0 0 0 0 0 0 0 0 0 0 0 0 0 0 0 0 0 0 0 0 0 0 0 0 0 0 0 0 0 0 0 0 0 0 0 0 0 0 0 0 0 0 0 0 0 0 0 0 0 0 0 0 0 0 0 0 0 0 0 0 0 0 0 0 0 0 0 0 0 0 0 0 0 0 0 0 0 0 0 0 0 0 0 0 0 0 0 0 0 0 0 0 0 0 0 0 0 0\n"
          ]
        },
        {
          "output_type": "stream",
          "name": "stderr",
          "text": [
            "INFO:tensorflow:segment_ids: 0 0 0 0 0 0 0 0 0 0 0 0 0 0 0 0 0 0 0 0 0 0 0 0 0 0 0 0 0 0 0 0 0 0 0 0 0 0 0 0 0 0 0 0 0 0 0 0 0 0 0 0 0 0 0 0 0 0 0 0 0 0 0 0 0 0 0 0 0 0 0 0 0 0 0 0 0 0 0 0 0 0 0 0 0 0 0 0 0 0 0 0 0 0 0 0 0 0 0 0 0 0 0 0 0 0 0 0 0 0 0 0 0 0 0 0 0 0 0 0 0 0 0 0 0\n"
          ]
        },
        {
          "output_type": "stream",
          "name": "stdout",
          "text": [
            "INFO:tensorflow:label: 1 (id = 1)\n"
          ]
        },
        {
          "output_type": "stream",
          "name": "stderr",
          "text": [
            "INFO:tensorflow:label: 1 (id = 1)\n"
          ]
        },
        {
          "output_type": "stream",
          "name": "stdout",
          "text": [
            "INFO:tensorflow:*** Example ***\n"
          ]
        },
        {
          "output_type": "stream",
          "name": "stderr",
          "text": [
            "INFO:tensorflow:*** Example ***\n"
          ]
        },
        {
          "output_type": "stream",
          "name": "stdout",
          "text": [
            "INFO:tensorflow:guid: None\n"
          ]
        },
        {
          "output_type": "stream",
          "name": "stderr",
          "text": [
            "INFO:tensorflow:guid: None\n"
          ]
        },
        {
          "output_type": "stream",
          "name": "stdout",
          "text": [
            "INFO:tensorflow:tokens: [CLS] \" so , amy , have you thought about gr ##ad school again ? \" \" i ' m still not really sure about it , \" amy replied , sliding another drawer shut . \" the longer you wait , the harder it will be to get back into it , \" jane , amy ' s boss , said . it hadn ' t even been six months since amy graduated and she ' d heard that question more times than she can count . if she wanted to get anywhere in her field , she needed a graduate degree . she knew this for ages and no one let her forget it . \" i ' m just worried that [SEP]\n"
          ]
        },
        {
          "output_type": "stream",
          "name": "stderr",
          "text": [
            "INFO:tensorflow:tokens: [CLS] \" so , amy , have you thought about gr ##ad school again ? \" \" i ' m still not really sure about it , \" amy replied , sliding another drawer shut . \" the longer you wait , the harder it will be to get back into it , \" jane , amy ' s boss , said . it hadn ' t even been six months since amy graduated and she ' d heard that question more times than she can count . if she wanted to get anywhere in her field , she needed a graduate degree . she knew this for ages and no one let her forget it . \" i ' m just worried that [SEP]\n"
          ]
        },
        {
          "output_type": "stream",
          "name": "stdout",
          "text": [
            "INFO:tensorflow:input_ids: 101 1000 2061 1010 6864 1010 2031 2017 2245 2055 24665 4215 2082 2153 1029 1000 1000 1045 1005 1049 2145 2025 2428 2469 2055 2009 1010 1000 6864 3880 1010 8058 2178 13065 3844 1012 1000 1996 2936 2017 3524 1010 1996 6211 2009 2097 2022 2000 2131 2067 2046 2009 1010 1000 4869 1010 6864 1005 1055 5795 1010 2056 1012 2009 2910 1005 1056 2130 2042 2416 2706 2144 6864 3852 1998 2016 1005 1040 2657 2008 3160 2062 2335 2084 2016 2064 4175 1012 2065 2016 2359 2000 2131 5973 1999 2014 2492 1010 2016 2734 1037 4619 3014 1012 2016 2354 2023 2005 5535 1998 2053 2028 2292 2014 5293 2009 1012 1000 1045 1005 1049 2074 5191 2008 102\n"
          ]
        },
        {
          "output_type": "stream",
          "name": "stderr",
          "text": [
            "INFO:tensorflow:input_ids: 101 1000 2061 1010 6864 1010 2031 2017 2245 2055 24665 4215 2082 2153 1029 1000 1000 1045 1005 1049 2145 2025 2428 2469 2055 2009 1010 1000 6864 3880 1010 8058 2178 13065 3844 1012 1000 1996 2936 2017 3524 1010 1996 6211 2009 2097 2022 2000 2131 2067 2046 2009 1010 1000 4869 1010 6864 1005 1055 5795 1010 2056 1012 2009 2910 1005 1056 2130 2042 2416 2706 2144 6864 3852 1998 2016 1005 1040 2657 2008 3160 2062 2335 2084 2016 2064 4175 1012 2065 2016 2359 2000 2131 5973 1999 2014 2492 1010 2016 2734 1037 4619 3014 1012 2016 2354 2023 2005 5535 1998 2053 2028 2292 2014 5293 2009 1012 1000 1045 1005 1049 2074 5191 2008 102\n"
          ]
        },
        {
          "output_type": "stream",
          "name": "stdout",
          "text": [
            "INFO:tensorflow:input_mask: 1 1 1 1 1 1 1 1 1 1 1 1 1 1 1 1 1 1 1 1 1 1 1 1 1 1 1 1 1 1 1 1 1 1 1 1 1 1 1 1 1 1 1 1 1 1 1 1 1 1 1 1 1 1 1 1 1 1 1 1 1 1 1 1 1 1 1 1 1 1 1 1 1 1 1 1 1 1 1 1 1 1 1 1 1 1 1 1 1 1 1 1 1 1 1 1 1 1 1 1 1 1 1 1 1 1 1 1 1 1 1 1 1 1 1 1 1 1 1 1 1 1 1 1 1\n"
          ]
        },
        {
          "output_type": "stream",
          "name": "stderr",
          "text": [
            "INFO:tensorflow:input_mask: 1 1 1 1 1 1 1 1 1 1 1 1 1 1 1 1 1 1 1 1 1 1 1 1 1 1 1 1 1 1 1 1 1 1 1 1 1 1 1 1 1 1 1 1 1 1 1 1 1 1 1 1 1 1 1 1 1 1 1 1 1 1 1 1 1 1 1 1 1 1 1 1 1 1 1 1 1 1 1 1 1 1 1 1 1 1 1 1 1 1 1 1 1 1 1 1 1 1 1 1 1 1 1 1 1 1 1 1 1 1 1 1 1 1 1 1 1 1 1 1 1 1 1 1 1\n"
          ]
        },
        {
          "output_type": "stream",
          "name": "stdout",
          "text": [
            "INFO:tensorflow:segment_ids: 0 0 0 0 0 0 0 0 0 0 0 0 0 0 0 0 0 0 0 0 0 0 0 0 0 0 0 0 0 0 0 0 0 0 0 0 0 0 0 0 0 0 0 0 0 0 0 0 0 0 0 0 0 0 0 0 0 0 0 0 0 0 0 0 0 0 0 0 0 0 0 0 0 0 0 0 0 0 0 0 0 0 0 0 0 0 0 0 0 0 0 0 0 0 0 0 0 0 0 0 0 0 0 0 0 0 0 0 0 0 0 0 0 0 0 0 0 0 0 0 0 0 0 0 0\n"
          ]
        },
        {
          "output_type": "stream",
          "name": "stderr",
          "text": [
            "INFO:tensorflow:segment_ids: 0 0 0 0 0 0 0 0 0 0 0 0 0 0 0 0 0 0 0 0 0 0 0 0 0 0 0 0 0 0 0 0 0 0 0 0 0 0 0 0 0 0 0 0 0 0 0 0 0 0 0 0 0 0 0 0 0 0 0 0 0 0 0 0 0 0 0 0 0 0 0 0 0 0 0 0 0 0 0 0 0 0 0 0 0 0 0 0 0 0 0 0 0 0 0 0 0 0 0 0 0 0 0 0 0 0 0 0 0 0 0 0 0 0 0 0 0 0 0 0 0 0 0 0 0\n"
          ]
        },
        {
          "output_type": "stream",
          "name": "stdout",
          "text": [
            "INFO:tensorflow:label: 2 (id = 2)\n"
          ]
        },
        {
          "output_type": "stream",
          "name": "stderr",
          "text": [
            "INFO:tensorflow:label: 2 (id = 2)\n"
          ]
        }
      ]
    },
    {
      "cell_type": "code",
      "source": [
        "#Example on first observation in the training set\n",
        "print(\"Sentence : \", train_InputExamples.iloc[0].text_a)\n",
        "print(\"-\"*30)\n",
        "print(\"Tokens : \", tokenizer.tokenize(train_InputExamples.iloc[0].text_a))\n",
        "print(\"-\"*30)\n",
        "print(\"Input IDs : \", train_features[0].input_ids)\n",
        "print(\"-\"*30)\n",
        "print(\"Input Masks : \", train_features[0].input_mask)\n",
        "print(\"-\"*30)\n",
        "print(\"Segment IDs : \", train_features[0].segment_ids)"
      ],
      "metadata": {
        "colab": {
          "base_uri": "https://localhost:8080/"
        },
        "id": "JQrAodc6eIu1",
        "outputId": "2f6dfb35-a357-46da-ce93-8728fafb86c8"
      },
      "execution_count": null,
      "outputs": [
        {
          "output_type": "stream",
          "name": "stdout",
          "text": [
            "Sentence :  It wasn't supposed to be like this.   When asked why she wanted to fight for Skyrim, it made sense at the time to pick up a blade in the name of her Nordic ancestors. Born of prophecy, and with her mother's Nordic blood pounding in her veins, both sides expected her to choose one in hopes of ending the war sooner.   So she did. She pledged her life and soul to the cause. Because that was the way it had to be.   Because she was naive.  Nothing could have prepared her for the wicked imaginations of blood-thirsty men. All of the books in all the libraries of Nirn couldn't bestow enough knowledge to give her a clue as to what awaited her in the darkest parts of a man's mind.   Because the truth was, Irina had become arrogant. It was inevitable after a year of questing, fighting, and bleeding for the land in a successful endeavor to stop the dragon which threatened to devour the realm.   Her power flourished with every foe's defeat. Each dragon soul absorbed fed her pride, swelling her ego until it was self-confidence that made her decisions for her.   But all of her power and achievements would fall short, abandoning her in the twilight before a group of Imperial soldiers dawned on a Stormcloak camp whilst they slept.   Countless lives were lost that night. Irina's included, she eventually decided after the first round of Imperial punishment was doled.   When the second round finished, she was left with a sense of grim acceptance. An epiphany of knowledge that felt more real than the swollen flesh and broken bones she was made of. A tender truth which was more consequential than the information that slipped from her lips in a naive and desperate attempt to make the pain stop.   It cut deeper than the lashes thrust upon her back. Ached more than the loss of a precious virtue.   There was no give in the world. Not without some measure of taking. No victory could be earned, without an equally identifiable defeat. And there was nothing at all Irina, the last Dragonborn and soldier to Skyrim's cause, could say or do to change the fact that she was slowly dying.   The thick aroma of molding vomit hung in the air. Steel swords clashed in the distance, the sounds of men minding their training vibrated the stone floor which had long ago lost its coldness. The pile of straw she laid on might have been the finest silk on Nirn as her thoughts lost all sense of direction.   \"Shor's Bones...\"   Despite it all, her heart leaped to her throat at the gravelly tone of her superior's voice. A harsh dictation she likened to a victorious symphony of horns and she felt a wetness brewing behind her closed eyes.   \"Dragonborn... Gods above, those devils will pay for this.\"   As close as she was to the brink, his attempt to comfort her didn't go unnoticed. Neither did the warmth she felt surrounding her despite the chilling cold of Sovngarde dancing at the tips of her fingers and toes. A numbness she welcomed to spread wholeheartedly. Finally, her sweet release had come. Finally, her time on Nirn would be over.   \"Irina...\"   If she could find her lips, she would thank him for the blade he was about to shove into her resilient heart to stop its beating. If she could find her eyelids, she would open them one last time. She'd give anything to ascend to Aetherius with something besides the bastardly faces of Imperial officers stamped in her mind.   But she didn't have anything else to give. All that she had before was gone and nothing remained but the hopeful bliss of an ending. The euphoric numb spread quickly, enveloping her mind and dulling whatever else he might have said as she faded away.   There was no pain from his blade. She floated away from that cold, stone floor, wrapped in warmth and lulled into peace.  \n",
            "------------------------------\n",
            "Tokens :  ['it', 'wasn', \"'\", 't', 'supposed', 'to', 'be', 'like', 'this', '.', 'when', 'asked', 'why', 'she', 'wanted', 'to', 'fight', 'for', 'sky', '##rim', ',', 'it', 'made', 'sense', 'at', 'the', 'time', 'to', 'pick', 'up', 'a', 'blade', 'in', 'the', 'name', 'of', 'her', 'nordic', 'ancestors', '.', 'born', 'of', 'prophecy', ',', 'and', 'with', 'her', 'mother', \"'\", 's', 'nordic', 'blood', 'pounding', 'in', 'her', 'veins', ',', 'both', 'sides', 'expected', 'her', 'to', 'choose', 'one', 'in', 'hopes', 'of', 'ending', 'the', 'war', 'sooner', '.', 'so', 'she', 'did', '.', 'she', 'pledged', 'her', 'life', 'and', 'soul', 'to', 'the', 'cause', '.', 'because', 'that', 'was', 'the', 'way', 'it', 'had', 'to', 'be', '.', 'because', 'she', 'was', 'naive', '.', 'nothing', 'could', 'have', 'prepared', 'her', 'for', 'the', 'wicked', 'imagination', '##s', 'of', 'blood', '-', 'thirsty', 'men', '.', 'all', 'of', 'the', 'books', 'in', 'all', 'the', 'libraries', 'of', 'ni', '##rn', 'couldn', \"'\", 't', 'best', '##ow', 'enough', 'knowledge', 'to', 'give', 'her', 'a', 'clue', 'as', 'to', 'what', 'awaited', 'her', 'in', 'the', 'darkest', 'parts', 'of', 'a', 'man', \"'\", 's', 'mind', '.', 'because', 'the', 'truth', 'was', ',', 'irina', 'had', 'become', 'arrogant', '.', 'it', 'was', 'inevitable', 'after', 'a', 'year', 'of', 'quest', '##ing', ',', 'fighting', ',', 'and', 'bleeding', 'for', 'the', 'land', 'in', 'a', 'successful', 'endeavor', 'to', 'stop', 'the', 'dragon', 'which', 'threatened', 'to', 'dev', '##our', 'the', 'realm', '.', 'her', 'power', 'flourished', 'with', 'every', 'foe', \"'\", 's', 'defeat', '.', 'each', 'dragon', 'soul', 'absorbed', 'fed', 'her', 'pride', ',', 'swelling', 'her', 'ego', 'until', 'it', 'was', 'self', '-', 'confidence', 'that', 'made', 'her', 'decisions', 'for', 'her', '.', 'but', 'all', 'of', 'her', 'power', 'and', 'achievements', 'would', 'fall', 'short', ',', 'abandoning', 'her', 'in', 'the', 'twilight', 'before', 'a', 'group', 'of', 'imperial', 'soldiers', 'dawned', 'on', 'a', 'storm', '##cl', '##oa', '##k', 'camp', 'whilst', 'they', 'slept', '.', 'countless', 'lives', 'were', 'lost', 'that', 'night', '.', 'irina', \"'\", 's', 'included', ',', 'she', 'eventually', 'decided', 'after', 'the', 'first', 'round', 'of', 'imperial', 'punishment', 'was', 'do', '##led', '.', 'when', 'the', 'second', 'round', 'finished', ',', 'she', 'was', 'left', 'with', 'a', 'sense', 'of', 'grim', 'acceptance', '.', 'an', 'ep', '##ip', '##han', '##y', 'of', 'knowledge', 'that', 'felt', 'more', 'real', 'than', 'the', 'swollen', 'flesh', 'and', 'broken', 'bones', 'she', 'was', 'made', 'of', '.', 'a', 'tender', 'truth', 'which', 'was', 'more', 'con', '##se', '##quent', '##ial', 'than', 'the', 'information', 'that', 'slipped', 'from', 'her', 'lips', 'in', 'a', 'naive', 'and', 'desperate', 'attempt', 'to', 'make', 'the', 'pain', 'stop', '.', 'it', 'cut', 'deeper', 'than', 'the', 'lashes', 'thrust', 'upon', 'her', 'back', '.', 'ached', 'more', 'than', 'the', 'loss', 'of', 'a', 'precious', 'virtue', '.', 'there', 'was', 'no', 'give', 'in', 'the', 'world', '.', 'not', 'without', 'some', 'measure', 'of', 'taking', '.', 'no', 'victory', 'could', 'be', 'earned', ',', 'without', 'an', 'equally', 'identifiable', 'defeat', '.', 'and', 'there', 'was', 'nothing', 'at', 'all', 'irina', ',', 'the', 'last', 'dragon', '##born', 'and', 'soldier', 'to', 'sky', '##rim', \"'\", 's', 'cause', ',', 'could', 'say', 'or', 'do', 'to', 'change', 'the', 'fact', 'that', 'she', 'was', 'slowly', 'dying', '.', 'the', 'thick', 'aroma', 'of', 'mold', '##ing', 'vomit', 'hung', 'in', 'the', 'air', '.', 'steel', 'swords', 'clashed', 'in', 'the', 'distance', ',', 'the', 'sounds', 'of', 'men', 'mind', '##ing', 'their', 'training', 'vibrated', 'the', 'stone', 'floor', 'which', 'had', 'long', 'ago', 'lost', 'its', 'cold', '##ness', '.', 'the', 'pile', 'of', 'straw', 'she', 'laid', 'on', 'might', 'have', 'been', 'the', 'finest', 'silk', 'on', 'ni', '##rn', 'as', 'her', 'thoughts', 'lost', 'all', 'sense', 'of', 'direction', '.', '\"', 'sho', '##r', \"'\", 's', 'bones', '.', '.', '.', '\"', 'despite', 'it', 'all', ',', 'her', 'heart', 'leaped', 'to', 'her', 'throat', 'at', 'the', 'gravel', '##ly', 'tone', 'of', 'her', 'superior', \"'\", 's', 'voice', '.', 'a', 'harsh', 'di', '##cta', '##tion', 'she', 'likened', 'to', 'a', 'victorious', 'symphony', 'of', 'horns', 'and', 'she', 'felt', 'a', 'wet', '##ness', 'brewing', 'behind', 'her', 'closed', 'eyes', '.', '\"', 'dragon', '##born', '.', '.', '.', 'gods', 'above', ',', 'those', 'devils', 'will', 'pay', 'for', 'this', '.', '\"', 'as', 'close', 'as', 'she', 'was', 'to', 'the', 'brink', ',', 'his', 'attempt', 'to', 'comfort', 'her', 'didn', \"'\", 't', 'go', 'unnoticed', '.', 'neither', 'did', 'the', 'warmth', 'she', 'felt', 'surrounding', 'her', 'despite', 'the', 'chilling', 'cold', 'of', 'so', '##vn', '##gard', '##e', 'dancing', 'at', 'the', 'tips', 'of', 'her', 'fingers', 'and', 'toes', '.', 'a', 'numb', '##ness', 'she', 'welcomed', 'to', 'spread', 'whole', '##hearted', '##ly', '.', 'finally', ',', 'her', 'sweet', 'release', 'had', 'come', '.', 'finally', ',', 'her', 'time', 'on', 'ni', '##rn', 'would', 'be', 'over', '.', '\"', 'irina', '.', '.', '.', '\"', 'if', 'she', 'could', 'find', 'her', 'lips', ',', 'she', 'would', 'thank', 'him', 'for', 'the', 'blade', 'he', 'was', 'about', 'to', 'shove', 'into', 'her', 'res', '##ili', '##ent', 'heart', 'to', 'stop', 'its', 'beating', '.', 'if', 'she', 'could', 'find', 'her', 'eyelids', ',', 'she', 'would', 'open', 'them', 'one', 'last', 'time', '.', 'she', \"'\", 'd', 'give', 'anything', 'to', 'as', '##cend', 'to', 'ae', '##ther', '##ius', 'with', 'something', 'besides', 'the', 'bastard', '##ly', 'faces', 'of', 'imperial', 'officers', 'stamped', 'in', 'her', 'mind', '.', 'but', 'she', 'didn', \"'\", 't', 'have', 'anything', 'else', 'to', 'give', '.', 'all', 'that', 'she', 'had', 'before', 'was', 'gone', 'and', 'nothing', 'remained', 'but', 'the', 'hopeful', 'bliss', 'of', 'an', 'ending', '.', 'the', 'eu', '##ph', '##oric', 'numb', 'spread', 'quickly', ',', 'en', '##vel', '##oping', 'her', 'mind', 'and', 'dull', '##ing', 'whatever', 'else', 'he', 'might', 'have', 'said', 'as', 'she', 'faded', 'away', '.', 'there', 'was', 'no', 'pain', 'from', 'his', 'blade', '.', 'she', 'floated', 'away', 'from', 'that', 'cold', ',', 'stone', 'floor', ',', 'wrapped', 'in', 'warmth', 'and', 'lu', '##lled', 'into', 'peace', '.']\n",
            "------------------------------\n",
            "Input IDs :  [101, 2009, 2347, 1005, 1056, 4011, 2000, 2022, 2066, 2023, 1012, 2043, 2356, 2339, 2016, 2359, 2000, 2954, 2005, 3712, 20026, 1010, 2009, 2081, 3168, 2012, 1996, 2051, 2000, 4060, 2039, 1037, 6085, 1999, 1996, 2171, 1997, 2014, 13649, 10748, 1012, 2141, 1997, 14951, 1010, 1998, 2007, 2014, 2388, 1005, 1055, 13649, 2668, 9836, 1999, 2014, 9607, 1010, 2119, 3903, 3517, 2014, 2000, 5454, 2028, 1999, 8069, 1997, 4566, 1996, 2162, 10076, 1012, 2061, 2016, 2106, 1012, 2016, 16970, 2014, 2166, 1998, 3969, 2000, 1996, 3426, 1012, 2138, 2008, 2001, 1996, 2126, 2009, 2018, 2000, 2022, 1012, 2138, 2016, 2001, 15743, 1012, 2498, 2071, 2031, 4810, 2014, 2005, 1996, 10433, 9647, 2015, 1997, 2668, 1011, 24907, 2273, 1012, 2035, 1997, 1996, 2808, 1999, 2035, 102]\n",
            "------------------------------\n",
            "Input Masks :  [1, 1, 1, 1, 1, 1, 1, 1, 1, 1, 1, 1, 1, 1, 1, 1, 1, 1, 1, 1, 1, 1, 1, 1, 1, 1, 1, 1, 1, 1, 1, 1, 1, 1, 1, 1, 1, 1, 1, 1, 1, 1, 1, 1, 1, 1, 1, 1, 1, 1, 1, 1, 1, 1, 1, 1, 1, 1, 1, 1, 1, 1, 1, 1, 1, 1, 1, 1, 1, 1, 1, 1, 1, 1, 1, 1, 1, 1, 1, 1, 1, 1, 1, 1, 1, 1, 1, 1, 1, 1, 1, 1, 1, 1, 1, 1, 1, 1, 1, 1, 1, 1, 1, 1, 1, 1, 1, 1, 1, 1, 1, 1, 1, 1, 1, 1, 1, 1, 1, 1, 1, 1, 1, 1, 1]\n",
            "------------------------------\n",
            "Segment IDs :  [0, 0, 0, 0, 0, 0, 0, 0, 0, 0, 0, 0, 0, 0, 0, 0, 0, 0, 0, 0, 0, 0, 0, 0, 0, 0, 0, 0, 0, 0, 0, 0, 0, 0, 0, 0, 0, 0, 0, 0, 0, 0, 0, 0, 0, 0, 0, 0, 0, 0, 0, 0, 0, 0, 0, 0, 0, 0, 0, 0, 0, 0, 0, 0, 0, 0, 0, 0, 0, 0, 0, 0, 0, 0, 0, 0, 0, 0, 0, 0, 0, 0, 0, 0, 0, 0, 0, 0, 0, 0, 0, 0, 0, 0, 0, 0, 0, 0, 0, 0, 0, 0, 0, 0, 0, 0, 0, 0, 0, 0, 0, 0, 0, 0, 0, 0, 0, 0, 0, 0, 0, 0, 0, 0, 0]\n"
          ]
        }
      ]
    },
    {
      "cell_type": "markdown",
      "source": [
        "Creating A Multi-Class Classifier Model"
      ],
      "metadata": {
        "id": "44DX29IueMhM"
      }
    },
    {
      "cell_type": "code",
      "source": [
        "def create_model(is_predicting, input_ids, input_mask, segment_ids, labels,\n",
        "                 num_labels):\n",
        "  \n",
        "  bert_module = hub.Module(\n",
        "      BERT_MODEL_HUB,\n",
        "      trainable=True)\n",
        "  bert_inputs = dict(\n",
        "      input_ids=input_ids,\n",
        "      input_mask=input_mask,\n",
        "      segment_ids=segment_ids)\n",
        "  bert_outputs = bert_module(\n",
        "      inputs=bert_inputs,\n",
        "      signature=\"tokens\",\n",
        "      as_dict=True)\n",
        "\n",
        "  # Use \"pooled_output\" for classification tasks on an entire sentence.\n",
        "  # Use \"sequence_outputs\" for token-level output.\n",
        "  output_layer = bert_outputs[\"pooled_output\"]\n",
        "\n",
        "  hidden_size = output_layer.shape[-1].value\n",
        "\n",
        "  # Create our own layer to tune for politeness data.\n",
        "  output_weights = tf.get_variable(\n",
        "      \"output_weights\", [num_labels, hidden_size],\n",
        "      initializer=tf.truncated_normal_initializer(stddev=0.02))\n",
        "\n",
        "  output_bias = tf.get_variable(\n",
        "      \"output_bias\", [num_labels], initializer=tf.zeros_initializer())\n",
        "\n",
        "  with tf.variable_scope(\"loss\"):\n",
        "\n",
        "    # Dropout helps prevent overfitting\n",
        "    output_layer = tf.nn.dropout(output_layer, keep_prob=0.9)\n",
        "\n",
        "    logits = tf.matmul(output_layer, output_weights, transpose_b=True)\n",
        "    logits = tf.nn.bias_add(logits, output_bias)\n",
        "    log_probs = tf.nn.log_softmax(logits, axis=-1)\n",
        "\n",
        "    # Convert labels into one-hot encoding\n",
        "    one_hot_labels = tf.one_hot(labels, depth=num_labels, dtype=tf.float32)\n",
        "\n",
        "    predicted_labels = tf.squeeze(tf.argmax(log_probs, axis=-1, output_type=tf.int32))\n",
        "    # If we're predicting, we want predicted labels and the probabiltiies.\n",
        "    if is_predicting:\n",
        "      return (predicted_labels, log_probs)\n",
        "\n",
        "    # If we're train/eval, compute loss between predicted and actual label\n",
        "    per_example_loss = -tf.reduce_sum(one_hot_labels * log_probs, axis=-1)\n",
        "    loss = tf.reduce_mean(per_example_loss)\n",
        "    return (loss, predicted_labels, log_probs)"
      ],
      "metadata": {
        "id": "ForyRzfMeLNZ"
      },
      "execution_count": null,
      "outputs": []
    },
    {
      "cell_type": "code",
      "source": [
        "#A function that adapts our model to work for training, evaluation, and prediction.\n",
        "\n",
        "# model_fn_builder actually creates our model function\n",
        "# using the passed parameters for num_labels, learning_rate, etc.\n",
        "def model_fn_builder(num_labels, learning_rate, num_train_steps,\n",
        "                     num_warmup_steps):\n",
        "  \"\"\"Returns `model_fn` closure for TPUEstimator.\"\"\"\n",
        "  def model_fn(features, labels, mode, params):  # pylint: disable=unused-argument\n",
        "    \"\"\"The `model_fn` for TPUEstimator.\"\"\"\n",
        "\n",
        "    input_ids = features[\"input_ids\"]\n",
        "    input_mask = features[\"input_mask\"]\n",
        "    segment_ids = features[\"segment_ids\"]\n",
        "    label_ids = features[\"label_ids\"]\n",
        "\n",
        "    is_predicting = (mode == tf.estimator.ModeKeys.PREDICT)\n",
        "    \n",
        "    # TRAIN and EVAL\n",
        "    if not is_predicting:\n",
        "\n",
        "      (loss, predicted_labels, log_probs) = create_model(\n",
        "        is_predicting, input_ids, input_mask, segment_ids, label_ids, num_labels)\n",
        "\n",
        "      train_op = bert.optimization.create_optimizer(\n",
        "          loss, learning_rate, num_train_steps, num_warmup_steps, use_tpu=False)\n",
        "\n",
        "      # Calculate evaluation metrics. \n",
        "      def metric_fn(label_ids, predicted_labels):\n",
        "        accuracy = tf.metrics.accuracy(label_ids, predicted_labels)\n",
        "        true_pos = tf.metrics.true_positives(\n",
        "            label_ids,\n",
        "            predicted_labels)\n",
        "        true_neg = tf.metrics.true_negatives(\n",
        "            label_ids,\n",
        "            predicted_labels)   \n",
        "        false_pos = tf.metrics.false_positives(\n",
        "            label_ids,\n",
        "            predicted_labels)  \n",
        "        false_neg = tf.metrics.false_negatives(\n",
        "            label_ids,\n",
        "            predicted_labels)\n",
        "        \n",
        "        return {\n",
        "            \"eval_accuracy\": accuracy,\n",
        "            \"true_positives\": true_pos,\n",
        "            \"true_negatives\": true_neg,\n",
        "            \"false_positives\": false_pos,\n",
        "            \"false_negatives\": false_neg\n",
        "            }\n",
        "\n",
        "      eval_metrics = metric_fn(label_ids, predicted_labels)\n",
        "\n",
        "      if mode == tf.estimator.ModeKeys.TRAIN:\n",
        "        return tf.estimator.EstimatorSpec(mode=mode,\n",
        "          loss=loss,\n",
        "          train_op=train_op)\n",
        "      else:\n",
        "          return tf.estimator.EstimatorSpec(mode=mode,\n",
        "            loss=loss,\n",
        "            eval_metric_ops=eval_metrics)\n",
        "    else:\n",
        "      (predicted_labels, log_probs) = create_model(\n",
        "        is_predicting, input_ids, input_mask, segment_ids, label_ids, num_labels)\n",
        "\n",
        "      predictions = {\n",
        "          'probabilities': log_probs,\n",
        "          'labels': predicted_labels\n",
        "      }\n",
        "      return tf.estimator.EstimatorSpec(mode, predictions=predictions)\n",
        "\n",
        "  # Return the actual model function in the closure\n",
        "  return model_fn"
      ],
      "metadata": {
        "id": "1NRyGZ38ePM2"
      },
      "execution_count": null,
      "outputs": []
    },
    {
      "cell_type": "code",
      "source": [
        "# Compute train and warmup steps from batch size\n",
        "# These hyperparameters are copied from this colab notebook (https://colab.sandbox.google.com/github/tensorflow/tpu/blob/master/tools/colab/bert_finetuning_with_cloud_tpus.ipynb)\n",
        "BATCH_SIZE = 32\n",
        "LEARNING_RATE = 2e-5\n",
        "# LEARNING_RATE = 1e-5\n",
        "NUM_TRAIN_EPOCHS = 3.0\n",
        "# Warmup is a period of time where the learning rate is small and gradually increases--usually helps training.\n",
        "WARMUP_PROPORTION = 0.1\n",
        "# Model configs\n",
        "SAVE_CHECKPOINTS_STEPS = 300\n",
        "SAVE_SUMMARY_STEPS = 100\n",
        "\n",
        "# Compute train and warmup steps from batch size\n",
        "num_train_steps = int(len(train_features) / BATCH_SIZE * NUM_TRAIN_EPOCHS)\n",
        "num_warmup_steps = int(num_train_steps * WARMUP_PROPORTION)\n",
        "\n",
        "# Specify output directory and number of checkpoint steps to save\n",
        "run_config = tf.estimator.RunConfig(\n",
        "    model_dir=OUTPUT_DIR,\n",
        "    save_summary_steps=SAVE_SUMMARY_STEPS,\n",
        "    save_checkpoints_steps=SAVE_CHECKPOINTS_STEPS)\n",
        "\n",
        "# Specify output directory and number of checkpoint steps to save\n",
        "run_config = tf.estimator.RunConfig(\n",
        "    model_dir=OUTPUT_DIR,\n",
        "    save_summary_steps=SAVE_SUMMARY_STEPS,\n",
        "    save_checkpoints_steps=SAVE_CHECKPOINTS_STEPS)"
      ],
      "metadata": {
        "id": "YcCfHDb5eROF"
      },
      "execution_count": null,
      "outputs": []
    },
    {
      "cell_type": "code",
      "source": [
        "#Initializing the model and the estimator\n",
        "model_fn = model_fn_builder(\n",
        "  num_labels=len(label_list),\n",
        "  learning_rate=LEARNING_RATE,\n",
        "  num_train_steps=num_train_steps,\n",
        "  num_warmup_steps=num_warmup_steps)\n",
        "\n",
        "estimator = tf.estimator.Estimator(\n",
        "  model_fn=model_fn,\n",
        "  config=run_config,\n",
        "  params={\"batch_size\": BATCH_SIZE})"
      ],
      "metadata": {
        "colab": {
          "base_uri": "https://localhost:8080/"
        },
        "id": "vhaulP7CeUUA",
        "outputId": "9a859f09-fee2-4a09-e340-10b99baada03"
      },
      "execution_count": null,
      "outputs": [
        {
          "output_type": "stream",
          "name": "stdout",
          "text": [
            "INFO:tensorflow:Using config: {'_model_dir': '/GD/My Drive/Colab Notebooks/BERT/bert_rating_category', '_tf_random_seed': None, '_save_summary_steps': 100, '_save_checkpoints_steps': 300, '_save_checkpoints_secs': None, '_session_config': allow_soft_placement: true\n",
            "graph_options {\n",
            "  rewrite_options {\n",
            "    meta_optimizer_iterations: ONE\n",
            "  }\n",
            "}\n",
            ", '_keep_checkpoint_max': 5, '_keep_checkpoint_every_n_hours': 10000, '_log_step_count_steps': 100, '_train_distribute': None, '_device_fn': None, '_protocol': None, '_eval_distribute': None, '_experimental_distribute': None, '_experimental_max_worker_delay_secs': None, '_session_creation_timeout_secs': 7200, '_service': None, '_cluster_spec': <tensorflow.python.training.server_lib.ClusterSpec object at 0x7fb3d01a35d0>, '_task_type': 'worker', '_task_id': 0, '_global_id_in_cluster': 0, '_master': '', '_evaluation_master': '', '_is_chief': True, '_num_ps_replicas': 0, '_num_worker_replicas': 1}\n"
          ]
        },
        {
          "output_type": "stream",
          "name": "stderr",
          "text": [
            "INFO:tensorflow:Using config: {'_model_dir': '/GD/My Drive/Colab Notebooks/BERT/bert_rating_category', '_tf_random_seed': None, '_save_summary_steps': 100, '_save_checkpoints_steps': 300, '_save_checkpoints_secs': None, '_session_config': allow_soft_placement: true\n",
            "graph_options {\n",
            "  rewrite_options {\n",
            "    meta_optimizer_iterations: ONE\n",
            "  }\n",
            "}\n",
            ", '_keep_checkpoint_max': 5, '_keep_checkpoint_every_n_hours': 10000, '_log_step_count_steps': 100, '_train_distribute': None, '_device_fn': None, '_protocol': None, '_eval_distribute': None, '_experimental_distribute': None, '_experimental_max_worker_delay_secs': None, '_session_creation_timeout_secs': 7200, '_service': None, '_cluster_spec': <tensorflow.python.training.server_lib.ClusterSpec object at 0x7fb3d01a35d0>, '_task_type': 'worker', '_task_id': 0, '_global_id_in_cluster': 0, '_master': '', '_evaluation_master': '', '_is_chief': True, '_num_ps_replicas': 0, '_num_worker_replicas': 1}\n"
          ]
        }
      ]
    },
    {
      "cell_type": "markdown",
      "source": [
        "we will now create an input builder function that takes our training feature set (train_features) and produces a generator. This is a pretty standard design pattern for working with Tensorflow Estimators."
      ],
      "metadata": {
        "id": "7RD3EZwFeXMD"
      }
    },
    {
      "cell_type": "code",
      "source": [
        "# Create an input function for training. drop_remainder = True for using TPUs.\n",
        "train_input_fn = bert.run_classifier.input_fn_builder(\n",
        "    features=train_features,\n",
        "    seq_length=MAX_SEQ_LENGTH,\n",
        "    is_training=True,\n",
        "    drop_remainder=False)\n",
        "\n",
        "# Create an input function for validating. drop_remainder = True for using TPUs.\n",
        "val_input_fn = run_classifier.input_fn_builder(\n",
        "    features=val_features,\n",
        "    seq_length=MAX_SEQ_LENGTH,\n",
        "    is_training=False,\n",
        "    drop_remainder=False)"
      ],
      "metadata": {
        "id": "xKfJlxjBefrg"
      },
      "execution_count": null,
      "outputs": []
    },
    {
      "cell_type": "code",
      "source": [
        "#Training the model\n",
        "print(f'Beginning Training!')\n",
        "current_time = datetime.now()\n",
        "estimator.train(input_fn=train_input_fn, max_steps=num_train_steps)\n",
        "print(\"Training took time \", datetime.now() - current_time)"
      ],
      "metadata": {
        "colab": {
          "base_uri": "https://localhost:8080/"
        },
        "id": "_gv7UQ6Oegqi",
        "outputId": "dfe66642-4830-4154-f7c7-edaa0f26d8b7"
      },
      "execution_count": null,
      "outputs": [
        {
          "output_type": "stream",
          "name": "stdout",
          "text": [
            "Beginning Training!\n",
            "INFO:tensorflow:Skipping training since max_steps has already saved.\n"
          ]
        },
        {
          "output_type": "stream",
          "name": "stderr",
          "text": [
            "INFO:tensorflow:Skipping training since max_steps has already saved.\n"
          ]
        },
        {
          "output_type": "stream",
          "name": "stdout",
          "text": [
            "Training took time  0:00:02.916424\n"
          ]
        }
      ]
    },
    {
      "cell_type": "code",
      "source": [
        "#Evaluating the model with Validation set\n",
        "estimator.evaluate(input_fn=val_input_fn, steps=None)"
      ],
      "metadata": {
        "id": "-0kB1g6ee0O3",
        "colab": {
          "base_uri": "https://localhost:8080/"
        },
        "outputId": "bf792ee3-5764-439a-be8e-6582c9729a76"
      },
      "execution_count": null,
      "outputs": [
        {
          "output_type": "stream",
          "name": "stdout",
          "text": [
            "INFO:tensorflow:Calling model_fn.\n"
          ]
        },
        {
          "output_type": "stream",
          "name": "stderr",
          "text": [
            "INFO:tensorflow:Calling model_fn.\n"
          ]
        },
        {
          "output_type": "stream",
          "name": "stdout",
          "text": [
            "INFO:tensorflow:Saver not created because there are no variables in the graph to restore\n"
          ]
        },
        {
          "output_type": "stream",
          "name": "stderr",
          "text": [
            "INFO:tensorflow:Saver not created because there are no variables in the graph to restore\n"
          ]
        },
        {
          "output_type": "stream",
          "name": "stdout",
          "text": [
            "WARNING:tensorflow:From <ipython-input-33-bdfb628bf45b>:33: calling dropout (from tensorflow.python.ops.nn_ops) with keep_prob is deprecated and will be removed in a future version.\n",
            "Instructions for updating:\n",
            "Please use `rate` instead of `keep_prob`. Rate should be set to `rate = 1 - keep_prob`.\n"
          ]
        },
        {
          "output_type": "stream",
          "name": "stderr",
          "text": [
            "WARNING:tensorflow:From <ipython-input-33-bdfb628bf45b>:33: calling dropout (from tensorflow.python.ops.nn_ops) with keep_prob is deprecated and will be removed in a future version.\n",
            "Instructions for updating:\n",
            "Please use `rate` instead of `keep_prob`. Rate should be set to `rate = 1 - keep_prob`.\n"
          ]
        },
        {
          "output_type": "stream",
          "name": "stdout",
          "text": [
            "WARNING:tensorflow:From /usr/local/lib/python3.7/dist-packages/bert/optimization.py:27: The name tf.train.get_or_create_global_step is deprecated. Please use tf.compat.v1.train.get_or_create_global_step instead.\n",
            "\n"
          ]
        },
        {
          "output_type": "stream",
          "name": "stderr",
          "text": [
            "WARNING:tensorflow:From /usr/local/lib/python3.7/dist-packages/bert/optimization.py:27: The name tf.train.get_or_create_global_step is deprecated. Please use tf.compat.v1.train.get_or_create_global_step instead.\n",
            "\n"
          ]
        },
        {
          "output_type": "stream",
          "name": "stdout",
          "text": [
            "WARNING:tensorflow:From /usr/local/lib/python3.7/dist-packages/bert/optimization.py:32: The name tf.train.polynomial_decay is deprecated. Please use tf.compat.v1.train.polynomial_decay instead.\n",
            "\n"
          ]
        },
        {
          "output_type": "stream",
          "name": "stderr",
          "text": [
            "WARNING:tensorflow:From /usr/local/lib/python3.7/dist-packages/bert/optimization.py:32: The name tf.train.polynomial_decay is deprecated. Please use tf.compat.v1.train.polynomial_decay instead.\n",
            "\n"
          ]
        },
        {
          "output_type": "stream",
          "name": "stdout",
          "text": [
            "WARNING:tensorflow:From /usr/local/lib/python3.7/dist-packages/bert/optimization.py:70: The name tf.trainable_variables is deprecated. Please use tf.compat.v1.trainable_variables instead.\n",
            "\n"
          ]
        },
        {
          "output_type": "stream",
          "name": "stderr",
          "text": [
            "WARNING:tensorflow:From /usr/local/lib/python3.7/dist-packages/bert/optimization.py:70: The name tf.trainable_variables is deprecated. Please use tf.compat.v1.trainable_variables instead.\n",
            "\n"
          ]
        },
        {
          "output_type": "stream",
          "name": "stdout",
          "text": [
            "WARNING:tensorflow:From /tensorflow-1.15.2/python3.7/tensorflow_core/python/ops/math_grad.py:1375: where (from tensorflow.python.ops.array_ops) is deprecated and will be removed in a future version.\n",
            "Instructions for updating:\n",
            "Use tf.where in 2.0, which has the same broadcast rule as np.where\n"
          ]
        },
        {
          "output_type": "stream",
          "name": "stderr",
          "text": [
            "WARNING:tensorflow:From /tensorflow-1.15.2/python3.7/tensorflow_core/python/ops/math_grad.py:1375: where (from tensorflow.python.ops.array_ops) is deprecated and will be removed in a future version.\n",
            "Instructions for updating:\n",
            "Use tf.where in 2.0, which has the same broadcast rule as np.where\n",
            "/tensorflow-1.15.2/python3.7/tensorflow_core/python/framework/indexed_slices.py:424: UserWarning: Converting sparse IndexedSlices to a dense Tensor of unknown shape. This may consume a large amount of memory.\n",
            "  \"Converting sparse IndexedSlices to a dense Tensor of unknown shape. \"\n"
          ]
        },
        {
          "output_type": "stream",
          "name": "stdout",
          "text": [
            "INFO:tensorflow:Done calling model_fn.\n"
          ]
        },
        {
          "output_type": "stream",
          "name": "stderr",
          "text": [
            "INFO:tensorflow:Done calling model_fn.\n"
          ]
        },
        {
          "output_type": "stream",
          "name": "stdout",
          "text": [
            "INFO:tensorflow:Starting evaluation at 2022-04-19T18:03:18Z\n"
          ]
        },
        {
          "output_type": "stream",
          "name": "stderr",
          "text": [
            "INFO:tensorflow:Starting evaluation at 2022-04-19T18:03:18Z\n"
          ]
        },
        {
          "output_type": "stream",
          "name": "stdout",
          "text": [
            "INFO:tensorflow:Graph was finalized.\n"
          ]
        },
        {
          "output_type": "stream",
          "name": "stderr",
          "text": [
            "INFO:tensorflow:Graph was finalized.\n"
          ]
        },
        {
          "output_type": "stream",
          "name": "stdout",
          "text": [
            "INFO:tensorflow:Restoring parameters from /GD/My Drive/Colab Notebooks/BERT/bert_rating_category/model.ckpt-37\n"
          ]
        },
        {
          "output_type": "stream",
          "name": "stderr",
          "text": [
            "INFO:tensorflow:Restoring parameters from /GD/My Drive/Colab Notebooks/BERT/bert_rating_category/model.ckpt-37\n"
          ]
        },
        {
          "output_type": "stream",
          "name": "stdout",
          "text": [
            "INFO:tensorflow:Running local_init_op.\n"
          ]
        },
        {
          "output_type": "stream",
          "name": "stderr",
          "text": [
            "INFO:tensorflow:Running local_init_op.\n"
          ]
        },
        {
          "output_type": "stream",
          "name": "stdout",
          "text": [
            "INFO:tensorflow:Done running local_init_op.\n"
          ]
        },
        {
          "output_type": "stream",
          "name": "stderr",
          "text": [
            "INFO:tensorflow:Done running local_init_op.\n"
          ]
        },
        {
          "output_type": "stream",
          "name": "stdout",
          "text": [
            "INFO:tensorflow:Finished evaluation at 2022-04-19-18:04:28\n"
          ]
        },
        {
          "output_type": "stream",
          "name": "stderr",
          "text": [
            "INFO:tensorflow:Finished evaluation at 2022-04-19-18:04:28\n"
          ]
        },
        {
          "output_type": "stream",
          "name": "stdout",
          "text": [
            "INFO:tensorflow:Saving dict for global step 37: eval_accuracy = 0.33663365, false_negatives = 0.0, false_positives = 8.0, global_step = 37, loss = 1.2482295, true_negatives = 0.0, true_positives = 93.0\n"
          ]
        },
        {
          "output_type": "stream",
          "name": "stderr",
          "text": [
            "INFO:tensorflow:Saving dict for global step 37: eval_accuracy = 0.33663365, false_negatives = 0.0, false_positives = 8.0, global_step = 37, loss = 1.2482295, true_negatives = 0.0, true_positives = 93.0\n"
          ]
        },
        {
          "output_type": "stream",
          "name": "stdout",
          "text": [
            "INFO:tensorflow:Saving 'checkpoint_path' summary for global step 37: /GD/My Drive/Colab Notebooks/BERT/bert_rating_category/model.ckpt-37\n"
          ]
        },
        {
          "output_type": "stream",
          "name": "stderr",
          "text": [
            "INFO:tensorflow:Saving 'checkpoint_path' summary for global step 37: /GD/My Drive/Colab Notebooks/BERT/bert_rating_category/model.ckpt-37\n"
          ]
        },
        {
          "output_type": "execute_result",
          "data": {
            "text/plain": [
              "{'eval_accuracy': 0.33663365,\n",
              " 'false_negatives': 0.0,\n",
              " 'false_positives': 8.0,\n",
              " 'global_step': 37,\n",
              " 'loss': 1.2482295,\n",
              " 'true_negatives': 0.0,\n",
              " 'true_positives': 93.0}"
            ]
          },
          "metadata": {},
          "execution_count": 39
        }
      ]
    },
    {
      "cell_type": "markdown",
      "source": [
        "Okay so it got to 37 % eval accuracy with 125 tokens  and 3 epochs\n",
        "\n",
        "I want to try with 250 tokens and 3 epochs\n",
        "It got 37% with 250 tokens... and 3 epochs\n",
        "\n",
        "I want to try with 512 tokens and 3 epochs\n",
        "It got 31% with 512 tokens... okay it did worse...\n",
        "\n",
        "Now it 34% percent accuracy with loss of 1.24 with 125 tokens and 3 epochs. \n",
        "\n",
        "I wan tto try with 125 tokens and 10 epochs? It keeps crashing\n",
        "\n",
        "We got 34% with 125 tokens and 3 epochs"
      ],
      "metadata": {
        "id": "QVeSN7aNXcdV"
      }
    },
    {
      "cell_type": "markdown",
      "source": [
        "I need to test with a test set but I don't have that. "
      ],
      "metadata": {
        "id": "zKP1taZSfXXs"
      }
    },
    {
      "cell_type": "code",
      "source": [
        "test"
      ],
      "metadata": {
        "colab": {
          "base_uri": "https://localhost:8080/",
          "height": 1000
        },
        "id": "6ehisPAnWQnJ",
        "outputId": "479cdac7-c874-48d0-ae30-2f5f8891ee55"
      },
      "execution_count": null,
      "outputs": [
        {
          "output_type": "execute_result",
          "data": {
            "text/plain": [
              "      work_id                                              title  \\\n",
              "0    35867929                                   The Call of Fate   \n",
              "1    34628254                                          Sacrifice   \n",
              "2    38261965                                         Sick Leave   \n",
              "4    38125645                                    absence, hearts   \n",
              "7    36500893                   God of Mischief, Master of Death   \n",
              "..        ...                                                ...   \n",
              "190       236  Five People John Sheppard Didn't Expect to Mis...   \n",
              "191       237  More of the Stars and Sea (The Three Meals Remix)   \n",
              "192       238                                 A Slice of College   \n",
              "194       241                                           Runaways   \n",
              "196       243                                         Life After   \n",
              "\n",
              "                     author                 rating         category  \\\n",
              "0     ['EmpressOfTheFlame']               Explicit  F/M, M/M, Multi   \n",
              "1    ['Thewonderfulwiccan']               Explicit            Multi   \n",
              "2      ['Hemaris_diffinis']  Teen And Up Audiences              Gen   \n",
              "4        ['Marmeladeskies']               Explicit              M/M   \n",
              "7          ['CrazyArtChic']  Teen And Up Audiences              Gen   \n",
              "..                      ...                    ...              ...   \n",
              "190                ['Kass']                 Mature              M/M   \n",
              "191                ['Kass']      General Audiences              F/M   \n",
              "192                ['Kass']                 Mature              F/F   \n",
              "194  ['Mollyamory (Molly)']                 Mature              M/M   \n",
              "196       ['velocitygrass']               Explicit              M/M   \n",
              "\n",
              "                                                fandom  \\\n",
              "0                    HELIOS Rising Heroes (Video Game)   \n",
              "1    Young Justice (Cartoon), Young Justice - All M...   \n",
              "2                              The Owl House (Cartoon)   \n",
              "4                                        Formula 1 RPF   \n",
              "7    Harry Potter - J. K. Rowling, The Avengers (Ma...   \n",
              "..                                                 ...   \n",
              "190                                  Stargate Atlantis   \n",
              "191                                  Stargate Atlantis   \n",
              "192                                     Daria - Fandom   \n",
              "194                                              NSYNC   \n",
              "196                                  Stargate Atlantis   \n",
              "\n",
              "                                          relationship  \\\n",
              "0    Jay Kidman/Reader, Various/Reader, Dino Albani...   \n",
              "1                              Dick Grayson/Wally West   \n",
              "2                        Eda Clawthorne/Raine Whispers   \n",
              "4    Lando Norris/Max Verstappen/Daniel Ricciardo/C...   \n",
              "7                                                  NaN   \n",
              "..                                                 ...   \n",
              "190                         John Sheppard/Rodney McKay   \n",
              "191                                        Radek/Teyla   \n",
              "192                                         Daria/Jane   \n",
              "194                       Lance Bass/Chris Kirkpatrick   \n",
              "196                         John Sheppard/Rodney McKay   \n",
              "\n",
              "                                             character  \\\n",
              "0    Reader, You, Jay Kidman, Dino Albani, Akira Ot...   \n",
              "1    Dick Grayson, Wally West, Barbara Gordon, M'ga...   \n",
              "2     Raine Whispers, Terra Snapdragon, Eda Clawthorne   \n",
              "4    Lando Norris, Michael Italiano, Charles Lecler...   \n",
              "7    Female Harry Potter - Character, Hermione Gran...   \n",
              "..                                                 ...   \n",
              "190                        John Sheppard, Rodney McKay   \n",
              "191                       Radek Zelenka, Teyla Emmagan   \n",
              "192                      Daria Morgendorfer, Jane Lane   \n",
              "194                      Lance Bass, Chris Kirkpatrick   \n",
              "196                        John Sheppard, Rodney McKay   \n",
              "\n",
              "                                       additional tags language  ...   words  \\\n",
              "0    First Time, Praise Kink, Smut, Romance, Reader...  English  ...   10191   \n",
              "1    Heavy Angst, Human Trafficking, Emotional Hurt...  English  ...   51697   \n",
              "2    Amber Derwin and Kayta are mentioned but not p...  English  ...    7439   \n",
              "4    Alpha/Beta/Omega Dynamics, Omegaverse, Pack Dy...  English  ...   37314   \n",
              "7    Rule 63, Time Travel Fix-It, Master of Death H...  English  ...  112327   \n",
              "..                                                 ...      ...  ...     ...   \n",
              "190                      Remix, remixredux08, 5 Things  English  ...    1382   \n",
              "191                                Remix, remixredux08  English  ...    2624   \n",
              "192                                         First Time  English  ...    3683   \n",
              "194                                Popslash - Freeform  English  ...   11489   \n",
              "196  Earth destroyed, SGA Big Bang 2008, Suicide, S...  English  ...   48260   \n",
              "\n",
              "    chapters comments   kudos bookmarks   hits  \\\n",
              "0       15/?      1.0    13.0       1.0    455   \n",
              "1       17/?     39.0   208.0      42.0   5721   \n",
              "2        5/?     10.0    56.0       4.0    678   \n",
              "4      21/27    625.0   512.0      41.0  18354   \n",
              "7       34/?   1044.0  1722.0     602.0  51838   \n",
              "..       ...      ...     ...       ...    ...   \n",
              "190      1/1      4.0    76.0       3.0   1260   \n",
              "191      1/1      8.0    30.0       4.0    953   \n",
              "192      1/1     19.0   401.0      49.0   5235   \n",
              "194      1/1      NaN    14.0       2.0    412   \n",
              "196      1/1     22.0   286.0     103.0   8367   \n",
              "\n",
              "                                             all_kudos  all_bookmarks  \\\n",
              "0                                   ['APH_Wonderland']             []   \n",
              "1    ['herbalwigeon', 'spekkoekenak', 'NightBek', '...             []   \n",
              "2    ['goblingorg', 'Dantsem', 'sapphicsoup', 'imlo...             []   \n",
              "4    ['nonotwithoutyou', 'OneAccount', 'loveisme', ...             []   \n",
              "7    ['Babyb34r', 'FreedomFighterKris', 'Zerilla', ...             []   \n",
              "..                                                 ...            ...   \n",
              "190  ['greenfizzpops', 'Brightbear', 'gingerpolyglo...             []   \n",
              "191  ['Outnumbered18', 'Rocketscientists', 'Ravenne...             []   \n",
              "192  ['future1dustries', 'scrawnycalc', 'originalbl...             []   \n",
              "194  ['verilix', 'FrkAemelin', 'mandralyne', 'Rubic...             []   \n",
              "196  ['Zzickle', 'Emilise284', 'Madam_Vu', 'prollpe...             []   \n",
              "\n",
              "                                                  body  \\\n",
              "0    It would be accurate to say that Jay had been ...   \n",
              "1    They'd scream. \\n\\nThey'd cry. \\n\\nBeg to go h...   \n",
              "2    Ok, ok, I need to calm down and make a plan, R...   \n",
              "4    \\n          (See the end of the chapter for  n...   \n",
              "7    Chapter 1\\n\\n \\n\\nThe trial was a farce, and t...   \n",
              "..                                                 ...   \n",
              "190  \\n1. The guy with the bass at Bagram\\n\\n\\nAll ...   \n",
              "191  Mysterious power readings always meant trouble...   \n",
              "192  The first time they went for pizza in Boston, ...   \n",
              "194  \"Are you packed?\"\\n\\n\"No,\" Chris said, letting...   \n",
              "196  Prologue:\\n\\nCharlie Mayer's life began when h...   \n",
              "\n",
              "                                         Body_Parsed_1  \n",
              "0    It would be accurate to say that Jay had been ...  \n",
              "1    They'd scream.   They'd cry.   Beg to go home ...  \n",
              "2    Ok, ok, I need to calm down and make a plan, R...  \n",
              "4         (See the end of the chapter for  notes.) ...  \n",
              "7    Chapter 1  The trial was a farce, and they all...  \n",
              "..                                                 ...  \n",
              "190   1. The guy with the bass at Bagram   All of t...  \n",
              "191  Mysterious power readings always meant trouble...  \n",
              "192  The first time they went for pizza in Boston, ...  \n",
              "194  \"Are you packed?\"  \"No,\" Chris said, letting s...  \n",
              "196  Prologue:  Charlie Mayer's life began when he ...  \n",
              "\n",
              "[158 rows x 23 columns]"
            ],
            "text/html": [
              "\n",
              "  <div id=\"df-1fc856f3-33dc-4418-8814-b178834d966a\">\n",
              "    <div class=\"colab-df-container\">\n",
              "      <div>\n",
              "<style scoped>\n",
              "    .dataframe tbody tr th:only-of-type {\n",
              "        vertical-align: middle;\n",
              "    }\n",
              "\n",
              "    .dataframe tbody tr th {\n",
              "        vertical-align: top;\n",
              "    }\n",
              "\n",
              "    .dataframe thead th {\n",
              "        text-align: right;\n",
              "    }\n",
              "</style>\n",
              "<table border=\"1\" class=\"dataframe\">\n",
              "  <thead>\n",
              "    <tr style=\"text-align: right;\">\n",
              "      <th></th>\n",
              "      <th>work_id</th>\n",
              "      <th>title</th>\n",
              "      <th>author</th>\n",
              "      <th>rating</th>\n",
              "      <th>category</th>\n",
              "      <th>fandom</th>\n",
              "      <th>relationship</th>\n",
              "      <th>character</th>\n",
              "      <th>additional tags</th>\n",
              "      <th>language</th>\n",
              "      <th>...</th>\n",
              "      <th>words</th>\n",
              "      <th>chapters</th>\n",
              "      <th>comments</th>\n",
              "      <th>kudos</th>\n",
              "      <th>bookmarks</th>\n",
              "      <th>hits</th>\n",
              "      <th>all_kudos</th>\n",
              "      <th>all_bookmarks</th>\n",
              "      <th>body</th>\n",
              "      <th>Body_Parsed_1</th>\n",
              "    </tr>\n",
              "  </thead>\n",
              "  <tbody>\n",
              "    <tr>\n",
              "      <th>0</th>\n",
              "      <td>35867929</td>\n",
              "      <td>The Call of Fate</td>\n",
              "      <td>['EmpressOfTheFlame']</td>\n",
              "      <td>Explicit</td>\n",
              "      <td>F/M, M/M, Multi</td>\n",
              "      <td>HELIOS Rising Heroes (Video Game)</td>\n",
              "      <td>Jay Kidman/Reader, Various/Reader, Dino Albani...</td>\n",
              "      <td>Reader, You, Jay Kidman, Dino Albani, Akira Ot...</td>\n",
              "      <td>First Time, Praise Kink, Smut, Romance, Reader...</td>\n",
              "      <td>English</td>\n",
              "      <td>...</td>\n",
              "      <td>10191</td>\n",
              "      <td>15/?</td>\n",
              "      <td>1.0</td>\n",
              "      <td>13.0</td>\n",
              "      <td>1.0</td>\n",
              "      <td>455</td>\n",
              "      <td>['APH_Wonderland']</td>\n",
              "      <td>[]</td>\n",
              "      <td>It would be accurate to say that Jay had been ...</td>\n",
              "      <td>It would be accurate to say that Jay had been ...</td>\n",
              "    </tr>\n",
              "    <tr>\n",
              "      <th>1</th>\n",
              "      <td>34628254</td>\n",
              "      <td>Sacrifice</td>\n",
              "      <td>['Thewonderfulwiccan']</td>\n",
              "      <td>Explicit</td>\n",
              "      <td>Multi</td>\n",
              "      <td>Young Justice (Cartoon), Young Justice - All M...</td>\n",
              "      <td>Dick Grayson/Wally West</td>\n",
              "      <td>Dick Grayson, Wally West, Barbara Gordon, M'ga...</td>\n",
              "      <td>Heavy Angst, Human Trafficking, Emotional Hurt...</td>\n",
              "      <td>English</td>\n",
              "      <td>...</td>\n",
              "      <td>51697</td>\n",
              "      <td>17/?</td>\n",
              "      <td>39.0</td>\n",
              "      <td>208.0</td>\n",
              "      <td>42.0</td>\n",
              "      <td>5721</td>\n",
              "      <td>['herbalwigeon', 'spekkoekenak', 'NightBek', '...</td>\n",
              "      <td>[]</td>\n",
              "      <td>They'd scream. \\n\\nThey'd cry. \\n\\nBeg to go h...</td>\n",
              "      <td>They'd scream.   They'd cry.   Beg to go home ...</td>\n",
              "    </tr>\n",
              "    <tr>\n",
              "      <th>2</th>\n",
              "      <td>38261965</td>\n",
              "      <td>Sick Leave</td>\n",
              "      <td>['Hemaris_diffinis']</td>\n",
              "      <td>Teen And Up Audiences</td>\n",
              "      <td>Gen</td>\n",
              "      <td>The Owl House (Cartoon)</td>\n",
              "      <td>Eda Clawthorne/Raine Whispers</td>\n",
              "      <td>Raine Whispers, Terra Snapdragon, Eda Clawthorne</td>\n",
              "      <td>Amber Derwin and Kayta are mentioned but not p...</td>\n",
              "      <td>English</td>\n",
              "      <td>...</td>\n",
              "      <td>7439</td>\n",
              "      <td>5/?</td>\n",
              "      <td>10.0</td>\n",
              "      <td>56.0</td>\n",
              "      <td>4.0</td>\n",
              "      <td>678</td>\n",
              "      <td>['goblingorg', 'Dantsem', 'sapphicsoup', 'imlo...</td>\n",
              "      <td>[]</td>\n",
              "      <td>Ok, ok, I need to calm down and make a plan, R...</td>\n",
              "      <td>Ok, ok, I need to calm down and make a plan, R...</td>\n",
              "    </tr>\n",
              "    <tr>\n",
              "      <th>4</th>\n",
              "      <td>38125645</td>\n",
              "      <td>absence, hearts</td>\n",
              "      <td>['Marmeladeskies']</td>\n",
              "      <td>Explicit</td>\n",
              "      <td>M/M</td>\n",
              "      <td>Formula 1 RPF</td>\n",
              "      <td>Lando Norris/Max Verstappen/Daniel Ricciardo/C...</td>\n",
              "      <td>Lando Norris, Michael Italiano, Charles Lecler...</td>\n",
              "      <td>Alpha/Beta/Omega Dynamics, Omegaverse, Pack Dy...</td>\n",
              "      <td>English</td>\n",
              "      <td>...</td>\n",
              "      <td>37314</td>\n",
              "      <td>21/27</td>\n",
              "      <td>625.0</td>\n",
              "      <td>512.0</td>\n",
              "      <td>41.0</td>\n",
              "      <td>18354</td>\n",
              "      <td>['nonotwithoutyou', 'OneAccount', 'loveisme', ...</td>\n",
              "      <td>[]</td>\n",
              "      <td>\\n          (See the end of the chapter for  n...</td>\n",
              "      <td>(See the end of the chapter for  notes.) ...</td>\n",
              "    </tr>\n",
              "    <tr>\n",
              "      <th>7</th>\n",
              "      <td>36500893</td>\n",
              "      <td>God of Mischief, Master of Death</td>\n",
              "      <td>['CrazyArtChic']</td>\n",
              "      <td>Teen And Up Audiences</td>\n",
              "      <td>Gen</td>\n",
              "      <td>Harry Potter - J. K. Rowling, The Avengers (Ma...</td>\n",
              "      <td>NaN</td>\n",
              "      <td>Female Harry Potter - Character, Hermione Gran...</td>\n",
              "      <td>Rule 63, Time Travel Fix-It, Master of Death H...</td>\n",
              "      <td>English</td>\n",
              "      <td>...</td>\n",
              "      <td>112327</td>\n",
              "      <td>34/?</td>\n",
              "      <td>1044.0</td>\n",
              "      <td>1722.0</td>\n",
              "      <td>602.0</td>\n",
              "      <td>51838</td>\n",
              "      <td>['Babyb34r', 'FreedomFighterKris', 'Zerilla', ...</td>\n",
              "      <td>[]</td>\n",
              "      <td>Chapter 1\\n\\n \\n\\nThe trial was a farce, and t...</td>\n",
              "      <td>Chapter 1  The trial was a farce, and they all...</td>\n",
              "    </tr>\n",
              "    <tr>\n",
              "      <th>...</th>\n",
              "      <td>...</td>\n",
              "      <td>...</td>\n",
              "      <td>...</td>\n",
              "      <td>...</td>\n",
              "      <td>...</td>\n",
              "      <td>...</td>\n",
              "      <td>...</td>\n",
              "      <td>...</td>\n",
              "      <td>...</td>\n",
              "      <td>...</td>\n",
              "      <td>...</td>\n",
              "      <td>...</td>\n",
              "      <td>...</td>\n",
              "      <td>...</td>\n",
              "      <td>...</td>\n",
              "      <td>...</td>\n",
              "      <td>...</td>\n",
              "      <td>...</td>\n",
              "      <td>...</td>\n",
              "      <td>...</td>\n",
              "      <td>...</td>\n",
              "    </tr>\n",
              "    <tr>\n",
              "      <th>190</th>\n",
              "      <td>236</td>\n",
              "      <td>Five People John Sheppard Didn't Expect to Mis...</td>\n",
              "      <td>['Kass']</td>\n",
              "      <td>Mature</td>\n",
              "      <td>M/M</td>\n",
              "      <td>Stargate Atlantis</td>\n",
              "      <td>John Sheppard/Rodney McKay</td>\n",
              "      <td>John Sheppard, Rodney McKay</td>\n",
              "      <td>Remix, remixredux08, 5 Things</td>\n",
              "      <td>English</td>\n",
              "      <td>...</td>\n",
              "      <td>1382</td>\n",
              "      <td>1/1</td>\n",
              "      <td>4.0</td>\n",
              "      <td>76.0</td>\n",
              "      <td>3.0</td>\n",
              "      <td>1260</td>\n",
              "      <td>['greenfizzpops', 'Brightbear', 'gingerpolyglo...</td>\n",
              "      <td>[]</td>\n",
              "      <td>\\n1. The guy with the bass at Bagram\\n\\n\\nAll ...</td>\n",
              "      <td>1. The guy with the bass at Bagram   All of t...</td>\n",
              "    </tr>\n",
              "    <tr>\n",
              "      <th>191</th>\n",
              "      <td>237</td>\n",
              "      <td>More of the Stars and Sea (The Three Meals Remix)</td>\n",
              "      <td>['Kass']</td>\n",
              "      <td>General Audiences</td>\n",
              "      <td>F/M</td>\n",
              "      <td>Stargate Atlantis</td>\n",
              "      <td>Radek/Teyla</td>\n",
              "      <td>Radek Zelenka, Teyla Emmagan</td>\n",
              "      <td>Remix, remixredux08</td>\n",
              "      <td>English</td>\n",
              "      <td>...</td>\n",
              "      <td>2624</td>\n",
              "      <td>1/1</td>\n",
              "      <td>8.0</td>\n",
              "      <td>30.0</td>\n",
              "      <td>4.0</td>\n",
              "      <td>953</td>\n",
              "      <td>['Outnumbered18', 'Rocketscientists', 'Ravenne...</td>\n",
              "      <td>[]</td>\n",
              "      <td>Mysterious power readings always meant trouble...</td>\n",
              "      <td>Mysterious power readings always meant trouble...</td>\n",
              "    </tr>\n",
              "    <tr>\n",
              "      <th>192</th>\n",
              "      <td>238</td>\n",
              "      <td>A Slice of College</td>\n",
              "      <td>['Kass']</td>\n",
              "      <td>Mature</td>\n",
              "      <td>F/F</td>\n",
              "      <td>Daria - Fandom</td>\n",
              "      <td>Daria/Jane</td>\n",
              "      <td>Daria Morgendorfer, Jane Lane</td>\n",
              "      <td>First Time</td>\n",
              "      <td>English</td>\n",
              "      <td>...</td>\n",
              "      <td>3683</td>\n",
              "      <td>1/1</td>\n",
              "      <td>19.0</td>\n",
              "      <td>401.0</td>\n",
              "      <td>49.0</td>\n",
              "      <td>5235</td>\n",
              "      <td>['future1dustries', 'scrawnycalc', 'originalbl...</td>\n",
              "      <td>[]</td>\n",
              "      <td>The first time they went for pizza in Boston, ...</td>\n",
              "      <td>The first time they went for pizza in Boston, ...</td>\n",
              "    </tr>\n",
              "    <tr>\n",
              "      <th>194</th>\n",
              "      <td>241</td>\n",
              "      <td>Runaways</td>\n",
              "      <td>['Mollyamory (Molly)']</td>\n",
              "      <td>Mature</td>\n",
              "      <td>M/M</td>\n",
              "      <td>NSYNC</td>\n",
              "      <td>Lance Bass/Chris Kirkpatrick</td>\n",
              "      <td>Lance Bass, Chris Kirkpatrick</td>\n",
              "      <td>Popslash - Freeform</td>\n",
              "      <td>English</td>\n",
              "      <td>...</td>\n",
              "      <td>11489</td>\n",
              "      <td>1/1</td>\n",
              "      <td>NaN</td>\n",
              "      <td>14.0</td>\n",
              "      <td>2.0</td>\n",
              "      <td>412</td>\n",
              "      <td>['verilix', 'FrkAemelin', 'mandralyne', 'Rubic...</td>\n",
              "      <td>[]</td>\n",
              "      <td>\"Are you packed?\"\\n\\n\"No,\" Chris said, letting...</td>\n",
              "      <td>\"Are you packed?\"  \"No,\" Chris said, letting s...</td>\n",
              "    </tr>\n",
              "    <tr>\n",
              "      <th>196</th>\n",
              "      <td>243</td>\n",
              "      <td>Life After</td>\n",
              "      <td>['velocitygrass']</td>\n",
              "      <td>Explicit</td>\n",
              "      <td>M/M</td>\n",
              "      <td>Stargate Atlantis</td>\n",
              "      <td>John Sheppard/Rodney McKay</td>\n",
              "      <td>John Sheppard, Rodney McKay</td>\n",
              "      <td>Earth destroyed, SGA Big Bang 2008, Suicide, S...</td>\n",
              "      <td>English</td>\n",
              "      <td>...</td>\n",
              "      <td>48260</td>\n",
              "      <td>1/1</td>\n",
              "      <td>22.0</td>\n",
              "      <td>286.0</td>\n",
              "      <td>103.0</td>\n",
              "      <td>8367</td>\n",
              "      <td>['Zzickle', 'Emilise284', 'Madam_Vu', 'prollpe...</td>\n",
              "      <td>[]</td>\n",
              "      <td>Prologue:\\n\\nCharlie Mayer's life began when h...</td>\n",
              "      <td>Prologue:  Charlie Mayer's life began when he ...</td>\n",
              "    </tr>\n",
              "  </tbody>\n",
              "</table>\n",
              "<p>158 rows × 23 columns</p>\n",
              "</div>\n",
              "      <button class=\"colab-df-convert\" onclick=\"convertToInteractive('df-1fc856f3-33dc-4418-8814-b178834d966a')\"\n",
              "              title=\"Convert this dataframe to an interactive table.\"\n",
              "              style=\"display:none;\">\n",
              "        \n",
              "  <svg xmlns=\"http://www.w3.org/2000/svg\" height=\"24px\"viewBox=\"0 0 24 24\"\n",
              "       width=\"24px\">\n",
              "    <path d=\"M0 0h24v24H0V0z\" fill=\"none\"/>\n",
              "    <path d=\"M18.56 5.44l.94 2.06.94-2.06 2.06-.94-2.06-.94-.94-2.06-.94 2.06-2.06.94zm-11 1L8.5 8.5l.94-2.06 2.06-.94-2.06-.94L8.5 2.5l-.94 2.06-2.06.94zm10 10l.94 2.06.94-2.06 2.06-.94-2.06-.94-.94-2.06-.94 2.06-2.06.94z\"/><path d=\"M17.41 7.96l-1.37-1.37c-.4-.4-.92-.59-1.43-.59-.52 0-1.04.2-1.43.59L10.3 9.45l-7.72 7.72c-.78.78-.78 2.05 0 2.83L4 21.41c.39.39.9.59 1.41.59.51 0 1.02-.2 1.41-.59l7.78-7.78 2.81-2.81c.8-.78.8-2.07 0-2.86zM5.41 20L4 18.59l7.72-7.72 1.47 1.35L5.41 20z\"/>\n",
              "  </svg>\n",
              "      </button>\n",
              "      \n",
              "  <style>\n",
              "    .colab-df-container {\n",
              "      display:flex;\n",
              "      flex-wrap:wrap;\n",
              "      gap: 12px;\n",
              "    }\n",
              "\n",
              "    .colab-df-convert {\n",
              "      background-color: #E8F0FE;\n",
              "      border: none;\n",
              "      border-radius: 50%;\n",
              "      cursor: pointer;\n",
              "      display: none;\n",
              "      fill: #1967D2;\n",
              "      height: 32px;\n",
              "      padding: 0 0 0 0;\n",
              "      width: 32px;\n",
              "    }\n",
              "\n",
              "    .colab-df-convert:hover {\n",
              "      background-color: #E2EBFA;\n",
              "      box-shadow: 0px 1px 2px rgba(60, 64, 67, 0.3), 0px 1px 3px 1px rgba(60, 64, 67, 0.15);\n",
              "      fill: #174EA6;\n",
              "    }\n",
              "\n",
              "    [theme=dark] .colab-df-convert {\n",
              "      background-color: #3B4455;\n",
              "      fill: #D2E3FC;\n",
              "    }\n",
              "\n",
              "    [theme=dark] .colab-df-convert:hover {\n",
              "      background-color: #434B5C;\n",
              "      box-shadow: 0px 1px 3px 1px rgba(0, 0, 0, 0.15);\n",
              "      filter: drop-shadow(0px 1px 2px rgba(0, 0, 0, 0.3));\n",
              "      fill: #FFFFFF;\n",
              "    }\n",
              "  </style>\n",
              "\n",
              "      <script>\n",
              "        const buttonEl =\n",
              "          document.querySelector('#df-1fc856f3-33dc-4418-8814-b178834d966a button.colab-df-convert');\n",
              "        buttonEl.style.display =\n",
              "          google.colab.kernel.accessAllowed ? 'block' : 'none';\n",
              "\n",
              "        async function convertToInteractive(key) {\n",
              "          const element = document.querySelector('#df-1fc856f3-33dc-4418-8814-b178834d966a');\n",
              "          const dataTable =\n",
              "            await google.colab.kernel.invokeFunction('convertToInteractive',\n",
              "                                                     [key], {});\n",
              "          if (!dataTable) return;\n",
              "\n",
              "          const docLinkHtml = 'Like what you see? Visit the ' +\n",
              "            '<a target=\"_blank\" href=https://colab.research.google.com/notebooks/data_table.ipynb>data table notebook</a>'\n",
              "            + ' to learn more about interactive tables.';\n",
              "          element.innerHTML = '';\n",
              "          dataTable['output_type'] = 'display_data';\n",
              "          await google.colab.output.renderOutput(dataTable, element);\n",
              "          const docLink = document.createElement('div');\n",
              "          docLink.innerHTML = docLinkHtml;\n",
              "          element.appendChild(docLink);\n",
              "        }\n",
              "      </script>\n",
              "    </div>\n",
              "  </div>\n",
              "  "
            ]
          },
          "metadata": {},
          "execution_count": 97
        }
      ]
    },
    {
      "cell_type": "code",
      "source": [
        "# rating_codes = {\n",
        "#     'General Audiences': 0,\n",
        "#     'Teen And Up Audiences': 1,\n",
        "#     'Mature': 2,\n",
        "#     'Explicit': 3,\n",
        "# }\n",
        "# A method to get predictions\n",
        "def getPrediction(in_sentences):\n",
        "  #A list to map the actual labels to the predictions\n",
        "  labels = ['General Audiences', 'Teen and Up Audiences','Mature','Explicit']\n",
        "\n",
        "  #Transforming the test data into BERT accepted form\n",
        "  input_examples = [run_classifier.InputExample(guid=\"\", text_a = x, text_b = None, label = 0) for x in in_sentences] \n",
        "  \n",
        "  #Creating input features for Test data\n",
        "  input_features = run_classifier.convert_examples_to_features(input_examples, label_list, MAX_SEQ_LENGTH, tokenizer)\n",
        "\n",
        "  #Predicting the classes \n",
        "  predict_input_fn = run_classifier.input_fn_builder(features=input_features, seq_length=MAX_SEQ_LENGTH, is_training=False, drop_remainder=False)\n",
        "  predictions = estimator.predict(predict_input_fn)\n",
        "  return [(sentence, prediction['probabilities'],prediction['labels'], labels[prediction['labels']]) for sentence, prediction in zip(in_sentences, predictions)]"
      ],
      "metadata": {
        "id": "vsgI_9eH4ZJ1"
      },
      "execution_count": null,
      "outputs": []
    },
    {
      "cell_type": "code",
      "source": [
        "pred_sentences = list(test['Body_Parsed_1'])"
      ],
      "metadata": {
        "id": "rlTAuICyA3xd"
      },
      "execution_count": null,
      "outputs": []
    },
    {
      "cell_type": "code",
      "source": [
        "predictions = getPrediction(pred_sentences)"
      ],
      "metadata": {
        "colab": {
          "base_uri": "https://localhost:8080/"
        },
        "id": "i5ObOQ9hFryJ",
        "outputId": "0995a6f8-9f75-4529-be9c-0bbc43b4312b"
      },
      "execution_count": null,
      "outputs": [
        {
          "output_type": "stream",
          "name": "stdout",
          "text": [
            "INFO:tensorflow:Writing example 0 of 158\n"
          ]
        },
        {
          "output_type": "stream",
          "name": "stderr",
          "text": [
            "INFO:tensorflow:Writing example 0 of 158\n"
          ]
        },
        {
          "output_type": "stream",
          "name": "stdout",
          "text": [
            "INFO:tensorflow:*** Example ***\n"
          ]
        },
        {
          "output_type": "stream",
          "name": "stderr",
          "text": [
            "INFO:tensorflow:*** Example ***\n"
          ]
        },
        {
          "output_type": "stream",
          "name": "stdout",
          "text": [
            "INFO:tensorflow:guid: \n"
          ]
        },
        {
          "output_type": "stream",
          "name": "stderr",
          "text": [
            "INFO:tensorflow:guid: \n"
          ]
        },
        {
          "output_type": "stream",
          "name": "stdout",
          "text": [
            "INFO:tensorflow:tokens: [CLS] it would be accurate to say that jay had been en ##amo ##red with you from the moment he saw you . after his divorce he had to admit to himself that having a love life might not be in the cards for him , he had loved and lost and he appreciated the experiences he had . his life had always involved his work and it wasn ' t so unusual that , if he were to ever meet another partner , they ' d be a hero just as busy as he was . he doesn ' t want to admit that the first thought he had when coming to terms with his crush on you was that it was ' [SEP]\n"
          ]
        },
        {
          "output_type": "stream",
          "name": "stderr",
          "text": [
            "INFO:tensorflow:tokens: [CLS] it would be accurate to say that jay had been en ##amo ##red with you from the moment he saw you . after his divorce he had to admit to himself that having a love life might not be in the cards for him , he had loved and lost and he appreciated the experiences he had . his life had always involved his work and it wasn ' t so unusual that , if he were to ever meet another partner , they ' d be a hero just as busy as he was . he doesn ' t want to admit that the first thought he had when coming to terms with his crush on you was that it was ' [SEP]\n"
          ]
        },
        {
          "output_type": "stream",
          "name": "stdout",
          "text": [
            "INFO:tensorflow:input_ids: 101 2009 2052 2022 8321 2000 2360 2008 6108 2018 2042 4372 22591 5596 2007 2017 2013 1996 2617 2002 2387 2017 1012 2044 2010 8179 2002 2018 2000 6449 2000 2370 2008 2383 1037 2293 2166 2453 2025 2022 1999 1996 5329 2005 2032 1010 2002 2018 3866 1998 2439 1998 2002 12315 1996 6322 2002 2018 1012 2010 2166 2018 2467 2920 2010 2147 1998 2009 2347 1005 1056 2061 5866 2008 1010 2065 2002 2020 2000 2412 3113 2178 4256 1010 2027 1005 1040 2022 1037 5394 2074 2004 5697 2004 2002 2001 1012 2002 2987 1005 1056 2215 2000 6449 2008 1996 2034 2245 2002 2018 2043 2746 2000 3408 2007 2010 10188 2006 2017 2001 2008 2009 2001 1005 102\n"
          ]
        },
        {
          "output_type": "stream",
          "name": "stderr",
          "text": [
            "INFO:tensorflow:input_ids: 101 2009 2052 2022 8321 2000 2360 2008 6108 2018 2042 4372 22591 5596 2007 2017 2013 1996 2617 2002 2387 2017 1012 2044 2010 8179 2002 2018 2000 6449 2000 2370 2008 2383 1037 2293 2166 2453 2025 2022 1999 1996 5329 2005 2032 1010 2002 2018 3866 1998 2439 1998 2002 12315 1996 6322 2002 2018 1012 2010 2166 2018 2467 2920 2010 2147 1998 2009 2347 1005 1056 2061 5866 2008 1010 2065 2002 2020 2000 2412 3113 2178 4256 1010 2027 1005 1040 2022 1037 5394 2074 2004 5697 2004 2002 2001 1012 2002 2987 1005 1056 2215 2000 6449 2008 1996 2034 2245 2002 2018 2043 2746 2000 3408 2007 2010 10188 2006 2017 2001 2008 2009 2001 1005 102\n"
          ]
        },
        {
          "output_type": "stream",
          "name": "stdout",
          "text": [
            "INFO:tensorflow:input_mask: 1 1 1 1 1 1 1 1 1 1 1 1 1 1 1 1 1 1 1 1 1 1 1 1 1 1 1 1 1 1 1 1 1 1 1 1 1 1 1 1 1 1 1 1 1 1 1 1 1 1 1 1 1 1 1 1 1 1 1 1 1 1 1 1 1 1 1 1 1 1 1 1 1 1 1 1 1 1 1 1 1 1 1 1 1 1 1 1 1 1 1 1 1 1 1 1 1 1 1 1 1 1 1 1 1 1 1 1 1 1 1 1 1 1 1 1 1 1 1 1 1 1 1 1 1\n"
          ]
        },
        {
          "output_type": "stream",
          "name": "stderr",
          "text": [
            "INFO:tensorflow:input_mask: 1 1 1 1 1 1 1 1 1 1 1 1 1 1 1 1 1 1 1 1 1 1 1 1 1 1 1 1 1 1 1 1 1 1 1 1 1 1 1 1 1 1 1 1 1 1 1 1 1 1 1 1 1 1 1 1 1 1 1 1 1 1 1 1 1 1 1 1 1 1 1 1 1 1 1 1 1 1 1 1 1 1 1 1 1 1 1 1 1 1 1 1 1 1 1 1 1 1 1 1 1 1 1 1 1 1 1 1 1 1 1 1 1 1 1 1 1 1 1 1 1 1 1 1 1\n"
          ]
        },
        {
          "output_type": "stream",
          "name": "stdout",
          "text": [
            "INFO:tensorflow:segment_ids: 0 0 0 0 0 0 0 0 0 0 0 0 0 0 0 0 0 0 0 0 0 0 0 0 0 0 0 0 0 0 0 0 0 0 0 0 0 0 0 0 0 0 0 0 0 0 0 0 0 0 0 0 0 0 0 0 0 0 0 0 0 0 0 0 0 0 0 0 0 0 0 0 0 0 0 0 0 0 0 0 0 0 0 0 0 0 0 0 0 0 0 0 0 0 0 0 0 0 0 0 0 0 0 0 0 0 0 0 0 0 0 0 0 0 0 0 0 0 0 0 0 0 0 0 0\n"
          ]
        },
        {
          "output_type": "stream",
          "name": "stderr",
          "text": [
            "INFO:tensorflow:segment_ids: 0 0 0 0 0 0 0 0 0 0 0 0 0 0 0 0 0 0 0 0 0 0 0 0 0 0 0 0 0 0 0 0 0 0 0 0 0 0 0 0 0 0 0 0 0 0 0 0 0 0 0 0 0 0 0 0 0 0 0 0 0 0 0 0 0 0 0 0 0 0 0 0 0 0 0 0 0 0 0 0 0 0 0 0 0 0 0 0 0 0 0 0 0 0 0 0 0 0 0 0 0 0 0 0 0 0 0 0 0 0 0 0 0 0 0 0 0 0 0 0 0 0 0 0 0\n"
          ]
        },
        {
          "output_type": "stream",
          "name": "stdout",
          "text": [
            "INFO:tensorflow:label: 0 (id = 0)\n"
          ]
        },
        {
          "output_type": "stream",
          "name": "stderr",
          "text": [
            "INFO:tensorflow:label: 0 (id = 0)\n"
          ]
        },
        {
          "output_type": "stream",
          "name": "stdout",
          "text": [
            "INFO:tensorflow:*** Example ***\n"
          ]
        },
        {
          "output_type": "stream",
          "name": "stderr",
          "text": [
            "INFO:tensorflow:*** Example ***\n"
          ]
        },
        {
          "output_type": "stream",
          "name": "stdout",
          "text": [
            "INFO:tensorflow:guid: \n"
          ]
        },
        {
          "output_type": "stream",
          "name": "stderr",
          "text": [
            "INFO:tensorflow:guid: \n"
          ]
        },
        {
          "output_type": "stream",
          "name": "stdout",
          "text": [
            "INFO:tensorflow:tokens: [CLS] they ' d scream . they ' d cry . beg to go home to their parents , they ' d cl ##ing to his pan ##t legs , inc ##oh ##ere ##nt nonsense would come out of their tiny pathetic mouths . he wanted to tell them it was pointless , they were better off keeping quiet and taking what they gave them . but it was adorable , it really was . children . . . so precious . so innocent . so small . naive . he reached down and grabbed her chin and lifted her head and sighed , her blue eyes wide , tears running down her cheeks . \" oh darling , \" he co ##oed , [SEP]\n"
          ]
        },
        {
          "output_type": "stream",
          "name": "stderr",
          "text": [
            "INFO:tensorflow:tokens: [CLS] they ' d scream . they ' d cry . beg to go home to their parents , they ' d cl ##ing to his pan ##t legs , inc ##oh ##ere ##nt nonsense would come out of their tiny pathetic mouths . he wanted to tell them it was pointless , they were better off keeping quiet and taking what they gave them . but it was adorable , it really was . children . . . so precious . so innocent . so small . naive . he reached down and grabbed her chin and lifted her head and sighed , her blue eyes wide , tears running down her cheeks . \" oh darling , \" he co ##oed , [SEP]\n"
          ]
        },
        {
          "output_type": "stream",
          "name": "stdout",
          "text": [
            "INFO:tensorflow:input_ids: 101 2027 1005 1040 6978 1012 2027 1005 1040 5390 1012 11693 2000 2175 2188 2000 2037 3008 1010 2027 1005 1040 18856 2075 2000 2010 6090 2102 3456 1010 4297 11631 7869 3372 14652 2052 2272 2041 1997 2037 4714 17203 15076 1012 2002 2359 2000 2425 2068 2009 2001 23100 1010 2027 2020 2488 2125 4363 4251 1998 2635 2054 2027 2435 2068 1012 2021 2009 2001 23677 1010 2009 2428 2001 1012 2336 1012 1012 1012 2061 9062 1012 2061 7036 1012 2061 2235 1012 15743 1012 2002 2584 2091 1998 4046 2014 5413 1998 4196 2014 2132 1998 5489 1010 2014 2630 2159 2898 1010 4000 2770 2091 2014 6029 1012 1000 2821 9548 1010 1000 2002 2522 29099 1010 102\n"
          ]
        },
        {
          "output_type": "stream",
          "name": "stderr",
          "text": [
            "INFO:tensorflow:input_ids: 101 2027 1005 1040 6978 1012 2027 1005 1040 5390 1012 11693 2000 2175 2188 2000 2037 3008 1010 2027 1005 1040 18856 2075 2000 2010 6090 2102 3456 1010 4297 11631 7869 3372 14652 2052 2272 2041 1997 2037 4714 17203 15076 1012 2002 2359 2000 2425 2068 2009 2001 23100 1010 2027 2020 2488 2125 4363 4251 1998 2635 2054 2027 2435 2068 1012 2021 2009 2001 23677 1010 2009 2428 2001 1012 2336 1012 1012 1012 2061 9062 1012 2061 7036 1012 2061 2235 1012 15743 1012 2002 2584 2091 1998 4046 2014 5413 1998 4196 2014 2132 1998 5489 1010 2014 2630 2159 2898 1010 4000 2770 2091 2014 6029 1012 1000 2821 9548 1010 1000 2002 2522 29099 1010 102\n"
          ]
        },
        {
          "output_type": "stream",
          "name": "stdout",
          "text": [
            "INFO:tensorflow:input_mask: 1 1 1 1 1 1 1 1 1 1 1 1 1 1 1 1 1 1 1 1 1 1 1 1 1 1 1 1 1 1 1 1 1 1 1 1 1 1 1 1 1 1 1 1 1 1 1 1 1 1 1 1 1 1 1 1 1 1 1 1 1 1 1 1 1 1 1 1 1 1 1 1 1 1 1 1 1 1 1 1 1 1 1 1 1 1 1 1 1 1 1 1 1 1 1 1 1 1 1 1 1 1 1 1 1 1 1 1 1 1 1 1 1 1 1 1 1 1 1 1 1 1 1 1 1\n"
          ]
        },
        {
          "output_type": "stream",
          "name": "stderr",
          "text": [
            "INFO:tensorflow:input_mask: 1 1 1 1 1 1 1 1 1 1 1 1 1 1 1 1 1 1 1 1 1 1 1 1 1 1 1 1 1 1 1 1 1 1 1 1 1 1 1 1 1 1 1 1 1 1 1 1 1 1 1 1 1 1 1 1 1 1 1 1 1 1 1 1 1 1 1 1 1 1 1 1 1 1 1 1 1 1 1 1 1 1 1 1 1 1 1 1 1 1 1 1 1 1 1 1 1 1 1 1 1 1 1 1 1 1 1 1 1 1 1 1 1 1 1 1 1 1 1 1 1 1 1 1 1\n"
          ]
        },
        {
          "output_type": "stream",
          "name": "stdout",
          "text": [
            "INFO:tensorflow:segment_ids: 0 0 0 0 0 0 0 0 0 0 0 0 0 0 0 0 0 0 0 0 0 0 0 0 0 0 0 0 0 0 0 0 0 0 0 0 0 0 0 0 0 0 0 0 0 0 0 0 0 0 0 0 0 0 0 0 0 0 0 0 0 0 0 0 0 0 0 0 0 0 0 0 0 0 0 0 0 0 0 0 0 0 0 0 0 0 0 0 0 0 0 0 0 0 0 0 0 0 0 0 0 0 0 0 0 0 0 0 0 0 0 0 0 0 0 0 0 0 0 0 0 0 0 0 0\n"
          ]
        },
        {
          "output_type": "stream",
          "name": "stderr",
          "text": [
            "INFO:tensorflow:segment_ids: 0 0 0 0 0 0 0 0 0 0 0 0 0 0 0 0 0 0 0 0 0 0 0 0 0 0 0 0 0 0 0 0 0 0 0 0 0 0 0 0 0 0 0 0 0 0 0 0 0 0 0 0 0 0 0 0 0 0 0 0 0 0 0 0 0 0 0 0 0 0 0 0 0 0 0 0 0 0 0 0 0 0 0 0 0 0 0 0 0 0 0 0 0 0 0 0 0 0 0 0 0 0 0 0 0 0 0 0 0 0 0 0 0 0 0 0 0 0 0 0 0 0 0 0 0\n"
          ]
        },
        {
          "output_type": "stream",
          "name": "stdout",
          "text": [
            "INFO:tensorflow:label: 0 (id = 0)\n"
          ]
        },
        {
          "output_type": "stream",
          "name": "stderr",
          "text": [
            "INFO:tensorflow:label: 0 (id = 0)\n"
          ]
        },
        {
          "output_type": "stream",
          "name": "stdout",
          "text": [
            "INFO:tensorflow:*** Example ***\n"
          ]
        },
        {
          "output_type": "stream",
          "name": "stderr",
          "text": [
            "INFO:tensorflow:*** Example ***\n"
          ]
        },
        {
          "output_type": "stream",
          "name": "stdout",
          "text": [
            "INFO:tensorflow:guid: \n"
          ]
        },
        {
          "output_type": "stream",
          "name": "stderr",
          "text": [
            "INFO:tensorflow:guid: \n"
          ]
        },
        {
          "output_type": "stream",
          "name": "stdout",
          "text": [
            "INFO:tensorflow:tokens: [CLS] ok , ok , i need to calm down and make a plan , rain ##e told them ##sel ##f . where am i ? what do i remember ? where seemed like the easier question to answer first . they were tied to chair in front of a small table . vines held them securely in place , all the way up to their shoulders and tight enough to make breathing uncomfortable . thorns threatened to cut them with every movement . they tried moving anyway . the vines were strong and had no give . they ' d definitely draw some blood . for now , that seemed to be a lost cause . the space around them was hard to [SEP]\n"
          ]
        },
        {
          "output_type": "stream",
          "name": "stderr",
          "text": [
            "INFO:tensorflow:tokens: [CLS] ok , ok , i need to calm down and make a plan , rain ##e told them ##sel ##f . where am i ? what do i remember ? where seemed like the easier question to answer first . they were tied to chair in front of a small table . vines held them securely in place , all the way up to their shoulders and tight enough to make breathing uncomfortable . thorns threatened to cut them with every movement . they tried moving anyway . the vines were strong and had no give . they ' d definitely draw some blood . for now , that seemed to be a lost cause . the space around them was hard to [SEP]\n"
          ]
        },
        {
          "output_type": "stream",
          "name": "stdout",
          "text": [
            "INFO:tensorflow:input_ids: 101 7929 1010 7929 1010 1045 2342 2000 5475 2091 1998 2191 1037 2933 1010 4542 2063 2409 2068 11246 2546 1012 2073 2572 1045 1029 2054 2079 1045 3342 1029 2073 2790 2066 1996 6082 3160 2000 3437 2034 1012 2027 2020 5079 2000 3242 1999 2392 1997 1037 2235 2795 1012 16702 2218 2068 28999 1999 2173 1010 2035 1996 2126 2039 2000 2037 4065 1998 4389 2438 2000 2191 5505 8796 1012 28408 5561 2000 3013 2068 2007 2296 2929 1012 2027 2699 3048 4312 1012 1996 16702 2020 2844 1998 2018 2053 2507 1012 2027 1005 1040 5791 4009 2070 2668 1012 2005 2085 1010 2008 2790 2000 2022 1037 2439 3426 1012 1996 2686 2105 2068 2001 2524 2000 102\n"
          ]
        },
        {
          "output_type": "stream",
          "name": "stderr",
          "text": [
            "INFO:tensorflow:input_ids: 101 7929 1010 7929 1010 1045 2342 2000 5475 2091 1998 2191 1037 2933 1010 4542 2063 2409 2068 11246 2546 1012 2073 2572 1045 1029 2054 2079 1045 3342 1029 2073 2790 2066 1996 6082 3160 2000 3437 2034 1012 2027 2020 5079 2000 3242 1999 2392 1997 1037 2235 2795 1012 16702 2218 2068 28999 1999 2173 1010 2035 1996 2126 2039 2000 2037 4065 1998 4389 2438 2000 2191 5505 8796 1012 28408 5561 2000 3013 2068 2007 2296 2929 1012 2027 2699 3048 4312 1012 1996 16702 2020 2844 1998 2018 2053 2507 1012 2027 1005 1040 5791 4009 2070 2668 1012 2005 2085 1010 2008 2790 2000 2022 1037 2439 3426 1012 1996 2686 2105 2068 2001 2524 2000 102\n"
          ]
        },
        {
          "output_type": "stream",
          "name": "stdout",
          "text": [
            "INFO:tensorflow:input_mask: 1 1 1 1 1 1 1 1 1 1 1 1 1 1 1 1 1 1 1 1 1 1 1 1 1 1 1 1 1 1 1 1 1 1 1 1 1 1 1 1 1 1 1 1 1 1 1 1 1 1 1 1 1 1 1 1 1 1 1 1 1 1 1 1 1 1 1 1 1 1 1 1 1 1 1 1 1 1 1 1 1 1 1 1 1 1 1 1 1 1 1 1 1 1 1 1 1 1 1 1 1 1 1 1 1 1 1 1 1 1 1 1 1 1 1 1 1 1 1 1 1 1 1 1 1\n"
          ]
        },
        {
          "output_type": "stream",
          "name": "stderr",
          "text": [
            "INFO:tensorflow:input_mask: 1 1 1 1 1 1 1 1 1 1 1 1 1 1 1 1 1 1 1 1 1 1 1 1 1 1 1 1 1 1 1 1 1 1 1 1 1 1 1 1 1 1 1 1 1 1 1 1 1 1 1 1 1 1 1 1 1 1 1 1 1 1 1 1 1 1 1 1 1 1 1 1 1 1 1 1 1 1 1 1 1 1 1 1 1 1 1 1 1 1 1 1 1 1 1 1 1 1 1 1 1 1 1 1 1 1 1 1 1 1 1 1 1 1 1 1 1 1 1 1 1 1 1 1 1\n"
          ]
        },
        {
          "output_type": "stream",
          "name": "stdout",
          "text": [
            "INFO:tensorflow:segment_ids: 0 0 0 0 0 0 0 0 0 0 0 0 0 0 0 0 0 0 0 0 0 0 0 0 0 0 0 0 0 0 0 0 0 0 0 0 0 0 0 0 0 0 0 0 0 0 0 0 0 0 0 0 0 0 0 0 0 0 0 0 0 0 0 0 0 0 0 0 0 0 0 0 0 0 0 0 0 0 0 0 0 0 0 0 0 0 0 0 0 0 0 0 0 0 0 0 0 0 0 0 0 0 0 0 0 0 0 0 0 0 0 0 0 0 0 0 0 0 0 0 0 0 0 0 0\n"
          ]
        },
        {
          "output_type": "stream",
          "name": "stderr",
          "text": [
            "INFO:tensorflow:segment_ids: 0 0 0 0 0 0 0 0 0 0 0 0 0 0 0 0 0 0 0 0 0 0 0 0 0 0 0 0 0 0 0 0 0 0 0 0 0 0 0 0 0 0 0 0 0 0 0 0 0 0 0 0 0 0 0 0 0 0 0 0 0 0 0 0 0 0 0 0 0 0 0 0 0 0 0 0 0 0 0 0 0 0 0 0 0 0 0 0 0 0 0 0 0 0 0 0 0 0 0 0 0 0 0 0 0 0 0 0 0 0 0 0 0 0 0 0 0 0 0 0 0 0 0 0 0\n"
          ]
        },
        {
          "output_type": "stream",
          "name": "stdout",
          "text": [
            "INFO:tensorflow:label: 0 (id = 0)\n"
          ]
        },
        {
          "output_type": "stream",
          "name": "stderr",
          "text": [
            "INFO:tensorflow:label: 0 (id = 0)\n"
          ]
        },
        {
          "output_type": "stream",
          "name": "stdout",
          "text": [
            "INFO:tensorflow:*** Example ***\n"
          ]
        },
        {
          "output_type": "stream",
          "name": "stderr",
          "text": [
            "INFO:tensorflow:*** Example ***\n"
          ]
        },
        {
          "output_type": "stream",
          "name": "stdout",
          "text": [
            "INFO:tensorflow:guid: \n"
          ]
        },
        {
          "output_type": "stream",
          "name": "stderr",
          "text": [
            "INFO:tensorflow:guid: \n"
          ]
        },
        {
          "output_type": "stream",
          "name": "stdout",
          "text": [
            "INFO:tensorflow:tokens: [CLS] ( see the end of the chapter for notes . ) \" harder - , \" land ##o begged , \" fuck , i want to come before my leg starts cr ##amp ##ing - \" behind him , michael huffed out a breathless laugh , speeding up his thrusts . they were probably in the most uncomfortable position in the world right now , land ##o bent over , hands sprawled against the wall of the barn , bouncing up and down on michael under him , who was sat on an old fe ##rti ##lizer box to even out their height difference . the air was stuff ##y , it smelled like plant matter and animals and tractor fuel , and [SEP]\n"
          ]
        },
        {
          "output_type": "stream",
          "name": "stderr",
          "text": [
            "INFO:tensorflow:tokens: [CLS] ( see the end of the chapter for notes . ) \" harder - , \" land ##o begged , \" fuck , i want to come before my leg starts cr ##amp ##ing - \" behind him , michael huffed out a breathless laugh , speeding up his thrusts . they were probably in the most uncomfortable position in the world right now , land ##o bent over , hands sprawled against the wall of the barn , bouncing up and down on michael under him , who was sat on an old fe ##rti ##lizer box to even out their height difference . the air was stuff ##y , it smelled like plant matter and animals and tractor fuel , and [SEP]\n"
          ]
        },
        {
          "output_type": "stream",
          "name": "stdout",
          "text": [
            "INFO:tensorflow:input_ids: 101 1006 2156 1996 2203 1997 1996 3127 2005 3964 1012 1007 1000 6211 1011 1010 1000 2455 2080 12999 1010 1000 6616 1010 1045 2215 2000 2272 2077 2026 4190 4627 13675 16613 2075 1011 1000 2369 2032 1010 2745 25014 2041 1037 16701 4756 1010 21485 2039 2010 25842 1012 2027 2020 2763 1999 1996 2087 8796 2597 1999 1996 2088 2157 2085 1010 2455 2080 6260 2058 1010 2398 21212 2114 1996 2813 1997 1996 8659 1010 16361 2039 1998 2091 2006 2745 2104 2032 1010 2040 2001 2938 2006 2019 2214 10768 28228 28863 3482 2000 2130 2041 2037 4578 4489 1012 1996 2250 2001 4933 2100 1010 2009 9557 2066 3269 3043 1998 4176 1998 16358 4762 1010 1998 102\n"
          ]
        },
        {
          "output_type": "stream",
          "name": "stderr",
          "text": [
            "INFO:tensorflow:input_ids: 101 1006 2156 1996 2203 1997 1996 3127 2005 3964 1012 1007 1000 6211 1011 1010 1000 2455 2080 12999 1010 1000 6616 1010 1045 2215 2000 2272 2077 2026 4190 4627 13675 16613 2075 1011 1000 2369 2032 1010 2745 25014 2041 1037 16701 4756 1010 21485 2039 2010 25842 1012 2027 2020 2763 1999 1996 2087 8796 2597 1999 1996 2088 2157 2085 1010 2455 2080 6260 2058 1010 2398 21212 2114 1996 2813 1997 1996 8659 1010 16361 2039 1998 2091 2006 2745 2104 2032 1010 2040 2001 2938 2006 2019 2214 10768 28228 28863 3482 2000 2130 2041 2037 4578 4489 1012 1996 2250 2001 4933 2100 1010 2009 9557 2066 3269 3043 1998 4176 1998 16358 4762 1010 1998 102\n"
          ]
        },
        {
          "output_type": "stream",
          "name": "stdout",
          "text": [
            "INFO:tensorflow:input_mask: 1 1 1 1 1 1 1 1 1 1 1 1 1 1 1 1 1 1 1 1 1 1 1 1 1 1 1 1 1 1 1 1 1 1 1 1 1 1 1 1 1 1 1 1 1 1 1 1 1 1 1 1 1 1 1 1 1 1 1 1 1 1 1 1 1 1 1 1 1 1 1 1 1 1 1 1 1 1 1 1 1 1 1 1 1 1 1 1 1 1 1 1 1 1 1 1 1 1 1 1 1 1 1 1 1 1 1 1 1 1 1 1 1 1 1 1 1 1 1 1 1 1 1 1 1\n"
          ]
        },
        {
          "output_type": "stream",
          "name": "stderr",
          "text": [
            "INFO:tensorflow:input_mask: 1 1 1 1 1 1 1 1 1 1 1 1 1 1 1 1 1 1 1 1 1 1 1 1 1 1 1 1 1 1 1 1 1 1 1 1 1 1 1 1 1 1 1 1 1 1 1 1 1 1 1 1 1 1 1 1 1 1 1 1 1 1 1 1 1 1 1 1 1 1 1 1 1 1 1 1 1 1 1 1 1 1 1 1 1 1 1 1 1 1 1 1 1 1 1 1 1 1 1 1 1 1 1 1 1 1 1 1 1 1 1 1 1 1 1 1 1 1 1 1 1 1 1 1 1\n"
          ]
        },
        {
          "output_type": "stream",
          "name": "stdout",
          "text": [
            "INFO:tensorflow:segment_ids: 0 0 0 0 0 0 0 0 0 0 0 0 0 0 0 0 0 0 0 0 0 0 0 0 0 0 0 0 0 0 0 0 0 0 0 0 0 0 0 0 0 0 0 0 0 0 0 0 0 0 0 0 0 0 0 0 0 0 0 0 0 0 0 0 0 0 0 0 0 0 0 0 0 0 0 0 0 0 0 0 0 0 0 0 0 0 0 0 0 0 0 0 0 0 0 0 0 0 0 0 0 0 0 0 0 0 0 0 0 0 0 0 0 0 0 0 0 0 0 0 0 0 0 0 0\n"
          ]
        },
        {
          "output_type": "stream",
          "name": "stderr",
          "text": [
            "INFO:tensorflow:segment_ids: 0 0 0 0 0 0 0 0 0 0 0 0 0 0 0 0 0 0 0 0 0 0 0 0 0 0 0 0 0 0 0 0 0 0 0 0 0 0 0 0 0 0 0 0 0 0 0 0 0 0 0 0 0 0 0 0 0 0 0 0 0 0 0 0 0 0 0 0 0 0 0 0 0 0 0 0 0 0 0 0 0 0 0 0 0 0 0 0 0 0 0 0 0 0 0 0 0 0 0 0 0 0 0 0 0 0 0 0 0 0 0 0 0 0 0 0 0 0 0 0 0 0 0 0 0\n"
          ]
        },
        {
          "output_type": "stream",
          "name": "stdout",
          "text": [
            "INFO:tensorflow:label: 0 (id = 0)\n"
          ]
        },
        {
          "output_type": "stream",
          "name": "stderr",
          "text": [
            "INFO:tensorflow:label: 0 (id = 0)\n"
          ]
        },
        {
          "output_type": "stream",
          "name": "stdout",
          "text": [
            "INFO:tensorflow:*** Example ***\n"
          ]
        },
        {
          "output_type": "stream",
          "name": "stderr",
          "text": [
            "INFO:tensorflow:*** Example ***\n"
          ]
        },
        {
          "output_type": "stream",
          "name": "stdout",
          "text": [
            "INFO:tensorflow:guid: \n"
          ]
        },
        {
          "output_type": "stream",
          "name": "stderr",
          "text": [
            "INFO:tensorflow:guid: \n"
          ]
        },
        {
          "output_type": "stream",
          "name": "stdout",
          "text": [
            "INFO:tensorflow:tokens: [CLS] chapter 1 the trial was a far ##ce , and they all knew it , yet odin insisted on carrying it out all the same . loki offered no resistance , resigned to his fate . no one defended him , and why would they ? they had never liked him , never accepted him as he was , and assumed him guilty in all things . ever since he had shown a pro ##cl ##ivity for magic over sword ##play , ever since they knew he could shift from male to female at will , he was assumed un ##trust ##worthy and freak ##ish . the lies ##mith . granted , he was at least partially guilty in the attempted take over [SEP]\n"
          ]
        },
        {
          "output_type": "stream",
          "name": "stderr",
          "text": [
            "INFO:tensorflow:tokens: [CLS] chapter 1 the trial was a far ##ce , and they all knew it , yet odin insisted on carrying it out all the same . loki offered no resistance , resigned to his fate . no one defended him , and why would they ? they had never liked him , never accepted him as he was , and assumed him guilty in all things . ever since he had shown a pro ##cl ##ivity for magic over sword ##play , ever since they knew he could shift from male to female at will , he was assumed un ##trust ##worthy and freak ##ish . the lies ##mith . granted , he was at least partially guilty in the attempted take over [SEP]\n"
          ]
        },
        {
          "output_type": "stream",
          "name": "stdout",
          "text": [
            "INFO:tensorflow:input_ids: 101 3127 1015 1996 3979 2001 1037 2521 3401 1010 1998 2027 2035 2354 2009 1010 2664 26195 7278 2006 4755 2009 2041 2035 1996 2168 1012 24143 3253 2053 5012 1010 5295 2000 2010 6580 1012 2053 2028 8047 2032 1010 1998 2339 2052 2027 1029 2027 2018 2196 4669 2032 1010 2196 3970 2032 2004 2002 2001 1010 1998 5071 2032 5905 1999 2035 2477 1012 2412 2144 2002 2018 3491 1037 4013 20464 7730 2005 3894 2058 4690 13068 1010 2412 2144 2027 2354 2002 2071 5670 2013 3287 2000 2931 2012 2097 1010 2002 2001 5071 4895 24669 13966 1998 11576 4509 1012 1996 3658 19864 1012 4379 1010 2002 2001 2012 2560 6822 5905 1999 1996 4692 2202 2058 102\n"
          ]
        },
        {
          "output_type": "stream",
          "name": "stderr",
          "text": [
            "INFO:tensorflow:input_ids: 101 3127 1015 1996 3979 2001 1037 2521 3401 1010 1998 2027 2035 2354 2009 1010 2664 26195 7278 2006 4755 2009 2041 2035 1996 2168 1012 24143 3253 2053 5012 1010 5295 2000 2010 6580 1012 2053 2028 8047 2032 1010 1998 2339 2052 2027 1029 2027 2018 2196 4669 2032 1010 2196 3970 2032 2004 2002 2001 1010 1998 5071 2032 5905 1999 2035 2477 1012 2412 2144 2002 2018 3491 1037 4013 20464 7730 2005 3894 2058 4690 13068 1010 2412 2144 2027 2354 2002 2071 5670 2013 3287 2000 2931 2012 2097 1010 2002 2001 5071 4895 24669 13966 1998 11576 4509 1012 1996 3658 19864 1012 4379 1010 2002 2001 2012 2560 6822 5905 1999 1996 4692 2202 2058 102\n"
          ]
        },
        {
          "output_type": "stream",
          "name": "stdout",
          "text": [
            "INFO:tensorflow:input_mask: 1 1 1 1 1 1 1 1 1 1 1 1 1 1 1 1 1 1 1 1 1 1 1 1 1 1 1 1 1 1 1 1 1 1 1 1 1 1 1 1 1 1 1 1 1 1 1 1 1 1 1 1 1 1 1 1 1 1 1 1 1 1 1 1 1 1 1 1 1 1 1 1 1 1 1 1 1 1 1 1 1 1 1 1 1 1 1 1 1 1 1 1 1 1 1 1 1 1 1 1 1 1 1 1 1 1 1 1 1 1 1 1 1 1 1 1 1 1 1 1 1 1 1 1 1\n"
          ]
        },
        {
          "output_type": "stream",
          "name": "stderr",
          "text": [
            "INFO:tensorflow:input_mask: 1 1 1 1 1 1 1 1 1 1 1 1 1 1 1 1 1 1 1 1 1 1 1 1 1 1 1 1 1 1 1 1 1 1 1 1 1 1 1 1 1 1 1 1 1 1 1 1 1 1 1 1 1 1 1 1 1 1 1 1 1 1 1 1 1 1 1 1 1 1 1 1 1 1 1 1 1 1 1 1 1 1 1 1 1 1 1 1 1 1 1 1 1 1 1 1 1 1 1 1 1 1 1 1 1 1 1 1 1 1 1 1 1 1 1 1 1 1 1 1 1 1 1 1 1\n"
          ]
        },
        {
          "output_type": "stream",
          "name": "stdout",
          "text": [
            "INFO:tensorflow:segment_ids: 0 0 0 0 0 0 0 0 0 0 0 0 0 0 0 0 0 0 0 0 0 0 0 0 0 0 0 0 0 0 0 0 0 0 0 0 0 0 0 0 0 0 0 0 0 0 0 0 0 0 0 0 0 0 0 0 0 0 0 0 0 0 0 0 0 0 0 0 0 0 0 0 0 0 0 0 0 0 0 0 0 0 0 0 0 0 0 0 0 0 0 0 0 0 0 0 0 0 0 0 0 0 0 0 0 0 0 0 0 0 0 0 0 0 0 0 0 0 0 0 0 0 0 0 0\n"
          ]
        },
        {
          "output_type": "stream",
          "name": "stderr",
          "text": [
            "INFO:tensorflow:segment_ids: 0 0 0 0 0 0 0 0 0 0 0 0 0 0 0 0 0 0 0 0 0 0 0 0 0 0 0 0 0 0 0 0 0 0 0 0 0 0 0 0 0 0 0 0 0 0 0 0 0 0 0 0 0 0 0 0 0 0 0 0 0 0 0 0 0 0 0 0 0 0 0 0 0 0 0 0 0 0 0 0 0 0 0 0 0 0 0 0 0 0 0 0 0 0 0 0 0 0 0 0 0 0 0 0 0 0 0 0 0 0 0 0 0 0 0 0 0 0 0 0 0 0 0 0 0\n"
          ]
        },
        {
          "output_type": "stream",
          "name": "stdout",
          "text": [
            "INFO:tensorflow:label: 0 (id = 0)\n"
          ]
        },
        {
          "output_type": "stream",
          "name": "stderr",
          "text": [
            "INFO:tensorflow:label: 0 (id = 0)\n"
          ]
        },
        {
          "output_type": "stream",
          "name": "stdout",
          "text": [
            "INFO:tensorflow:Calling model_fn.\n"
          ]
        },
        {
          "output_type": "stream",
          "name": "stderr",
          "text": [
            "INFO:tensorflow:Calling model_fn.\n"
          ]
        },
        {
          "output_type": "stream",
          "name": "stdout",
          "text": [
            "INFO:tensorflow:Saver not created because there are no variables in the graph to restore\n"
          ]
        },
        {
          "output_type": "stream",
          "name": "stderr",
          "text": [
            "INFO:tensorflow:Saver not created because there are no variables in the graph to restore\n"
          ]
        },
        {
          "output_type": "stream",
          "name": "stdout",
          "text": [
            "INFO:tensorflow:Done calling model_fn.\n"
          ]
        },
        {
          "output_type": "stream",
          "name": "stderr",
          "text": [
            "INFO:tensorflow:Done calling model_fn.\n"
          ]
        },
        {
          "output_type": "stream",
          "name": "stdout",
          "text": [
            "INFO:tensorflow:Graph was finalized.\n"
          ]
        },
        {
          "output_type": "stream",
          "name": "stderr",
          "text": [
            "INFO:tensorflow:Graph was finalized.\n"
          ]
        },
        {
          "output_type": "stream",
          "name": "stdout",
          "text": [
            "INFO:tensorflow:Restoring parameters from /GD/My Drive/Colab Notebooks/BERT/bert_rating_category/model.ckpt-37\n"
          ]
        },
        {
          "output_type": "stream",
          "name": "stderr",
          "text": [
            "INFO:tensorflow:Restoring parameters from /GD/My Drive/Colab Notebooks/BERT/bert_rating_category/model.ckpt-37\n"
          ]
        },
        {
          "output_type": "stream",
          "name": "stdout",
          "text": [
            "INFO:tensorflow:Running local_init_op.\n"
          ]
        },
        {
          "output_type": "stream",
          "name": "stderr",
          "text": [
            "INFO:tensorflow:Running local_init_op.\n"
          ]
        },
        {
          "output_type": "stream",
          "name": "stdout",
          "text": [
            "INFO:tensorflow:Done running local_init_op.\n"
          ]
        },
        {
          "output_type": "stream",
          "name": "stderr",
          "text": [
            "INFO:tensorflow:Done running local_init_op.\n"
          ]
        }
      ]
    },
    {
      "cell_type": "code",
      "source": [
        "predictions[0]"
      ],
      "metadata": {
        "colab": {
          "base_uri": "https://localhost:8080/"
        },
        "id": "uFsA2Uh_Fvf9",
        "outputId": "905accf1-7997-4e88-ba11-5bb07cd1b8a5"
      },
      "execution_count": null,
      "outputs": [
        {
          "output_type": "execute_result",
          "data": {
            "text/plain": [
              "('It would be accurate to say that Jay had been enamored with you from the moment he saw you.  After his divorce he had to admit to himself that having a love life might not be in the cards for him, he had loved and lost and he appreciated the experiences he had. His life had always involved his work and it wasn\\'t so unusual that, if he were to ever meet another partner, they\\'d be a hero just as busy as he was. He doesn\\'t want to admit that the first thought he had when coming to terms with his crush on you was that it was \\'convenient\\' but you were so much more than that. A perfect match in many ways, a person who could challenge him to grow while also allowing him to take solace in them when needed.  He wasn\\'t thinking at all about his destination when his patrol was over, not quite aimless but still surprised to see himself stopping in front of your room. Your relationship... He didn\\'t know how to define it. Nothing explicitly romantic had happened yet he viewed you in a way that made it clear his brain already considered you a partner of sorts. Whether that had to be strictly work related would reveal itself with time but he tried not to sweat the small things, there were other problems that consumed his mind during the daylight hours. But now that the sun was done they had reared their ugly heads and he did the only thing he could think of to push the negativity away.  \"Jay?\" You seemed like you were already half-asleep as you answered the door.  \"Good evening. I just wanted to check how your patrol went but it seems you\\'re ready to be tucked into bed...\" Jay smiled at how cute you looked while you were mildly disheveled, dressed in baggy comfortable clothing; he could practically picture you curled up in your bed, face snuggled into your pillow but he only allowed his imagination to go so far. \"Sorry for waking you, I can go...\"  \"No, no, it\\'s fine. I mean, it is late and last time I checked you\\'re not the night owl type but if you\\'d like to talk...\"  \"It can wait until tomorrow. Do you want to grab lunch?\"  \"If work permits it...then yes.\" You gave him a sleepy smile, leaning your head against the doorframe as you looked at him. \"Are you sure there\\'s nothing more pressing on your mind?\"  Damn your perceptiveness.  \"And say there was... Would now be the appropriate time to talk about it?\"  \"Hmm...\" You tapped your chin thoughtfully, bringing Jay\\'s attention directly to your lips. He thought a man as old as him would be able to resist any sort of temptation, that your teasing wouldn\\'t get under his skin like it very obviously was. He was used to having a little more tact than this but there was something about you that made him feel like he was in a fog, no clear direction in his actions, just hoping for the best. \"I\\'d say...my roommate is out on a night patrol and won\\'t be back anytime soon. So, if there is something pressing, something that might take a bit of time to talk about, or maybe no words are needed at all...\"  \"...Ah, I guess I shouldn\\'t keep you waiting then?\"  \"Come on in~\"',\n",
              " array([-2.7890167, -1.3618772, -0.9085821, -1.2756708], dtype=float32),\n",
              " 2,\n",
              " 'Mature')"
            ]
          },
          "metadata": {},
          "execution_count": 101
        }
      ]
    },
    {
      "cell_type": "code",
      "source": [
        "enc_labels = []\n",
        "act_labels = []\n",
        "for i in range(len(predictions)):\n",
        "  enc_labels.append(predictions[i][2])\n",
        "  act_labels.append(predictions[i][3])"
      ],
      "metadata": {
        "id": "PHBEv0r8FwZ9"
      },
      "execution_count": null,
      "outputs": []
    },
    {
      "cell_type": "code",
      "source": [
        "pd.DataFrame(enc_labels, columns = ['SECTION']).to_csv('/GD/My Drive/Colab Notebooks/Fanfiction/rating_test2.csv', index = False)"
      ],
      "metadata": {
        "id": "SSEfNwp0F0Tl"
      },
      "execution_count": null,
      "outputs": []
    },
    {
      "cell_type": "code",
      "source": [
        "test"
      ],
      "metadata": {
        "colab": {
          "base_uri": "https://localhost:8080/",
          "height": 1000
        },
        "id": "GMGRdfVHIcmV",
        "outputId": "1abc0427-2ede-4875-ebab-9ba0802d8387"
      },
      "execution_count": null,
      "outputs": [
        {
          "output_type": "execute_result",
          "data": {
            "text/plain": [
              "      work_id                                              title  \\\n",
              "0    35867929                                   The Call of Fate   \n",
              "1    34628254                                          Sacrifice   \n",
              "2    38261965                                         Sick Leave   \n",
              "4    38125645                                    absence, hearts   \n",
              "7    36500893                   God of Mischief, Master of Death   \n",
              "..        ...                                                ...   \n",
              "190       236  Five People John Sheppard Didn't Expect to Mis...   \n",
              "191       237  More of the Stars and Sea (The Three Meals Remix)   \n",
              "192       238                                 A Slice of College   \n",
              "194       241                                           Runaways   \n",
              "196       243                                         Life After   \n",
              "\n",
              "                     author                 rating         category  \\\n",
              "0     ['EmpressOfTheFlame']               Explicit  F/M, M/M, Multi   \n",
              "1    ['Thewonderfulwiccan']               Explicit            Multi   \n",
              "2      ['Hemaris_diffinis']  Teen And Up Audiences              Gen   \n",
              "4        ['Marmeladeskies']               Explicit              M/M   \n",
              "7          ['CrazyArtChic']  Teen And Up Audiences              Gen   \n",
              "..                      ...                    ...              ...   \n",
              "190                ['Kass']                 Mature              M/M   \n",
              "191                ['Kass']      General Audiences              F/M   \n",
              "192                ['Kass']                 Mature              F/F   \n",
              "194  ['Mollyamory (Molly)']                 Mature              M/M   \n",
              "196       ['velocitygrass']               Explicit              M/M   \n",
              "\n",
              "                                                fandom  \\\n",
              "0                    HELIOS Rising Heroes (Video Game)   \n",
              "1    Young Justice (Cartoon), Young Justice - All M...   \n",
              "2                              The Owl House (Cartoon)   \n",
              "4                                        Formula 1 RPF   \n",
              "7    Harry Potter - J. K. Rowling, The Avengers (Ma...   \n",
              "..                                                 ...   \n",
              "190                                  Stargate Atlantis   \n",
              "191                                  Stargate Atlantis   \n",
              "192                                     Daria - Fandom   \n",
              "194                                              NSYNC   \n",
              "196                                  Stargate Atlantis   \n",
              "\n",
              "                                          relationship  \\\n",
              "0    Jay Kidman/Reader, Various/Reader, Dino Albani...   \n",
              "1                              Dick Grayson/Wally West   \n",
              "2                        Eda Clawthorne/Raine Whispers   \n",
              "4    Lando Norris/Max Verstappen/Daniel Ricciardo/C...   \n",
              "7                                                  NaN   \n",
              "..                                                 ...   \n",
              "190                         John Sheppard/Rodney McKay   \n",
              "191                                        Radek/Teyla   \n",
              "192                                         Daria/Jane   \n",
              "194                       Lance Bass/Chris Kirkpatrick   \n",
              "196                         John Sheppard/Rodney McKay   \n",
              "\n",
              "                                             character  \\\n",
              "0    Reader, You, Jay Kidman, Dino Albani, Akira Ot...   \n",
              "1    Dick Grayson, Wally West, Barbara Gordon, M'ga...   \n",
              "2     Raine Whispers, Terra Snapdragon, Eda Clawthorne   \n",
              "4    Lando Norris, Michael Italiano, Charles Lecler...   \n",
              "7    Female Harry Potter - Character, Hermione Gran...   \n",
              "..                                                 ...   \n",
              "190                        John Sheppard, Rodney McKay   \n",
              "191                       Radek Zelenka, Teyla Emmagan   \n",
              "192                      Daria Morgendorfer, Jane Lane   \n",
              "194                      Lance Bass, Chris Kirkpatrick   \n",
              "196                        John Sheppard, Rodney McKay   \n",
              "\n",
              "                                       additional tags language  ...   words  \\\n",
              "0    First Time, Praise Kink, Smut, Romance, Reader...  English  ...   10191   \n",
              "1    Heavy Angst, Human Trafficking, Emotional Hurt...  English  ...   51697   \n",
              "2    Amber Derwin and Kayta are mentioned but not p...  English  ...    7439   \n",
              "4    Alpha/Beta/Omega Dynamics, Omegaverse, Pack Dy...  English  ...   37314   \n",
              "7    Rule 63, Time Travel Fix-It, Master of Death H...  English  ...  112327   \n",
              "..                                                 ...      ...  ...     ...   \n",
              "190                      Remix, remixredux08, 5 Things  English  ...    1382   \n",
              "191                                Remix, remixredux08  English  ...    2624   \n",
              "192                                         First Time  English  ...    3683   \n",
              "194                                Popslash - Freeform  English  ...   11489   \n",
              "196  Earth destroyed, SGA Big Bang 2008, Suicide, S...  English  ...   48260   \n",
              "\n",
              "    chapters comments   kudos bookmarks   hits  \\\n",
              "0       15/?      1.0    13.0       1.0    455   \n",
              "1       17/?     39.0   208.0      42.0   5721   \n",
              "2        5/?     10.0    56.0       4.0    678   \n",
              "4      21/27    625.0   512.0      41.0  18354   \n",
              "7       34/?   1044.0  1722.0     602.0  51838   \n",
              "..       ...      ...     ...       ...    ...   \n",
              "190      1/1      4.0    76.0       3.0   1260   \n",
              "191      1/1      8.0    30.0       4.0    953   \n",
              "192      1/1     19.0   401.0      49.0   5235   \n",
              "194      1/1      NaN    14.0       2.0    412   \n",
              "196      1/1     22.0   286.0     103.0   8367   \n",
              "\n",
              "                                             all_kudos  all_bookmarks  \\\n",
              "0                                   ['APH_Wonderland']             []   \n",
              "1    ['herbalwigeon', 'spekkoekenak', 'NightBek', '...             []   \n",
              "2    ['goblingorg', 'Dantsem', 'sapphicsoup', 'imlo...             []   \n",
              "4    ['nonotwithoutyou', 'OneAccount', 'loveisme', ...             []   \n",
              "7    ['Babyb34r', 'FreedomFighterKris', 'Zerilla', ...             []   \n",
              "..                                                 ...            ...   \n",
              "190  ['greenfizzpops', 'Brightbear', 'gingerpolyglo...             []   \n",
              "191  ['Outnumbered18', 'Rocketscientists', 'Ravenne...             []   \n",
              "192  ['future1dustries', 'scrawnycalc', 'originalbl...             []   \n",
              "194  ['verilix', 'FrkAemelin', 'mandralyne', 'Rubic...             []   \n",
              "196  ['Zzickle', 'Emilise284', 'Madam_Vu', 'prollpe...             []   \n",
              "\n",
              "                                                  body  \\\n",
              "0    It would be accurate to say that Jay had been ...   \n",
              "1    They'd scream. \\n\\nThey'd cry. \\n\\nBeg to go h...   \n",
              "2    Ok, ok, I need to calm down and make a plan, R...   \n",
              "4    \\n          (See the end of the chapter for  n...   \n",
              "7    Chapter 1\\n\\n \\n\\nThe trial was a farce, and t...   \n",
              "..                                                 ...   \n",
              "190  \\n1. The guy with the bass at Bagram\\n\\n\\nAll ...   \n",
              "191  Mysterious power readings always meant trouble...   \n",
              "192  The first time they went for pizza in Boston, ...   \n",
              "194  \"Are you packed?\"\\n\\n\"No,\" Chris said, letting...   \n",
              "196  Prologue:\\n\\nCharlie Mayer's life began when h...   \n",
              "\n",
              "                                         Body_Parsed_1  \n",
              "0    It would be accurate to say that Jay had been ...  \n",
              "1    They'd scream.   They'd cry.   Beg to go home ...  \n",
              "2    Ok, ok, I need to calm down and make a plan, R...  \n",
              "4         (See the end of the chapter for  notes.) ...  \n",
              "7    Chapter 1  The trial was a farce, and they all...  \n",
              "..                                                 ...  \n",
              "190   1. The guy with the bass at Bagram   All of t...  \n",
              "191  Mysterious power readings always meant trouble...  \n",
              "192  The first time they went for pizza in Boston, ...  \n",
              "194  \"Are you packed?\"  \"No,\" Chris said, letting s...  \n",
              "196  Prologue:  Charlie Mayer's life began when he ...  \n",
              "\n",
              "[158 rows x 23 columns]"
            ],
            "text/html": [
              "\n",
              "  <div id=\"df-874d37ff-fcb4-4125-bfba-e4a8c047e667\">\n",
              "    <div class=\"colab-df-container\">\n",
              "      <div>\n",
              "<style scoped>\n",
              "    .dataframe tbody tr th:only-of-type {\n",
              "        vertical-align: middle;\n",
              "    }\n",
              "\n",
              "    .dataframe tbody tr th {\n",
              "        vertical-align: top;\n",
              "    }\n",
              "\n",
              "    .dataframe thead th {\n",
              "        text-align: right;\n",
              "    }\n",
              "</style>\n",
              "<table border=\"1\" class=\"dataframe\">\n",
              "  <thead>\n",
              "    <tr style=\"text-align: right;\">\n",
              "      <th></th>\n",
              "      <th>work_id</th>\n",
              "      <th>title</th>\n",
              "      <th>author</th>\n",
              "      <th>rating</th>\n",
              "      <th>category</th>\n",
              "      <th>fandom</th>\n",
              "      <th>relationship</th>\n",
              "      <th>character</th>\n",
              "      <th>additional tags</th>\n",
              "      <th>language</th>\n",
              "      <th>...</th>\n",
              "      <th>words</th>\n",
              "      <th>chapters</th>\n",
              "      <th>comments</th>\n",
              "      <th>kudos</th>\n",
              "      <th>bookmarks</th>\n",
              "      <th>hits</th>\n",
              "      <th>all_kudos</th>\n",
              "      <th>all_bookmarks</th>\n",
              "      <th>body</th>\n",
              "      <th>Body_Parsed_1</th>\n",
              "    </tr>\n",
              "  </thead>\n",
              "  <tbody>\n",
              "    <tr>\n",
              "      <th>0</th>\n",
              "      <td>35867929</td>\n",
              "      <td>The Call of Fate</td>\n",
              "      <td>['EmpressOfTheFlame']</td>\n",
              "      <td>Explicit</td>\n",
              "      <td>F/M, M/M, Multi</td>\n",
              "      <td>HELIOS Rising Heroes (Video Game)</td>\n",
              "      <td>Jay Kidman/Reader, Various/Reader, Dino Albani...</td>\n",
              "      <td>Reader, You, Jay Kidman, Dino Albani, Akira Ot...</td>\n",
              "      <td>First Time, Praise Kink, Smut, Romance, Reader...</td>\n",
              "      <td>English</td>\n",
              "      <td>...</td>\n",
              "      <td>10191</td>\n",
              "      <td>15/?</td>\n",
              "      <td>1.0</td>\n",
              "      <td>13.0</td>\n",
              "      <td>1.0</td>\n",
              "      <td>455</td>\n",
              "      <td>['APH_Wonderland']</td>\n",
              "      <td>[]</td>\n",
              "      <td>It would be accurate to say that Jay had been ...</td>\n",
              "      <td>It would be accurate to say that Jay had been ...</td>\n",
              "    </tr>\n",
              "    <tr>\n",
              "      <th>1</th>\n",
              "      <td>34628254</td>\n",
              "      <td>Sacrifice</td>\n",
              "      <td>['Thewonderfulwiccan']</td>\n",
              "      <td>Explicit</td>\n",
              "      <td>Multi</td>\n",
              "      <td>Young Justice (Cartoon), Young Justice - All M...</td>\n",
              "      <td>Dick Grayson/Wally West</td>\n",
              "      <td>Dick Grayson, Wally West, Barbara Gordon, M'ga...</td>\n",
              "      <td>Heavy Angst, Human Trafficking, Emotional Hurt...</td>\n",
              "      <td>English</td>\n",
              "      <td>...</td>\n",
              "      <td>51697</td>\n",
              "      <td>17/?</td>\n",
              "      <td>39.0</td>\n",
              "      <td>208.0</td>\n",
              "      <td>42.0</td>\n",
              "      <td>5721</td>\n",
              "      <td>['herbalwigeon', 'spekkoekenak', 'NightBek', '...</td>\n",
              "      <td>[]</td>\n",
              "      <td>They'd scream. \\n\\nThey'd cry. \\n\\nBeg to go h...</td>\n",
              "      <td>They'd scream.   They'd cry.   Beg to go home ...</td>\n",
              "    </tr>\n",
              "    <tr>\n",
              "      <th>2</th>\n",
              "      <td>38261965</td>\n",
              "      <td>Sick Leave</td>\n",
              "      <td>['Hemaris_diffinis']</td>\n",
              "      <td>Teen And Up Audiences</td>\n",
              "      <td>Gen</td>\n",
              "      <td>The Owl House (Cartoon)</td>\n",
              "      <td>Eda Clawthorne/Raine Whispers</td>\n",
              "      <td>Raine Whispers, Terra Snapdragon, Eda Clawthorne</td>\n",
              "      <td>Amber Derwin and Kayta are mentioned but not p...</td>\n",
              "      <td>English</td>\n",
              "      <td>...</td>\n",
              "      <td>7439</td>\n",
              "      <td>5/?</td>\n",
              "      <td>10.0</td>\n",
              "      <td>56.0</td>\n",
              "      <td>4.0</td>\n",
              "      <td>678</td>\n",
              "      <td>['goblingorg', 'Dantsem', 'sapphicsoup', 'imlo...</td>\n",
              "      <td>[]</td>\n",
              "      <td>Ok, ok, I need to calm down and make a plan, R...</td>\n",
              "      <td>Ok, ok, I need to calm down and make a plan, R...</td>\n",
              "    </tr>\n",
              "    <tr>\n",
              "      <th>4</th>\n",
              "      <td>38125645</td>\n",
              "      <td>absence, hearts</td>\n",
              "      <td>['Marmeladeskies']</td>\n",
              "      <td>Explicit</td>\n",
              "      <td>M/M</td>\n",
              "      <td>Formula 1 RPF</td>\n",
              "      <td>Lando Norris/Max Verstappen/Daniel Ricciardo/C...</td>\n",
              "      <td>Lando Norris, Michael Italiano, Charles Lecler...</td>\n",
              "      <td>Alpha/Beta/Omega Dynamics, Omegaverse, Pack Dy...</td>\n",
              "      <td>English</td>\n",
              "      <td>...</td>\n",
              "      <td>37314</td>\n",
              "      <td>21/27</td>\n",
              "      <td>625.0</td>\n",
              "      <td>512.0</td>\n",
              "      <td>41.0</td>\n",
              "      <td>18354</td>\n",
              "      <td>['nonotwithoutyou', 'OneAccount', 'loveisme', ...</td>\n",
              "      <td>[]</td>\n",
              "      <td>\\n          (See the end of the chapter for  n...</td>\n",
              "      <td>(See the end of the chapter for  notes.) ...</td>\n",
              "    </tr>\n",
              "    <tr>\n",
              "      <th>7</th>\n",
              "      <td>36500893</td>\n",
              "      <td>God of Mischief, Master of Death</td>\n",
              "      <td>['CrazyArtChic']</td>\n",
              "      <td>Teen And Up Audiences</td>\n",
              "      <td>Gen</td>\n",
              "      <td>Harry Potter - J. K. Rowling, The Avengers (Ma...</td>\n",
              "      <td>NaN</td>\n",
              "      <td>Female Harry Potter - Character, Hermione Gran...</td>\n",
              "      <td>Rule 63, Time Travel Fix-It, Master of Death H...</td>\n",
              "      <td>English</td>\n",
              "      <td>...</td>\n",
              "      <td>112327</td>\n",
              "      <td>34/?</td>\n",
              "      <td>1044.0</td>\n",
              "      <td>1722.0</td>\n",
              "      <td>602.0</td>\n",
              "      <td>51838</td>\n",
              "      <td>['Babyb34r', 'FreedomFighterKris', 'Zerilla', ...</td>\n",
              "      <td>[]</td>\n",
              "      <td>Chapter 1\\n\\n \\n\\nThe trial was a farce, and t...</td>\n",
              "      <td>Chapter 1  The trial was a farce, and they all...</td>\n",
              "    </tr>\n",
              "    <tr>\n",
              "      <th>...</th>\n",
              "      <td>...</td>\n",
              "      <td>...</td>\n",
              "      <td>...</td>\n",
              "      <td>...</td>\n",
              "      <td>...</td>\n",
              "      <td>...</td>\n",
              "      <td>...</td>\n",
              "      <td>...</td>\n",
              "      <td>...</td>\n",
              "      <td>...</td>\n",
              "      <td>...</td>\n",
              "      <td>...</td>\n",
              "      <td>...</td>\n",
              "      <td>...</td>\n",
              "      <td>...</td>\n",
              "      <td>...</td>\n",
              "      <td>...</td>\n",
              "      <td>...</td>\n",
              "      <td>...</td>\n",
              "      <td>...</td>\n",
              "      <td>...</td>\n",
              "    </tr>\n",
              "    <tr>\n",
              "      <th>190</th>\n",
              "      <td>236</td>\n",
              "      <td>Five People John Sheppard Didn't Expect to Mis...</td>\n",
              "      <td>['Kass']</td>\n",
              "      <td>Mature</td>\n",
              "      <td>M/M</td>\n",
              "      <td>Stargate Atlantis</td>\n",
              "      <td>John Sheppard/Rodney McKay</td>\n",
              "      <td>John Sheppard, Rodney McKay</td>\n",
              "      <td>Remix, remixredux08, 5 Things</td>\n",
              "      <td>English</td>\n",
              "      <td>...</td>\n",
              "      <td>1382</td>\n",
              "      <td>1/1</td>\n",
              "      <td>4.0</td>\n",
              "      <td>76.0</td>\n",
              "      <td>3.0</td>\n",
              "      <td>1260</td>\n",
              "      <td>['greenfizzpops', 'Brightbear', 'gingerpolyglo...</td>\n",
              "      <td>[]</td>\n",
              "      <td>\\n1. The guy with the bass at Bagram\\n\\n\\nAll ...</td>\n",
              "      <td>1. The guy with the bass at Bagram   All of t...</td>\n",
              "    </tr>\n",
              "    <tr>\n",
              "      <th>191</th>\n",
              "      <td>237</td>\n",
              "      <td>More of the Stars and Sea (The Three Meals Remix)</td>\n",
              "      <td>['Kass']</td>\n",
              "      <td>General Audiences</td>\n",
              "      <td>F/M</td>\n",
              "      <td>Stargate Atlantis</td>\n",
              "      <td>Radek/Teyla</td>\n",
              "      <td>Radek Zelenka, Teyla Emmagan</td>\n",
              "      <td>Remix, remixredux08</td>\n",
              "      <td>English</td>\n",
              "      <td>...</td>\n",
              "      <td>2624</td>\n",
              "      <td>1/1</td>\n",
              "      <td>8.0</td>\n",
              "      <td>30.0</td>\n",
              "      <td>4.0</td>\n",
              "      <td>953</td>\n",
              "      <td>['Outnumbered18', 'Rocketscientists', 'Ravenne...</td>\n",
              "      <td>[]</td>\n",
              "      <td>Mysterious power readings always meant trouble...</td>\n",
              "      <td>Mysterious power readings always meant trouble...</td>\n",
              "    </tr>\n",
              "    <tr>\n",
              "      <th>192</th>\n",
              "      <td>238</td>\n",
              "      <td>A Slice of College</td>\n",
              "      <td>['Kass']</td>\n",
              "      <td>Mature</td>\n",
              "      <td>F/F</td>\n",
              "      <td>Daria - Fandom</td>\n",
              "      <td>Daria/Jane</td>\n",
              "      <td>Daria Morgendorfer, Jane Lane</td>\n",
              "      <td>First Time</td>\n",
              "      <td>English</td>\n",
              "      <td>...</td>\n",
              "      <td>3683</td>\n",
              "      <td>1/1</td>\n",
              "      <td>19.0</td>\n",
              "      <td>401.0</td>\n",
              "      <td>49.0</td>\n",
              "      <td>5235</td>\n",
              "      <td>['future1dustries', 'scrawnycalc', 'originalbl...</td>\n",
              "      <td>[]</td>\n",
              "      <td>The first time they went for pizza in Boston, ...</td>\n",
              "      <td>The first time they went for pizza in Boston, ...</td>\n",
              "    </tr>\n",
              "    <tr>\n",
              "      <th>194</th>\n",
              "      <td>241</td>\n",
              "      <td>Runaways</td>\n",
              "      <td>['Mollyamory (Molly)']</td>\n",
              "      <td>Mature</td>\n",
              "      <td>M/M</td>\n",
              "      <td>NSYNC</td>\n",
              "      <td>Lance Bass/Chris Kirkpatrick</td>\n",
              "      <td>Lance Bass, Chris Kirkpatrick</td>\n",
              "      <td>Popslash - Freeform</td>\n",
              "      <td>English</td>\n",
              "      <td>...</td>\n",
              "      <td>11489</td>\n",
              "      <td>1/1</td>\n",
              "      <td>NaN</td>\n",
              "      <td>14.0</td>\n",
              "      <td>2.0</td>\n",
              "      <td>412</td>\n",
              "      <td>['verilix', 'FrkAemelin', 'mandralyne', 'Rubic...</td>\n",
              "      <td>[]</td>\n",
              "      <td>\"Are you packed?\"\\n\\n\"No,\" Chris said, letting...</td>\n",
              "      <td>\"Are you packed?\"  \"No,\" Chris said, letting s...</td>\n",
              "    </tr>\n",
              "    <tr>\n",
              "      <th>196</th>\n",
              "      <td>243</td>\n",
              "      <td>Life After</td>\n",
              "      <td>['velocitygrass']</td>\n",
              "      <td>Explicit</td>\n",
              "      <td>M/M</td>\n",
              "      <td>Stargate Atlantis</td>\n",
              "      <td>John Sheppard/Rodney McKay</td>\n",
              "      <td>John Sheppard, Rodney McKay</td>\n",
              "      <td>Earth destroyed, SGA Big Bang 2008, Suicide, S...</td>\n",
              "      <td>English</td>\n",
              "      <td>...</td>\n",
              "      <td>48260</td>\n",
              "      <td>1/1</td>\n",
              "      <td>22.0</td>\n",
              "      <td>286.0</td>\n",
              "      <td>103.0</td>\n",
              "      <td>8367</td>\n",
              "      <td>['Zzickle', 'Emilise284', 'Madam_Vu', 'prollpe...</td>\n",
              "      <td>[]</td>\n",
              "      <td>Prologue:\\n\\nCharlie Mayer's life began when h...</td>\n",
              "      <td>Prologue:  Charlie Mayer's life began when he ...</td>\n",
              "    </tr>\n",
              "  </tbody>\n",
              "</table>\n",
              "<p>158 rows × 23 columns</p>\n",
              "</div>\n",
              "      <button class=\"colab-df-convert\" onclick=\"convertToInteractive('df-874d37ff-fcb4-4125-bfba-e4a8c047e667')\"\n",
              "              title=\"Convert this dataframe to an interactive table.\"\n",
              "              style=\"display:none;\">\n",
              "        \n",
              "  <svg xmlns=\"http://www.w3.org/2000/svg\" height=\"24px\"viewBox=\"0 0 24 24\"\n",
              "       width=\"24px\">\n",
              "    <path d=\"M0 0h24v24H0V0z\" fill=\"none\"/>\n",
              "    <path d=\"M18.56 5.44l.94 2.06.94-2.06 2.06-.94-2.06-.94-.94-2.06-.94 2.06-2.06.94zm-11 1L8.5 8.5l.94-2.06 2.06-.94-2.06-.94L8.5 2.5l-.94 2.06-2.06.94zm10 10l.94 2.06.94-2.06 2.06-.94-2.06-.94-.94-2.06-.94 2.06-2.06.94z\"/><path d=\"M17.41 7.96l-1.37-1.37c-.4-.4-.92-.59-1.43-.59-.52 0-1.04.2-1.43.59L10.3 9.45l-7.72 7.72c-.78.78-.78 2.05 0 2.83L4 21.41c.39.39.9.59 1.41.59.51 0 1.02-.2 1.41-.59l7.78-7.78 2.81-2.81c.8-.78.8-2.07 0-2.86zM5.41 20L4 18.59l7.72-7.72 1.47 1.35L5.41 20z\"/>\n",
              "  </svg>\n",
              "      </button>\n",
              "      \n",
              "  <style>\n",
              "    .colab-df-container {\n",
              "      display:flex;\n",
              "      flex-wrap:wrap;\n",
              "      gap: 12px;\n",
              "    }\n",
              "\n",
              "    .colab-df-convert {\n",
              "      background-color: #E8F0FE;\n",
              "      border: none;\n",
              "      border-radius: 50%;\n",
              "      cursor: pointer;\n",
              "      display: none;\n",
              "      fill: #1967D2;\n",
              "      height: 32px;\n",
              "      padding: 0 0 0 0;\n",
              "      width: 32px;\n",
              "    }\n",
              "\n",
              "    .colab-df-convert:hover {\n",
              "      background-color: #E2EBFA;\n",
              "      box-shadow: 0px 1px 2px rgba(60, 64, 67, 0.3), 0px 1px 3px 1px rgba(60, 64, 67, 0.15);\n",
              "      fill: #174EA6;\n",
              "    }\n",
              "\n",
              "    [theme=dark] .colab-df-convert {\n",
              "      background-color: #3B4455;\n",
              "      fill: #D2E3FC;\n",
              "    }\n",
              "\n",
              "    [theme=dark] .colab-df-convert:hover {\n",
              "      background-color: #434B5C;\n",
              "      box-shadow: 0px 1px 3px 1px rgba(0, 0, 0, 0.15);\n",
              "      filter: drop-shadow(0px 1px 2px rgba(0, 0, 0, 0.3));\n",
              "      fill: #FFFFFF;\n",
              "    }\n",
              "  </style>\n",
              "\n",
              "      <script>\n",
              "        const buttonEl =\n",
              "          document.querySelector('#df-874d37ff-fcb4-4125-bfba-e4a8c047e667 button.colab-df-convert');\n",
              "        buttonEl.style.display =\n",
              "          google.colab.kernel.accessAllowed ? 'block' : 'none';\n",
              "\n",
              "        async function convertToInteractive(key) {\n",
              "          const element = document.querySelector('#df-874d37ff-fcb4-4125-bfba-e4a8c047e667');\n",
              "          const dataTable =\n",
              "            await google.colab.kernel.invokeFunction('convertToInteractive',\n",
              "                                                     [key], {});\n",
              "          if (!dataTable) return;\n",
              "\n",
              "          const docLinkHtml = 'Like what you see? Visit the ' +\n",
              "            '<a target=\"_blank\" href=https://colab.research.google.com/notebooks/data_table.ipynb>data table notebook</a>'\n",
              "            + ' to learn more about interactive tables.';\n",
              "          element.innerHTML = '';\n",
              "          dataTable['output_type'] = 'display_data';\n",
              "          await google.colab.output.renderOutput(dataTable, element);\n",
              "          const docLink = document.createElement('div');\n",
              "          docLink.innerHTML = docLinkHtml;\n",
              "          element.appendChild(docLink);\n",
              "        }\n",
              "      </script>\n",
              "    </div>\n",
              "  </div>\n",
              "  "
            ]
          },
          "metadata": {},
          "execution_count": 107
        }
      ]
    },
    {
      "cell_type": "code",
      "source": [
        "test['Rating_Code'] = test['rating']\n",
        "test = test.replace({'Rating_Code':rating_codes})\n",
        "test"
      ],
      "metadata": {
        "colab": {
          "base_uri": "https://localhost:8080/",
          "height": 1000
        },
        "id": "vrPHnjRbbFOf",
        "outputId": "fb97714a-2ee0-40aa-cf83-c30c7bf7bfda"
      },
      "execution_count": null,
      "outputs": [
        {
          "output_type": "execute_result",
          "data": {
            "text/plain": [
              "      work_id                                              title  \\\n",
              "0    35867929                                   The Call of Fate   \n",
              "1    34628254                                          Sacrifice   \n",
              "2    38261965                                         Sick Leave   \n",
              "4    38125645                                    absence, hearts   \n",
              "7    36500893                   God of Mischief, Master of Death   \n",
              "..        ...                                                ...   \n",
              "190       236  Five People John Sheppard Didn't Expect to Mis...   \n",
              "191       237  More of the Stars and Sea (The Three Meals Remix)   \n",
              "192       238                                 A Slice of College   \n",
              "194       241                                           Runaways   \n",
              "196       243                                         Life After   \n",
              "\n",
              "                     author                 rating         category  \\\n",
              "0     ['EmpressOfTheFlame']               Explicit  F/M, M/M, Multi   \n",
              "1    ['Thewonderfulwiccan']               Explicit            Multi   \n",
              "2      ['Hemaris_diffinis']  Teen And Up Audiences              Gen   \n",
              "4        ['Marmeladeskies']               Explicit              M/M   \n",
              "7          ['CrazyArtChic']  Teen And Up Audiences              Gen   \n",
              "..                      ...                    ...              ...   \n",
              "190                ['Kass']                 Mature              M/M   \n",
              "191                ['Kass']      General Audiences              F/M   \n",
              "192                ['Kass']                 Mature              F/F   \n",
              "194  ['Mollyamory (Molly)']                 Mature              M/M   \n",
              "196       ['velocitygrass']               Explicit              M/M   \n",
              "\n",
              "                                                fandom  \\\n",
              "0                    HELIOS Rising Heroes (Video Game)   \n",
              "1    Young Justice (Cartoon), Young Justice - All M...   \n",
              "2                              The Owl House (Cartoon)   \n",
              "4                                        Formula 1 RPF   \n",
              "7    Harry Potter - J. K. Rowling, The Avengers (Ma...   \n",
              "..                                                 ...   \n",
              "190                                  Stargate Atlantis   \n",
              "191                                  Stargate Atlantis   \n",
              "192                                     Daria - Fandom   \n",
              "194                                              NSYNC   \n",
              "196                                  Stargate Atlantis   \n",
              "\n",
              "                                          relationship  \\\n",
              "0    Jay Kidman/Reader, Various/Reader, Dino Albani...   \n",
              "1                              Dick Grayson/Wally West   \n",
              "2                        Eda Clawthorne/Raine Whispers   \n",
              "4    Lando Norris/Max Verstappen/Daniel Ricciardo/C...   \n",
              "7                                                  NaN   \n",
              "..                                                 ...   \n",
              "190                         John Sheppard/Rodney McKay   \n",
              "191                                        Radek/Teyla   \n",
              "192                                         Daria/Jane   \n",
              "194                       Lance Bass/Chris Kirkpatrick   \n",
              "196                         John Sheppard/Rodney McKay   \n",
              "\n",
              "                                             character  \\\n",
              "0    Reader, You, Jay Kidman, Dino Albani, Akira Ot...   \n",
              "1    Dick Grayson, Wally West, Barbara Gordon, M'ga...   \n",
              "2     Raine Whispers, Terra Snapdragon, Eda Clawthorne   \n",
              "4    Lando Norris, Michael Italiano, Charles Lecler...   \n",
              "7    Female Harry Potter - Character, Hermione Gran...   \n",
              "..                                                 ...   \n",
              "190                        John Sheppard, Rodney McKay   \n",
              "191                       Radek Zelenka, Teyla Emmagan   \n",
              "192                      Daria Morgendorfer, Jane Lane   \n",
              "194                      Lance Bass, Chris Kirkpatrick   \n",
              "196                        John Sheppard, Rodney McKay   \n",
              "\n",
              "                                       additional tags language  ... chapters  \\\n",
              "0    First Time, Praise Kink, Smut, Romance, Reader...  English  ...     15/?   \n",
              "1    Heavy Angst, Human Trafficking, Emotional Hurt...  English  ...     17/?   \n",
              "2    Amber Derwin and Kayta are mentioned but not p...  English  ...      5/?   \n",
              "4    Alpha/Beta/Omega Dynamics, Omegaverse, Pack Dy...  English  ...    21/27   \n",
              "7    Rule 63, Time Travel Fix-It, Master of Death H...  English  ...     34/?   \n",
              "..                                                 ...      ...  ...      ...   \n",
              "190                      Remix, remixredux08, 5 Things  English  ...      1/1   \n",
              "191                                Remix, remixredux08  English  ...      1/1   \n",
              "192                                         First Time  English  ...      1/1   \n",
              "194                                Popslash - Freeform  English  ...      1/1   \n",
              "196  Earth destroyed, SGA Big Bang 2008, Suicide, S...  English  ...      1/1   \n",
              "\n",
              "    comments   kudos  bookmarks   hits  \\\n",
              "0        1.0    13.0        1.0    455   \n",
              "1       39.0   208.0       42.0   5721   \n",
              "2       10.0    56.0        4.0    678   \n",
              "4      625.0   512.0       41.0  18354   \n",
              "7     1044.0  1722.0      602.0  51838   \n",
              "..       ...     ...        ...    ...   \n",
              "190      4.0    76.0        3.0   1260   \n",
              "191      8.0    30.0        4.0    953   \n",
              "192     19.0   401.0       49.0   5235   \n",
              "194      NaN    14.0        2.0    412   \n",
              "196     22.0   286.0      103.0   8367   \n",
              "\n",
              "                                             all_kudos  all_bookmarks  \\\n",
              "0                                   ['APH_Wonderland']             []   \n",
              "1    ['herbalwigeon', 'spekkoekenak', 'NightBek', '...             []   \n",
              "2    ['goblingorg', 'Dantsem', 'sapphicsoup', 'imlo...             []   \n",
              "4    ['nonotwithoutyou', 'OneAccount', 'loveisme', ...             []   \n",
              "7    ['Babyb34r', 'FreedomFighterKris', 'Zerilla', ...             []   \n",
              "..                                                 ...            ...   \n",
              "190  ['greenfizzpops', 'Brightbear', 'gingerpolyglo...             []   \n",
              "191  ['Outnumbered18', 'Rocketscientists', 'Ravenne...             []   \n",
              "192  ['future1dustries', 'scrawnycalc', 'originalbl...             []   \n",
              "194  ['verilix', 'FrkAemelin', 'mandralyne', 'Rubic...             []   \n",
              "196  ['Zzickle', 'Emilise284', 'Madam_Vu', 'prollpe...             []   \n",
              "\n",
              "                                                  body  \\\n",
              "0    It would be accurate to say that Jay had been ...   \n",
              "1    They'd scream. \\n\\nThey'd cry. \\n\\nBeg to go h...   \n",
              "2    Ok, ok, I need to calm down and make a plan, R...   \n",
              "4    \\n          (See the end of the chapter for  n...   \n",
              "7    Chapter 1\\n\\n \\n\\nThe trial was a farce, and t...   \n",
              "..                                                 ...   \n",
              "190  \\n1. The guy with the bass at Bagram\\n\\n\\nAll ...   \n",
              "191  Mysterious power readings always meant trouble...   \n",
              "192  The first time they went for pizza in Boston, ...   \n",
              "194  \"Are you packed?\"\\n\\n\"No,\" Chris said, letting...   \n",
              "196  Prologue:\\n\\nCharlie Mayer's life began when h...   \n",
              "\n",
              "                                         Body_Parsed_1 Rating_Code  \n",
              "0    It would be accurate to say that Jay had been ...           3  \n",
              "1    They'd scream.   They'd cry.   Beg to go home ...           3  \n",
              "2    Ok, ok, I need to calm down and make a plan, R...           1  \n",
              "4         (See the end of the chapter for  notes.) ...           3  \n",
              "7    Chapter 1  The trial was a farce, and they all...           1  \n",
              "..                                                 ...         ...  \n",
              "190   1. The guy with the bass at Bagram   All of t...           2  \n",
              "191  Mysterious power readings always meant trouble...           0  \n",
              "192  The first time they went for pizza in Boston, ...           2  \n",
              "194  \"Are you packed?\"  \"No,\" Chris said, letting s...           2  \n",
              "196  Prologue:  Charlie Mayer's life began when he ...           3  \n",
              "\n",
              "[158 rows x 24 columns]"
            ],
            "text/html": [
              "\n",
              "  <div id=\"df-61ac853a-5f99-4e1c-ab51-e8850f59264f\">\n",
              "    <div class=\"colab-df-container\">\n",
              "      <div>\n",
              "<style scoped>\n",
              "    .dataframe tbody tr th:only-of-type {\n",
              "        vertical-align: middle;\n",
              "    }\n",
              "\n",
              "    .dataframe tbody tr th {\n",
              "        vertical-align: top;\n",
              "    }\n",
              "\n",
              "    .dataframe thead th {\n",
              "        text-align: right;\n",
              "    }\n",
              "</style>\n",
              "<table border=\"1\" class=\"dataframe\">\n",
              "  <thead>\n",
              "    <tr style=\"text-align: right;\">\n",
              "      <th></th>\n",
              "      <th>work_id</th>\n",
              "      <th>title</th>\n",
              "      <th>author</th>\n",
              "      <th>rating</th>\n",
              "      <th>category</th>\n",
              "      <th>fandom</th>\n",
              "      <th>relationship</th>\n",
              "      <th>character</th>\n",
              "      <th>additional tags</th>\n",
              "      <th>language</th>\n",
              "      <th>...</th>\n",
              "      <th>chapters</th>\n",
              "      <th>comments</th>\n",
              "      <th>kudos</th>\n",
              "      <th>bookmarks</th>\n",
              "      <th>hits</th>\n",
              "      <th>all_kudos</th>\n",
              "      <th>all_bookmarks</th>\n",
              "      <th>body</th>\n",
              "      <th>Body_Parsed_1</th>\n",
              "      <th>Rating_Code</th>\n",
              "    </tr>\n",
              "  </thead>\n",
              "  <tbody>\n",
              "    <tr>\n",
              "      <th>0</th>\n",
              "      <td>35867929</td>\n",
              "      <td>The Call of Fate</td>\n",
              "      <td>['EmpressOfTheFlame']</td>\n",
              "      <td>Explicit</td>\n",
              "      <td>F/M, M/M, Multi</td>\n",
              "      <td>HELIOS Rising Heroes (Video Game)</td>\n",
              "      <td>Jay Kidman/Reader, Various/Reader, Dino Albani...</td>\n",
              "      <td>Reader, You, Jay Kidman, Dino Albani, Akira Ot...</td>\n",
              "      <td>First Time, Praise Kink, Smut, Romance, Reader...</td>\n",
              "      <td>English</td>\n",
              "      <td>...</td>\n",
              "      <td>15/?</td>\n",
              "      <td>1.0</td>\n",
              "      <td>13.0</td>\n",
              "      <td>1.0</td>\n",
              "      <td>455</td>\n",
              "      <td>['APH_Wonderland']</td>\n",
              "      <td>[]</td>\n",
              "      <td>It would be accurate to say that Jay had been ...</td>\n",
              "      <td>It would be accurate to say that Jay had been ...</td>\n",
              "      <td>3</td>\n",
              "    </tr>\n",
              "    <tr>\n",
              "      <th>1</th>\n",
              "      <td>34628254</td>\n",
              "      <td>Sacrifice</td>\n",
              "      <td>['Thewonderfulwiccan']</td>\n",
              "      <td>Explicit</td>\n",
              "      <td>Multi</td>\n",
              "      <td>Young Justice (Cartoon), Young Justice - All M...</td>\n",
              "      <td>Dick Grayson/Wally West</td>\n",
              "      <td>Dick Grayson, Wally West, Barbara Gordon, M'ga...</td>\n",
              "      <td>Heavy Angst, Human Trafficking, Emotional Hurt...</td>\n",
              "      <td>English</td>\n",
              "      <td>...</td>\n",
              "      <td>17/?</td>\n",
              "      <td>39.0</td>\n",
              "      <td>208.0</td>\n",
              "      <td>42.0</td>\n",
              "      <td>5721</td>\n",
              "      <td>['herbalwigeon', 'spekkoekenak', 'NightBek', '...</td>\n",
              "      <td>[]</td>\n",
              "      <td>They'd scream. \\n\\nThey'd cry. \\n\\nBeg to go h...</td>\n",
              "      <td>They'd scream.   They'd cry.   Beg to go home ...</td>\n",
              "      <td>3</td>\n",
              "    </tr>\n",
              "    <tr>\n",
              "      <th>2</th>\n",
              "      <td>38261965</td>\n",
              "      <td>Sick Leave</td>\n",
              "      <td>['Hemaris_diffinis']</td>\n",
              "      <td>Teen And Up Audiences</td>\n",
              "      <td>Gen</td>\n",
              "      <td>The Owl House (Cartoon)</td>\n",
              "      <td>Eda Clawthorne/Raine Whispers</td>\n",
              "      <td>Raine Whispers, Terra Snapdragon, Eda Clawthorne</td>\n",
              "      <td>Amber Derwin and Kayta are mentioned but not p...</td>\n",
              "      <td>English</td>\n",
              "      <td>...</td>\n",
              "      <td>5/?</td>\n",
              "      <td>10.0</td>\n",
              "      <td>56.0</td>\n",
              "      <td>4.0</td>\n",
              "      <td>678</td>\n",
              "      <td>['goblingorg', 'Dantsem', 'sapphicsoup', 'imlo...</td>\n",
              "      <td>[]</td>\n",
              "      <td>Ok, ok, I need to calm down and make a plan, R...</td>\n",
              "      <td>Ok, ok, I need to calm down and make a plan, R...</td>\n",
              "      <td>1</td>\n",
              "    </tr>\n",
              "    <tr>\n",
              "      <th>4</th>\n",
              "      <td>38125645</td>\n",
              "      <td>absence, hearts</td>\n",
              "      <td>['Marmeladeskies']</td>\n",
              "      <td>Explicit</td>\n",
              "      <td>M/M</td>\n",
              "      <td>Formula 1 RPF</td>\n",
              "      <td>Lando Norris/Max Verstappen/Daniel Ricciardo/C...</td>\n",
              "      <td>Lando Norris, Michael Italiano, Charles Lecler...</td>\n",
              "      <td>Alpha/Beta/Omega Dynamics, Omegaverse, Pack Dy...</td>\n",
              "      <td>English</td>\n",
              "      <td>...</td>\n",
              "      <td>21/27</td>\n",
              "      <td>625.0</td>\n",
              "      <td>512.0</td>\n",
              "      <td>41.0</td>\n",
              "      <td>18354</td>\n",
              "      <td>['nonotwithoutyou', 'OneAccount', 'loveisme', ...</td>\n",
              "      <td>[]</td>\n",
              "      <td>\\n          (See the end of the chapter for  n...</td>\n",
              "      <td>(See the end of the chapter for  notes.) ...</td>\n",
              "      <td>3</td>\n",
              "    </tr>\n",
              "    <tr>\n",
              "      <th>7</th>\n",
              "      <td>36500893</td>\n",
              "      <td>God of Mischief, Master of Death</td>\n",
              "      <td>['CrazyArtChic']</td>\n",
              "      <td>Teen And Up Audiences</td>\n",
              "      <td>Gen</td>\n",
              "      <td>Harry Potter - J. K. Rowling, The Avengers (Ma...</td>\n",
              "      <td>NaN</td>\n",
              "      <td>Female Harry Potter - Character, Hermione Gran...</td>\n",
              "      <td>Rule 63, Time Travel Fix-It, Master of Death H...</td>\n",
              "      <td>English</td>\n",
              "      <td>...</td>\n",
              "      <td>34/?</td>\n",
              "      <td>1044.0</td>\n",
              "      <td>1722.0</td>\n",
              "      <td>602.0</td>\n",
              "      <td>51838</td>\n",
              "      <td>['Babyb34r', 'FreedomFighterKris', 'Zerilla', ...</td>\n",
              "      <td>[]</td>\n",
              "      <td>Chapter 1\\n\\n \\n\\nThe trial was a farce, and t...</td>\n",
              "      <td>Chapter 1  The trial was a farce, and they all...</td>\n",
              "      <td>1</td>\n",
              "    </tr>\n",
              "    <tr>\n",
              "      <th>...</th>\n",
              "      <td>...</td>\n",
              "      <td>...</td>\n",
              "      <td>...</td>\n",
              "      <td>...</td>\n",
              "      <td>...</td>\n",
              "      <td>...</td>\n",
              "      <td>...</td>\n",
              "      <td>...</td>\n",
              "      <td>...</td>\n",
              "      <td>...</td>\n",
              "      <td>...</td>\n",
              "      <td>...</td>\n",
              "      <td>...</td>\n",
              "      <td>...</td>\n",
              "      <td>...</td>\n",
              "      <td>...</td>\n",
              "      <td>...</td>\n",
              "      <td>...</td>\n",
              "      <td>...</td>\n",
              "      <td>...</td>\n",
              "      <td>...</td>\n",
              "    </tr>\n",
              "    <tr>\n",
              "      <th>190</th>\n",
              "      <td>236</td>\n",
              "      <td>Five People John Sheppard Didn't Expect to Mis...</td>\n",
              "      <td>['Kass']</td>\n",
              "      <td>Mature</td>\n",
              "      <td>M/M</td>\n",
              "      <td>Stargate Atlantis</td>\n",
              "      <td>John Sheppard/Rodney McKay</td>\n",
              "      <td>John Sheppard, Rodney McKay</td>\n",
              "      <td>Remix, remixredux08, 5 Things</td>\n",
              "      <td>English</td>\n",
              "      <td>...</td>\n",
              "      <td>1/1</td>\n",
              "      <td>4.0</td>\n",
              "      <td>76.0</td>\n",
              "      <td>3.0</td>\n",
              "      <td>1260</td>\n",
              "      <td>['greenfizzpops', 'Brightbear', 'gingerpolyglo...</td>\n",
              "      <td>[]</td>\n",
              "      <td>\\n1. The guy with the bass at Bagram\\n\\n\\nAll ...</td>\n",
              "      <td>1. The guy with the bass at Bagram   All of t...</td>\n",
              "      <td>2</td>\n",
              "    </tr>\n",
              "    <tr>\n",
              "      <th>191</th>\n",
              "      <td>237</td>\n",
              "      <td>More of the Stars and Sea (The Three Meals Remix)</td>\n",
              "      <td>['Kass']</td>\n",
              "      <td>General Audiences</td>\n",
              "      <td>F/M</td>\n",
              "      <td>Stargate Atlantis</td>\n",
              "      <td>Radek/Teyla</td>\n",
              "      <td>Radek Zelenka, Teyla Emmagan</td>\n",
              "      <td>Remix, remixredux08</td>\n",
              "      <td>English</td>\n",
              "      <td>...</td>\n",
              "      <td>1/1</td>\n",
              "      <td>8.0</td>\n",
              "      <td>30.0</td>\n",
              "      <td>4.0</td>\n",
              "      <td>953</td>\n",
              "      <td>['Outnumbered18', 'Rocketscientists', 'Ravenne...</td>\n",
              "      <td>[]</td>\n",
              "      <td>Mysterious power readings always meant trouble...</td>\n",
              "      <td>Mysterious power readings always meant trouble...</td>\n",
              "      <td>0</td>\n",
              "    </tr>\n",
              "    <tr>\n",
              "      <th>192</th>\n",
              "      <td>238</td>\n",
              "      <td>A Slice of College</td>\n",
              "      <td>['Kass']</td>\n",
              "      <td>Mature</td>\n",
              "      <td>F/F</td>\n",
              "      <td>Daria - Fandom</td>\n",
              "      <td>Daria/Jane</td>\n",
              "      <td>Daria Morgendorfer, Jane Lane</td>\n",
              "      <td>First Time</td>\n",
              "      <td>English</td>\n",
              "      <td>...</td>\n",
              "      <td>1/1</td>\n",
              "      <td>19.0</td>\n",
              "      <td>401.0</td>\n",
              "      <td>49.0</td>\n",
              "      <td>5235</td>\n",
              "      <td>['future1dustries', 'scrawnycalc', 'originalbl...</td>\n",
              "      <td>[]</td>\n",
              "      <td>The first time they went for pizza in Boston, ...</td>\n",
              "      <td>The first time they went for pizza in Boston, ...</td>\n",
              "      <td>2</td>\n",
              "    </tr>\n",
              "    <tr>\n",
              "      <th>194</th>\n",
              "      <td>241</td>\n",
              "      <td>Runaways</td>\n",
              "      <td>['Mollyamory (Molly)']</td>\n",
              "      <td>Mature</td>\n",
              "      <td>M/M</td>\n",
              "      <td>NSYNC</td>\n",
              "      <td>Lance Bass/Chris Kirkpatrick</td>\n",
              "      <td>Lance Bass, Chris Kirkpatrick</td>\n",
              "      <td>Popslash - Freeform</td>\n",
              "      <td>English</td>\n",
              "      <td>...</td>\n",
              "      <td>1/1</td>\n",
              "      <td>NaN</td>\n",
              "      <td>14.0</td>\n",
              "      <td>2.0</td>\n",
              "      <td>412</td>\n",
              "      <td>['verilix', 'FrkAemelin', 'mandralyne', 'Rubic...</td>\n",
              "      <td>[]</td>\n",
              "      <td>\"Are you packed?\"\\n\\n\"No,\" Chris said, letting...</td>\n",
              "      <td>\"Are you packed?\"  \"No,\" Chris said, letting s...</td>\n",
              "      <td>2</td>\n",
              "    </tr>\n",
              "    <tr>\n",
              "      <th>196</th>\n",
              "      <td>243</td>\n",
              "      <td>Life After</td>\n",
              "      <td>['velocitygrass']</td>\n",
              "      <td>Explicit</td>\n",
              "      <td>M/M</td>\n",
              "      <td>Stargate Atlantis</td>\n",
              "      <td>John Sheppard/Rodney McKay</td>\n",
              "      <td>John Sheppard, Rodney McKay</td>\n",
              "      <td>Earth destroyed, SGA Big Bang 2008, Suicide, S...</td>\n",
              "      <td>English</td>\n",
              "      <td>...</td>\n",
              "      <td>1/1</td>\n",
              "      <td>22.0</td>\n",
              "      <td>286.0</td>\n",
              "      <td>103.0</td>\n",
              "      <td>8367</td>\n",
              "      <td>['Zzickle', 'Emilise284', 'Madam_Vu', 'prollpe...</td>\n",
              "      <td>[]</td>\n",
              "      <td>Prologue:\\n\\nCharlie Mayer's life began when h...</td>\n",
              "      <td>Prologue:  Charlie Mayer's life began when he ...</td>\n",
              "      <td>3</td>\n",
              "    </tr>\n",
              "  </tbody>\n",
              "</table>\n",
              "<p>158 rows × 24 columns</p>\n",
              "</div>\n",
              "      <button class=\"colab-df-convert\" onclick=\"convertToInteractive('df-61ac853a-5f99-4e1c-ab51-e8850f59264f')\"\n",
              "              title=\"Convert this dataframe to an interactive table.\"\n",
              "              style=\"display:none;\">\n",
              "        \n",
              "  <svg xmlns=\"http://www.w3.org/2000/svg\" height=\"24px\"viewBox=\"0 0 24 24\"\n",
              "       width=\"24px\">\n",
              "    <path d=\"M0 0h24v24H0V0z\" fill=\"none\"/>\n",
              "    <path d=\"M18.56 5.44l.94 2.06.94-2.06 2.06-.94-2.06-.94-.94-2.06-.94 2.06-2.06.94zm-11 1L8.5 8.5l.94-2.06 2.06-.94-2.06-.94L8.5 2.5l-.94 2.06-2.06.94zm10 10l.94 2.06.94-2.06 2.06-.94-2.06-.94-.94-2.06-.94 2.06-2.06.94z\"/><path d=\"M17.41 7.96l-1.37-1.37c-.4-.4-.92-.59-1.43-.59-.52 0-1.04.2-1.43.59L10.3 9.45l-7.72 7.72c-.78.78-.78 2.05 0 2.83L4 21.41c.39.39.9.59 1.41.59.51 0 1.02-.2 1.41-.59l7.78-7.78 2.81-2.81c.8-.78.8-2.07 0-2.86zM5.41 20L4 18.59l7.72-7.72 1.47 1.35L5.41 20z\"/>\n",
              "  </svg>\n",
              "      </button>\n",
              "      \n",
              "  <style>\n",
              "    .colab-df-container {\n",
              "      display:flex;\n",
              "      flex-wrap:wrap;\n",
              "      gap: 12px;\n",
              "    }\n",
              "\n",
              "    .colab-df-convert {\n",
              "      background-color: #E8F0FE;\n",
              "      border: none;\n",
              "      border-radius: 50%;\n",
              "      cursor: pointer;\n",
              "      display: none;\n",
              "      fill: #1967D2;\n",
              "      height: 32px;\n",
              "      padding: 0 0 0 0;\n",
              "      width: 32px;\n",
              "    }\n",
              "\n",
              "    .colab-df-convert:hover {\n",
              "      background-color: #E2EBFA;\n",
              "      box-shadow: 0px 1px 2px rgba(60, 64, 67, 0.3), 0px 1px 3px 1px rgba(60, 64, 67, 0.15);\n",
              "      fill: #174EA6;\n",
              "    }\n",
              "\n",
              "    [theme=dark] .colab-df-convert {\n",
              "      background-color: #3B4455;\n",
              "      fill: #D2E3FC;\n",
              "    }\n",
              "\n",
              "    [theme=dark] .colab-df-convert:hover {\n",
              "      background-color: #434B5C;\n",
              "      box-shadow: 0px 1px 3px 1px rgba(0, 0, 0, 0.15);\n",
              "      filter: drop-shadow(0px 1px 2px rgba(0, 0, 0, 0.3));\n",
              "      fill: #FFFFFF;\n",
              "    }\n",
              "  </style>\n",
              "\n",
              "      <script>\n",
              "        const buttonEl =\n",
              "          document.querySelector('#df-61ac853a-5f99-4e1c-ab51-e8850f59264f button.colab-df-convert');\n",
              "        buttonEl.style.display =\n",
              "          google.colab.kernel.accessAllowed ? 'block' : 'none';\n",
              "\n",
              "        async function convertToInteractive(key) {\n",
              "          const element = document.querySelector('#df-61ac853a-5f99-4e1c-ab51-e8850f59264f');\n",
              "          const dataTable =\n",
              "            await google.colab.kernel.invokeFunction('convertToInteractive',\n",
              "                                                     [key], {});\n",
              "          if (!dataTable) return;\n",
              "\n",
              "          const docLinkHtml = 'Like what you see? Visit the ' +\n",
              "            '<a target=\"_blank\" href=https://colab.research.google.com/notebooks/data_table.ipynb>data table notebook</a>'\n",
              "            + ' to learn more about interactive tables.';\n",
              "          element.innerHTML = '';\n",
              "          dataTable['output_type'] = 'display_data';\n",
              "          await google.colab.output.renderOutput(dataTable, element);\n",
              "          const docLink = document.createElement('div');\n",
              "          docLink.innerHTML = docLinkHtml;\n",
              "          element.appendChild(docLink);\n",
              "        }\n",
              "      </script>\n",
              "    </div>\n",
              "  </div>\n",
              "  "
            ]
          },
          "metadata": {},
          "execution_count": 109
        }
      ]
    },
    {
      "cell_type": "code",
      "source": [
        "test_results = pd.read_csv('/GD/My Drive/Colab Notebooks/Fanfiction/rating_test2.csv')\n",
        "test_results"
      ],
      "metadata": {
        "colab": {
          "base_uri": "https://localhost:8080/",
          "height": 423
        },
        "id": "Yn2weyw_IKXN",
        "outputId": "99c2567e-7bad-4ff8-cc4d-871e4a2ac928"
      },
      "execution_count": null,
      "outputs": [
        {
          "output_type": "execute_result",
          "data": {
            "text/plain": [
              "     SECTION\n",
              "0          2\n",
              "1          2\n",
              "2          1\n",
              "3          2\n",
              "4          2\n",
              "..       ...\n",
              "153        2\n",
              "154        2\n",
              "155        1\n",
              "156        2\n",
              "157        2\n",
              "\n",
              "[158 rows x 1 columns]"
            ],
            "text/html": [
              "\n",
              "  <div id=\"df-cde37ef7-dd7e-4c6b-bcdd-75e0dbf32839\">\n",
              "    <div class=\"colab-df-container\">\n",
              "      <div>\n",
              "<style scoped>\n",
              "    .dataframe tbody tr th:only-of-type {\n",
              "        vertical-align: middle;\n",
              "    }\n",
              "\n",
              "    .dataframe tbody tr th {\n",
              "        vertical-align: top;\n",
              "    }\n",
              "\n",
              "    .dataframe thead th {\n",
              "        text-align: right;\n",
              "    }\n",
              "</style>\n",
              "<table border=\"1\" class=\"dataframe\">\n",
              "  <thead>\n",
              "    <tr style=\"text-align: right;\">\n",
              "      <th></th>\n",
              "      <th>SECTION</th>\n",
              "    </tr>\n",
              "  </thead>\n",
              "  <tbody>\n",
              "    <tr>\n",
              "      <th>0</th>\n",
              "      <td>2</td>\n",
              "    </tr>\n",
              "    <tr>\n",
              "      <th>1</th>\n",
              "      <td>2</td>\n",
              "    </tr>\n",
              "    <tr>\n",
              "      <th>2</th>\n",
              "      <td>1</td>\n",
              "    </tr>\n",
              "    <tr>\n",
              "      <th>3</th>\n",
              "      <td>2</td>\n",
              "    </tr>\n",
              "    <tr>\n",
              "      <th>4</th>\n",
              "      <td>2</td>\n",
              "    </tr>\n",
              "    <tr>\n",
              "      <th>...</th>\n",
              "      <td>...</td>\n",
              "    </tr>\n",
              "    <tr>\n",
              "      <th>153</th>\n",
              "      <td>2</td>\n",
              "    </tr>\n",
              "    <tr>\n",
              "      <th>154</th>\n",
              "      <td>2</td>\n",
              "    </tr>\n",
              "    <tr>\n",
              "      <th>155</th>\n",
              "      <td>1</td>\n",
              "    </tr>\n",
              "    <tr>\n",
              "      <th>156</th>\n",
              "      <td>2</td>\n",
              "    </tr>\n",
              "    <tr>\n",
              "      <th>157</th>\n",
              "      <td>2</td>\n",
              "    </tr>\n",
              "  </tbody>\n",
              "</table>\n",
              "<p>158 rows × 1 columns</p>\n",
              "</div>\n",
              "      <button class=\"colab-df-convert\" onclick=\"convertToInteractive('df-cde37ef7-dd7e-4c6b-bcdd-75e0dbf32839')\"\n",
              "              title=\"Convert this dataframe to an interactive table.\"\n",
              "              style=\"display:none;\">\n",
              "        \n",
              "  <svg xmlns=\"http://www.w3.org/2000/svg\" height=\"24px\"viewBox=\"0 0 24 24\"\n",
              "       width=\"24px\">\n",
              "    <path d=\"M0 0h24v24H0V0z\" fill=\"none\"/>\n",
              "    <path d=\"M18.56 5.44l.94 2.06.94-2.06 2.06-.94-2.06-.94-.94-2.06-.94 2.06-2.06.94zm-11 1L8.5 8.5l.94-2.06 2.06-.94-2.06-.94L8.5 2.5l-.94 2.06-2.06.94zm10 10l.94 2.06.94-2.06 2.06-.94-2.06-.94-.94-2.06-.94 2.06-2.06.94z\"/><path d=\"M17.41 7.96l-1.37-1.37c-.4-.4-.92-.59-1.43-.59-.52 0-1.04.2-1.43.59L10.3 9.45l-7.72 7.72c-.78.78-.78 2.05 0 2.83L4 21.41c.39.39.9.59 1.41.59.51 0 1.02-.2 1.41-.59l7.78-7.78 2.81-2.81c.8-.78.8-2.07 0-2.86zM5.41 20L4 18.59l7.72-7.72 1.47 1.35L5.41 20z\"/>\n",
              "  </svg>\n",
              "      </button>\n",
              "      \n",
              "  <style>\n",
              "    .colab-df-container {\n",
              "      display:flex;\n",
              "      flex-wrap:wrap;\n",
              "      gap: 12px;\n",
              "    }\n",
              "\n",
              "    .colab-df-convert {\n",
              "      background-color: #E8F0FE;\n",
              "      border: none;\n",
              "      border-radius: 50%;\n",
              "      cursor: pointer;\n",
              "      display: none;\n",
              "      fill: #1967D2;\n",
              "      height: 32px;\n",
              "      padding: 0 0 0 0;\n",
              "      width: 32px;\n",
              "    }\n",
              "\n",
              "    .colab-df-convert:hover {\n",
              "      background-color: #E2EBFA;\n",
              "      box-shadow: 0px 1px 2px rgba(60, 64, 67, 0.3), 0px 1px 3px 1px rgba(60, 64, 67, 0.15);\n",
              "      fill: #174EA6;\n",
              "    }\n",
              "\n",
              "    [theme=dark] .colab-df-convert {\n",
              "      background-color: #3B4455;\n",
              "      fill: #D2E3FC;\n",
              "    }\n",
              "\n",
              "    [theme=dark] .colab-df-convert:hover {\n",
              "      background-color: #434B5C;\n",
              "      box-shadow: 0px 1px 3px 1px rgba(0, 0, 0, 0.15);\n",
              "      filter: drop-shadow(0px 1px 2px rgba(0, 0, 0, 0.3));\n",
              "      fill: #FFFFFF;\n",
              "    }\n",
              "  </style>\n",
              "\n",
              "      <script>\n",
              "        const buttonEl =\n",
              "          document.querySelector('#df-cde37ef7-dd7e-4c6b-bcdd-75e0dbf32839 button.colab-df-convert');\n",
              "        buttonEl.style.display =\n",
              "          google.colab.kernel.accessAllowed ? 'block' : 'none';\n",
              "\n",
              "        async function convertToInteractive(key) {\n",
              "          const element = document.querySelector('#df-cde37ef7-dd7e-4c6b-bcdd-75e0dbf32839');\n",
              "          const dataTable =\n",
              "            await google.colab.kernel.invokeFunction('convertToInteractive',\n",
              "                                                     [key], {});\n",
              "          if (!dataTable) return;\n",
              "\n",
              "          const docLinkHtml = 'Like what you see? Visit the ' +\n",
              "            '<a target=\"_blank\" href=https://colab.research.google.com/notebooks/data_table.ipynb>data table notebook</a>'\n",
              "            + ' to learn more about interactive tables.';\n",
              "          element.innerHTML = '';\n",
              "          dataTable['output_type'] = 'display_data';\n",
              "          await google.colab.output.renderOutput(dataTable, element);\n",
              "          const docLink = document.createElement('div');\n",
              "          docLink.innerHTML = docLinkHtml;\n",
              "          element.appendChild(docLink);\n",
              "        }\n",
              "      </script>\n",
              "    </div>\n",
              "  </div>\n",
              "  "
            ]
          },
          "metadata": {},
          "execution_count": 111
        }
      ]
    },
    {
      "cell_type": "code",
      "source": [
        "correct = 0\n",
        "for i in range(len(test_results)):\n",
        "   if i not in LoD:\n",
        "      if test_results['SECTION'][i] == test['Rating_Code'][i]:\n",
        "   \n",
        "        correct +=1\n",
        "print(f\"{correct} out of {len(test_results)}\")\n",
        "print(f\"{correct/len(test_results)}\")"
      ],
      "metadata": {
        "colab": {
          "base_uri": "https://localhost:8080/"
        },
        "id": "7F9opll5XZTg",
        "outputId": "b79d1bdc-b64a-4db0-b9a5-b49cba5671e0"
      },
      "execution_count": null,
      "outputs": [
        {
          "output_type": "stream",
          "name": "stdout",
          "text": [
            "29 out of 158\n",
            "0.18354430379746836\n"
          ]
        }
      ]
    },
    {
      "cell_type": "markdown",
      "source": [
        "29 out of 158\n",
        "0.18354430379746836\n",
        "18% accuracy\n",
        " was using my new data with 200 fics taken from general works. I think the problem is... that there aren't enough general fics!"
      ],
      "metadata": {
        "id": "ugXjtxkkc-2H"
      }
    },
    {
      "cell_type": "markdown",
      "source": [
        "I think I will try again but try it on the scraped data instead I will swap training and test data..."
      ],
      "metadata": {
        "id": "ULGf5Cbuc9bF"
      }
    },
    {
      "cell_type": "code",
      "source": [
        "#Classifying random sentences\n",
        "tests = getPrediction(['sex and sexy ',\n",
        "                       'We played until dawn',\n",
        "                       'True love is here',\n",
        "                       'He gave me a hug'\n",
        "                       ])"
      ],
      "metadata": {
        "colab": {
          "base_uri": "https://localhost:8080/"
        },
        "id": "KetGNXIqGfZo",
        "outputId": "fb68c794-2178-4f8d-a38d-adc8caa62113"
      },
      "execution_count": null,
      "outputs": [
        {
          "output_type": "stream",
          "name": "stdout",
          "text": [
            "INFO:tensorflow:Writing example 0 of 4\n"
          ]
        },
        {
          "output_type": "stream",
          "name": "stderr",
          "text": [
            "INFO:tensorflow:Writing example 0 of 4\n"
          ]
        },
        {
          "output_type": "stream",
          "name": "stdout",
          "text": [
            "INFO:tensorflow:*** Example ***\n"
          ]
        },
        {
          "output_type": "stream",
          "name": "stderr",
          "text": [
            "INFO:tensorflow:*** Example ***\n"
          ]
        },
        {
          "output_type": "stream",
          "name": "stdout",
          "text": [
            "INFO:tensorflow:guid: \n"
          ]
        },
        {
          "output_type": "stream",
          "name": "stderr",
          "text": [
            "INFO:tensorflow:guid: \n"
          ]
        },
        {
          "output_type": "stream",
          "name": "stdout",
          "text": [
            "INFO:tensorflow:tokens: [CLS] sex and sexy [SEP]\n"
          ]
        },
        {
          "output_type": "stream",
          "name": "stderr",
          "text": [
            "INFO:tensorflow:tokens: [CLS] sex and sexy [SEP]\n"
          ]
        },
        {
          "output_type": "stream",
          "name": "stdout",
          "text": [
            "INFO:tensorflow:input_ids: 101 3348 1998 7916 102 0 0 0 0 0 0 0 0 0 0 0 0 0 0 0 0 0 0 0 0 0 0 0 0 0 0 0 0 0 0 0 0 0 0 0 0 0 0 0 0 0 0 0 0 0 0 0 0 0 0 0 0 0 0 0 0 0 0 0 0 0 0 0 0 0 0 0 0 0 0 0 0 0 0 0 0 0 0 0 0 0 0 0 0 0 0 0 0 0 0 0 0 0 0 0 0 0 0 0 0 0 0 0 0 0 0 0 0 0 0 0 0 0 0 0 0 0 0 0 0\n"
          ]
        },
        {
          "output_type": "stream",
          "name": "stderr",
          "text": [
            "INFO:tensorflow:input_ids: 101 3348 1998 7916 102 0 0 0 0 0 0 0 0 0 0 0 0 0 0 0 0 0 0 0 0 0 0 0 0 0 0 0 0 0 0 0 0 0 0 0 0 0 0 0 0 0 0 0 0 0 0 0 0 0 0 0 0 0 0 0 0 0 0 0 0 0 0 0 0 0 0 0 0 0 0 0 0 0 0 0 0 0 0 0 0 0 0 0 0 0 0 0 0 0 0 0 0 0 0 0 0 0 0 0 0 0 0 0 0 0 0 0 0 0 0 0 0 0 0 0 0 0 0 0 0\n"
          ]
        },
        {
          "output_type": "stream",
          "name": "stdout",
          "text": [
            "INFO:tensorflow:input_mask: 1 1 1 1 1 0 0 0 0 0 0 0 0 0 0 0 0 0 0 0 0 0 0 0 0 0 0 0 0 0 0 0 0 0 0 0 0 0 0 0 0 0 0 0 0 0 0 0 0 0 0 0 0 0 0 0 0 0 0 0 0 0 0 0 0 0 0 0 0 0 0 0 0 0 0 0 0 0 0 0 0 0 0 0 0 0 0 0 0 0 0 0 0 0 0 0 0 0 0 0 0 0 0 0 0 0 0 0 0 0 0 0 0 0 0 0 0 0 0 0 0 0 0 0 0\n"
          ]
        },
        {
          "output_type": "stream",
          "name": "stderr",
          "text": [
            "INFO:tensorflow:input_mask: 1 1 1 1 1 0 0 0 0 0 0 0 0 0 0 0 0 0 0 0 0 0 0 0 0 0 0 0 0 0 0 0 0 0 0 0 0 0 0 0 0 0 0 0 0 0 0 0 0 0 0 0 0 0 0 0 0 0 0 0 0 0 0 0 0 0 0 0 0 0 0 0 0 0 0 0 0 0 0 0 0 0 0 0 0 0 0 0 0 0 0 0 0 0 0 0 0 0 0 0 0 0 0 0 0 0 0 0 0 0 0 0 0 0 0 0 0 0 0 0 0 0 0 0 0\n"
          ]
        },
        {
          "output_type": "stream",
          "name": "stdout",
          "text": [
            "INFO:tensorflow:segment_ids: 0 0 0 0 0 0 0 0 0 0 0 0 0 0 0 0 0 0 0 0 0 0 0 0 0 0 0 0 0 0 0 0 0 0 0 0 0 0 0 0 0 0 0 0 0 0 0 0 0 0 0 0 0 0 0 0 0 0 0 0 0 0 0 0 0 0 0 0 0 0 0 0 0 0 0 0 0 0 0 0 0 0 0 0 0 0 0 0 0 0 0 0 0 0 0 0 0 0 0 0 0 0 0 0 0 0 0 0 0 0 0 0 0 0 0 0 0 0 0 0 0 0 0 0 0\n"
          ]
        },
        {
          "output_type": "stream",
          "name": "stderr",
          "text": [
            "INFO:tensorflow:segment_ids: 0 0 0 0 0 0 0 0 0 0 0 0 0 0 0 0 0 0 0 0 0 0 0 0 0 0 0 0 0 0 0 0 0 0 0 0 0 0 0 0 0 0 0 0 0 0 0 0 0 0 0 0 0 0 0 0 0 0 0 0 0 0 0 0 0 0 0 0 0 0 0 0 0 0 0 0 0 0 0 0 0 0 0 0 0 0 0 0 0 0 0 0 0 0 0 0 0 0 0 0 0 0 0 0 0 0 0 0 0 0 0 0 0 0 0 0 0 0 0 0 0 0 0 0 0\n"
          ]
        },
        {
          "output_type": "stream",
          "name": "stdout",
          "text": [
            "INFO:tensorflow:label: 0 (id = 0)\n"
          ]
        },
        {
          "output_type": "stream",
          "name": "stderr",
          "text": [
            "INFO:tensorflow:label: 0 (id = 0)\n"
          ]
        },
        {
          "output_type": "stream",
          "name": "stdout",
          "text": [
            "INFO:tensorflow:*** Example ***\n"
          ]
        },
        {
          "output_type": "stream",
          "name": "stderr",
          "text": [
            "INFO:tensorflow:*** Example ***\n"
          ]
        },
        {
          "output_type": "stream",
          "name": "stdout",
          "text": [
            "INFO:tensorflow:guid: \n"
          ]
        },
        {
          "output_type": "stream",
          "name": "stderr",
          "text": [
            "INFO:tensorflow:guid: \n"
          ]
        },
        {
          "output_type": "stream",
          "name": "stdout",
          "text": [
            "INFO:tensorflow:tokens: [CLS] we played until dawn [SEP]\n"
          ]
        },
        {
          "output_type": "stream",
          "name": "stderr",
          "text": [
            "INFO:tensorflow:tokens: [CLS] we played until dawn [SEP]\n"
          ]
        },
        {
          "output_type": "stream",
          "name": "stdout",
          "text": [
            "INFO:tensorflow:input_ids: 101 2057 2209 2127 6440 102 0 0 0 0 0 0 0 0 0 0 0 0 0 0 0 0 0 0 0 0 0 0 0 0 0 0 0 0 0 0 0 0 0 0 0 0 0 0 0 0 0 0 0 0 0 0 0 0 0 0 0 0 0 0 0 0 0 0 0 0 0 0 0 0 0 0 0 0 0 0 0 0 0 0 0 0 0 0 0 0 0 0 0 0 0 0 0 0 0 0 0 0 0 0 0 0 0 0 0 0 0 0 0 0 0 0 0 0 0 0 0 0 0 0 0 0 0 0 0\n"
          ]
        },
        {
          "output_type": "stream",
          "name": "stderr",
          "text": [
            "INFO:tensorflow:input_ids: 101 2057 2209 2127 6440 102 0 0 0 0 0 0 0 0 0 0 0 0 0 0 0 0 0 0 0 0 0 0 0 0 0 0 0 0 0 0 0 0 0 0 0 0 0 0 0 0 0 0 0 0 0 0 0 0 0 0 0 0 0 0 0 0 0 0 0 0 0 0 0 0 0 0 0 0 0 0 0 0 0 0 0 0 0 0 0 0 0 0 0 0 0 0 0 0 0 0 0 0 0 0 0 0 0 0 0 0 0 0 0 0 0 0 0 0 0 0 0 0 0 0 0 0 0 0 0\n"
          ]
        },
        {
          "output_type": "stream",
          "name": "stdout",
          "text": [
            "INFO:tensorflow:input_mask: 1 1 1 1 1 1 0 0 0 0 0 0 0 0 0 0 0 0 0 0 0 0 0 0 0 0 0 0 0 0 0 0 0 0 0 0 0 0 0 0 0 0 0 0 0 0 0 0 0 0 0 0 0 0 0 0 0 0 0 0 0 0 0 0 0 0 0 0 0 0 0 0 0 0 0 0 0 0 0 0 0 0 0 0 0 0 0 0 0 0 0 0 0 0 0 0 0 0 0 0 0 0 0 0 0 0 0 0 0 0 0 0 0 0 0 0 0 0 0 0 0 0 0 0 0\n"
          ]
        },
        {
          "output_type": "stream",
          "name": "stderr",
          "text": [
            "INFO:tensorflow:input_mask: 1 1 1 1 1 1 0 0 0 0 0 0 0 0 0 0 0 0 0 0 0 0 0 0 0 0 0 0 0 0 0 0 0 0 0 0 0 0 0 0 0 0 0 0 0 0 0 0 0 0 0 0 0 0 0 0 0 0 0 0 0 0 0 0 0 0 0 0 0 0 0 0 0 0 0 0 0 0 0 0 0 0 0 0 0 0 0 0 0 0 0 0 0 0 0 0 0 0 0 0 0 0 0 0 0 0 0 0 0 0 0 0 0 0 0 0 0 0 0 0 0 0 0 0 0\n"
          ]
        },
        {
          "output_type": "stream",
          "name": "stdout",
          "text": [
            "INFO:tensorflow:segment_ids: 0 0 0 0 0 0 0 0 0 0 0 0 0 0 0 0 0 0 0 0 0 0 0 0 0 0 0 0 0 0 0 0 0 0 0 0 0 0 0 0 0 0 0 0 0 0 0 0 0 0 0 0 0 0 0 0 0 0 0 0 0 0 0 0 0 0 0 0 0 0 0 0 0 0 0 0 0 0 0 0 0 0 0 0 0 0 0 0 0 0 0 0 0 0 0 0 0 0 0 0 0 0 0 0 0 0 0 0 0 0 0 0 0 0 0 0 0 0 0 0 0 0 0 0 0\n"
          ]
        },
        {
          "output_type": "stream",
          "name": "stderr",
          "text": [
            "INFO:tensorflow:segment_ids: 0 0 0 0 0 0 0 0 0 0 0 0 0 0 0 0 0 0 0 0 0 0 0 0 0 0 0 0 0 0 0 0 0 0 0 0 0 0 0 0 0 0 0 0 0 0 0 0 0 0 0 0 0 0 0 0 0 0 0 0 0 0 0 0 0 0 0 0 0 0 0 0 0 0 0 0 0 0 0 0 0 0 0 0 0 0 0 0 0 0 0 0 0 0 0 0 0 0 0 0 0 0 0 0 0 0 0 0 0 0 0 0 0 0 0 0 0 0 0 0 0 0 0 0 0\n"
          ]
        },
        {
          "output_type": "stream",
          "name": "stdout",
          "text": [
            "INFO:tensorflow:label: 0 (id = 0)\n"
          ]
        },
        {
          "output_type": "stream",
          "name": "stderr",
          "text": [
            "INFO:tensorflow:label: 0 (id = 0)\n"
          ]
        },
        {
          "output_type": "stream",
          "name": "stdout",
          "text": [
            "INFO:tensorflow:*** Example ***\n"
          ]
        },
        {
          "output_type": "stream",
          "name": "stderr",
          "text": [
            "INFO:tensorflow:*** Example ***\n"
          ]
        },
        {
          "output_type": "stream",
          "name": "stdout",
          "text": [
            "INFO:tensorflow:guid: \n"
          ]
        },
        {
          "output_type": "stream",
          "name": "stderr",
          "text": [
            "INFO:tensorflow:guid: \n"
          ]
        },
        {
          "output_type": "stream",
          "name": "stdout",
          "text": [
            "INFO:tensorflow:tokens: [CLS] true love is here [SEP]\n"
          ]
        },
        {
          "output_type": "stream",
          "name": "stderr",
          "text": [
            "INFO:tensorflow:tokens: [CLS] true love is here [SEP]\n"
          ]
        },
        {
          "output_type": "stream",
          "name": "stdout",
          "text": [
            "INFO:tensorflow:input_ids: 101 2995 2293 2003 2182 102 0 0 0 0 0 0 0 0 0 0 0 0 0 0 0 0 0 0 0 0 0 0 0 0 0 0 0 0 0 0 0 0 0 0 0 0 0 0 0 0 0 0 0 0 0 0 0 0 0 0 0 0 0 0 0 0 0 0 0 0 0 0 0 0 0 0 0 0 0 0 0 0 0 0 0 0 0 0 0 0 0 0 0 0 0 0 0 0 0 0 0 0 0 0 0 0 0 0 0 0 0 0 0 0 0 0 0 0 0 0 0 0 0 0 0 0 0 0 0\n"
          ]
        },
        {
          "output_type": "stream",
          "name": "stderr",
          "text": [
            "INFO:tensorflow:input_ids: 101 2995 2293 2003 2182 102 0 0 0 0 0 0 0 0 0 0 0 0 0 0 0 0 0 0 0 0 0 0 0 0 0 0 0 0 0 0 0 0 0 0 0 0 0 0 0 0 0 0 0 0 0 0 0 0 0 0 0 0 0 0 0 0 0 0 0 0 0 0 0 0 0 0 0 0 0 0 0 0 0 0 0 0 0 0 0 0 0 0 0 0 0 0 0 0 0 0 0 0 0 0 0 0 0 0 0 0 0 0 0 0 0 0 0 0 0 0 0 0 0 0 0 0 0 0 0\n"
          ]
        },
        {
          "output_type": "stream",
          "name": "stdout",
          "text": [
            "INFO:tensorflow:input_mask: 1 1 1 1 1 1 0 0 0 0 0 0 0 0 0 0 0 0 0 0 0 0 0 0 0 0 0 0 0 0 0 0 0 0 0 0 0 0 0 0 0 0 0 0 0 0 0 0 0 0 0 0 0 0 0 0 0 0 0 0 0 0 0 0 0 0 0 0 0 0 0 0 0 0 0 0 0 0 0 0 0 0 0 0 0 0 0 0 0 0 0 0 0 0 0 0 0 0 0 0 0 0 0 0 0 0 0 0 0 0 0 0 0 0 0 0 0 0 0 0 0 0 0 0 0\n"
          ]
        },
        {
          "output_type": "stream",
          "name": "stderr",
          "text": [
            "INFO:tensorflow:input_mask: 1 1 1 1 1 1 0 0 0 0 0 0 0 0 0 0 0 0 0 0 0 0 0 0 0 0 0 0 0 0 0 0 0 0 0 0 0 0 0 0 0 0 0 0 0 0 0 0 0 0 0 0 0 0 0 0 0 0 0 0 0 0 0 0 0 0 0 0 0 0 0 0 0 0 0 0 0 0 0 0 0 0 0 0 0 0 0 0 0 0 0 0 0 0 0 0 0 0 0 0 0 0 0 0 0 0 0 0 0 0 0 0 0 0 0 0 0 0 0 0 0 0 0 0 0\n"
          ]
        },
        {
          "output_type": "stream",
          "name": "stdout",
          "text": [
            "INFO:tensorflow:segment_ids: 0 0 0 0 0 0 0 0 0 0 0 0 0 0 0 0 0 0 0 0 0 0 0 0 0 0 0 0 0 0 0 0 0 0 0 0 0 0 0 0 0 0 0 0 0 0 0 0 0 0 0 0 0 0 0 0 0 0 0 0 0 0 0 0 0 0 0 0 0 0 0 0 0 0 0 0 0 0 0 0 0 0 0 0 0 0 0 0 0 0 0 0 0 0 0 0 0 0 0 0 0 0 0 0 0 0 0 0 0 0 0 0 0 0 0 0 0 0 0 0 0 0 0 0 0\n"
          ]
        },
        {
          "output_type": "stream",
          "name": "stderr",
          "text": [
            "INFO:tensorflow:segment_ids: 0 0 0 0 0 0 0 0 0 0 0 0 0 0 0 0 0 0 0 0 0 0 0 0 0 0 0 0 0 0 0 0 0 0 0 0 0 0 0 0 0 0 0 0 0 0 0 0 0 0 0 0 0 0 0 0 0 0 0 0 0 0 0 0 0 0 0 0 0 0 0 0 0 0 0 0 0 0 0 0 0 0 0 0 0 0 0 0 0 0 0 0 0 0 0 0 0 0 0 0 0 0 0 0 0 0 0 0 0 0 0 0 0 0 0 0 0 0 0 0 0 0 0 0 0\n"
          ]
        },
        {
          "output_type": "stream",
          "name": "stdout",
          "text": [
            "INFO:tensorflow:label: 0 (id = 0)\n"
          ]
        },
        {
          "output_type": "stream",
          "name": "stderr",
          "text": [
            "INFO:tensorflow:label: 0 (id = 0)\n"
          ]
        },
        {
          "output_type": "stream",
          "name": "stdout",
          "text": [
            "INFO:tensorflow:*** Example ***\n"
          ]
        },
        {
          "output_type": "stream",
          "name": "stderr",
          "text": [
            "INFO:tensorflow:*** Example ***\n"
          ]
        },
        {
          "output_type": "stream",
          "name": "stdout",
          "text": [
            "INFO:tensorflow:guid: \n"
          ]
        },
        {
          "output_type": "stream",
          "name": "stderr",
          "text": [
            "INFO:tensorflow:guid: \n"
          ]
        },
        {
          "output_type": "stream",
          "name": "stdout",
          "text": [
            "INFO:tensorflow:tokens: [CLS] he gave me a hug [SEP]\n"
          ]
        },
        {
          "output_type": "stream",
          "name": "stderr",
          "text": [
            "INFO:tensorflow:tokens: [CLS] he gave me a hug [SEP]\n"
          ]
        },
        {
          "output_type": "stream",
          "name": "stdout",
          "text": [
            "INFO:tensorflow:input_ids: 101 2002 2435 2033 1037 8549 102 0 0 0 0 0 0 0 0 0 0 0 0 0 0 0 0 0 0 0 0 0 0 0 0 0 0 0 0 0 0 0 0 0 0 0 0 0 0 0 0 0 0 0 0 0 0 0 0 0 0 0 0 0 0 0 0 0 0 0 0 0 0 0 0 0 0 0 0 0 0 0 0 0 0 0 0 0 0 0 0 0 0 0 0 0 0 0 0 0 0 0 0 0 0 0 0 0 0 0 0 0 0 0 0 0 0 0 0 0 0 0 0 0 0 0 0 0 0\n"
          ]
        },
        {
          "output_type": "stream",
          "name": "stderr",
          "text": [
            "INFO:tensorflow:input_ids: 101 2002 2435 2033 1037 8549 102 0 0 0 0 0 0 0 0 0 0 0 0 0 0 0 0 0 0 0 0 0 0 0 0 0 0 0 0 0 0 0 0 0 0 0 0 0 0 0 0 0 0 0 0 0 0 0 0 0 0 0 0 0 0 0 0 0 0 0 0 0 0 0 0 0 0 0 0 0 0 0 0 0 0 0 0 0 0 0 0 0 0 0 0 0 0 0 0 0 0 0 0 0 0 0 0 0 0 0 0 0 0 0 0 0 0 0 0 0 0 0 0 0 0 0 0 0 0\n"
          ]
        },
        {
          "output_type": "stream",
          "name": "stdout",
          "text": [
            "INFO:tensorflow:input_mask: 1 1 1 1 1 1 1 0 0 0 0 0 0 0 0 0 0 0 0 0 0 0 0 0 0 0 0 0 0 0 0 0 0 0 0 0 0 0 0 0 0 0 0 0 0 0 0 0 0 0 0 0 0 0 0 0 0 0 0 0 0 0 0 0 0 0 0 0 0 0 0 0 0 0 0 0 0 0 0 0 0 0 0 0 0 0 0 0 0 0 0 0 0 0 0 0 0 0 0 0 0 0 0 0 0 0 0 0 0 0 0 0 0 0 0 0 0 0 0 0 0 0 0 0 0\n"
          ]
        },
        {
          "output_type": "stream",
          "name": "stderr",
          "text": [
            "INFO:tensorflow:input_mask: 1 1 1 1 1 1 1 0 0 0 0 0 0 0 0 0 0 0 0 0 0 0 0 0 0 0 0 0 0 0 0 0 0 0 0 0 0 0 0 0 0 0 0 0 0 0 0 0 0 0 0 0 0 0 0 0 0 0 0 0 0 0 0 0 0 0 0 0 0 0 0 0 0 0 0 0 0 0 0 0 0 0 0 0 0 0 0 0 0 0 0 0 0 0 0 0 0 0 0 0 0 0 0 0 0 0 0 0 0 0 0 0 0 0 0 0 0 0 0 0 0 0 0 0 0\n"
          ]
        },
        {
          "output_type": "stream",
          "name": "stdout",
          "text": [
            "INFO:tensorflow:segment_ids: 0 0 0 0 0 0 0 0 0 0 0 0 0 0 0 0 0 0 0 0 0 0 0 0 0 0 0 0 0 0 0 0 0 0 0 0 0 0 0 0 0 0 0 0 0 0 0 0 0 0 0 0 0 0 0 0 0 0 0 0 0 0 0 0 0 0 0 0 0 0 0 0 0 0 0 0 0 0 0 0 0 0 0 0 0 0 0 0 0 0 0 0 0 0 0 0 0 0 0 0 0 0 0 0 0 0 0 0 0 0 0 0 0 0 0 0 0 0 0 0 0 0 0 0 0\n"
          ]
        },
        {
          "output_type": "stream",
          "name": "stderr",
          "text": [
            "INFO:tensorflow:segment_ids: 0 0 0 0 0 0 0 0 0 0 0 0 0 0 0 0 0 0 0 0 0 0 0 0 0 0 0 0 0 0 0 0 0 0 0 0 0 0 0 0 0 0 0 0 0 0 0 0 0 0 0 0 0 0 0 0 0 0 0 0 0 0 0 0 0 0 0 0 0 0 0 0 0 0 0 0 0 0 0 0 0 0 0 0 0 0 0 0 0 0 0 0 0 0 0 0 0 0 0 0 0 0 0 0 0 0 0 0 0 0 0 0 0 0 0 0 0 0 0 0 0 0 0 0 0\n"
          ]
        },
        {
          "output_type": "stream",
          "name": "stdout",
          "text": [
            "INFO:tensorflow:label: 0 (id = 0)\n"
          ]
        },
        {
          "output_type": "stream",
          "name": "stderr",
          "text": [
            "INFO:tensorflow:label: 0 (id = 0)\n"
          ]
        },
        {
          "output_type": "stream",
          "name": "stdout",
          "text": [
            "INFO:tensorflow:Calling model_fn.\n"
          ]
        },
        {
          "output_type": "stream",
          "name": "stderr",
          "text": [
            "INFO:tensorflow:Calling model_fn.\n"
          ]
        },
        {
          "output_type": "stream",
          "name": "stdout",
          "text": [
            "INFO:tensorflow:Saver not created because there are no variables in the graph to restore\n"
          ]
        },
        {
          "output_type": "stream",
          "name": "stderr",
          "text": [
            "INFO:tensorflow:Saver not created because there are no variables in the graph to restore\n"
          ]
        },
        {
          "output_type": "stream",
          "name": "stdout",
          "text": [
            "INFO:tensorflow:Done calling model_fn.\n"
          ]
        },
        {
          "output_type": "stream",
          "name": "stderr",
          "text": [
            "INFO:tensorflow:Done calling model_fn.\n"
          ]
        },
        {
          "output_type": "stream",
          "name": "stdout",
          "text": [
            "INFO:tensorflow:Graph was finalized.\n"
          ]
        },
        {
          "output_type": "stream",
          "name": "stderr",
          "text": [
            "INFO:tensorflow:Graph was finalized.\n"
          ]
        },
        {
          "output_type": "stream",
          "name": "stdout",
          "text": [
            "INFO:tensorflow:Restoring parameters from /GD/My Drive/Colab Notebooks/BERT/bert_rating_category/model.ckpt-37\n"
          ]
        },
        {
          "output_type": "stream",
          "name": "stderr",
          "text": [
            "INFO:tensorflow:Restoring parameters from /GD/My Drive/Colab Notebooks/BERT/bert_rating_category/model.ckpt-37\n"
          ]
        },
        {
          "output_type": "stream",
          "name": "stdout",
          "text": [
            "INFO:tensorflow:Running local_init_op.\n"
          ]
        },
        {
          "output_type": "stream",
          "name": "stderr",
          "text": [
            "INFO:tensorflow:Running local_init_op.\n"
          ]
        },
        {
          "output_type": "stream",
          "name": "stdout",
          "text": [
            "INFO:tensorflow:Done running local_init_op.\n"
          ]
        },
        {
          "output_type": "stream",
          "name": "stderr",
          "text": [
            "INFO:tensorflow:Done running local_init_op.\n"
          ]
        }
      ]
    },
    {
      "cell_type": "code",
      "source": [
        "tests"
      ],
      "metadata": {
        "colab": {
          "base_uri": "https://localhost:8080/"
        },
        "id": "qkEm2jEiG0mN",
        "outputId": "1c037f1f-31eb-4e1f-ae3a-dbff516f7aae"
      },
      "execution_count": null,
      "outputs": [
        {
          "output_type": "execute_result",
          "data": {
            "text/plain": [
              "[('sex and sexy ',\n",
              "  array([-0.9775003, -1.5217894, -1.7241334, -1.4823598], dtype=float32),\n",
              "  0,\n",
              "  'General Audiences'),\n",
              " ('We played until dawn',\n",
              "  array([-1.1220405, -1.4527211, -1.4242024, -1.6106786], dtype=float32),\n",
              "  0,\n",
              "  'General Audiences'),\n",
              " ('True love is here',\n",
              "  array([-0.99942636, -1.5335482 , -1.4531901 , -1.7020048 ], dtype=float32),\n",
              "  0,\n",
              "  'General Audiences'),\n",
              " ('He gave me a hug',\n",
              "  array([-0.93998003, -1.491766  , -1.6470366 , -1.6514614 ], dtype=float32),\n",
              "  0,\n",
              "  'General Audiences')]"
            ]
          },
          "metadata": {},
          "execution_count": 70
        }
      ]
    },
    {
      "cell_type": "markdown",
      "source": [
        "Okay this was pretty bad..."
      ],
      "metadata": {
        "id": "RtJjlkl5dTtC"
      }
    },
    {
      "cell_type": "code",
      "source": [
        ""
      ],
      "metadata": {
        "id": "rLWpQbH8c7bW"
      },
      "execution_count": null,
      "outputs": []
    },
    {
      "cell_type": "code",
      "source": [
        ""
      ],
      "metadata": {
        "id": "ySMK9bZrc52c"
      },
      "execution_count": null,
      "outputs": []
    }
  ]
}